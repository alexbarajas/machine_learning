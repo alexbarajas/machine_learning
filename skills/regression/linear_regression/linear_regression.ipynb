{
 "cells": [
  {
   "cell_type": "markdown",
   "metadata": {},
   "source": [
    "# Linear Regression"
   ]
  },
  {
   "cell_type": "markdown",
   "metadata": {},
   "source": [
    "## Definition"
   ]
  },
  {
   "cell_type": "markdown",
   "metadata": {},
   "source": [
    "Linear regression is a statistical method used to model the relationship between a dependent (target) variable and one or more independent variables by fitting a linear equation to observed data."
   ]
  },
  {
   "cell_type": "markdown",
   "metadata": {},
   "source": [
    "## When to Use"
   ]
  },
  {
   "cell_type": "markdown",
   "metadata": {},
   "source": [
    "Linear regression is a simple model that's suitable when:\n",
    "\n",
    "- The relationship between the variables is linear.\n",
    "- You want to predict a continuous outcome.\n",
    "- The data meets the assumptions of linear regression."
   ]
  },
  {
   "cell_type": "markdown",
   "metadata": {},
   "source": [
    "## Building a Model"
   ]
  },
  {
   "cell_type": "markdown",
   "metadata": {},
   "source": [
    "Here we will be creating linear regression models so it's easy to understand."
   ]
  },
  {
   "cell_type": "markdown",
   "metadata": {},
   "source": [
    "### Simple Linear Regression"
   ]
  },
  {
   "cell_type": "markdown",
   "metadata": {},
   "source": [
    "For a simple linear regression model (one independent variable), the equation of the line is:\n",
    "\n",
    "$$ y = mx+b $$\n",
    "\n",
    "Where:\n",
    "\n",
    "- y = dependent variable (target)\n",
    "- x = independent variable (feature)\n",
    "- m = slope (coefficient)\n",
    "- b = y-intercept"
   ]
  },
  {
   "cell_type": "markdown",
   "metadata": {},
   "source": [
    "The slope (m) and y-intercept (y) can be calculated using the formulas:\n",
    "\n",
    "$$ m = \\frac{N\\sum(xy) - \\sum(x)\\sum(y)}{N\\sum(x^2) - (\\sum(x))^2} $$\n",
    "\n",
    "$$ b = \\frac{\\sum(y) - m\\sum(x)}{N} $$\n",
    "\n",
    "Where:\n",
    "\n",
    "- $N$ = number of data points\n",
    "- $\\sum(xy)$ = sum of the product of x and y\n",
    "- $\\sum(x)$ = sum of x\n",
    "- $\\sum(y)$ = sum of y\n",
    "- $\\sum(x^2)$ = sum of sqaured x"
   ]
  },
  {
   "cell_type": "code",
   "execution_count": 50,
   "metadata": {},
   "outputs": [
    {
     "name": "stdout",
     "output_type": "stream",
     "text": [
      "Slope (m): 2.0\n",
      "Intercept (b): 0.0\n",
      "Predicted value for x = 34: 68.0\n"
     ]
    }
   ],
   "source": [
    "import numpy as np\n",
    "\n",
    "def simple_linear_regression(x, y):\n",
    "    N = len(x)\n",
    "    sum_x = np.sum(x)\n",
    "    sum_y = np.sum(y)\n",
    "    sum_xy = np.sum(x * y)\n",
    "    sum_x2 = np.sum(x ** 2)\n",
    "    \n",
    "    m = (N * sum_xy - sum_x * sum_y) / (N * sum_x2 - sum_x ** 2)\n",
    "    b = (sum_y - m * sum_x) / N\n",
    "    \n",
    "    return m, b\n",
    "\n",
    "x = np.array([1, 2, 3, 4, 5])\n",
    "y = np.array([2, 4, 6, 8, 10])\n",
    "\n",
    "m, b = simple_linear_regression(x, y)\n",
    "print(f\"Slope (m): {m}\")\n",
    "print(f\"Intercept (b): {b}\")\n",
    "\n",
    "def predict_simple_linear_regression(x_new):\n",
    "    return m * x_new + b\n",
    "\n",
    "x_new = 34\n",
    "y_pred = predict_simple_linear_regression(x_new)\n",
    "print(f\"Predicted value for x = {x_new}: {y_pred}\")"
   ]
  },
  {
   "cell_type": "markdown",
   "metadata": {},
   "source": [
    "### Multiple Linear Regression"
   ]
  },
  {
   "cell_type": "markdown",
   "metadata": {},
   "source": [
    "For multiple linear regression (more than one independent variable), the process involves solving a system of linear equations using matrix operations. The equation is:\n",
    "\n",
    "$$ \\beta = (X^TX)^{-1}X^Ty $$\n",
    "\n",
    "Where:\n",
    "\n",
    "- $\\beta$ = vector of coefficients\n",
    "- $X$ = matrix of independent variables (with a column of 1s for the intercept)\n",
    "- $y$ = vector of dependent variable values"
   ]
  },
  {
   "cell_type": "code",
   "execution_count": 66,
   "metadata": {},
   "outputs": [
    {
     "name": "stdout",
     "output_type": "stream",
     "text": [
      "Intercept: -0.1870412553783969\n",
      "Coefficients: [0.11212351 0.42723361]\n",
      "Predicted value for x = [3, 4]: 1.8582637307010805\n"
     ]
    }
   ],
   "source": [
    "def multiple_linear_regression(X, y):\n",
    "    ones = np.ones(X.shape[0])\n",
    "    X = np.column_stack([ones, X])\n",
    "\n",
    "    XTX = X.T.dot(X)\n",
    "    XTX_inv = np.linalg.inv(XTX)  # use np.linalg.pinv if XTX is singular\n",
    "    b = XTX_inv.dot(X.T).dot(y)\n",
    "\n",
    "    return b[0], b[1:]\n",
    "\n",
    "def predict_multiple_linear_regression(x_new, intercept, coefficients):\n",
    "    # ensure x_new is a numpy array\n",
    "    x_new = np.array(x_new)\n",
    "    \n",
    "    y_pred = intercept + np.dot(coefficients, x_new)\n",
    "    return y_pred\n",
    "\n",
    "X = np.array([[1, 5], [10, 4], [2, 9], [8, 7], [3, 6]])\n",
    "y = np.array([1, 2, 3, 4, 5])\n",
    "\n",
    "intercept, coefficients = multiple_linear_regression(X, y)\n",
    "print(f\"Intercept: {intercept}\")\n",
    "print(f\"Coefficients: {coefficients}\")\n",
    "\n",
    "x_new = [3, 4]\n",
    "y_pred = predict_multiple_linear_regression(x_new, intercept, coefficients)\n",
    "print(f\"Predicted value for x = {x_new}: {y_pred}\")"
   ]
  },
  {
   "cell_type": "markdown",
   "metadata": {},
   "source": [
    "## Example Using Scikit-Learn"
   ]
  },
  {
   "cell_type": "markdown",
   "metadata": {},
   "source": [
    "Here we will be using Scikit-Learn to apply linear regression."
   ]
  },
  {
   "cell_type": "code",
   "execution_count": 77,
   "metadata": {},
   "outputs": [
    {
     "name": "stdout",
     "output_type": "stream",
     "text": [
      "Predicted value for x = [[3 4]]: [1.85826373]\n"
     ]
    }
   ],
   "source": [
    "from sklearn.linear_model import LinearRegression\n",
    "\n",
    "X = np.array([[1, 5], [10, 4], [2, 9], [8, 7], [3, 6]])\n",
    "y = np.array([1, 2, 3, 4, 5])\n",
    "\n",
    "linear_regression = LinearRegression()\n",
    "linear_regression.fit(X, y)\n",
    "\n",
    "x_new = np.array([3, 4]).reshape(1, -1)  # use reshape(1, -1) to ensure x_new is a 2D array with 1 sample and 2 features\n",
    "\n",
    "y_pred = linear_regression.predict(x_new)\n",
    "print(f\"Predicted value for x = {x_new}: {y_pred}\")"
   ]
  }
 ],
 "metadata": {
  "kernelspec": {
   "display_name": "Python 3 (ipykernel)",
   "language": "python",
   "name": "python3"
  },
  "language_info": {
   "codemirror_mode": {
    "name": "ipython",
    "version": 3
   },
   "file_extension": ".py",
   "mimetype": "text/x-python",
   "name": "python",
   "nbconvert_exporter": "python",
   "pygments_lexer": "ipython3",
   "version": "3.10.15"
  }
 },
 "nbformat": 4,
 "nbformat_minor": 4
}
