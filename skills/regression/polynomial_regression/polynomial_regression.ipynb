{
 "cells": [
  {
   "cell_type": "markdown",
   "id": "a688786b-8fb8-4fee-9ace-6da3e9e40e14",
   "metadata": {},
   "source": [
    "# Polynomial Regression"
   ]
  },
  {
   "cell_type": "markdown",
   "id": "3620ca39-4e21-4064-bf7e-0df181908db0",
   "metadata": {},
   "source": [
    "## Definition"
   ]
  },
  {
   "cell_type": "markdown",
   "id": "c621daec-0324-480a-a9e5-5ea28f22662c",
   "metadata": {},
   "source": [
    "Polynomial regression is a form of regression analysis in which the relationship between the independent variable(s) and the dependent variable is modeled as an n-th degree polynomial. Linear regression is to the 1st degree. Polynomial regression allows for a more flexible fit to the data compared to linear regression."
   ]
  },
  {
   "cell_type": "markdown",
   "id": "28cdfc3d-3442-4df8-8122-61909de13ef8",
   "metadata": {},
   "source": [
    "## When to Use"
   ]
  },
  {
   "cell_type": "markdown",
   "id": "d0496ab2-8db5-4cb7-a01d-b02fd4c262f4",
   "metadata": {},
   "source": [
    "Polynomial regression is mainly used when there is a non-linear relationship between the independent and dependent variables. For analysis' that can't be properly modeled by a simple linear regression. If you make a plot of the data and see that there's a trend in the data that isn't linear, it would be a good idea to try polynomial regression."
   ]
  },
  {
   "cell_type": "markdown",
   "id": "d55ad2bd-790a-41d4-b2ed-cf9f5d97f805",
   "metadata": {},
   "source": [
    "## Building a Model"
   ]
  },
  {
   "cell_type": "markdown",
   "id": "dc40f3b8-c4be-4574-b0d8-dbf07ac44b26",
   "metadata": {},
   "source": [
    "Here we will be creating polynomial regression models so it's easy to understand."
   ]
  },
  {
   "cell_type": "markdown",
   "id": "245e9a75-cb64-4194-a31d-232f7d3f5838",
   "metadata": {},
   "source": [
    "### Manual Implementation"
   ]
  },
  {
   "cell_type": "markdown",
   "id": "e266a243-d426-409f-9fb0-1ad8d658708a",
   "metadata": {},
   "source": [
    "Here we will implement polynomial regression using pure math. The process involves transforming the input features into polynomial features and then applying linear regression."
   ]
  },
  {
   "cell_type": "code",
   "execution_count": 40,
   "id": "6a7f1af7-defb-43f0-a7a7-fe8bec9ad86b",
   "metadata": {},
   "outputs": [],
   "source": [
    "import numpy as np\n",
    "\n",
    "X = np.array([[1], [2], [3], [4], [5], [6], [7], [8], [9], [10]])\n",
    "y = np.array([1, 4, 9, 16, 25, 36, 49, 64, 81, 100])"
   ]
  },
  {
   "cell_type": "code",
   "execution_count": 41,
   "id": "61ee2fb6-f745-4d0b-a5e5-f122f48a42f3",
   "metadata": {},
   "outputs": [
    {
     "data": {
      "image/png": "[encoded data removed]",
      "text/plain": [
       "<Figure size 640x480 with 1 Axes>"
      ]
     },
     "metadata": {},
     "output_type": "display_data"
    }
   ],
   "source": [
    "from matplotlib import pyplot as plt\n",
    "%matplotlib inline\n",
    "\n",
    "plt.scatter(X, y)\n",
    "plt.show()"
   ]
  },
  {
   "cell_type": "markdown",
   "id": "2f8ea8bd-cb5a-443d-90cb-72aaf5b761d9",
   "metadata": {},
   "source": [
    "We can see that this plot has a clear trend, but it isn't linear, so let's try polynomial regression."
   ]
  },
  {
   "cell_type": "code",
   "execution_count": 112,
   "id": "65b86a2b-c6e7-4006-9381-b47a585dd5c1",
   "metadata": {},
   "outputs": [
    {
     "name": "stdout",
     "output_type": "stream",
     "text": [
      "Coefficients: [4.26325641e-13 2.84217094e-14 1.00000000e+00]\n",
      "Predicted value for x = [8.30662386291804]: 69.00000000000001\n"
     ]
    }
   ],
   "source": [
    "def polynomial_features(X, degree):\n",
    "    n_samples, n_features = X.shape\n",
    "    X_poly = np.ones(n_samples)\n",
    "\n",
    "    for d in range(1, degree + 1):\n",
    "        for i in range(n_features):\n",
    "            X_poly = np.column_stack((X_poly, X[:, i] ** d))\n",
    "\n",
    "    return X_poly\n",
    "\n",
    "def polynomial_regression(X, y, degree):\n",
    "    X_poly = polynomial_features(X, degree)\n",
    "\n",
    "    XTX = X_poly.T.dot(X_poly)\n",
    "    XTX_inv = np.linalg.inv(XTX)  # use np.linalg.pinv if XTX is singular\n",
    "    b = XTX_inv.dot(X_poly.T).dot(y)\n",
    "\n",
    "    return b\n",
    "\n",
    "def predict_polynomial_regression(x_new, coefficients, degree):\n",
    "    x_new = np.array(x_new).reshape(1, -1)  # ensure x_new is a 2D array\n",
    "    x_new_poly = polynomial_features(x_new, degree)\n",
    "    y_pred = np.dot(x_new_poly, coefficients)\n",
    "    \n",
    "    return y_pred[0]\n",
    "\n",
    "degree = 2  # degree of the polynomial, it'll go up to x^2\n",
    "coefficients = polynomial_regression(X, y, degree)\n",
    "print(f\"Coefficients: {coefficients}\")\n",
    "\n",
    "x_new = [8.30662386291804]\n",
    "y_pred = predict_polynomial_regression(x_new, coefficients, degree)\n",
    "print(f\"Predicted value for x = {x_new}: {y_pred}\")"
   ]
  },
  {
   "cell_type": "markdown",
   "id": "8139c205-3e30-4824-ae15-cc833fb44cfa",
   "metadata": {},
   "source": [
    "There are 3 coefficients, and the degree is 2. The coefficients are for x^0, X^1 and x^2, respectively."
   ]
  },
  {
   "cell_type": "markdown",
   "id": "c94b7d9e-803b-402e-acdf-422725a51d1b",
   "metadata": {},
   "source": [
    "## Scikit-Learn Implementation"
   ]
  },
  {
   "cell_type": "code",
   "execution_count": 128,
   "id": "dab2d48a-4160-4c7e-840c-ed50c036270c",
   "metadata": {},
   "outputs": [
    {
     "data": {
      "text/plain": [
       "array([625.])"
      ]
     },
     "execution_count": 128,
     "metadata": {},
     "output_type": "execute_result"
    }
   ],
   "source": [
    "from sklearn.preprocessing import PolynomialFeatures\n",
    "from sklearn.linear_model import LinearRegression\n",
    "\n",
    "polynomial_features = PolynomialFeatures(degree=degrees)\n",
    "X_polynomial_regression = polynomial_features.fit_transform(X)\n",
    "\n",
    "polynomial_regression = LinearRegression()\n",
    "polynomial_regression.fit(X_polynomial_regression, y)\n",
    "\n",
    "x_new = np.array([25])\n",
    "x_new_polynomial_regression = polynomial_features.transform(x_new.reshape(-1, 1))\n",
    "\n",
    "y_new_polynomial_regression = polynomial_regression.predict(x_new_polynomial_regression)\n",
    "y_new_polynomial_regression"
   ]
  }
 ],
 "metadata": {
  "kernelspec": {
   "display_name": "Python 3 (ipykernel)",
   "language": "python",
   "name": "python3"
  },
  "language_info": {
   "codemirror_mode": {
    "name": "ipython",
    "version": 3
   },
   "file_extension": ".py",
   "mimetype": "text/x-python",
   "name": "python",
   "nbconvert_exporter": "python",
   "pygments_lexer": "ipython3",
   "version": "3.10.15"
  }
 },
 "nbformat": 4,
 "nbformat_minor": 5
}
