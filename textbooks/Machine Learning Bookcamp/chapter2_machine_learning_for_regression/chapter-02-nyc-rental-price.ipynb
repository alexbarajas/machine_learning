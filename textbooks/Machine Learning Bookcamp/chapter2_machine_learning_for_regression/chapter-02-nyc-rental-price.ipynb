{
 "cells": [
  {
   "cell_type": "markdown",
   "id": "063aa53b-296a-4fff-8f9a-b39224c45fd1",
   "metadata": {},
   "source": [
    "# Guessing the Price of a Rental"
   ]
  },
  {
   "cell_type": "code",
   "execution_count": 1281,
   "id": "b782fa29-53dc-4505-b541-6d9fcb61d29d",
   "metadata": {},
   "outputs": [],
   "source": [
    "import numpy as np\n",
    "import pandas as pd\n",
    "\n",
    "from matplotlib import pyplot as plt\n",
    "import seaborn as sns\n",
    "%matplotlib inline"
   ]
  },
  {
   "cell_type": "code",
   "execution_count": 1282,
   "id": "74e5fbd9-f57f-4ad8-8c69-7f4845d9b840",
   "metadata": {},
   "outputs": [],
   "source": [
    "df = pd.read_csv(\"nyc_rental_data.csv\")"
   ]
  },
  {
   "cell_type": "code",
   "execution_count": 1283,
   "id": "5d52790c-8382-4368-808c-5a477d78ab4c",
   "metadata": {},
   "outputs": [
    {
     "data": {
      "text/plain": [
       "48895"
      ]
     },
     "execution_count": 1283,
     "metadata": {},
     "output_type": "execute_result"
    }
   ],
   "source": [
    "len(df)"
   ]
  },
  {
   "cell_type": "code",
   "execution_count": 1284,
   "id": "83c54ad9-b710-47b9-9574-2e2fdaed27ab",
   "metadata": {},
   "outputs": [
    {
     "data": {
      "text/html": [
       "<div>\n",
       "<style scoped>\n",
       "    .dataframe tbody tr th:only-of-type {\n",
       "        vertical-align: middle;\n",
       "    }\n",
       "\n",
       "    .dataframe tbody tr th {\n",
       "        vertical-align: top;\n",
       "    }\n",
       "\n",
       "    .dataframe thead th {\n",
       "        text-align: right;\n",
       "    }\n",
       "</style>\n",
       "<table border=\"1\" class=\"dataframe\">\n",
       "  <thead>\n",
       "    <tr style=\"text-align: right;\">\n",
       "      <th></th>\n",
       "      <th>id</th>\n",
       "      <th>name</th>\n",
       "      <th>host_id</th>\n",
       "      <th>host_name</th>\n",
       "      <th>neighbourhood_group</th>\n",
       "      <th>neighbourhood</th>\n",
       "      <th>latitude</th>\n",
       "      <th>longitude</th>\n",
       "      <th>room_type</th>\n",
       "      <th>price</th>\n",
       "      <th>minimum_nights</th>\n",
       "      <th>number_of_reviews</th>\n",
       "      <th>last_review</th>\n",
       "      <th>reviews_per_month</th>\n",
       "      <th>calculated_host_listings_count</th>\n",
       "      <th>availability_365</th>\n",
       "    </tr>\n",
       "  </thead>\n",
       "  <tbody>\n",
       "    <tr>\n",
       "      <th>0</th>\n",
       "      <td>2539</td>\n",
       "      <td>Clean &amp; quiet apt home by the park</td>\n",
       "      <td>2787</td>\n",
       "      <td>John</td>\n",
       "      <td>Brooklyn</td>\n",
       "      <td>Kensington</td>\n",
       "      <td>40.64749</td>\n",
       "      <td>-73.97237</td>\n",
       "      <td>Private room</td>\n",
       "      <td>149</td>\n",
       "      <td>1</td>\n",
       "      <td>9</td>\n",
       "      <td>2018-10-19</td>\n",
       "      <td>0.21</td>\n",
       "      <td>6</td>\n",
       "      <td>365</td>\n",
       "    </tr>\n",
       "    <tr>\n",
       "      <th>1</th>\n",
       "      <td>2595</td>\n",
       "      <td>Skylit Midtown Castle</td>\n",
       "      <td>2845</td>\n",
       "      <td>Jennifer</td>\n",
       "      <td>Manhattan</td>\n",
       "      <td>Midtown</td>\n",
       "      <td>40.75362</td>\n",
       "      <td>-73.98377</td>\n",
       "      <td>Entire home/apt</td>\n",
       "      <td>225</td>\n",
       "      <td>1</td>\n",
       "      <td>45</td>\n",
       "      <td>2019-05-21</td>\n",
       "      <td>0.38</td>\n",
       "      <td>2</td>\n",
       "      <td>355</td>\n",
       "    </tr>\n",
       "    <tr>\n",
       "      <th>2</th>\n",
       "      <td>3647</td>\n",
       "      <td>THE VILLAGE OF HARLEM....NEW YORK !</td>\n",
       "      <td>4632</td>\n",
       "      <td>Elisabeth</td>\n",
       "      <td>Manhattan</td>\n",
       "      <td>Harlem</td>\n",
       "      <td>40.80902</td>\n",
       "      <td>-73.94190</td>\n",
       "      <td>Private room</td>\n",
       "      <td>150</td>\n",
       "      <td>3</td>\n",
       "      <td>0</td>\n",
       "      <td>NaN</td>\n",
       "      <td>NaN</td>\n",
       "      <td>1</td>\n",
       "      <td>365</td>\n",
       "    </tr>\n",
       "    <tr>\n",
       "      <th>3</th>\n",
       "      <td>3831</td>\n",
       "      <td>Cozy Entire Floor of Brownstone</td>\n",
       "      <td>4869</td>\n",
       "      <td>LisaRoxanne</td>\n",
       "      <td>Brooklyn</td>\n",
       "      <td>Clinton Hill</td>\n",
       "      <td>40.68514</td>\n",
       "      <td>-73.95976</td>\n",
       "      <td>Entire home/apt</td>\n",
       "      <td>89</td>\n",
       "      <td>1</td>\n",
       "      <td>270</td>\n",
       "      <td>2019-07-05</td>\n",
       "      <td>4.64</td>\n",
       "      <td>1</td>\n",
       "      <td>194</td>\n",
       "    </tr>\n",
       "    <tr>\n",
       "      <th>4</th>\n",
       "      <td>5022</td>\n",
       "      <td>Entire Apt: Spacious Studio/Loft by central park</td>\n",
       "      <td>7192</td>\n",
       "      <td>Laura</td>\n",
       "      <td>Manhattan</td>\n",
       "      <td>East Harlem</td>\n",
       "      <td>40.79851</td>\n",
       "      <td>-73.94399</td>\n",
       "      <td>Entire home/apt</td>\n",
       "      <td>80</td>\n",
       "      <td>10</td>\n",
       "      <td>9</td>\n",
       "      <td>2018-11-19</td>\n",
       "      <td>0.10</td>\n",
       "      <td>1</td>\n",
       "      <td>0</td>\n",
       "    </tr>\n",
       "  </tbody>\n",
       "</table>\n",
       "</div>"
      ],
      "text/plain": [
       "     id                                              name  host_id  \\\n",
       "0  2539                Clean & quiet apt home by the park     2787   \n",
       "1  2595                             Skylit Midtown Castle     2845   \n",
       "2  3647               THE VILLAGE OF HARLEM....NEW YORK !     4632   \n",
       "3  3831                   Cozy Entire Floor of Brownstone     4869   \n",
       "4  5022  Entire Apt: Spacious Studio/Loft by central park     7192   \n",
       "\n",
       "     host_name neighbourhood_group neighbourhood  latitude  longitude  \\\n",
       "0         John            Brooklyn    Kensington  40.64749  -73.97237   \n",
       "1     Jennifer           Manhattan       Midtown  40.75362  -73.98377   \n",
       "2    Elisabeth           Manhattan        Harlem  40.80902  -73.94190   \n",
       "3  LisaRoxanne            Brooklyn  Clinton Hill  40.68514  -73.95976   \n",
       "4        Laura           Manhattan   East Harlem  40.79851  -73.94399   \n",
       "\n",
       "         room_type  price  minimum_nights  number_of_reviews last_review  \\\n",
       "0     Private room    149               1                  9  2018-10-19   \n",
       "1  Entire home/apt    225               1                 45  2019-05-21   \n",
       "2     Private room    150               3                  0         NaN   \n",
       "3  Entire home/apt     89               1                270  2019-07-05   \n",
       "4  Entire home/apt     80              10                  9  2018-11-19   \n",
       "\n",
       "   reviews_per_month  calculated_host_listings_count  availability_365  \n",
       "0               0.21                               6               365  \n",
       "1               0.38                               2               355  \n",
       "2                NaN                               1               365  \n",
       "3               4.64                               1               194  \n",
       "4               0.10                               1                 0  "
      ]
     },
     "execution_count": 1284,
     "metadata": {},
     "output_type": "execute_result"
    }
   ],
   "source": [
    "df.head()"
   ]
  },
  {
   "cell_type": "code",
   "execution_count": 1285,
   "id": "1cbc1e3e-9aa5-4307-9e12-3c3c1738cfab",
   "metadata": {},
   "outputs": [
    {
     "data": {
      "text/html": [
       "<div>\n",
       "<style scoped>\n",
       "    .dataframe tbody tr th:only-of-type {\n",
       "        vertical-align: middle;\n",
       "    }\n",
       "\n",
       "    .dataframe tbody tr th {\n",
       "        vertical-align: top;\n",
       "    }\n",
       "\n",
       "    .dataframe thead th {\n",
       "        text-align: right;\n",
       "    }\n",
       "</style>\n",
       "<table border=\"1\" class=\"dataframe\">\n",
       "  <thead>\n",
       "    <tr style=\"text-align: right;\">\n",
       "      <th></th>\n",
       "      <th>id</th>\n",
       "      <th>name</th>\n",
       "      <th>host_id</th>\n",
       "      <th>host_name</th>\n",
       "      <th>neighbourhood_group</th>\n",
       "      <th>neighbourhood</th>\n",
       "      <th>latitude</th>\n",
       "      <th>longitude</th>\n",
       "      <th>room_type</th>\n",
       "      <th>price</th>\n",
       "      <th>minimum_nights</th>\n",
       "      <th>number_of_reviews</th>\n",
       "      <th>last_review</th>\n",
       "      <th>reviews_per_month</th>\n",
       "      <th>calculated_host_listings_count</th>\n",
       "      <th>availability_365</th>\n",
       "    </tr>\n",
       "  </thead>\n",
       "  <tbody>\n",
       "    <tr>\n",
       "      <th>0</th>\n",
       "      <td>2539</td>\n",
       "      <td>Clean &amp; quiet apt home by the park</td>\n",
       "      <td>2787</td>\n",
       "      <td>John</td>\n",
       "      <td>Brooklyn</td>\n",
       "      <td>Kensington</td>\n",
       "      <td>40.64749</td>\n",
       "      <td>-73.97237</td>\n",
       "      <td>Private room</td>\n",
       "      <td>149</td>\n",
       "      <td>1</td>\n",
       "      <td>9</td>\n",
       "      <td>2018-10-19</td>\n",
       "      <td>0.21</td>\n",
       "      <td>6</td>\n",
       "      <td>365</td>\n",
       "    </tr>\n",
       "    <tr>\n",
       "      <th>1</th>\n",
       "      <td>2595</td>\n",
       "      <td>Skylit Midtown Castle</td>\n",
       "      <td>2845</td>\n",
       "      <td>Jennifer</td>\n",
       "      <td>Manhattan</td>\n",
       "      <td>Midtown</td>\n",
       "      <td>40.75362</td>\n",
       "      <td>-73.98377</td>\n",
       "      <td>Entire home/apt</td>\n",
       "      <td>225</td>\n",
       "      <td>1</td>\n",
       "      <td>45</td>\n",
       "      <td>2019-05-21</td>\n",
       "      <td>0.38</td>\n",
       "      <td>2</td>\n",
       "      <td>355</td>\n",
       "    </tr>\n",
       "    <tr>\n",
       "      <th>2</th>\n",
       "      <td>3647</td>\n",
       "      <td>THE VILLAGE OF HARLEM....NEW YORK !</td>\n",
       "      <td>4632</td>\n",
       "      <td>Elisabeth</td>\n",
       "      <td>Manhattan</td>\n",
       "      <td>Harlem</td>\n",
       "      <td>40.80902</td>\n",
       "      <td>-73.94190</td>\n",
       "      <td>Private room</td>\n",
       "      <td>150</td>\n",
       "      <td>3</td>\n",
       "      <td>0</td>\n",
       "      <td>NaN</td>\n",
       "      <td>NaN</td>\n",
       "      <td>1</td>\n",
       "      <td>365</td>\n",
       "    </tr>\n",
       "    <tr>\n",
       "      <th>3</th>\n",
       "      <td>3831</td>\n",
       "      <td>Cozy Entire Floor of Brownstone</td>\n",
       "      <td>4869</td>\n",
       "      <td>LisaRoxanne</td>\n",
       "      <td>Brooklyn</td>\n",
       "      <td>Clinton Hill</td>\n",
       "      <td>40.68514</td>\n",
       "      <td>-73.95976</td>\n",
       "      <td>Entire home/apt</td>\n",
       "      <td>89</td>\n",
       "      <td>1</td>\n",
       "      <td>270</td>\n",
       "      <td>2019-07-05</td>\n",
       "      <td>4.64</td>\n",
       "      <td>1</td>\n",
       "      <td>194</td>\n",
       "    </tr>\n",
       "    <tr>\n",
       "      <th>4</th>\n",
       "      <td>5022</td>\n",
       "      <td>Entire Apt: Spacious Studio/Loft by central park</td>\n",
       "      <td>7192</td>\n",
       "      <td>Laura</td>\n",
       "      <td>Manhattan</td>\n",
       "      <td>East Harlem</td>\n",
       "      <td>40.79851</td>\n",
       "      <td>-73.94399</td>\n",
       "      <td>Entire home/apt</td>\n",
       "      <td>80</td>\n",
       "      <td>10</td>\n",
       "      <td>9</td>\n",
       "      <td>2018-11-19</td>\n",
       "      <td>0.10</td>\n",
       "      <td>1</td>\n",
       "      <td>0</td>\n",
       "    </tr>\n",
       "    <tr>\n",
       "      <th>...</th>\n",
       "      <td>...</td>\n",
       "      <td>...</td>\n",
       "      <td>...</td>\n",
       "      <td>...</td>\n",
       "      <td>...</td>\n",
       "      <td>...</td>\n",
       "      <td>...</td>\n",
       "      <td>...</td>\n",
       "      <td>...</td>\n",
       "      <td>...</td>\n",
       "      <td>...</td>\n",
       "      <td>...</td>\n",
       "      <td>...</td>\n",
       "      <td>...</td>\n",
       "      <td>...</td>\n",
       "      <td>...</td>\n",
       "    </tr>\n",
       "    <tr>\n",
       "      <th>48890</th>\n",
       "      <td>36484665</td>\n",
       "      <td>Charming one bedroom - newly renovated rowhouse</td>\n",
       "      <td>8232441</td>\n",
       "      <td>Sabrina</td>\n",
       "      <td>Brooklyn</td>\n",
       "      <td>Bedford-Stuyvesant</td>\n",
       "      <td>40.67853</td>\n",
       "      <td>-73.94995</td>\n",
       "      <td>Private room</td>\n",
       "      <td>70</td>\n",
       "      <td>2</td>\n",
       "      <td>0</td>\n",
       "      <td>NaN</td>\n",
       "      <td>NaN</td>\n",
       "      <td>2</td>\n",
       "      <td>9</td>\n",
       "    </tr>\n",
       "    <tr>\n",
       "      <th>48891</th>\n",
       "      <td>36485057</td>\n",
       "      <td>Affordable room in Bushwick/East Williamsburg</td>\n",
       "      <td>6570630</td>\n",
       "      <td>Marisol</td>\n",
       "      <td>Brooklyn</td>\n",
       "      <td>Bushwick</td>\n",
       "      <td>40.70184</td>\n",
       "      <td>-73.93317</td>\n",
       "      <td>Private room</td>\n",
       "      <td>40</td>\n",
       "      <td>4</td>\n",
       "      <td>0</td>\n",
       "      <td>NaN</td>\n",
       "      <td>NaN</td>\n",
       "      <td>2</td>\n",
       "      <td>36</td>\n",
       "    </tr>\n",
       "    <tr>\n",
       "      <th>48892</th>\n",
       "      <td>36485431</td>\n",
       "      <td>Sunny Studio at Historical Neighborhood</td>\n",
       "      <td>23492952</td>\n",
       "      <td>Ilgar &amp; Aysel</td>\n",
       "      <td>Manhattan</td>\n",
       "      <td>Harlem</td>\n",
       "      <td>40.81475</td>\n",
       "      <td>-73.94867</td>\n",
       "      <td>Entire home/apt</td>\n",
       "      <td>115</td>\n",
       "      <td>10</td>\n",
       "      <td>0</td>\n",
       "      <td>NaN</td>\n",
       "      <td>NaN</td>\n",
       "      <td>1</td>\n",
       "      <td>27</td>\n",
       "    </tr>\n",
       "    <tr>\n",
       "      <th>48893</th>\n",
       "      <td>36485609</td>\n",
       "      <td>43rd St. Time Square-cozy single bed</td>\n",
       "      <td>30985759</td>\n",
       "      <td>Taz</td>\n",
       "      <td>Manhattan</td>\n",
       "      <td>Hell's Kitchen</td>\n",
       "      <td>40.75751</td>\n",
       "      <td>-73.99112</td>\n",
       "      <td>Shared room</td>\n",
       "      <td>55</td>\n",
       "      <td>1</td>\n",
       "      <td>0</td>\n",
       "      <td>NaN</td>\n",
       "      <td>NaN</td>\n",
       "      <td>6</td>\n",
       "      <td>2</td>\n",
       "    </tr>\n",
       "    <tr>\n",
       "      <th>48894</th>\n",
       "      <td>36487245</td>\n",
       "      <td>Trendy duplex in the very heart of Hell's Kitchen</td>\n",
       "      <td>68119814</td>\n",
       "      <td>Christophe</td>\n",
       "      <td>Manhattan</td>\n",
       "      <td>Hell's Kitchen</td>\n",
       "      <td>40.76404</td>\n",
       "      <td>-73.98933</td>\n",
       "      <td>Private room</td>\n",
       "      <td>90</td>\n",
       "      <td>7</td>\n",
       "      <td>0</td>\n",
       "      <td>NaN</td>\n",
       "      <td>NaN</td>\n",
       "      <td>1</td>\n",
       "      <td>23</td>\n",
       "    </tr>\n",
       "  </tbody>\n",
       "</table>\n",
       "<p>48895 rows × 16 columns</p>\n",
       "</div>"
      ],
      "text/plain": [
       "             id                                               name   host_id  \\\n",
       "0          2539                 Clean & quiet apt home by the park      2787   \n",
       "1          2595                              Skylit Midtown Castle      2845   \n",
       "2          3647                THE VILLAGE OF HARLEM....NEW YORK !      4632   \n",
       "3          3831                    Cozy Entire Floor of Brownstone      4869   \n",
       "4          5022   Entire Apt: Spacious Studio/Loft by central park      7192   \n",
       "...         ...                                                ...       ...   \n",
       "48890  36484665    Charming one bedroom - newly renovated rowhouse   8232441   \n",
       "48891  36485057      Affordable room in Bushwick/East Williamsburg   6570630   \n",
       "48892  36485431            Sunny Studio at Historical Neighborhood  23492952   \n",
       "48893  36485609               43rd St. Time Square-cozy single bed  30985759   \n",
       "48894  36487245  Trendy duplex in the very heart of Hell's Kitchen  68119814   \n",
       "\n",
       "           host_name neighbourhood_group       neighbourhood  latitude  \\\n",
       "0               John            Brooklyn          Kensington  40.64749   \n",
       "1           Jennifer           Manhattan             Midtown  40.75362   \n",
       "2          Elisabeth           Manhattan              Harlem  40.80902   \n",
       "3        LisaRoxanne            Brooklyn        Clinton Hill  40.68514   \n",
       "4              Laura           Manhattan         East Harlem  40.79851   \n",
       "...              ...                 ...                 ...       ...   \n",
       "48890        Sabrina            Brooklyn  Bedford-Stuyvesant  40.67853   \n",
       "48891        Marisol            Brooklyn            Bushwick  40.70184   \n",
       "48892  Ilgar & Aysel           Manhattan              Harlem  40.81475   \n",
       "48893            Taz           Manhattan      Hell's Kitchen  40.75751   \n",
       "48894     Christophe           Manhattan      Hell's Kitchen  40.76404   \n",
       "\n",
       "       longitude        room_type  price  minimum_nights  number_of_reviews  \\\n",
       "0      -73.97237     Private room    149               1                  9   \n",
       "1      -73.98377  Entire home/apt    225               1                 45   \n",
       "2      -73.94190     Private room    150               3                  0   \n",
       "3      -73.95976  Entire home/apt     89               1                270   \n",
       "4      -73.94399  Entire home/apt     80              10                  9   \n",
       "...          ...              ...    ...             ...                ...   \n",
       "48890  -73.94995     Private room     70               2                  0   \n",
       "48891  -73.93317     Private room     40               4                  0   \n",
       "48892  -73.94867  Entire home/apt    115              10                  0   \n",
       "48893  -73.99112      Shared room     55               1                  0   \n",
       "48894  -73.98933     Private room     90               7                  0   \n",
       "\n",
       "      last_review  reviews_per_month  calculated_host_listings_count  \\\n",
       "0      2018-10-19               0.21                               6   \n",
       "1      2019-05-21               0.38                               2   \n",
       "2             NaN                NaN                               1   \n",
       "3      2019-07-05               4.64                               1   \n",
       "4      2018-11-19               0.10                               1   \n",
       "...           ...                ...                             ...   \n",
       "48890         NaN                NaN                               2   \n",
       "48891         NaN                NaN                               2   \n",
       "48892         NaN                NaN                               1   \n",
       "48893         NaN                NaN                               6   \n",
       "48894         NaN                NaN                               1   \n",
       "\n",
       "       availability_365  \n",
       "0                   365  \n",
       "1                   355  \n",
       "2                   365  \n",
       "3                   194  \n",
       "4                     0  \n",
       "...                 ...  \n",
       "48890                 9  \n",
       "48891                36  \n",
       "48892                27  \n",
       "48893                 2  \n",
       "48894                23  \n",
       "\n",
       "[48895 rows x 16 columns]"
      ]
     },
     "execution_count": 1285,
     "metadata": {},
     "output_type": "execute_result"
    }
   ],
   "source": [
    "df"
   ]
  },
  {
   "cell_type": "markdown",
   "id": "12727f06-526e-4d77-bc91-07176cd932fd",
   "metadata": {},
   "source": [
    "## Step 1: Business Understanding"
   ]
  },
  {
   "cell_type": "markdown",
   "id": "cfed4bbc-fa24-4484-91ae-5447edda025d",
   "metadata": {},
   "source": [
    "We need to quickly get the rental price of a property to save ourselves and our clients time"
   ]
  },
  {
   "cell_type": "markdown",
   "id": "dc588c26-bc10-4ceb-883b-aed4686a17de",
   "metadata": {},
   "source": [
    "## Step 2: Data Understanding"
   ]
  },
  {
   "cell_type": "markdown",
   "id": "d2fa3100-6dff-4376-9503-c1d93dd22312",
   "metadata": {},
   "source": [
    "This is an example of supervised learning because we have some information about the price of some rentals, and we can use it to predict the price of other rentals."
   ]
  },
  {
   "cell_type": "markdown",
   "id": "317e0e0b-1ef9-43c7-86a5-644b0df5e01c",
   "metadata": {},
   "source": [
    "Two types of supervised learning are regression and classification."
   ]
  },
  {
   "cell_type": "markdown",
   "id": "655da598-a1b2-4eff-b063-fc1e7872712c",
   "metadata": {},
   "source": [
    "When the target variable is numerical, we have a regression problem, and when the target variable is categorical, we have a classification problem."
   ]
  },
  {
   "cell_type": "markdown",
   "id": "427ce455-5018-48bd-9b92-2937089c7080",
   "metadata": {},
   "source": [
    "check how many rentals have a price, because price is our target variable since that's what we want to predict"
   ]
  },
  {
   "cell_type": "code",
   "execution_count": 1286,
   "id": "63145015-d0ea-4e8f-af60-dce301180e87",
   "metadata": {},
   "outputs": [
    {
     "data": {
      "text/plain": [
       "0        149\n",
       "1        225\n",
       "2        150\n",
       "3         89\n",
       "4         80\n",
       "        ... \n",
       "48890     70\n",
       "48891     40\n",
       "48892    115\n",
       "48893     55\n",
       "48894     90\n",
       "Name: price, Length: 48895, dtype: int64"
      ]
     },
     "execution_count": 1286,
     "metadata": {},
     "output_type": "execute_result"
    }
   ],
   "source": [
    "df.price"
   ]
  },
  {
   "cell_type": "code",
   "execution_count": 1287,
   "id": "39eff12f-714d-40db-8561-4c7d6dff4b6c",
   "metadata": {},
   "outputs": [
    {
     "data": {
      "text/plain": [
       "np.True_"
      ]
     },
     "execution_count": 1287,
     "metadata": {},
     "output_type": "execute_result"
    }
   ],
   "source": [
    "df.price.isnull().sum() == 0"
   ]
  },
  {
   "cell_type": "markdown",
   "id": "90affe25-3be4-4bdd-aa00-a8c2c7b12873",
   "metadata": {},
   "source": [
    "There are almost 50k data points, and all of them have a price. It is unlikely that we'll need more data."
   ]
  },
  {
   "cell_type": "code",
   "execution_count": 1288,
   "id": "9ed62a9d-70d1-4094-ba12-4fd1b1c55034",
   "metadata": {},
   "outputs": [
    {
     "data": {
      "text/plain": [
       "Index(['id', 'name', 'host_id', 'host_name', 'neighbourhood_group',\n",
       "       'neighbourhood', 'latitude', 'longitude', 'room_type', 'price',\n",
       "       'minimum_nights', 'number_of_reviews', 'last_review',\n",
       "       'reviews_per_month', 'calculated_host_listings_count',\n",
       "       'availability_365'],\n",
       "      dtype='object')"
      ]
     },
     "execution_count": 1288,
     "metadata": {},
     "output_type": "execute_result"
    }
   ],
   "source": [
    "df.columns"
   ]
  },
  {
   "cell_type": "markdown",
   "id": "d2f3a74d-1442-437d-a97b-48bfbfb99e97",
   "metadata": {},
   "source": [
    "We can use some of the features above to improve our model as well as our predictions."
   ]
  },
  {
   "cell_type": "markdown",
   "id": "c5314da0-8b03-48b9-8df3-69959e845901",
   "metadata": {},
   "source": [
    "### Let's clean up the columns and features:"
   ]
  },
  {
   "cell_type": "code",
   "execution_count": 1289,
   "id": "1983f400-ce68-4c1b-82a1-f848fad5da0d",
   "metadata": {},
   "outputs": [],
   "source": [
    "df.columns = df.columns.str.lower().str.replace(\" \", \"_\")\n",
    "string_columns = list(df.dtypes[df.dtypes == \"object\"].index)\n",
    "for column in string_columns:\n",
    "    df[column] = df[column].str.lower().str.replace(\" \", \"_\")"
   ]
  },
  {
   "cell_type": "code",
   "execution_count": 1290,
   "id": "4ea41a88-ee2c-4955-be18-0d903bfc0c26",
   "metadata": {},
   "outputs": [
    {
     "name": "stdout",
     "output_type": "stream",
     "text": [
      "Index(['id', 'name', 'host_id', 'host_name', 'neighbourhood_group',\n",
      "       'neighbourhood', 'latitude', 'longitude', 'room_type', 'price',\n",
      "       'minimum_nights', 'number_of_reviews', 'last_review',\n",
      "       'reviews_per_month', 'calculated_host_listings_count',\n",
      "       'availability_365'],\n",
      "      dtype='object')\n",
      "\n",
      "\n",
      "['name', 'host_name', 'neighbourhood_group', 'neighbourhood', 'room_type', 'last_review']\n"
     ]
    }
   ],
   "source": [
    "print(df.columns)  # cleans up all the columns\n",
    "print(\"\\n\")\n",
    "print(string_columns)  # cleans up the values in the columns that have string values"
   ]
  },
  {
   "cell_type": "markdown",
   "id": "067da04d-4171-4eb1-9760-5428392fc6d5",
   "metadata": {},
   "source": [
    "Now the data looks more uniform as seen below:"
   ]
  },
  {
   "cell_type": "code",
   "execution_count": 1291,
   "id": "1f154340-5068-4ab8-92b8-5667e2f80fe0",
   "metadata": {},
   "outputs": [
    {
     "data": {
      "text/html": [
       "<div>\n",
       "<style scoped>\n",
       "    .dataframe tbody tr th:only-of-type {\n",
       "        vertical-align: middle;\n",
       "    }\n",
       "\n",
       "    .dataframe tbody tr th {\n",
       "        vertical-align: top;\n",
       "    }\n",
       "\n",
       "    .dataframe thead th {\n",
       "        text-align: right;\n",
       "    }\n",
       "</style>\n",
       "<table border=\"1\" class=\"dataframe\">\n",
       "  <thead>\n",
       "    <tr style=\"text-align: right;\">\n",
       "      <th></th>\n",
       "      <th>id</th>\n",
       "      <th>name</th>\n",
       "      <th>host_id</th>\n",
       "      <th>host_name</th>\n",
       "      <th>neighbourhood_group</th>\n",
       "      <th>neighbourhood</th>\n",
       "      <th>latitude</th>\n",
       "      <th>longitude</th>\n",
       "      <th>room_type</th>\n",
       "      <th>price</th>\n",
       "      <th>minimum_nights</th>\n",
       "      <th>number_of_reviews</th>\n",
       "      <th>last_review</th>\n",
       "      <th>reviews_per_month</th>\n",
       "      <th>calculated_host_listings_count</th>\n",
       "      <th>availability_365</th>\n",
       "    </tr>\n",
       "  </thead>\n",
       "  <tbody>\n",
       "    <tr>\n",
       "      <th>0</th>\n",
       "      <td>2539</td>\n",
       "      <td>clean_&amp;_quiet_apt_home_by_the_park</td>\n",
       "      <td>2787</td>\n",
       "      <td>john</td>\n",
       "      <td>brooklyn</td>\n",
       "      <td>kensington</td>\n",
       "      <td>40.64749</td>\n",
       "      <td>-73.97237</td>\n",
       "      <td>private_room</td>\n",
       "      <td>149</td>\n",
       "      <td>1</td>\n",
       "      <td>9</td>\n",
       "      <td>2018-10-19</td>\n",
       "      <td>0.21</td>\n",
       "      <td>6</td>\n",
       "      <td>365</td>\n",
       "    </tr>\n",
       "    <tr>\n",
       "      <th>1</th>\n",
       "      <td>2595</td>\n",
       "      <td>skylit_midtown_castle</td>\n",
       "      <td>2845</td>\n",
       "      <td>jennifer</td>\n",
       "      <td>manhattan</td>\n",
       "      <td>midtown</td>\n",
       "      <td>40.75362</td>\n",
       "      <td>-73.98377</td>\n",
       "      <td>entire_home/apt</td>\n",
       "      <td>225</td>\n",
       "      <td>1</td>\n",
       "      <td>45</td>\n",
       "      <td>2019-05-21</td>\n",
       "      <td>0.38</td>\n",
       "      <td>2</td>\n",
       "      <td>355</td>\n",
       "    </tr>\n",
       "    <tr>\n",
       "      <th>2</th>\n",
       "      <td>3647</td>\n",
       "      <td>the_village_of_harlem....new_york_!</td>\n",
       "      <td>4632</td>\n",
       "      <td>elisabeth</td>\n",
       "      <td>manhattan</td>\n",
       "      <td>harlem</td>\n",
       "      <td>40.80902</td>\n",
       "      <td>-73.94190</td>\n",
       "      <td>private_room</td>\n",
       "      <td>150</td>\n",
       "      <td>3</td>\n",
       "      <td>0</td>\n",
       "      <td>NaN</td>\n",
       "      <td>NaN</td>\n",
       "      <td>1</td>\n",
       "      <td>365</td>\n",
       "    </tr>\n",
       "    <tr>\n",
       "      <th>3</th>\n",
       "      <td>3831</td>\n",
       "      <td>cozy_entire_floor_of_brownstone</td>\n",
       "      <td>4869</td>\n",
       "      <td>lisaroxanne</td>\n",
       "      <td>brooklyn</td>\n",
       "      <td>clinton_hill</td>\n",
       "      <td>40.68514</td>\n",
       "      <td>-73.95976</td>\n",
       "      <td>entire_home/apt</td>\n",
       "      <td>89</td>\n",
       "      <td>1</td>\n",
       "      <td>270</td>\n",
       "      <td>2019-07-05</td>\n",
       "      <td>4.64</td>\n",
       "      <td>1</td>\n",
       "      <td>194</td>\n",
       "    </tr>\n",
       "    <tr>\n",
       "      <th>4</th>\n",
       "      <td>5022</td>\n",
       "      <td>entire_apt:_spacious_studio/loft_by_central_park</td>\n",
       "      <td>7192</td>\n",
       "      <td>laura</td>\n",
       "      <td>manhattan</td>\n",
       "      <td>east_harlem</td>\n",
       "      <td>40.79851</td>\n",
       "      <td>-73.94399</td>\n",
       "      <td>entire_home/apt</td>\n",
       "      <td>80</td>\n",
       "      <td>10</td>\n",
       "      <td>9</td>\n",
       "      <td>2018-11-19</td>\n",
       "      <td>0.10</td>\n",
       "      <td>1</td>\n",
       "      <td>0</td>\n",
       "    </tr>\n",
       "  </tbody>\n",
       "</table>\n",
       "</div>"
      ],
      "text/plain": [
       "     id                                              name  host_id  \\\n",
       "0  2539                clean_&_quiet_apt_home_by_the_park     2787   \n",
       "1  2595                             skylit_midtown_castle     2845   \n",
       "2  3647               the_village_of_harlem....new_york_!     4632   \n",
       "3  3831                   cozy_entire_floor_of_brownstone     4869   \n",
       "4  5022  entire_apt:_spacious_studio/loft_by_central_park     7192   \n",
       "\n",
       "     host_name neighbourhood_group neighbourhood  latitude  longitude  \\\n",
       "0         john            brooklyn    kensington  40.64749  -73.97237   \n",
       "1     jennifer           manhattan       midtown  40.75362  -73.98377   \n",
       "2    elisabeth           manhattan        harlem  40.80902  -73.94190   \n",
       "3  lisaroxanne            brooklyn  clinton_hill  40.68514  -73.95976   \n",
       "4        laura           manhattan   east_harlem  40.79851  -73.94399   \n",
       "\n",
       "         room_type  price  minimum_nights  number_of_reviews last_review  \\\n",
       "0     private_room    149               1                  9  2018-10-19   \n",
       "1  entire_home/apt    225               1                 45  2019-05-21   \n",
       "2     private_room    150               3                  0         NaN   \n",
       "3  entire_home/apt     89               1                270  2019-07-05   \n",
       "4  entire_home/apt     80              10                  9  2018-11-19   \n",
       "\n",
       "   reviews_per_month  calculated_host_listings_count  availability_365  \n",
       "0               0.21                               6               365  \n",
       "1               0.38                               2               355  \n",
       "2                NaN                               1               365  \n",
       "3               4.64                               1               194  \n",
       "4               0.10                               1                 0  "
      ]
     },
     "execution_count": 1291,
     "metadata": {},
     "output_type": "execute_result"
    }
   ],
   "source": [
    "df.head()"
   ]
  },
  {
   "cell_type": "markdown",
   "id": "a761dd72-0dd1-4af6-b837-736241ee0c21",
   "metadata": {},
   "source": [
    "The price column contains the important information, it's our target variable, the y, which is the value that we want to learn to predict."
   ]
  },
  {
   "cell_type": "markdown",
   "id": "0d875174-4e4d-4520-99d8-716d6d03dd28",
   "metadata": {},
   "source": [
    "One of the first steps of exploratory data analysis should always be to look at what the values of y look like. We typically do this by checking the distribution of y: a visual description of what the possible values of y can be and how often they occur. This type of visualization is called a histogram."
   ]
  },
  {
   "cell_type": "code",
   "execution_count": 1292,
   "id": "c7033ac2-0325-44bf-9610-a188729e0d3b",
   "metadata": {},
   "outputs": [
    {
     "data": {
      "text/plain": [
       "<Axes: xlabel='price', ylabel='Count'>"
      ]
     },
     "execution_count": 1292,
     "metadata": {},
     "output_type": "execute_result"
    },
    {
     "data": {
      "image/png": "[encoded data removed]",
      "text/plain": [
       "<Figure size 640x480 with 1 Axes>"
      ]
     },
     "metadata": {},
     "output_type": "display_data"
    }
   ],
   "source": [
    "sns.histplot(df.price, bins=50)"
   ]
  },
  {
   "cell_type": "markdown",
   "id": "a752c078-b974-49eb-877a-4d18b5cde06e",
   "metadata": {},
   "source": [
    "After plotting the graph, we notice that the distribution of prices has a very long tail. There are many rentals with low prices on the left side, but the number quickly drops, and there's a long tail of very few rentals with high prices."
   ]
  },
  {
   "cell_type": "markdown",
   "id": "997dabda-a06c-45e9-8f4a-6af969b7cb67",
   "metadata": {},
   "source": [
    "We can have a closer look by zooming in a bit and looking at values below $1000."
   ]
  },
  {
   "cell_type": "code",
   "execution_count": 1293,
   "id": "271d4c0d-cbe2-43b3-b9c1-9d53660199bb",
   "metadata": {},
   "outputs": [
    {
     "data": {
      "text/plain": [
       "<Axes: xlabel='price', ylabel='Count'>"
      ]
     },
     "execution_count": 1293,
     "metadata": {},
     "output_type": "execute_result"
    },
    {
     "data": {
      "image/png": "[encoded data removed]",
      "text/plain": [
       "<Figure size 640x480 with 1 Axes>"
      ]
     },
     "metadata": {},
     "output_type": "display_data"
    }
   ],
   "source": [
    "sns.histplot(df.price[df.price < 1000])"
   ]
  },
  {
   "cell_type": "markdown",
   "id": "eb9efed0-7b31-4a7c-b535-3b16d0530088",
   "metadata": {},
   "source": [
    "The long tail makes it difficult for us to see the distribution, but it has an even stronger effect on a model: such distributions can greatly confuse the model, so it won't learn well enough. One way to solve this problem is log transformation. If we apply the log function to the prices, it removes the undesired effect."
   ]
  },
  {
   "cell_type": "markdown",
   "id": "a436dc67-cedc-49ee-a3cc-d43c3c181126",
   "metadata": {},
   "source": [
    "By adding 1 to the values, we make sure that the transformed values do not go below zero, since the log of 0 is -inf, and the log of 1 is 0."
   ]
  },
  {
   "cell_type": "code",
   "execution_count": 1294,
   "id": "42a327b2-9a24-41b8-83c6-5803e8e5af59",
   "metadata": {},
   "outputs": [],
   "source": [
    "log_price = np.log1p(df.price)"
   ]
  },
  {
   "cell_type": "code",
   "execution_count": 1295,
   "id": "4478fce8-e896-46cf-bd3f-5beb2948e3b3",
   "metadata": {},
   "outputs": [
    {
     "data": {
      "text/plain": [
       "<Axes: xlabel='price', ylabel='Count'>"
      ]
     },
     "execution_count": 1295,
     "metadata": {},
     "output_type": "execute_result"
    },
    {
     "data": {
      "image/png": "[encoded data removed]",
      "text/plain": [
       "<Figure size 640x480 with 1 Axes>"
      ]
     },
     "metadata": {},
     "output_type": "display_data"
    }
   ],
   "source": [
    "sns.histplot(log_price)"
   ]
  },
  {
   "cell_type": "markdown",
   "id": "c9be8b2a-f084-493a-b070-267e53715b02",
   "metadata": {},
   "source": [
    "This transformation removes the long tail, and now the distribution resembles a bell-shaped curve. The model can deal with this more easily."
   ]
  },
  {
   "cell_type": "markdown",
   "id": "e49aeac1-5149-4de6-9576-2f93e3c42a79",
   "metadata": {},
   "source": [
    "Generally, it's good when the target distribution looks like the normal distribution. Under this condition, models such as linear regression perform well."
   ]
  },
  {
   "cell_type": "markdown",
   "id": "27b17d5d-6a91-447c-b264-2e1297f0694d",
   "metadata": {},
   "source": [
    "Let's check how many missing values there are."
   ]
  },
  {
   "cell_type": "code",
   "execution_count": 1296,
   "id": "f264f684-38a5-4b41-99f1-905384291e2a",
   "metadata": {},
   "outputs": [
    {
     "data": {
      "text/plain": [
       "id                                    0\n",
       "name                                 16\n",
       "host_id                               0\n",
       "host_name                            21\n",
       "neighbourhood_group                   0\n",
       "neighbourhood                         0\n",
       "latitude                              0\n",
       "longitude                             0\n",
       "room_type                             0\n",
       "price                                 0\n",
       "minimum_nights                        0\n",
       "number_of_reviews                     0\n",
       "last_review                       10052\n",
       "reviews_per_month                 10052\n",
       "calculated_host_listings_count        0\n",
       "availability_365                      0\n",
       "dtype: int64"
      ]
     },
     "execution_count": 1296,
     "metadata": {},
     "output_type": "execute_result"
    }
   ],
   "source": [
    "df.isnull().sum()"
   ]
  },
  {
   "cell_type": "markdown",
   "id": "ce21d1ac-2f79-4d2e-b9bf-830369ba9737",
   "metadata": {},
   "source": [
    "price doesn't have any missing values, this is good. A few columns like last_review and reviews_per_month have many missing values. We need to deal with missing values later when we train the model, so we should keep this problem in mind."
   ]
  },
  {
   "cell_type": "markdown",
   "id": "78fef26b-a78e-4a1e-9ce5-28482e1a4d5a",
   "metadata": {},
   "source": [
    "## Step 3: Data Preparation"
   ]
  },
  {
   "cell_type": "markdown",
   "id": "cad14532-8869-45b3-98f1-655078c08e48",
   "metadata": {},
   "source": [
    "We need to transform the data into a tabular form that we can use as input for a machine learning model."
   ]
  },
  {
   "cell_type": "markdown",
   "id": "836e7d5a-b2af-439f-a5b4-72370e362b93",
   "metadata": {},
   "source": [
    "This is where we transform the dataset into a set of features that we feed into the model later."
   ]
  },
  {
   "cell_type": "markdown",
   "id": "031e569f-e114-4534-ad37-19cd2df801c7",
   "metadata": {},
   "source": [
    "Let's split the dataset into Train, Validation, and Test."
   ]
  },
  {
   "cell_type": "markdown",
   "id": "043d3c1c-f25e-439f-b46f-b2111ccc55d4",
   "metadata": {},
   "source": [
    "Since the validation dataset is not used for training the model, the optimization method did not see this daya. When we apply the model to this data, it emulates the case of applying the model to new data that we've never seen."
   ]
  },
  {
   "cell_type": "markdown",
   "id": "0b450747-a171-422b-b1e6-38404e790cc7",
   "metadata": {},
   "source": [
    "A normal distribution would be to split the DataFrame such that 20% goes to validation, 20% goes to test, and the remaining 60% to train."
   ]
  },
  {
   "cell_type": "markdown",
   "id": "5e684e46-9484-411e-99fe-1c983b0373e0",
   "metadata": {},
   "source": [
    "To make sure that every time we use this dataset the results are the same, we fix the random seed."
   ]
  },
  {
   "cell_type": "code",
   "execution_count": 1297,
   "id": "9a9e1a1c-01eb-4a1b-bffb-da2c4d47668e",
   "metadata": {},
   "outputs": [],
   "source": [
    "np.random.seed(2)"
   ]
  },
  {
   "cell_type": "markdown",
   "id": "cfb1bd75-b83c-46ce-8988-3de2df614e41",
   "metadata": {},
   "source": [
    "Let's get the number of rows for each set of data"
   ]
  },
  {
   "cell_type": "code",
   "execution_count": 1336,
   "id": "95bf67b7-df11-4228-82db-593ec383f5cc",
   "metadata": {},
   "outputs": [],
   "source": [
    "n = len(df)\n",
    "\n",
    "n_validation = int(0.2 * n)\n",
    "n_test = int(0.2 * n)\n",
    "n_train = n - (n_validation + n_test)"
   ]
  },
  {
   "cell_type": "markdown",
   "id": "614afa5a-1955-4301-a463-b6b664f08946",
   "metadata": {},
   "source": [
    "Let's shuffle the df so that the rows are random"
   ]
  },
  {
   "cell_type": "code",
   "execution_count": 1337,
   "id": "d7a7ec28-27f7-47d1-b8e8-86790968603e",
   "metadata": {},
   "outputs": [
    {
     "data": {
      "text/html": [
       "<div>\n",
       "<style scoped>\n",
       "    .dataframe tbody tr th:only-of-type {\n",
       "        vertical-align: middle;\n",
       "    }\n",
       "\n",
       "    .dataframe tbody tr th {\n",
       "        vertical-align: top;\n",
       "    }\n",
       "\n",
       "    .dataframe thead th {\n",
       "        text-align: right;\n",
       "    }\n",
       "</style>\n",
       "<table border=\"1\" class=\"dataframe\">\n",
       "  <thead>\n",
       "    <tr style=\"text-align: right;\">\n",
       "      <th></th>\n",
       "      <th>id</th>\n",
       "      <th>name</th>\n",
       "      <th>host_id</th>\n",
       "      <th>host_name</th>\n",
       "      <th>neighbourhood_group</th>\n",
       "      <th>neighbourhood</th>\n",
       "      <th>latitude</th>\n",
       "      <th>longitude</th>\n",
       "      <th>room_type</th>\n",
       "      <th>price</th>\n",
       "      <th>minimum_nights</th>\n",
       "      <th>number_of_reviews</th>\n",
       "      <th>last_review</th>\n",
       "      <th>reviews_per_month</th>\n",
       "      <th>calculated_host_listings_count</th>\n",
       "      <th>availability_365</th>\n",
       "    </tr>\n",
       "  </thead>\n",
       "  <tbody>\n",
       "    <tr>\n",
       "      <th>31664</th>\n",
       "      <td>24674269</td>\n",
       "      <td>brooklyn_sleepytime_art_studio</td>\n",
       "      <td>33510832</td>\n",
       "      <td>benjamin</td>\n",
       "      <td>brooklyn</td>\n",
       "      <td>bedford-stuyvesant</td>\n",
       "      <td>40.69403</td>\n",
       "      <td>-73.94487</td>\n",
       "      <td>private_room</td>\n",
       "      <td>48</td>\n",
       "      <td>2</td>\n",
       "      <td>80</td>\n",
       "      <td>2019-06-28</td>\n",
       "      <td>5.93</td>\n",
       "      <td>2</td>\n",
       "      <td>45</td>\n",
       "    </tr>\n",
       "    <tr>\n",
       "      <th>15259</th>\n",
       "      <td>12211018</td>\n",
       "      <td>buck_room_at_casa_de_la_luna</td>\n",
       "      <td>12798614</td>\n",
       "      <td>jessica</td>\n",
       "      <td>brooklyn</td>\n",
       "      <td>bedford-stuyvesant</td>\n",
       "      <td>40.68860</td>\n",
       "      <td>-73.94153</td>\n",
       "      <td>private_room</td>\n",
       "      <td>79</td>\n",
       "      <td>2</td>\n",
       "      <td>0</td>\n",
       "      <td>NaN</td>\n",
       "      <td>NaN</td>\n",
       "      <td>3</td>\n",
       "      <td>319</td>\n",
       "    </tr>\n",
       "    <tr>\n",
       "      <th>15160</th>\n",
       "      <td>12106946</td>\n",
       "      <td>room_in_sunny_art-filled_harlem_apt</td>\n",
       "      <td>5075103</td>\n",
       "      <td>shawn</td>\n",
       "      <td>manhattan</td>\n",
       "      <td>harlem</td>\n",
       "      <td>40.82119</td>\n",
       "      <td>-73.95556</td>\n",
       "      <td>private_room</td>\n",
       "      <td>70</td>\n",
       "      <td>1</td>\n",
       "      <td>16</td>\n",
       "      <td>2016-10-16</td>\n",
       "      <td>0.40</td>\n",
       "      <td>2</td>\n",
       "      <td>0</td>\n",
       "    </tr>\n",
       "    <tr>\n",
       "      <th>47046</th>\n",
       "      <td>35570674</td>\n",
       "      <td>quiet_apartment_for_large_groups</td>\n",
       "      <td>49658508</td>\n",
       "      <td>kate</td>\n",
       "      <td>manhattan</td>\n",
       "      <td>kips_bay</td>\n",
       "      <td>40.74244</td>\n",
       "      <td>-73.97872</td>\n",
       "      <td>entire_home/apt</td>\n",
       "      <td>600</td>\n",
       "      <td>2</td>\n",
       "      <td>1</td>\n",
       "      <td>2019-07-02</td>\n",
       "      <td>1.00</td>\n",
       "      <td>1</td>\n",
       "      <td>226</td>\n",
       "    </tr>\n",
       "    <tr>\n",
       "      <th>36017</th>\n",
       "      <td>28615793</td>\n",
       "      <td>private_bedroom_in_4_bedroom_apt._in_tribeca</td>\n",
       "      <td>9299046</td>\n",
       "      <td>frederik</td>\n",
       "      <td>manhattan</td>\n",
       "      <td>civic_center</td>\n",
       "      <td>40.71638</td>\n",
       "      <td>-74.00419</td>\n",
       "      <td>private_room</td>\n",
       "      <td>120</td>\n",
       "      <td>5</td>\n",
       "      <td>5</td>\n",
       "      <td>2019-06-24</td>\n",
       "      <td>0.60</td>\n",
       "      <td>1</td>\n",
       "      <td>25</td>\n",
       "    </tr>\n",
       "    <tr>\n",
       "      <th>...</th>\n",
       "      <td>...</td>\n",
       "      <td>...</td>\n",
       "      <td>...</td>\n",
       "      <td>...</td>\n",
       "      <td>...</td>\n",
       "      <td>...</td>\n",
       "      <td>...</td>\n",
       "      <td>...</td>\n",
       "      <td>...</td>\n",
       "      <td>...</td>\n",
       "      <td>...</td>\n",
       "      <td>...</td>\n",
       "      <td>...</td>\n",
       "      <td>...</td>\n",
       "      <td>...</td>\n",
       "      <td>...</td>\n",
       "    </tr>\n",
       "    <tr>\n",
       "      <th>1183</th>\n",
       "      <td>504322</td>\n",
       "      <td>sunny_1bd_in_greenwich_village</td>\n",
       "      <td>471928</td>\n",
       "      <td>mahalia</td>\n",
       "      <td>manhattan</td>\n",
       "      <td>greenwich_village</td>\n",
       "      <td>40.72903</td>\n",
       "      <td>-74.00028</td>\n",
       "      <td>entire_home/apt</td>\n",
       "      <td>180</td>\n",
       "      <td>3</td>\n",
       "      <td>18</td>\n",
       "      <td>2017-07-01</td>\n",
       "      <td>0.21</td>\n",
       "      <td>1</td>\n",
       "      <td>0</td>\n",
       "    </tr>\n",
       "    <tr>\n",
       "      <th>20608</th>\n",
       "      <td>16374392</td>\n",
       "      <td>2_bedrooms_entire_beautiful_apt_in_williamsburg!</td>\n",
       "      <td>16949541</td>\n",
       "      <td>sebastian</td>\n",
       "      <td>brooklyn</td>\n",
       "      <td>williamsburg</td>\n",
       "      <td>40.71372</td>\n",
       "      <td>-73.96232</td>\n",
       "      <td>entire_home/apt</td>\n",
       "      <td>120</td>\n",
       "      <td>4</td>\n",
       "      <td>9</td>\n",
       "      <td>2019-01-06</td>\n",
       "      <td>0.42</td>\n",
       "      <td>2</td>\n",
       "      <td>291</td>\n",
       "    </tr>\n",
       "    <tr>\n",
       "      <th>33556</th>\n",
       "      <td>26555338</td>\n",
       "      <td>immaculate_and_spacious</td>\n",
       "      <td>20444038</td>\n",
       "      <td>debbie</td>\n",
       "      <td>manhattan</td>\n",
       "      <td>midtown</td>\n",
       "      <td>40.74624</td>\n",
       "      <td>-73.98255</td>\n",
       "      <td>entire_home/apt</td>\n",
       "      <td>465</td>\n",
       "      <td>2</td>\n",
       "      <td>31</td>\n",
       "      <td>2019-06-23</td>\n",
       "      <td>2.66</td>\n",
       "      <td>1</td>\n",
       "      <td>142</td>\n",
       "    </tr>\n",
       "    <tr>\n",
       "      <th>33313</th>\n",
       "      <td>26320521</td>\n",
       "      <td>beautiful_apartment_across_from_carnegie_hall</td>\n",
       "      <td>159498011</td>\n",
       "      <td>david</td>\n",
       "      <td>manhattan</td>\n",
       "      <td>midtown</td>\n",
       "      <td>40.76570</td>\n",
       "      <td>-73.98075</td>\n",
       "      <td>entire_home/apt</td>\n",
       "      <td>400</td>\n",
       "      <td>2</td>\n",
       "      <td>5</td>\n",
       "      <td>2018-12-30</td>\n",
       "      <td>0.43</td>\n",
       "      <td>1</td>\n",
       "      <td>0</td>\n",
       "    </tr>\n",
       "    <tr>\n",
       "      <th>45559</th>\n",
       "      <td>34834104</td>\n",
       "      <td>heights_ii</td>\n",
       "      <td>9130040</td>\n",
       "      <td>candace</td>\n",
       "      <td>brooklyn</td>\n",
       "      <td>east_flatbush</td>\n",
       "      <td>40.66189</td>\n",
       "      <td>-73.93309</td>\n",
       "      <td>private_room</td>\n",
       "      <td>99</td>\n",
       "      <td>1</td>\n",
       "      <td>1</td>\n",
       "      <td>2019-05-19</td>\n",
       "      <td>0.59</td>\n",
       "      <td>6</td>\n",
       "      <td>365</td>\n",
       "    </tr>\n",
       "  </tbody>\n",
       "</table>\n",
       "<p>48895 rows × 16 columns</p>\n",
       "</div>"
      ],
      "text/plain": [
       "             id                                              name    host_id  \\\n",
       "31664  24674269                    brooklyn_sleepytime_art_studio   33510832   \n",
       "15259  12211018                      buck_room_at_casa_de_la_luna   12798614   \n",
       "15160  12106946               room_in_sunny_art-filled_harlem_apt    5075103   \n",
       "47046  35570674                  quiet_apartment_for_large_groups   49658508   \n",
       "36017  28615793      private_bedroom_in_4_bedroom_apt._in_tribeca    9299046   \n",
       "...         ...                                               ...        ...   \n",
       "1183     504322                    sunny_1bd_in_greenwich_village     471928   \n",
       "20608  16374392  2_bedrooms_entire_beautiful_apt_in_williamsburg!   16949541   \n",
       "33556  26555338                           immaculate_and_spacious   20444038   \n",
       "33313  26320521     beautiful_apartment_across_from_carnegie_hall  159498011   \n",
       "45559  34834104                                        heights_ii    9130040   \n",
       "\n",
       "       host_name neighbourhood_group       neighbourhood  latitude  longitude  \\\n",
       "31664   benjamin            brooklyn  bedford-stuyvesant  40.69403  -73.94487   \n",
       "15259    jessica            brooklyn  bedford-stuyvesant  40.68860  -73.94153   \n",
       "15160      shawn           manhattan              harlem  40.82119  -73.95556   \n",
       "47046       kate           manhattan            kips_bay  40.74244  -73.97872   \n",
       "36017   frederik           manhattan        civic_center  40.71638  -74.00419   \n",
       "...          ...                 ...                 ...       ...        ...   \n",
       "1183     mahalia           manhattan   greenwich_village  40.72903  -74.00028   \n",
       "20608  sebastian            brooklyn        williamsburg  40.71372  -73.96232   \n",
       "33556     debbie           manhattan             midtown  40.74624  -73.98255   \n",
       "33313      david           manhattan             midtown  40.76570  -73.98075   \n",
       "45559    candace            brooklyn       east_flatbush  40.66189  -73.93309   \n",
       "\n",
       "             room_type  price  minimum_nights  number_of_reviews last_review  \\\n",
       "31664     private_room     48               2                 80  2019-06-28   \n",
       "15259     private_room     79               2                  0         NaN   \n",
       "15160     private_room     70               1                 16  2016-10-16   \n",
       "47046  entire_home/apt    600               2                  1  2019-07-02   \n",
       "36017     private_room    120               5                  5  2019-06-24   \n",
       "...                ...    ...             ...                ...         ...   \n",
       "1183   entire_home/apt    180               3                 18  2017-07-01   \n",
       "20608  entire_home/apt    120               4                  9  2019-01-06   \n",
       "33556  entire_home/apt    465               2                 31  2019-06-23   \n",
       "33313  entire_home/apt    400               2                  5  2018-12-30   \n",
       "45559     private_room     99               1                  1  2019-05-19   \n",
       "\n",
       "       reviews_per_month  calculated_host_listings_count  availability_365  \n",
       "31664               5.93                               2                45  \n",
       "15259                NaN                               3               319  \n",
       "15160               0.40                               2                 0  \n",
       "47046               1.00                               1               226  \n",
       "36017               0.60                               1                25  \n",
       "...                  ...                             ...               ...  \n",
       "1183                0.21                               1                 0  \n",
       "20608               0.42                               2               291  \n",
       "33556               2.66                               1               142  \n",
       "33313               0.43                               1                 0  \n",
       "45559               0.59                               6               365  \n",
       "\n",
       "[48895 rows x 16 columns]"
      ]
     },
     "execution_count": 1337,
     "metadata": {},
     "output_type": "execute_result"
    }
   ],
   "source": [
    "# the 2 lines below create a NumPy array with indices from 0 to [n - 1] and shuffles it\n",
    "idx = np.arange(n)\n",
    "np.random.shuffle(idx)\n",
    "\n",
    "# the line below uses the array with indices to get a shuffled DataFrame\n",
    "df_shuffled = df.iloc[idx]\n",
    "# if idx contains shuffled consequent numbers, this code will product a shuffled DataFrame\n",
    "df_shuffled"
   ]
  },
  {
   "cell_type": "markdown",
   "id": "7f0ec590-2f4a-4e03-afc7-d17c521368c1",
   "metadata": {},
   "source": [
    "Let's split the DataFrame into train, validation, and test now that the DataFrame is shuffled."
   ]
  },
  {
   "cell_type": "code",
   "execution_count": 1338,
   "id": "82674534-8923-4b40-b57c-4099dbf0af60",
   "metadata": {},
   "outputs": [],
   "source": [
    "df_train = df_shuffled.iloc[:n_train].copy()\n",
    "df_validation = df_shuffled.iloc[n_train: n_train + n_validation].copy()\n",
    "df_test = df_shuffled.iloc[n_train + n_validation:].copy()"
   ]
  },
  {
   "cell_type": "markdown",
   "id": "c111e986-925a-4622-b128-75428551f3e1",
   "metadata": {},
   "source": [
    "Now the DataFrame is split into three parts, and we can continue. Our initial analysis showed a long tail in the distribution of prices, and to remove its effect, we need to apply the log transformation. We can do that for each DataFrame separately."
   ]
  },
  {
   "cell_type": "code",
   "execution_count": 1301,
   "id": "aa17b84a-7af6-4f3a-a776-2d303bde0cb8",
   "metadata": {},
   "outputs": [],
   "source": [
    "y_train = np.log1p(df_train.price.values)\n",
    "y_validation = np.log1p(df_validation.price.values)\n",
    "y_test = np.log1p(df_test.price.values)"
   ]
  },
  {
   "cell_type": "markdown",
   "id": "6554b81e-3c74-4df8-881d-917957afe8ff",
   "metadata": {},
   "source": [
    "To avoid accidentally using the target variable later, let’s remove it from the dataframes. Note the code below will only work once so I will run it and then comment it out."
   ]
  },
  {
   "cell_type": "code",
   "execution_count": 1302,
   "id": "8401c47b-7364-433c-80dd-33412e3538c3",
   "metadata": {},
   "outputs": [],
   "source": [
    "# del df_train[\"price\"]\n",
    "# del df_validation[\"price\"]\n",
    "# del df_test[\"price\"]"
   ]
  },
  {
   "cell_type": "markdown",
   "id": "3dfb484e-9908-4ae2-a8ae-6c84074f1b52",
   "metadata": {},
   "source": [
    "Removing the target variable is an optional step. But it’s helpful to make sure that we don’t use it when training a model: if that happens, we’d use price for predicting the price, and our model would have perfect accuracy."
   ]
  },
  {
   "cell_type": "markdown",
   "id": "c89e4a49-3f09-440a-8cc4-01805e0826cd",
   "metadata": {},
   "source": [
    "## Step 4: Modeling"
   ]
  },
  {
   "cell_type": "markdown",
   "id": "f1d551ac-3157-44a6-a009-65255043aee8",
   "metadata": {},
   "source": [
    "This is where we decide which machine learning model to use to get the most out of the dataset. We adjust the features and train the model until it's at the accuracy we want."
   ]
  },
  {
   "cell_type": "markdown",
   "id": "3a8ea3ec-238b-47ba-9cf1-add1be6e7111",
   "metadata": {},
   "source": [
    "For this problem, we can do linear regression since we have some information about rental prices, and we want to predict the price of other rentals, so we'll be doing supervised learning. Also, since the target variable is numerical we can do linear regression since it's a type of supervised learning."
   ]
  },
  {
   "cell_type": "code",
   "execution_count": 1303,
   "id": "a39fe960-e01b-4e3f-b6f2-2de0853a6043",
   "metadata": {},
   "outputs": [],
   "source": [
    "def train_linear_regression(X, y):\n",
    "    # adding the dummy column\n",
    "    ones = np.ones(X.shape[0])\n",
    "    # print(ones)\n",
    "    X = np.column_stack([ones, X])\n",
    "\n",
    "    # normal equation formula\n",
    "    XTX = X.T.dot(X)\n",
    "    XTX_inv = np.linalg.inv(XTX)\n",
    "    w = XTX_inv.dot(X.T).dot(y)\n",
    "\n",
    "    return w[0], w[1:]"
   ]
  },
  {
   "cell_type": "markdown",
   "id": "b93cfb4c-1f09-4c96-bac2-eb99661ff689",
   "metadata": {},
   "source": [
    "### Let's come up with a baseline solution"
   ]
  },
  {
   "cell_type": "code",
   "execution_count": 1304,
   "id": "836ee231-e422-4c07-98b0-e97c727aed90",
   "metadata": {},
   "outputs": [
    {
     "data": {
      "text/plain": [
       "Index(['id', 'name', 'host_id', 'host_name', 'neighbourhood_group',\n",
       "       'neighbourhood', 'latitude', 'longitude', 'room_type', 'price',\n",
       "       'minimum_nights', 'number_of_reviews', 'last_review',\n",
       "       'reviews_per_month', 'calculated_host_listings_count',\n",
       "       'availability_365'],\n",
       "      dtype='object')"
      ]
     },
     "execution_count": 1304,
     "metadata": {},
     "output_type": "execute_result"
    }
   ],
   "source": [
    "df_train.columns"
   ]
  },
  {
   "cell_type": "markdown",
   "id": "b2c44d0c-ac49-4af3-be48-868b1d895ea1",
   "metadata": {},
   "source": [
    "A very naïve way of creating features is to select a few numerical features, and form the matrix X from them."
   ]
  },
  {
   "cell_type": "code",
   "execution_count": 1305,
   "id": "3a2673c2-313e-47d9-a5ae-f6e006887d84",
   "metadata": {},
   "outputs": [],
   "source": [
    "base = [\"host_id\", \"latitude\", \"longitude\", \"minimum_nights\", \"reviews_per_month\"]"
   ]
  },
  {
   "cell_type": "code",
   "execution_count": 1306,
   "id": "31a327e8-1da7-49ec-902b-323d18be4d86",
   "metadata": {},
   "outputs": [],
   "source": [
    "df_num = df_train[base]"
   ]
  },
  {
   "cell_type": "code",
   "execution_count": 1307,
   "id": "7de704f0-dc55-4610-87d3-ceaa7db0a977",
   "metadata": {},
   "outputs": [
    {
     "data": {
      "text/html": [
       "<div>\n",
       "<style scoped>\n",
       "    .dataframe tbody tr th:only-of-type {\n",
       "        vertical-align: middle;\n",
       "    }\n",
       "\n",
       "    .dataframe tbody tr th {\n",
       "        vertical-align: top;\n",
       "    }\n",
       "\n",
       "    .dataframe thead th {\n",
       "        text-align: right;\n",
       "    }\n",
       "</style>\n",
       "<table border=\"1\" class=\"dataframe\">\n",
       "  <thead>\n",
       "    <tr style=\"text-align: right;\">\n",
       "      <th></th>\n",
       "      <th>host_id</th>\n",
       "      <th>latitude</th>\n",
       "      <th>longitude</th>\n",
       "      <th>minimum_nights</th>\n",
       "      <th>reviews_per_month</th>\n",
       "    </tr>\n",
       "  </thead>\n",
       "  <tbody>\n",
       "    <tr>\n",
       "      <th>22043</th>\n",
       "      <td>25651976</td>\n",
       "      <td>40.76060</td>\n",
       "      <td>-73.99345</td>\n",
       "      <td>8</td>\n",
       "      <td>0.30</td>\n",
       "    </tr>\n",
       "    <tr>\n",
       "      <th>39679</th>\n",
       "      <td>146607158</td>\n",
       "      <td>40.73879</td>\n",
       "      <td>-73.98135</td>\n",
       "      <td>2</td>\n",
       "      <td>0.15</td>\n",
       "    </tr>\n",
       "    <tr>\n",
       "      <th>45220</th>\n",
       "      <td>173311396</td>\n",
       "      <td>40.80013</td>\n",
       "      <td>-73.93742</td>\n",
       "      <td>1</td>\n",
       "      <td>2.88</td>\n",
       "    </tr>\n",
       "    <tr>\n",
       "      <th>26853</th>\n",
       "      <td>137389534</td>\n",
       "      <td>40.68583</td>\n",
       "      <td>-73.95870</td>\n",
       "      <td>4</td>\n",
       "      <td>0.77</td>\n",
       "    </tr>\n",
       "    <tr>\n",
       "      <th>7366</th>\n",
       "      <td>3810454</td>\n",
       "      <td>40.79584</td>\n",
       "      <td>-73.97156</td>\n",
       "      <td>3</td>\n",
       "      <td>NaN</td>\n",
       "    </tr>\n",
       "    <tr>\n",
       "      <th>...</th>\n",
       "      <td>...</td>\n",
       "      <td>...</td>\n",
       "      <td>...</td>\n",
       "      <td>...</td>\n",
       "      <td>...</td>\n",
       "    </tr>\n",
       "    <tr>\n",
       "      <th>4729</th>\n",
       "      <td>16838156</td>\n",
       "      <td>40.73953</td>\n",
       "      <td>-73.98009</td>\n",
       "      <td>29</td>\n",
       "      <td>0.08</td>\n",
       "    </tr>\n",
       "    <tr>\n",
       "      <th>4917</th>\n",
       "      <td>515946</td>\n",
       "      <td>40.73041</td>\n",
       "      <td>-73.98960</td>\n",
       "      <td>4</td>\n",
       "      <td>0.75</td>\n",
       "    </tr>\n",
       "    <tr>\n",
       "      <th>19491</th>\n",
       "      <td>14676072</td>\n",
       "      <td>40.73626</td>\n",
       "      <td>-73.98104</td>\n",
       "      <td>3</td>\n",
       "      <td>NaN</td>\n",
       "    </tr>\n",
       "    <tr>\n",
       "      <th>11670</th>\n",
       "      <td>46019410</td>\n",
       "      <td>40.59631</td>\n",
       "      <td>-73.95743</td>\n",
       "      <td>2</td>\n",
       "      <td>0.27</td>\n",
       "    </tr>\n",
       "    <tr>\n",
       "      <th>26546</th>\n",
       "      <td>39528519</td>\n",
       "      <td>40.71110</td>\n",
       "      <td>-73.98865</td>\n",
       "      <td>14</td>\n",
       "      <td>0.25</td>\n",
       "    </tr>\n",
       "  </tbody>\n",
       "</table>\n",
       "<p>29337 rows × 5 columns</p>\n",
       "</div>"
      ],
      "text/plain": [
       "         host_id  latitude  longitude  minimum_nights  reviews_per_month\n",
       "22043   25651976  40.76060  -73.99345               8               0.30\n",
       "39679  146607158  40.73879  -73.98135               2               0.15\n",
       "45220  173311396  40.80013  -73.93742               1               2.88\n",
       "26853  137389534  40.68583  -73.95870               4               0.77\n",
       "7366     3810454  40.79584  -73.97156               3                NaN\n",
       "...          ...       ...        ...             ...                ...\n",
       "4729    16838156  40.73953  -73.98009              29               0.08\n",
       "4917      515946  40.73041  -73.98960               4               0.75\n",
       "19491   14676072  40.73626  -73.98104               3                NaN\n",
       "11670   46019410  40.59631  -73.95743               2               0.27\n",
       "26546   39528519  40.71110  -73.98865              14               0.25\n",
       "\n",
       "[29337 rows x 5 columns]"
      ]
     },
     "execution_count": 1307,
     "metadata": {},
     "output_type": "execute_result"
    }
   ],
   "source": [
    "df_num"
   ]
  },
  {
   "cell_type": "code",
   "execution_count": 1308,
   "id": "8bb1bb06-0407-4531-8182-d540fc66e7b7",
   "metadata": {},
   "outputs": [
    {
     "data": {
      "text/plain": [
       "host_id                 0\n",
       "latitude                0\n",
       "longitude               0\n",
       "minimum_nights          0\n",
       "reviews_per_month    6026\n",
       "dtype: int64"
      ]
     },
     "execution_count": 1308,
     "metadata": {},
     "output_type": "execute_result"
    }
   ],
   "source": [
    "df_num.isnull().sum()"
   ]
  },
  {
   "cell_type": "markdown",
   "id": "909ceb24-4970-4126-8351-d3245842d40d",
   "metadata": {},
   "source": [
    "None of values are missing, but one thing that is common for filling in missing values, is to fill in the missing values with zeros using fillna as shown below.\n",
    "\n",
    "It may not be the best method for dealing with missing values, but often, it's good enough."
   ]
  },
  {
   "cell_type": "code",
   "execution_count": 1309,
   "id": "382b3e03-0620-4217-b8ab-cd42b8b6324c",
   "metadata": {},
   "outputs": [],
   "source": [
    "df_num = df_num.fillna(0)"
   ]
  },
  {
   "cell_type": "markdown",
   "id": "9d1c56ae-4ec7-4a1b-b08f-f43b0acc22a0",
   "metadata": {},
   "source": [
    "The easiest to convert a DataFram to a NumPy array is using its values property as shown below."
   ]
  },
  {
   "cell_type": "code",
   "execution_count": 1310,
   "id": "29ddd03b-bce7-4580-b0e7-6c9aa9e5fe6e",
   "metadata": {},
   "outputs": [
    {
     "data": {
      "text/plain": [
       "array([[ 2.56519760e+07,  4.07606000e+01, -7.39934500e+01,\n",
       "         8.00000000e+00,  3.00000000e-01],\n",
       "       [ 1.46607158e+08,  4.07387900e+01, -7.39813500e+01,\n",
       "         2.00000000e+00,  1.50000000e-01],\n",
       "       [ 1.73311396e+08,  4.08001300e+01, -7.39374200e+01,\n",
       "         1.00000000e+00,  2.88000000e+00],\n",
       "       ...,\n",
       "       [ 1.46760720e+07,  4.07362600e+01, -7.39810400e+01,\n",
       "         3.00000000e+00,  0.00000000e+00],\n",
       "       [ 4.60194100e+07,  4.05963100e+01, -7.39574300e+01,\n",
       "         2.00000000e+00,  2.70000000e-01],\n",
       "       [ 3.95285190e+07,  4.07111000e+01, -7.39886500e+01,\n",
       "         1.40000000e+01,  2.50000000e-01]], shape=(29337, 5))"
      ]
     },
     "execution_count": 1310,
     "metadata": {},
     "output_type": "execute_result"
    }
   ],
   "source": [
    "df_num.values"
   ]
  },
  {
   "cell_type": "markdown",
   "id": "f9da5e9a-1034-4ed1-ae83-2b8c1069bf52",
   "metadata": {},
   "source": [
    "df_num.values is a matrix, a 2D NumPy array that is something we can use as input to a linear regression function"
   ]
  },
  {
   "cell_type": "code",
   "execution_count": 1311,
   "id": "0be79d7e-314a-4b59-801c-abdc2486afdb",
   "metadata": {},
   "outputs": [],
   "source": [
    "def prepare_X(df):\n",
    "    df_num = df[base]\n",
    "    df_num = df_num.fillna(0)\n",
    "    print(df_num)\n",
    "    X = df_num.values\n",
    "    print(X)\n",
    "    return X"
   ]
  },
  {
   "cell_type": "code",
   "execution_count": 1312,
   "id": "4c6bb1f2-6a33-40a8-80b9-275ac2ecf946",
   "metadata": {},
   "outputs": [
    {
     "name": "stdout",
     "output_type": "stream",
     "text": [
      "         host_id  latitude  longitude  minimum_nights  reviews_per_month\n",
      "22043   25651976  40.76060  -73.99345               8               0.30\n",
      "39679  146607158  40.73879  -73.98135               2               0.15\n",
      "45220  173311396  40.80013  -73.93742               1               2.88\n",
      "26853  137389534  40.68583  -73.95870               4               0.77\n",
      "7366     3810454  40.79584  -73.97156               3               0.00\n",
      "...          ...       ...        ...             ...                ...\n",
      "4729    16838156  40.73953  -73.98009              29               0.08\n",
      "4917      515946  40.73041  -73.98960               4               0.75\n",
      "19491   14676072  40.73626  -73.98104               3               0.00\n",
      "11670   46019410  40.59631  -73.95743               2               0.27\n",
      "26546   39528519  40.71110  -73.98865              14               0.25\n",
      "\n",
      "[29337 rows x 5 columns]\n",
      "[[ 2.56519760e+07  4.07606000e+01 -7.39934500e+01  8.00000000e+00\n",
      "   3.00000000e-01]\n",
      " [ 1.46607158e+08  4.07387900e+01 -7.39813500e+01  2.00000000e+00\n",
      "   1.50000000e-01]\n",
      " [ 1.73311396e+08  4.08001300e+01 -7.39374200e+01  1.00000000e+00\n",
      "   2.88000000e+00]\n",
      " ...\n",
      " [ 1.46760720e+07  4.07362600e+01 -7.39810400e+01  3.00000000e+00\n",
      "   0.00000000e+00]\n",
      " [ 4.60194100e+07  4.05963100e+01 -7.39574300e+01  2.00000000e+00\n",
      "   2.70000000e-01]\n",
      " [ 3.95285190e+07  4.07111000e+01 -7.39886500e+01  1.40000000e+01\n",
      "   2.50000000e-01]]\n"
     ]
    }
   ],
   "source": [
    "X_train = prepare_X(df_train)\n",
    "w_0, w = train_linear_regression(X_train, y_train)"
   ]
  },
  {
   "cell_type": "markdown",
   "id": "04e42fd4-31d3-4fd8-a474-ede7b1e62e51",
   "metadata": {},
   "source": [
    "The y_pred array contains the predictions for the specified dataset. In the cell below it's using the X_train dataset."
   ]
  },
  {
   "cell_type": "code",
   "execution_count": 1313,
   "id": "dc3fffde-13cc-492a-a84c-4af94c477e8e",
   "metadata": {},
   "outputs": [],
   "source": [
    "y_pred = w_0 + X_train.dot(w)"
   ]
  },
  {
   "cell_type": "markdown",
   "id": "3c001e9f-127c-40e7-9519-324857cf996c",
   "metadata": {},
   "source": [
    "To see how good the predictions are, we can use histplot, a Seaborn function for plotting histograms, to plot the predicted values and compare them with the actual prices."
   ]
  },
  {
   "cell_type": "code",
   "execution_count": 1314,
   "id": "5563470f-3391-4b1e-a688-e744a681ddda",
   "metadata": {},
   "outputs": [
    {
     "data": {
      "image/png": "[encoded data removed]",
      "text/plain": [
       "<Figure size 600x400 with 1 Axes>"
      ]
     },
     "metadata": {},
     "output_type": "display_data"
    }
   ],
   "source": [
    "plt.figure(figsize=(6, 4))\n",
    "\n",
    "sns.histplot(y_train, label=\"target\", color=\"#222222\", alpha=0.6, bins=40)\n",
    "sns.histplot(y_pred, label=\"prediction\", color=\"#aaaaaa\", alpha=0.8, bins=40)\n",
    "\n",
    "plt.legend()\n",
    "\n",
    "plt.ylabel(\"Frequency\")\n",
    "plt.xlabel(\"Log(Price + 1)\")\n",
    "plt.title(\"Predictions vs actual distribution\")\n",
    "\n",
    "plt.show()"
   ]
  },
  {
   "cell_type": "code",
   "execution_count": 1315,
   "id": "b517a90a-b601-413b-bc56-75a1c9822a08",
   "metadata": {},
   "outputs": [
    {
     "data": {
      "text/plain": [
       "(np.float64(9.210440366976517), np.float64(2.476066775413358))"
      ]
     },
     "execution_count": 1315,
     "metadata": {},
     "output_type": "execute_result"
    }
   ],
   "source": [
    "max(y_train) - min(y_train), max(y_pred) - min(y_pred)"
   ]
  },
  {
   "cell_type": "markdown",
   "id": "586142fd-c9b3-4aa0-b7f8-142278736991",
   "metadata": {},
   "source": [
    "The bins in the histogram have different widths despite specifying the same number of bins because sns.histplot automatically adjusts bin widths depending on the range of values in the data. The cell above shows the ranges for each."
   ]
  },
  {
   "cell_type": "markdown",
   "id": "16390af1-9461-454a-ba5a-70af545488fb",
   "metadata": {},
   "source": [
    "The center of the prediction seems to line up with the target, so even if the range is not the same, the model doesn't seem so bad."
   ]
  },
  {
   "cell_type": "markdown",
   "id": "381bf96d-257a-4eb5-8e21-eccd2328c8fc",
   "metadata": {},
   "source": [
    "## Step 5: Evaluation"
   ]
  },
  {
   "cell_type": "markdown",
   "id": "da5ca6f6-3d77-498e-8723-0d53e6f4cadc",
   "metadata": {},
   "source": [
    "Let's evaluate the model to see if it solves the original business problem and measure its success at doing that."
   ]
  },
  {
   "cell_type": "markdown",
   "id": "11870cc5-988e-43cc-a645-c593d75667fa",
   "metadata": {},
   "source": [
    "Looking at plots and comparing the distributions of the actual target variable with the predictions is a good way to evaluate quality, but we cannot do this every time we change something in the model. Instead, we need to use a metric that quantifies the quality of the model. We can use many metrics to evaluate how well a regression model behaves. The most commonly used one is root mean squared error, or RMSE for short."
   ]
  },
  {
   "cell_type": "markdown",
   "id": "a851015d-e8e4-440a-aeca-4a966d98a594",
   "metadata": {},
   "source": [
    "RMSE tells us how large the errors are that our model makes."
   ]
  },
  {
   "cell_type": "markdown",
   "id": "2d2aeb46-5755-4404-bd23-42d75df7a59f",
   "metadata": {},
   "source": [
    "When using NumPy to implement RMSE, we can take advantage of vectorization: the process of applying the same operation to all elements of one or more NumPy arrays. The code is more concise, and vectorized operations are a lot faster than simply Python for loops."
   ]
  },
  {
   "cell_type": "code",
   "execution_count": 1316,
   "id": "0bd778fe-b7c9-46f6-8fc2-c9ef1c577e28",
   "metadata": {},
   "outputs": [],
   "source": [
    "def rmse(y, y_pred):\n",
    "    error = y_pred - y\n",
    "    mse = (error ** 2).mean()\n",
    "    return np.sqrt(mse)"
   ]
  },
  {
   "cell_type": "code",
   "execution_count": 1317,
   "id": "073d448f-37c0-44ef-8137-124b994e0816",
   "metadata": {},
   "outputs": [
    {
     "data": {
      "text/plain": [
       "np.float64(0.6535588751957725)"
      ]
     },
     "execution_count": 1317,
     "metadata": {},
     "output_type": "execute_result"
    }
   ],
   "source": [
    "rmse(y_train, y_pred)"
   ]
  },
  {
   "cell_type": "markdown",
   "id": "2542560c-c098-482f-85ff-c71e53e1dc5e",
   "metadata": {},
   "source": [
    "The code prints 0.65 for the RMSE, this number tells us that on average, the model's predictions are off by 0.65. This result alone may not be very useful, but we can use it to compare this model with other models. If one model has a better RMSE than the other, it indicates that the model is better."
   ]
  },
  {
   "cell_type": "markdown",
   "id": "ef81fb95-9f44-4fc7-ac35-4db67a8dbd16",
   "metadata": {},
   "source": [
    "The model will be used to predict the price of rentals that it didn't see before. For that purpose, we set aside a validation dataset. We intentionally don't use it for training and keep it for validating the model."
   ]
  },
  {
   "cell_type": "markdown",
   "id": "0059c2d9-52b7-42de-9008-aa09f86caa60",
   "metadata": {},
   "source": [
    "We have already split our data into multiple parts: df_train, df_validation, and df_test. We have also created a matrix X_train from df_train and used X_train and y_train to train the model. Now we need to do the same steps to get X_validation -- a matrix with features computed from the validation dataset. Then we can apply the model to X_validation to get predictitons and compare them with y_validation."
   ]
  },
  {
   "cell_type": "code",
   "execution_count": 1318,
   "id": "ba3313f8-4d8b-47dd-bf71-f1cd94837eaf",
   "metadata": {},
   "outputs": [
    {
     "name": "stdout",
     "output_type": "stream",
     "text": [
      "         host_id  latitude  longitude  minimum_nights  reviews_per_month\n",
      "41972   72234136  40.77655  -73.93587               1               2.89\n",
      "14596     576387  40.72190  -73.99669               5               0.12\n",
      "18427    1206310  40.69369  -73.92421              10               0.09\n",
      "8783     1012583  40.71458  -73.96181               7               0.13\n",
      "47629  106823925  40.68886  -73.98303               2               0.00\n",
      "...          ...       ...        ...             ...                ...\n",
      "39514  222779801  40.72963  -73.98662               1               2.49\n",
      "13236   34010790  40.68808  -73.92060               1               0.00\n",
      "2657     2594389  40.74206  -73.99499               3               0.00\n",
      "16024   23050317  40.70944  -73.94920               7               0.16\n",
      "1354     2934010  40.73413  -74.00465               1               0.06\n",
      "\n",
      "[9779 rows x 5 columns]\n",
      "[[ 7.2234136e+07  4.0776550e+01 -7.3935870e+01  1.0000000e+00\n",
      "   2.8900000e+00]\n",
      " [ 5.7638700e+05  4.0721900e+01 -7.3996690e+01  5.0000000e+00\n",
      "   1.2000000e-01]\n",
      " [ 1.2063100e+06  4.0693690e+01 -7.3924210e+01  1.0000000e+01\n",
      "   9.0000000e-02]\n",
      " ...\n",
      " [ 2.5943890e+06  4.0742060e+01 -7.3994990e+01  3.0000000e+00\n",
      "   0.0000000e+00]\n",
      " [ 2.3050317e+07  4.0709440e+01 -7.3949200e+01  7.0000000e+00\n",
      "   1.6000000e-01]\n",
      " [ 2.9340100e+06  4.0734130e+01 -7.4004650e+01  1.0000000e+00\n",
      "   6.0000000e-02]]\n"
     ]
    }
   ],
   "source": [
    "X_validation = prepare_X(df_validation)\n",
    "y_pred = w_0 + X_validation.dot(w)"
   ]
  },
  {
   "cell_type": "markdown",
   "id": "b691d047-59b6-4136-9bee-2c4b03558d87",
   "metadata": {},
   "source": [
    "The y_pred array below contains the predictions for the validation dataset. Now we use y_pred and compare it with the actual prices from y_validation, using the RMSE function."
   ]
  },
  {
   "cell_type": "code",
   "execution_count": 1319,
   "id": "833ec7df-91fd-4653-963b-75a46ce84931",
   "metadata": {},
   "outputs": [
    {
     "data": {
      "text/plain": [
       "np.float64(0.6553174764826868)"
      ]
     },
     "execution_count": 1319,
     "metadata": {},
     "output_type": "execute_result"
    }
   ],
   "source": [
    "rmse(y_validation, y_pred)"
   ]
  },
  {
   "cell_type": "markdown",
   "id": "decc239f-6eba-4da7-9c61-03d51c627c78",
   "metadata": {},
   "source": [
    "The value this code prints is 0.66, which is the number we should use for comparing models."
   ]
  },
  {
   "cell_type": "markdown",
   "id": "b6d99fd7-58ae-449a-a1ce-d4eb7fe8d737",
   "metadata": {},
   "source": [
    "We already have a simple baseline model with simple features. To improve our model further, we can add more features to the model: we create others and add them to the existing features. This process is called feature engineering."
   ]
  },
  {
   "cell_type": "markdown",
   "id": "fd1a9115-eb33-4e24-8eaf-867dec66edf4",
   "metadata": {},
   "source": [
    "Since we have already set up the validation framework, we can easily verify whether adding new features improves the quality of the model. Our aim is to improve the RMSE calculated on the validation data."
   ]
  },
  {
   "cell_type": "markdown",
   "id": "896d5ce0-f44f-4038-9c49-be5fc49ed310",
   "metadata": {},
   "source": [
    "We can create a new feature, \"last_review_age\", from the feature \"last_review\". The age of the most recent review should be helpful when predicting its price: intuitively, the more recent the review, the more likely that it's popular, and can charge a higher price."
   ]
  },
  {
   "cell_type": "code",
   "execution_count": 1320,
   "id": "27074911-1003-454e-a751-a8954c8f3fa2",
   "metadata": {},
   "outputs": [],
   "source": [
    "df_train[\"last_review_age\"] = max(pd.to_datetime(df_train.last_review).dt.year) - pd.to_datetime(df_train.last_review).dt.year.fillna(0)"
   ]
  },
  {
   "cell_type": "code",
   "execution_count": 1321,
   "id": "e02b317d-d31e-410b-98f8-649b71ffbf8f",
   "metadata": {},
   "outputs": [
    {
     "data": {
      "text/plain": [
       "22043       0.0\n",
       "39679       1.0\n",
       "45220       0.0\n",
       "26853       0.0\n",
       "7366     2019.0\n",
       "          ...  \n",
       "4729        1.0\n",
       "4917        0.0\n",
       "19491    2019.0\n",
       "11670       1.0\n",
       "26546       0.0\n",
       "Name: last_review_age, Length: 29337, dtype: float64"
      ]
     },
     "execution_count": 1321,
     "metadata": {},
     "output_type": "execute_result"
    }
   ],
   "source": [
    "df_train[\"last_review_age\"]"
   ]
  },
  {
   "cell_type": "markdown",
   "id": "a78b0c33-eb1c-4764-acbc-6bf40ed4a26c",
   "metadata": {},
   "source": [
    "We already know that we will need to apply the same preprocessing twice: to the training and validation sets. Because we don’t want to repeat the feature extraction code multiple times, let’s put this logic into the prepare_X function."
   ]
  },
  {
   "cell_type": "code",
   "execution_count": 1322,
   "id": "97a5e735-0a01-4673-9994-0ec10b2e92cc",
   "metadata": {},
   "outputs": [],
   "source": [
    "def prepare_X(df):\n",
    "    df = df.copy()\n",
    "    features = base.copy()\n",
    " \n",
    "    df[\"last_review_age\"] = max(pd.to_datetime(df.last_review).dt.year) - pd.to_datetime(df.last_review).dt.year\n",
    "    features.append(\"last_review_age\")\n",
    " \n",
    "    df_num = df[features]\n",
    "    df_num = df_num.fillna(0)\n",
    "    X = df_num.values\n",
    "    return X"
   ]
  },
  {
   "cell_type": "markdown",
   "id": "5fc0979d-360d-4c42-8bab-55616b2ec941",
   "metadata": {},
   "source": [
    "The behavior shown above is known as a side effect: the caller of the function may not expect the function to change the DataFrame. To prevent the unpleasant surprise, we modify the copy of the original DataFrame. We don't want to modify the original DataFrame."
   ]
  },
  {
   "cell_type": "code",
   "execution_count": 1323,
   "id": "067c9f2c-1a29-4678-8dc2-8411f439e56b",
   "metadata": {},
   "outputs": [
    {
     "name": "stdout",
     "output_type": "stream",
     "text": [
      "train 0.6527148266810424\n",
      "validation 0.6543554446698281\n"
     ]
    }
   ],
   "source": [
    "X_train = prepare_X(df_train)\n",
    "w_0, w = train_linear_regression(X_train, y_train)\n",
    "\n",
    "y_pred = w_0 + X_train.dot(w)\n",
    "print(\"train\", rmse(y_train, y_pred))\n",
    "\n",
    "X_validation = prepare_X(df_validation)\n",
    "y_pred = w_0 + X_validation.dot(w)\n",
    "print(\"validation\", rmse(y_validation, y_pred))"
   ]
  },
  {
   "cell_type": "markdown",
   "id": "40d7c2bb-d2a6-4db9-b51e-372da3656a53",
   "metadata": {},
   "source": [
    "The errors for both train and validation went down a bit, so this concludes that adding \"last_review_age\" is helpful when making predictions."
   ]
  },
  {
   "cell_type": "code",
   "execution_count": 1324,
   "id": "ea0c0c4b-80a6-4e8b-873a-7c125dba9f93",
   "metadata": {},
   "outputs": [
    {
     "data": {
      "image/png": "[encoded data removed]",
      "text/plain": [
       "<Figure size 600x400 with 1 Axes>"
      ]
     },
     "metadata": {},
     "output_type": "display_data"
    }
   ],
   "source": [
    "plt.figure(figsize=(6, 4))\n",
    "\n",
    "\n",
    "sns.histplot(y_validation, label=\"target\", color=\"#222222\", alpha=0.6, bins=40)\n",
    "sns.histplot(y_pred, label=\"prediction\", color=\"#aaaaaa\", alpha=0.8, bins=40)\n",
    "\n",
    "plt.legend()\n",
    "\n",
    "plt.ylabel(\"Frequency\")\n",
    "plt.xlabel(\"Log(Price + 1)\")\n",
    "plt.title(\"Predictions vs actual distribution\")\n",
    "\n",
    "plt.show()"
   ]
  },
  {
   "cell_type": "markdown",
   "id": "fc98e206-8a1c-44c6-b9e9-b39cd2ea52e7",
   "metadata": {},
   "source": [
    "In the figure above, we see that the distribution of the predictions more closely follows the target distribution than before. The validation RMSE score confirms it."
   ]
  },
  {
   "cell_type": "markdown",
   "id": "43bc3c24-2bd3-4e65-bd3f-7adbc26f40c8",
   "metadata": {},
   "source": [
    "Categorical variables describe characteristics of objects and can take one of a few possible values. Categorical variables are not always strings and can sometimes be numbers, such as when you consider the doors of a car, this can only be one of a few possible values."
   ]
  },
  {
   "cell_type": "markdown",
   "id": "1aef609e-3d60-47f9-a7eb-8f0746bc2559",
   "metadata": {},
   "source": [
    "We can use categorical variables in a machine learning model in multiple ways. One of the simplest ways is to encode such variables by a set of binary features, with a separate feature for each distinct value."
   ]
  },
  {
   "cell_type": "markdown",
   "id": "68595c49-742e-4f2c-b7f7-9074040d41b0",
   "metadata": {},
   "source": [
    "In our case, we will create 5 binary features: in_manhattan, in_brooklyn, in_queens, in_bronx, and in_staten_island. If the rental is in manhattan, in_manhatan will be set to 1, and the rest will be 0. The same for the other features."
   ]
  },
  {
   "cell_type": "markdown",
   "id": "e191a714-6f2a-4592-9557-6f89e5f59dfc",
   "metadata": {},
   "source": [
    "This method of encoding categorical variables is called one-hot encoding. We will do the simplest way to do this encoding: looping over the possible values and, for each value, checking whether the value of the observation matches it."
   ]
  },
  {
   "cell_type": "markdown",
   "id": "523f99d3-8dee-4a0e-9c93-7ba65f2780c4",
   "metadata": {},
   "source": [
    "Let's add these lines to the prepare_X function for variables based on neighbourhood_group and room_type:"
   ]
  },
  {
   "cell_type": "code",
   "execution_count": 1325,
   "id": "0c1ecfef-803f-4494-8b1a-2b0f1d727372",
   "metadata": {},
   "outputs": [],
   "source": [
    "def prepare_X(df):\n",
    "    df = df.copy()\n",
    "    features = base.copy()\n",
    " \n",
    "    # df[\"last_review_age\"] = max(pd.to_datetime(df.last_review).dt.year) - pd.to_datetime(df.last_review).dt.year  # look at the comment a few lines below\n",
    "    df[\"last_review_age\"] = 2019 - pd.to_datetime(df.last_review).dt.year\n",
    "    features.append(\"last_review_age\")\n",
    "\n",
    "    # for variable in df[\"neighbourhood_group\"].value_counts().index.tolist():  # this syntax will not work because let's say you are given a new dataset and want to predict a price, it'll only have 1 value in neighbourhood_group, so not all of the variables will be added to the features\n",
    "    for variable in [\"manhattan\", \"brooklyn\", \"queens\", \"bronx\", 'staten_island']:\n",
    "        feature = \"in_%s\" % variable\n",
    "        df[feature] = (df[\"neighbourhood_group\"] == variable).astype(int)\n",
    "        features.append(feature)\n",
    "\n",
    "    # for variable in df[\"room_type\"].value_counts().index.tolist():\n",
    "    for variable in [\"entire_home/apt\", \"private_room\", \"shared_room\"]:\n",
    "        feature = \"is_%s\" % variable\n",
    "        df[feature] = (df[\"room_type\"] == variable).astype(int)\n",
    "        features.append(feature)\n",
    " \n",
    "    df_num = df[features]\n",
    "    df_num = df_num.fillna(0)\n",
    "    X = df_num.values\n",
    "    return X"
   ]
  },
  {
   "cell_type": "markdown",
   "id": "0dbdaa84-ba58-422e-887d-cd0e819ab215",
   "metadata": {},
   "source": [
    "Now, let's check whether this code improves the RMSE of the model:"
   ]
  },
  {
   "cell_type": "code",
   "execution_count": 1326,
   "id": "1f8a2fdd-01ab-4034-97ed-d7a78b2febc7",
   "metadata": {},
   "outputs": [
    {
     "name": "stdout",
     "output_type": "stream",
     "text": [
      "validation: 1051.6487135577224\n"
     ]
    }
   ],
   "source": [
    "X_train = prepare_X(df_train)\n",
    "w_0, w = train_linear_regression(X_train, y_train)\n",
    "\n",
    "X_validation = prepare_X(df_validation)\n",
    "y_pred = w_0 + X_validation.dot(w)\n",
    "print(\"validation:\", rmse(y_validation, y_pred))"
   ]
  },
  {
   "cell_type": "markdown",
   "id": "31e8e359-67e9-454d-ba4f-7705171385a6",
   "metadata": {},
   "source": [
    "We see that the validation is now ~1052, so the model got much worse. We see that adding new features does not always help, and in this case it made the model much worse. The reason for this behaviour is numerical instability. For example, if we already have the latitude and longitude in our features and we decide to add the neighborhood, it's kind of like adding a feature that is very similar to ones already in the dataset, but multiplied by a constant.\n",
    "\n",
    "When this happens, XTX becomes undetermined or singular, which means that it's not possible to find an inverse for this matrix. If we try to invert a singular matrix, NumPy will tell us about that by raising a LinAlgError."
   ]
  },
  {
   "cell_type": "markdown",
   "id": "bc8c3378-c152-4486-893a-8d5bbe446f09",
   "metadata": {},
   "source": [
    "In numerical linear algebra, such issues are called numerical instability issues, and they are typically solved with regularization techniques. The aim of regularization is to make sure that the inverse exists by forcing the matrix to be invertible. It's kind of controlling the weights of the model so that they behave correctly and don't grow too large, as in our case."
   ]
  },
  {
   "cell_type": "markdown",
   "id": "e6cb5eb7-2be5-4c42-b88c-e14b23851574",
   "metadata": {},
   "source": [
    "One way to do regularization is to add a small number to each diagonal element of the matrix. We do that and update the train_linear_regression function by adding regularization and using a new train_linear_regression_reg function."
   ]
  },
  {
   "cell_type": "code",
   "execution_count": 1327,
   "id": "6ccbe533-f262-4518-8b03-c175c35a6f49",
   "metadata": {},
   "outputs": [],
   "source": [
    "def train_linear_regression_reg(X, y, r=0.0):\n",
    "    ones = np.ones(X.shape[0])\n",
    "    X = np.column_stack([ones, X])\n",
    "\n",
    "    XTX = X.T.dot(X)\n",
    "    reg = r * np.eye(XTX.shape[0])\n",
    "    XTX = XTX + reg\n",
    "\n",
    "    XTX_inv = np.linalg.inv(XTX)\n",
    "    w = XTX_inv.dot(X.T).dot(y)\n",
    "    \n",
    "    return w[0], w[1:]"
   ]
  },
  {
   "cell_type": "markdown",
   "id": "edeb15e8-2c43-4194-90e1-f1757b4b3aaf",
   "metadata": {},
   "source": [
    "The r parameter in the function above controls the amount of refularization."
   ]
  },
  {
   "cell_type": "markdown",
   "id": "c9bc5a0f-b983-4a68-b56b-1775be7601ec",
   "metadata": {},
   "source": [
    "Regularization affects the final solution by making the components of w smaller. We can see that the more regularization we add, the smaller the weights become."
   ]
  },
  {
   "cell_type": "code",
   "execution_count": 1328,
   "id": "fac83c2d-c737-4aab-bb95-f9e666908827",
   "metadata": {},
   "outputs": [
    {
     "name": "stdout",
     "output_type": "stream",
     "text": [
      "    0, 438225670721320.75, 11259.89, -14.22\n",
      "0.001, -95.21, -2.59, -0.02\n",
      " 0.01, -36.73, -1.66, -0.02\n",
      "  0.1, -5.14, -1.16, -0.02\n",
      "    1, -0.54, -1.06, -0.02\n",
      "   10, -0.05, -0.86, -0.02\n"
     ]
    }
   ],
   "source": [
    "X_train = prepare_X(df_train)\n",
    "\n",
    "for r in [0, 0.001, 0.01, 0.1, 1, 10]:\n",
    "    w_0, w = train_linear_regression_reg(X_train, y_train, r=r)\n",
    "    print('%5s, %.2f, %.2f, %.2f' % (r, w_0, w[2], w[4]))"
   ]
  },
  {
   "cell_type": "markdown",
   "id": "32433454-4ab7-4776-9572-4339a4d54241",
   "metadata": {},
   "source": [
    "We start with 0, which is an unregularized solution, and get very large numbers. Then we try 0.001 and increase it 10 times on each step: 0.01, 0.1, 1, and 10. We see that the values that we selected become smaller as r grows."
   ]
  },
  {
   "cell_type": "code",
   "execution_count": 1329,
   "id": "965cb85a-99b4-4dcd-bc93-72c47dba5e69",
   "metadata": {},
   "outputs": [
    {
     "name": "stdout",
     "output_type": "stream",
     "text": [
      "validation: 0.4988573767263985\n"
     ]
    }
   ],
   "source": [
    "X_train = prepare_X(df_train)\n",
    "w_0, w = train_linear_regression_reg(X_train, y_train, r=0.001)\n",
    " \n",
    "X_validation = prepare_X(df_validation)\n",
    "y_pred = w_0 + X_validation.dot(w)\n",
    "print(\"validation:\", rmse(y_validation, y_pred))"
   ]
  },
  {
   "cell_type": "markdown",
   "id": "647f988a-cdd1-4458-89c8-cad281f0b1d3",
   "metadata": {},
   "source": [
    "This result is a great improvement from 1052."
   ]
  },
  {
   "cell_type": "markdown",
   "id": "b8d6916c-fe8f-4dc6-900a-843f66b260b1",
   "metadata": {},
   "source": [
    "Sometimes, when adding a new feature causes performance degradation, simply removing this feature may be enough to solve the problem. Having a validation dataset is important to decide whether to add regularization, remove the feature, or do both: we use the score on the validation data to choose the best option. In our particular case, we see that adding regularization helps: it improves the score we had previously."
   ]
  },
  {
   "cell_type": "code",
   "execution_count": 1330,
   "id": "bf10ae05-f5fa-4136-8d5d-6b350483cc78",
   "metadata": {},
   "outputs": [
    {
     "name": "stdout",
     "output_type": "stream",
     "text": [
      " 1e-06 0.49891326637826794\n",
      "0.0001 0.49889681688202486\n",
      " 0.001 0.4988573767263985\n",
      "  0.01 0.499805424611677\n",
      "   0.1 0.5009960829284275\n",
      "     1 0.5011788997322225\n",
      "     5 0.5011476071653578\n",
      "    10 0.5012112691469358\n"
     ]
    }
   ],
   "source": [
    "X_train = prepare_X(df_train)\n",
    "X_validation = prepare_X(df_validation)\n",
    "\n",
    "for r in [0.000001, 0.0001, 0.001, 0.01, 0.1, 1, 5, 10]:\n",
    "    w_0, w = train_linear_regression_reg(X_train, y_train, r=r)\n",
    "    y_pred = w_0 + X_validation.dot(w)\n",
    "    print(\"%6s\" %r, rmse(y_validation, y_pred))"
   ]
  },
  {
   "cell_type": "markdown",
   "id": "eec60295-34ce-42cf-bad4-bc8960a15200",
   "metadata": {},
   "source": [
    "We see that the best performance is achieved with a smaller r."
   ]
  },
  {
   "cell_type": "markdown",
   "id": "82b20f21-a049-4d2e-b083-c14d6ba58c43",
   "metadata": {},
   "source": [
    "We also notice that the performance for values below 0.1 don’t change much except in the sixth digit, which we shouldn’t consider to be significant."
   ]
  },
  {
   "cell_type": "markdown",
   "id": "bcf632fc-e4d3-474e-a369-a73f5efa03da",
   "metadata": {},
   "source": [
    "Let’s take the model with r=0.01 as the final model. Now we can check it against the test dataset to verify if the model works:"
   ]
  },
  {
   "cell_type": "code",
   "execution_count": 1331,
   "id": "e57d2d4a-f0d3-40ce-90df-e4fb219aab6d",
   "metadata": {},
   "outputs": [
    {
     "name": "stdout",
     "output_type": "stream",
     "text": [
      "validation: 0.499805424611677\n",
      "test: 0.5021474381695892\n"
     ]
    }
   ],
   "source": [
    "X_train = prepare_X(df_train)\n",
    "w_0, w = train_linear_regression_reg(X_train, y_train, r=0.01)\n",
    " \n",
    "X_validation = prepare_X(df_validation)\n",
    "y_pred = w_0 + X_validation.dot(w)\n",
    "print(\"validation:\", rmse(y_validation, y_pred))\n",
    " \n",
    "X_test = prepare_X(df_test)\n",
    "y_pred = w_0 + X_test.dot(w)\n",
    "print(\"test:\", rmse(y_test, y_pred))"
   ]
  },
  {
   "cell_type": "markdown",
   "id": "1faabba0-02df-4594-8eca-c48e2d6191b2",
   "metadata": {},
   "source": [
    "Since these two numbers are pretty close, we conclude that the model can generalize well to the new unseen data."
   ]
  },
  {
   "cell_type": "markdown",
   "id": "de209253-3280-49dd-aac0-b35216993379",
   "metadata": {},
   "source": [
    "## Step 6: Deployment"
   ]
  },
  {
   "cell_type": "markdown",
   "id": "9548d9fc-cea1-4942-8135-922d76311738",
   "metadata": {},
   "source": [
    "We deploy the model to the production environment."
   ]
  },
  {
   "cell_type": "markdown",
   "id": "b23a839a-ddf8-445d-9fd0-2d3aee5cd465",
   "metadata": {},
   "source": [
    "### Using the model"
   ]
  },
  {
   "cell_type": "markdown",
   "id": "b99efd3b-5b67-4547-bec1-02bde901118d",
   "metadata": {},
   "source": [
    "Since we now have a model, we can start using it for predicting the price of a rental in NYC. Suppose that a new rental popped up with the following info:"
   ]
  },
  {
   "cell_type": "code",
   "execution_count": 1332,
   "id": "17ccdafb-f84d-413e-90be-42edfa2ac5ff",
   "metadata": {},
   "outputs": [],
   "source": [
    "ad = {\n",
    "    \"id\": 3728,\n",
    "    \"name\": \"brand_new_rental_up_the_block\",\n",
    "    \"host_id\": 368,\n",
    "    \"host_name\": \"peter\",\n",
    "    \"neighbourhood_group\": \"brooklyn\",\n",
    "    \"neighbourhood\": \"clinton_hill\",\n",
    "    \"latitude\": 40.68553,\n",
    "    \"longitude\": -73.95473,\n",
    "    \"room_type\": \"private_room\",\n",
    "    \"price\": 75,\n",
    "    \"minimum_nights\": 3,\n",
    "    \"number_of_reviews\": 45,\n",
    "    \"last_review\": \"2018-11-19\",\n",
    "    \"reviews_per_month\": 0.35,\n",
    "    \"calculated_host_listings_count\": 3,\n",
    "    \"availability_365\": 345\n",
    "}"
   ]
  },
  {
   "cell_type": "markdown",
   "id": "7a842a99-00cc-4947-b307-41e967b476cf",
   "metadata": {},
   "source": [
    "We'd like to suggest the price for this rental. For that, we use our model:"
   ]
  },
  {
   "cell_type": "code",
   "execution_count": 1333,
   "id": "632a8725-a62d-4993-a45a-0624129d86c4",
   "metadata": {},
   "outputs": [],
   "source": [
    "df_test_ad = pd.DataFrame([ad])\n",
    "X_test = prepare_X(df_test_ad)\n",
    "y_pred = w_0 + X_test.dot(w)"
   ]
  },
  {
   "cell_type": "markdown",
   "id": "a44d0e99-c1ff-49fb-a6af-7170d55850eb",
   "metadata": {},
   "source": [
    "This prediction is not the final price, however; it's the logarithm of the price. To get the actual price, we need to undo the logarithm and apply the exponent function:"
   ]
  },
  {
   "cell_type": "code",
   "execution_count": 1334,
   "id": "63e88477-4914-4563-8d06-f72dfe2ab8db",
   "metadata": {},
   "outputs": [
    {
     "data": {
      "text/plain": [
       "array([66.99668915])"
      ]
     },
     "execution_count": 1334,
     "metadata": {},
     "output_type": "execute_result"
    }
   ],
   "source": [
    "suggestion = np.expm1(y_pred)\n",
    "suggestion"
   ]
  },
  {
   "cell_type": "markdown",
   "id": "a8e15ab5-1a30-44ca-91ff-06e2a6dd4be0",
   "metadata": {},
   "source": [
    "The output is 67. The real price of this car is $75, so our model is not far from the actual price."
   ]
  },
  {
   "cell_type": "markdown",
   "id": "7a5abfd6-367b-45e5-80b6-c5173ce456c0",
   "metadata": {},
   "source": [
    "Let's try with some random rentals from the original dataset."
   ]
  },
  {
   "cell_type": "code",
   "execution_count": 1335,
   "id": "fdf96914-b6a9-4874-a59b-979091c7333c",
   "metadata": {},
   "outputs": [
    {
     "name": "stdout",
     "output_type": "stream",
     "text": [
      "125 146.75669149280893\n",
      "250 223.3717298707531\n",
      "130 71.0760356159288\n",
      "50 43.17315818233426\n",
      "59 88.83410538947764\n",
      "115 209.9219651675119\n",
      "100 129.48660790979898\n",
      "2000 212.59335073928372\n",
      "225 200.00465862603951\n",
      "80 136.66735049783915\n"
     ]
    }
   ],
   "source": [
    "import random\n",
    "for i in range(10):\n",
    "    random_i = int(random.random() * n_test)\n",
    "    ad = df_test.iloc[random_i].to_dict()\n",
    "    X_test = prepare_X(pd.DataFrame([ad]))[0]\n",
    "    y_pred = w_0 + X_test.dot(w)\n",
    "    suggestion = np.expm1(y_pred)\n",
    "    print(ad[\"price\"], suggestion)"
   ]
  },
  {
   "cell_type": "markdown",
   "id": "9d450b69-1fb7-4839-8810-c99659f6f950",
   "metadata": {},
   "source": [
    "The cell above shows that rentals with higher prices are generally predicted to have higher price, the same goes for rentals with lower prices. The current model looks good!"
   ]
  }
 ],
 "metadata": {
  "kernelspec": {
   "display_name": "Python 3 (ipykernel)",
   "language": "python",
   "name": "python3"
  },
  "language_info": {
   "codemirror_mode": {
    "name": "ipython",
    "version": 3
   },
   "file_extension": ".py",
   "mimetype": "text/x-python",
   "name": "python",
   "nbconvert_exporter": "python",
   "pygments_lexer": "ipython3",
   "version": "3.10.15"
  }
 },
 "nbformat": 4,
 "nbformat_minor": 5
}
