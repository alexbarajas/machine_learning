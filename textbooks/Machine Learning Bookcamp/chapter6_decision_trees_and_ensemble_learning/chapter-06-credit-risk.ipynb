{
 "cells": [
  {
   "cell_type": "markdown",
   "id": "49206274-3e03-4dd9-88ac-64427c35d937",
   "metadata": {},
   "source": [
    "# Credit risk scoring project"
   ]
  },
  {
   "cell_type": "markdown",
   "id": "7674946b-6056-42d7-9d18-db4f2873c4d0",
   "metadata": {},
   "source": [
    "Decision trees, the simplest tree-based model, are nothing but a sequence of it-then-else rules put together."
   ]
  },
  {
   "cell_type": "markdown",
   "id": "3eedeabf-284a-4761-9921-76a48d625241",
   "metadata": {},
   "source": [
    "We can combine multiple decision trees into an ensemble to achieve better performance. We cover two tree-based ensemble models: random forest and gradient boosting."
   ]
  },
  {
   "cell_type": "markdown",
   "id": "f9c367d0-4080-4157-848d-7dd406c25cee",
   "metadata": {},
   "source": [
    "The project we prepared for this chapter is default prediction: we predict whether or not a customer will fail to pay back a loan. We learn how to train decision trees and random forest models with Scikit-learn and explore XGBoost-a library for implementing gradient boosting models."
   ]
  },
  {
   "cell_type": "markdown",
   "id": "5475afa4-37d4-43d7-8afb-6954ba617d83",
   "metadata": {},
   "source": [
    "## 6.1. Credit risk scoring project"
   ]
  },
  {
   "cell_type": "markdown",
   "id": "5bca5c32-f2db-44cd-9cce-00d196527be6",
   "metadata": {},
   "source": [
    "Imagine that we work at a bank. When we receive a loan application, we need to make sure that if we give the money, the customer will be able to pay it back. Every application carries a risk of default—the failure to return the money."
   ]
  },
  {
   "cell_type": "markdown",
   "id": "5fb62ced-1339-45fb-a2f9-e74115db6dc9",
   "metadata": {},
   "source": [
    "We’d like to minimize this risk: before agreeing to give a loan, we want to score the customer and assess the chances of default. If it’s too high, we reject the application. This process is called “credit risk scoring.”"
   ]
  },
  {
   "cell_type": "markdown",
   "id": "dd35d85a-a63c-4edd-8bc1-c2a84aa15168",
   "metadata": {},
   "source": [
    "In this chapter we will use machine learning to calculate the risk of default. The plan for the project is the following:\n",
    "\n",
    "- First, we get the data and do some initial preprocessing.\n",
    "- Next, we train a decision tree model from Scikit-learn for predicting the probability of default.\n",
    "- After that, we explain how decision trees work and which parameters the model has and show how to adjust these parameters to get the best performance.\n",
    "- Then we combine multiple decision trees into one model—a random forest. We look at its parameters and tune them to achieve the best predictive performance.\n",
    "- Finally, we explore a different way of combining decision trees—gradient boosting. We use XGBoost, a highly efficient library that implements gradient boosting. We’ll train a model and tune its parameters."
   ]
  },
  {
   "cell_type": "markdown",
   "id": "546a5e5d-c1cc-4b54-906e-70b834cfbb71",
   "metadata": {},
   "source": [
    "Credit risk scoring is a binary classification problem: the target is positive (“1”) if the customer defaults and negative (“0”) otherwise. For evaluating our solution, we’ll use AUC (area under the ROC curve), which we covered in chapter 4. AUC describes how well our model can separate the cases into positive and negative ones."
   ]
  },
  {
   "cell_type": "markdown",
   "id": "f882a127-1c2d-4fb2-aca0-71528c8a9108",
   "metadata": {},
   "source": [
    "### 6.1.1. Credit scoring dataset"
   ]
  },
  {
   "cell_type": "code",
   "execution_count": 2,
   "id": "f62e5dc1-eb1a-4d70-b237-da431f0d2e90",
   "metadata": {},
   "outputs": [
    {
     "name": "stdout",
     "output_type": "stream",
     "text": [
      "\"Status\",\"Seniority\",\"Home\",\"Time\",\"Age\",\"Marital\",\"Records\",\"Job\",\"Expenses\",\"Income\",\"Assets\",\"Debt\",\"Amount\",\"Price\"\n",
      "1,9,1,60,30,2,1,3,73,129,0,0,800,846\n",
      "1,17,1,60,58,3,1,1,48,131,0,0,1000,1658\n",
      "2,10,2,36,46,2,2,3,90,200,3000,0,2000,2985\n",
      "1,0,1,60,24,1,1,1,63,182,2500,0,900,1325\n",
      "1,0,1,36,26,1,1,1,46,107,0,0,310,910\n",
      "1,1,2,60,36,2,1,1,75,214,3500,0,650,1645\n",
      "1,29,2,60,44,2,1,1,75,125,10000,0,1600,1800\n",
      "1,9,5,12,27,1,1,1,35,80,0,0,200,1093\n",
      "1,0,2,60,32,2,1,3,90,107,15000,0,1200,1957\n"
     ]
    }
   ],
   "source": [
    "!head CreditScoring.csv"
   ]
  },
  {
   "cell_type": "code",
   "execution_count": 3,
   "id": "73208a32-ea27-439a-87f3-a5895c73ab28",
   "metadata": {},
   "outputs": [],
   "source": [
    "import pandas as pd\n",
    "import numpy as np\n",
    "\n",
    "import seaborn as sns\n",
    "from matplotlib import pyplot as plt\n",
    "%matplotlib inline"
   ]
  },
  {
   "cell_type": "code",
   "execution_count": 4,
   "id": "5bffd2c1-eb57-4034-880a-5d6baaa4c45a",
   "metadata": {},
   "outputs": [],
   "source": [
    "df = pd.read_csv(\"CreditScoring.csv\")"
   ]
  },
  {
   "cell_type": "markdown",
   "id": "e5801e69-e4cf-47a2-ae02-2a224429fe78",
   "metadata": {},
   "source": [
    "### 6.1.2. Data cleaning"
   ]
  },
  {
   "cell_type": "code",
   "execution_count": 5,
   "id": "1ede9eae-4b9b-4f7e-91d0-e244041b5514",
   "metadata": {},
   "outputs": [
    {
     "data": {
      "text/html": [
       "<div>\n",
       "<style scoped>\n",
       "    .dataframe tbody tr th:only-of-type {\n",
       "        vertical-align: middle;\n",
       "    }\n",
       "\n",
       "    .dataframe tbody tr th {\n",
       "        vertical-align: top;\n",
       "    }\n",
       "\n",
       "    .dataframe thead th {\n",
       "        text-align: right;\n",
       "    }\n",
       "</style>\n",
       "<table border=\"1\" class=\"dataframe\">\n",
       "  <thead>\n",
       "    <tr style=\"text-align: right;\">\n",
       "      <th></th>\n",
       "      <th>Status</th>\n",
       "      <th>Seniority</th>\n",
       "      <th>Home</th>\n",
       "      <th>Time</th>\n",
       "      <th>Age</th>\n",
       "      <th>Marital</th>\n",
       "      <th>Records</th>\n",
       "      <th>Job</th>\n",
       "      <th>Expenses</th>\n",
       "      <th>Income</th>\n",
       "      <th>Assets</th>\n",
       "      <th>Debt</th>\n",
       "      <th>Amount</th>\n",
       "      <th>Price</th>\n",
       "    </tr>\n",
       "  </thead>\n",
       "  <tbody>\n",
       "    <tr>\n",
       "      <th>0</th>\n",
       "      <td>1</td>\n",
       "      <td>9</td>\n",
       "      <td>1</td>\n",
       "      <td>60</td>\n",
       "      <td>30</td>\n",
       "      <td>2</td>\n",
       "      <td>1</td>\n",
       "      <td>3</td>\n",
       "      <td>73</td>\n",
       "      <td>129</td>\n",
       "      <td>0</td>\n",
       "      <td>0</td>\n",
       "      <td>800</td>\n",
       "      <td>846</td>\n",
       "    </tr>\n",
       "    <tr>\n",
       "      <th>1</th>\n",
       "      <td>1</td>\n",
       "      <td>17</td>\n",
       "      <td>1</td>\n",
       "      <td>60</td>\n",
       "      <td>58</td>\n",
       "      <td>3</td>\n",
       "      <td>1</td>\n",
       "      <td>1</td>\n",
       "      <td>48</td>\n",
       "      <td>131</td>\n",
       "      <td>0</td>\n",
       "      <td>0</td>\n",
       "      <td>1000</td>\n",
       "      <td>1658</td>\n",
       "    </tr>\n",
       "    <tr>\n",
       "      <th>2</th>\n",
       "      <td>2</td>\n",
       "      <td>10</td>\n",
       "      <td>2</td>\n",
       "      <td>36</td>\n",
       "      <td>46</td>\n",
       "      <td>2</td>\n",
       "      <td>2</td>\n",
       "      <td>3</td>\n",
       "      <td>90</td>\n",
       "      <td>200</td>\n",
       "      <td>3000</td>\n",
       "      <td>0</td>\n",
       "      <td>2000</td>\n",
       "      <td>2985</td>\n",
       "    </tr>\n",
       "    <tr>\n",
       "      <th>3</th>\n",
       "      <td>1</td>\n",
       "      <td>0</td>\n",
       "      <td>1</td>\n",
       "      <td>60</td>\n",
       "      <td>24</td>\n",
       "      <td>1</td>\n",
       "      <td>1</td>\n",
       "      <td>1</td>\n",
       "      <td>63</td>\n",
       "      <td>182</td>\n",
       "      <td>2500</td>\n",
       "      <td>0</td>\n",
       "      <td>900</td>\n",
       "      <td>1325</td>\n",
       "    </tr>\n",
       "    <tr>\n",
       "      <th>4</th>\n",
       "      <td>1</td>\n",
       "      <td>0</td>\n",
       "      <td>1</td>\n",
       "      <td>36</td>\n",
       "      <td>26</td>\n",
       "      <td>1</td>\n",
       "      <td>1</td>\n",
       "      <td>1</td>\n",
       "      <td>46</td>\n",
       "      <td>107</td>\n",
       "      <td>0</td>\n",
       "      <td>0</td>\n",
       "      <td>310</td>\n",
       "      <td>910</td>\n",
       "    </tr>\n",
       "  </tbody>\n",
       "</table>\n",
       "</div>"
      ],
      "text/plain": [
       "   Status  Seniority  Home  Time  Age  Marital  Records  Job  Expenses  \\\n",
       "0       1          9     1    60   30        2        1    3        73   \n",
       "1       1         17     1    60   58        3        1    1        48   \n",
       "2       2         10     2    36   46        2        2    3        90   \n",
       "3       1          0     1    60   24        1        1    1        63   \n",
       "4       1          0     1    36   26        1        1    1        46   \n",
       "\n",
       "   Income  Assets  Debt  Amount  Price  \n",
       "0     129       0     0     800    846  \n",
       "1     131       0     0    1000   1658  \n",
       "2     200    3000     0    2000   2985  \n",
       "3     182    2500     0     900   1325  \n",
       "4     107       0     0     310    910  "
      ]
     },
     "execution_count": 5,
     "metadata": {},
     "output_type": "execute_result"
    }
   ],
   "source": [
    "df.head()"
   ]
  },
  {
   "cell_type": "code",
   "execution_count": 6,
   "id": "f1fc8a70-9baa-48f0-bfb1-c94413aba4f4",
   "metadata": {},
   "outputs": [
    {
     "data": {
      "text/html": [
       "<div>\n",
       "<style scoped>\n",
       "    .dataframe tbody tr th:only-of-type {\n",
       "        vertical-align: middle;\n",
       "    }\n",
       "\n",
       "    .dataframe tbody tr th {\n",
       "        vertical-align: top;\n",
       "    }\n",
       "\n",
       "    .dataframe thead th {\n",
       "        text-align: right;\n",
       "    }\n",
       "</style>\n",
       "<table border=\"1\" class=\"dataframe\">\n",
       "  <thead>\n",
       "    <tr style=\"text-align: right;\">\n",
       "      <th></th>\n",
       "      <th>status</th>\n",
       "      <th>seniority</th>\n",
       "      <th>home</th>\n",
       "      <th>time</th>\n",
       "      <th>age</th>\n",
       "      <th>marital</th>\n",
       "      <th>records</th>\n",
       "      <th>job</th>\n",
       "      <th>expenses</th>\n",
       "      <th>income</th>\n",
       "      <th>assets</th>\n",
       "      <th>debt</th>\n",
       "      <th>amount</th>\n",
       "      <th>price</th>\n",
       "    </tr>\n",
       "  </thead>\n",
       "  <tbody>\n",
       "    <tr>\n",
       "      <th>0</th>\n",
       "      <td>1</td>\n",
       "      <td>9</td>\n",
       "      <td>1</td>\n",
       "      <td>60</td>\n",
       "      <td>30</td>\n",
       "      <td>2</td>\n",
       "      <td>1</td>\n",
       "      <td>3</td>\n",
       "      <td>73</td>\n",
       "      <td>129</td>\n",
       "      <td>0</td>\n",
       "      <td>0</td>\n",
       "      <td>800</td>\n",
       "      <td>846</td>\n",
       "    </tr>\n",
       "    <tr>\n",
       "      <th>1</th>\n",
       "      <td>1</td>\n",
       "      <td>17</td>\n",
       "      <td>1</td>\n",
       "      <td>60</td>\n",
       "      <td>58</td>\n",
       "      <td>3</td>\n",
       "      <td>1</td>\n",
       "      <td>1</td>\n",
       "      <td>48</td>\n",
       "      <td>131</td>\n",
       "      <td>0</td>\n",
       "      <td>0</td>\n",
       "      <td>1000</td>\n",
       "      <td>1658</td>\n",
       "    </tr>\n",
       "    <tr>\n",
       "      <th>2</th>\n",
       "      <td>2</td>\n",
       "      <td>10</td>\n",
       "      <td>2</td>\n",
       "      <td>36</td>\n",
       "      <td>46</td>\n",
       "      <td>2</td>\n",
       "      <td>2</td>\n",
       "      <td>3</td>\n",
       "      <td>90</td>\n",
       "      <td>200</td>\n",
       "      <td>3000</td>\n",
       "      <td>0</td>\n",
       "      <td>2000</td>\n",
       "      <td>2985</td>\n",
       "    </tr>\n",
       "    <tr>\n",
       "      <th>3</th>\n",
       "      <td>1</td>\n",
       "      <td>0</td>\n",
       "      <td>1</td>\n",
       "      <td>60</td>\n",
       "      <td>24</td>\n",
       "      <td>1</td>\n",
       "      <td>1</td>\n",
       "      <td>1</td>\n",
       "      <td>63</td>\n",
       "      <td>182</td>\n",
       "      <td>2500</td>\n",
       "      <td>0</td>\n",
       "      <td>900</td>\n",
       "      <td>1325</td>\n",
       "    </tr>\n",
       "    <tr>\n",
       "      <th>4</th>\n",
       "      <td>1</td>\n",
       "      <td>0</td>\n",
       "      <td>1</td>\n",
       "      <td>36</td>\n",
       "      <td>26</td>\n",
       "      <td>1</td>\n",
       "      <td>1</td>\n",
       "      <td>1</td>\n",
       "      <td>46</td>\n",
       "      <td>107</td>\n",
       "      <td>0</td>\n",
       "      <td>0</td>\n",
       "      <td>310</td>\n",
       "      <td>910</td>\n",
       "    </tr>\n",
       "  </tbody>\n",
       "</table>\n",
       "</div>"
      ],
      "text/plain": [
       "   status  seniority  home  time  age  marital  records  job  expenses  \\\n",
       "0       1          9     1    60   30        2        1    3        73   \n",
       "1       1         17     1    60   58        3        1    1        48   \n",
       "2       2         10     2    36   46        2        2    3        90   \n",
       "3       1          0     1    60   24        1        1    1        63   \n",
       "4       1          0     1    36   26        1        1    1        46   \n",
       "\n",
       "   income  assets  debt  amount  price  \n",
       "0     129       0     0     800    846  \n",
       "1     131       0     0    1000   1658  \n",
       "2     200    3000     0    2000   2985  \n",
       "3     182    2500     0     900   1325  \n",
       "4     107       0     0     310    910  "
      ]
     },
     "execution_count": 6,
     "metadata": {},
     "output_type": "execute_result"
    }
   ],
   "source": [
    "df.columns = df.columns.str.lower()\n",
    "df.head()"
   ]
  },
  {
   "cell_type": "markdown",
   "id": "98e6247a-a924-499e-be81-d43ff507b0ca",
   "metadata": {},
   "source": [
    "For some columns, \"1\" means \"OK\", \"2\" means \"default\", and \"0\" means the value is missing, let's replace it with \"unk\" (short for \"unknown\")."
   ]
  },
  {
   "cell_type": "markdown",
   "id": "a213a174-d8a6-443b-8159-f49f4a9e7d15",
   "metadata": {},
   "source": [
    "In Pandas, we can use map for converting the numbers to strings. For that, we first define the dictionary with mapping from the current value (number) to the desired value (string):"
   ]
  },
  {
   "cell_type": "code",
   "execution_count": 7,
   "id": "dc3fecdf-f7a0-4a62-96b8-cb10a7c50664",
   "metadata": {},
   "outputs": [],
   "source": [
    "status_values = {\n",
    "    1: \"ok\",\n",
    "    2: \"default\",\n",
    "    0: \"unk\"\n",
    "}"
   ]
  },
  {
   "cell_type": "markdown",
   "id": "0049fd09-ae10-4bd0-bb6f-d3f2914fad9f",
   "metadata": {},
   "source": [
    "Now we can use this dictionary to do the mapping:"
   ]
  },
  {
   "cell_type": "code",
   "execution_count": 8,
   "id": "2fef0ccb-ef23-44de-9ff9-b06b672a14d0",
   "metadata": {},
   "outputs": [],
   "source": [
    "df[\"status\"] = df[\"status\"].map(status_values)"
   ]
  },
  {
   "cell_type": "markdown",
   "id": "c443e432-e7c0-4e64-a7af-351f89f8e6c4",
   "metadata": {},
   "source": [
    "We repeat the same procedure for all the other columns."
   ]
  },
  {
   "cell_type": "code",
   "execution_count": 9,
   "id": "60d22d4d-337f-4ad9-810a-81a897717ebe",
   "metadata": {},
   "outputs": [],
   "source": [
    "home_values = {\n",
    "    1: \"rent\",\n",
    "    2: \"owner\",\n",
    "    3: \"private\",\n",
    "    4: \"ignore\",\n",
    "    5: \"parents\",\n",
    "    6: \"other\",\n",
    "    0: \"unk\"\n",
    "}\n",
    "\n",
    "df[\"home\"] = df[\"home\"].map(home_values)"
   ]
  },
  {
   "cell_type": "code",
   "execution_count": 10,
   "id": "5230b3b1-9b55-4545-ab12-f8ea08d8be37",
   "metadata": {},
   "outputs": [],
   "source": [
    "marital_values = {\n",
    "    1: \"single\",\n",
    "    2: \"married\",\n",
    "    3: \"widow\",\n",
    "    4: \"separated\",\n",
    "    5: \"divorced\",\n",
    "    0: \"unk\"\n",
    "}\n",
    " \n",
    "df[\"marital\"] = df[\"marital\"].map(marital_values)"
   ]
  },
  {
   "cell_type": "code",
   "execution_count": 11,
   "id": "3f5d480b-2cf3-4e89-a5e7-589698a51f7e",
   "metadata": {},
   "outputs": [],
   "source": [
    "records_values = {\n",
    "    1: \"no\",\n",
    "    2: \"yes\",\n",
    "    0: \"unk\"\n",
    "}\n",
    " \n",
    "df[\"records\"] = df[\"records\"].map(records_values)"
   ]
  },
  {
   "cell_type": "markdown",
   "id": "6012e141-7383-4e8f-bd82-278d04bc020e",
   "metadata": {},
   "source": [
    "After these transformations, the columns with categorical variables contain the actual values, not numbers."
   ]
  },
  {
   "cell_type": "code",
   "execution_count": 12,
   "id": "452b81f7-5cff-4e41-9e27-c16a320d8697",
   "metadata": {},
   "outputs": [
    {
     "data": {
      "text/html": [
       "<div>\n",
       "<style scoped>\n",
       "    .dataframe tbody tr th:only-of-type {\n",
       "        vertical-align: middle;\n",
       "    }\n",
       "\n",
       "    .dataframe tbody tr th {\n",
       "        vertical-align: top;\n",
       "    }\n",
       "\n",
       "    .dataframe thead th {\n",
       "        text-align: right;\n",
       "    }\n",
       "</style>\n",
       "<table border=\"1\" class=\"dataframe\">\n",
       "  <thead>\n",
       "    <tr style=\"text-align: right;\">\n",
       "      <th></th>\n",
       "      <th>status</th>\n",
       "      <th>seniority</th>\n",
       "      <th>home</th>\n",
       "      <th>time</th>\n",
       "      <th>age</th>\n",
       "      <th>marital</th>\n",
       "      <th>records</th>\n",
       "      <th>job</th>\n",
       "      <th>expenses</th>\n",
       "      <th>income</th>\n",
       "      <th>assets</th>\n",
       "      <th>debt</th>\n",
       "      <th>amount</th>\n",
       "      <th>price</th>\n",
       "    </tr>\n",
       "  </thead>\n",
       "  <tbody>\n",
       "    <tr>\n",
       "      <th>0</th>\n",
       "      <td>ok</td>\n",
       "      <td>9</td>\n",
       "      <td>rent</td>\n",
       "      <td>60</td>\n",
       "      <td>30</td>\n",
       "      <td>married</td>\n",
       "      <td>no</td>\n",
       "      <td>3</td>\n",
       "      <td>73</td>\n",
       "      <td>129</td>\n",
       "      <td>0</td>\n",
       "      <td>0</td>\n",
       "      <td>800</td>\n",
       "      <td>846</td>\n",
       "    </tr>\n",
       "    <tr>\n",
       "      <th>1</th>\n",
       "      <td>ok</td>\n",
       "      <td>17</td>\n",
       "      <td>rent</td>\n",
       "      <td>60</td>\n",
       "      <td>58</td>\n",
       "      <td>widow</td>\n",
       "      <td>no</td>\n",
       "      <td>1</td>\n",
       "      <td>48</td>\n",
       "      <td>131</td>\n",
       "      <td>0</td>\n",
       "      <td>0</td>\n",
       "      <td>1000</td>\n",
       "      <td>1658</td>\n",
       "    </tr>\n",
       "    <tr>\n",
       "      <th>2</th>\n",
       "      <td>default</td>\n",
       "      <td>10</td>\n",
       "      <td>owner</td>\n",
       "      <td>36</td>\n",
       "      <td>46</td>\n",
       "      <td>married</td>\n",
       "      <td>yes</td>\n",
       "      <td>3</td>\n",
       "      <td>90</td>\n",
       "      <td>200</td>\n",
       "      <td>3000</td>\n",
       "      <td>0</td>\n",
       "      <td>2000</td>\n",
       "      <td>2985</td>\n",
       "    </tr>\n",
       "    <tr>\n",
       "      <th>3</th>\n",
       "      <td>ok</td>\n",
       "      <td>0</td>\n",
       "      <td>rent</td>\n",
       "      <td>60</td>\n",
       "      <td>24</td>\n",
       "      <td>single</td>\n",
       "      <td>no</td>\n",
       "      <td>1</td>\n",
       "      <td>63</td>\n",
       "      <td>182</td>\n",
       "      <td>2500</td>\n",
       "      <td>0</td>\n",
       "      <td>900</td>\n",
       "      <td>1325</td>\n",
       "    </tr>\n",
       "    <tr>\n",
       "      <th>4</th>\n",
       "      <td>ok</td>\n",
       "      <td>0</td>\n",
       "      <td>rent</td>\n",
       "      <td>36</td>\n",
       "      <td>26</td>\n",
       "      <td>single</td>\n",
       "      <td>no</td>\n",
       "      <td>1</td>\n",
       "      <td>46</td>\n",
       "      <td>107</td>\n",
       "      <td>0</td>\n",
       "      <td>0</td>\n",
       "      <td>310</td>\n",
       "      <td>910</td>\n",
       "    </tr>\n",
       "  </tbody>\n",
       "</table>\n",
       "</div>"
      ],
      "text/plain": [
       "    status  seniority   home  time  age  marital records  job  expenses  \\\n",
       "0       ok          9   rent    60   30  married      no    3        73   \n",
       "1       ok         17   rent    60   58    widow      no    1        48   \n",
       "2  default         10  owner    36   46  married     yes    3        90   \n",
       "3       ok          0   rent    60   24   single      no    1        63   \n",
       "4       ok          0   rent    36   26   single      no    1        46   \n",
       "\n",
       "   income  assets  debt  amount  price  \n",
       "0     129       0     0     800    846  \n",
       "1     131       0     0    1000   1658  \n",
       "2     200    3000     0    2000   2985  \n",
       "3     182    2500     0     900   1325  \n",
       "4     107       0     0     310    910  "
      ]
     },
     "execution_count": 12,
     "metadata": {},
     "output_type": "execute_result"
    }
   ],
   "source": [
    "df.head()"
   ]
  },
  {
   "cell_type": "markdown",
   "id": "24987f2f-23e0-4dcb-9d01-24737e401151",
   "metadata": {},
   "source": [
    "Next, let's look at the numerical columns. First, let's check the summary statistics for each of the columns: min, mean, max, and others."
   ]
  },
  {
   "cell_type": "code",
   "execution_count": 13,
   "id": "631432df-b87c-4af7-bb14-cb0ed0eb59ea",
   "metadata": {},
   "outputs": [
    {
     "data": {
      "text/html": [
       "<div>\n",
       "<style scoped>\n",
       "    .dataframe tbody tr th:only-of-type {\n",
       "        vertical-align: middle;\n",
       "    }\n",
       "\n",
       "    .dataframe tbody tr th {\n",
       "        vertical-align: top;\n",
       "    }\n",
       "\n",
       "    .dataframe thead th {\n",
       "        text-align: right;\n",
       "    }\n",
       "</style>\n",
       "<table border=\"1\" class=\"dataframe\">\n",
       "  <thead>\n",
       "    <tr style=\"text-align: right;\">\n",
       "      <th></th>\n",
       "      <th>seniority</th>\n",
       "      <th>time</th>\n",
       "      <th>age</th>\n",
       "      <th>job</th>\n",
       "      <th>expenses</th>\n",
       "      <th>income</th>\n",
       "      <th>assets</th>\n",
       "      <th>debt</th>\n",
       "      <th>amount</th>\n",
       "      <th>price</th>\n",
       "    </tr>\n",
       "  </thead>\n",
       "  <tbody>\n",
       "    <tr>\n",
       "      <th>count</th>\n",
       "      <td>4455.0</td>\n",
       "      <td>4455.0</td>\n",
       "      <td>4455.0</td>\n",
       "      <td>4455.0</td>\n",
       "      <td>4455.0</td>\n",
       "      <td>4455.0</td>\n",
       "      <td>4455.0</td>\n",
       "      <td>4455.0</td>\n",
       "      <td>4455.0</td>\n",
       "      <td>4455.0</td>\n",
       "    </tr>\n",
       "    <tr>\n",
       "      <th>mean</th>\n",
       "      <td>8.0</td>\n",
       "      <td>46.0</td>\n",
       "      <td>37.0</td>\n",
       "      <td>2.0</td>\n",
       "      <td>56.0</td>\n",
       "      <td>763317.0</td>\n",
       "      <td>1060341.0</td>\n",
       "      <td>404382.0</td>\n",
       "      <td>1039.0</td>\n",
       "      <td>1463.0</td>\n",
       "    </tr>\n",
       "    <tr>\n",
       "      <th>std</th>\n",
       "      <td>8.0</td>\n",
       "      <td>15.0</td>\n",
       "      <td>11.0</td>\n",
       "      <td>1.0</td>\n",
       "      <td>20.0</td>\n",
       "      <td>8703625.0</td>\n",
       "      <td>10217569.0</td>\n",
       "      <td>6344253.0</td>\n",
       "      <td>475.0</td>\n",
       "      <td>628.0</td>\n",
       "    </tr>\n",
       "    <tr>\n",
       "      <th>min</th>\n",
       "      <td>0.0</td>\n",
       "      <td>6.0</td>\n",
       "      <td>18.0</td>\n",
       "      <td>0.0</td>\n",
       "      <td>35.0</td>\n",
       "      <td>0.0</td>\n",
       "      <td>0.0</td>\n",
       "      <td>0.0</td>\n",
       "      <td>100.0</td>\n",
       "      <td>105.0</td>\n",
       "    </tr>\n",
       "    <tr>\n",
       "      <th>25%</th>\n",
       "      <td>2.0</td>\n",
       "      <td>36.0</td>\n",
       "      <td>28.0</td>\n",
       "      <td>1.0</td>\n",
       "      <td>35.0</td>\n",
       "      <td>80.0</td>\n",
       "      <td>0.0</td>\n",
       "      <td>0.0</td>\n",
       "      <td>700.0</td>\n",
       "      <td>1118.0</td>\n",
       "    </tr>\n",
       "    <tr>\n",
       "      <th>50%</th>\n",
       "      <td>5.0</td>\n",
       "      <td>48.0</td>\n",
       "      <td>36.0</td>\n",
       "      <td>1.0</td>\n",
       "      <td>51.0</td>\n",
       "      <td>120.0</td>\n",
       "      <td>3500.0</td>\n",
       "      <td>0.0</td>\n",
       "      <td>1000.0</td>\n",
       "      <td>1400.0</td>\n",
       "    </tr>\n",
       "    <tr>\n",
       "      <th>75%</th>\n",
       "      <td>12.0</td>\n",
       "      <td>60.0</td>\n",
       "      <td>45.0</td>\n",
       "      <td>3.0</td>\n",
       "      <td>72.0</td>\n",
       "      <td>166.0</td>\n",
       "      <td>6000.0</td>\n",
       "      <td>0.0</td>\n",
       "      <td>1300.0</td>\n",
       "      <td>1692.0</td>\n",
       "    </tr>\n",
       "    <tr>\n",
       "      <th>max</th>\n",
       "      <td>48.0</td>\n",
       "      <td>72.0</td>\n",
       "      <td>68.0</td>\n",
       "      <td>4.0</td>\n",
       "      <td>180.0</td>\n",
       "      <td>99999999.0</td>\n",
       "      <td>99999999.0</td>\n",
       "      <td>99999999.0</td>\n",
       "      <td>5000.0</td>\n",
       "      <td>11140.0</td>\n",
       "    </tr>\n",
       "  </tbody>\n",
       "</table>\n",
       "</div>"
      ],
      "text/plain": [
       "       seniority    time     age     job  expenses      income      assets  \\\n",
       "count     4455.0  4455.0  4455.0  4455.0    4455.0      4455.0      4455.0   \n",
       "mean         8.0    46.0    37.0     2.0      56.0    763317.0   1060341.0   \n",
       "std          8.0    15.0    11.0     1.0      20.0   8703625.0  10217569.0   \n",
       "min          0.0     6.0    18.0     0.0      35.0         0.0         0.0   \n",
       "25%          2.0    36.0    28.0     1.0      35.0        80.0         0.0   \n",
       "50%          5.0    48.0    36.0     1.0      51.0       120.0      3500.0   \n",
       "75%         12.0    60.0    45.0     3.0      72.0       166.0      6000.0   \n",
       "max         48.0    72.0    68.0     4.0     180.0  99999999.0  99999999.0   \n",
       "\n",
       "             debt  amount    price  \n",
       "count      4455.0  4455.0   4455.0  \n",
       "mean     404382.0  1039.0   1463.0  \n",
       "std     6344253.0   475.0    628.0  \n",
       "min           0.0   100.0    105.0  \n",
       "25%           0.0   700.0   1118.0  \n",
       "50%           0.0  1000.0   1400.0  \n",
       "75%           0.0  1300.0   1692.0  \n",
       "max    99999999.0  5000.0  11140.0  "
      ]
     },
     "execution_count": 13,
     "metadata": {},
     "output_type": "execute_result"
    }
   ],
   "source": [
    "df.describe().round()"
   ]
  },
  {
   "cell_type": "markdown",
   "id": "18afaf3a-180a-4e7e-ba35-7d0d598f8258",
   "metadata": {},
   "source": [
    "One thing we notice immediately is that the max value is 99999999 in some cases. This is quite suspicious. As it turns out, it’s an artificial value—this is how missing values are encoded in this dataset."
   ]
  },
  {
   "cell_type": "markdown",
   "id": "09fcbf7b-e089-4b9c-973a-3331abe62e2b",
   "metadata": {},
   "source": [
    "Three columns have this problem: income, assets, and debt. Let’s replace this big number with NaN for these columns:"
   ]
  },
  {
   "cell_type": "code",
   "execution_count": 14,
   "id": "deb229ce-88ad-4304-98dc-8f97add2a864",
   "metadata": {},
   "outputs": [],
   "source": [
    "for column in [\"income\", \"assets\", \"debt\"]:\n",
    "    df[column] = df[column].replace(to_replace=99999999, value=np.nan)"
   ]
  },
  {
   "cell_type": "code",
   "execution_count": 15,
   "id": "ef5434fb-cde3-4baa-bc68-c42c03a07a12",
   "metadata": {},
   "outputs": [
    {
     "data": {
      "text/html": [
       "<div>\n",
       "<style scoped>\n",
       "    .dataframe tbody tr th:only-of-type {\n",
       "        vertical-align: middle;\n",
       "    }\n",
       "\n",
       "    .dataframe tbody tr th {\n",
       "        vertical-align: top;\n",
       "    }\n",
       "\n",
       "    .dataframe thead th {\n",
       "        text-align: right;\n",
       "    }\n",
       "</style>\n",
       "<table border=\"1\" class=\"dataframe\">\n",
       "  <thead>\n",
       "    <tr style=\"text-align: right;\">\n",
       "      <th></th>\n",
       "      <th>seniority</th>\n",
       "      <th>time</th>\n",
       "      <th>age</th>\n",
       "      <th>job</th>\n",
       "      <th>expenses</th>\n",
       "      <th>income</th>\n",
       "      <th>assets</th>\n",
       "      <th>debt</th>\n",
       "      <th>amount</th>\n",
       "      <th>price</th>\n",
       "    </tr>\n",
       "  </thead>\n",
       "  <tbody>\n",
       "    <tr>\n",
       "      <th>count</th>\n",
       "      <td>4455.0</td>\n",
       "      <td>4455.0</td>\n",
       "      <td>4455.0</td>\n",
       "      <td>4455.0</td>\n",
       "      <td>4455.0</td>\n",
       "      <td>4421.0</td>\n",
       "      <td>4408.0</td>\n",
       "      <td>4437.0</td>\n",
       "      <td>4455.0</td>\n",
       "      <td>4455.0</td>\n",
       "    </tr>\n",
       "    <tr>\n",
       "      <th>mean</th>\n",
       "      <td>8.0</td>\n",
       "      <td>46.0</td>\n",
       "      <td>37.0</td>\n",
       "      <td>2.0</td>\n",
       "      <td>56.0</td>\n",
       "      <td>131.0</td>\n",
       "      <td>5403.0</td>\n",
       "      <td>343.0</td>\n",
       "      <td>1039.0</td>\n",
       "      <td>1463.0</td>\n",
       "    </tr>\n",
       "    <tr>\n",
       "      <th>std</th>\n",
       "      <td>8.0</td>\n",
       "      <td>15.0</td>\n",
       "      <td>11.0</td>\n",
       "      <td>1.0</td>\n",
       "      <td>20.0</td>\n",
       "      <td>86.0</td>\n",
       "      <td>11573.0</td>\n",
       "      <td>1246.0</td>\n",
       "      <td>475.0</td>\n",
       "      <td>628.0</td>\n",
       "    </tr>\n",
       "    <tr>\n",
       "      <th>min</th>\n",
       "      <td>0.0</td>\n",
       "      <td>6.0</td>\n",
       "      <td>18.0</td>\n",
       "      <td>0.0</td>\n",
       "      <td>35.0</td>\n",
       "      <td>0.0</td>\n",
       "      <td>0.0</td>\n",
       "      <td>0.0</td>\n",
       "      <td>100.0</td>\n",
       "      <td>105.0</td>\n",
       "    </tr>\n",
       "    <tr>\n",
       "      <th>25%</th>\n",
       "      <td>2.0</td>\n",
       "      <td>36.0</td>\n",
       "      <td>28.0</td>\n",
       "      <td>1.0</td>\n",
       "      <td>35.0</td>\n",
       "      <td>80.0</td>\n",
       "      <td>0.0</td>\n",
       "      <td>0.0</td>\n",
       "      <td>700.0</td>\n",
       "      <td>1118.0</td>\n",
       "    </tr>\n",
       "    <tr>\n",
       "      <th>50%</th>\n",
       "      <td>5.0</td>\n",
       "      <td>48.0</td>\n",
       "      <td>36.0</td>\n",
       "      <td>1.0</td>\n",
       "      <td>51.0</td>\n",
       "      <td>120.0</td>\n",
       "      <td>3000.0</td>\n",
       "      <td>0.0</td>\n",
       "      <td>1000.0</td>\n",
       "      <td>1400.0</td>\n",
       "    </tr>\n",
       "    <tr>\n",
       "      <th>75%</th>\n",
       "      <td>12.0</td>\n",
       "      <td>60.0</td>\n",
       "      <td>45.0</td>\n",
       "      <td>3.0</td>\n",
       "      <td>72.0</td>\n",
       "      <td>165.0</td>\n",
       "      <td>6000.0</td>\n",
       "      <td>0.0</td>\n",
       "      <td>1300.0</td>\n",
       "      <td>1692.0</td>\n",
       "    </tr>\n",
       "    <tr>\n",
       "      <th>max</th>\n",
       "      <td>48.0</td>\n",
       "      <td>72.0</td>\n",
       "      <td>68.0</td>\n",
       "      <td>4.0</td>\n",
       "      <td>180.0</td>\n",
       "      <td>959.0</td>\n",
       "      <td>300000.0</td>\n",
       "      <td>30000.0</td>\n",
       "      <td>5000.0</td>\n",
       "      <td>11140.0</td>\n",
       "    </tr>\n",
       "  </tbody>\n",
       "</table>\n",
       "</div>"
      ],
      "text/plain": [
       "       seniority    time     age     job  expenses  income    assets     debt  \\\n",
       "count     4455.0  4455.0  4455.0  4455.0    4455.0  4421.0    4408.0   4437.0   \n",
       "mean         8.0    46.0    37.0     2.0      56.0   131.0    5403.0    343.0   \n",
       "std          8.0    15.0    11.0     1.0      20.0    86.0   11573.0   1246.0   \n",
       "min          0.0     6.0    18.0     0.0      35.0     0.0       0.0      0.0   \n",
       "25%          2.0    36.0    28.0     1.0      35.0    80.0       0.0      0.0   \n",
       "50%          5.0    48.0    36.0     1.0      51.0   120.0    3000.0      0.0   \n",
       "75%         12.0    60.0    45.0     3.0      72.0   165.0    6000.0      0.0   \n",
       "max         48.0    72.0    68.0     4.0     180.0   959.0  300000.0  30000.0   \n",
       "\n",
       "       amount    price  \n",
       "count  4455.0   4455.0  \n",
       "mean   1039.0   1463.0  \n",
       "std     475.0    628.0  \n",
       "min     100.0    105.0  \n",
       "25%     700.0   1118.0  \n",
       "50%    1000.0   1400.0  \n",
       "75%    1300.0   1692.0  \n",
       "max    5000.0  11140.0  "
      ]
     },
     "execution_count": 15,
     "metadata": {},
     "output_type": "execute_result"
    }
   ],
   "source": [
    "df.describe().round()"
   ]
  },
  {
   "cell_type": "code",
   "execution_count": 16,
   "id": "d536f839-186d-434a-8362-60af155c81eb",
   "metadata": {},
   "outputs": [
    {
     "data": {
      "text/plain": [
       "status\n",
       "ok         3200\n",
       "default    1254\n",
       "unk           1\n",
       "Name: count, dtype: int64"
      ]
     },
     "execution_count": 16,
     "metadata": {},
     "output_type": "execute_result"
    }
   ],
   "source": [
    "df[\"status\"].value_counts()"
   ]
  },
  {
   "cell_type": "markdown",
   "id": "875026e6-786b-426d-9238-f38ca229cf37",
   "metadata": {},
   "source": [
    "Let's get rid of the row with \"unk\" as its status."
   ]
  },
  {
   "cell_type": "code",
   "execution_count": 17,
   "id": "01ffb77d-4c3e-48db-846b-408288f88d41",
   "metadata": {},
   "outputs": [],
   "source": [
    "df = df[df[\"status\"] != \"unk\"]"
   ]
  },
  {
   "cell_type": "markdown",
   "id": "ce8eaeea-2414-4c7c-a2b9-7269be9fc16b",
   "metadata": {},
   "source": [
    "### 6.1.3. Dataset preparation"
   ]
  },
  {
   "cell_type": "markdown",
   "id": "b99c9aec-de1c-4aa9-9778-e93fdf8756ee",
   "metadata": {},
   "source": [
    "Now our dataset is cleaned, and we’re almost ready to use it for model training. Before we can do that, we need to do a few more steps:\n",
    "\n",
    "- Split the dataset into train, validation, and test.\n",
    "- Handle missing values.\n",
    "- Use one-hot encoding to encode categorical variables.\n",
    "- Create the feature matrix X and the target variable y."
   ]
  },
  {
   "cell_type": "code",
   "execution_count": 18,
   "id": "081eb524-60b5-490c-9ce9-972584df86e3",
   "metadata": {},
   "outputs": [],
   "source": [
    "from sklearn.model_selection import train_test_split"
   ]
  },
  {
   "cell_type": "code",
   "execution_count": 19,
   "id": "fe18a853-fcd7-44fe-9385-cec0b82559ee",
   "metadata": {},
   "outputs": [],
   "source": [
    "df_train_full, df_test = train_test_split(df, test_size=0.2, random_state=11)\n",
    "df_train, df_val = train_test_split(df_train_full, test_size=0.25, random_state=11)"
   ]
  },
  {
   "cell_type": "code",
   "execution_count": 20,
   "id": "569fdc4f-77af-4dd1-a350-3992a183fbc7",
   "metadata": {},
   "outputs": [
    {
     "data": {
      "text/plain": [
       "(2672, 891, 891)"
      ]
     },
     "execution_count": 20,
     "metadata": {},
     "output_type": "execute_result"
    }
   ],
   "source": [
    "len(df_train), len(df_val), len(df_test)"
   ]
  },
  {
   "cell_type": "markdown",
   "id": "877ce2d0-d640-42aa-9041-30494569e3fc",
   "metadata": {},
   "source": [
    "The outcome we want to predict is status. We will use it to train a model, so it's our y-the target variable. The target variable is \"1\" if the client defaulted and \"0\" otherwise."
   ]
  },
  {
   "cell_type": "code",
   "execution_count": 21,
   "id": "e3bc3a9f-c19f-44d5-b9ba-7b39fd41b872",
   "metadata": {},
   "outputs": [],
   "source": [
    "y_train = (df_train[\"status\"] == \"default\").values\n",
    "y_val = (df_val[\"status\"] == \"default\").values\n",
    "\n",
    "del df_train[\"status\"]\n",
    "del df_val[\"status\"]"
   ]
  },
  {
   "cell_type": "markdown",
   "id": "9be7e514-8e17-402a-aeb1-25fc64860d28",
   "metadata": {},
   "source": [
    "X is the feature matrix."
   ]
  },
  {
   "cell_type": "markdown",
   "id": "85b37398-dc20-47fe-8b02-507ecae81392",
   "metadata": {},
   "source": [
    "From the initial analysis, we know our data contains missing values—we added these NaNs ourselves. We can replace the missing values with zero:"
   ]
  },
  {
   "cell_type": "code",
   "execution_count": 22,
   "id": "a6187c78-7611-4d2a-8fb9-bcf53b13d6ab",
   "metadata": {},
   "outputs": [],
   "source": [
    "df_train = df_train.fillna(0)\n",
    "df_val = df_val.fillna(0)"
   ]
  },
  {
   "cell_type": "markdown",
   "id": "7891ba78-28de-4e34-bda4-f10d204f660d",
   "metadata": {},
   "source": [
    "To use categorical variables, we need to encode them. We will use one-hot encoding, and implement it using DictVectorizer. DictVectorizer needs a list of dictionaries, so we first need to convert the DataFrame:"
   ]
  },
  {
   "cell_type": "code",
   "execution_count": 23,
   "id": "866108f5-72c5-4cb3-8e5d-7c82d875f1eb",
   "metadata": {},
   "outputs": [],
   "source": [
    "dict_train = df_train.to_dict(orient=\"records\")\n",
    "dict_val = df_val.to_dict(orient=\"records\")"
   ]
  },
  {
   "cell_type": "code",
   "execution_count": 24,
   "id": "f9a13a33-abc6-4b11-aed0-c6c7a6c749d3",
   "metadata": {},
   "outputs": [
    {
     "data": {
      "text/plain": [
       "{'seniority': 10,\n",
       " 'home': 'owner',\n",
       " 'time': 36,\n",
       " 'age': 36,\n",
       " 'marital': 'married',\n",
       " 'records': 'no',\n",
       " 'job': 3,\n",
       " 'expenses': 75,\n",
       " 'income': 0.0,\n",
       " 'assets': 10000.0,\n",
       " 'debt': 0.0,\n",
       " 'amount': 1000,\n",
       " 'price': 1400}"
      ]
     },
     "execution_count": 24,
     "metadata": {},
     "output_type": "execute_result"
    }
   ],
   "source": [
    "dict_train[0]"
   ]
  },
  {
   "cell_type": "markdown",
   "id": "fe773cb9-b2e9-4a56-9521-85b6e861b179",
   "metadata": {},
   "source": [
    "Now we can use the list of dictionaries with DictVectorizer:"
   ]
  },
  {
   "cell_type": "code",
   "execution_count": 25,
   "id": "7539caf6-f6b4-4ca2-9479-d9306d499b9b",
   "metadata": {},
   "outputs": [],
   "source": [
    "from sklearn.feature_extraction import DictVectorizer\n",
    "\n",
    "dv = DictVectorizer(sparse=False)\n",
    "\n",
    "X_train = dv.fit_transform(dict_train)\n",
    "X_val = dv.transform(dict_val)"
   ]
  },
  {
   "cell_type": "markdown",
   "id": "be0c9449-5418-467a-a16d-dbb2d8f8499e",
   "metadata": {},
   "source": [
    "As a result, we have feature matrices for both train and validation datasets."
   ]
  },
  {
   "cell_type": "markdown",
   "id": "a0a64d5b-0f49-4b99-9798-177bbe313b00",
   "metadata": {},
   "source": [
    "## 6.2. Decision trees"
   ]
  },
  {
   "cell_type": "markdown",
   "id": "e4f668c0-2b00-447d-b937-10323a2328c3",
   "metadata": {},
   "source": [
    "A decision tree is a data structure that encodes a series of if-then-else rules. Each node in a tree contains a condition. If the condition is satisfied, we go to the right side of the tree; otherwise, we go to the left. In the end we arrive at the final decision."
   ]
  },
  {
   "cell_type": "markdown",
   "id": "f65679ae-b371-433d-8f30-675d56f15580",
   "metadata": {},
   "source": [
    "It's quite easy to represent a decisioin tree as a set of if-else statements in Python. For example:"
   ]
  },
  {
   "cell_type": "code",
   "execution_count": 26,
   "id": "39f3d496-cec8-400d-829e-2efd1ac052aa",
   "metadata": {},
   "outputs": [],
   "source": [
    "def assess_risk(client):\n",
    "    if client[\"records\"] == \"yes\":\n",
    "        if client[\"job\"] == \"parttime\":\n",
    "            return \"default\"\n",
    "        else:\n",
    "            return \"ok\"\n",
    "    else:\n",
    "        if client[\"assets\"] < 4000:\n",
    "            return \"ok\"\n",
    "        else:\n",
    "            return \"default\""
   ]
  },
  {
   "cell_type": "markdown",
   "id": "f448c57f-2667-41d7-8006-b9ca4390cd27",
   "metadata": {},
   "source": [
    "With machine learning, we can extract these rules from data automatically. Let’s see how we can do it."
   ]
  },
  {
   "cell_type": "markdown",
   "id": "af4ee076-71ef-45e9-8c53-6eb1228b7811",
   "metadata": {},
   "source": [
    "### 6.2.1. Decision tree classifier"
   ]
  },
  {
   "cell_type": "code",
   "execution_count": 27,
   "id": "ca829cc6-69a3-49e1-bd17-35b8aa55daa2",
   "metadata": {},
   "outputs": [],
   "source": [
    "from sklearn.tree import DecisionTreeClassifier"
   ]
  },
  {
   "cell_type": "markdown",
   "id": "8cea72b2-b66f-47db-9f9b-858bfab38652",
   "metadata": {},
   "source": [
    "Training the model is as simple as invoking the fit model:"
   ]
  },
  {
   "cell_type": "code",
   "execution_count": 28,
   "id": "aa67250d-aaba-469c-b6f8-28dda294a7fb",
   "metadata": {},
   "outputs": [
    {
     "data": {
      "text/html": [
       "<style>#sk-container-id-1 {\n",
       "  /* Definition of color scheme common for light and dark mode */\n",
       "  --sklearn-color-text: #000;\n",
       "  --sklearn-color-text-muted: #666;\n",
       "  --sklearn-color-line: gray;\n",
       "  /* Definition of color scheme for unfitted estimators */\n",
       "  --sklearn-color-unfitted-level-0: #fff5e6;\n",
       "  --sklearn-color-unfitted-level-1: #f6e4d2;\n",
       "  --sklearn-color-unfitted-level-2: #ffe0b3;\n",
       "  --sklearn-color-unfitted-level-3: chocolate;\n",
       "  /* Definition of color scheme for fitted estimators */\n",
       "  --sklearn-color-fitted-level-0: #f0f8ff;\n",
       "  --sklearn-color-fitted-level-1: #d4ebff;\n",
       "  --sklearn-color-fitted-level-2: #b3dbfd;\n",
       "  --sklearn-color-fitted-level-3: cornflowerblue;\n",
       "\n",
       "  /* Specific color for light theme */\n",
       "  --sklearn-color-text-on-default-background: var(--sg-text-color, var(--theme-code-foreground, var(--jp-content-font-color1, black)));\n",
       "  --sklearn-color-background: var(--sg-background-color, var(--theme-background, var(--jp-layout-color0, white)));\n",
       "  --sklearn-color-border-box: var(--sg-text-color, var(--theme-code-foreground, var(--jp-content-font-color1, black)));\n",
       "  --sklearn-color-icon: #696969;\n",
       "\n",
       "  @media (prefers-color-scheme: dark) {\n",
       "    /* Redefinition of color scheme for dark theme */\n",
       "    --sklearn-color-text-on-default-background: var(--sg-text-color, var(--theme-code-foreground, var(--jp-content-font-color1, white)));\n",
       "    --sklearn-color-background: var(--sg-background-color, var(--theme-background, var(--jp-layout-color0, #111)));\n",
       "    --sklearn-color-border-box: var(--sg-text-color, var(--theme-code-foreground, var(--jp-content-font-color1, white)));\n",
       "    --sklearn-color-icon: #878787;\n",
       "  }\n",
       "}\n",
       "\n",
       "#sk-container-id-1 {\n",
       "  color: var(--sklearn-color-text);\n",
       "}\n",
       "\n",
       "#sk-container-id-1 pre {\n",
       "  padding: 0;\n",
       "}\n",
       "\n",
       "#sk-container-id-1 input.sk-hidden--visually {\n",
       "  border: 0;\n",
       "  clip: rect(1px 1px 1px 1px);\n",
       "  clip: rect(1px, 1px, 1px, 1px);\n",
       "  height: 1px;\n",
       "  margin: -1px;\n",
       "  overflow: hidden;\n",
       "  padding: 0;\n",
       "  position: absolute;\n",
       "  width: 1px;\n",
       "}\n",
       "\n",
       "#sk-container-id-1 div.sk-dashed-wrapped {\n",
       "  border: 1px dashed var(--sklearn-color-line);\n",
       "  margin: 0 0.4em 0.5em 0.4em;\n",
       "  box-sizing: border-box;\n",
       "  padding-bottom: 0.4em;\n",
       "  background-color: var(--sklearn-color-background);\n",
       "}\n",
       "\n",
       "#sk-container-id-1 div.sk-container {\n",
       "  /* jupyter's `normalize.less` sets `[hidden] { display: none; }`\n",
       "     but bootstrap.min.css set `[hidden] { display: none !important; }`\n",
       "     so we also need the `!important` here to be able to override the\n",
       "     default hidden behavior on the sphinx rendered scikit-learn.org.\n",
       "     See: https://github.com/scikit-learn/scikit-learn/issues/21755 */\n",
       "  display: inline-block !important;\n",
       "  position: relative;\n",
       "}\n",
       "\n",
       "#sk-container-id-1 div.sk-text-repr-fallback {\n",
       "  display: none;\n",
       "}\n",
       "\n",
       "div.sk-parallel-item,\n",
       "div.sk-serial,\n",
       "div.sk-item {\n",
       "  /* draw centered vertical line to link estimators */\n",
       "  background-image: linear-gradient(var(--sklearn-color-text-on-default-background), var(--sklearn-color-text-on-default-background));\n",
       "  background-size: 2px 100%;\n",
       "  background-repeat: no-repeat;\n",
       "  background-position: center center;\n",
       "}\n",
       "\n",
       "/* Parallel-specific style estimator block */\n",
       "\n",
       "#sk-container-id-1 div.sk-parallel-item::after {\n",
       "  content: \"\";\n",
       "  width: 100%;\n",
       "  border-bottom: 2px solid var(--sklearn-color-text-on-default-background);\n",
       "  flex-grow: 1;\n",
       "}\n",
       "\n",
       "#sk-container-id-1 div.sk-parallel {\n",
       "  display: flex;\n",
       "  align-items: stretch;\n",
       "  justify-content: center;\n",
       "  background-color: var(--sklearn-color-background);\n",
       "  position: relative;\n",
       "}\n",
       "\n",
       "#sk-container-id-1 div.sk-parallel-item {\n",
       "  display: flex;\n",
       "  flex-direction: column;\n",
       "}\n",
       "\n",
       "#sk-container-id-1 div.sk-parallel-item:first-child::after {\n",
       "  align-self: flex-end;\n",
       "  width: 50%;\n",
       "}\n",
       "\n",
       "#sk-container-id-1 div.sk-parallel-item:last-child::after {\n",
       "  align-self: flex-start;\n",
       "  width: 50%;\n",
       "}\n",
       "\n",
       "#sk-container-id-1 div.sk-parallel-item:only-child::after {\n",
       "  width: 0;\n",
       "}\n",
       "\n",
       "/* Serial-specific style estimator block */\n",
       "\n",
       "#sk-container-id-1 div.sk-serial {\n",
       "  display: flex;\n",
       "  flex-direction: column;\n",
       "  align-items: center;\n",
       "  background-color: var(--sklearn-color-background);\n",
       "  padding-right: 1em;\n",
       "  padding-left: 1em;\n",
       "}\n",
       "\n",
       "\n",
       "/* Toggleable style: style used for estimator/Pipeline/ColumnTransformer box that is\n",
       "clickable and can be expanded/collapsed.\n",
       "- Pipeline and ColumnTransformer use this feature and define the default style\n",
       "- Estimators will overwrite some part of the style using the `sk-estimator` class\n",
       "*/\n",
       "\n",
       "/* Pipeline and ColumnTransformer style (default) */\n",
       "\n",
       "#sk-container-id-1 div.sk-toggleable {\n",
       "  /* Default theme specific background. It is overwritten whether we have a\n",
       "  specific estimator or a Pipeline/ColumnTransformer */\n",
       "  background-color: var(--sklearn-color-background);\n",
       "}\n",
       "\n",
       "/* Toggleable label */\n",
       "#sk-container-id-1 label.sk-toggleable__label {\n",
       "  cursor: pointer;\n",
       "  display: flex;\n",
       "  width: 100%;\n",
       "  margin-bottom: 0;\n",
       "  padding: 0.5em;\n",
       "  box-sizing: border-box;\n",
       "  text-align: center;\n",
       "  align-items: start;\n",
       "  justify-content: space-between;\n",
       "  gap: 0.5em;\n",
       "}\n",
       "\n",
       "#sk-container-id-1 label.sk-toggleable__label .caption {\n",
       "  font-size: 0.6rem;\n",
       "  font-weight: lighter;\n",
       "  color: var(--sklearn-color-text-muted);\n",
       "}\n",
       "\n",
       "#sk-container-id-1 label.sk-toggleable__label-arrow:before {\n",
       "  /* Arrow on the left of the label */\n",
       "  content: \"▸\";\n",
       "  float: left;\n",
       "  margin-right: 0.25em;\n",
       "  color: var(--sklearn-color-icon);\n",
       "}\n",
       "\n",
       "#sk-container-id-1 label.sk-toggleable__label-arrow:hover:before {\n",
       "  color: var(--sklearn-color-text);\n",
       "}\n",
       "\n",
       "/* Toggleable content - dropdown */\n",
       "\n",
       "#sk-container-id-1 div.sk-toggleable__content {\n",
       "  max-height: 0;\n",
       "  max-width: 0;\n",
       "  overflow: hidden;\n",
       "  text-align: left;\n",
       "  /* unfitted */\n",
       "  background-color: var(--sklearn-color-unfitted-level-0);\n",
       "}\n",
       "\n",
       "#sk-container-id-1 div.sk-toggleable__content.fitted {\n",
       "  /* fitted */\n",
       "  background-color: var(--sklearn-color-fitted-level-0);\n",
       "}\n",
       "\n",
       "#sk-container-id-1 div.sk-toggleable__content pre {\n",
       "  margin: 0.2em;\n",
       "  border-radius: 0.25em;\n",
       "  color: var(--sklearn-color-text);\n",
       "  /* unfitted */\n",
       "  background-color: var(--sklearn-color-unfitted-level-0);\n",
       "}\n",
       "\n",
       "#sk-container-id-1 div.sk-toggleable__content.fitted pre {\n",
       "  /* unfitted */\n",
       "  background-color: var(--sklearn-color-fitted-level-0);\n",
       "}\n",
       "\n",
       "#sk-container-id-1 input.sk-toggleable__control:checked~div.sk-toggleable__content {\n",
       "  /* Expand drop-down */\n",
       "  max-height: 200px;\n",
       "  max-width: 100%;\n",
       "  overflow: auto;\n",
       "}\n",
       "\n",
       "#sk-container-id-1 input.sk-toggleable__control:checked~label.sk-toggleable__label-arrow:before {\n",
       "  content: \"▾\";\n",
       "}\n",
       "\n",
       "/* Pipeline/ColumnTransformer-specific style */\n",
       "\n",
       "#sk-container-id-1 div.sk-label input.sk-toggleable__control:checked~label.sk-toggleable__label {\n",
       "  color: var(--sklearn-color-text);\n",
       "  background-color: var(--sklearn-color-unfitted-level-2);\n",
       "}\n",
       "\n",
       "#sk-container-id-1 div.sk-label.fitted input.sk-toggleable__control:checked~label.sk-toggleable__label {\n",
       "  background-color: var(--sklearn-color-fitted-level-2);\n",
       "}\n",
       "\n",
       "/* Estimator-specific style */\n",
       "\n",
       "/* Colorize estimator box */\n",
       "#sk-container-id-1 div.sk-estimator input.sk-toggleable__control:checked~label.sk-toggleable__label {\n",
       "  /* unfitted */\n",
       "  background-color: var(--sklearn-color-unfitted-level-2);\n",
       "}\n",
       "\n",
       "#sk-container-id-1 div.sk-estimator.fitted input.sk-toggleable__control:checked~label.sk-toggleable__label {\n",
       "  /* fitted */\n",
       "  background-color: var(--sklearn-color-fitted-level-2);\n",
       "}\n",
       "\n",
       "#sk-container-id-1 div.sk-label label.sk-toggleable__label,\n",
       "#sk-container-id-1 div.sk-label label {\n",
       "  /* The background is the default theme color */\n",
       "  color: var(--sklearn-color-text-on-default-background);\n",
       "}\n",
       "\n",
       "/* On hover, darken the color of the background */\n",
       "#sk-container-id-1 div.sk-label:hover label.sk-toggleable__label {\n",
       "  color: var(--sklearn-color-text);\n",
       "  background-color: var(--sklearn-color-unfitted-level-2);\n",
       "}\n",
       "\n",
       "/* Label box, darken color on hover, fitted */\n",
       "#sk-container-id-1 div.sk-label.fitted:hover label.sk-toggleable__label.fitted {\n",
       "  color: var(--sklearn-color-text);\n",
       "  background-color: var(--sklearn-color-fitted-level-2);\n",
       "}\n",
       "\n",
       "/* Estimator label */\n",
       "\n",
       "#sk-container-id-1 div.sk-label label {\n",
       "  font-family: monospace;\n",
       "  font-weight: bold;\n",
       "  display: inline-block;\n",
       "  line-height: 1.2em;\n",
       "}\n",
       "\n",
       "#sk-container-id-1 div.sk-label-container {\n",
       "  text-align: center;\n",
       "}\n",
       "\n",
       "/* Estimator-specific */\n",
       "#sk-container-id-1 div.sk-estimator {\n",
       "  font-family: monospace;\n",
       "  border: 1px dotted var(--sklearn-color-border-box);\n",
       "  border-radius: 0.25em;\n",
       "  box-sizing: border-box;\n",
       "  margin-bottom: 0.5em;\n",
       "  /* unfitted */\n",
       "  background-color: var(--sklearn-color-unfitted-level-0);\n",
       "}\n",
       "\n",
       "#sk-container-id-1 div.sk-estimator.fitted {\n",
       "  /* fitted */\n",
       "  background-color: var(--sklearn-color-fitted-level-0);\n",
       "}\n",
       "\n",
       "/* on hover */\n",
       "#sk-container-id-1 div.sk-estimator:hover {\n",
       "  /* unfitted */\n",
       "  background-color: var(--sklearn-color-unfitted-level-2);\n",
       "}\n",
       "\n",
       "#sk-container-id-1 div.sk-estimator.fitted:hover {\n",
       "  /* fitted */\n",
       "  background-color: var(--sklearn-color-fitted-level-2);\n",
       "}\n",
       "\n",
       "/* Specification for estimator info (e.g. \"i\" and \"?\") */\n",
       "\n",
       "/* Common style for \"i\" and \"?\" */\n",
       "\n",
       ".sk-estimator-doc-link,\n",
       "a:link.sk-estimator-doc-link,\n",
       "a:visited.sk-estimator-doc-link {\n",
       "  float: right;\n",
       "  font-size: smaller;\n",
       "  line-height: 1em;\n",
       "  font-family: monospace;\n",
       "  background-color: var(--sklearn-color-background);\n",
       "  border-radius: 1em;\n",
       "  height: 1em;\n",
       "  width: 1em;\n",
       "  text-decoration: none !important;\n",
       "  margin-left: 0.5em;\n",
       "  text-align: center;\n",
       "  /* unfitted */\n",
       "  border: var(--sklearn-color-unfitted-level-1) 1pt solid;\n",
       "  color: var(--sklearn-color-unfitted-level-1);\n",
       "}\n",
       "\n",
       ".sk-estimator-doc-link.fitted,\n",
       "a:link.sk-estimator-doc-link.fitted,\n",
       "a:visited.sk-estimator-doc-link.fitted {\n",
       "  /* fitted */\n",
       "  border: var(--sklearn-color-fitted-level-1) 1pt solid;\n",
       "  color: var(--sklearn-color-fitted-level-1);\n",
       "}\n",
       "\n",
       "/* On hover */\n",
       "div.sk-estimator:hover .sk-estimator-doc-link:hover,\n",
       ".sk-estimator-doc-link:hover,\n",
       "div.sk-label-container:hover .sk-estimator-doc-link:hover,\n",
       ".sk-estimator-doc-link:hover {\n",
       "  /* unfitted */\n",
       "  background-color: var(--sklearn-color-unfitted-level-3);\n",
       "  color: var(--sklearn-color-background);\n",
       "  text-decoration: none;\n",
       "}\n",
       "\n",
       "div.sk-estimator.fitted:hover .sk-estimator-doc-link.fitted:hover,\n",
       ".sk-estimator-doc-link.fitted:hover,\n",
       "div.sk-label-container:hover .sk-estimator-doc-link.fitted:hover,\n",
       ".sk-estimator-doc-link.fitted:hover {\n",
       "  /* fitted */\n",
       "  background-color: var(--sklearn-color-fitted-level-3);\n",
       "  color: var(--sklearn-color-background);\n",
       "  text-decoration: none;\n",
       "}\n",
       "\n",
       "/* Span, style for the box shown on hovering the info icon */\n",
       ".sk-estimator-doc-link span {\n",
       "  display: none;\n",
       "  z-index: 9999;\n",
       "  position: relative;\n",
       "  font-weight: normal;\n",
       "  right: .2ex;\n",
       "  padding: .5ex;\n",
       "  margin: .5ex;\n",
       "  width: min-content;\n",
       "  min-width: 20ex;\n",
       "  max-width: 50ex;\n",
       "  color: var(--sklearn-color-text);\n",
       "  box-shadow: 2pt 2pt 4pt #999;\n",
       "  /* unfitted */\n",
       "  background: var(--sklearn-color-unfitted-level-0);\n",
       "  border: .5pt solid var(--sklearn-color-unfitted-level-3);\n",
       "}\n",
       "\n",
       ".sk-estimator-doc-link.fitted span {\n",
       "  /* fitted */\n",
       "  background: var(--sklearn-color-fitted-level-0);\n",
       "  border: var(--sklearn-color-fitted-level-3);\n",
       "}\n",
       "\n",
       ".sk-estimator-doc-link:hover span {\n",
       "  display: block;\n",
       "}\n",
       "\n",
       "/* \"?\"-specific style due to the `<a>` HTML tag */\n",
       "\n",
       "#sk-container-id-1 a.estimator_doc_link {\n",
       "  float: right;\n",
       "  font-size: 1rem;\n",
       "  line-height: 1em;\n",
       "  font-family: monospace;\n",
       "  background-color: var(--sklearn-color-background);\n",
       "  border-radius: 1rem;\n",
       "  height: 1rem;\n",
       "  width: 1rem;\n",
       "  text-decoration: none;\n",
       "  /* unfitted */\n",
       "  color: var(--sklearn-color-unfitted-level-1);\n",
       "  border: var(--sklearn-color-unfitted-level-1) 1pt solid;\n",
       "}\n",
       "\n",
       "#sk-container-id-1 a.estimator_doc_link.fitted {\n",
       "  /* fitted */\n",
       "  border: var(--sklearn-color-fitted-level-1) 1pt solid;\n",
       "  color: var(--sklearn-color-fitted-level-1);\n",
       "}\n",
       "\n",
       "/* On hover */\n",
       "#sk-container-id-1 a.estimator_doc_link:hover {\n",
       "  /* unfitted */\n",
       "  background-color: var(--sklearn-color-unfitted-level-3);\n",
       "  color: var(--sklearn-color-background);\n",
       "  text-decoration: none;\n",
       "}\n",
       "\n",
       "#sk-container-id-1 a.estimator_doc_link.fitted:hover {\n",
       "  /* fitted */\n",
       "  background-color: var(--sklearn-color-fitted-level-3);\n",
       "}\n",
       "</style><div id=\"sk-container-id-1\" class=\"sk-top-container\"><div class=\"sk-text-repr-fallback\"><pre>DecisionTreeClassifier()</pre><b>In a Jupyter environment, please rerun this cell to show the HTML representation or trust the notebook. <br />On GitHub, the HTML representation is unable to render, please try loading this page with nbviewer.org.</b></div><div class=\"sk-container\" hidden><div class=\"sk-item\"><div class=\"sk-estimator fitted sk-toggleable\"><input class=\"sk-toggleable__control sk-hidden--visually\" id=\"sk-estimator-id-1\" type=\"checkbox\" checked><label for=\"sk-estimator-id-1\" class=\"sk-toggleable__label fitted sk-toggleable__label-arrow\"><div><div>DecisionTreeClassifier</div></div><div><a class=\"sk-estimator-doc-link fitted\" rel=\"noreferrer\" target=\"_blank\" href=\"https://scikit-learn.org/1.6/modules/generated/sklearn.tree.DecisionTreeClassifier.html\">?<span>Documentation for DecisionTreeClassifier</span></a><span class=\"sk-estimator-doc-link fitted\">i<span>Fitted</span></span></div></label><div class=\"sk-toggleable__content fitted\"><pre>DecisionTreeClassifier()</pre></div> </div></div></div></div>"
      ],
      "text/plain": [
       "DecisionTreeClassifier()"
      ]
     },
     "execution_count": 28,
     "metadata": {},
     "output_type": "execute_result"
    }
   ],
   "source": [
    "dt = DecisionTreeClassifier()\n",
    "dt.fit(X_train, y_train)"
   ]
  },
  {
   "cell_type": "markdown",
   "id": "3ad4be8d-ecfc-458f-aa5b-d4a5081c669e",
   "metadata": {},
   "source": [
    "To check if the result is good, we need to evaluate the predictive performance of the model on the validation set. Let's use AUC for that. Credit risk scoring is a binary classification problem, and for cases like that, AUC is one of the best evaluation metrics. AUC describes the probability that a randomly chosen positive example (\"default\") has a higher score than a randomly chosen negative example (\"OK\")."
   ]
  },
  {
   "cell_type": "code",
   "execution_count": 29,
   "id": "d9c85ecb-78de-44d9-a481-789448e07d5e",
   "metadata": {},
   "outputs": [],
   "source": [
    "from sklearn.metrics import roc_auc_score"
   ]
  },
  {
   "cell_type": "markdown",
   "id": "f9c9bf27-f702-4c31-8418-3b35027044bb",
   "metadata": {},
   "source": [
    "First, we evaluate the performance on the training set. Because we chose AUC as the evaluation metric, we need scores, not hard predictions. As we know, we need to use  method for that:"
   ]
  },
  {
   "cell_type": "code",
   "execution_count": 30,
   "id": "b0f1a928-b71b-4023-b400-ff6b97d55180",
   "metadata": {},
   "outputs": [
    {
     "data": {
      "text/plain": [
       "np.float64(1.0)"
      ]
     },
     "execution_count": 30,
     "metadata": {},
     "output_type": "execute_result"
    }
   ],
   "source": [
    "y_pred = dt.predict_proba(X_train)[:, 1]\n",
    "roc_auc_score(y_train, y_pred)"
   ]
  },
  {
   "cell_type": "markdown",
   "id": "812673ff-2e7d-4595-92c1-baf66f990d4d",
   "metadata": {},
   "source": [
    "When we execute it, we see that the score is 100%—the perfect score. Does it mean that we can predict default without errors? Let’s check the score on validation before jumping to conclusions:"
   ]
  },
  {
   "cell_type": "code",
   "execution_count": 31,
   "id": "98c69375-0add-4d35-987b-c40864183d59",
   "metadata": {},
   "outputs": [
    {
     "data": {
      "text/plain": [
       "np.float64(0.6656293138940689)"
      ]
     },
     "execution_count": 31,
     "metadata": {},
     "output_type": "execute_result"
    }
   ],
   "source": [
    "y_pred = dt.predict_proba(X_val)[:, 1]\n",
    "roc_auc_score(y_val, y_pred)"
   ]
  },
  {
   "cell_type": "markdown",
   "id": "0ce520e2-e976-440e-acc6-a92d034faf76",
   "metadata": {},
   "source": [
    "That's a case of overfitting - our model on the training data performs perfectly, but fails on validation. The tree learned the training data so well that it simply memorized the outcome for each customer. However, when we applied it to the validation set, the model failed. The rules it extracted from the data turned out to be too specific to the training set, so it worked poorly for customers it didn't see during training. In such cases, we say that the model cannot generalize."
   ]
  },
  {
   "cell_type": "markdown",
   "id": "18128621-17aa-471c-8372-715b0b4fca1e",
   "metadata": {},
   "source": [
    "We have multiple ways to control the complexity of a tree. One option is to restrict its size: we can specify the max_depth parameter, which controls the maximum number of levels. The more levels a tree has, the more complex rules it can learn."
   ]
  },
  {
   "cell_type": "markdown",
   "id": "fd1e23d1-e30c-4850-95c9-27e92a32d2ec",
   "metadata": {},
   "source": [
    "The default value for the max_depth parameter is None, which means that the tree can grow as large as possible. We can try a smaller value and compare the results."
   ]
  },
  {
   "cell_type": "code",
   "execution_count": 32,
   "id": "254bab9d-3ac4-46b2-8747-49fd1235eb95",
   "metadata": {},
   "outputs": [
    {
     "data": {
      "text/html": [
       "<style>#sk-container-id-2 {\n",
       "  /* Definition of color scheme common for light and dark mode */\n",
       "  --sklearn-color-text: #000;\n",
       "  --sklearn-color-text-muted: #666;\n",
       "  --sklearn-color-line: gray;\n",
       "  /* Definition of color scheme for unfitted estimators */\n",
       "  --sklearn-color-unfitted-level-0: #fff5e6;\n",
       "  --sklearn-color-unfitted-level-1: #f6e4d2;\n",
       "  --sklearn-color-unfitted-level-2: #ffe0b3;\n",
       "  --sklearn-color-unfitted-level-3: chocolate;\n",
       "  /* Definition of color scheme for fitted estimators */\n",
       "  --sklearn-color-fitted-level-0: #f0f8ff;\n",
       "  --sklearn-color-fitted-level-1: #d4ebff;\n",
       "  --sklearn-color-fitted-level-2: #b3dbfd;\n",
       "  --sklearn-color-fitted-level-3: cornflowerblue;\n",
       "\n",
       "  /* Specific color for light theme */\n",
       "  --sklearn-color-text-on-default-background: var(--sg-text-color, var(--theme-code-foreground, var(--jp-content-font-color1, black)));\n",
       "  --sklearn-color-background: var(--sg-background-color, var(--theme-background, var(--jp-layout-color0, white)));\n",
       "  --sklearn-color-border-box: var(--sg-text-color, var(--theme-code-foreground, var(--jp-content-font-color1, black)));\n",
       "  --sklearn-color-icon: #696969;\n",
       "\n",
       "  @media (prefers-color-scheme: dark) {\n",
       "    /* Redefinition of color scheme for dark theme */\n",
       "    --sklearn-color-text-on-default-background: var(--sg-text-color, var(--theme-code-foreground, var(--jp-content-font-color1, white)));\n",
       "    --sklearn-color-background: var(--sg-background-color, var(--theme-background, var(--jp-layout-color0, #111)));\n",
       "    --sklearn-color-border-box: var(--sg-text-color, var(--theme-code-foreground, var(--jp-content-font-color1, white)));\n",
       "    --sklearn-color-icon: #878787;\n",
       "  }\n",
       "}\n",
       "\n",
       "#sk-container-id-2 {\n",
       "  color: var(--sklearn-color-text);\n",
       "}\n",
       "\n",
       "#sk-container-id-2 pre {\n",
       "  padding: 0;\n",
       "}\n",
       "\n",
       "#sk-container-id-2 input.sk-hidden--visually {\n",
       "  border: 0;\n",
       "  clip: rect(1px 1px 1px 1px);\n",
       "  clip: rect(1px, 1px, 1px, 1px);\n",
       "  height: 1px;\n",
       "  margin: -1px;\n",
       "  overflow: hidden;\n",
       "  padding: 0;\n",
       "  position: absolute;\n",
       "  width: 1px;\n",
       "}\n",
       "\n",
       "#sk-container-id-2 div.sk-dashed-wrapped {\n",
       "  border: 1px dashed var(--sklearn-color-line);\n",
       "  margin: 0 0.4em 0.5em 0.4em;\n",
       "  box-sizing: border-box;\n",
       "  padding-bottom: 0.4em;\n",
       "  background-color: var(--sklearn-color-background);\n",
       "}\n",
       "\n",
       "#sk-container-id-2 div.sk-container {\n",
       "  /* jupyter's `normalize.less` sets `[hidden] { display: none; }`\n",
       "     but bootstrap.min.css set `[hidden] { display: none !important; }`\n",
       "     so we also need the `!important` here to be able to override the\n",
       "     default hidden behavior on the sphinx rendered scikit-learn.org.\n",
       "     See: https://github.com/scikit-learn/scikit-learn/issues/21755 */\n",
       "  display: inline-block !important;\n",
       "  position: relative;\n",
       "}\n",
       "\n",
       "#sk-container-id-2 div.sk-text-repr-fallback {\n",
       "  display: none;\n",
       "}\n",
       "\n",
       "div.sk-parallel-item,\n",
       "div.sk-serial,\n",
       "div.sk-item {\n",
       "  /* draw centered vertical line to link estimators */\n",
       "  background-image: linear-gradient(var(--sklearn-color-text-on-default-background), var(--sklearn-color-text-on-default-background));\n",
       "  background-size: 2px 100%;\n",
       "  background-repeat: no-repeat;\n",
       "  background-position: center center;\n",
       "}\n",
       "\n",
       "/* Parallel-specific style estimator block */\n",
       "\n",
       "#sk-container-id-2 div.sk-parallel-item::after {\n",
       "  content: \"\";\n",
       "  width: 100%;\n",
       "  border-bottom: 2px solid var(--sklearn-color-text-on-default-background);\n",
       "  flex-grow: 1;\n",
       "}\n",
       "\n",
       "#sk-container-id-2 div.sk-parallel {\n",
       "  display: flex;\n",
       "  align-items: stretch;\n",
       "  justify-content: center;\n",
       "  background-color: var(--sklearn-color-background);\n",
       "  position: relative;\n",
       "}\n",
       "\n",
       "#sk-container-id-2 div.sk-parallel-item {\n",
       "  display: flex;\n",
       "  flex-direction: column;\n",
       "}\n",
       "\n",
       "#sk-container-id-2 div.sk-parallel-item:first-child::after {\n",
       "  align-self: flex-end;\n",
       "  width: 50%;\n",
       "}\n",
       "\n",
       "#sk-container-id-2 div.sk-parallel-item:last-child::after {\n",
       "  align-self: flex-start;\n",
       "  width: 50%;\n",
       "}\n",
       "\n",
       "#sk-container-id-2 div.sk-parallel-item:only-child::after {\n",
       "  width: 0;\n",
       "}\n",
       "\n",
       "/* Serial-specific style estimator block */\n",
       "\n",
       "#sk-container-id-2 div.sk-serial {\n",
       "  display: flex;\n",
       "  flex-direction: column;\n",
       "  align-items: center;\n",
       "  background-color: var(--sklearn-color-background);\n",
       "  padding-right: 1em;\n",
       "  padding-left: 1em;\n",
       "}\n",
       "\n",
       "\n",
       "/* Toggleable style: style used for estimator/Pipeline/ColumnTransformer box that is\n",
       "clickable and can be expanded/collapsed.\n",
       "- Pipeline and ColumnTransformer use this feature and define the default style\n",
       "- Estimators will overwrite some part of the style using the `sk-estimator` class\n",
       "*/\n",
       "\n",
       "/* Pipeline and ColumnTransformer style (default) */\n",
       "\n",
       "#sk-container-id-2 div.sk-toggleable {\n",
       "  /* Default theme specific background. It is overwritten whether we have a\n",
       "  specific estimator or a Pipeline/ColumnTransformer */\n",
       "  background-color: var(--sklearn-color-background);\n",
       "}\n",
       "\n",
       "/* Toggleable label */\n",
       "#sk-container-id-2 label.sk-toggleable__label {\n",
       "  cursor: pointer;\n",
       "  display: flex;\n",
       "  width: 100%;\n",
       "  margin-bottom: 0;\n",
       "  padding: 0.5em;\n",
       "  box-sizing: border-box;\n",
       "  text-align: center;\n",
       "  align-items: start;\n",
       "  justify-content: space-between;\n",
       "  gap: 0.5em;\n",
       "}\n",
       "\n",
       "#sk-container-id-2 label.sk-toggleable__label .caption {\n",
       "  font-size: 0.6rem;\n",
       "  font-weight: lighter;\n",
       "  color: var(--sklearn-color-text-muted);\n",
       "}\n",
       "\n",
       "#sk-container-id-2 label.sk-toggleable__label-arrow:before {\n",
       "  /* Arrow on the left of the label */\n",
       "  content: \"▸\";\n",
       "  float: left;\n",
       "  margin-right: 0.25em;\n",
       "  color: var(--sklearn-color-icon);\n",
       "}\n",
       "\n",
       "#sk-container-id-2 label.sk-toggleable__label-arrow:hover:before {\n",
       "  color: var(--sklearn-color-text);\n",
       "}\n",
       "\n",
       "/* Toggleable content - dropdown */\n",
       "\n",
       "#sk-container-id-2 div.sk-toggleable__content {\n",
       "  max-height: 0;\n",
       "  max-width: 0;\n",
       "  overflow: hidden;\n",
       "  text-align: left;\n",
       "  /* unfitted */\n",
       "  background-color: var(--sklearn-color-unfitted-level-0);\n",
       "}\n",
       "\n",
       "#sk-container-id-2 div.sk-toggleable__content.fitted {\n",
       "  /* fitted */\n",
       "  background-color: var(--sklearn-color-fitted-level-0);\n",
       "}\n",
       "\n",
       "#sk-container-id-2 div.sk-toggleable__content pre {\n",
       "  margin: 0.2em;\n",
       "  border-radius: 0.25em;\n",
       "  color: var(--sklearn-color-text);\n",
       "  /* unfitted */\n",
       "  background-color: var(--sklearn-color-unfitted-level-0);\n",
       "}\n",
       "\n",
       "#sk-container-id-2 div.sk-toggleable__content.fitted pre {\n",
       "  /* unfitted */\n",
       "  background-color: var(--sklearn-color-fitted-level-0);\n",
       "}\n",
       "\n",
       "#sk-container-id-2 input.sk-toggleable__control:checked~div.sk-toggleable__content {\n",
       "  /* Expand drop-down */\n",
       "  max-height: 200px;\n",
       "  max-width: 100%;\n",
       "  overflow: auto;\n",
       "}\n",
       "\n",
       "#sk-container-id-2 input.sk-toggleable__control:checked~label.sk-toggleable__label-arrow:before {\n",
       "  content: \"▾\";\n",
       "}\n",
       "\n",
       "/* Pipeline/ColumnTransformer-specific style */\n",
       "\n",
       "#sk-container-id-2 div.sk-label input.sk-toggleable__control:checked~label.sk-toggleable__label {\n",
       "  color: var(--sklearn-color-text);\n",
       "  background-color: var(--sklearn-color-unfitted-level-2);\n",
       "}\n",
       "\n",
       "#sk-container-id-2 div.sk-label.fitted input.sk-toggleable__control:checked~label.sk-toggleable__label {\n",
       "  background-color: var(--sklearn-color-fitted-level-2);\n",
       "}\n",
       "\n",
       "/* Estimator-specific style */\n",
       "\n",
       "/* Colorize estimator box */\n",
       "#sk-container-id-2 div.sk-estimator input.sk-toggleable__control:checked~label.sk-toggleable__label {\n",
       "  /* unfitted */\n",
       "  background-color: var(--sklearn-color-unfitted-level-2);\n",
       "}\n",
       "\n",
       "#sk-container-id-2 div.sk-estimator.fitted input.sk-toggleable__control:checked~label.sk-toggleable__label {\n",
       "  /* fitted */\n",
       "  background-color: var(--sklearn-color-fitted-level-2);\n",
       "}\n",
       "\n",
       "#sk-container-id-2 div.sk-label label.sk-toggleable__label,\n",
       "#sk-container-id-2 div.sk-label label {\n",
       "  /* The background is the default theme color */\n",
       "  color: var(--sklearn-color-text-on-default-background);\n",
       "}\n",
       "\n",
       "/* On hover, darken the color of the background */\n",
       "#sk-container-id-2 div.sk-label:hover label.sk-toggleable__label {\n",
       "  color: var(--sklearn-color-text);\n",
       "  background-color: var(--sklearn-color-unfitted-level-2);\n",
       "}\n",
       "\n",
       "/* Label box, darken color on hover, fitted */\n",
       "#sk-container-id-2 div.sk-label.fitted:hover label.sk-toggleable__label.fitted {\n",
       "  color: var(--sklearn-color-text);\n",
       "  background-color: var(--sklearn-color-fitted-level-2);\n",
       "}\n",
       "\n",
       "/* Estimator label */\n",
       "\n",
       "#sk-container-id-2 div.sk-label label {\n",
       "  font-family: monospace;\n",
       "  font-weight: bold;\n",
       "  display: inline-block;\n",
       "  line-height: 1.2em;\n",
       "}\n",
       "\n",
       "#sk-container-id-2 div.sk-label-container {\n",
       "  text-align: center;\n",
       "}\n",
       "\n",
       "/* Estimator-specific */\n",
       "#sk-container-id-2 div.sk-estimator {\n",
       "  font-family: monospace;\n",
       "  border: 1px dotted var(--sklearn-color-border-box);\n",
       "  border-radius: 0.25em;\n",
       "  box-sizing: border-box;\n",
       "  margin-bottom: 0.5em;\n",
       "  /* unfitted */\n",
       "  background-color: var(--sklearn-color-unfitted-level-0);\n",
       "}\n",
       "\n",
       "#sk-container-id-2 div.sk-estimator.fitted {\n",
       "  /* fitted */\n",
       "  background-color: var(--sklearn-color-fitted-level-0);\n",
       "}\n",
       "\n",
       "/* on hover */\n",
       "#sk-container-id-2 div.sk-estimator:hover {\n",
       "  /* unfitted */\n",
       "  background-color: var(--sklearn-color-unfitted-level-2);\n",
       "}\n",
       "\n",
       "#sk-container-id-2 div.sk-estimator.fitted:hover {\n",
       "  /* fitted */\n",
       "  background-color: var(--sklearn-color-fitted-level-2);\n",
       "}\n",
       "\n",
       "/* Specification for estimator info (e.g. \"i\" and \"?\") */\n",
       "\n",
       "/* Common style for \"i\" and \"?\" */\n",
       "\n",
       ".sk-estimator-doc-link,\n",
       "a:link.sk-estimator-doc-link,\n",
       "a:visited.sk-estimator-doc-link {\n",
       "  float: right;\n",
       "  font-size: smaller;\n",
       "  line-height: 1em;\n",
       "  font-family: monospace;\n",
       "  background-color: var(--sklearn-color-background);\n",
       "  border-radius: 1em;\n",
       "  height: 1em;\n",
       "  width: 1em;\n",
       "  text-decoration: none !important;\n",
       "  margin-left: 0.5em;\n",
       "  text-align: center;\n",
       "  /* unfitted */\n",
       "  border: var(--sklearn-color-unfitted-level-1) 1pt solid;\n",
       "  color: var(--sklearn-color-unfitted-level-1);\n",
       "}\n",
       "\n",
       ".sk-estimator-doc-link.fitted,\n",
       "a:link.sk-estimator-doc-link.fitted,\n",
       "a:visited.sk-estimator-doc-link.fitted {\n",
       "  /* fitted */\n",
       "  border: var(--sklearn-color-fitted-level-1) 1pt solid;\n",
       "  color: var(--sklearn-color-fitted-level-1);\n",
       "}\n",
       "\n",
       "/* On hover */\n",
       "div.sk-estimator:hover .sk-estimator-doc-link:hover,\n",
       ".sk-estimator-doc-link:hover,\n",
       "div.sk-label-container:hover .sk-estimator-doc-link:hover,\n",
       ".sk-estimator-doc-link:hover {\n",
       "  /* unfitted */\n",
       "  background-color: var(--sklearn-color-unfitted-level-3);\n",
       "  color: var(--sklearn-color-background);\n",
       "  text-decoration: none;\n",
       "}\n",
       "\n",
       "div.sk-estimator.fitted:hover .sk-estimator-doc-link.fitted:hover,\n",
       ".sk-estimator-doc-link.fitted:hover,\n",
       "div.sk-label-container:hover .sk-estimator-doc-link.fitted:hover,\n",
       ".sk-estimator-doc-link.fitted:hover {\n",
       "  /* fitted */\n",
       "  background-color: var(--sklearn-color-fitted-level-3);\n",
       "  color: var(--sklearn-color-background);\n",
       "  text-decoration: none;\n",
       "}\n",
       "\n",
       "/* Span, style for the box shown on hovering the info icon */\n",
       ".sk-estimator-doc-link span {\n",
       "  display: none;\n",
       "  z-index: 9999;\n",
       "  position: relative;\n",
       "  font-weight: normal;\n",
       "  right: .2ex;\n",
       "  padding: .5ex;\n",
       "  margin: .5ex;\n",
       "  width: min-content;\n",
       "  min-width: 20ex;\n",
       "  max-width: 50ex;\n",
       "  color: var(--sklearn-color-text);\n",
       "  box-shadow: 2pt 2pt 4pt #999;\n",
       "  /* unfitted */\n",
       "  background: var(--sklearn-color-unfitted-level-0);\n",
       "  border: .5pt solid var(--sklearn-color-unfitted-level-3);\n",
       "}\n",
       "\n",
       ".sk-estimator-doc-link.fitted span {\n",
       "  /* fitted */\n",
       "  background: var(--sklearn-color-fitted-level-0);\n",
       "  border: var(--sklearn-color-fitted-level-3);\n",
       "}\n",
       "\n",
       ".sk-estimator-doc-link:hover span {\n",
       "  display: block;\n",
       "}\n",
       "\n",
       "/* \"?\"-specific style due to the `<a>` HTML tag */\n",
       "\n",
       "#sk-container-id-2 a.estimator_doc_link {\n",
       "  float: right;\n",
       "  font-size: 1rem;\n",
       "  line-height: 1em;\n",
       "  font-family: monospace;\n",
       "  background-color: var(--sklearn-color-background);\n",
       "  border-radius: 1rem;\n",
       "  height: 1rem;\n",
       "  width: 1rem;\n",
       "  text-decoration: none;\n",
       "  /* unfitted */\n",
       "  color: var(--sklearn-color-unfitted-level-1);\n",
       "  border: var(--sklearn-color-unfitted-level-1) 1pt solid;\n",
       "}\n",
       "\n",
       "#sk-container-id-2 a.estimator_doc_link.fitted {\n",
       "  /* fitted */\n",
       "  border: var(--sklearn-color-fitted-level-1) 1pt solid;\n",
       "  color: var(--sklearn-color-fitted-level-1);\n",
       "}\n",
       "\n",
       "/* On hover */\n",
       "#sk-container-id-2 a.estimator_doc_link:hover {\n",
       "  /* unfitted */\n",
       "  background-color: var(--sklearn-color-unfitted-level-3);\n",
       "  color: var(--sklearn-color-background);\n",
       "  text-decoration: none;\n",
       "}\n",
       "\n",
       "#sk-container-id-2 a.estimator_doc_link.fitted:hover {\n",
       "  /* fitted */\n",
       "  background-color: var(--sklearn-color-fitted-level-3);\n",
       "}\n",
       "</style><div id=\"sk-container-id-2\" class=\"sk-top-container\"><div class=\"sk-text-repr-fallback\"><pre>DecisionTreeClassifier(max_depth=2)</pre><b>In a Jupyter environment, please rerun this cell to show the HTML representation or trust the notebook. <br />On GitHub, the HTML representation is unable to render, please try loading this page with nbviewer.org.</b></div><div class=\"sk-container\" hidden><div class=\"sk-item\"><div class=\"sk-estimator fitted sk-toggleable\"><input class=\"sk-toggleable__control sk-hidden--visually\" id=\"sk-estimator-id-2\" type=\"checkbox\" checked><label for=\"sk-estimator-id-2\" class=\"sk-toggleable__label fitted sk-toggleable__label-arrow\"><div><div>DecisionTreeClassifier</div></div><div><a class=\"sk-estimator-doc-link fitted\" rel=\"noreferrer\" target=\"_blank\" href=\"https://scikit-learn.org/1.6/modules/generated/sklearn.tree.DecisionTreeClassifier.html\">?<span>Documentation for DecisionTreeClassifier</span></a><span class=\"sk-estimator-doc-link fitted\">i<span>Fitted</span></span></div></label><div class=\"sk-toggleable__content fitted\"><pre>DecisionTreeClassifier(max_depth=2)</pre></div> </div></div></div></div>"
      ],
      "text/plain": [
       "DecisionTreeClassifier(max_depth=2)"
      ]
     },
     "execution_count": 32,
     "metadata": {},
     "output_type": "execute_result"
    }
   ],
   "source": [
    "dt = DecisionTreeClassifier(max_depth=2)\n",
    "dt.fit(X_train, y_train)"
   ]
  },
  {
   "cell_type": "markdown",
   "id": "213e0f1b-f4c4-4603-b16b-68d00cc106bc",
   "metadata": {},
   "source": [
    "To visualize the tree we just learned, we can use the export_text function from the tree package:"
   ]
  },
  {
   "cell_type": "code",
   "execution_count": 33,
   "id": "7e07c85d-b659-4638-8b65-b6d45cb8a992",
   "metadata": {},
   "outputs": [
    {
     "name": "stdout",
     "output_type": "stream",
     "text": [
      "|--- records=no <= 0.50\n",
      "|   |--- seniority <= 6.50\n",
      "|   |   |--- class: True\n",
      "|   |--- seniority >  6.50\n",
      "|   |   |--- class: False\n",
      "|--- records=no >  0.50\n",
      "|   |--- seniority <= 2.50\n",
      "|   |   |--- class: False\n",
      "|   |--- seniority >  2.50\n",
      "|   |   |--- class: False\n",
      "\n"
     ]
    }
   ],
   "source": [
    "from sklearn.tree import export_text\n",
    "\n",
    "tree_text = export_text(dt, feature_names=dv.feature_names_)\n",
    "print(tree_text)"
   ]
  },
  {
   "cell_type": "markdown",
   "id": "b6e55a18-7db0-4873-a214-c5eec79b332b",
   "metadata": {},
   "source": [
    "The condition records=no > 0.50 means that a customer has no records. For a customer with no records, records=no is set to \"1\" and records=yes to \"0\". Thus, records=no > 0.50 is true when the value for records is no."
   ]
  },
  {
   "cell_type": "markdown",
   "id": "65612f09-7075-48e3-8bbd-438970743a1f",
   "metadata": {},
   "source": [
    "Let's check the score:"
   ]
  },
  {
   "cell_type": "code",
   "execution_count": 34,
   "id": "717a0a0a-099e-48bb-a2b4-48e1b859ecb4",
   "metadata": {},
   "outputs": [
    {
     "name": "stdout",
     "output_type": "stream",
     "text": [
      "train auc 0.7274153568813024\n",
      "validation auc 0.6894934731539561\n"
     ]
    }
   ],
   "source": [
    "y_pred = dt.predict_proba(X_train)[:, 1]\n",
    "auc = roc_auc_score(y_train, y_pred)\n",
    "print(\"train auc\", auc)\n",
    "\n",
    "y_pred = dt.predict_proba(X_val)[:, 1]\n",
    "auc = roc_auc_score(y_val, y_pred)\n",
    "print(\"validation auc\", auc)"
   ]
  },
  {
   "cell_type": "markdown",
   "id": "47fbea69-f8a2-4723-ae5b-99e616cdaedd",
   "metadata": {},
   "source": [
    "The score on train dropped, it means that the model can no longer memorize all the outcomes from the training set. The score on the validation set is better. By making the model less complex, we improved the ability of our model to generalize. Now it's better at predicting the outcomes for customers it hasn't seen previously."
   ]
  },
  {
   "cell_type": "markdown",
   "id": "4758fd50-0948-4158-8a93-d9801cd13593",
   "metadata": {},
   "source": [
    "However, this tree has another problem - it's too simple. To make it better, we need to tune the model: try different parameters, and see which ones lead to the best AUC. In addition to max_depth, we can control other parameters. To understand what these parameters mean and how they influence the model, let's take a step back and look at how decision trees learn rules from data."
   ]
  },
  {
   "cell_type": "markdown",
   "id": "95aae3d9-9b79-46e0-8a06-58837f9e3780",
   "metadata": {},
   "source": [
    "### 6.2.2. Decision tree learning algorithm"
   ]
  },
  {
   "cell_type": "markdown",
   "id": "c23309c5-4474-47a8-a5d3-51d9709088a6",
   "metadata": {},
   "source": [
    "Groups in a decision tree should be as homogenous as possible. Ideally, each group should contain only observations of one class. For example, if we have a group of four customers with outcomes [“default,” “default,” “default,” “default”], it’s pure: it contains only customers who defaulted. But a group [“default,” “default,” “default,” “OK”] is impure: there’s one customer who didn’t default."
   ]
  },
  {
   "cell_type": "markdown",
   "id": "1009b927-96a0-464e-999c-80896444d516",
   "metadata": {},
   "source": [
    "When training a decision tree mode, we want to find such T (a threshold used in a decision tree) tha the impurity of both groups is minimal. The algorithm for finding T tries all possible values of T, for each T splits the dataset into left and right groups and measures their impurity, and then selectes the T that has the lowest degree of impurity."
   ]
  },
  {
   "cell_type": "markdown",
   "id": "a17e4c9e-de20-4b30-bbcd-01408c3bb9e8",
   "metadata": {},
   "source": [
    "We can use different criteria for measuring impurity. The easiest one to understand is the misclassification rate, which says how many observations in a group don't belong to the majority class."
   ]
  },
  {
   "cell_type": "markdown",
   "id": "0344e8e6-9862-4c4e-b9ec-a1423c4d5d82",
   "metadata": {},
   "source": [
    "If there is a group and the majority class is \"default\", if there are four data points in total, and one doesn't belong to \"default\", the misclassification rate is 25%. To calculate the overall impurity of the split, we can take the average across both groups."
   ]
  },
  {
   "cell_type": "markdown",
   "id": "87f9fddc-2f07-4c51-9795-57464923a330",
   "metadata": {},
   "source": [
    "When training a decision tree, if you don't put any restrictions on the trees in Scikit-learn, the data keeps splitting until all of the groups are pure. This results in a model that becomes too complex, which leads to overfitting. This can be solved by using the max_depth parameter, so that the tree doesn't grow too large."
   ]
  },
  {
   "cell_type": "markdown",
   "id": "153c211e-4ff2-4ff1-bf9e-431f218980b5",
   "metadata": {},
   "source": [
    "To decide if we want to continue splitting the data, we use stopping criteria - criteria that describes if we should add another split in the tree or stop."
   ]
  },
  {
   "cell_type": "markdown",
   "id": "79fc9a3f-850b-4538-91ae-7e049cc218f2",
   "metadata": {},
   "source": [
    "The most common stopping criteria are:\n",
    "\n",
    "- The group is already pure.\n",
    "- The tree reached the depth limit (controlled by the max_depth parameter).\n",
    "- The group is too small to continue splitting (controlled by the max_samples_leaf parameter)."
   ]
  },
  {
   "cell_type": "markdown",
   "id": "508e2a10-c92d-476c-96c5-319621a400c2",
   "metadata": {},
   "source": [
    "By using these criteria to stop earlier, we force our model to be less complex and, therefore, reduce the risk of overfitting."
   ]
  },
  {
   "cell_type": "markdown",
   "id": "0b610554-0a59-4d24-be68-a6141efc3a53",
   "metadata": {},
   "source": [
    "Let's use this information to adjust the training algorithm:\n",
    "\n",
    "- Find the best split:\n",
    "    - For each feature try all possible threshold values.\n",
    "    - Usew the one with the lowest impurity.\n",
    "- If the maximum allowed depth is reached, stop.\n",
    "- If the group on the left is sufficiently large and it's not pure yet, repeat on the left.\n",
    "- If the group on the right is sufficiently large and it's not pure yet, repeat on the right."
   ]
  },
  {
   "cell_type": "markdown",
   "id": "6d0be512-cea0-46f2-a13b-13ecf15f0b1f",
   "metadata": {},
   "source": [
    "Even though this is a simplified version of the decision tree learning algorithm, it should provide you enough intuition about the internals of the learning process."
   ]
  },
  {
   "cell_type": "markdown",
   "id": "43ecb2c3-ac38-449e-899b-fc253debf50d",
   "metadata": {},
   "source": [
    "### 6.2.3. Parameter tuning for decision tree"
   ]
  },
  {
   "cell_type": "markdown",
   "id": "c6044610-6d64-413b-8f1b-d574496ba2cf",
   "metadata": {},
   "source": [
    "The process of finding the best set of parameters is called parameter tuning. We usually do it by changing the model and checking its score on the validation dataset. In the end, we use the model with the best validation score."
   ]
  },
  {
   "cell_type": "markdown",
   "id": "0aaaefb0-9ba8-45d3-88be-a90cb86d7067",
   "metadata": {},
   "source": [
    "We can tune two parameters:\n",
    "\n",
    "- max_depth\n",
    "- min_leaf_size\n",
    "\n",
    "These two are the most important ones, so we will adjust only them. Scikit-learn has other parameters that we can use in the future."
   ]
  },
  {
   "cell_type": "markdown",
   "id": "b0793d00-68cb-41c3-bc29-2bb671938161",
   "metadata": {},
   "source": [
    "For tuning max_depth, we iterate over a few reasonable values and see what works best:"
   ]
  },
  {
   "cell_type": "code",
   "execution_count": 35,
   "id": "aa3eff00-5673-4356-b076-e21ec6e337b4",
   "metadata": {},
   "outputs": [
    {
     "name": "stdout",
     "output_type": "stream",
     "text": [
      "   1 -> 0.606\n",
      "   2 -> 0.689\n",
      "   3 -> 0.742\n",
      "   4 -> 0.747\n",
      "   5 -> 0.746\n",
      "   6 -> 0.740\n",
      "  10 -> 0.669\n",
      "  15 -> 0.658\n",
      "  20 -> 0.665\n",
      "None -> 0.653\n"
     ]
    }
   ],
   "source": [
    "for depth in [1, 2, 3, 4, 5, 6, 10, 15, 20, None]:\n",
    "    dt = DecisionTreeClassifier(max_depth=depth)\n",
    "    dt.fit(X_train, y_train)\n",
    "    y_pred = dt.predict_proba(X_val)[:, 1]\n",
    "    auc = roc_auc_score(y_val, y_pred)\n",
    "    print(\"%4s -> %.3f\" % (depth, auc))"
   ]
  },
  {
   "cell_type": "markdown",
   "id": "c0fa06b9-94c3-4a20-b56e-5735a6d9f5cc",
   "metadata": {},
   "source": [
    "When we run this code, we see that max_depth of 4 gives the best AUC (74.7%), followed by 5 and then 3."
   ]
  },
  {
   "cell_type": "markdown",
   "id": "fbdd30c0-e433-4fa7-b3d7-66a5bcf69df6",
   "metadata": {},
   "source": [
    "Next, we tune min_leaf_size. For that, we iterate over the three best parameters of max_depth, and for each, go over different values of min_leaf_size:"
   ]
  },
  {
   "cell_type": "code",
   "execution_count": 36,
   "id": "edb8318a-14ba-4f26-8cfd-bc9a85820ca7",
   "metadata": {},
   "outputs": [
    {
     "name": "stdout",
     "output_type": "stream",
     "text": [
      "depth: 4\n",
      "1 -> 0.747\n",
      "5 -> 0.747\n",
      "10 -> 0.747\n",
      "15 -> 0.750\n",
      "20 -> 0.750\n",
      "50 -> 0.745\n",
      "100 -> 0.748\n",
      "200 -> 0.738\n",
      "depth: 5\n",
      "1 -> 0.746\n",
      "5 -> 0.748\n",
      "10 -> 0.747\n",
      "15 -> 0.756\n",
      "20 -> 0.760\n",
      "50 -> 0.764\n",
      "100 -> 0.766\n",
      "200 -> 0.745\n",
      "depth: 6\n",
      "1 -> 0.738\n",
      "5 -> 0.747\n",
      "10 -> 0.758\n",
      "15 -> 0.765\n",
      "20 -> 0.776\n",
      "50 -> 0.784\n",
      "100 -> 0.774\n",
      "200 -> 0.749\n"
     ]
    }
   ],
   "source": [
    "for m in [4, 5, 6]:\n",
    "    print(\"depth: %s\" % m)\n",
    "\n",
    "    for s in [1, 5, 10, 15, 20, 50, 100, 200]:\n",
    "        dt = DecisionTreeClassifier(max_depth=m, min_samples_leaf=s)\n",
    "        dt.fit(X_train, y_train)\n",
    "        y_pred = dt.predict_proba(X_val)[:, 1]\n",
    "        auc = roc_auc_score(y_val, y_pred)\n",
    "        print(\"%s -> %.3f\" % (s, auc))"
   ]
  },
  {
   "cell_type": "markdown",
   "id": "99926a73-b731-4d61-adce-55c62c8e6e55",
   "metadata": {},
   "source": [
    "We see that the best AUC is 78.4% with parameters min_samples_leaf=50 and max_depth=6."
   ]
  },
  {
   "cell_type": "markdown",
   "id": "ec953c73-2992-4d59-b057-a2febeb38bd8",
   "metadata": {},
   "source": [
    "We have found the best parameters, so let's use them to train the final model:"
   ]
  },
  {
   "cell_type": "code",
   "execution_count": 37,
   "id": "c4d86681-d455-4ef6-934c-1701851cae0d",
   "metadata": {},
   "outputs": [
    {
     "data": {
      "text/html": [
       "<style>#sk-container-id-3 {\n",
       "  /* Definition of color scheme common for light and dark mode */\n",
       "  --sklearn-color-text: #000;\n",
       "  --sklearn-color-text-muted: #666;\n",
       "  --sklearn-color-line: gray;\n",
       "  /* Definition of color scheme for unfitted estimators */\n",
       "  --sklearn-color-unfitted-level-0: #fff5e6;\n",
       "  --sklearn-color-unfitted-level-1: #f6e4d2;\n",
       "  --sklearn-color-unfitted-level-2: #ffe0b3;\n",
       "  --sklearn-color-unfitted-level-3: chocolate;\n",
       "  /* Definition of color scheme for fitted estimators */\n",
       "  --sklearn-color-fitted-level-0: #f0f8ff;\n",
       "  --sklearn-color-fitted-level-1: #d4ebff;\n",
       "  --sklearn-color-fitted-level-2: #b3dbfd;\n",
       "  --sklearn-color-fitted-level-3: cornflowerblue;\n",
       "\n",
       "  /* Specific color for light theme */\n",
       "  --sklearn-color-text-on-default-background: var(--sg-text-color, var(--theme-code-foreground, var(--jp-content-font-color1, black)));\n",
       "  --sklearn-color-background: var(--sg-background-color, var(--theme-background, var(--jp-layout-color0, white)));\n",
       "  --sklearn-color-border-box: var(--sg-text-color, var(--theme-code-foreground, var(--jp-content-font-color1, black)));\n",
       "  --sklearn-color-icon: #696969;\n",
       "\n",
       "  @media (prefers-color-scheme: dark) {\n",
       "    /* Redefinition of color scheme for dark theme */\n",
       "    --sklearn-color-text-on-default-background: var(--sg-text-color, var(--theme-code-foreground, var(--jp-content-font-color1, white)));\n",
       "    --sklearn-color-background: var(--sg-background-color, var(--theme-background, var(--jp-layout-color0, #111)));\n",
       "    --sklearn-color-border-box: var(--sg-text-color, var(--theme-code-foreground, var(--jp-content-font-color1, white)));\n",
       "    --sklearn-color-icon: #878787;\n",
       "  }\n",
       "}\n",
       "\n",
       "#sk-container-id-3 {\n",
       "  color: var(--sklearn-color-text);\n",
       "}\n",
       "\n",
       "#sk-container-id-3 pre {\n",
       "  padding: 0;\n",
       "}\n",
       "\n",
       "#sk-container-id-3 input.sk-hidden--visually {\n",
       "  border: 0;\n",
       "  clip: rect(1px 1px 1px 1px);\n",
       "  clip: rect(1px, 1px, 1px, 1px);\n",
       "  height: 1px;\n",
       "  margin: -1px;\n",
       "  overflow: hidden;\n",
       "  padding: 0;\n",
       "  position: absolute;\n",
       "  width: 1px;\n",
       "}\n",
       "\n",
       "#sk-container-id-3 div.sk-dashed-wrapped {\n",
       "  border: 1px dashed var(--sklearn-color-line);\n",
       "  margin: 0 0.4em 0.5em 0.4em;\n",
       "  box-sizing: border-box;\n",
       "  padding-bottom: 0.4em;\n",
       "  background-color: var(--sklearn-color-background);\n",
       "}\n",
       "\n",
       "#sk-container-id-3 div.sk-container {\n",
       "  /* jupyter's `normalize.less` sets `[hidden] { display: none; }`\n",
       "     but bootstrap.min.css set `[hidden] { display: none !important; }`\n",
       "     so we also need the `!important` here to be able to override the\n",
       "     default hidden behavior on the sphinx rendered scikit-learn.org.\n",
       "     See: https://github.com/scikit-learn/scikit-learn/issues/21755 */\n",
       "  display: inline-block !important;\n",
       "  position: relative;\n",
       "}\n",
       "\n",
       "#sk-container-id-3 div.sk-text-repr-fallback {\n",
       "  display: none;\n",
       "}\n",
       "\n",
       "div.sk-parallel-item,\n",
       "div.sk-serial,\n",
       "div.sk-item {\n",
       "  /* draw centered vertical line to link estimators */\n",
       "  background-image: linear-gradient(var(--sklearn-color-text-on-default-background), var(--sklearn-color-text-on-default-background));\n",
       "  background-size: 2px 100%;\n",
       "  background-repeat: no-repeat;\n",
       "  background-position: center center;\n",
       "}\n",
       "\n",
       "/* Parallel-specific style estimator block */\n",
       "\n",
       "#sk-container-id-3 div.sk-parallel-item::after {\n",
       "  content: \"\";\n",
       "  width: 100%;\n",
       "  border-bottom: 2px solid var(--sklearn-color-text-on-default-background);\n",
       "  flex-grow: 1;\n",
       "}\n",
       "\n",
       "#sk-container-id-3 div.sk-parallel {\n",
       "  display: flex;\n",
       "  align-items: stretch;\n",
       "  justify-content: center;\n",
       "  background-color: var(--sklearn-color-background);\n",
       "  position: relative;\n",
       "}\n",
       "\n",
       "#sk-container-id-3 div.sk-parallel-item {\n",
       "  display: flex;\n",
       "  flex-direction: column;\n",
       "}\n",
       "\n",
       "#sk-container-id-3 div.sk-parallel-item:first-child::after {\n",
       "  align-self: flex-end;\n",
       "  width: 50%;\n",
       "}\n",
       "\n",
       "#sk-container-id-3 div.sk-parallel-item:last-child::after {\n",
       "  align-self: flex-start;\n",
       "  width: 50%;\n",
       "}\n",
       "\n",
       "#sk-container-id-3 div.sk-parallel-item:only-child::after {\n",
       "  width: 0;\n",
       "}\n",
       "\n",
       "/* Serial-specific style estimator block */\n",
       "\n",
       "#sk-container-id-3 div.sk-serial {\n",
       "  display: flex;\n",
       "  flex-direction: column;\n",
       "  align-items: center;\n",
       "  background-color: var(--sklearn-color-background);\n",
       "  padding-right: 1em;\n",
       "  padding-left: 1em;\n",
       "}\n",
       "\n",
       "\n",
       "/* Toggleable style: style used for estimator/Pipeline/ColumnTransformer box that is\n",
       "clickable and can be expanded/collapsed.\n",
       "- Pipeline and ColumnTransformer use this feature and define the default style\n",
       "- Estimators will overwrite some part of the style using the `sk-estimator` class\n",
       "*/\n",
       "\n",
       "/* Pipeline and ColumnTransformer style (default) */\n",
       "\n",
       "#sk-container-id-3 div.sk-toggleable {\n",
       "  /* Default theme specific background. It is overwritten whether we have a\n",
       "  specific estimator or a Pipeline/ColumnTransformer */\n",
       "  background-color: var(--sklearn-color-background);\n",
       "}\n",
       "\n",
       "/* Toggleable label */\n",
       "#sk-container-id-3 label.sk-toggleable__label {\n",
       "  cursor: pointer;\n",
       "  display: flex;\n",
       "  width: 100%;\n",
       "  margin-bottom: 0;\n",
       "  padding: 0.5em;\n",
       "  box-sizing: border-box;\n",
       "  text-align: center;\n",
       "  align-items: start;\n",
       "  justify-content: space-between;\n",
       "  gap: 0.5em;\n",
       "}\n",
       "\n",
       "#sk-container-id-3 label.sk-toggleable__label .caption {\n",
       "  font-size: 0.6rem;\n",
       "  font-weight: lighter;\n",
       "  color: var(--sklearn-color-text-muted);\n",
       "}\n",
       "\n",
       "#sk-container-id-3 label.sk-toggleable__label-arrow:before {\n",
       "  /* Arrow on the left of the label */\n",
       "  content: \"▸\";\n",
       "  float: left;\n",
       "  margin-right: 0.25em;\n",
       "  color: var(--sklearn-color-icon);\n",
       "}\n",
       "\n",
       "#sk-container-id-3 label.sk-toggleable__label-arrow:hover:before {\n",
       "  color: var(--sklearn-color-text);\n",
       "}\n",
       "\n",
       "/* Toggleable content - dropdown */\n",
       "\n",
       "#sk-container-id-3 div.sk-toggleable__content {\n",
       "  max-height: 0;\n",
       "  max-width: 0;\n",
       "  overflow: hidden;\n",
       "  text-align: left;\n",
       "  /* unfitted */\n",
       "  background-color: var(--sklearn-color-unfitted-level-0);\n",
       "}\n",
       "\n",
       "#sk-container-id-3 div.sk-toggleable__content.fitted {\n",
       "  /* fitted */\n",
       "  background-color: var(--sklearn-color-fitted-level-0);\n",
       "}\n",
       "\n",
       "#sk-container-id-3 div.sk-toggleable__content pre {\n",
       "  margin: 0.2em;\n",
       "  border-radius: 0.25em;\n",
       "  color: var(--sklearn-color-text);\n",
       "  /* unfitted */\n",
       "  background-color: var(--sklearn-color-unfitted-level-0);\n",
       "}\n",
       "\n",
       "#sk-container-id-3 div.sk-toggleable__content.fitted pre {\n",
       "  /* unfitted */\n",
       "  background-color: var(--sklearn-color-fitted-level-0);\n",
       "}\n",
       "\n",
       "#sk-container-id-3 input.sk-toggleable__control:checked~div.sk-toggleable__content {\n",
       "  /* Expand drop-down */\n",
       "  max-height: 200px;\n",
       "  max-width: 100%;\n",
       "  overflow: auto;\n",
       "}\n",
       "\n",
       "#sk-container-id-3 input.sk-toggleable__control:checked~label.sk-toggleable__label-arrow:before {\n",
       "  content: \"▾\";\n",
       "}\n",
       "\n",
       "/* Pipeline/ColumnTransformer-specific style */\n",
       "\n",
       "#sk-container-id-3 div.sk-label input.sk-toggleable__control:checked~label.sk-toggleable__label {\n",
       "  color: var(--sklearn-color-text);\n",
       "  background-color: var(--sklearn-color-unfitted-level-2);\n",
       "}\n",
       "\n",
       "#sk-container-id-3 div.sk-label.fitted input.sk-toggleable__control:checked~label.sk-toggleable__label {\n",
       "  background-color: var(--sklearn-color-fitted-level-2);\n",
       "}\n",
       "\n",
       "/* Estimator-specific style */\n",
       "\n",
       "/* Colorize estimator box */\n",
       "#sk-container-id-3 div.sk-estimator input.sk-toggleable__control:checked~label.sk-toggleable__label {\n",
       "  /* unfitted */\n",
       "  background-color: var(--sklearn-color-unfitted-level-2);\n",
       "}\n",
       "\n",
       "#sk-container-id-3 div.sk-estimator.fitted input.sk-toggleable__control:checked~label.sk-toggleable__label {\n",
       "  /* fitted */\n",
       "  background-color: var(--sklearn-color-fitted-level-2);\n",
       "}\n",
       "\n",
       "#sk-container-id-3 div.sk-label label.sk-toggleable__label,\n",
       "#sk-container-id-3 div.sk-label label {\n",
       "  /* The background is the default theme color */\n",
       "  color: var(--sklearn-color-text-on-default-background);\n",
       "}\n",
       "\n",
       "/* On hover, darken the color of the background */\n",
       "#sk-container-id-3 div.sk-label:hover label.sk-toggleable__label {\n",
       "  color: var(--sklearn-color-text);\n",
       "  background-color: var(--sklearn-color-unfitted-level-2);\n",
       "}\n",
       "\n",
       "/* Label box, darken color on hover, fitted */\n",
       "#sk-container-id-3 div.sk-label.fitted:hover label.sk-toggleable__label.fitted {\n",
       "  color: var(--sklearn-color-text);\n",
       "  background-color: var(--sklearn-color-fitted-level-2);\n",
       "}\n",
       "\n",
       "/* Estimator label */\n",
       "\n",
       "#sk-container-id-3 div.sk-label label {\n",
       "  font-family: monospace;\n",
       "  font-weight: bold;\n",
       "  display: inline-block;\n",
       "  line-height: 1.2em;\n",
       "}\n",
       "\n",
       "#sk-container-id-3 div.sk-label-container {\n",
       "  text-align: center;\n",
       "}\n",
       "\n",
       "/* Estimator-specific */\n",
       "#sk-container-id-3 div.sk-estimator {\n",
       "  font-family: monospace;\n",
       "  border: 1px dotted var(--sklearn-color-border-box);\n",
       "  border-radius: 0.25em;\n",
       "  box-sizing: border-box;\n",
       "  margin-bottom: 0.5em;\n",
       "  /* unfitted */\n",
       "  background-color: var(--sklearn-color-unfitted-level-0);\n",
       "}\n",
       "\n",
       "#sk-container-id-3 div.sk-estimator.fitted {\n",
       "  /* fitted */\n",
       "  background-color: var(--sklearn-color-fitted-level-0);\n",
       "}\n",
       "\n",
       "/* on hover */\n",
       "#sk-container-id-3 div.sk-estimator:hover {\n",
       "  /* unfitted */\n",
       "  background-color: var(--sklearn-color-unfitted-level-2);\n",
       "}\n",
       "\n",
       "#sk-container-id-3 div.sk-estimator.fitted:hover {\n",
       "  /* fitted */\n",
       "  background-color: var(--sklearn-color-fitted-level-2);\n",
       "}\n",
       "\n",
       "/* Specification for estimator info (e.g. \"i\" and \"?\") */\n",
       "\n",
       "/* Common style for \"i\" and \"?\" */\n",
       "\n",
       ".sk-estimator-doc-link,\n",
       "a:link.sk-estimator-doc-link,\n",
       "a:visited.sk-estimator-doc-link {\n",
       "  float: right;\n",
       "  font-size: smaller;\n",
       "  line-height: 1em;\n",
       "  font-family: monospace;\n",
       "  background-color: var(--sklearn-color-background);\n",
       "  border-radius: 1em;\n",
       "  height: 1em;\n",
       "  width: 1em;\n",
       "  text-decoration: none !important;\n",
       "  margin-left: 0.5em;\n",
       "  text-align: center;\n",
       "  /* unfitted */\n",
       "  border: var(--sklearn-color-unfitted-level-1) 1pt solid;\n",
       "  color: var(--sklearn-color-unfitted-level-1);\n",
       "}\n",
       "\n",
       ".sk-estimator-doc-link.fitted,\n",
       "a:link.sk-estimator-doc-link.fitted,\n",
       "a:visited.sk-estimator-doc-link.fitted {\n",
       "  /* fitted */\n",
       "  border: var(--sklearn-color-fitted-level-1) 1pt solid;\n",
       "  color: var(--sklearn-color-fitted-level-1);\n",
       "}\n",
       "\n",
       "/* On hover */\n",
       "div.sk-estimator:hover .sk-estimator-doc-link:hover,\n",
       ".sk-estimator-doc-link:hover,\n",
       "div.sk-label-container:hover .sk-estimator-doc-link:hover,\n",
       ".sk-estimator-doc-link:hover {\n",
       "  /* unfitted */\n",
       "  background-color: var(--sklearn-color-unfitted-level-3);\n",
       "  color: var(--sklearn-color-background);\n",
       "  text-decoration: none;\n",
       "}\n",
       "\n",
       "div.sk-estimator.fitted:hover .sk-estimator-doc-link.fitted:hover,\n",
       ".sk-estimator-doc-link.fitted:hover,\n",
       "div.sk-label-container:hover .sk-estimator-doc-link.fitted:hover,\n",
       ".sk-estimator-doc-link.fitted:hover {\n",
       "  /* fitted */\n",
       "  background-color: var(--sklearn-color-fitted-level-3);\n",
       "  color: var(--sklearn-color-background);\n",
       "  text-decoration: none;\n",
       "}\n",
       "\n",
       "/* Span, style for the box shown on hovering the info icon */\n",
       ".sk-estimator-doc-link span {\n",
       "  display: none;\n",
       "  z-index: 9999;\n",
       "  position: relative;\n",
       "  font-weight: normal;\n",
       "  right: .2ex;\n",
       "  padding: .5ex;\n",
       "  margin: .5ex;\n",
       "  width: min-content;\n",
       "  min-width: 20ex;\n",
       "  max-width: 50ex;\n",
       "  color: var(--sklearn-color-text);\n",
       "  box-shadow: 2pt 2pt 4pt #999;\n",
       "  /* unfitted */\n",
       "  background: var(--sklearn-color-unfitted-level-0);\n",
       "  border: .5pt solid var(--sklearn-color-unfitted-level-3);\n",
       "}\n",
       "\n",
       ".sk-estimator-doc-link.fitted span {\n",
       "  /* fitted */\n",
       "  background: var(--sklearn-color-fitted-level-0);\n",
       "  border: var(--sklearn-color-fitted-level-3);\n",
       "}\n",
       "\n",
       ".sk-estimator-doc-link:hover span {\n",
       "  display: block;\n",
       "}\n",
       "\n",
       "/* \"?\"-specific style due to the `<a>` HTML tag */\n",
       "\n",
       "#sk-container-id-3 a.estimator_doc_link {\n",
       "  float: right;\n",
       "  font-size: 1rem;\n",
       "  line-height: 1em;\n",
       "  font-family: monospace;\n",
       "  background-color: var(--sklearn-color-background);\n",
       "  border-radius: 1rem;\n",
       "  height: 1rem;\n",
       "  width: 1rem;\n",
       "  text-decoration: none;\n",
       "  /* unfitted */\n",
       "  color: var(--sklearn-color-unfitted-level-1);\n",
       "  border: var(--sklearn-color-unfitted-level-1) 1pt solid;\n",
       "}\n",
       "\n",
       "#sk-container-id-3 a.estimator_doc_link.fitted {\n",
       "  /* fitted */\n",
       "  border: var(--sklearn-color-fitted-level-1) 1pt solid;\n",
       "  color: var(--sklearn-color-fitted-level-1);\n",
       "}\n",
       "\n",
       "/* On hover */\n",
       "#sk-container-id-3 a.estimator_doc_link:hover {\n",
       "  /* unfitted */\n",
       "  background-color: var(--sklearn-color-unfitted-level-3);\n",
       "  color: var(--sklearn-color-background);\n",
       "  text-decoration: none;\n",
       "}\n",
       "\n",
       "#sk-container-id-3 a.estimator_doc_link.fitted:hover {\n",
       "  /* fitted */\n",
       "  background-color: var(--sklearn-color-fitted-level-3);\n",
       "}\n",
       "</style><div id=\"sk-container-id-3\" class=\"sk-top-container\"><div class=\"sk-text-repr-fallback\"><pre>DecisionTreeClassifier(max_depth=6, min_samples_leaf=50)</pre><b>In a Jupyter environment, please rerun this cell to show the HTML representation or trust the notebook. <br />On GitHub, the HTML representation is unable to render, please try loading this page with nbviewer.org.</b></div><div class=\"sk-container\" hidden><div class=\"sk-item\"><div class=\"sk-estimator fitted sk-toggleable\"><input class=\"sk-toggleable__control sk-hidden--visually\" id=\"sk-estimator-id-3\" type=\"checkbox\" checked><label for=\"sk-estimator-id-3\" class=\"sk-toggleable__label fitted sk-toggleable__label-arrow\"><div><div>DecisionTreeClassifier</div></div><div><a class=\"sk-estimator-doc-link fitted\" rel=\"noreferrer\" target=\"_blank\" href=\"https://scikit-learn.org/1.6/modules/generated/sklearn.tree.DecisionTreeClassifier.html\">?<span>Documentation for DecisionTreeClassifier</span></a><span class=\"sk-estimator-doc-link fitted\">i<span>Fitted</span></span></div></label><div class=\"sk-toggleable__content fitted\"><pre>DecisionTreeClassifier(max_depth=6, min_samples_leaf=50)</pre></div> </div></div></div></div>"
      ],
      "text/plain": [
       "DecisionTreeClassifier(max_depth=6, min_samples_leaf=50)"
      ]
     },
     "execution_count": 37,
     "metadata": {},
     "output_type": "execute_result"
    }
   ],
   "source": [
    "dt = DecisionTreeClassifier(max_depth=6, min_samples_leaf=50)\n",
    "dt.fit(X_train, y_train)"
   ]
  },
  {
   "cell_type": "markdown",
   "id": "5b77eee8-690a-42ba-8223-df3c3cc373c6",
   "metadata": {},
   "source": [
    "Decision trees are simple and effective models, but they become even more powerful when we combine many trees together. Next, we'll see how we can do it to achieve even better predictive performance."
   ]
  },
  {
   "cell_type": "markdown",
   "id": "a1aaac8c-808b-4055-94ef-31688c2df305",
   "metadata": {},
   "source": [
    "## 6.3. Random forest"
   ]
  },
  {
   "cell_type": "markdown",
   "id": "95ce347f-3163-4edc-9c96-1bc33bfeec64",
   "metadata": {},
   "source": [
    "One model individually may be wrong, but if we combine the output of multiple models into one, the chance of an incorrect answer is smaller. This concept is calld ensemble learning, and a combination of models is called an ensemble."
   ]
  },
  {
   "cell_type": "markdown",
   "id": "f90d308d-77dc-4ef7-9873-b6910d0e7633",
   "metadata": {},
   "source": [
    "For this to work, the models need to be different. If we train the same decision tree model 10 times, they will all predict the same output, so it's not useful at all."
   ]
  },
  {
   "cell_type": "markdown",
   "id": "1a07476e-852e-46d5-80a6-266a928e38cc",
   "metadata": {},
   "source": [
    "The easiest way to have different models is to train each tree on a different subset of features. For example, suppose we have three features: assets, debts, and price. We can train three models:\n",
    "\n",
    "- The first will use assets and debts.\n",
    "- The second will use debts and price.\n",
    "- The last one will use assets and price.\n",
    "\n",
    "With this approach, we’ll have different trees, each making its own decisions. But when we put their predictions together, their mistakes average out, and combined, they have more predictive power."
   ]
  },
  {
   "cell_type": "markdown",
   "id": "43566cbb-3e77-45ad-a126-31a839474a0b",
   "metadata": {},
   "source": [
    "This way of putting together multiple decision trees into an ensemble is called a random forest. To train a random forest, we can do this:\n",
    "\n",
    "- Train N independent decision tree models.\n",
    "- For each model, select a random subset of features, and use only them for training.\n",
    "- When predicting, combine the output of N models into one.\n",
    "\n",
    "This is a very simplified version of the algorithm. It's enough to illustrate the main idea, but in reality, it's more complex."
   ]
  },
  {
   "cell_type": "markdown",
   "id": "36b73b20-7c40-49d9-b953-ebe5757699fc",
   "metadata": {},
   "source": [
    "Scikit-learn contains an implementation of a random forest, so we can use it for solving our problem. Let's do it."
   ]
  },
  {
   "cell_type": "markdown",
   "id": "46fed50e-0dc5-48b3-95c7-0a918614943a",
   "metadata": {},
   "source": [
    "### 6.3.1. Training a random forest"
   ]
  },
  {
   "cell_type": "markdown",
   "id": "6c43cd7e-ce65-4766-b576-1cb4040b9ea9",
   "metadata": {},
   "source": [
    "To use random forest in Scikit-learn, we need to import RandomForestClassifier from the ensemble package:"
   ]
  },
  {
   "cell_type": "code",
   "execution_count": 38,
   "id": "6d19f193-9fb9-491b-a295-082a3abf4b32",
   "metadata": {},
   "outputs": [],
   "source": [
    "from sklearn.ensemble import RandomForestClassifier"
   ]
  },
  {
   "cell_type": "markdown",
   "id": "a81f13d1-e788-4794-bf9b-4e2699c00222",
   "metadata": {},
   "source": [
    "When training a model, the first thing we need to specify is the number of trees we want to have in the ensemble. We do it with the n_estimators parameter:"
   ]
  },
  {
   "cell_type": "code",
   "execution_count": 39,
   "id": "ef53354a-34e0-47e1-8e29-f3d453903341",
   "metadata": {},
   "outputs": [
    {
     "data": {
      "text/html": [
       "<style>#sk-container-id-4 {\n",
       "  /* Definition of color scheme common for light and dark mode */\n",
       "  --sklearn-color-text: #000;\n",
       "  --sklearn-color-text-muted: #666;\n",
       "  --sklearn-color-line: gray;\n",
       "  /* Definition of color scheme for unfitted estimators */\n",
       "  --sklearn-color-unfitted-level-0: #fff5e6;\n",
       "  --sklearn-color-unfitted-level-1: #f6e4d2;\n",
       "  --sklearn-color-unfitted-level-2: #ffe0b3;\n",
       "  --sklearn-color-unfitted-level-3: chocolate;\n",
       "  /* Definition of color scheme for fitted estimators */\n",
       "  --sklearn-color-fitted-level-0: #f0f8ff;\n",
       "  --sklearn-color-fitted-level-1: #d4ebff;\n",
       "  --sklearn-color-fitted-level-2: #b3dbfd;\n",
       "  --sklearn-color-fitted-level-3: cornflowerblue;\n",
       "\n",
       "  /* Specific color for light theme */\n",
       "  --sklearn-color-text-on-default-background: var(--sg-text-color, var(--theme-code-foreground, var(--jp-content-font-color1, black)));\n",
       "  --sklearn-color-background: var(--sg-background-color, var(--theme-background, var(--jp-layout-color0, white)));\n",
       "  --sklearn-color-border-box: var(--sg-text-color, var(--theme-code-foreground, var(--jp-content-font-color1, black)));\n",
       "  --sklearn-color-icon: #696969;\n",
       "\n",
       "  @media (prefers-color-scheme: dark) {\n",
       "    /* Redefinition of color scheme for dark theme */\n",
       "    --sklearn-color-text-on-default-background: var(--sg-text-color, var(--theme-code-foreground, var(--jp-content-font-color1, white)));\n",
       "    --sklearn-color-background: var(--sg-background-color, var(--theme-background, var(--jp-layout-color0, #111)));\n",
       "    --sklearn-color-border-box: var(--sg-text-color, var(--theme-code-foreground, var(--jp-content-font-color1, white)));\n",
       "    --sklearn-color-icon: #878787;\n",
       "  }\n",
       "}\n",
       "\n",
       "#sk-container-id-4 {\n",
       "  color: var(--sklearn-color-text);\n",
       "}\n",
       "\n",
       "#sk-container-id-4 pre {\n",
       "  padding: 0;\n",
       "}\n",
       "\n",
       "#sk-container-id-4 input.sk-hidden--visually {\n",
       "  border: 0;\n",
       "  clip: rect(1px 1px 1px 1px);\n",
       "  clip: rect(1px, 1px, 1px, 1px);\n",
       "  height: 1px;\n",
       "  margin: -1px;\n",
       "  overflow: hidden;\n",
       "  padding: 0;\n",
       "  position: absolute;\n",
       "  width: 1px;\n",
       "}\n",
       "\n",
       "#sk-container-id-4 div.sk-dashed-wrapped {\n",
       "  border: 1px dashed var(--sklearn-color-line);\n",
       "  margin: 0 0.4em 0.5em 0.4em;\n",
       "  box-sizing: border-box;\n",
       "  padding-bottom: 0.4em;\n",
       "  background-color: var(--sklearn-color-background);\n",
       "}\n",
       "\n",
       "#sk-container-id-4 div.sk-container {\n",
       "  /* jupyter's `normalize.less` sets `[hidden] { display: none; }`\n",
       "     but bootstrap.min.css set `[hidden] { display: none !important; }`\n",
       "     so we also need the `!important` here to be able to override the\n",
       "     default hidden behavior on the sphinx rendered scikit-learn.org.\n",
       "     See: https://github.com/scikit-learn/scikit-learn/issues/21755 */\n",
       "  display: inline-block !important;\n",
       "  position: relative;\n",
       "}\n",
       "\n",
       "#sk-container-id-4 div.sk-text-repr-fallback {\n",
       "  display: none;\n",
       "}\n",
       "\n",
       "div.sk-parallel-item,\n",
       "div.sk-serial,\n",
       "div.sk-item {\n",
       "  /* draw centered vertical line to link estimators */\n",
       "  background-image: linear-gradient(var(--sklearn-color-text-on-default-background), var(--sklearn-color-text-on-default-background));\n",
       "  background-size: 2px 100%;\n",
       "  background-repeat: no-repeat;\n",
       "  background-position: center center;\n",
       "}\n",
       "\n",
       "/* Parallel-specific style estimator block */\n",
       "\n",
       "#sk-container-id-4 div.sk-parallel-item::after {\n",
       "  content: \"\";\n",
       "  width: 100%;\n",
       "  border-bottom: 2px solid var(--sklearn-color-text-on-default-background);\n",
       "  flex-grow: 1;\n",
       "}\n",
       "\n",
       "#sk-container-id-4 div.sk-parallel {\n",
       "  display: flex;\n",
       "  align-items: stretch;\n",
       "  justify-content: center;\n",
       "  background-color: var(--sklearn-color-background);\n",
       "  position: relative;\n",
       "}\n",
       "\n",
       "#sk-container-id-4 div.sk-parallel-item {\n",
       "  display: flex;\n",
       "  flex-direction: column;\n",
       "}\n",
       "\n",
       "#sk-container-id-4 div.sk-parallel-item:first-child::after {\n",
       "  align-self: flex-end;\n",
       "  width: 50%;\n",
       "}\n",
       "\n",
       "#sk-container-id-4 div.sk-parallel-item:last-child::after {\n",
       "  align-self: flex-start;\n",
       "  width: 50%;\n",
       "}\n",
       "\n",
       "#sk-container-id-4 div.sk-parallel-item:only-child::after {\n",
       "  width: 0;\n",
       "}\n",
       "\n",
       "/* Serial-specific style estimator block */\n",
       "\n",
       "#sk-container-id-4 div.sk-serial {\n",
       "  display: flex;\n",
       "  flex-direction: column;\n",
       "  align-items: center;\n",
       "  background-color: var(--sklearn-color-background);\n",
       "  padding-right: 1em;\n",
       "  padding-left: 1em;\n",
       "}\n",
       "\n",
       "\n",
       "/* Toggleable style: style used for estimator/Pipeline/ColumnTransformer box that is\n",
       "clickable and can be expanded/collapsed.\n",
       "- Pipeline and ColumnTransformer use this feature and define the default style\n",
       "- Estimators will overwrite some part of the style using the `sk-estimator` class\n",
       "*/\n",
       "\n",
       "/* Pipeline and ColumnTransformer style (default) */\n",
       "\n",
       "#sk-container-id-4 div.sk-toggleable {\n",
       "  /* Default theme specific background. It is overwritten whether we have a\n",
       "  specific estimator or a Pipeline/ColumnTransformer */\n",
       "  background-color: var(--sklearn-color-background);\n",
       "}\n",
       "\n",
       "/* Toggleable label */\n",
       "#sk-container-id-4 label.sk-toggleable__label {\n",
       "  cursor: pointer;\n",
       "  display: flex;\n",
       "  width: 100%;\n",
       "  margin-bottom: 0;\n",
       "  padding: 0.5em;\n",
       "  box-sizing: border-box;\n",
       "  text-align: center;\n",
       "  align-items: start;\n",
       "  justify-content: space-between;\n",
       "  gap: 0.5em;\n",
       "}\n",
       "\n",
       "#sk-container-id-4 label.sk-toggleable__label .caption {\n",
       "  font-size: 0.6rem;\n",
       "  font-weight: lighter;\n",
       "  color: var(--sklearn-color-text-muted);\n",
       "}\n",
       "\n",
       "#sk-container-id-4 label.sk-toggleable__label-arrow:before {\n",
       "  /* Arrow on the left of the label */\n",
       "  content: \"▸\";\n",
       "  float: left;\n",
       "  margin-right: 0.25em;\n",
       "  color: var(--sklearn-color-icon);\n",
       "}\n",
       "\n",
       "#sk-container-id-4 label.sk-toggleable__label-arrow:hover:before {\n",
       "  color: var(--sklearn-color-text);\n",
       "}\n",
       "\n",
       "/* Toggleable content - dropdown */\n",
       "\n",
       "#sk-container-id-4 div.sk-toggleable__content {\n",
       "  max-height: 0;\n",
       "  max-width: 0;\n",
       "  overflow: hidden;\n",
       "  text-align: left;\n",
       "  /* unfitted */\n",
       "  background-color: var(--sklearn-color-unfitted-level-0);\n",
       "}\n",
       "\n",
       "#sk-container-id-4 div.sk-toggleable__content.fitted {\n",
       "  /* fitted */\n",
       "  background-color: var(--sklearn-color-fitted-level-0);\n",
       "}\n",
       "\n",
       "#sk-container-id-4 div.sk-toggleable__content pre {\n",
       "  margin: 0.2em;\n",
       "  border-radius: 0.25em;\n",
       "  color: var(--sklearn-color-text);\n",
       "  /* unfitted */\n",
       "  background-color: var(--sklearn-color-unfitted-level-0);\n",
       "}\n",
       "\n",
       "#sk-container-id-4 div.sk-toggleable__content.fitted pre {\n",
       "  /* unfitted */\n",
       "  background-color: var(--sklearn-color-fitted-level-0);\n",
       "}\n",
       "\n",
       "#sk-container-id-4 input.sk-toggleable__control:checked~div.sk-toggleable__content {\n",
       "  /* Expand drop-down */\n",
       "  max-height: 200px;\n",
       "  max-width: 100%;\n",
       "  overflow: auto;\n",
       "}\n",
       "\n",
       "#sk-container-id-4 input.sk-toggleable__control:checked~label.sk-toggleable__label-arrow:before {\n",
       "  content: \"▾\";\n",
       "}\n",
       "\n",
       "/* Pipeline/ColumnTransformer-specific style */\n",
       "\n",
       "#sk-container-id-4 div.sk-label input.sk-toggleable__control:checked~label.sk-toggleable__label {\n",
       "  color: var(--sklearn-color-text);\n",
       "  background-color: var(--sklearn-color-unfitted-level-2);\n",
       "}\n",
       "\n",
       "#sk-container-id-4 div.sk-label.fitted input.sk-toggleable__control:checked~label.sk-toggleable__label {\n",
       "  background-color: var(--sklearn-color-fitted-level-2);\n",
       "}\n",
       "\n",
       "/* Estimator-specific style */\n",
       "\n",
       "/* Colorize estimator box */\n",
       "#sk-container-id-4 div.sk-estimator input.sk-toggleable__control:checked~label.sk-toggleable__label {\n",
       "  /* unfitted */\n",
       "  background-color: var(--sklearn-color-unfitted-level-2);\n",
       "}\n",
       "\n",
       "#sk-container-id-4 div.sk-estimator.fitted input.sk-toggleable__control:checked~label.sk-toggleable__label {\n",
       "  /* fitted */\n",
       "  background-color: var(--sklearn-color-fitted-level-2);\n",
       "}\n",
       "\n",
       "#sk-container-id-4 div.sk-label label.sk-toggleable__label,\n",
       "#sk-container-id-4 div.sk-label label {\n",
       "  /* The background is the default theme color */\n",
       "  color: var(--sklearn-color-text-on-default-background);\n",
       "}\n",
       "\n",
       "/* On hover, darken the color of the background */\n",
       "#sk-container-id-4 div.sk-label:hover label.sk-toggleable__label {\n",
       "  color: var(--sklearn-color-text);\n",
       "  background-color: var(--sklearn-color-unfitted-level-2);\n",
       "}\n",
       "\n",
       "/* Label box, darken color on hover, fitted */\n",
       "#sk-container-id-4 div.sk-label.fitted:hover label.sk-toggleable__label.fitted {\n",
       "  color: var(--sklearn-color-text);\n",
       "  background-color: var(--sklearn-color-fitted-level-2);\n",
       "}\n",
       "\n",
       "/* Estimator label */\n",
       "\n",
       "#sk-container-id-4 div.sk-label label {\n",
       "  font-family: monospace;\n",
       "  font-weight: bold;\n",
       "  display: inline-block;\n",
       "  line-height: 1.2em;\n",
       "}\n",
       "\n",
       "#sk-container-id-4 div.sk-label-container {\n",
       "  text-align: center;\n",
       "}\n",
       "\n",
       "/* Estimator-specific */\n",
       "#sk-container-id-4 div.sk-estimator {\n",
       "  font-family: monospace;\n",
       "  border: 1px dotted var(--sklearn-color-border-box);\n",
       "  border-radius: 0.25em;\n",
       "  box-sizing: border-box;\n",
       "  margin-bottom: 0.5em;\n",
       "  /* unfitted */\n",
       "  background-color: var(--sklearn-color-unfitted-level-0);\n",
       "}\n",
       "\n",
       "#sk-container-id-4 div.sk-estimator.fitted {\n",
       "  /* fitted */\n",
       "  background-color: var(--sklearn-color-fitted-level-0);\n",
       "}\n",
       "\n",
       "/* on hover */\n",
       "#sk-container-id-4 div.sk-estimator:hover {\n",
       "  /* unfitted */\n",
       "  background-color: var(--sklearn-color-unfitted-level-2);\n",
       "}\n",
       "\n",
       "#sk-container-id-4 div.sk-estimator.fitted:hover {\n",
       "  /* fitted */\n",
       "  background-color: var(--sklearn-color-fitted-level-2);\n",
       "}\n",
       "\n",
       "/* Specification for estimator info (e.g. \"i\" and \"?\") */\n",
       "\n",
       "/* Common style for \"i\" and \"?\" */\n",
       "\n",
       ".sk-estimator-doc-link,\n",
       "a:link.sk-estimator-doc-link,\n",
       "a:visited.sk-estimator-doc-link {\n",
       "  float: right;\n",
       "  font-size: smaller;\n",
       "  line-height: 1em;\n",
       "  font-family: monospace;\n",
       "  background-color: var(--sklearn-color-background);\n",
       "  border-radius: 1em;\n",
       "  height: 1em;\n",
       "  width: 1em;\n",
       "  text-decoration: none !important;\n",
       "  margin-left: 0.5em;\n",
       "  text-align: center;\n",
       "  /* unfitted */\n",
       "  border: var(--sklearn-color-unfitted-level-1) 1pt solid;\n",
       "  color: var(--sklearn-color-unfitted-level-1);\n",
       "}\n",
       "\n",
       ".sk-estimator-doc-link.fitted,\n",
       "a:link.sk-estimator-doc-link.fitted,\n",
       "a:visited.sk-estimator-doc-link.fitted {\n",
       "  /* fitted */\n",
       "  border: var(--sklearn-color-fitted-level-1) 1pt solid;\n",
       "  color: var(--sklearn-color-fitted-level-1);\n",
       "}\n",
       "\n",
       "/* On hover */\n",
       "div.sk-estimator:hover .sk-estimator-doc-link:hover,\n",
       ".sk-estimator-doc-link:hover,\n",
       "div.sk-label-container:hover .sk-estimator-doc-link:hover,\n",
       ".sk-estimator-doc-link:hover {\n",
       "  /* unfitted */\n",
       "  background-color: var(--sklearn-color-unfitted-level-3);\n",
       "  color: var(--sklearn-color-background);\n",
       "  text-decoration: none;\n",
       "}\n",
       "\n",
       "div.sk-estimator.fitted:hover .sk-estimator-doc-link.fitted:hover,\n",
       ".sk-estimator-doc-link.fitted:hover,\n",
       "div.sk-label-container:hover .sk-estimator-doc-link.fitted:hover,\n",
       ".sk-estimator-doc-link.fitted:hover {\n",
       "  /* fitted */\n",
       "  background-color: var(--sklearn-color-fitted-level-3);\n",
       "  color: var(--sklearn-color-background);\n",
       "  text-decoration: none;\n",
       "}\n",
       "\n",
       "/* Span, style for the box shown on hovering the info icon */\n",
       ".sk-estimator-doc-link span {\n",
       "  display: none;\n",
       "  z-index: 9999;\n",
       "  position: relative;\n",
       "  font-weight: normal;\n",
       "  right: .2ex;\n",
       "  padding: .5ex;\n",
       "  margin: .5ex;\n",
       "  width: min-content;\n",
       "  min-width: 20ex;\n",
       "  max-width: 50ex;\n",
       "  color: var(--sklearn-color-text);\n",
       "  box-shadow: 2pt 2pt 4pt #999;\n",
       "  /* unfitted */\n",
       "  background: var(--sklearn-color-unfitted-level-0);\n",
       "  border: .5pt solid var(--sklearn-color-unfitted-level-3);\n",
       "}\n",
       "\n",
       ".sk-estimator-doc-link.fitted span {\n",
       "  /* fitted */\n",
       "  background: var(--sklearn-color-fitted-level-0);\n",
       "  border: var(--sklearn-color-fitted-level-3);\n",
       "}\n",
       "\n",
       ".sk-estimator-doc-link:hover span {\n",
       "  display: block;\n",
       "}\n",
       "\n",
       "/* \"?\"-specific style due to the `<a>` HTML tag */\n",
       "\n",
       "#sk-container-id-4 a.estimator_doc_link {\n",
       "  float: right;\n",
       "  font-size: 1rem;\n",
       "  line-height: 1em;\n",
       "  font-family: monospace;\n",
       "  background-color: var(--sklearn-color-background);\n",
       "  border-radius: 1rem;\n",
       "  height: 1rem;\n",
       "  width: 1rem;\n",
       "  text-decoration: none;\n",
       "  /* unfitted */\n",
       "  color: var(--sklearn-color-unfitted-level-1);\n",
       "  border: var(--sklearn-color-unfitted-level-1) 1pt solid;\n",
       "}\n",
       "\n",
       "#sk-container-id-4 a.estimator_doc_link.fitted {\n",
       "  /* fitted */\n",
       "  border: var(--sklearn-color-fitted-level-1) 1pt solid;\n",
       "  color: var(--sklearn-color-fitted-level-1);\n",
       "}\n",
       "\n",
       "/* On hover */\n",
       "#sk-container-id-4 a.estimator_doc_link:hover {\n",
       "  /* unfitted */\n",
       "  background-color: var(--sklearn-color-unfitted-level-3);\n",
       "  color: var(--sklearn-color-background);\n",
       "  text-decoration: none;\n",
       "}\n",
       "\n",
       "#sk-container-id-4 a.estimator_doc_link.fitted:hover {\n",
       "  /* fitted */\n",
       "  background-color: var(--sklearn-color-fitted-level-3);\n",
       "}\n",
       "</style><div id=\"sk-container-id-4\" class=\"sk-top-container\"><div class=\"sk-text-repr-fallback\"><pre>RandomForestClassifier(n_estimators=10)</pre><b>In a Jupyter environment, please rerun this cell to show the HTML representation or trust the notebook. <br />On GitHub, the HTML representation is unable to render, please try loading this page with nbviewer.org.</b></div><div class=\"sk-container\" hidden><div class=\"sk-item\"><div class=\"sk-estimator fitted sk-toggleable\"><input class=\"sk-toggleable__control sk-hidden--visually\" id=\"sk-estimator-id-4\" type=\"checkbox\" checked><label for=\"sk-estimator-id-4\" class=\"sk-toggleable__label fitted sk-toggleable__label-arrow\"><div><div>RandomForestClassifier</div></div><div><a class=\"sk-estimator-doc-link fitted\" rel=\"noreferrer\" target=\"_blank\" href=\"https://scikit-learn.org/1.6/modules/generated/sklearn.ensemble.RandomForestClassifier.html\">?<span>Documentation for RandomForestClassifier</span></a><span class=\"sk-estimator-doc-link fitted\">i<span>Fitted</span></span></div></label><div class=\"sk-toggleable__content fitted\"><pre>RandomForestClassifier(n_estimators=10)</pre></div> </div></div></div></div>"
      ],
      "text/plain": [
       "RandomForestClassifier(n_estimators=10)"
      ]
     },
     "execution_count": 39,
     "metadata": {},
     "output_type": "execute_result"
    }
   ],
   "source": [
    "rf = RandomForestClassifier(n_estimators=10)\n",
    "rf.fit(X_train, y_train)"
   ]
  },
  {
   "cell_type": "markdown",
   "id": "5396cbda-1c03-43bf-8ef8-6601029d83e6",
   "metadata": {},
   "source": [
    "After training finishes, we can evaluate the performance of the result:"
   ]
  },
  {
   "cell_type": "code",
   "execution_count": 40,
   "id": "28c8df2b-def6-423f-9bbf-4de434b13c82",
   "metadata": {},
   "outputs": [
    {
     "data": {
      "text/plain": [
       "np.float64(0.78885229226708)"
      ]
     },
     "execution_count": 40,
     "metadata": {},
     "output_type": "execute_result"
    }
   ],
   "source": [
    "y_pred = rf.predict_proba(X_val)[:, 1]\n",
    "roc_auc_score(y_val, y_pred)"
   ]
  },
  {
   "cell_type": "markdown",
   "id": "f41f49fb-83f0-4946-b815-6b2c59cffef5",
   "metadata": {},
   "source": [
    "It shows 79.5%. However, the number you see may be different. Every time we retrain the model, the score changes: it varies from 77% to 80%."
   ]
  },
  {
   "cell_type": "markdown",
   "id": "36b833f0-da23-4e34-ace4-acb984184f3d",
   "metadata": {},
   "source": [
    "The reason for this is randomization: to train a tree, we randomly select a subset of features. To make the results consistent, we need to fix the seed for the random-number generator by assigning some value to the random_state parameter:"
   ]
  },
  {
   "cell_type": "code",
   "execution_count": 41,
   "id": "4a07167b-a941-49e0-b98f-7bd1fd5a794e",
   "metadata": {},
   "outputs": [
    {
     "data": {
      "text/html": [
       "<style>#sk-container-id-5 {\n",
       "  /* Definition of color scheme common for light and dark mode */\n",
       "  --sklearn-color-text: #000;\n",
       "  --sklearn-color-text-muted: #666;\n",
       "  --sklearn-color-line: gray;\n",
       "  /* Definition of color scheme for unfitted estimators */\n",
       "  --sklearn-color-unfitted-level-0: #fff5e6;\n",
       "  --sklearn-color-unfitted-level-1: #f6e4d2;\n",
       "  --sklearn-color-unfitted-level-2: #ffe0b3;\n",
       "  --sklearn-color-unfitted-level-3: chocolate;\n",
       "  /* Definition of color scheme for fitted estimators */\n",
       "  --sklearn-color-fitted-level-0: #f0f8ff;\n",
       "  --sklearn-color-fitted-level-1: #d4ebff;\n",
       "  --sklearn-color-fitted-level-2: #b3dbfd;\n",
       "  --sklearn-color-fitted-level-3: cornflowerblue;\n",
       "\n",
       "  /* Specific color for light theme */\n",
       "  --sklearn-color-text-on-default-background: var(--sg-text-color, var(--theme-code-foreground, var(--jp-content-font-color1, black)));\n",
       "  --sklearn-color-background: var(--sg-background-color, var(--theme-background, var(--jp-layout-color0, white)));\n",
       "  --sklearn-color-border-box: var(--sg-text-color, var(--theme-code-foreground, var(--jp-content-font-color1, black)));\n",
       "  --sklearn-color-icon: #696969;\n",
       "\n",
       "  @media (prefers-color-scheme: dark) {\n",
       "    /* Redefinition of color scheme for dark theme */\n",
       "    --sklearn-color-text-on-default-background: var(--sg-text-color, var(--theme-code-foreground, var(--jp-content-font-color1, white)));\n",
       "    --sklearn-color-background: var(--sg-background-color, var(--theme-background, var(--jp-layout-color0, #111)));\n",
       "    --sklearn-color-border-box: var(--sg-text-color, var(--theme-code-foreground, var(--jp-content-font-color1, white)));\n",
       "    --sklearn-color-icon: #878787;\n",
       "  }\n",
       "}\n",
       "\n",
       "#sk-container-id-5 {\n",
       "  color: var(--sklearn-color-text);\n",
       "}\n",
       "\n",
       "#sk-container-id-5 pre {\n",
       "  padding: 0;\n",
       "}\n",
       "\n",
       "#sk-container-id-5 input.sk-hidden--visually {\n",
       "  border: 0;\n",
       "  clip: rect(1px 1px 1px 1px);\n",
       "  clip: rect(1px, 1px, 1px, 1px);\n",
       "  height: 1px;\n",
       "  margin: -1px;\n",
       "  overflow: hidden;\n",
       "  padding: 0;\n",
       "  position: absolute;\n",
       "  width: 1px;\n",
       "}\n",
       "\n",
       "#sk-container-id-5 div.sk-dashed-wrapped {\n",
       "  border: 1px dashed var(--sklearn-color-line);\n",
       "  margin: 0 0.4em 0.5em 0.4em;\n",
       "  box-sizing: border-box;\n",
       "  padding-bottom: 0.4em;\n",
       "  background-color: var(--sklearn-color-background);\n",
       "}\n",
       "\n",
       "#sk-container-id-5 div.sk-container {\n",
       "  /* jupyter's `normalize.less` sets `[hidden] { display: none; }`\n",
       "     but bootstrap.min.css set `[hidden] { display: none !important; }`\n",
       "     so we also need the `!important` here to be able to override the\n",
       "     default hidden behavior on the sphinx rendered scikit-learn.org.\n",
       "     See: https://github.com/scikit-learn/scikit-learn/issues/21755 */\n",
       "  display: inline-block !important;\n",
       "  position: relative;\n",
       "}\n",
       "\n",
       "#sk-container-id-5 div.sk-text-repr-fallback {\n",
       "  display: none;\n",
       "}\n",
       "\n",
       "div.sk-parallel-item,\n",
       "div.sk-serial,\n",
       "div.sk-item {\n",
       "  /* draw centered vertical line to link estimators */\n",
       "  background-image: linear-gradient(var(--sklearn-color-text-on-default-background), var(--sklearn-color-text-on-default-background));\n",
       "  background-size: 2px 100%;\n",
       "  background-repeat: no-repeat;\n",
       "  background-position: center center;\n",
       "}\n",
       "\n",
       "/* Parallel-specific style estimator block */\n",
       "\n",
       "#sk-container-id-5 div.sk-parallel-item::after {\n",
       "  content: \"\";\n",
       "  width: 100%;\n",
       "  border-bottom: 2px solid var(--sklearn-color-text-on-default-background);\n",
       "  flex-grow: 1;\n",
       "}\n",
       "\n",
       "#sk-container-id-5 div.sk-parallel {\n",
       "  display: flex;\n",
       "  align-items: stretch;\n",
       "  justify-content: center;\n",
       "  background-color: var(--sklearn-color-background);\n",
       "  position: relative;\n",
       "}\n",
       "\n",
       "#sk-container-id-5 div.sk-parallel-item {\n",
       "  display: flex;\n",
       "  flex-direction: column;\n",
       "}\n",
       "\n",
       "#sk-container-id-5 div.sk-parallel-item:first-child::after {\n",
       "  align-self: flex-end;\n",
       "  width: 50%;\n",
       "}\n",
       "\n",
       "#sk-container-id-5 div.sk-parallel-item:last-child::after {\n",
       "  align-self: flex-start;\n",
       "  width: 50%;\n",
       "}\n",
       "\n",
       "#sk-container-id-5 div.sk-parallel-item:only-child::after {\n",
       "  width: 0;\n",
       "}\n",
       "\n",
       "/* Serial-specific style estimator block */\n",
       "\n",
       "#sk-container-id-5 div.sk-serial {\n",
       "  display: flex;\n",
       "  flex-direction: column;\n",
       "  align-items: center;\n",
       "  background-color: var(--sklearn-color-background);\n",
       "  padding-right: 1em;\n",
       "  padding-left: 1em;\n",
       "}\n",
       "\n",
       "\n",
       "/* Toggleable style: style used for estimator/Pipeline/ColumnTransformer box that is\n",
       "clickable and can be expanded/collapsed.\n",
       "- Pipeline and ColumnTransformer use this feature and define the default style\n",
       "- Estimators will overwrite some part of the style using the `sk-estimator` class\n",
       "*/\n",
       "\n",
       "/* Pipeline and ColumnTransformer style (default) */\n",
       "\n",
       "#sk-container-id-5 div.sk-toggleable {\n",
       "  /* Default theme specific background. It is overwritten whether we have a\n",
       "  specific estimator or a Pipeline/ColumnTransformer */\n",
       "  background-color: var(--sklearn-color-background);\n",
       "}\n",
       "\n",
       "/* Toggleable label */\n",
       "#sk-container-id-5 label.sk-toggleable__label {\n",
       "  cursor: pointer;\n",
       "  display: flex;\n",
       "  width: 100%;\n",
       "  margin-bottom: 0;\n",
       "  padding: 0.5em;\n",
       "  box-sizing: border-box;\n",
       "  text-align: center;\n",
       "  align-items: start;\n",
       "  justify-content: space-between;\n",
       "  gap: 0.5em;\n",
       "}\n",
       "\n",
       "#sk-container-id-5 label.sk-toggleable__label .caption {\n",
       "  font-size: 0.6rem;\n",
       "  font-weight: lighter;\n",
       "  color: var(--sklearn-color-text-muted);\n",
       "}\n",
       "\n",
       "#sk-container-id-5 label.sk-toggleable__label-arrow:before {\n",
       "  /* Arrow on the left of the label */\n",
       "  content: \"▸\";\n",
       "  float: left;\n",
       "  margin-right: 0.25em;\n",
       "  color: var(--sklearn-color-icon);\n",
       "}\n",
       "\n",
       "#sk-container-id-5 label.sk-toggleable__label-arrow:hover:before {\n",
       "  color: var(--sklearn-color-text);\n",
       "}\n",
       "\n",
       "/* Toggleable content - dropdown */\n",
       "\n",
       "#sk-container-id-5 div.sk-toggleable__content {\n",
       "  max-height: 0;\n",
       "  max-width: 0;\n",
       "  overflow: hidden;\n",
       "  text-align: left;\n",
       "  /* unfitted */\n",
       "  background-color: var(--sklearn-color-unfitted-level-0);\n",
       "}\n",
       "\n",
       "#sk-container-id-5 div.sk-toggleable__content.fitted {\n",
       "  /* fitted */\n",
       "  background-color: var(--sklearn-color-fitted-level-0);\n",
       "}\n",
       "\n",
       "#sk-container-id-5 div.sk-toggleable__content pre {\n",
       "  margin: 0.2em;\n",
       "  border-radius: 0.25em;\n",
       "  color: var(--sklearn-color-text);\n",
       "  /* unfitted */\n",
       "  background-color: var(--sklearn-color-unfitted-level-0);\n",
       "}\n",
       "\n",
       "#sk-container-id-5 div.sk-toggleable__content.fitted pre {\n",
       "  /* unfitted */\n",
       "  background-color: var(--sklearn-color-fitted-level-0);\n",
       "}\n",
       "\n",
       "#sk-container-id-5 input.sk-toggleable__control:checked~div.sk-toggleable__content {\n",
       "  /* Expand drop-down */\n",
       "  max-height: 200px;\n",
       "  max-width: 100%;\n",
       "  overflow: auto;\n",
       "}\n",
       "\n",
       "#sk-container-id-5 input.sk-toggleable__control:checked~label.sk-toggleable__label-arrow:before {\n",
       "  content: \"▾\";\n",
       "}\n",
       "\n",
       "/* Pipeline/ColumnTransformer-specific style */\n",
       "\n",
       "#sk-container-id-5 div.sk-label input.sk-toggleable__control:checked~label.sk-toggleable__label {\n",
       "  color: var(--sklearn-color-text);\n",
       "  background-color: var(--sklearn-color-unfitted-level-2);\n",
       "}\n",
       "\n",
       "#sk-container-id-5 div.sk-label.fitted input.sk-toggleable__control:checked~label.sk-toggleable__label {\n",
       "  background-color: var(--sklearn-color-fitted-level-2);\n",
       "}\n",
       "\n",
       "/* Estimator-specific style */\n",
       "\n",
       "/* Colorize estimator box */\n",
       "#sk-container-id-5 div.sk-estimator input.sk-toggleable__control:checked~label.sk-toggleable__label {\n",
       "  /* unfitted */\n",
       "  background-color: var(--sklearn-color-unfitted-level-2);\n",
       "}\n",
       "\n",
       "#sk-container-id-5 div.sk-estimator.fitted input.sk-toggleable__control:checked~label.sk-toggleable__label {\n",
       "  /* fitted */\n",
       "  background-color: var(--sklearn-color-fitted-level-2);\n",
       "}\n",
       "\n",
       "#sk-container-id-5 div.sk-label label.sk-toggleable__label,\n",
       "#sk-container-id-5 div.sk-label label {\n",
       "  /* The background is the default theme color */\n",
       "  color: var(--sklearn-color-text-on-default-background);\n",
       "}\n",
       "\n",
       "/* On hover, darken the color of the background */\n",
       "#sk-container-id-5 div.sk-label:hover label.sk-toggleable__label {\n",
       "  color: var(--sklearn-color-text);\n",
       "  background-color: var(--sklearn-color-unfitted-level-2);\n",
       "}\n",
       "\n",
       "/* Label box, darken color on hover, fitted */\n",
       "#sk-container-id-5 div.sk-label.fitted:hover label.sk-toggleable__label.fitted {\n",
       "  color: var(--sklearn-color-text);\n",
       "  background-color: var(--sklearn-color-fitted-level-2);\n",
       "}\n",
       "\n",
       "/* Estimator label */\n",
       "\n",
       "#sk-container-id-5 div.sk-label label {\n",
       "  font-family: monospace;\n",
       "  font-weight: bold;\n",
       "  display: inline-block;\n",
       "  line-height: 1.2em;\n",
       "}\n",
       "\n",
       "#sk-container-id-5 div.sk-label-container {\n",
       "  text-align: center;\n",
       "}\n",
       "\n",
       "/* Estimator-specific */\n",
       "#sk-container-id-5 div.sk-estimator {\n",
       "  font-family: monospace;\n",
       "  border: 1px dotted var(--sklearn-color-border-box);\n",
       "  border-radius: 0.25em;\n",
       "  box-sizing: border-box;\n",
       "  margin-bottom: 0.5em;\n",
       "  /* unfitted */\n",
       "  background-color: var(--sklearn-color-unfitted-level-0);\n",
       "}\n",
       "\n",
       "#sk-container-id-5 div.sk-estimator.fitted {\n",
       "  /* fitted */\n",
       "  background-color: var(--sklearn-color-fitted-level-0);\n",
       "}\n",
       "\n",
       "/* on hover */\n",
       "#sk-container-id-5 div.sk-estimator:hover {\n",
       "  /* unfitted */\n",
       "  background-color: var(--sklearn-color-unfitted-level-2);\n",
       "}\n",
       "\n",
       "#sk-container-id-5 div.sk-estimator.fitted:hover {\n",
       "  /* fitted */\n",
       "  background-color: var(--sklearn-color-fitted-level-2);\n",
       "}\n",
       "\n",
       "/* Specification for estimator info (e.g. \"i\" and \"?\") */\n",
       "\n",
       "/* Common style for \"i\" and \"?\" */\n",
       "\n",
       ".sk-estimator-doc-link,\n",
       "a:link.sk-estimator-doc-link,\n",
       "a:visited.sk-estimator-doc-link {\n",
       "  float: right;\n",
       "  font-size: smaller;\n",
       "  line-height: 1em;\n",
       "  font-family: monospace;\n",
       "  background-color: var(--sklearn-color-background);\n",
       "  border-radius: 1em;\n",
       "  height: 1em;\n",
       "  width: 1em;\n",
       "  text-decoration: none !important;\n",
       "  margin-left: 0.5em;\n",
       "  text-align: center;\n",
       "  /* unfitted */\n",
       "  border: var(--sklearn-color-unfitted-level-1) 1pt solid;\n",
       "  color: var(--sklearn-color-unfitted-level-1);\n",
       "}\n",
       "\n",
       ".sk-estimator-doc-link.fitted,\n",
       "a:link.sk-estimator-doc-link.fitted,\n",
       "a:visited.sk-estimator-doc-link.fitted {\n",
       "  /* fitted */\n",
       "  border: var(--sklearn-color-fitted-level-1) 1pt solid;\n",
       "  color: var(--sklearn-color-fitted-level-1);\n",
       "}\n",
       "\n",
       "/* On hover */\n",
       "div.sk-estimator:hover .sk-estimator-doc-link:hover,\n",
       ".sk-estimator-doc-link:hover,\n",
       "div.sk-label-container:hover .sk-estimator-doc-link:hover,\n",
       ".sk-estimator-doc-link:hover {\n",
       "  /* unfitted */\n",
       "  background-color: var(--sklearn-color-unfitted-level-3);\n",
       "  color: var(--sklearn-color-background);\n",
       "  text-decoration: none;\n",
       "}\n",
       "\n",
       "div.sk-estimator.fitted:hover .sk-estimator-doc-link.fitted:hover,\n",
       ".sk-estimator-doc-link.fitted:hover,\n",
       "div.sk-label-container:hover .sk-estimator-doc-link.fitted:hover,\n",
       ".sk-estimator-doc-link.fitted:hover {\n",
       "  /* fitted */\n",
       "  background-color: var(--sklearn-color-fitted-level-3);\n",
       "  color: var(--sklearn-color-background);\n",
       "  text-decoration: none;\n",
       "}\n",
       "\n",
       "/* Span, style for the box shown on hovering the info icon */\n",
       ".sk-estimator-doc-link span {\n",
       "  display: none;\n",
       "  z-index: 9999;\n",
       "  position: relative;\n",
       "  font-weight: normal;\n",
       "  right: .2ex;\n",
       "  padding: .5ex;\n",
       "  margin: .5ex;\n",
       "  width: min-content;\n",
       "  min-width: 20ex;\n",
       "  max-width: 50ex;\n",
       "  color: var(--sklearn-color-text);\n",
       "  box-shadow: 2pt 2pt 4pt #999;\n",
       "  /* unfitted */\n",
       "  background: var(--sklearn-color-unfitted-level-0);\n",
       "  border: .5pt solid var(--sklearn-color-unfitted-level-3);\n",
       "}\n",
       "\n",
       ".sk-estimator-doc-link.fitted span {\n",
       "  /* fitted */\n",
       "  background: var(--sklearn-color-fitted-level-0);\n",
       "  border: var(--sklearn-color-fitted-level-3);\n",
       "}\n",
       "\n",
       ".sk-estimator-doc-link:hover span {\n",
       "  display: block;\n",
       "}\n",
       "\n",
       "/* \"?\"-specific style due to the `<a>` HTML tag */\n",
       "\n",
       "#sk-container-id-5 a.estimator_doc_link {\n",
       "  float: right;\n",
       "  font-size: 1rem;\n",
       "  line-height: 1em;\n",
       "  font-family: monospace;\n",
       "  background-color: var(--sklearn-color-background);\n",
       "  border-radius: 1rem;\n",
       "  height: 1rem;\n",
       "  width: 1rem;\n",
       "  text-decoration: none;\n",
       "  /* unfitted */\n",
       "  color: var(--sklearn-color-unfitted-level-1);\n",
       "  border: var(--sklearn-color-unfitted-level-1) 1pt solid;\n",
       "}\n",
       "\n",
       "#sk-container-id-5 a.estimator_doc_link.fitted {\n",
       "  /* fitted */\n",
       "  border: var(--sklearn-color-fitted-level-1) 1pt solid;\n",
       "  color: var(--sklearn-color-fitted-level-1);\n",
       "}\n",
       "\n",
       "/* On hover */\n",
       "#sk-container-id-5 a.estimator_doc_link:hover {\n",
       "  /* unfitted */\n",
       "  background-color: var(--sklearn-color-unfitted-level-3);\n",
       "  color: var(--sklearn-color-background);\n",
       "  text-decoration: none;\n",
       "}\n",
       "\n",
       "#sk-container-id-5 a.estimator_doc_link.fitted:hover {\n",
       "  /* fitted */\n",
       "  background-color: var(--sklearn-color-fitted-level-3);\n",
       "}\n",
       "</style><div id=\"sk-container-id-5\" class=\"sk-top-container\"><div class=\"sk-text-repr-fallback\"><pre>RandomForestClassifier(n_estimators=10, random_state=3)</pre><b>In a Jupyter environment, please rerun this cell to show the HTML representation or trust the notebook. <br />On GitHub, the HTML representation is unable to render, please try loading this page with nbviewer.org.</b></div><div class=\"sk-container\" hidden><div class=\"sk-item\"><div class=\"sk-estimator fitted sk-toggleable\"><input class=\"sk-toggleable__control sk-hidden--visually\" id=\"sk-estimator-id-5\" type=\"checkbox\" checked><label for=\"sk-estimator-id-5\" class=\"sk-toggleable__label fitted sk-toggleable__label-arrow\"><div><div>RandomForestClassifier</div></div><div><a class=\"sk-estimator-doc-link fitted\" rel=\"noreferrer\" target=\"_blank\" href=\"https://scikit-learn.org/1.6/modules/generated/sklearn.ensemble.RandomForestClassifier.html\">?<span>Documentation for RandomForestClassifier</span></a><span class=\"sk-estimator-doc-link fitted\">i<span>Fitted</span></span></div></label><div class=\"sk-toggleable__content fitted\"><pre>RandomForestClassifier(n_estimators=10, random_state=3)</pre></div> </div></div></div></div>"
      ],
      "text/plain": [
       "RandomForestClassifier(n_estimators=10, random_state=3)"
      ]
     },
     "execution_count": 41,
     "metadata": {},
     "output_type": "execute_result"
    }
   ],
   "source": [
    "rf = RandomForestClassifier(n_estimators=10, random_state=3)\n",
    "rf.fit(X_train, y_train)"
   ]
  },
  {
   "cell_type": "code",
   "execution_count": 42,
   "id": "6739fa87-f4a3-45bd-a08f-a9fc16552271",
   "metadata": {},
   "outputs": [
    {
     "data": {
      "text/plain": [
       "np.float64(0.7884284710953962)"
      ]
     },
     "execution_count": 42,
     "metadata": {},
     "output_type": "execute_result"
    }
   ],
   "source": [
    "y_pred = rf.predict_proba(X_val)[:, 1]\n",
    "roc_auc_score(y_val, y_pred)"
   ]
  },
  {
   "cell_type": "markdown",
   "id": "a0cfc2a5-e07d-4728-ac63-05e14fff6464",
   "metadata": {},
   "source": [
    "This time, we get an AUC of 78.8%. This score doesn’t change, no matter how many times we retrain the model."
   ]
  },
  {
   "cell_type": "markdown",
   "id": "fc94d857-4b1e-4019-82d3-d629e97cd9f9",
   "metadata": {},
   "source": [
    "The number of trees in the ensemble is an important parameter, and it influences the performance of the model. Usually, a model with more trees is better than a model with fewer trees. On the other hand, adding too many trees is not always helpful."
   ]
  },
  {
   "cell_type": "markdown",
   "id": "0ee31c0f-7eac-4037-9195-5c6ec486c65b",
   "metadata": {},
   "source": [
    "To see how many trees we need, we can iterate over different values for n_estimators and see its effect on AUC:"
   ]
  },
  {
   "cell_type": "code",
   "execution_count": 43,
   "id": "c06893df-573f-4405-ab87-4cf74f9e166e",
   "metadata": {},
   "outputs": [
    {
     "name": "stdout",
     "output_type": "stream",
     "text": [
      "10 -> 0.788\n",
      "20 -> 0.813\n",
      "30 -> 0.815\n",
      "40 -> 0.813\n",
      "50 -> 0.814\n",
      "60 -> 0.814\n",
      "70 -> 0.813\n",
      "80 -> 0.816\n",
      "90 -> 0.816\n",
      "100 -> 0.817\n",
      "110 -> 0.818\n",
      "120 -> 0.819\n",
      "130 -> 0.819\n",
      "140 -> 0.819\n",
      "150 -> 0.820\n",
      "160 -> 0.820\n",
      "170 -> 0.820\n",
      "180 -> 0.819\n",
      "190 -> 0.819\n",
      "200 -> 0.819\n"
     ]
    }
   ],
   "source": [
    "aucs = []\n",
    "\n",
    "for i in range(10, 201, 10):\n",
    "    rf = RandomForestClassifier(n_estimators=i, random_state=3)\n",
    "    rf.fit(X_train, y_train)\n",
    "\n",
    "    y_pred = rf.predict_proba(X_val)[:, 1]\n",
    "    auc = roc_auc_score(y_val, y_pred)\n",
    "    print(\"%s -> %.3f\" % (i, auc))\n",
    "\n",
    "    aucs.append(auc)"
   ]
  },
  {
   "cell_type": "markdown",
   "id": "f56a92a4-7f82-4c99-8053-5e07a89d0d96",
   "metadata": {},
   "source": [
    "Let's plot the results:"
   ]
  },
  {
   "cell_type": "code",
   "execution_count": 44,
   "id": "7f012ae2-13b2-4faf-ae09-989ab82c65f9",
   "metadata": {},
   "outputs": [
    {
     "data": {
      "text/plain": [
       "[<matplotlib.lines.Line2D at 0x10f08d180>]"
      ]
     },
     "execution_count": 44,
     "metadata": {},
     "output_type": "execute_result"
    },
    {
     "data": {
      "image/png": "[encoded data removed]",
      "text/plain": [
       "<Figure size 640x480 with 1 Axes>"
      ]
     },
     "metadata": {},
     "output_type": "display_data"
    }
   ],
   "source": [
    "plt.plot(range(10, 201, 10), aucs)"
   ]
  },
  {
   "cell_type": "markdown",
   "id": "3945f774-41ff-41f7-a9de-5f2b287adfad",
   "metadata": {},
   "source": [
    "The performance grows rapidly for the first 25-30 trees; then the growth slows down. After 150, adding more trees is not helpful anymore: the performance stays approximately at the level of 82%."
   ]
  },
  {
   "cell_type": "markdown",
   "id": "ffa0cc95-843a-4f83-8b3c-5014dfb88480",
   "metadata": {},
   "source": [
    "The number of trees is not the only parameter we can change to get better performance. Next, we see which other parameters we should also tune to improve the model."
   ]
  },
  {
   "cell_type": "markdown",
   "id": "c69878f5-f183-415d-b2f7-a155857963fb",
   "metadata": {},
   "source": [
    "### 6.3.2. Parameter runing for random forest"
   ]
  },
  {
   "cell_type": "markdown",
   "id": "3894c100-2ba1-401b-8e42-3b1e59b4ef8b",
   "metadata": {},
   "source": [
    "A random forest ensemble consists of multiple decision trees, so the most important parameters we need to tune for random forest are the same:\n",
    "\n",
    "- max_depth\n",
    "- min_leaf_size"
   ]
  },
  {
   "cell_type": "markdown",
   "id": "4a643074-bffe-4e0d-8a64-5101e21b2955",
   "metadata": {},
   "source": [
    "We can change other parameters in the future."
   ]
  },
  {
   "cell_type": "markdown",
   "id": "730b5af2-57f1-40fe-a9fa-a86ff15013c8",
   "metadata": {},
   "source": [
    "Let's start with max_depth. We already know that this parameter significantly affects the performance of a decision tree. This is also the case for random forest: larger trees tend to overfit more than smaller trees."
   ]
  },
  {
   "cell_type": "code",
   "execution_count": 45,
   "id": "a6f928d8-00e1-4459-bfe8-2cbd9cfa7fdc",
   "metadata": {},
   "outputs": [
    {
     "name": "stdout",
     "output_type": "stream",
     "text": [
      "depth: 5\n",
      "10 -> 0.795\n",
      "20 -> 0.798\n",
      "30 -> 0.796\n",
      "40 -> 0.797\n",
      "50 -> 0.797\n",
      "60 -> 0.800\n",
      "70 -> 0.801\n",
      "80 -> 0.802\n",
      "90 -> 0.802\n",
      "100 -> 0.803\n",
      "110 -> 0.806\n",
      "120 -> 0.807\n",
      "130 -> 0.807\n",
      "140 -> 0.806\n",
      "150 -> 0.806\n",
      "160 -> 0.806\n",
      "170 -> 0.806\n",
      "180 -> 0.806\n",
      "190 -> 0.806\n",
      "200 -> 0.806\n",
      "\n",
      "depth: 10\n",
      "10 -> 0.809\n",
      "20 -> 0.814\n",
      "30 -> 0.819\n",
      "40 -> 0.823\n",
      "50 -> 0.821\n",
      "60 -> 0.819\n",
      "70 -> 0.820\n",
      "80 -> 0.819\n",
      "90 -> 0.820\n",
      "100 -> 0.821\n",
      "110 -> 0.822\n",
      "120 -> 0.821\n",
      "130 -> 0.821\n",
      "140 -> 0.820\n",
      "150 -> 0.820\n",
      "160 -> 0.819\n",
      "170 -> 0.821\n",
      "180 -> 0.821\n",
      "190 -> 0.822\n",
      "200 -> 0.822\n",
      "\n",
      "depth: 20\n",
      "10 -> 0.773\n",
      "20 -> 0.792\n",
      "30 -> 0.798\n",
      "40 -> 0.810\n",
      "50 -> 0.813\n",
      "60 -> 0.816\n",
      "70 -> 0.818\n",
      "80 -> 0.818\n",
      "90 -> 0.818\n",
      "100 -> 0.819\n",
      "110 -> 0.820\n",
      "120 -> 0.820\n",
      "130 -> 0.820\n",
      "140 -> 0.819\n",
      "150 -> 0.819\n",
      "160 -> 0.818\n",
      "170 -> 0.818\n",
      "180 -> 0.818\n",
      "190 -> 0.818\n",
      "200 -> 0.819\n",
      "\n"
     ]
    }
   ],
   "source": [
    "all_aucs = {}\n",
    "\n",
    "for depth in [5, 10, 20]:\n",
    "    print(\"depth: %s\" % depth)\n",
    "    aucs = []\n",
    "\n",
    "    for i in range(10, 201, 10):\n",
    "        rf = RandomForestClassifier(n_estimators=i, max_depth=depth, random_state=1)\n",
    "        rf.fit(X_train, y_train)\n",
    "        y_pred = rf.predict_proba(X_val)[:, 1]\n",
    "        auc = roc_auc_score(y_val, y_pred)\n",
    "        print(\"%s -> %.3f\" % (i, auc))\n",
    "        aucs.append(auc)\n",
    "\n",
    "    all_aucs[depth] = aucs\n",
    "    print()"
   ]
  },
  {
   "cell_type": "markdown",
   "id": "a60f5f9d-c1e3-436f-9c78-2eed0233b5dc",
   "metadata": {},
   "source": [
    "Now, let's plot them:"
   ]
  },
  {
   "cell_type": "code",
   "execution_count": 46,
   "id": "b6df7242-7207-479a-abe2-278a8888ceca",
   "metadata": {},
   "outputs": [
    {
     "data": {
      "text/plain": [
       "<matplotlib.legend.Legend at 0x10f0288e0>"
      ]
     },
     "execution_count": 46,
     "metadata": {},
     "output_type": "execute_result"
    },
    {
     "data": {
      "image/png": "[encoded data removed]",
      "text/plain": [
       "<Figure size 640x480 with 1 Axes>"
      ]
     },
     "metadata": {},
     "output_type": "display_data"
    }
   ],
   "source": [
    "num_trees = list(range(10, 201, 10))\n",
    "plt.plot(num_trees, all_aucs[5], label=\"depth=5\")\n",
    "plt.plot(num_trees, all_aucs[10], label=\"depth=10\")\n",
    "plt.plot(num_trees, all_aucs[20], label=\"depth=20\")\n",
    "plt.legend()"
   ]
  },
  {
   "cell_type": "markdown",
   "id": "1d92cc53-2f1d-48e4-973a-512a2ceaf6ab",
   "metadata": {},
   "source": [
    "With max_depth=10, AUC goes over 82%, whereas for other values it performs worse."
   ]
  },
  {
   "cell_type": "markdown",
   "id": "05e056f3-93a0-498e-b38c-988ddbd544ae",
   "metadata": {},
   "source": [
    "Now let’s tune min_samples_leaf. We set the value for the max_depth parameter from the previous step and then follow the same approach as previously for determining the best value for min_samples_leaf:"
   ]
  },
  {
   "cell_type": "code",
   "execution_count": 47,
   "id": "dc858f64-d591-4e9c-aa5e-82f677216334",
   "metadata": {},
   "outputs": [
    {
     "name": "stdout",
     "output_type": "stream",
     "text": [
      "min_samples_leaf: 3\n",
      "10 ->> 0.805\n",
      "30 ->> 0.815\n",
      "50 ->> 0.816\n",
      "70 ->> 0.819\n",
      "90 ->> 0.819\n",
      "110 ->> 0.821\n",
      "130 ->> 0.822\n",
      "150 ->> 0.821\n",
      "170 ->> 0.822\n",
      "190 ->> 0.822\n",
      "\n",
      "min_samples_leaf: 5\n",
      "10 ->> 0.805\n",
      "30 ->> 0.814\n",
      "50 ->> 0.815\n",
      "70 ->> 0.817\n",
      "90 ->> 0.817\n",
      "110 ->> 0.818\n",
      "130 ->> 0.819\n",
      "150 ->> 0.819\n",
      "170 ->> 0.819\n",
      "190 ->> 0.819\n",
      "\n",
      "min_samples_leaf: 10\n",
      "10 ->> 0.799\n",
      "30 ->> 0.811\n",
      "50 ->> 0.815\n",
      "70 ->> 0.815\n",
      "90 ->> 0.815\n",
      "110 ->> 0.818\n",
      "130 ->> 0.819\n",
      "150 ->> 0.819\n",
      "170 ->> 0.819\n",
      "190 ->> 0.819\n",
      "\n"
     ]
    }
   ],
   "source": [
    "all_aucs = {}\n",
    "\n",
    "for m in [3, 5, 10]:\n",
    "    print(\"min_samples_leaf: %s\" % m)\n",
    "    aucs = []\n",
    "\n",
    "    for i in range(10, 201, 20):\n",
    "        rf = RandomForestClassifier(n_estimators=i, max_depth=10, min_samples_leaf=m, random_state=1)\n",
    "        rf.fit(X_train, y_train)\n",
    "        y_pred = rf.predict_proba(X_val)[:, 1]\n",
    "        auc = roc_auc_score(y_val, y_pred)\n",
    "        print(\"%s ->> %.3f\" % (i, auc))\n",
    "        aucs.append(auc)\n",
    "\n",
    "    all_aucs[m] = aucs\n",
    "    print()"
   ]
  },
  {
   "cell_type": "markdown",
   "id": "972e3a75-8901-477e-9a08-c9a844c63868",
   "metadata": {},
   "source": [
    "Time to plot it:"
   ]
  },
  {
   "cell_type": "code",
   "execution_count": 48,
   "id": "f23a9427-4b5f-46ad-adf3-ddc4f9c2d1c7",
   "metadata": {},
   "outputs": [
    {
     "data": {
      "text/plain": [
       "<matplotlib.legend.Legend at 0x10f3cfee0>"
      ]
     },
     "execution_count": 48,
     "metadata": {},
     "output_type": "execute_result"
    },
    {
     "data": {
      "image/png": "[encoded data removed]",
      "text/plain": [
       "<Figure size 640x480 with 1 Axes>"
      ]
     },
     "metadata": {},
     "output_type": "display_data"
    }
   ],
   "source": [
    "num_trees = list(range(10, 201, 20))\n",
    "plt.plot(num_trees, all_aucs[3], label=\"min_samples_leaf=3\")\n",
    "plt.plot(num_trees, all_aucs[5], label=\"min_samples_leaf=5\")\n",
    "plt.plot(num_trees, all_aucs[10], label=\"min_samples_leaf=10\")\n",
    "plt.legend()"
   ]
  },
  {
   "cell_type": "markdown",
   "id": "745169be-f13e-4d9c-8d2d-488d7fb03f23",
   "metadata": {},
   "source": [
    "We see that AUC is slightly better for small values of min_samples_leaf and the best value is 3."
   ]
  },
  {
   "cell_type": "markdown",
   "id": "3de85c51-d8f4-4048-b27b-624ef8c68a8e",
   "metadata": {},
   "source": [
    "Thus, the best parameters for random forest for our problem are:\n",
    "\n",
    "- max_depth=10\n",
    "- min_samples_leaf=3\n",
    "\n",
    "We achieved the best AUC with 125 trees, so we should set the n_estimators parameter to 125."
   ]
  },
  {
   "cell_type": "markdown",
   "id": "c525d576-9012-4ac1-9be4-85d7cd609bb1",
   "metadata": {},
   "source": [
    "Let's train the final model:"
   ]
  },
  {
   "cell_type": "code",
   "execution_count": 49,
   "id": "02665145-3ecf-46f6-96bb-17e5ddde1f63",
   "metadata": {},
   "outputs": [],
   "source": [
    "rf = RandomForestClassifier(n_estimators=125, max_depth=10, min_samples_leaf=3, random_state=1)"
   ]
  },
  {
   "cell_type": "markdown",
   "id": "1cd896fe-ad97-493b-bfa9-da08e0a7307c",
   "metadata": {},
   "source": [
    "Random forest is not the only way to combine multiple decision trees. There’s a different approach: gradient boosting. We cover that next."
   ]
  },
  {
   "cell_type": "markdown",
   "id": "cb912bd6-d244-4da5-acc9-eee94301b4c7",
   "metadata": {},
   "source": [
    "## 6.4. Gradient boosting"
   ]
  },
  {
   "cell_type": "markdown",
   "id": "fb3ca1c2-0b6e-466a-bb03-b1af03c5fed9",
   "metadata": {},
   "source": [
    "In a random forest, each tree is independent: it's trained on a different set of features. After individual trees are trained, we combine all their decisions together to get the final decision."
   ]
  },
  {
   "cell_type": "markdown",
   "id": "ac82a628-2178-45f9-91a7-398115e41f3d",
   "metadata": {},
   "source": [
    "It's not the only way to combine multiple models together in one ensemble, however. Alternatively, we can train models sequentially - each next model tries to fix errors from the previous one:\n",
    "\n",
    "- Train the first model.\n",
    "- Look at the errors it makes.\n",
    "- Train another model that fixes these errors.\n",
    "- Look at the errors again; repeat sequentially.\n",
    "\n",
    "This way of combining models is called boosting. Gradient boosting is a particular variation of this approach that works especially wrell with trees."
   ]
  },
  {
   "cell_type": "markdown",
   "id": "aad030a4-7fa4-4448-92e9-edb5d745ffc5",
   "metadata": {},
   "source": [
    "### 6.4.1. XGBoost: Extreme gradient boosting"
   ]
  },
  {
   "cell_type": "markdown",
   "id": "0bbc251a-e99d-4bea-8d4b-5128a71c5626",
   "metadata": {},
   "source": [
    "We have many good implementations of the gradient boosting model: GradientBoostingClassifier from Scikit-learn, XGBoost, LightGBM and CatBoost. In this chapter, we use XGBoost (short for “Extreme Gradient Boosting”), which is the most popular implementation."
   ]
  },
  {
   "cell_type": "code",
   "execution_count": 61,
   "id": "88831656-0bef-4cbe-b640-9b8f6a5c3dba",
   "metadata": {},
   "outputs": [],
   "source": [
    "import xgboost as xgb\n",
    "\n",
    "# so you don't get any lame warnings\n",
    "xgb.set_config(verbosity=0)"
   ]
  },
  {
   "cell_type": "markdown",
   "id": "25efc4c1-a477-4ffc-b767-c3e153265636",
   "metadata": {},
   "source": [
    "Using the alias xgb when importing XGBoost is a convention, just like with other popular machine learning packages in Python."
   ]
  },
  {
   "cell_type": "markdown",
   "id": "5b9c0b59-e367-4c42-87ce-ab8d31b50abd",
   "metadata": {},
   "source": [
    "Before we can train an XGBoost model, we need to wrap our data into DMatrix—a special data structure for finding splits efficiently. Let’s do it:"
   ]
  },
  {
   "cell_type": "code",
   "execution_count": 55,
   "id": "9c1c7d15-f992-4b97-a528-9d6046c67ae2",
   "metadata": {},
   "outputs": [],
   "source": [
    "dtrain = xgb.DMatrix(X_train, label=y_train, feature_names=dv.feature_names_)"
   ]
  },
  {
   "cell_type": "markdown",
   "id": "69465378-4133-4afd-a864-abcf2c461e72",
   "metadata": {},
   "source": [
    "When creating an instance of DMatrix, we pass three parameters:\n",
    "\n",
    "- X_train: the feature matrix\n",
    "- y_train: the target variable\n",
    "- feature_names: the names of features in X_train"
   ]
  },
  {
   "cell_type": "markdown",
   "id": "69ce86fb-3ede-4ccf-9a3f-aefe9773663c",
   "metadata": {},
   "source": [
    "Let's do the same for the validation dataset:"
   ]
  },
  {
   "cell_type": "code",
   "execution_count": 56,
   "id": "f799e1d5-d113-46a0-9c03-455cd606cca5",
   "metadata": {},
   "outputs": [],
   "source": [
    "dval = xgb.DMatrix(X_val, label=y_val, feature_names=dv.feature_names_)"
   ]
  },
  {
   "cell_type": "markdown",
   "id": "37119b41-d397-40d1-8acd-7c647f3a1d73",
   "metadata": {},
   "source": [
    "The next step is specifying the parameters for training. We're using only a small subset of the default parameters of XGBoost (check the official documentation for the entire list of parameters)"
   ]
  },
  {
   "cell_type": "code",
   "execution_count": 57,
   "id": "3e74c890-82b2-4457-9824-7d946e9eb8ee",
   "metadata": {},
   "outputs": [],
   "source": [
    "xgb_params = {\n",
    "    \"eta\": 0.3,\n",
    "    \"max_depth\": 6,\n",
    "    \"min_child_weight\": 1,\n",
    "\n",
    "    \"objective\": \"binary:logistic\",\n",
    "    \"nthread\": 8,\n",
    "    \"seed\": 1,\n",
    "    \"silent\": 1\n",
    "}"
   ]
  },
  {
   "cell_type": "markdown",
   "id": "a3bf13c7-ea74-4721-81b8-888ea99b7876",
   "metadata": {},
   "source": [
    "For us, the most important parameter now is objective: it specifies the learning task. We’re solving a binary classification problem - that's why we need to choose binary:logistic. We cover the rest of these parameters later."
   ]
  },
  {
   "cell_type": "markdown",
   "id": "bfbf5886-b7ab-44d3-8672-aed653908419",
   "metadata": {},
   "source": [
    "For training an XGBoost model, we use the train function. Let’s start with 10 trees:"
   ]
  },
  {
   "cell_type": "code",
   "execution_count": 63,
   "id": "cbca2e2b-f707-4747-a179-0b4509e486f5",
   "metadata": {},
   "outputs": [],
   "source": [
    "model = xgb.train(xgb_params, dtrain, num_boost_round=10)"
   ]
  },
  {
   "cell_type": "markdown",
   "id": "babf47ac-49ef-43d1-a5da-9b31d1fd64dd",
   "metadata": {},
   "source": [
    "We provide three arguments to train:\n",
    "\n",
    "- xgb_params: the parameters for training\n",
    "- dtrain: the dataset for training (an instance of DMatrix)\n",
    "- num_boost_round=10: the number of trees to train"
   ]
  },
  {
   "cell_type": "markdown",
   "id": "89211df5-bb05-449c-9cef-8cab0efe4c6f",
   "metadata": {},
   "source": [
    "To evaluate the model, we need to make a prediction on the validation dataset. For that, use the predict method with the validation data wrapped in DMatrix:"
   ]
  },
  {
   "cell_type": "code",
   "execution_count": 64,
   "id": "78ca64c3-1520-4745-b7f8-65442a5b06e3",
   "metadata": {},
   "outputs": [],
   "source": [
    "y_pred = model.predict(dval)"
   ]
  },
  {
   "cell_type": "markdown",
   "id": "ea132fa5-8818-4795-ae1d-2330acac9185",
   "metadata": {},
   "source": [
    "The result, y_pred, is a one-dimensional NumPy array with predictions; the risk score for each customer in the validation dataset."
   ]
  },
  {
   "cell_type": "markdown",
   "id": "57af6849-b621-435d-a8bf-7ba0e42575dd",
   "metadata": {},
   "source": [
    "Next, we calculate AUC using the same approach as previously:"
   ]
  },
  {
   "cell_type": "code",
   "execution_count": 71,
   "id": "8bd802d8-9cc2-436d-933a-372ee7ec2c63",
   "metadata": {},
   "outputs": [
    {
     "data": {
      "text/plain": [
       "np.float64(0.8156105446707516)"
      ]
     },
     "execution_count": 71,
     "metadata": {},
     "output_type": "execute_result"
    }
   ],
   "source": [
    "roc_auc_score(y_val, y_pred)"
   ]
  },
  {
   "cell_type": "markdown",
   "id": "8efc1e28-9c91-494a-98b3-dd8773f3b212",
   "metadata": {},
   "source": [
    "After executing it, we get 81.6%. This is quite a good result, but it’s still slightly worse than our best random forest model (82%)."
   ]
  },
  {
   "cell_type": "markdown",
   "id": "cdf80f96-afc9-46cc-8181-9e0359fdaf9d",
   "metadata": {},
   "source": [
    "Training an XGBoost model is simpler when we can see how its perfoemance changes when the number of trees grows."
   ]
  },
  {
   "cell_type": "markdown",
   "id": "f7423a0c-fce0-4200-9d00-e96bf2c82e68",
   "metadata": {},
   "source": [
    "### 6.4.2. Model performance monitoring"
   ]
  },
  {
   "cell_type": "markdown",
   "id": "59e9b76e-ad3e-46a8-b75d-c2224d849551",
   "metadata": {},
   "source": [
    "To get an idea of how AUC changes as the number of trees grows, we can use a watchlist - a built-in feature in XGBoost for monitoring model performance."
   ]
  },
  {
   "cell_type": "markdown",
   "id": "0989ff70-922a-40c9-8c32-17cdb759d63e",
   "metadata": {},
   "source": [
    "A watchlist is a Python list with tuples. Each tuple contains a DMatrix and its name. This is how we typically do it:"
   ]
  },
  {
   "cell_type": "code",
   "execution_count": 72,
   "id": "843f7817-c4c2-4308-8084-5f1e80445f4f",
   "metadata": {},
   "outputs": [],
   "source": [
    "watchlist = [(dtrain, \"train\"), (dval, \"val\")]"
   ]
  },
  {
   "cell_type": "markdown",
   "id": "cbb0bfed-6427-4b00-922d-0fb0e22d695c",
   "metadata": {},
   "source": [
    "Additionally, we modify the list of parameters for training: we need to specify the metric we use for evaluation. In our case, it's the AUC:"
   ]
  },
  {
   "cell_type": "code",
   "execution_count": 91,
   "id": "31099c3b-c3ba-47a6-a5c4-06c8b1f74029",
   "metadata": {},
   "outputs": [],
   "source": [
    "xgb_params = {\n",
    "    \"eta\": 0.3,\n",
    "    \"max_depth\": 6,\n",
    "    \"min_child_weight\": 1,\n",
    "\n",
    "    \"objective\": \"binary:logistic\",\n",
    "    \"eval_metric\": \"auc\",\n",
    "    \"nthread\": 8,\n",
    "    \"seed\": 1,\n",
    "    \"silent\": 1\n",
    "}"
   ]
  },
  {
   "cell_type": "markdown",
   "id": "0bd8e18a-b5c3-40bf-8d89-5d375e71c05c",
   "metadata": {},
   "source": [
    "To use the watchlist during training, we need to specify two extra arguments for the train function:\n",
    "\n",
    "- evals: the watchlist.\n",
    "- verbose_eval: how often we print the metric. If we set it to “10,” we see the result after each 10th step.\n",
    "\n",
    "Let’s train it:"
   ]
  },
  {
   "cell_type": "code",
   "execution_count": 92,
   "id": "ffd8a8dd-ec87-445d-b1d9-fe931d044564",
   "metadata": {},
   "outputs": [
    {
     "name": "stdout",
     "output_type": "stream",
     "text": [
      "[0]\ttrain-auc:0.86806\tval-auc:0.78152\n",
      "[10]\ttrain-auc:0.95369\tval-auc:0.81754\n",
      "[20]\ttrain-auc:0.97458\tval-auc:0.82619\n",
      "[30]\ttrain-auc:0.98739\tval-auc:0.81783\n",
      "[40]\ttrain-auc:0.99414\tval-auc:0.81504\n",
      "[50]\ttrain-auc:0.99761\tval-auc:0.81283\n",
      "[60]\ttrain-auc:0.99895\tval-auc:0.81239\n",
      "[70]\ttrain-auc:0.99970\tval-auc:0.81270\n",
      "[80]\ttrain-auc:0.99992\tval-auc:0.80947\n",
      "[90]\ttrain-auc:0.99996\tval-auc:0.81002\n",
      "[99]\ttrain-auc:1.00000\tval-auc:0.81022\n"
     ]
    }
   ],
   "source": [
    "model = xgb.train(xgb_params, dtrain, num_boost_round=100, evals=watchlist, verbose_eval=10)"
   ]
  },
  {
   "cell_type": "markdown",
   "id": "1a99c083-6b42-485f-9d16-63d8b0c5d5df",
   "metadata": {},
   "source": [
    "As the number of trees grows, the score on the training set goes up. This behavior is expected: in boosting, every next model tries to fix the mistakes from the previous step, so the score is always improving."
   ]
  },
  {
   "cell_type": "markdown",
   "id": "3b05fc75-0475-4217-bb8b-45f6a4e3efa0",
   "metadata": {},
   "source": [
    "For the validation score, however, this is not the case. It goes up initially but then starts to decrease. This is the effect of overfitting: our model becomes more and more complex until it simply memorizes the entire training set. It’s not helpful for predicting the outcome for the customers outside of the training set, and the validation score reflects that."
   ]
  },
  {
   "cell_type": "markdown",
   "id": "6f748cc1-03aa-49a5-821c-3a625808a67b",
   "metadata": {},
   "source": [
    "We get the best AUC on the 20th iteration (82.6%), but it’s not so different from the score we got on the 10th iteration (82%)."
   ]
  },
  {
   "cell_type": "markdown",
   "id": "6c86fbc5-3134-4516-9e55-5f6026998dfd",
   "metadata": {},
   "source": [
    "Next, we’ll see how to get the best out of XGBoost by tuning its parameters."
   ]
  },
  {
   "cell_type": "markdown",
   "id": "55809ca0-f6c8-4c50-9a23-bc382f6530d8",
   "metadata": {},
   "source": [
    "### 6.4.3. Parameter tuning for XGBoost"
   ]
  },
  {
   "cell_type": "markdown",
   "id": "d167651f-a8f0-4506-a8c4-0fc81e4a1561",
   "metadata": {},
   "source": [
    "Previously, we used a subset of default parameters for training a model:"
   ]
  },
  {
   "cell_type": "code",
   "execution_count": 93,
   "id": "a4150f57-61c4-4089-8c0f-c611b6d13d81",
   "metadata": {},
   "outputs": [],
   "source": [
    "xgb_params = {\n",
    "    \"eta\": 0.3,\n",
    "    \"max_depth\": 6,\n",
    "    \"min_child_weight\": 1,\n",
    "    \"objective\": \"binary:logistic\",\n",
    "    \"eval_metric\": \"auc\",\n",
    "    \"nthread\": 8,\n",
    "    \"seed\": 1,\n",
    "    \"silent\": 1\n",
    "}"
   ]
  },
  {
   "cell_type": "markdown",
   "id": "98ddb95c-e1a9-4ec4-8433-357f03c56669",
   "metadata": {},
   "source": [
    "We’re mostly interested in the first three parameters. These parameters control the training process:\n",
    "\n",
    "- eta: Learning rate. Decision trees and random forest don’t have this parameter. We cover it later in this section when we tune it.\n",
    "- max_depth: The maximum allowed depth of each tree; the same as max_depth in DecisionTreeClassifier from Scikit-learn.\n",
    "- min_child_weight: The minimal number of observations in each group; the same as min_leaf_size in DecisionTreeClassifier from Scikit-learn."
   ]
  },
  {
   "cell_type": "markdown",
   "id": "eb8a5113-a925-4774-9620-b86509db57d5",
   "metadata": {},
   "source": [
    "Other parameters:\n",
    "\n",
    "- objective: The type of task we want to solve. For classification, it should be binary:logistic.\n",
    "- eval_metric: The metric we use for evaluation. For this project, it’s “AUC.”\n",
    "- nthread: The number of threads we use for training the model. XGBoost is very good at parallelizing training, so set it to the number of cores your computer has.\n",
    "- seed: The seed for the random-number generator; we need to set it to make sure the results are reproducible.\n",
    "- silent: The verbosity of the output. When we set it to “1,” it outputs only warnings."
   ]
  },
  {
   "cell_type": "markdown",
   "id": "dc97a136-8d59-4cb6-99fa-9742739d5650",
   "metadata": {},
   "source": [
    "This is not the full list fo parameters, only the basic ones."
   ]
  },
  {
   "cell_type": "markdown",
   "id": "9af714bd-7ed0-47dc-a5dd-1610597816a3",
   "metadata": {},
   "source": [
    "We already know max_depth and min_child_weight (min_leaf_size), but we haven't previously come across eta—the learning rate parameter. Let’s talk about it and see how we can optimize it."
   ]
  },
  {
   "cell_type": "markdown",
   "id": "e71b2e57-ddc9-4f93-970c-ef5487a170b9",
   "metadata": {},
   "source": [
    "In boosting, each tree tries to correct the mistakes from the previouss iterations. Learning rate determines the weight of this correction. If we have a large value for eta, the correction overwights the previous perdictions significantly. On the other hand, if the value is small, only a small fraction of this correction is used."
   ]
  },
  {
   "cell_type": "markdown",
   "id": "7f316f62-2738-4046-bdd1-e6eb6499bc6f",
   "metadata": {},
   "source": [
    "In practice it means\n",
    "\n",
    "- If eta is too large, the model starts to overfit quite early without realizing its full potential.\n",
    "- If it’s too small, we need to train too many trees before it can produce good results."
   ]
  },
  {
   "cell_type": "markdown",
   "id": "00d8c7d4-fbeb-4ee6-a489-1922cb687091",
   "metadata": {},
   "source": [
    "The default value of 0.3 is reasonably good for large datasets, but for smaller datasets like ours, we should try smaller values like 0.1 or even 0.05."
   ]
  },
  {
   "cell_type": "code",
   "execution_count": 94,
   "id": "10f62cc8-7daf-4a7d-9e67-93fb3d75ae59",
   "metadata": {},
   "outputs": [],
   "source": [
    "xgb_params = {\n",
    "    \"eta\": 0.1,\n",
    "    \"max_depth\": 6,\n",
    "    \"min_child_weight\": 1,\n",
    "    \"objective\": \"binary:logistic\",\n",
    "    \"eval_metric\": \"auc\",\n",
    "    \"nthread\": 8,\n",
    "    \"seed\": 1,\n",
    "    \"silent\": 1\n",
    "}"
   ]
  },
  {
   "cell_type": "markdown",
   "id": "c7cfe6bd-2696-4dce-aba5-b67e7536d92a",
   "metadata": {},
   "source": [
    "Because now we can use a watchlist to monitor the performance of our model, we can train for as many iterations as we want. Previously we used 100 iterations, but this may be not enough for smaller eta. So let’s use 500 rounds for training:"
   ]
  },
  {
   "cell_type": "code",
   "execution_count": 95,
   "id": "8932795a-208e-4277-9db3-f9cb145a8502",
   "metadata": {},
   "outputs": [
    {
     "name": "stdout",
     "output_type": "stream",
     "text": [
      "[0]\ttrain-auc:0.86806\tval-auc:0.78152\n",
      "[10]\ttrain-auc:0.91907\tval-auc:0.80505\n",
      "[20]\ttrain-auc:0.94196\tval-auc:0.81324\n",
      "[30]\ttrain-auc:0.95600\tval-auc:0.81574\n",
      "[40]\ttrain-auc:0.96511\tval-auc:0.81904\n",
      "[50]\ttrain-auc:0.97038\tval-auc:0.82097\n",
      "[60]\ttrain-auc:0.97676\tval-auc:0.82096\n",
      "[70]\ttrain-auc:0.98149\tval-auc:0.82013\n",
      "[80]\ttrain-auc:0.98546\tval-auc:0.81845\n",
      "[90]\ttrain-auc:0.98810\tval-auc:0.81809\n",
      "[100]\ttrain-auc:0.98963\tval-auc:0.81779\n",
      "[110]\ttrain-auc:0.99156\tval-auc:0.81777\n",
      "[120]\ttrain-auc:0.99387\tval-auc:0.81619\n",
      "[130]\ttrain-auc:0.99545\tval-auc:0.81568\n",
      "[140]\ttrain-auc:0.99636\tval-auc:0.81534\n",
      "[150]\ttrain-auc:0.99728\tval-auc:0.81505\n",
      "[160]\ttrain-auc:0.99795\tval-auc:0.81536\n",
      "[170]\ttrain-auc:0.99840\tval-auc:0.81431\n",
      "[180]\ttrain-auc:0.99874\tval-auc:0.81338\n",
      "[190]\ttrain-auc:0.99903\tval-auc:0.81389\n",
      "[200]\ttrain-auc:0.99930\tval-auc:0.81313\n",
      "[210]\ttrain-auc:0.99941\tval-auc:0.81135\n",
      "[220]\ttrain-auc:0.99955\tval-auc:0.81029\n",
      "[230]\ttrain-auc:0.99962\tval-auc:0.80943\n",
      "[240]\ttrain-auc:0.99975\tval-auc:0.80877\n",
      "[250]\ttrain-auc:0.99982\tval-auc:0.80910\n",
      "[260]\ttrain-auc:0.99986\tval-auc:0.80862\n",
      "[270]\ttrain-auc:0.99991\tval-auc:0.80798\n",
      "[280]\ttrain-auc:0.99995\tval-auc:0.80802\n",
      "[290]\ttrain-auc:0.99996\tval-auc:0.80819\n",
      "[300]\ttrain-auc:0.99997\tval-auc:0.80808\n",
      "[310]\ttrain-auc:0.99998\tval-auc:0.80800\n",
      "[320]\ttrain-auc:0.99999\tval-auc:0.80721\n",
      "[330]\ttrain-auc:0.99999\tval-auc:0.80723\n",
      "[340]\ttrain-auc:0.99999\tval-auc:0.80646\n",
      "[350]\ttrain-auc:0.99999\tval-auc:0.80615\n",
      "[360]\ttrain-auc:1.00000\tval-auc:0.80553\n",
      "[370]\ttrain-auc:1.00000\tval-auc:0.80635\n",
      "[380]\ttrain-auc:1.00000\tval-auc:0.80605\n",
      "[390]\ttrain-auc:1.00000\tval-auc:0.80598\n",
      "[400]\ttrain-auc:1.00000\tval-auc:0.80572\n",
      "[410]\ttrain-auc:1.00000\tval-auc:0.80605\n",
      "[420]\ttrain-auc:1.00000\tval-auc:0.80587\n",
      "[430]\ttrain-auc:1.00000\tval-auc:0.80575\n",
      "[440]\ttrain-auc:1.00000\tval-auc:0.80502\n",
      "[450]\ttrain-auc:1.00000\tval-auc:0.80498\n",
      "[460]\ttrain-auc:1.00000\tval-auc:0.80455\n",
      "[470]\ttrain-auc:1.00000\tval-auc:0.80446\n",
      "[480]\ttrain-auc:1.00000\tval-auc:0.80442\n",
      "[490]\ttrain-auc:1.00000\tval-auc:0.80457\n",
      "[499]\ttrain-auc:1.00000\tval-auc:0.80377\n"
     ]
    }
   ],
   "source": [
    "model = xgb.train(xgb_params, dtrain, num_boost_round=500, evals=watchlist, verbose_eval=10)"
   ]
  },
  {
   "cell_type": "markdown",
   "id": "f323ad1a-e582-4a96-81a6-2c1e2561ff33",
   "metadata": {},
   "source": [
    "When running it, we see that the best validation score is 82.1%."
   ]
  },
  {
   "cell_type": "markdown",
   "id": "780380b2-5dc4-4528-a346-105125377ecb",
   "metadata": {},
   "source": [
    "When eta is 0.3, we get the best AUC pretty quickly, but then it starts to overfit. After the 10th iteration, the performance on the validation set goes down.\n",
    "\n",
    "When eta is 0.1, AUC grows more slowly but peaks at a higher value. For a smaller learning rate, it takes more trees to reach the peak, but we could achieve better performance."
   ]
  },
  {
   "cell_type": "markdown",
   "id": "27683125-0211-4b4e-9e38-a03c99504b6c",
   "metadata": {},
   "source": [
    "Let's try other values of eta:"
   ]
  },
  {
   "cell_type": "code",
   "execution_count": 96,
   "id": "cc8f41cc-5f84-4707-865b-2a16291e129d",
   "metadata": {},
   "outputs": [
    {
     "name": "stdout",
     "output_type": "stream",
     "text": [
      "[0]\ttrain-auc:0.86806\tval-auc:0.78152\n",
      "[10]\ttrain-auc:0.90258\tval-auc:0.79371\n",
      "[20]\ttrain-auc:0.91793\tval-auc:0.80157\n",
      "[30]\ttrain-auc:0.93106\tval-auc:0.80991\n",
      "[40]\ttrain-auc:0.94148\tval-auc:0.81567\n",
      "[50]\ttrain-auc:0.94851\tval-auc:0.81867\n",
      "[60]\ttrain-auc:0.95566\tval-auc:0.82004\n",
      "[70]\ttrain-auc:0.95960\tval-auc:0.82104\n",
      "[80]\ttrain-auc:0.96296\tval-auc:0.82247\n",
      "[90]\ttrain-auc:0.96662\tval-auc:0.82318\n",
      "[100]\ttrain-auc:0.97049\tval-auc:0.82458\n",
      "[110]\ttrain-auc:0.97361\tval-auc:0.82580\n",
      "[120]\ttrain-auc:0.97632\tval-auc:0.82537\n",
      "[130]\ttrain-auc:0.97894\tval-auc:0.82626\n",
      "[140]\ttrain-auc:0.98049\tval-auc:0.82600\n",
      "[150]\ttrain-auc:0.98229\tval-auc:0.82542\n",
      "[160]\ttrain-auc:0.98404\tval-auc:0.82527\n",
      "[170]\ttrain-auc:0.98556\tval-auc:0.82547\n",
      "[180]\ttrain-auc:0.98693\tval-auc:0.82477\n",
      "[190]\ttrain-auc:0.98832\tval-auc:0.82455\n",
      "[200]\ttrain-auc:0.98950\tval-auc:0.82409\n",
      "[210]\ttrain-auc:0.99046\tval-auc:0.82323\n",
      "[220]\ttrain-auc:0.99136\tval-auc:0.82257\n",
      "[230]\ttrain-auc:0.99234\tval-auc:0.82190\n",
      "[240]\ttrain-auc:0.99321\tval-auc:0.82284\n",
      "[250]\ttrain-auc:0.99399\tval-auc:0.82242\n",
      "[260]\ttrain-auc:0.99474\tval-auc:0.82113\n",
      "[270]\ttrain-auc:0.99524\tval-auc:0.82085\n",
      "[280]\ttrain-auc:0.99583\tval-auc:0.82044\n",
      "[290]\ttrain-auc:0.99634\tval-auc:0.81944\n",
      "[300]\ttrain-auc:0.99671\tval-auc:0.81850\n",
      "[310]\ttrain-auc:0.99711\tval-auc:0.81796\n",
      "[320]\ttrain-auc:0.99751\tval-auc:0.81768\n",
      "[330]\ttrain-auc:0.99780\tval-auc:0.81775\n",
      "[340]\ttrain-auc:0.99809\tval-auc:0.81842\n",
      "[350]\ttrain-auc:0.99824\tval-auc:0.81809\n",
      "[360]\ttrain-auc:0.99845\tval-auc:0.81771\n",
      "[370]\ttrain-auc:0.99859\tval-auc:0.81712\n",
      "[380]\ttrain-auc:0.99878\tval-auc:0.81710\n",
      "[390]\ttrain-auc:0.99891\tval-auc:0.81690\n",
      "[400]\ttrain-auc:0.99900\tval-auc:0.81671\n",
      "[410]\ttrain-auc:0.99908\tval-auc:0.81624\n",
      "[420]\ttrain-auc:0.99915\tval-auc:0.81600\n",
      "[430]\ttrain-auc:0.99926\tval-auc:0.81617\n",
      "[440]\ttrain-auc:0.99933\tval-auc:0.81643\n",
      "[450]\ttrain-auc:0.99945\tval-auc:0.81670\n",
      "[460]\ttrain-auc:0.99956\tval-auc:0.81670\n",
      "[470]\ttrain-auc:0.99967\tval-auc:0.81630\n",
      "[480]\ttrain-auc:0.99971\tval-auc:0.81540\n",
      "[490]\ttrain-auc:0.99975\tval-auc:0.81527\n",
      "[499]\ttrain-auc:0.99980\tval-auc:0.81536\n"
     ]
    }
   ],
   "source": [
    "xgb_params = {\n",
    "    \"eta\": 0.05,\n",
    "    \"max_depth\": 6,\n",
    "    \"min_child_weight\": 1,\n",
    "    \"objective\": \"binary:logistic\",\n",
    "    \"eval_metric\": \"auc\",\n",
    "    \"nthread\": 8,\n",
    "    \"seed\": 1,\n",
    "    \"silent\": 1\n",
    "}\n",
    "\n",
    "model = xgb.train(xgb_params, dtrain, num_boost_round=500, evals=watchlist, verbose_eval=10)"
   ]
  },
  {
   "cell_type": "code",
   "execution_count": 97,
   "id": "1ee431ea-21c8-439c-b257-3036470dfcb8",
   "metadata": {},
   "outputs": [
    {
     "name": "stdout",
     "output_type": "stream",
     "text": [
      "[0]\ttrain-auc:0.86806\tval-auc:0.78152\n",
      "[10]\ttrain-auc:0.87829\tval-auc:0.78131\n",
      "[20]\ttrain-auc:0.89194\tval-auc:0.79182\n",
      "[30]\ttrain-auc:0.89651\tval-auc:0.79455\n",
      "[40]\ttrain-auc:0.89858\tval-auc:0.79276\n",
      "[50]\ttrain-auc:0.90178\tval-auc:0.79188\n",
      "[60]\ttrain-auc:0.90516\tval-auc:0.79478\n",
      "[70]\ttrain-auc:0.90824\tval-auc:0.79639\n",
      "[80]\ttrain-auc:0.91112\tval-auc:0.79807\n",
      "[90]\ttrain-auc:0.91485\tval-auc:0.80087\n",
      "[100]\ttrain-auc:0.91763\tval-auc:0.80297\n",
      "[110]\ttrain-auc:0.91991\tval-auc:0.80475\n",
      "[120]\ttrain-auc:0.92256\tval-auc:0.80630\n",
      "[130]\ttrain-auc:0.92571\tval-auc:0.80785\n",
      "[140]\ttrain-auc:0.92808\tval-auc:0.80877\n",
      "[150]\ttrain-auc:0.93035\tval-auc:0.80985\n",
      "[160]\ttrain-auc:0.93265\tval-auc:0.81069\n",
      "[170]\ttrain-auc:0.93509\tval-auc:0.81195\n",
      "[180]\ttrain-auc:0.93708\tval-auc:0.81319\n",
      "[190]\ttrain-auc:0.93870\tval-auc:0.81418\n",
      "[200]\ttrain-auc:0.94022\tval-auc:0.81528\n",
      "[210]\ttrain-auc:0.94182\tval-auc:0.81662\n",
      "[220]\ttrain-auc:0.94339\tval-auc:0.81758\n",
      "[230]\ttrain-auc:0.94478\tval-auc:0.81858\n",
      "[240]\ttrain-auc:0.94619\tval-auc:0.81935\n",
      "[250]\ttrain-auc:0.94737\tval-auc:0.81970\n",
      "[260]\ttrain-auc:0.94866\tval-auc:0.82038\n",
      "[270]\ttrain-auc:0.94987\tval-auc:0.82081\n",
      "[280]\ttrain-auc:0.95096\tval-auc:0.82107\n",
      "[290]\ttrain-auc:0.95240\tval-auc:0.82088\n",
      "[300]\ttrain-auc:0.95401\tval-auc:0.82087\n",
      "[310]\ttrain-auc:0.95527\tval-auc:0.82094\n",
      "[320]\ttrain-auc:0.95643\tval-auc:0.82093\n",
      "[330]\ttrain-auc:0.95740\tval-auc:0.82118\n",
      "[340]\ttrain-auc:0.95838\tval-auc:0.82149\n",
      "[350]\ttrain-auc:0.95923\tval-auc:0.82174\n",
      "[360]\ttrain-auc:0.96010\tval-auc:0.82222\n",
      "[370]\ttrain-auc:0.96089\tval-auc:0.82286\n",
      "[380]\ttrain-auc:0.96166\tval-auc:0.82297\n",
      "[390]\ttrain-auc:0.96243\tval-auc:0.82312\n",
      "[400]\ttrain-auc:0.96312\tval-auc:0.82336\n",
      "[410]\ttrain-auc:0.96383\tval-auc:0.82341\n",
      "[420]\ttrain-auc:0.96448\tval-auc:0.82357\n",
      "[430]\ttrain-auc:0.96517\tval-auc:0.82360\n",
      "[440]\ttrain-auc:0.96597\tval-auc:0.82389\n",
      "[450]\ttrain-auc:0.96676\tval-auc:0.82421\n",
      "[460]\ttrain-auc:0.96759\tval-auc:0.82448\n",
      "[470]\ttrain-auc:0.96826\tval-auc:0.82463\n",
      "[480]\ttrain-auc:0.96890\tval-auc:0.82475\n",
      "[490]\ttrain-auc:0.96954\tval-auc:0.82473\n",
      "[499]\ttrain-auc:0.97001\tval-auc:0.82479\n"
     ]
    }
   ],
   "source": [
    "xgb_params = {\n",
    "    \"eta\": 0.01,\n",
    "    \"max_depth\": 6,\n",
    "    \"min_child_weight\": 1,\n",
    "    \"objective\": \"binary:logistic\",\n",
    "    \"eval_metric\": \"auc\",\n",
    "    \"nthread\": 8,\n",
    "    \"seed\": 1,\n",
    "    \"silent\": 1\n",
    "}\n",
    "\n",
    "model = xgb.train(xgb_params, dtrain, num_boost_round=500, evals=watchlist, verbose_eval=10)"
   ]
  },
  {
   "cell_type": "markdown",
   "id": "996e3a39-7682-4005-af5e-0df93835473a",
   "metadata": {},
   "source": [
    "We see that:\n",
    "\n",
    "- for 0.05, the best AUC is 82.6% after 130 iterations\n",
    "- for 0.01, the best AUC is 82.5% after 500 iterations"
   ]
  },
  {
   "cell_type": "markdown",
   "id": "2e87f0c6-e654-41a8-a0d5-b2b21300b2a2",
   "metadata": {},
   "source": [
    "When eta is 0.05, the performance is similar to 0.1, but it takes 80 more iterations to reach the peak.\n",
    "\n",
    "For eta of 0.01, it grows too slowly, and even after 500 iterations, it hasn’t reached the peak. If we tried it for more iterations, it could potentially get to the same level of AUC as other values. Even if it was the case, it’s not practical: it becomes computationally expensive to evaluate all these trees during prediction time.\n",
    "\n",
    "Thus, we use the value of 0.1 for eta. Next, let’s tune other parameters."
   ]
  },
  {
   "cell_type": "markdown",
   "id": "3cef547f-96df-4ed5-a249-bab844121cb6",
   "metadata": {},
   "source": [
    "The next parameter we tune is max_depth. The default value is 6, so we can try\n",
    "\n",
    "- A lower value; for example, 3\n",
    "- A higher value; for example, 10\n",
    "\n",
    "The outcome should give us an idea if the best value for max_depth is between 3 and 6 or between 6 and 10."
   ]
  },
  {
   "cell_type": "code",
   "execution_count": 98,
   "id": "f6be2cc7-a79e-4f96-a817-b70b5556f9d7",
   "metadata": {},
   "outputs": [
    {
     "name": "stdout",
     "output_type": "stream",
     "text": [
      "[0]\ttrain-auc:0.77984\tval-auc:0.74478\n",
      "[10]\ttrain-auc:0.84360\tval-auc:0.78265\n",
      "[20]\ttrain-auc:0.86704\tval-auc:0.80600\n",
      "[30]\ttrain-auc:0.87991\tval-auc:0.81322\n",
      "[40]\ttrain-auc:0.88763\tval-auc:0.81792\n",
      "[50]\ttrain-auc:0.89458\tval-auc:0.82131\n",
      "[60]\ttrain-auc:0.90192\tval-auc:0.82435\n",
      "[70]\ttrain-auc:0.90661\tval-auc:0.82759\n",
      "[80]\ttrain-auc:0.91098\tval-auc:0.82982\n",
      "[90]\ttrain-auc:0.91480\tval-auc:0.82958\n",
      "[100]\ttrain-auc:0.91824\tval-auc:0.83086\n",
      "[110]\ttrain-auc:0.92114\tval-auc:0.83179\n",
      "[120]\ttrain-auc:0.92412\tval-auc:0.83207\n",
      "[130]\ttrain-auc:0.92619\tval-auc:0.83233\n",
      "[140]\ttrain-auc:0.92850\tval-auc:0.83240\n",
      "[150]\ttrain-auc:0.93120\tval-auc:0.83311\n",
      "[160]\ttrain-auc:0.93289\tval-auc:0.83268\n",
      "[170]\ttrain-auc:0.93475\tval-auc:0.83291\n",
      "[180]\ttrain-auc:0.93710\tval-auc:0.83303\n",
      "[190]\ttrain-auc:0.93853\tval-auc:0.83302\n",
      "[200]\ttrain-auc:0.94026\tval-auc:0.83253\n",
      "[210]\ttrain-auc:0.94193\tval-auc:0.83241\n",
      "[220]\ttrain-auc:0.94383\tval-auc:0.83192\n",
      "[230]\ttrain-auc:0.94585\tval-auc:0.83169\n",
      "[240]\ttrain-auc:0.94718\tval-auc:0.83175\n",
      "[250]\ttrain-auc:0.94804\tval-auc:0.83089\n",
      "[260]\ttrain-auc:0.94963\tval-auc:0.83124\n",
      "[270]\ttrain-auc:0.95120\tval-auc:0.83083\n",
      "[280]\ttrain-auc:0.95299\tval-auc:0.83083\n",
      "[290]\ttrain-auc:0.95377\tval-auc:0.83093\n",
      "[300]\ttrain-auc:0.95535\tval-auc:0.83003\n",
      "[310]\ttrain-auc:0.95661\tval-auc:0.82949\n",
      "[320]\ttrain-auc:0.95775\tval-auc:0.82951\n",
      "[330]\ttrain-auc:0.95875\tval-auc:0.82926\n",
      "[340]\ttrain-auc:0.96007\tval-auc:0.82908\n",
      "[350]\ttrain-auc:0.96102\tval-auc:0.82796\n",
      "[360]\ttrain-auc:0.96236\tval-auc:0.82809\n",
      "[370]\ttrain-auc:0.96353\tval-auc:0.82736\n",
      "[380]\ttrain-auc:0.96444\tval-auc:0.82667\n",
      "[390]\ttrain-auc:0.96535\tval-auc:0.82656\n",
      "[400]\ttrain-auc:0.96655\tval-auc:0.82502\n",
      "[410]\ttrain-auc:0.96753\tval-auc:0.82473\n",
      "[420]\ttrain-auc:0.96865\tval-auc:0.82436\n",
      "[430]\ttrain-auc:0.96972\tval-auc:0.82394\n",
      "[440]\ttrain-auc:0.97062\tval-auc:0.82332\n",
      "[450]\ttrain-auc:0.97118\tval-auc:0.82317\n",
      "[460]\ttrain-auc:0.97209\tval-auc:0.82259\n",
      "[470]\ttrain-auc:0.97282\tval-auc:0.82177\n",
      "[480]\ttrain-auc:0.97325\tval-auc:0.82127\n",
      "[490]\ttrain-auc:0.97400\tval-auc:0.82140\n",
      "[499]\ttrain-auc:0.97444\tval-auc:0.82112\n"
     ]
    }
   ],
   "source": [
    "xgb_params = {\n",
    "    \"eta\": 0.1,\n",
    "    \"max_depth\": 3,\n",
    "    \"min_child_weight\": 1,\n",
    "    \"objective\": \"binary:logistic\",\n",
    "    \"eval_metric\": \"auc\",\n",
    "    \"nthread\": 8,\n",
    "    \"seed\": 1,\n",
    "    \"silent\": 1\n",
    "}\n",
    "\n",
    "model = xgb.train(xgb_params, dtrain, num_boost_round=500, evals=watchlist, verbose_eval=10)"
   ]
  },
  {
   "cell_type": "markdown",
   "id": "da56aeeb-63a6-4a25-83b5-db842d91606b",
   "metadata": {},
   "source": [
    "The best AUC we get with it is 83.3%."
   ]
  },
  {
   "cell_type": "code",
   "execution_count": 99,
   "id": "1ce86601-6cf3-429d-945e-2f905108caba",
   "metadata": {},
   "outputs": [
    {
     "name": "stdout",
     "output_type": "stream",
     "text": [
      "[0]\ttrain-auc:0.93058\tval-auc:0.77472\n",
      "[10]\ttrain-auc:0.98032\tval-auc:0.79235\n",
      "[20]\ttrain-auc:0.99385\tval-auc:0.79908\n",
      "[30]\ttrain-auc:0.99779\tval-auc:0.80082\n",
      "[40]\ttrain-auc:0.99939\tval-auc:0.80397\n",
      "[50]\ttrain-auc:0.99977\tval-auc:0.80647\n",
      "[60]\ttrain-auc:0.99989\tval-auc:0.80822\n",
      "[70]\ttrain-auc:0.99996\tval-auc:0.80753\n",
      "[80]\ttrain-auc:0.99999\tval-auc:0.80803\n",
      "[90]\ttrain-auc:1.00000\tval-auc:0.80857\n",
      "[100]\ttrain-auc:1.00000\tval-auc:0.80801\n",
      "[110]\ttrain-auc:1.00000\tval-auc:0.80671\n",
      "[120]\ttrain-auc:1.00000\tval-auc:0.80733\n",
      "[130]\ttrain-auc:1.00000\tval-auc:0.80667\n",
      "[140]\ttrain-auc:1.00000\tval-auc:0.80621\n",
      "[150]\ttrain-auc:1.00000\tval-auc:0.80517\n",
      "[160]\ttrain-auc:1.00000\tval-auc:0.80514\n",
      "[170]\ttrain-auc:1.00000\tval-auc:0.80455\n",
      "[180]\ttrain-auc:1.00000\tval-auc:0.80442\n",
      "[190]\ttrain-auc:1.00000\tval-auc:0.80432\n",
      "[200]\ttrain-auc:1.00000\tval-auc:0.80476\n",
      "[210]\ttrain-auc:1.00000\tval-auc:0.80502\n",
      "[220]\ttrain-auc:1.00000\tval-auc:0.80494\n",
      "[230]\ttrain-auc:1.00000\tval-auc:0.80500\n",
      "[240]\ttrain-auc:1.00000\tval-auc:0.80465\n",
      "[250]\ttrain-auc:1.00000\tval-auc:0.80537\n",
      "[260]\ttrain-auc:1.00000\tval-auc:0.80523\n",
      "[270]\ttrain-auc:1.00000\tval-auc:0.80437\n",
      "[280]\ttrain-auc:1.00000\tval-auc:0.80419\n",
      "[290]\ttrain-auc:1.00000\tval-auc:0.80446\n",
      "[300]\ttrain-auc:1.00000\tval-auc:0.80449\n",
      "[310]\ttrain-auc:1.00000\tval-auc:0.80426\n",
      "[320]\ttrain-auc:1.00000\tval-auc:0.80395\n",
      "[330]\ttrain-auc:1.00000\tval-auc:0.80422\n",
      "[340]\ttrain-auc:1.00000\tval-auc:0.80380\n",
      "[350]\ttrain-auc:1.00000\tval-auc:0.80434\n",
      "[360]\ttrain-auc:1.00000\tval-auc:0.80446\n",
      "[370]\ttrain-auc:1.00000\tval-auc:0.80430\n",
      "[380]\ttrain-auc:1.00000\tval-auc:0.80428\n",
      "[390]\ttrain-auc:1.00000\tval-auc:0.80414\n",
      "[400]\ttrain-auc:1.00000\tval-auc:0.80394\n",
      "[410]\ttrain-auc:1.00000\tval-auc:0.80385\n",
      "[420]\ttrain-auc:1.00000\tval-auc:0.80380\n",
      "[430]\ttrain-auc:1.00000\tval-auc:0.80411\n",
      "[440]\ttrain-auc:1.00000\tval-auc:0.80397\n",
      "[450]\ttrain-auc:1.00000\tval-auc:0.80342\n",
      "[460]\ttrain-auc:1.00000\tval-auc:0.80349\n",
      "[470]\ttrain-auc:1.00000\tval-auc:0.80356\n",
      "[480]\ttrain-auc:1.00000\tval-auc:0.80338\n",
      "[490]\ttrain-auc:1.00000\tval-auc:0.80365\n",
      "[499]\ttrain-auc:1.00000\tval-auc:0.80377\n"
     ]
    }
   ],
   "source": [
    "xgb_params = {\n",
    "    \"eta\": 0.1,\n",
    "    \"max_depth\": 10,\n",
    "    \"min_child_weight\": 1,\n",
    "    \"objective\": \"binary:logistic\",\n",
    "    \"eval_metric\": \"auc\",\n",
    "    \"nthread\": 8,\n",
    "    \"seed\": 1,\n",
    "    \"silent\": 1\n",
    "}\n",
    "\n",
    "model = xgb.train(xgb_params, dtrain, num_boost_round=500, evals=watchlist, verbose_eval=10)"
   ]
  },
  {
   "cell_type": "markdown",
   "id": "7cbbbb73-63e3-4ae8-9ae4-389c4d693274",
   "metadata": {},
   "source": [
    "When max_depth is 10, the best AUC value is 80.9%"
   ]
  },
  {
   "cell_type": "markdown",
   "id": "75044b70-51cf-4662-b15e-2b840d5ae643",
   "metadata": {},
   "source": [
    "This means that the optimal parameter of max_depth should be between 3 and 6."
   ]
  },
  {
   "cell_type": "code",
   "execution_count": 100,
   "id": "20fe9ea5-030e-48cf-b5b9-d11cbe22b13f",
   "metadata": {},
   "outputs": [
    {
     "name": "stdout",
     "output_type": "stream",
     "text": [
      "[0]\ttrain-auc:0.81479\tval-auc:0.74083\n",
      "[10]\ttrain-auc:0.86215\tval-auc:0.79606\n",
      "[20]\ttrain-auc:0.88759\tval-auc:0.81257\n",
      "[30]\ttrain-auc:0.90331\tval-auc:0.81966\n",
      "[40]\ttrain-auc:0.91223\tval-auc:0.82194\n",
      "[50]\ttrain-auc:0.92000\tval-auc:0.82474\n",
      "[60]\ttrain-auc:0.92706\tval-auc:0.82601\n",
      "[70]\ttrain-auc:0.93255\tval-auc:0.82725\n",
      "[80]\ttrain-auc:0.93781\tval-auc:0.82790\n",
      "[90]\ttrain-auc:0.94188\tval-auc:0.82741\n",
      "[100]\ttrain-auc:0.94643\tval-auc:0.82803\n",
      "[110]\ttrain-auc:0.95033\tval-auc:0.82746\n",
      "[120]\ttrain-auc:0.95354\tval-auc:0.82661\n",
      "[130]\ttrain-auc:0.95707\tval-auc:0.82745\n",
      "[140]\ttrain-auc:0.95933\tval-auc:0.82744\n",
      "[150]\ttrain-auc:0.96133\tval-auc:0.82655\n",
      "[160]\ttrain-auc:0.96372\tval-auc:0.82489\n",
      "[170]\ttrain-auc:0.96630\tval-auc:0.82403\n",
      "[180]\ttrain-auc:0.96843\tval-auc:0.82410\n",
      "[190]\ttrain-auc:0.96988\tval-auc:0.82372\n",
      "[200]\ttrain-auc:0.97155\tval-auc:0.82374\n",
      "[210]\ttrain-auc:0.97361\tval-auc:0.82388\n",
      "[220]\ttrain-auc:0.97581\tval-auc:0.82330\n",
      "[230]\ttrain-auc:0.97728\tval-auc:0.82315\n",
      "[240]\ttrain-auc:0.97857\tval-auc:0.82237\n",
      "[250]\ttrain-auc:0.97977\tval-auc:0.82213\n",
      "[260]\ttrain-auc:0.98129\tval-auc:0.82148\n",
      "[270]\ttrain-auc:0.98300\tval-auc:0.81970\n",
      "[280]\ttrain-auc:0.98375\tval-auc:0.81932\n",
      "[290]\ttrain-auc:0.98482\tval-auc:0.81889\n",
      "[300]\ttrain-auc:0.98579\tval-auc:0.81838\n",
      "[310]\ttrain-auc:0.98645\tval-auc:0.81866\n",
      "[320]\ttrain-auc:0.98775\tval-auc:0.81791\n",
      "[330]\ttrain-auc:0.98893\tval-auc:0.81678\n",
      "[340]\ttrain-auc:0.98949\tval-auc:0.81645\n",
      "[350]\ttrain-auc:0.99052\tval-auc:0.81613\n",
      "[360]\ttrain-auc:0.99129\tval-auc:0.81519\n",
      "[370]\ttrain-auc:0.99201\tval-auc:0.81429\n",
      "[380]\ttrain-auc:0.99232\tval-auc:0.81339\n",
      "[390]\ttrain-auc:0.99270\tval-auc:0.81223\n",
      "[400]\ttrain-auc:0.99318\tval-auc:0.81198\n",
      "[410]\ttrain-auc:0.99398\tval-auc:0.81114\n",
      "[420]\ttrain-auc:0.99438\tval-auc:0.81071\n",
      "[430]\ttrain-auc:0.99474\tval-auc:0.81114\n",
      "[440]\ttrain-auc:0.99507\tval-auc:0.81071\n",
      "[450]\ttrain-auc:0.99547\tval-auc:0.80985\n",
      "[460]\ttrain-auc:0.99567\tval-auc:0.80994\n",
      "[470]\ttrain-auc:0.99579\tval-auc:0.80917\n",
      "[480]\ttrain-auc:0.99624\tval-auc:0.80851\n",
      "[490]\ttrain-auc:0.99654\tval-auc:0.80778\n",
      "[499]\ttrain-auc:0.99671\tval-auc:0.80686\n"
     ]
    }
   ],
   "source": [
    "xgb_params = {\n",
    "    \"eta\": 0.1,\n",
    "    \"max_depth\": 4,\n",
    "    \"min_child_weight\": 1,\n",
    "    \"objective\": \"binary:logistic\",\n",
    "    \"eval_metric\": \"auc\",\n",
    "    \"nthread\": 8,\n",
    "    \"seed\": 1,\n",
    "    \"silent\": 1\n",
    "}\n",
    "\n",
    "model = xgb.train(xgb_params, dtrain, num_boost_round=500, evals=watchlist, verbose_eval=10)"
   ]
  },
  {
   "cell_type": "markdown",
   "id": "13102507-3768-4547-8483-4aad35355cb1",
   "metadata": {},
   "source": [
    "When we try 4, however, we see that the best AUC is 82.8%, which is slightly worse than the AUC we got with the depth of 3."
   ]
  },
  {
   "cell_type": "markdown",
   "id": "9f9d095c-0441-44f1-9930-55758d2fcc31",
   "metadata": {},
   "source": [
    "The next parameter we tune is min_child_weight. It’s the same as min_leaf_size in decision trees from Scikit-learn: it controls the minimal number of observations a tree can have in a leaf."
   ]
  },
  {
   "cell_type": "markdown",
   "id": "0fc908e2-d119-4ba0-a06b-716d4dfd1a0a",
   "metadata": {},
   "source": [
    "Let’s try a range of values and see which one works best. In addition to the default value (1), we can try 10 and 30."
   ]
  },
  {
   "cell_type": "code",
   "execution_count": 101,
   "id": "f2296278-0836-4334-a044-a78d19d5be4f",
   "metadata": {},
   "outputs": [
    {
     "name": "stdout",
     "output_type": "stream",
     "text": [
      "[0]\ttrain-auc:0.77984\tval-auc:0.74478\n",
      "[10]\ttrain-auc:0.84395\tval-auc:0.78407\n",
      "[20]\ttrain-auc:0.86519\tval-auc:0.80736\n",
      "[30]\ttrain-auc:0.87698\tval-auc:0.81511\n",
      "[40]\ttrain-auc:0.88277\tval-auc:0.81814\n",
      "[50]\ttrain-auc:0.88703\tval-auc:0.82155\n",
      "[60]\ttrain-auc:0.89199\tval-auc:0.82411\n",
      "[70]\ttrain-auc:0.89600\tval-auc:0.82601\n",
      "[80]\ttrain-auc:0.89901\tval-auc:0.82772\n",
      "[90]\ttrain-auc:0.90159\tval-auc:0.82846\n",
      "[100]\ttrain-auc:0.90430\tval-auc:0.82883\n",
      "[110]\ttrain-auc:0.90687\tval-auc:0.83038\n",
      "[120]\ttrain-auc:0.90898\tval-auc:0.83107\n",
      "[130]\ttrain-auc:0.91133\tval-auc:0.83173\n",
      "[140]\ttrain-auc:0.91357\tval-auc:0.83133\n",
      "[150]\ttrain-auc:0.91585\tval-auc:0.83148\n",
      "[160]\ttrain-auc:0.91787\tval-auc:0.83070\n",
      "[170]\ttrain-auc:0.91935\tval-auc:0.83136\n",
      "[180]\ttrain-auc:0.92123\tval-auc:0.83159\n",
      "[190]\ttrain-auc:0.92264\tval-auc:0.83133\n",
      "[200]\ttrain-auc:0.92432\tval-auc:0.83082\n",
      "[210]\ttrain-auc:0.92594\tval-auc:0.83050\n",
      "[220]\ttrain-auc:0.92748\tval-auc:0.82978\n",
      "[230]\ttrain-auc:0.92867\tval-auc:0.82961\n",
      "[240]\ttrain-auc:0.93019\tval-auc:0.82950\n",
      "[250]\ttrain-auc:0.93094\tval-auc:0.82925\n",
      "[260]\ttrain-auc:0.93222\tval-auc:0.82837\n",
      "[270]\ttrain-auc:0.93325\tval-auc:0.82805\n",
      "[280]\ttrain-auc:0.93448\tval-auc:0.82731\n",
      "[290]\ttrain-auc:0.93524\tval-auc:0.82740\n",
      "[300]\ttrain-auc:0.93623\tval-auc:0.82737\n",
      "[310]\ttrain-auc:0.93738\tval-auc:0.82725\n",
      "[320]\ttrain-auc:0.93844\tval-auc:0.82681\n",
      "[330]\ttrain-auc:0.93912\tval-auc:0.82665\n",
      "[340]\ttrain-auc:0.93990\tval-auc:0.82686\n",
      "[350]\ttrain-auc:0.94107\tval-auc:0.82662\n",
      "[360]\ttrain-auc:0.94247\tval-auc:0.82636\n",
      "[370]\ttrain-auc:0.94349\tval-auc:0.82585\n",
      "[380]\ttrain-auc:0.94436\tval-auc:0.82526\n",
      "[390]\ttrain-auc:0.94577\tval-auc:0.82440\n",
      "[400]\ttrain-auc:0.94654\tval-auc:0.82424\n",
      "[410]\ttrain-auc:0.94758\tval-auc:0.82373\n",
      "[420]\ttrain-auc:0.94863\tval-auc:0.82350\n",
      "[430]\ttrain-auc:0.94957\tval-auc:0.82262\n",
      "[440]\ttrain-auc:0.95046\tval-auc:0.82248\n",
      "[450]\ttrain-auc:0.95130\tval-auc:0.82219\n",
      "[460]\ttrain-auc:0.95194\tval-auc:0.82225\n",
      "[470]\ttrain-auc:0.95263\tval-auc:0.82185\n",
      "[480]\ttrain-auc:0.95359\tval-auc:0.82139\n",
      "[490]\ttrain-auc:0.95423\tval-auc:0.82114\n",
      "[499]\ttrain-auc:0.95492\tval-auc:0.82162\n"
     ]
    }
   ],
   "source": [
    "xgb_params = {\n",
    "    \"eta\": 0.1,\n",
    "    \"max_depth\": 3,\n",
    "    \"min_child_weight\": 10,\n",
    "    \"objective\": \"binary:logistic\",\n",
    "    \"eval_metric\": \"auc\",\n",
    "    \"nthread\": 8,\n",
    "    \"seed\": 1,\n",
    "    \"silent\": 1\n",
    "}\n",
    "\n",
    "model = xgb.train(xgb_params, dtrain, num_boost_round=500, evals=watchlist, verbose_eval=10)"
   ]
  },
  {
   "cell_type": "code",
   "execution_count": 103,
   "id": "b51a2e7c-203b-4163-b05c-ecd91cc08ecd",
   "metadata": {},
   "outputs": [
    {
     "name": "stdout",
     "output_type": "stream",
     "text": [
      "[0]\ttrain-auc:0.77397\tval-auc:0.74369\n",
      "[10]\ttrain-auc:0.84216\tval-auc:0.78798\n",
      "[20]\ttrain-auc:0.85753\tval-auc:0.80541\n",
      "[30]\ttrain-auc:0.87091\tval-auc:0.81602\n",
      "[40]\ttrain-auc:0.87672\tval-auc:0.82206\n",
      "[50]\ttrain-auc:0.88067\tval-auc:0.82454\n",
      "[60]\ttrain-auc:0.88371\tval-auc:0.82666\n",
      "[70]\ttrain-auc:0.88592\tval-auc:0.82910\n",
      "[80]\ttrain-auc:0.88848\tval-auc:0.82997\n",
      "[90]\ttrain-auc:0.89016\tval-auc:0.83061\n",
      "[100]\ttrain-auc:0.89198\tval-auc:0.83175\n",
      "[110]\ttrain-auc:0.89344\tval-auc:0.83226\n",
      "[120]\ttrain-auc:0.89498\tval-auc:0.83276\n",
      "[130]\ttrain-auc:0.89639\tval-auc:0.83365\n",
      "[140]\ttrain-auc:0.89797\tval-auc:0.83406\n",
      "[150]\ttrain-auc:0.89918\tval-auc:0.83386\n",
      "[160]\ttrain-auc:0.90024\tval-auc:0.83356\n",
      "[170]\ttrain-auc:0.90127\tval-auc:0.83399\n",
      "[180]\ttrain-auc:0.90254\tval-auc:0.83397\n",
      "[190]\ttrain-auc:0.90374\tval-auc:0.83441\n",
      "[200]\ttrain-auc:0.90487\tval-auc:0.83468\n",
      "[210]\ttrain-auc:0.90590\tval-auc:0.83411\n",
      "[220]\ttrain-auc:0.90731\tval-auc:0.83317\n",
      "[230]\ttrain-auc:0.90829\tval-auc:0.83324\n",
      "[240]\ttrain-auc:0.90972\tval-auc:0.83308\n",
      "[250]\ttrain-auc:0.91067\tval-auc:0.83299\n",
      "[260]\ttrain-auc:0.91167\tval-auc:0.83293\n",
      "[270]\ttrain-auc:0.91245\tval-auc:0.83342\n",
      "[280]\ttrain-auc:0.91356\tval-auc:0.83332\n",
      "[290]\ttrain-auc:0.91421\tval-auc:0.83337\n",
      "[300]\ttrain-auc:0.91527\tval-auc:0.83311\n",
      "[310]\ttrain-auc:0.91607\tval-auc:0.83309\n",
      "[320]\ttrain-auc:0.91687\tval-auc:0.83283\n",
      "[330]\ttrain-auc:0.91775\tval-auc:0.83304\n",
      "[340]\ttrain-auc:0.91856\tval-auc:0.83304\n",
      "[350]\ttrain-auc:0.91912\tval-auc:0.83280\n",
      "[360]\ttrain-auc:0.91983\tval-auc:0.83286\n",
      "[370]\ttrain-auc:0.92065\tval-auc:0.83295\n",
      "[380]\ttrain-auc:0.92135\tval-auc:0.83266\n",
      "[390]\ttrain-auc:0.92198\tval-auc:0.83235\n",
      "[400]\ttrain-auc:0.92269\tval-auc:0.83250\n",
      "[410]\ttrain-auc:0.92331\tval-auc:0.83232\n",
      "[420]\ttrain-auc:0.92390\tval-auc:0.83246\n",
      "[430]\ttrain-auc:0.92451\tval-auc:0.83222\n",
      "[440]\ttrain-auc:0.92498\tval-auc:0.83218\n",
      "[450]\ttrain-auc:0.92556\tval-auc:0.83169\n",
      "[460]\ttrain-auc:0.92606\tval-auc:0.83153\n",
      "[470]\ttrain-auc:0.92656\tval-auc:0.83123\n",
      "[480]\ttrain-auc:0.92708\tval-auc:0.83119\n",
      "[490]\ttrain-auc:0.92768\tval-auc:0.83091\n",
      "[499]\ttrain-auc:0.92818\tval-auc:0.83079\n"
     ]
    }
   ],
   "source": [
    "xgb_params = {\n",
    "    \"eta\": 0.1,\n",
    "    \"max_depth\": 3,\n",
    "    \"min_child_weight\": 30,\n",
    "    \"objective\": \"binary:logistic\",\n",
    "    \"eval_metric\": \"auc\",\n",
    "    \"nthread\": 8,\n",
    "    \"seed\": 1,\n",
    "    \"silent\": 1\n",
    "}\n",
    "\n",
    "model = xgb.train(xgb_params, dtrain, num_boost_round=500, evals=watchlist, verbose_eval=10)"
   ]
  },
  {
   "cell_type": "markdown",
   "id": "24c482ce-144d-430b-ba52-01f9f4a1ed0d",
   "metadata": {},
   "source": [
    "We see that:\n",
    "\n",
    "- For min_child_weight=1, AUC is 83.3%.\n",
    "- For min_child_weight=10, AUC is 83.1%.\n",
    "- For min_child_weight=30, AUC is 83.5%.\n",
    "\n",
    "The difference between these options is not significant, so we’ll leave the default value."
   ]
  },
  {
   "cell_type": "markdown",
   "id": "ee3ae810-c0ab-4794-bfb1-9977d7fe8a31",
   "metadata": {},
   "source": [
    "The parameters for our final model are:"
   ]
  },
  {
   "cell_type": "code",
   "execution_count": 105,
   "id": "6ab44cfa-7aca-4b32-b2ad-e3b5844e1d15",
   "metadata": {},
   "outputs": [
    {
     "name": "stdout",
     "output_type": "stream",
     "text": [
      "[0]\ttrain-auc:0.77984\tval-auc:0.74478\n",
      "[10]\ttrain-auc:0.84360\tval-auc:0.78265\n",
      "[20]\ttrain-auc:0.86704\tval-auc:0.80600\n",
      "[30]\ttrain-auc:0.87991\tval-auc:0.81322\n",
      "[40]\ttrain-auc:0.88763\tval-auc:0.81792\n",
      "[50]\ttrain-auc:0.89458\tval-auc:0.82131\n",
      "[60]\ttrain-auc:0.90192\tval-auc:0.82435\n",
      "[70]\ttrain-auc:0.90661\tval-auc:0.82759\n",
      "[80]\ttrain-auc:0.91098\tval-auc:0.82982\n",
      "[90]\ttrain-auc:0.91480\tval-auc:0.82958\n",
      "[100]\ttrain-auc:0.91824\tval-auc:0.83086\n",
      "[110]\ttrain-auc:0.92114\tval-auc:0.83179\n",
      "[120]\ttrain-auc:0.92412\tval-auc:0.83207\n",
      "[130]\ttrain-auc:0.92619\tval-auc:0.83233\n",
      "[140]\ttrain-auc:0.92850\tval-auc:0.83240\n",
      "[150]\ttrain-auc:0.93120\tval-auc:0.83311\n",
      "[160]\ttrain-auc:0.93289\tval-auc:0.83268\n",
      "[170]\ttrain-auc:0.93475\tval-auc:0.83291\n",
      "[180]\ttrain-auc:0.93710\tval-auc:0.83303\n",
      "[190]\ttrain-auc:0.93853\tval-auc:0.83302\n",
      "[200]\ttrain-auc:0.94026\tval-auc:0.83253\n",
      "[210]\ttrain-auc:0.94193\tval-auc:0.83241\n",
      "[220]\ttrain-auc:0.94383\tval-auc:0.83192\n",
      "[230]\ttrain-auc:0.94585\tval-auc:0.83169\n",
      "[240]\ttrain-auc:0.94718\tval-auc:0.83175\n",
      "[250]\ttrain-auc:0.94804\tval-auc:0.83089\n",
      "[260]\ttrain-auc:0.94963\tval-auc:0.83124\n",
      "[270]\ttrain-auc:0.95120\tval-auc:0.83083\n",
      "[280]\ttrain-auc:0.95299\tval-auc:0.83083\n",
      "[290]\ttrain-auc:0.95377\tval-auc:0.83093\n",
      "[300]\ttrain-auc:0.95535\tval-auc:0.83003\n",
      "[310]\ttrain-auc:0.95661\tval-auc:0.82949\n",
      "[320]\ttrain-auc:0.95775\tval-auc:0.82951\n",
      "[330]\ttrain-auc:0.95875\tval-auc:0.82926\n",
      "[340]\ttrain-auc:0.96007\tval-auc:0.82908\n",
      "[350]\ttrain-auc:0.96102\tval-auc:0.82796\n",
      "[360]\ttrain-auc:0.96236\tval-auc:0.82809\n",
      "[370]\ttrain-auc:0.96353\tval-auc:0.82736\n",
      "[380]\ttrain-auc:0.96444\tval-auc:0.82667\n",
      "[390]\ttrain-auc:0.96535\tval-auc:0.82656\n",
      "[400]\ttrain-auc:0.96655\tval-auc:0.82502\n",
      "[410]\ttrain-auc:0.96753\tval-auc:0.82473\n",
      "[420]\ttrain-auc:0.96865\tval-auc:0.82436\n",
      "[430]\ttrain-auc:0.96972\tval-auc:0.82394\n",
      "[440]\ttrain-auc:0.97062\tval-auc:0.82332\n",
      "[450]\ttrain-auc:0.97118\tval-auc:0.82317\n",
      "[460]\ttrain-auc:0.97209\tval-auc:0.82259\n",
      "[470]\ttrain-auc:0.97282\tval-auc:0.82177\n",
      "[480]\ttrain-auc:0.97325\tval-auc:0.82127\n",
      "[490]\ttrain-auc:0.97400\tval-auc:0.82140\n",
      "[499]\ttrain-auc:0.97444\tval-auc:0.82112\n"
     ]
    }
   ],
   "source": [
    "xgb_params = {\n",
    "    \"eta\": 0.1,\n",
    "    \"max_depth\": 3,\n",
    "    \"min_child_weight\": 1,\n",
    "    \"objective\": \"binary:logistic\",\n",
    "    \"eval_metric\": \"auc\",\n",
    "    \"nthread\": 8,\n",
    "    \"seed\": 1,\n",
    "    \"silent\": 1\n",
    "}\n",
    "\n",
    "model = xgb.train(xgb_params, dtrain, num_boost_round=500, evals=watchlist, verbose_eval=10)"
   ]
  },
  {
   "cell_type": "markdown",
   "id": "fd3909ee-ea6a-4ba2-9221-dceaf8695eaa",
   "metadata": {},
   "source": [
    "We need to do one last step before we can finish the model: we need to select the optimal number of trees. It’s quite simple: look at the iteration when the validation score peaked and use this number. For this case, it's 150 trees."
   ]
  },
  {
   "cell_type": "markdown",
   "id": "a07f79e4-47f9-4c13-99ef-3753dc63439c",
   "metadata": {},
   "source": [
    "The best the random forest model was able to get was 82% AUC, whereas the best the gradient boosting model could get was over 1% more. This is the best model, so let’s use it as our final model—and we should use it for scoring loan applications."
   ]
  },
  {
   "cell_type": "markdown",
   "id": "997ec178-0884-4258-b0d3-15f112f5ecd9",
   "metadata": {},
   "source": [
    "### 6.4.4. Testing the final model."
   ]
  },
  {
   "cell_type": "markdown",
   "id": "73ed9043-3f8e-4950-9899-e92f26455b03",
   "metadata": {},
   "source": [
    "We’re almost ready to use it for risk scoring. We still need to do two things before we can use it:\n",
    "\n",
    "- Retrain the final model on both train and validation datasets combined. We no longer need the validation dataset, so we can use more data for training, which will make the model slightly better.\n",
    "- Test the model on the test set. This is the part of data we kept aside from the beginning. Now we use it to make sure the model didn’t overfit and performs well on completely unseen data."
   ]
  },
  {
   "cell_type": "markdown",
   "id": "8eabbcfb-731e-4568-b9bb-fcefba851942",
   "metadata": {},
   "source": [
    "The next steps are:\n",
    "\n",
    "- Apply the same preprocessing to df_full_train and df_test as we did to df_train and df_val. As a result, we get the feature matrices X_train and X_test as well as our target variables y_train and y_test.\n",
    "- Train a model on the combined dataset with the parameters we selected previously.\n",
    "- Apply the model to the test data to get the test predictions.\n",
    "- Verify that the model performs well and doesn’t overfit."
   ]
  },
  {
   "cell_type": "markdown",
   "id": "0c20b25a-8d45-4286-b43b-9bfe839f7037",
   "metadata": {},
   "source": [
    "Let’s do it. First, create the target variable:"
   ]
  },
  {
   "cell_type": "code",
   "execution_count": 106,
   "id": "09351779-5e07-4bd1-8d5f-dfe7299d650e",
   "metadata": {},
   "outputs": [],
   "source": [
    "y_train = (df_train_full[\"status\"] == \"default\").values\n",
    "y_test = (df_test[\"status\"] == \"default\").values"
   ]
  },
  {
   "cell_type": "markdown",
   "id": "7d3b424a-b7e4-4594-a017-1ade36de8b81",
   "metadata": {},
   "source": [
    "Because we use the entire DataFrame for creating the feature matrix, we need to remote the target variable:"
   ]
  },
  {
   "cell_type": "code",
   "execution_count": 107,
   "id": "c9544eba-40f5-40ef-b8d1-1bb9cc336e97",
   "metadata": {},
   "outputs": [],
   "source": [
    "del df_train_full[\"status\"]\n",
    "del df_test[\"status\"]"
   ]
  },
  {
   "cell_type": "markdown",
   "id": "6ede8adb-5eaa-495a-9f44-5769a87b6231",
   "metadata": {},
   "source": [
    "Next, we convert DataFrames into lists of dictionaries and then use one-hot encoding to get the feature matrices:"
   ]
  },
  {
   "cell_type": "code",
   "execution_count": 108,
   "id": "a23e124f-344f-4376-a238-b21bcdc5b2bd",
   "metadata": {},
   "outputs": [],
   "source": [
    "dict_train = df_train_full.fillna(0).to_dict(orient=\"records\")\n",
    "dict_test = df_test.fillna(0).to_dict(orient=\"records\")\n",
    " \n",
    "dv = DictVectorizer(sparse=False)\n",
    "X_train = dv.fit_transform(dict_train)\n",
    "X_test = dv.transform(dict_test)"
   ]
  },
  {
   "cell_type": "markdown",
   "id": "49b0c3b1-c301-448a-9563-d6b21bdd973c",
   "metadata": {},
   "source": [
    "Finally, we train the XGBoost model using this data and the optimal parameters we determined previously:"
   ]
  },
  {
   "cell_type": "code",
   "execution_count": 109,
   "id": "7d8e5d2f-8e87-4eca-a2ca-28fbf153168a",
   "metadata": {},
   "outputs": [],
   "source": [
    "dtrain = xgb.DMatrix(X_train, label=y_train, feature_names=dv.feature_names_)\n",
    "dtest = xgb.DMatrix(X_test, label=y_test, feature_names=dv.feature_names_)\n",
    "\n",
    "xgb_params = {\n",
    "    \"eta\": 0.1,\n",
    "    \"max_depth\": 3,\n",
    "    \"min_child_weight\": 1,\n",
    "    \"objective\": \"binary:logistic\",\n",
    "    \"eval_metric\": \"auc\",\n",
    "    \"nthread\": 8,\n",
    "    \"seed\": 1,\n",
    "    \"silent\": 1\n",
    "}\n",
    "\n",
    "num_trees = 150\n",
    "\n",
    "model = xgb.train(xgb_params, dtrain, num_boost_round=num_trees)"
   ]
  },
  {
   "cell_type": "markdown",
   "id": "c5e1d509-a038-4828-8aff-b860cbf9ee0e",
   "metadata": {},
   "source": [
    "Then evaluate its performance on the test set:"
   ]
  },
  {
   "cell_type": "code",
   "execution_count": 110,
   "id": "6145e3cb-3091-4331-be90-3925951fc7fb",
   "metadata": {},
   "outputs": [
    {
     "data": {
      "text/plain": [
       "np.float64(0.8358340257074434)"
      ]
     },
     "execution_count": 110,
     "metadata": {},
     "output_type": "execute_result"
    }
   ],
   "source": [
    "y_pred_xgb = model.predict(dtest)\n",
    "roc_auc_score(y_test, y_pred_xgb)"
   ]
  },
  {
   "cell_type": "markdown",
   "id": "964bef8b-f45a-4ae4-b972-8dd0dced8b9f",
   "metadata": {},
   "source": [
    "The output is 83.6%, which is comparable to the performance on the validation set. It means that our model doesn’t overfit and can work well with customers it hasn’t seen."
   ]
  },
  {
   "cell_type": "markdown",
   "id": "9e3c1ef7-c474-4ce2-8b90-253d9525e7f8",
   "metadata": {},
   "source": [
    "Exercises:\n",
    "\n",
    "- 6.1 == a\n",
    "- 6.2 == b\n",
    "- 6.3 == c\n",
    "- 6.4 == a"
   ]
  }
 ],
 "metadata": {
  "kernelspec": {
   "display_name": "Python 3 (ipykernel)",
   "language": "python",
   "name": "python3"
  },
  "language_info": {
   "codemirror_mode": {
    "name": "ipython",
    "version": 3
   },
   "file_extension": ".py",
   "mimetype": "text/x-python",
   "name": "python",
   "nbconvert_exporter": "python",
   "pygments_lexer": "ipython3",
   "version": "3.10.15"
  }
 },
 "nbformat": 4,
 "nbformat_minor": 5
}
