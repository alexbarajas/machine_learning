{
 "cells": [
  {
   "cell_type": "markdown",
   "id": "d7078d66-8af1-4f27-ae36-1685d6e724c4",
   "metadata": {},
   "source": [
    "# Evaluating the churn prediction project"
   ]
  },
  {
   "cell_type": "markdown",
   "id": "53fe9674-1a08-4932-9ddb-754cc65af93e",
   "metadata": {},
   "source": [
    "# 4. Evaluation metrics for classification"
   ]
  },
  {
   "cell_type": "markdown",
   "id": "7c91bc73-df5f-485f-abed-825881b7b2db",
   "metadata": {},
   "source": [
    "In the last chapter we made a model to predict whether customers will churn, and we concluded that it had 80% accurary. Here, we will see if 80% accurary is good enough, and discuss other ways of evaluating a binaru classification model: the confusion table, precision and recall, the ROC curve, and AUC."
   ]
  },
  {
   "cell_type": "markdown",
   "id": "e0c6fe43-53f1-459c-8e58-1aa827fc8077",
   "metadata": {},
   "source": [
    "Don’t worry if you don’t immediately understand all the details of the different evaluation metrics: it requires time and practice. Feel free to come back to this chapter to revisit the finer points."
   ]
  },
  {
   "cell_type": "markdown",
   "id": "0566d742-50bb-4fc9-9359-858fe6f626b8",
   "metadata": {},
   "source": [
    "Let's bring in the model from last chapter so we have the data for this chapter."
   ]
  },
  {
   "cell_type": "code",
   "execution_count": 200,
   "id": "d959595b-8ecd-4283-82b2-f1499bc54497",
   "metadata": {},
   "outputs": [],
   "source": [
    "import pandas as pd\n",
    "import numpy as np\n",
    "\n",
    "import seaborn as sns\n",
    "from matplotlib import pyplot as plt\n",
    "%matplotlib inline"
   ]
  },
  {
   "cell_type": "code",
   "execution_count": 201,
   "id": "85d361fe-1100-4773-9609-b34960b4c3f7",
   "metadata": {},
   "outputs": [],
   "source": [
    "from sklearn.model_selection import train_test_split\n",
    "from sklearn.feature_extraction import DictVectorizer\n",
    "from sklearn.linear_model import LogisticRegression"
   ]
  },
  {
   "cell_type": "code",
   "execution_count": 202,
   "id": "bb57a351-6107-45ea-9b80-8429431f9f96",
   "metadata": {},
   "outputs": [],
   "source": [
    "df = pd.read_csv(\"../chapter3_machine_learning_for_classification/Telco-Customer-Churn.csv\")\n",
    "\n",
    "df[\"TotalCharges\"] = pd.to_numeric(df[\"TotalCharges\"], errors=\"coerce\")\n",
    "df[\"TotalCharges\"] = df[\"TotalCharges\"].fillna(0)\n",
    "\n",
    "df.columns = df.columns.str.lower().str.replace(\" \", \"_\")\n",
    "string_columns = list(df.dtypes[df.dtypes == \"object\"].index)\n",
    "for column in string_columns:\n",
    "    df[column] = df[column].str.lower().str.replace(\" \", \"_\")\n",
    "\n",
    "df.churn = (df.churn == \"yes\").astype(int)"
   ]
  },
  {
   "cell_type": "code",
   "execution_count": 203,
   "id": "e3c95f8b-8eac-4782-83cd-4f03ce366e03",
   "metadata": {},
   "outputs": [],
   "source": [
    "df_train_full, df_test = train_test_split(df, test_size=0.2, random_state=1)\n",
    "df_train, df_val = train_test_split(df_train_full, test_size=0.33, random_state=11)\n",
    "\n",
    "y_train = df_train.churn.values\n",
    "y_val = df_val.churn.values\n",
    "\n",
    "del df_train[\"churn\"]\n",
    "del df_val[\"churn\"]"
   ]
  },
  {
   "cell_type": "code",
   "execution_count": 204,
   "id": "86b0bff4-dedf-4ed3-ad6a-f8042d1e5185",
   "metadata": {},
   "outputs": [],
   "source": [
    "categorical = ['gender', 'seniorcitizen', 'partner', 'dependents',\n",
    "               'phoneservice', 'multiplelines', 'internetservice',\n",
    "               'onlinesecurity', 'onlinebackup', 'deviceprotection',\n",
    "               'techsupport', 'streamingtv', 'streamingmovies',\n",
    "               'contract', 'paperlessbilling', 'paymentmethod']\n",
    "numerical = ['tenure', 'monthlycharges', 'totalcharges']"
   ]
  },
  {
   "cell_type": "code",
   "execution_count": 205,
   "id": "e428a2f1-d60c-4bff-b78c-7dc144fb1c19",
   "metadata": {},
   "outputs": [],
   "source": [
    "train_dict = df_train[categorical + numerical].to_dict(orient=\"records\")\n",
    "\n",
    "dv = DictVectorizer(sparse=False)\n",
    "dv.fit(train_dict)\n",
    "\n",
    "X_train = dv.transform(train_dict)"
   ]
  },
  {
   "cell_type": "code",
   "execution_count": 206,
   "id": "90e18f9a-7f76-4698-8c88-84b062407ebb",
   "metadata": {},
   "outputs": [
    {
     "data": {
      "text/html": [
       "<style>#sk-container-id-7 {\n",
       "  /* Definition of color scheme common for light and dark mode */\n",
       "  --sklearn-color-text: #000;\n",
       "  --sklearn-color-text-muted: #666;\n",
       "  --sklearn-color-line: gray;\n",
       "  /* Definition of color scheme for unfitted estimators */\n",
       "  --sklearn-color-unfitted-level-0: #fff5e6;\n",
       "  --sklearn-color-unfitted-level-1: #f6e4d2;\n",
       "  --sklearn-color-unfitted-level-2: #ffe0b3;\n",
       "  --sklearn-color-unfitted-level-3: chocolate;\n",
       "  /* Definition of color scheme for fitted estimators */\n",
       "  --sklearn-color-fitted-level-0: #f0f8ff;\n",
       "  --sklearn-color-fitted-level-1: #d4ebff;\n",
       "  --sklearn-color-fitted-level-2: #b3dbfd;\n",
       "  --sklearn-color-fitted-level-3: cornflowerblue;\n",
       "\n",
       "  /* Specific color for light theme */\n",
       "  --sklearn-color-text-on-default-background: var(--sg-text-color, var(--theme-code-foreground, var(--jp-content-font-color1, black)));\n",
       "  --sklearn-color-background: var(--sg-background-color, var(--theme-background, var(--jp-layout-color0, white)));\n",
       "  --sklearn-color-border-box: var(--sg-text-color, var(--theme-code-foreground, var(--jp-content-font-color1, black)));\n",
       "  --sklearn-color-icon: #696969;\n",
       "\n",
       "  @media (prefers-color-scheme: dark) {\n",
       "    /* Redefinition of color scheme for dark theme */\n",
       "    --sklearn-color-text-on-default-background: var(--sg-text-color, var(--theme-code-foreground, var(--jp-content-font-color1, white)));\n",
       "    --sklearn-color-background: var(--sg-background-color, var(--theme-background, var(--jp-layout-color0, #111)));\n",
       "    --sklearn-color-border-box: var(--sg-text-color, var(--theme-code-foreground, var(--jp-content-font-color1, white)));\n",
       "    --sklearn-color-icon: #878787;\n",
       "  }\n",
       "}\n",
       "\n",
       "#sk-container-id-7 {\n",
       "  color: var(--sklearn-color-text);\n",
       "}\n",
       "\n",
       "#sk-container-id-7 pre {\n",
       "  padding: 0;\n",
       "}\n",
       "\n",
       "#sk-container-id-7 input.sk-hidden--visually {\n",
       "  border: 0;\n",
       "  clip: rect(1px 1px 1px 1px);\n",
       "  clip: rect(1px, 1px, 1px, 1px);\n",
       "  height: 1px;\n",
       "  margin: -1px;\n",
       "  overflow: hidden;\n",
       "  padding: 0;\n",
       "  position: absolute;\n",
       "  width: 1px;\n",
       "}\n",
       "\n",
       "#sk-container-id-7 div.sk-dashed-wrapped {\n",
       "  border: 1px dashed var(--sklearn-color-line);\n",
       "  margin: 0 0.4em 0.5em 0.4em;\n",
       "  box-sizing: border-box;\n",
       "  padding-bottom: 0.4em;\n",
       "  background-color: var(--sklearn-color-background);\n",
       "}\n",
       "\n",
       "#sk-container-id-7 div.sk-container {\n",
       "  /* jupyter's `normalize.less` sets `[hidden] { display: none; }`\n",
       "     but bootstrap.min.css set `[hidden] { display: none !important; }`\n",
       "     so we also need the `!important` here to be able to override the\n",
       "     default hidden behavior on the sphinx rendered scikit-learn.org.\n",
       "     See: https://github.com/scikit-learn/scikit-learn/issues/21755 */\n",
       "  display: inline-block !important;\n",
       "  position: relative;\n",
       "}\n",
       "\n",
       "#sk-container-id-7 div.sk-text-repr-fallback {\n",
       "  display: none;\n",
       "}\n",
       "\n",
       "div.sk-parallel-item,\n",
       "div.sk-serial,\n",
       "div.sk-item {\n",
       "  /* draw centered vertical line to link estimators */\n",
       "  background-image: linear-gradient(var(--sklearn-color-text-on-default-background), var(--sklearn-color-text-on-default-background));\n",
       "  background-size: 2px 100%;\n",
       "  background-repeat: no-repeat;\n",
       "  background-position: center center;\n",
       "}\n",
       "\n",
       "/* Parallel-specific style estimator block */\n",
       "\n",
       "#sk-container-id-7 div.sk-parallel-item::after {\n",
       "  content: \"\";\n",
       "  width: 100%;\n",
       "  border-bottom: 2px solid var(--sklearn-color-text-on-default-background);\n",
       "  flex-grow: 1;\n",
       "}\n",
       "\n",
       "#sk-container-id-7 div.sk-parallel {\n",
       "  display: flex;\n",
       "  align-items: stretch;\n",
       "  justify-content: center;\n",
       "  background-color: var(--sklearn-color-background);\n",
       "  position: relative;\n",
       "}\n",
       "\n",
       "#sk-container-id-7 div.sk-parallel-item {\n",
       "  display: flex;\n",
       "  flex-direction: column;\n",
       "}\n",
       "\n",
       "#sk-container-id-7 div.sk-parallel-item:first-child::after {\n",
       "  align-self: flex-end;\n",
       "  width: 50%;\n",
       "}\n",
       "\n",
       "#sk-container-id-7 div.sk-parallel-item:last-child::after {\n",
       "  align-self: flex-start;\n",
       "  width: 50%;\n",
       "}\n",
       "\n",
       "#sk-container-id-7 div.sk-parallel-item:only-child::after {\n",
       "  width: 0;\n",
       "}\n",
       "\n",
       "/* Serial-specific style estimator block */\n",
       "\n",
       "#sk-container-id-7 div.sk-serial {\n",
       "  display: flex;\n",
       "  flex-direction: column;\n",
       "  align-items: center;\n",
       "  background-color: var(--sklearn-color-background);\n",
       "  padding-right: 1em;\n",
       "  padding-left: 1em;\n",
       "}\n",
       "\n",
       "\n",
       "/* Toggleable style: style used for estimator/Pipeline/ColumnTransformer box that is\n",
       "clickable and can be expanded/collapsed.\n",
       "- Pipeline and ColumnTransformer use this feature and define the default style\n",
       "- Estimators will overwrite some part of the style using the `sk-estimator` class\n",
       "*/\n",
       "\n",
       "/* Pipeline and ColumnTransformer style (default) */\n",
       "\n",
       "#sk-container-id-7 div.sk-toggleable {\n",
       "  /* Default theme specific background. It is overwritten whether we have a\n",
       "  specific estimator or a Pipeline/ColumnTransformer */\n",
       "  background-color: var(--sklearn-color-background);\n",
       "}\n",
       "\n",
       "/* Toggleable label */\n",
       "#sk-container-id-7 label.sk-toggleable__label {\n",
       "  cursor: pointer;\n",
       "  display: flex;\n",
       "  width: 100%;\n",
       "  margin-bottom: 0;\n",
       "  padding: 0.5em;\n",
       "  box-sizing: border-box;\n",
       "  text-align: center;\n",
       "  align-items: start;\n",
       "  justify-content: space-between;\n",
       "  gap: 0.5em;\n",
       "}\n",
       "\n",
       "#sk-container-id-7 label.sk-toggleable__label .caption {\n",
       "  font-size: 0.6rem;\n",
       "  font-weight: lighter;\n",
       "  color: var(--sklearn-color-text-muted);\n",
       "}\n",
       "\n",
       "#sk-container-id-7 label.sk-toggleable__label-arrow:before {\n",
       "  /* Arrow on the left of the label */\n",
       "  content: \"▸\";\n",
       "  float: left;\n",
       "  margin-right: 0.25em;\n",
       "  color: var(--sklearn-color-icon);\n",
       "}\n",
       "\n",
       "#sk-container-id-7 label.sk-toggleable__label-arrow:hover:before {\n",
       "  color: var(--sklearn-color-text);\n",
       "}\n",
       "\n",
       "/* Toggleable content - dropdown */\n",
       "\n",
       "#sk-container-id-7 div.sk-toggleable__content {\n",
       "  max-height: 0;\n",
       "  max-width: 0;\n",
       "  overflow: hidden;\n",
       "  text-align: left;\n",
       "  /* unfitted */\n",
       "  background-color: var(--sklearn-color-unfitted-level-0);\n",
       "}\n",
       "\n",
       "#sk-container-id-7 div.sk-toggleable__content.fitted {\n",
       "  /* fitted */\n",
       "  background-color: var(--sklearn-color-fitted-level-0);\n",
       "}\n",
       "\n",
       "#sk-container-id-7 div.sk-toggleable__content pre {\n",
       "  margin: 0.2em;\n",
       "  border-radius: 0.25em;\n",
       "  color: var(--sklearn-color-text);\n",
       "  /* unfitted */\n",
       "  background-color: var(--sklearn-color-unfitted-level-0);\n",
       "}\n",
       "\n",
       "#sk-container-id-7 div.sk-toggleable__content.fitted pre {\n",
       "  /* unfitted */\n",
       "  background-color: var(--sklearn-color-fitted-level-0);\n",
       "}\n",
       "\n",
       "#sk-container-id-7 input.sk-toggleable__control:checked~div.sk-toggleable__content {\n",
       "  /* Expand drop-down */\n",
       "  max-height: 200px;\n",
       "  max-width: 100%;\n",
       "  overflow: auto;\n",
       "}\n",
       "\n",
       "#sk-container-id-7 input.sk-toggleable__control:checked~label.sk-toggleable__label-arrow:before {\n",
       "  content: \"▾\";\n",
       "}\n",
       "\n",
       "/* Pipeline/ColumnTransformer-specific style */\n",
       "\n",
       "#sk-container-id-7 div.sk-label input.sk-toggleable__control:checked~label.sk-toggleable__label {\n",
       "  color: var(--sklearn-color-text);\n",
       "  background-color: var(--sklearn-color-unfitted-level-2);\n",
       "}\n",
       "\n",
       "#sk-container-id-7 div.sk-label.fitted input.sk-toggleable__control:checked~label.sk-toggleable__label {\n",
       "  background-color: var(--sklearn-color-fitted-level-2);\n",
       "}\n",
       "\n",
       "/* Estimator-specific style */\n",
       "\n",
       "/* Colorize estimator box */\n",
       "#sk-container-id-7 div.sk-estimator input.sk-toggleable__control:checked~label.sk-toggleable__label {\n",
       "  /* unfitted */\n",
       "  background-color: var(--sklearn-color-unfitted-level-2);\n",
       "}\n",
       "\n",
       "#sk-container-id-7 div.sk-estimator.fitted input.sk-toggleable__control:checked~label.sk-toggleable__label {\n",
       "  /* fitted */\n",
       "  background-color: var(--sklearn-color-fitted-level-2);\n",
       "}\n",
       "\n",
       "#sk-container-id-7 div.sk-label label.sk-toggleable__label,\n",
       "#sk-container-id-7 div.sk-label label {\n",
       "  /* The background is the default theme color */\n",
       "  color: var(--sklearn-color-text-on-default-background);\n",
       "}\n",
       "\n",
       "/* On hover, darken the color of the background */\n",
       "#sk-container-id-7 div.sk-label:hover label.sk-toggleable__label {\n",
       "  color: var(--sklearn-color-text);\n",
       "  background-color: var(--sklearn-color-unfitted-level-2);\n",
       "}\n",
       "\n",
       "/* Label box, darken color on hover, fitted */\n",
       "#sk-container-id-7 div.sk-label.fitted:hover label.sk-toggleable__label.fitted {\n",
       "  color: var(--sklearn-color-text);\n",
       "  background-color: var(--sklearn-color-fitted-level-2);\n",
       "}\n",
       "\n",
       "/* Estimator label */\n",
       "\n",
       "#sk-container-id-7 div.sk-label label {\n",
       "  font-family: monospace;\n",
       "  font-weight: bold;\n",
       "  display: inline-block;\n",
       "  line-height: 1.2em;\n",
       "}\n",
       "\n",
       "#sk-container-id-7 div.sk-label-container {\n",
       "  text-align: center;\n",
       "}\n",
       "\n",
       "/* Estimator-specific */\n",
       "#sk-container-id-7 div.sk-estimator {\n",
       "  font-family: monospace;\n",
       "  border: 1px dotted var(--sklearn-color-border-box);\n",
       "  border-radius: 0.25em;\n",
       "  box-sizing: border-box;\n",
       "  margin-bottom: 0.5em;\n",
       "  /* unfitted */\n",
       "  background-color: var(--sklearn-color-unfitted-level-0);\n",
       "}\n",
       "\n",
       "#sk-container-id-7 div.sk-estimator.fitted {\n",
       "  /* fitted */\n",
       "  background-color: var(--sklearn-color-fitted-level-0);\n",
       "}\n",
       "\n",
       "/* on hover */\n",
       "#sk-container-id-7 div.sk-estimator:hover {\n",
       "  /* unfitted */\n",
       "  background-color: var(--sklearn-color-unfitted-level-2);\n",
       "}\n",
       "\n",
       "#sk-container-id-7 div.sk-estimator.fitted:hover {\n",
       "  /* fitted */\n",
       "  background-color: var(--sklearn-color-fitted-level-2);\n",
       "}\n",
       "\n",
       "/* Specification for estimator info (e.g. \"i\" and \"?\") */\n",
       "\n",
       "/* Common style for \"i\" and \"?\" */\n",
       "\n",
       ".sk-estimator-doc-link,\n",
       "a:link.sk-estimator-doc-link,\n",
       "a:visited.sk-estimator-doc-link {\n",
       "  float: right;\n",
       "  font-size: smaller;\n",
       "  line-height: 1em;\n",
       "  font-family: monospace;\n",
       "  background-color: var(--sklearn-color-background);\n",
       "  border-radius: 1em;\n",
       "  height: 1em;\n",
       "  width: 1em;\n",
       "  text-decoration: none !important;\n",
       "  margin-left: 0.5em;\n",
       "  text-align: center;\n",
       "  /* unfitted */\n",
       "  border: var(--sklearn-color-unfitted-level-1) 1pt solid;\n",
       "  color: var(--sklearn-color-unfitted-level-1);\n",
       "}\n",
       "\n",
       ".sk-estimator-doc-link.fitted,\n",
       "a:link.sk-estimator-doc-link.fitted,\n",
       "a:visited.sk-estimator-doc-link.fitted {\n",
       "  /* fitted */\n",
       "  border: var(--sklearn-color-fitted-level-1) 1pt solid;\n",
       "  color: var(--sklearn-color-fitted-level-1);\n",
       "}\n",
       "\n",
       "/* On hover */\n",
       "div.sk-estimator:hover .sk-estimator-doc-link:hover,\n",
       ".sk-estimator-doc-link:hover,\n",
       "div.sk-label-container:hover .sk-estimator-doc-link:hover,\n",
       ".sk-estimator-doc-link:hover {\n",
       "  /* unfitted */\n",
       "  background-color: var(--sklearn-color-unfitted-level-3);\n",
       "  color: var(--sklearn-color-background);\n",
       "  text-decoration: none;\n",
       "}\n",
       "\n",
       "div.sk-estimator.fitted:hover .sk-estimator-doc-link.fitted:hover,\n",
       ".sk-estimator-doc-link.fitted:hover,\n",
       "div.sk-label-container:hover .sk-estimator-doc-link.fitted:hover,\n",
       ".sk-estimator-doc-link.fitted:hover {\n",
       "  /* fitted */\n",
       "  background-color: var(--sklearn-color-fitted-level-3);\n",
       "  color: var(--sklearn-color-background);\n",
       "  text-decoration: none;\n",
       "}\n",
       "\n",
       "/* Span, style for the box shown on hovering the info icon */\n",
       ".sk-estimator-doc-link span {\n",
       "  display: none;\n",
       "  z-index: 9999;\n",
       "  position: relative;\n",
       "  font-weight: normal;\n",
       "  right: .2ex;\n",
       "  padding: .5ex;\n",
       "  margin: .5ex;\n",
       "  width: min-content;\n",
       "  min-width: 20ex;\n",
       "  max-width: 50ex;\n",
       "  color: var(--sklearn-color-text);\n",
       "  box-shadow: 2pt 2pt 4pt #999;\n",
       "  /* unfitted */\n",
       "  background: var(--sklearn-color-unfitted-level-0);\n",
       "  border: .5pt solid var(--sklearn-color-unfitted-level-3);\n",
       "}\n",
       "\n",
       ".sk-estimator-doc-link.fitted span {\n",
       "  /* fitted */\n",
       "  background: var(--sklearn-color-fitted-level-0);\n",
       "  border: var(--sklearn-color-fitted-level-3);\n",
       "}\n",
       "\n",
       ".sk-estimator-doc-link:hover span {\n",
       "  display: block;\n",
       "}\n",
       "\n",
       "/* \"?\"-specific style due to the `<a>` HTML tag */\n",
       "\n",
       "#sk-container-id-7 a.estimator_doc_link {\n",
       "  float: right;\n",
       "  font-size: 1rem;\n",
       "  line-height: 1em;\n",
       "  font-family: monospace;\n",
       "  background-color: var(--sklearn-color-background);\n",
       "  border-radius: 1rem;\n",
       "  height: 1rem;\n",
       "  width: 1rem;\n",
       "  text-decoration: none;\n",
       "  /* unfitted */\n",
       "  color: var(--sklearn-color-unfitted-level-1);\n",
       "  border: var(--sklearn-color-unfitted-level-1) 1pt solid;\n",
       "}\n",
       "\n",
       "#sk-container-id-7 a.estimator_doc_link.fitted {\n",
       "  /* fitted */\n",
       "  border: var(--sklearn-color-fitted-level-1) 1pt solid;\n",
       "  color: var(--sklearn-color-fitted-level-1);\n",
       "}\n",
       "\n",
       "/* On hover */\n",
       "#sk-container-id-7 a.estimator_doc_link:hover {\n",
       "  /* unfitted */\n",
       "  background-color: var(--sklearn-color-unfitted-level-3);\n",
       "  color: var(--sklearn-color-background);\n",
       "  text-decoration: none;\n",
       "}\n",
       "\n",
       "#sk-container-id-7 a.estimator_doc_link.fitted:hover {\n",
       "  /* fitted */\n",
       "  background-color: var(--sklearn-color-fitted-level-3);\n",
       "}\n",
       "</style><div id=\"sk-container-id-7\" class=\"sk-top-container\"><div class=\"sk-text-repr-fallback\"><pre>LogisticRegression(random_state=1, solver=&#x27;liblinear&#x27;)</pre><b>In a Jupyter environment, please rerun this cell to show the HTML representation or trust the notebook. <br />On GitHub, the HTML representation is unable to render, please try loading this page with nbviewer.org.</b></div><div class=\"sk-container\" hidden><div class=\"sk-item\"><div class=\"sk-estimator fitted sk-toggleable\"><input class=\"sk-toggleable__control sk-hidden--visually\" id=\"sk-estimator-id-7\" type=\"checkbox\" checked><label for=\"sk-estimator-id-7\" class=\"sk-toggleable__label fitted sk-toggleable__label-arrow\"><div><div>LogisticRegression</div></div><div><a class=\"sk-estimator-doc-link fitted\" rel=\"noreferrer\" target=\"_blank\" href=\"https://scikit-learn.org/1.6/modules/generated/sklearn.linear_model.LogisticRegression.html\">?<span>Documentation for LogisticRegression</span></a><span class=\"sk-estimator-doc-link fitted\">i<span>Fitted</span></span></div></label><div class=\"sk-toggleable__content fitted\"><pre>LogisticRegression(random_state=1, solver=&#x27;liblinear&#x27;)</pre></div> </div></div></div></div>"
      ],
      "text/plain": [
       "LogisticRegression(random_state=1, solver='liblinear')"
      ]
     },
     "execution_count": 206,
     "metadata": {},
     "output_type": "execute_result"
    }
   ],
   "source": [
    "model = LogisticRegression(solver=\"liblinear\", random_state=1)\n",
    "model.fit(X_train, y_train)"
   ]
  },
  {
   "cell_type": "code",
   "execution_count": 207,
   "id": "e6e4a31d-0421-4cae-8fad-7f71e65f2e50",
   "metadata": {},
   "outputs": [],
   "source": [
    "val_dict = df_val[categorical + numerical].to_dict(orient=\"records\")\n",
    "X_val = dv.transform(val_dict)\n",
    "y_pred = model.predict_proba(X_val)[:, 1]"
   ]
  },
  {
   "cell_type": "code",
   "execution_count": 208,
   "id": "f4e84f3c-64d4-413e-96be-62c7cbbfd10e",
   "metadata": {},
   "outputs": [
    {
     "data": {
      "text/html": [
       "<style>#sk-container-id-8 {\n",
       "  /* Definition of color scheme common for light and dark mode */\n",
       "  --sklearn-color-text: #000;\n",
       "  --sklearn-color-text-muted: #666;\n",
       "  --sklearn-color-line: gray;\n",
       "  /* Definition of color scheme for unfitted estimators */\n",
       "  --sklearn-color-unfitted-level-0: #fff5e6;\n",
       "  --sklearn-color-unfitted-level-1: #f6e4d2;\n",
       "  --sklearn-color-unfitted-level-2: #ffe0b3;\n",
       "  --sklearn-color-unfitted-level-3: chocolate;\n",
       "  /* Definition of color scheme for fitted estimators */\n",
       "  --sklearn-color-fitted-level-0: #f0f8ff;\n",
       "  --sklearn-color-fitted-level-1: #d4ebff;\n",
       "  --sklearn-color-fitted-level-2: #b3dbfd;\n",
       "  --sklearn-color-fitted-level-3: cornflowerblue;\n",
       "\n",
       "  /* Specific color for light theme */\n",
       "  --sklearn-color-text-on-default-background: var(--sg-text-color, var(--theme-code-foreground, var(--jp-content-font-color1, black)));\n",
       "  --sklearn-color-background: var(--sg-background-color, var(--theme-background, var(--jp-layout-color0, white)));\n",
       "  --sklearn-color-border-box: var(--sg-text-color, var(--theme-code-foreground, var(--jp-content-font-color1, black)));\n",
       "  --sklearn-color-icon: #696969;\n",
       "\n",
       "  @media (prefers-color-scheme: dark) {\n",
       "    /* Redefinition of color scheme for dark theme */\n",
       "    --sklearn-color-text-on-default-background: var(--sg-text-color, var(--theme-code-foreground, var(--jp-content-font-color1, white)));\n",
       "    --sklearn-color-background: var(--sg-background-color, var(--theme-background, var(--jp-layout-color0, #111)));\n",
       "    --sklearn-color-border-box: var(--sg-text-color, var(--theme-code-foreground, var(--jp-content-font-color1, white)));\n",
       "    --sklearn-color-icon: #878787;\n",
       "  }\n",
       "}\n",
       "\n",
       "#sk-container-id-8 {\n",
       "  color: var(--sklearn-color-text);\n",
       "}\n",
       "\n",
       "#sk-container-id-8 pre {\n",
       "  padding: 0;\n",
       "}\n",
       "\n",
       "#sk-container-id-8 input.sk-hidden--visually {\n",
       "  border: 0;\n",
       "  clip: rect(1px 1px 1px 1px);\n",
       "  clip: rect(1px, 1px, 1px, 1px);\n",
       "  height: 1px;\n",
       "  margin: -1px;\n",
       "  overflow: hidden;\n",
       "  padding: 0;\n",
       "  position: absolute;\n",
       "  width: 1px;\n",
       "}\n",
       "\n",
       "#sk-container-id-8 div.sk-dashed-wrapped {\n",
       "  border: 1px dashed var(--sklearn-color-line);\n",
       "  margin: 0 0.4em 0.5em 0.4em;\n",
       "  box-sizing: border-box;\n",
       "  padding-bottom: 0.4em;\n",
       "  background-color: var(--sklearn-color-background);\n",
       "}\n",
       "\n",
       "#sk-container-id-8 div.sk-container {\n",
       "  /* jupyter's `normalize.less` sets `[hidden] { display: none; }`\n",
       "     but bootstrap.min.css set `[hidden] { display: none !important; }`\n",
       "     so we also need the `!important` here to be able to override the\n",
       "     default hidden behavior on the sphinx rendered scikit-learn.org.\n",
       "     See: https://github.com/scikit-learn/scikit-learn/issues/21755 */\n",
       "  display: inline-block !important;\n",
       "  position: relative;\n",
       "}\n",
       "\n",
       "#sk-container-id-8 div.sk-text-repr-fallback {\n",
       "  display: none;\n",
       "}\n",
       "\n",
       "div.sk-parallel-item,\n",
       "div.sk-serial,\n",
       "div.sk-item {\n",
       "  /* draw centered vertical line to link estimators */\n",
       "  background-image: linear-gradient(var(--sklearn-color-text-on-default-background), var(--sklearn-color-text-on-default-background));\n",
       "  background-size: 2px 100%;\n",
       "  background-repeat: no-repeat;\n",
       "  background-position: center center;\n",
       "}\n",
       "\n",
       "/* Parallel-specific style estimator block */\n",
       "\n",
       "#sk-container-id-8 div.sk-parallel-item::after {\n",
       "  content: \"\";\n",
       "  width: 100%;\n",
       "  border-bottom: 2px solid var(--sklearn-color-text-on-default-background);\n",
       "  flex-grow: 1;\n",
       "}\n",
       "\n",
       "#sk-container-id-8 div.sk-parallel {\n",
       "  display: flex;\n",
       "  align-items: stretch;\n",
       "  justify-content: center;\n",
       "  background-color: var(--sklearn-color-background);\n",
       "  position: relative;\n",
       "}\n",
       "\n",
       "#sk-container-id-8 div.sk-parallel-item {\n",
       "  display: flex;\n",
       "  flex-direction: column;\n",
       "}\n",
       "\n",
       "#sk-container-id-8 div.sk-parallel-item:first-child::after {\n",
       "  align-self: flex-end;\n",
       "  width: 50%;\n",
       "}\n",
       "\n",
       "#sk-container-id-8 div.sk-parallel-item:last-child::after {\n",
       "  align-self: flex-start;\n",
       "  width: 50%;\n",
       "}\n",
       "\n",
       "#sk-container-id-8 div.sk-parallel-item:only-child::after {\n",
       "  width: 0;\n",
       "}\n",
       "\n",
       "/* Serial-specific style estimator block */\n",
       "\n",
       "#sk-container-id-8 div.sk-serial {\n",
       "  display: flex;\n",
       "  flex-direction: column;\n",
       "  align-items: center;\n",
       "  background-color: var(--sklearn-color-background);\n",
       "  padding-right: 1em;\n",
       "  padding-left: 1em;\n",
       "}\n",
       "\n",
       "\n",
       "/* Toggleable style: style used for estimator/Pipeline/ColumnTransformer box that is\n",
       "clickable and can be expanded/collapsed.\n",
       "- Pipeline and ColumnTransformer use this feature and define the default style\n",
       "- Estimators will overwrite some part of the style using the `sk-estimator` class\n",
       "*/\n",
       "\n",
       "/* Pipeline and ColumnTransformer style (default) */\n",
       "\n",
       "#sk-container-id-8 div.sk-toggleable {\n",
       "  /* Default theme specific background. It is overwritten whether we have a\n",
       "  specific estimator or a Pipeline/ColumnTransformer */\n",
       "  background-color: var(--sklearn-color-background);\n",
       "}\n",
       "\n",
       "/* Toggleable label */\n",
       "#sk-container-id-8 label.sk-toggleable__label {\n",
       "  cursor: pointer;\n",
       "  display: flex;\n",
       "  width: 100%;\n",
       "  margin-bottom: 0;\n",
       "  padding: 0.5em;\n",
       "  box-sizing: border-box;\n",
       "  text-align: center;\n",
       "  align-items: start;\n",
       "  justify-content: space-between;\n",
       "  gap: 0.5em;\n",
       "}\n",
       "\n",
       "#sk-container-id-8 label.sk-toggleable__label .caption {\n",
       "  font-size: 0.6rem;\n",
       "  font-weight: lighter;\n",
       "  color: var(--sklearn-color-text-muted);\n",
       "}\n",
       "\n",
       "#sk-container-id-8 label.sk-toggleable__label-arrow:before {\n",
       "  /* Arrow on the left of the label */\n",
       "  content: \"▸\";\n",
       "  float: left;\n",
       "  margin-right: 0.25em;\n",
       "  color: var(--sklearn-color-icon);\n",
       "}\n",
       "\n",
       "#sk-container-id-8 label.sk-toggleable__label-arrow:hover:before {\n",
       "  color: var(--sklearn-color-text);\n",
       "}\n",
       "\n",
       "/* Toggleable content - dropdown */\n",
       "\n",
       "#sk-container-id-8 div.sk-toggleable__content {\n",
       "  max-height: 0;\n",
       "  max-width: 0;\n",
       "  overflow: hidden;\n",
       "  text-align: left;\n",
       "  /* unfitted */\n",
       "  background-color: var(--sklearn-color-unfitted-level-0);\n",
       "}\n",
       "\n",
       "#sk-container-id-8 div.sk-toggleable__content.fitted {\n",
       "  /* fitted */\n",
       "  background-color: var(--sklearn-color-fitted-level-0);\n",
       "}\n",
       "\n",
       "#sk-container-id-8 div.sk-toggleable__content pre {\n",
       "  margin: 0.2em;\n",
       "  border-radius: 0.25em;\n",
       "  color: var(--sklearn-color-text);\n",
       "  /* unfitted */\n",
       "  background-color: var(--sklearn-color-unfitted-level-0);\n",
       "}\n",
       "\n",
       "#sk-container-id-8 div.sk-toggleable__content.fitted pre {\n",
       "  /* unfitted */\n",
       "  background-color: var(--sklearn-color-fitted-level-0);\n",
       "}\n",
       "\n",
       "#sk-container-id-8 input.sk-toggleable__control:checked~div.sk-toggleable__content {\n",
       "  /* Expand drop-down */\n",
       "  max-height: 200px;\n",
       "  max-width: 100%;\n",
       "  overflow: auto;\n",
       "}\n",
       "\n",
       "#sk-container-id-8 input.sk-toggleable__control:checked~label.sk-toggleable__label-arrow:before {\n",
       "  content: \"▾\";\n",
       "}\n",
       "\n",
       "/* Pipeline/ColumnTransformer-specific style */\n",
       "\n",
       "#sk-container-id-8 div.sk-label input.sk-toggleable__control:checked~label.sk-toggleable__label {\n",
       "  color: var(--sklearn-color-text);\n",
       "  background-color: var(--sklearn-color-unfitted-level-2);\n",
       "}\n",
       "\n",
       "#sk-container-id-8 div.sk-label.fitted input.sk-toggleable__control:checked~label.sk-toggleable__label {\n",
       "  background-color: var(--sklearn-color-fitted-level-2);\n",
       "}\n",
       "\n",
       "/* Estimator-specific style */\n",
       "\n",
       "/* Colorize estimator box */\n",
       "#sk-container-id-8 div.sk-estimator input.sk-toggleable__control:checked~label.sk-toggleable__label {\n",
       "  /* unfitted */\n",
       "  background-color: var(--sklearn-color-unfitted-level-2);\n",
       "}\n",
       "\n",
       "#sk-container-id-8 div.sk-estimator.fitted input.sk-toggleable__control:checked~label.sk-toggleable__label {\n",
       "  /* fitted */\n",
       "  background-color: var(--sklearn-color-fitted-level-2);\n",
       "}\n",
       "\n",
       "#sk-container-id-8 div.sk-label label.sk-toggleable__label,\n",
       "#sk-container-id-8 div.sk-label label {\n",
       "  /* The background is the default theme color */\n",
       "  color: var(--sklearn-color-text-on-default-background);\n",
       "}\n",
       "\n",
       "/* On hover, darken the color of the background */\n",
       "#sk-container-id-8 div.sk-label:hover label.sk-toggleable__label {\n",
       "  color: var(--sklearn-color-text);\n",
       "  background-color: var(--sklearn-color-unfitted-level-2);\n",
       "}\n",
       "\n",
       "/* Label box, darken color on hover, fitted */\n",
       "#sk-container-id-8 div.sk-label.fitted:hover label.sk-toggleable__label.fitted {\n",
       "  color: var(--sklearn-color-text);\n",
       "  background-color: var(--sklearn-color-fitted-level-2);\n",
       "}\n",
       "\n",
       "/* Estimator label */\n",
       "\n",
       "#sk-container-id-8 div.sk-label label {\n",
       "  font-family: monospace;\n",
       "  font-weight: bold;\n",
       "  display: inline-block;\n",
       "  line-height: 1.2em;\n",
       "}\n",
       "\n",
       "#sk-container-id-8 div.sk-label-container {\n",
       "  text-align: center;\n",
       "}\n",
       "\n",
       "/* Estimator-specific */\n",
       "#sk-container-id-8 div.sk-estimator {\n",
       "  font-family: monospace;\n",
       "  border: 1px dotted var(--sklearn-color-border-box);\n",
       "  border-radius: 0.25em;\n",
       "  box-sizing: border-box;\n",
       "  margin-bottom: 0.5em;\n",
       "  /* unfitted */\n",
       "  background-color: var(--sklearn-color-unfitted-level-0);\n",
       "}\n",
       "\n",
       "#sk-container-id-8 div.sk-estimator.fitted {\n",
       "  /* fitted */\n",
       "  background-color: var(--sklearn-color-fitted-level-0);\n",
       "}\n",
       "\n",
       "/* on hover */\n",
       "#sk-container-id-8 div.sk-estimator:hover {\n",
       "  /* unfitted */\n",
       "  background-color: var(--sklearn-color-unfitted-level-2);\n",
       "}\n",
       "\n",
       "#sk-container-id-8 div.sk-estimator.fitted:hover {\n",
       "  /* fitted */\n",
       "  background-color: var(--sklearn-color-fitted-level-2);\n",
       "}\n",
       "\n",
       "/* Specification for estimator info (e.g. \"i\" and \"?\") */\n",
       "\n",
       "/* Common style for \"i\" and \"?\" */\n",
       "\n",
       ".sk-estimator-doc-link,\n",
       "a:link.sk-estimator-doc-link,\n",
       "a:visited.sk-estimator-doc-link {\n",
       "  float: right;\n",
       "  font-size: smaller;\n",
       "  line-height: 1em;\n",
       "  font-family: monospace;\n",
       "  background-color: var(--sklearn-color-background);\n",
       "  border-radius: 1em;\n",
       "  height: 1em;\n",
       "  width: 1em;\n",
       "  text-decoration: none !important;\n",
       "  margin-left: 0.5em;\n",
       "  text-align: center;\n",
       "  /* unfitted */\n",
       "  border: var(--sklearn-color-unfitted-level-1) 1pt solid;\n",
       "  color: var(--sklearn-color-unfitted-level-1);\n",
       "}\n",
       "\n",
       ".sk-estimator-doc-link.fitted,\n",
       "a:link.sk-estimator-doc-link.fitted,\n",
       "a:visited.sk-estimator-doc-link.fitted {\n",
       "  /* fitted */\n",
       "  border: var(--sklearn-color-fitted-level-1) 1pt solid;\n",
       "  color: var(--sklearn-color-fitted-level-1);\n",
       "}\n",
       "\n",
       "/* On hover */\n",
       "div.sk-estimator:hover .sk-estimator-doc-link:hover,\n",
       ".sk-estimator-doc-link:hover,\n",
       "div.sk-label-container:hover .sk-estimator-doc-link:hover,\n",
       ".sk-estimator-doc-link:hover {\n",
       "  /* unfitted */\n",
       "  background-color: var(--sklearn-color-unfitted-level-3);\n",
       "  color: var(--sklearn-color-background);\n",
       "  text-decoration: none;\n",
       "}\n",
       "\n",
       "div.sk-estimator.fitted:hover .sk-estimator-doc-link.fitted:hover,\n",
       ".sk-estimator-doc-link.fitted:hover,\n",
       "div.sk-label-container:hover .sk-estimator-doc-link.fitted:hover,\n",
       ".sk-estimator-doc-link.fitted:hover {\n",
       "  /* fitted */\n",
       "  background-color: var(--sklearn-color-fitted-level-3);\n",
       "  color: var(--sklearn-color-background);\n",
       "  text-decoration: none;\n",
       "}\n",
       "\n",
       "/* Span, style for the box shown on hovering the info icon */\n",
       ".sk-estimator-doc-link span {\n",
       "  display: none;\n",
       "  z-index: 9999;\n",
       "  position: relative;\n",
       "  font-weight: normal;\n",
       "  right: .2ex;\n",
       "  padding: .5ex;\n",
       "  margin: .5ex;\n",
       "  width: min-content;\n",
       "  min-width: 20ex;\n",
       "  max-width: 50ex;\n",
       "  color: var(--sklearn-color-text);\n",
       "  box-shadow: 2pt 2pt 4pt #999;\n",
       "  /* unfitted */\n",
       "  background: var(--sklearn-color-unfitted-level-0);\n",
       "  border: .5pt solid var(--sklearn-color-unfitted-level-3);\n",
       "}\n",
       "\n",
       ".sk-estimator-doc-link.fitted span {\n",
       "  /* fitted */\n",
       "  background: var(--sklearn-color-fitted-level-0);\n",
       "  border: var(--sklearn-color-fitted-level-3);\n",
       "}\n",
       "\n",
       ".sk-estimator-doc-link:hover span {\n",
       "  display: block;\n",
       "}\n",
       "\n",
       "/* \"?\"-specific style due to the `<a>` HTML tag */\n",
       "\n",
       "#sk-container-id-8 a.estimator_doc_link {\n",
       "  float: right;\n",
       "  font-size: 1rem;\n",
       "  line-height: 1em;\n",
       "  font-family: monospace;\n",
       "  background-color: var(--sklearn-color-background);\n",
       "  border-radius: 1rem;\n",
       "  height: 1rem;\n",
       "  width: 1rem;\n",
       "  text-decoration: none;\n",
       "  /* unfitted */\n",
       "  color: var(--sklearn-color-unfitted-level-1);\n",
       "  border: var(--sklearn-color-unfitted-level-1) 1pt solid;\n",
       "}\n",
       "\n",
       "#sk-container-id-8 a.estimator_doc_link.fitted {\n",
       "  /* fitted */\n",
       "  border: var(--sklearn-color-fitted-level-1) 1pt solid;\n",
       "  color: var(--sklearn-color-fitted-level-1);\n",
       "}\n",
       "\n",
       "/* On hover */\n",
       "#sk-container-id-8 a.estimator_doc_link:hover {\n",
       "  /* unfitted */\n",
       "  background-color: var(--sklearn-color-unfitted-level-3);\n",
       "  color: var(--sklearn-color-background);\n",
       "  text-decoration: none;\n",
       "}\n",
       "\n",
       "#sk-container-id-8 a.estimator_doc_link.fitted:hover {\n",
       "  /* fitted */\n",
       "  background-color: var(--sklearn-color-fitted-level-3);\n",
       "}\n",
       "</style><div id=\"sk-container-id-8\" class=\"sk-top-container\"><div class=\"sk-text-repr-fallback\"><pre>LogisticRegression(random_state=1, solver=&#x27;liblinear&#x27;)</pre><b>In a Jupyter environment, please rerun this cell to show the HTML representation or trust the notebook. <br />On GitHub, the HTML representation is unable to render, please try loading this page with nbviewer.org.</b></div><div class=\"sk-container\" hidden><div class=\"sk-item\"><div class=\"sk-estimator fitted sk-toggleable\"><input class=\"sk-toggleable__control sk-hidden--visually\" id=\"sk-estimator-id-8\" type=\"checkbox\" checked><label for=\"sk-estimator-id-8\" class=\"sk-toggleable__label fitted sk-toggleable__label-arrow\"><div><div>LogisticRegression</div></div><div><a class=\"sk-estimator-doc-link fitted\" rel=\"noreferrer\" target=\"_blank\" href=\"https://scikit-learn.org/1.6/modules/generated/sklearn.linear_model.LogisticRegression.html\">?<span>Documentation for LogisticRegression</span></a><span class=\"sk-estimator-doc-link fitted\">i<span>Fitted</span></span></div></label><div class=\"sk-toggleable__content fitted\"><pre>LogisticRegression(random_state=1, solver=&#x27;liblinear&#x27;)</pre></div> </div></div></div></div>"
      ],
      "text/plain": [
       "LogisticRegression(random_state=1, solver='liblinear')"
      ]
     },
     "execution_count": 208,
     "metadata": {},
     "output_type": "execute_result"
    }
   ],
   "source": [
    "subset = [\"contract\", \"tenure\", \"totalcharges\"]\n",
    "train_dict_small = df_train[subset].to_dict(orient=\"records\")\n",
    "dv_small = DictVectorizer(sparse=False)\n",
    "dv_small.fit(train_dict_small)\n",
    "\n",
    "X_small_train = dv_small.transform(train_dict_small)\n",
    "\n",
    "model_small = LogisticRegression(solver=\"liblinear\", random_state=1)\n",
    "model_small.fit(X_small_train, y_train)"
   ]
  },
  {
   "cell_type": "code",
   "execution_count": 209,
   "id": "7df9a68e-fd7c-4bac-9dc7-8a25c09fdae1",
   "metadata": {},
   "outputs": [],
   "source": [
    "val_dict_small = df_val[subset].to_dict(orient=\"records\")\n",
    "X_small_val = dv_small.transform(val_dict_small)\n",
    "\n",
    "y_pred_small = model_small.predict_proba(X_small_val)[:, 1]"
   ]
  },
  {
   "cell_type": "markdown",
   "id": "b38696ae-ccb6-45d2-adab-a85697c4fa66",
   "metadata": {},
   "source": [
    "## 4.1. Evaluation metrics"
   ]
  },
  {
   "cell_type": "markdown",
   "id": "6b736fac-4eb5-46da-b9a3-613928fe80a6",
   "metadata": {},
   "source": [
    "We have already built a binary classificatino model for predicting churning customers. Now we need to be able to determine how good it is."
   ]
  },
  {
   "cell_type": "markdown",
   "id": "1bda82ff-9629-4a07-b9f5-3511e4356b7a",
   "metadata": {},
   "source": [
    "For this, we use a metric-a function that looks at the predictions the model makes and compares them with the actual values. Then, based on the comparison, it calculates how good the model is. This is quite useful: we can use it to compare different models and select the one with the best metric value."
   ]
  },
  {
   "cell_type": "markdown",
   "id": "62ce5424-7ecb-4163-94f4-1b559d9cd844",
   "metadata": {},
   "source": [
    "There are different kinds of metrics. In chapter 2, we used RMSE (root mean squared error) to evaluate regression models. However, this metric can be used only for regression models and doesn’t work for classification."
   ]
  },
  {
   "cell_type": "markdown",
   "id": "a59e3594-d2c9-498c-841c-285c60f73c8b",
   "metadata": {},
   "source": [
    "For evaluating classification models, we have other more suitable metrics. In this section, we cover the most common evaluation metrics for binary classification, starting with accuracy, which we already saw in chapter 3."
   ]
  },
  {
   "cell_type": "markdown",
   "id": "71b2f018-b312-44ef-abb6-d4e64b9501f8",
   "metadata": {},
   "source": [
    "### 4.1.1. Classification accuracy"
   ]
  },
  {
   "cell_type": "markdown",
   "id": "620b0228-c0d3-4cfc-8bcf-100f07960601",
   "metadata": {},
   "source": [
    "The accuracy of a binary classification model is the percentage of correct predictions it makes."
   ]
  },
  {
   "cell_type": "markdown",
   "id": "afbb50f7-cf78-4efd-8138-da46e45b69c5",
   "metadata": {},
   "source": [
    "This accuracy is the simplest way to evaluate a classifier: by counting the number of cases in which our model turned out to be right, we can learn a lot about the model's behavior and quality."
   ]
  },
  {
   "cell_type": "markdown",
   "id": "bfb01c46-852d-43eb-8af6-a3a94f5f1e29",
   "metadata": {},
   "source": [
    "Computing accuracy on the validation dataset is easy—we simply calculate the fraction of correct predictions."
   ]
  },
  {
   "cell_type": "code",
   "execution_count": 210,
   "id": "95217ae6-2e8e-41f9-8164-466f1858c471",
   "metadata": {},
   "outputs": [
    {
     "data": {
      "text/plain": [
       "np.float64(0.8016129032258065)"
      ]
     },
     "execution_count": 210,
     "metadata": {},
     "output_type": "execute_result"
    }
   ],
   "source": [
    "y_pred = model.predict_proba(X_val)[:, 1]\n",
    "churn = y_pred >= 0.5\n",
    "(churn == y_val).mean()"
   ]
  },
  {
   "cell_type": "markdown",
   "id": "cb6cf0cb-b2df-4714-b7ee-25d5b1df34c5",
   "metadata": {},
   "source": [
    "The result is 0.8016, which means that our model is 80% accurate."
   ]
  },
  {
   "cell_type": "markdown",
   "id": "88f157d2-3fba-4e11-8499-675d708be4be",
   "metadata": {},
   "source": [
    "One thing we should ask ourselves is how we choose a specific value for a threshold and not any other number. This is an arbitrary choice, but it’s actually not difficult to check other thresholds as well: we can just loop over all possible threshold candidates and compute the accuracy for each. Then we can choose the one with the best accuracy score."
   ]
  },
  {
   "cell_type": "markdown",
   "id": "ffd18384-3c05-4f9f-b885-ac8f7220c06a",
   "metadata": {},
   "source": [
    "Even though it’s easy to implement accuracy ourselves, we can use existing implementations as well. The Scikit-learn library offers a variety of metrics, including accuracy and many others that we will use later. You can find these metrics in the metrics package:"
   ]
  },
  {
   "cell_type": "code",
   "execution_count": 211,
   "id": "df33f70d-429f-4a07-9a2c-37605d58fccb",
   "metadata": {},
   "outputs": [],
   "source": [
    "from sklearn.metrics import accuracy_score"
   ]
  },
  {
   "cell_type": "code",
   "execution_count": 212,
   "id": "a67ecbf9-b928-44bb-bca5-7453c237094b",
   "metadata": {},
   "outputs": [
    {
     "data": {
      "text/plain": [
       "0.8016129032258065"
      ]
     },
     "execution_count": 212,
     "metadata": {},
     "output_type": "execute_result"
    }
   ],
   "source": [
    "accuracy_score(y_val, y_pred >= 0.5)"
   ]
  },
  {
   "cell_type": "markdown",
   "id": "866f1021-9ad2-4d92-9e63-448f74401fc2",
   "metadata": {},
   "source": [
    "Now we can loop over different thresholds and check which one gives the best accuracy:"
   ]
  },
  {
   "cell_type": "code",
   "execution_count": 213,
   "id": "5865eb76-949e-4b78-866f-9251d0613011",
   "metadata": {},
   "outputs": [
    {
     "name": "stdout",
     "output_type": "stream",
     "text": [
      "0.00 0.261\n",
      "0.05 0.501\n",
      "0.10 0.595\n",
      "0.15 0.640\n",
      "0.20 0.690\n",
      "0.25 0.730\n",
      "0.30 0.755\n",
      "0.35 0.767\n",
      "0.40 0.782\n",
      "0.45 0.795\n",
      "0.50 0.802\n",
      "0.55 0.790\n",
      "0.60 0.790\n",
      "0.65 0.788\n",
      "0.70 0.774\n",
      "0.75 0.752\n",
      "0.80 0.742\n",
      "0.85 0.739\n",
      "0.90 0.739\n",
      "0.95 0.739\n",
      "1.00 0.739\n"
     ]
    }
   ],
   "source": [
    "thresholds = np.linspace(0, 1, 21)\n",
    "\n",
    "accuracies = []\n",
    "\n",
    "for threshold in thresholds:\n",
    "    accuracy = accuracy_score(y_val, y_pred >= threshold)\n",
    "    accuracies.append(accuracy)\n",
    "    print(\"%0.2f %0.3f\" % (threshold, accuracy))"
   ]
  },
  {
   "cell_type": "markdown",
   "id": "cd03987d-ab55-4b45-a887-cde01592e319",
   "metadata": {},
   "source": [
    "As we see, using the threshold of 0.5 gives us the best accuracy. Typically, 0.5 is a good threshold value to start with, but we should always try other threshold values to make sure 0.5 is the best choice."
   ]
  },
  {
   "cell_type": "markdown",
   "id": "fceee25a-ee46-4df3-8428-754da5ef9867",
   "metadata": {},
   "source": [
    "To make it more visual, we can use Matplotlib to create a plot that shows how accuracy changes depending on the threshold:"
   ]
  },
  {
   "cell_type": "code",
   "execution_count": 214,
   "id": "3a0b3658-1591-40ca-82ee-8a2660f81040",
   "metadata": {},
   "outputs": [
    {
     "data": {
      "image/png": "[encoded data removed]",
      "text/plain": [
       "<Figure size 600x400 with 1 Axes>"
      ]
     },
     "metadata": {},
     "output_type": "display_data"
    }
   ],
   "source": [
    "plt.figure(figsize=(6, 4))\n",
    "\n",
    "plt.plot(thresholds, accuracies, color=\"black\")\n",
    "\n",
    "plt.title(\"Threshold vs Accuracy\")\n",
    "plt.xlabel(\"Threshold\")\n",
    "plt.ylabel(\"Accuracy\")\n",
    "\n",
    "plt.xticks(np.linspace(0, 1, 11))\n",
    "\n",
    "plt.show()"
   ]
  },
  {
   "cell_type": "markdown",
   "id": "4370ce0d-3539-4a5f-af52-bcce77147ca4",
   "metadata": {},
   "source": [
    "After executing this line, we should see a plot that shows the relationship between the threshold and the accuracy. As we already know, the 0.5 threshold is the best in terms of accuracy, and the best accuracy for this model that we can achieve is 80%."
   ]
  },
  {
   "cell_type": "markdown",
   "id": "edd5a376-04a5-4405-b666-b97cfb27d0e4",
   "metadata": {},
   "source": [
    "In the previous chapter, we trained a simpler model: we called it model_small. It was based on only three variables: contract, tenure, and totalcharges. Let's also check its accuracy. For that, we first make predictions on the validation dataset and then compute the accuracy score:"
   ]
  },
  {
   "cell_type": "code",
   "execution_count": 215,
   "id": "0fb51220-59ae-486a-bd9f-54adacd51706",
   "metadata": {},
   "outputs": [
    {
     "data": {
      "text/plain": [
       "0.7672043010752688"
      ]
     },
     "execution_count": 215,
     "metadata": {},
     "output_type": "execute_result"
    }
   ],
   "source": [
    "churn_small = y_pred_small >= 0.5\n",
    "accuracy_score(y_val, churn_small)"
   ]
  },
  {
   "cell_type": "markdown",
   "id": "1478ce02-7bf1-41cc-88fc-3df06c7467aa",
   "metadata": {},
   "source": [
    "When we runt his code, we see that the accuracy of the small model is 76%. So, the large model is actually 4% more accurate than the small model."
   ]
  },
  {
   "cell_type": "markdown",
   "id": "20fe42a3-d276-41f0-b6ae-896a2cc8670e",
   "metadata": {},
   "source": [
    "However, this still doesn’t tell us whether 80% (or 76%) is a good accuracy score."
   ]
  },
  {
   "cell_type": "markdown",
   "id": "0b593d7b-0d09-4424-9cfa-3ce0c62078ea",
   "metadata": {},
   "source": [
    "### 4.1.2. Dummy baseline"
   ]
  },
  {
   "cell_type": "markdown",
   "id": "a02d7912-2fd2-4916-afcb-1624a5a6dee1",
   "metadata": {},
   "source": [
    "Although it seems like a decent number, to understand whether 80% is actually good, we need to relate it to something-for example, a simple baseline that's easy to understand. One such baseline could be a dummy model that always predicts the same value."
   ]
  },
  {
   "cell_type": "markdown",
   "id": "f48ce95d-e399-411d-8346-7c44c86cc327",
   "metadata": {},
   "source": [
    "In our example, the dataset is imbalanced, and we don’t have many churned users. So, the dummy model can always predict the majority class—“no churn.” In other words, this model will always output False, regardless of the features. This is not a super useful model, but we can use it as a baseline and compare it with the other two models."
   ]
  },
  {
   "cell_type": "code",
   "execution_count": 216,
   "id": "2871b72c-eb26-4cad-b6e4-8f993a80ec52",
   "metadata": {},
   "outputs": [
    {
     "data": {
      "text/plain": [
       "array([False, False, False, ..., False, False, False], shape=(1860,))"
      ]
     },
     "execution_count": 216,
     "metadata": {},
     "output_type": "execute_result"
    }
   ],
   "source": [
    "size_val = len(y_val)\n",
    "baseline = np.repeat(False, size_val)\n",
    "baseline"
   ]
  },
  {
   "cell_type": "markdown",
   "id": "130d16b9-79e3-4662-8b38-14f6cf7815aa",
   "metadata": {},
   "source": [
    "To create an array with the baseline predictions, we first need to determine how many elements are in the validation set. Next, we create an array of dummy predictions-all the elements of this array are False values. We do this using the repeat function from NumPy: it takes in an element and repeats it as many times as we ask."
   ]
  },
  {
   "cell_type": "markdown",
   "id": "d0cfe9e0-eb6a-42a0-bc8c-98375dc2381f",
   "metadata": {},
   "source": [
    "Now we can check the accuracy of this baseline prediction using the same code as before:"
   ]
  },
  {
   "cell_type": "code",
   "execution_count": 217,
   "id": "0b306083-7865-4791-81d8-ceb4d7b99aaf",
   "metadata": {},
   "outputs": [
    {
     "data": {
      "text/plain": [
       "0.7387096774193549"
      ]
     },
     "execution_count": 217,
     "metadata": {},
     "output_type": "execute_result"
    }
   ],
   "source": [
    "accuracy_score(baseline, y_val)"
   ]
  },
  {
   "cell_type": "markdown",
   "id": "3ae1f53a-cb84-46c0-8efb-55a3c1e15a6e",
   "metadata": {},
   "source": [
    "When we run this code, it shows 0.739. This means that the accuracy of the baseline model is around 74%."
   ]
  },
  {
   "cell_type": "markdown",
   "id": "d728d7e9-fe74-4df8-9c78-7f0700f38266",
   "metadata": {},
   "source": [
    "The small model is only 2% better than the naive baseline, and the large one is 6% better. If we think about all the trouble we have gone through to train this large model, 6% doesn’t seem like a significant improvement over the dummy baseline."
   ]
  },
  {
   "cell_type": "markdown",
   "id": "dfd11d5b-9c1d-4543-9e2d-defd7b66555c",
   "metadata": {},
   "source": [
    "Metrics that we can use to measure the quallity of a model are based on the confusion table."
   ]
  },
  {
   "cell_type": "markdown",
   "id": "39147399-8a71-4243-806d-c99663586400",
   "metadata": {},
   "source": [
    "## 4.2. Confusion table"
   ]
  },
  {
   "cell_type": "markdown",
   "id": "7dd146f3-87d1-4c04-bcf5-d77c829670ba",
   "metadata": {},
   "source": [
    "Even though accuracy is easy to understand, it’s not always the best metric. In fact, it sometimes can be misleading. We’ve already seen this occur: the accuracy of our model is 80%, and although that seems like a good number, it’s just 6% better than the accuracy of a dummy model that always outputs the same prediction of “no churn.”"
   ]
  },
  {
   "cell_type": "markdown",
   "id": "8b2dbd21-6e8b-4edf-8da5-576476468b75",
   "metadata": {},
   "source": [
    "This situation typically happens when we have a class imbalance. We know that this is the case for our problem because 74% of customers did not churn, and only 26% did churn."
   ]
  },
  {
   "cell_type": "markdown",
   "id": "b0acc2fe-b310-4596-969b-28fb4b607ebb",
   "metadata": {},
   "source": [
    "The confusion table is a table that concisely represents every possible outcome for a model's predictions."
   ]
  },
  {
   "cell_type": "markdown",
   "id": "6deccd6c-327b-41e7-a5b7-01795d16a9b1",
   "metadata": {},
   "source": [
    "### 4.2.1. Introduction to the confusion table"
   ]
  },
  {
   "cell_type": "markdown",
   "id": "0747d7e0-56f7-4515-888b-e775af628fb2",
   "metadata": {},
   "source": [
    "We know that for a binary classification model, we can have only two possible predictions: True and False. In our case, we can predict that a customer is either going to churn (True) or not (False)."
   ]
  },
  {
   "cell_type": "markdown",
   "id": "74a5da36-2088-4550-9a9b-bace3a0b961a",
   "metadata": {},
   "source": [
    "When we apply the model to the entire validation dataset with customers we split it into customers for whom the model predicts \"churn\", and customers for whom the model predicts \"no churn\"."
   ]
  },
  {
   "cell_type": "markdown",
   "id": "e0f954b1-119e-4421-a505-975377c484d8",
   "metadata": {},
   "source": [
    "Only two possible correct outcomes can occur: again, True or False. A customer has either actually churned (True) or not (False)."
   ]
  },
  {
   "cell_type": "markdown",
   "id": "6228ec61-aaf9-4ae1-9313-2744552bb5b5",
   "metadata": {},
   "source": [
    "This means that by using the ground truth information—the information about the target variable—we can again split the dataset into two parts, the customers who churned, and the customers who didn't churn."
   ]
  },
  {
   "cell_type": "markdown",
   "id": "b0cb0bb1-0868-4a66-a88f-da3626ae461a",
   "metadata": {},
   "source": [
    "When we make a prediction, it will either turn out to be correct or not:\n",
    "\n",
    "- If we predict “churn,” the customer may indeed churn, or they may not.\n",
    "- If we predict “no churn,” it’s possible that the customer indeed doesn’t churn, but it’s also possible that they do churn."
   ]
  },
  {
   "cell_type": "markdown",
   "id": "4bfa93cf-940f-4af2-a9b6-781554698a01",
   "metadata": {},
   "source": [
    "This gives us four possible outcomes:\n",
    "\n",
    "- We predict False, and the answer is False.\n",
    "- We predict False, and the answer is True.\n",
    "- We predict True, and the answer is False.\n",
    "- We predict True, and the answer is True."
   ]
  },
  {
   "cell_type": "markdown",
   "id": "89390ab7-0b9c-4546-b5ef-d2fd849c3523",
   "metadata": {},
   "source": [
    "Two of these situations-the first and last ones-are good: the prediction matched the actual value. The two remaining ones are bad: we didn't make a correct prediction."
   ]
  },
  {
   "cell_type": "markdown",
   "id": "9f5e82c2-d00c-4cc2-843d-e5d14837d53c",
   "metadata": {},
   "source": [
    "Each of these four situations has its own name:\n",
    "\n",
    "- True negative (TN): we predict False (“no churn”), and the actual label is also False (“no churn”).\n",
    "- True positive (TP): we predict True (“churn”), and the actual label is True (“churn”).\n",
    "- False negative (FN): we predict False (“no churn”), but it’s actually True (the customer churned).\n",
    "- False positive (FP): we predict True (“churn”), but it’s actually False (the customer stayed with us)."
   ]
  },
  {
   "cell_type": "markdown",
   "id": "5ba5280e-7815-4c92-8b96-d0bb0f450c02",
   "metadata": {},
   "source": [
    "We can visualize these outcomes in a table, with the predicted classes in the columns and the actual classes in the rows. When we substitute the number of times each outcome happens, we get the confusion table for our model."
   ]
  },
  {
   "cell_type": "markdown",
   "id": "db581981-34f4-4862-ae29-5331d2f7ca6d",
   "metadata": {},
   "source": [
    "### 4.2.2. Calculating the confusion table with NumPy"
   ]
  },
  {
   "cell_type": "markdown",
   "id": "7e54a384-7460-4200-9b07-32ad78bc4a87",
   "metadata": {},
   "source": [
    "To calculate the confusion table, we need to do these steps:\n",
    "\n",
    "- First, the predictions split the dataset into two parts: the part for which we predict True (“churn”) and the part for which we predict False (“no churn”).\n",
    "- At the same time, the target variable splits this dataset into two different parts: the customers who actually churned (“1” in y_val) and the customers who didn’t (“0” in y_val).\n",
    "- When we combine these splits, we get four groups of customers, which are exactly the four different outcomes from the confusion table.\n",
    "\n",
    "Translating these steps to NumPy is straightforward:"
   ]
  },
  {
   "cell_type": "code",
   "execution_count": 218,
   "id": "e196b563-29b7-42fc-9055-f5a710f58d33",
   "metadata": {},
   "outputs": [],
   "source": [
    "threshold = 0.5\n",
    "\n",
    "predict_churn = (y_pred >= threshold)\n",
    "predict_no_churn = (y_pred < threshold)\n",
    "actual_churn = (y_val == 1)\n",
    "actual_no_churn = (y_val == 0)\n",
    "\n",
    "true_positive = (predict_churn & actual_churn).sum()\n",
    "false_positive = (predict_churn & actual_no_churn).sum()\n",
    "false_negative = (predict_no_churn & actual_churn).sum()\n",
    "true_negative = (predict_no_churn & actual_no_churn).sum()"
   ]
  },
  {
   "cell_type": "markdown",
   "id": "b39ee8ee-a56c-4e03-9a20-0afa2cf0ef19",
   "metadata": {},
   "source": [
    "Now we just need to put all these values together in a NumPy array:"
   ]
  },
  {
   "cell_type": "code",
   "execution_count": 219,
   "id": "1c9f8022-ffce-4d5e-9d7e-ca01bbd65296",
   "metadata": {},
   "outputs": [
    {
     "data": {
      "text/plain": [
       "array([[1202,  172],\n",
       "       [ 197,  289]])"
      ]
     },
     "execution_count": 219,
     "metadata": {},
     "output_type": "execute_result"
    }
   ],
   "source": [
    "confusion_table = np.array(\n",
    "     # predict neg    pos\n",
    "    [[true_negative, false_positive], # actual neg\n",
    "     [false_negative, true_positive]]) # actual pos\n",
    "\n",
    "confusion_table"
   ]
  },
  {
   "cell_type": "markdown",
   "id": "bd20d2a2-0f56-40b7-a86a-23fdde2fbd31",
   "metadata": {},
   "source": [
    "The absolute numbers may be difficult to understand, so we can turn them into fractions by dividing each value by the total number of items:"
   ]
  },
  {
   "cell_type": "code",
   "execution_count": 220,
   "id": "a5812462-b77e-4078-ae47-37ebf3d7f184",
   "metadata": {},
   "outputs": [
    {
     "data": {
      "text/plain": [
       "array([[0.64623656, 0.09247312],\n",
       "       [0.10591398, 0.15537634]])"
      ]
     },
     "execution_count": 220,
     "metadata": {},
     "output_type": "execute_result"
    }
   ],
   "source": [
    "confusion_table / confusion_table.sum()"
   ]
  },
  {
   "cell_type": "markdown",
   "id": "1cc5fa22-b4a5-4803-8e03-7e4ec0793efc",
   "metadata": {},
   "source": [
    "We see that the model predicts negative values quite well: 65% of the predictions are true negatives. However, it makes quite a few mistakes of both types: the number of false positives and false negatives is roughly equal (9% and 11%, respectively)."
   ]
  },
  {
   "cell_type": "markdown",
   "id": "941f9678-80a0-4520-8c11-83c9224645ab",
   "metadata": {},
   "source": [
    "This table gives us a better understanding of the performance of the model—it’s now possible to break down the performance into different components and understand where the model makes mistakes. We actually see that the performance of the model is not great: it makes quite a few errors when trying to identify users that will churn. This is something we couldn’t see with the accuracy score alone."
   ]
  },
  {
   "cell_type": "markdown",
   "id": "e1e33d52-5d7c-48ea-8f90-2da5cff52563",
   "metadata": {},
   "source": [
    "### 4.2.3. Precision and recall"
   ]
  },
  {
   "cell_type": "markdown",
   "id": "29a4f695-a255-47de-84b9-830069f81f4e",
   "metadata": {},
   "source": [
    "Accuracy can be misleading when dealing with imbalanced datasets like the one in this problem. Other metrics are helpful to use for such cases: precision and recall."
   ]
  },
  {
   "cell_type": "markdown",
   "id": "9f301b9b-2cd6-43e6-aa63-a5b315fcacdd",
   "metadata": {},
   "source": [
    "Both precision and recall are calculated from the values of the confusion table. They both help us understand the quality of the model in cases of class imbalance."
   ]
  },
  {
   "cell_type": "markdown",
   "id": "fd0c4a92-c0a6-4808-a909-55c7e9582dd0",
   "metadata": {},
   "source": [
    "The precision of a model tells us how many of the positive predictions turned out to be correct. It’s the fraction of correctly predicted positive examples. In our case, it’s the number of customers who actually churned (TP) out of all the customers we thought would churn (TP + FP).\n",
    "\n",
    "Precision = true_positive / (true_positive + false_positive)"
   ]
  },
  {
   "cell_type": "code",
   "execution_count": 221,
   "id": "9be74df9-54ea-42d7-b2eb-27854e094eae",
   "metadata": {},
   "outputs": [
    {
     "data": {
      "text/plain": [
       "np.float64(0.6268980477223427)"
      ]
     },
     "execution_count": 221,
     "metadata": {},
     "output_type": "execute_result"
    }
   ],
   "source": [
    "true_positive / (true_positive + false_positive)"
   ]
  },
  {
   "cell_type": "markdown",
   "id": "7681770e-4e61-41ed-9df3-47d4865ef4cd",
   "metadata": {},
   "source": [
    "For our model, the precision is 62%."
   ]
  },
  {
   "cell_type": "markdown",
   "id": "d742effa-66fd-46ed-b96c-7bf497ec3e64",
   "metadata": {},
   "source": [
    "Recall is the fraction of correct classified positive examples among all positive examples. In our case, to calculate recall we first look at all the customers who churned and see how many of them we managed to identify correctly."
   ]
  },
  {
   "cell_type": "markdown",
   "id": "e7ce3cc8-9283-47c0-af43-08cc6583b84d",
   "metadata": {},
   "source": [
    "Recall = true_positive / (true_positive + false_negative)"
   ]
  },
  {
   "cell_type": "code",
   "execution_count": 222,
   "id": "79edf095-bb87-4b27-a329-4e9d0615257e",
   "metadata": {},
   "outputs": [
    {
     "data": {
      "text/plain": [
       "np.float64(0.5946502057613169)"
      ]
     },
     "execution_count": 222,
     "metadata": {},
     "output_type": "execute_result"
    }
   ],
   "source": [
    "true_positive / (true_positive + false_negative)"
   ]
  },
  {
   "cell_type": "markdown",
   "id": "535a0b87-b95a-43b6-a55f-19f507b3c728",
   "metadata": {},
   "source": [
    "For our model, the recall is 59%."
   ]
  },
  {
   "cell_type": "markdown",
   "id": "5c0f9eca-2236-4f5c-8203-10d3a7d8758c",
   "metadata": {},
   "source": [
    "The difference between precision and recall may seem subtle at first. In both cases, we look at the number of correct predictions, but the difference is in the denominators:\n",
    "\n",
    "- Precision: what’s the percent of correct predictions (TP) among customers predicted as churning (TP + FP)?\n",
    "- Recall: what’s the percentage correctly predicted as churning (TP) among all churned customers (TP + FN)?"
   ]
  },
  {
   "cell_type": "markdown",
   "id": "546c5f21-407d-4d79-a602-80ab440afe1d",
   "metadata": {},
   "source": [
    "We see that both precision and recall don't take true negatives into account. This is exactly why they are good evaluation metrics for imbalanced datasets. For situations with class imbalanace, true negatives typically outnumber everything else-but at the same time, they are also often not really interesting for us."
   ]
  },
  {
   "cell_type": "markdown",
   "id": "57f6b824-bc6e-4872-af25-2eca7ea63104",
   "metadata": {},
   "source": [
    "The goal of our project is to identify customers who are likely to churn. Once we do, we can send them promotional messages in the hopes that they’ll change their mind.\n",
    "\n",
    "When doing this, we make two types of mistakes:\n",
    "\n",
    "- We accidentally send messages to people who weren’t going to churn—these people are the false positives of the model.\n",
    "- We also sometimes fail to identify people who are actually going to churn. We don’t send messages to these people—they are our false negatives.\n",
    "\n",
    "Precision and recall help us quantify these errors."
   ]
  },
  {
   "cell_type": "markdown",
   "id": "449b3847-7165-4dc9-a395-85fb551920cf",
   "metadata": {},
   "source": [
    "Precision helps us understand how many people received a promotional message by mistake. The better the precision, the fewer false positives we have. The precision of 62% means that 62% of the reached customers indeed were going to churn (our true positives), whereas the remaining 38% were not (false positives)."
   ]
  },
  {
   "cell_type": "markdown",
   "id": "af961cf5-5a57-45ca-8d11-786221bb46d5",
   "metadata": {},
   "source": [
    "Recall helps us understand how many of the churning customers we failed to find. The better the recall, the fewer false negatives we have. The recall of 59% means that we reach only 59% of all churning users (true positives) and fail to identify the remaining 41% (false negatives)."
   ]
  },
  {
   "cell_type": "markdown",
   "id": "a7d33f26-4697-4189-9fb8-c335119944d6",
   "metadata": {},
   "source": [
    "In both cases, we don't really need to know the number of true negatives: even though we can correctly identify them as not churning, we aren't going to do anything with them."
   ]
  },
  {
   "cell_type": "markdown",
   "id": "abf8707d-3ab2-400e-bf91-c6982dbca895",
   "metadata": {},
   "source": [
    "Although the accuracy of 80% might suggest that the model is great, looking at its precision and recall tells us that it actually makes quite a few errors. This is typically not a deal-breaker: with machine learning it’s inevitable that models make mistakes, and at least now we have a better and more realistic understanding of the performance of our churn-prediction model."
   ]
  },
  {
   "cell_type": "markdown",
   "id": "9efdf27e-e2af-43e3-96a7-475556500772",
   "metadata": {},
   "source": [
    "## 4.3. ROC curve and AUC score"
   ]
  },
  {
   "cell_type": "markdown",
   "id": "a98c8d2b-5985-4ca2-a7ac-e532bd115d2b",
   "metadata": {},
   "source": [
    "The metrics we have covered so far work only with binary predictions—when we have only True and False values in the output. However, we do have ways to evaluate the performance of a model across all possible threshold choices. ROC curves is one of these options."
   ]
  },
  {
   "cell_type": "markdown",
   "id": "40dc37cc-00d1-468d-be79-d4b8fa022631",
   "metadata": {},
   "source": [
    "ROC stands for \"receiver operating characteristic,\" and it was initially designed for evaluating the strength of radar detectors during World War II. It was used to assess how well a detector could separate two signals: whether an airplane was there or not. Nowadays it's used for a similar purpose: it shows how well a model can separate two classes, positive and negative. In our case, these classes are \"churn\" and \"no churn.\""
   ]
  },
  {
   "cell_type": "markdown",
   "id": "4b80f212-afe9-44c0-89f1-9ab004f5b7b6",
   "metadata": {},
   "source": [
    "We need two metrics for ROC curves: TPR and FPR, or true positive rate and false positive rate. Let’s take a look at these metrics."
   ]
  },
  {
   "cell_type": "markdown",
   "id": "208b52cf-7114-41dc-a73e-45b05c9a1e35",
   "metadata": {},
   "source": [
    "### 4.3.1. True positive rate and false positive rate"
   ]
  },
  {
   "cell_type": "markdown",
   "id": "ed6aad41-8171-4900-b79d-58ad1a6bc757",
   "metadata": {},
   "source": [
    "The ROC curve is based on two quantities, FPR and TPR;\n",
    "\n",
    "- False positive rate (FPR): the fraction of false positives among all negative examples\n",
    "- True positive rate (TPR): the fraction of true positives among all positive examples\n",
    "\n",
    "Like precisioin and recall, these values are based on the confusion matrix."
   ]
  },
  {
   "cell_type": "markdown",
   "id": "3838710b-13f8-45c6-8962-cc77ac50aed6",
   "metadata": {},
   "source": [
    "False positive rate = false_positive / (false_positive + true_negative)"
   ]
  },
  {
   "cell_type": "markdown",
   "id": "466b8594-e72a-4db6-8e31-df50a27caacc",
   "metadata": {},
   "source": [
    "True positive rate = true_positive / (true_positive + false_negative)"
   ]
  },
  {
   "cell_type": "code",
   "execution_count": 223,
   "id": "0498fd35-0b11-4474-b65c-cc8f6a6b989b",
   "metadata": {},
   "outputs": [
    {
     "data": {
      "text/plain": [
       "np.float64(0.12518195050946143)"
      ]
     },
     "execution_count": 223,
     "metadata": {},
     "output_type": "execute_result"
    }
   ],
   "source": [
    "false_positive / (false_positive + true_negative)"
   ]
  },
  {
   "cell_type": "markdown",
   "id": "cfff8a93-640f-4e92-9a6b-7f5a84fc0d53",
   "metadata": {},
   "source": [
    "FPR is the fraction of users we predicted as churning among evverybody who didn't churn. A small value ofr FPR tells us that a model is good-it has few false positives."
   ]
  },
  {
   "cell_type": "code",
   "execution_count": 224,
   "id": "f64e9c04-1294-4afc-82e6-a50ef89ccf77",
   "metadata": {},
   "outputs": [
    {
     "data": {
      "text/plain": [
       "np.float64(0.5946502057613169)"
      ]
     },
     "execution_count": 224,
     "metadata": {},
     "output_type": "execute_result"
    }
   ],
   "source": [
    "true_positive / (true_positive + false_negative)"
   ]
  },
  {
   "cell_type": "markdown",
   "id": "4b4a7f7d-a3e9-4fb3-898f-45fe3b8d234e",
   "metadata": {},
   "source": [
    "TPR is the fraction of users who we predicted as churning among everybody who actually did churn. Note that TPR is the same as recall, so the higher the TPR is, the bette."
   ]
  },
  {
   "cell_type": "markdown",
   "id": "7f33db7d-90a8-4e39-aa99-161a9b7d91df",
   "metadata": {},
   "source": [
    "However, we still consider FPR and TPR metrics at only one threshold value—in our case, 0.5. To be able to use them for ROC curves, we need to calculate these metrics for many different threshold values.\n"
   ]
  },
  {
   "cell_type": "markdown",
   "id": "f4f7a07c-1eb0-4c8d-a032-1d17c1d8bab1",
   "metadata": {},
   "source": [
    "### 4.3.2. Evaluating a model at multiple thresholds"
   ]
  },
  {
   "cell_type": "markdown",
   "id": "a28b41fc-e510-453b-8a5a-078971f1793a",
   "metadata": {},
   "source": [
    "Binary classification models, such as logistic regression, typically output a probability-a score between zero and one. To make actual predictions, we binarize the output by setting some threshold to get only True and False values."
   ]
  },
  {
   "cell_type": "markdown",
   "id": "d8d7b9aa-3e90-433e-93a8-313ec02fb8b6",
   "metadata": {},
   "source": [
    "Instead of evaluating the model at one particular threshold, we can do it for a range of them-in the same way we did it for accuracy earlier in this chapter."
   ]
  },
  {
   "cell_type": "markdown",
   "id": "5df949de-6778-4f0a-97bc-d3d3768012bb",
   "metadata": {},
   "source": [
    "Let's iterate over different threshold values and compute the values of the confusion table for each:"
   ]
  },
  {
   "cell_type": "code",
   "execution_count": 225,
   "id": "8da2b6bf-f87e-4a7e-8930-8e84cb91b593",
   "metadata": {},
   "outputs": [],
   "source": [
    "scores = []\n",
    "\n",
    "thresholds = np.linspace(0, 1, 101)\n",
    "\n",
    "for threshold in thresholds:\n",
    "    true_positive = ((y_pred >= threshold) & (y_val == 1)).sum()\n",
    "    false_positive = ((y_pred >= threshold) & (y_val == 0)).sum()\n",
    "    false_negative = ((y_pred < threshold) & (y_val == 1)).sum()\n",
    "    true_negative = ((y_pred < threshold) & (y_val == 0)).sum()\n",
    "    scores.append((threshold, true_positive, false_positive, false_negative, true_negative))"
   ]
  },
  {
   "cell_type": "markdown",
   "id": "5d1d91d6-b875-483d-a8c3-4bbe5fbcab00",
   "metadata": {},
   "source": [
    "It's not easy to deal with a list of tuples, so let's convert it to a Pandas dataframe:"
   ]
  },
  {
   "cell_type": "code",
   "execution_count": 226,
   "id": "379056c8-75d3-4efc-b56e-376426ea931b",
   "metadata": {},
   "outputs": [],
   "source": [
    "df_scores = pd.DataFrame(scores)\n",
    "df_scores.columns = [\"threshold\", \"true_positive\", \"false_positive\", \"false_negative\", \"true_negative\"]"
   ]
  },
  {
   "cell_type": "code",
   "execution_count": 227,
   "id": "a235e279-af09-4798-bef7-70c96f4933bf",
   "metadata": {},
   "outputs": [
    {
     "data": {
      "text/html": [
       "<div>\n",
       "<style scoped>\n",
       "    .dataframe tbody tr th:only-of-type {\n",
       "        vertical-align: middle;\n",
       "    }\n",
       "\n",
       "    .dataframe tbody tr th {\n",
       "        vertical-align: top;\n",
       "    }\n",
       "\n",
       "    .dataframe thead th {\n",
       "        text-align: right;\n",
       "    }\n",
       "</style>\n",
       "<table border=\"1\" class=\"dataframe\">\n",
       "  <thead>\n",
       "    <tr style=\"text-align: right;\">\n",
       "      <th></th>\n",
       "      <th>threshold</th>\n",
       "      <th>true_positive</th>\n",
       "      <th>false_positive</th>\n",
       "      <th>false_negative</th>\n",
       "      <th>true_negative</th>\n",
       "    </tr>\n",
       "  </thead>\n",
       "  <tbody>\n",
       "    <tr>\n",
       "      <th>0</th>\n",
       "      <td>0.0</td>\n",
       "      <td>486</td>\n",
       "      <td>1374</td>\n",
       "      <td>0</td>\n",
       "      <td>0</td>\n",
       "    </tr>\n",
       "    <tr>\n",
       "      <th>10</th>\n",
       "      <td>0.1</td>\n",
       "      <td>458</td>\n",
       "      <td>726</td>\n",
       "      <td>28</td>\n",
       "      <td>648</td>\n",
       "    </tr>\n",
       "    <tr>\n",
       "      <th>20</th>\n",
       "      <td>0.2</td>\n",
       "      <td>421</td>\n",
       "      <td>512</td>\n",
       "      <td>65</td>\n",
       "      <td>862</td>\n",
       "    </tr>\n",
       "    <tr>\n",
       "      <th>30</th>\n",
       "      <td>0.3</td>\n",
       "      <td>380</td>\n",
       "      <td>350</td>\n",
       "      <td>106</td>\n",
       "      <td>1024</td>\n",
       "    </tr>\n",
       "    <tr>\n",
       "      <th>40</th>\n",
       "      <td>0.4</td>\n",
       "      <td>337</td>\n",
       "      <td>257</td>\n",
       "      <td>149</td>\n",
       "      <td>1117</td>\n",
       "    </tr>\n",
       "    <tr>\n",
       "      <th>50</th>\n",
       "      <td>0.5</td>\n",
       "      <td>289</td>\n",
       "      <td>172</td>\n",
       "      <td>197</td>\n",
       "      <td>1202</td>\n",
       "    </tr>\n",
       "    <tr>\n",
       "      <th>60</th>\n",
       "      <td>0.6</td>\n",
       "      <td>200</td>\n",
       "      <td>105</td>\n",
       "      <td>286</td>\n",
       "      <td>1269</td>\n",
       "    </tr>\n",
       "    <tr>\n",
       "      <th>70</th>\n",
       "      <td>0.7</td>\n",
       "      <td>99</td>\n",
       "      <td>34</td>\n",
       "      <td>387</td>\n",
       "      <td>1340</td>\n",
       "    </tr>\n",
       "    <tr>\n",
       "      <th>80</th>\n",
       "      <td>0.8</td>\n",
       "      <td>7</td>\n",
       "      <td>1</td>\n",
       "      <td>479</td>\n",
       "      <td>1373</td>\n",
       "    </tr>\n",
       "    <tr>\n",
       "      <th>90</th>\n",
       "      <td>0.9</td>\n",
       "      <td>0</td>\n",
       "      <td>0</td>\n",
       "      <td>486</td>\n",
       "      <td>1374</td>\n",
       "    </tr>\n",
       "    <tr>\n",
       "      <th>100</th>\n",
       "      <td>1.0</td>\n",
       "      <td>0</td>\n",
       "      <td>0</td>\n",
       "      <td>486</td>\n",
       "      <td>1374</td>\n",
       "    </tr>\n",
       "  </tbody>\n",
       "</table>\n",
       "</div>"
      ],
      "text/plain": [
       "     threshold  true_positive  false_positive  false_negative  true_negative\n",
       "0          0.0            486            1374               0              0\n",
       "10         0.1            458             726              28            648\n",
       "20         0.2            421             512              65            862\n",
       "30         0.3            380             350             106           1024\n",
       "40         0.4            337             257             149           1117\n",
       "50         0.5            289             172             197           1202\n",
       "60         0.6            200             105             286           1269\n",
       "70         0.7             99              34             387           1340\n",
       "80         0.8              7               1             479           1373\n",
       "90         0.9              0               0             486           1374\n",
       "100        1.0              0               0             486           1374"
      ]
     },
     "execution_count": 227,
     "metadata": {},
     "output_type": "execute_result"
    }
   ],
   "source": [
    "df_scores[::10]"
   ]
  },
  {
   "cell_type": "markdown",
   "id": "02bc2b36-5d85-48e7-a9c6-da0910e341bb",
   "metadata": {},
   "source": [
    "Now we can compute the TPR and FPR scores. Because the data is now in a dataframe, we can do it for all the values at once:"
   ]
  },
  {
   "cell_type": "code",
   "execution_count": 228,
   "id": "90d1ad2a-bed0-444d-97ae-f8ab9adb40d8",
   "metadata": {},
   "outputs": [],
   "source": [
    "df_scores[\"true_positive_rate\"] = df_scores[\"true_positive\"] / (df_scores[\"true_positive\"] + df_scores[\"false_negative\"])\n",
    "df_scores['false_positive_rate'] = df_scores[\"false_positive\"] / (df_scores[\"false_positive\"] + df_scores[\"true_negative\"])"
   ]
  },
  {
   "cell_type": "code",
   "execution_count": 229,
   "id": "8e9b05d4-73db-4cd2-bc74-457ce2bdcbf7",
   "metadata": {},
   "outputs": [
    {
     "data": {
      "text/html": [
       "<div>\n",
       "<style scoped>\n",
       "    .dataframe tbody tr th:only-of-type {\n",
       "        vertical-align: middle;\n",
       "    }\n",
       "\n",
       "    .dataframe tbody tr th {\n",
       "        vertical-align: top;\n",
       "    }\n",
       "\n",
       "    .dataframe thead th {\n",
       "        text-align: right;\n",
       "    }\n",
       "</style>\n",
       "<table border=\"1\" class=\"dataframe\">\n",
       "  <thead>\n",
       "    <tr style=\"text-align: right;\">\n",
       "      <th></th>\n",
       "      <th>threshold</th>\n",
       "      <th>true_positive</th>\n",
       "      <th>false_positive</th>\n",
       "      <th>false_negative</th>\n",
       "      <th>true_negative</th>\n",
       "      <th>true_positive_rate</th>\n",
       "      <th>false_positive_rate</th>\n",
       "    </tr>\n",
       "  </thead>\n",
       "  <tbody>\n",
       "    <tr>\n",
       "      <th>0</th>\n",
       "      <td>0.0</td>\n",
       "      <td>486</td>\n",
       "      <td>1374</td>\n",
       "      <td>0</td>\n",
       "      <td>0</td>\n",
       "      <td>1.000000</td>\n",
       "      <td>1.000000</td>\n",
       "    </tr>\n",
       "    <tr>\n",
       "      <th>10</th>\n",
       "      <td>0.1</td>\n",
       "      <td>458</td>\n",
       "      <td>726</td>\n",
       "      <td>28</td>\n",
       "      <td>648</td>\n",
       "      <td>0.942387</td>\n",
       "      <td>0.528384</td>\n",
       "    </tr>\n",
       "    <tr>\n",
       "      <th>20</th>\n",
       "      <td>0.2</td>\n",
       "      <td>421</td>\n",
       "      <td>512</td>\n",
       "      <td>65</td>\n",
       "      <td>862</td>\n",
       "      <td>0.866255</td>\n",
       "      <td>0.372635</td>\n",
       "    </tr>\n",
       "    <tr>\n",
       "      <th>30</th>\n",
       "      <td>0.3</td>\n",
       "      <td>380</td>\n",
       "      <td>350</td>\n",
       "      <td>106</td>\n",
       "      <td>1024</td>\n",
       "      <td>0.781893</td>\n",
       "      <td>0.254731</td>\n",
       "    </tr>\n",
       "    <tr>\n",
       "      <th>40</th>\n",
       "      <td>0.4</td>\n",
       "      <td>337</td>\n",
       "      <td>257</td>\n",
       "      <td>149</td>\n",
       "      <td>1117</td>\n",
       "      <td>0.693416</td>\n",
       "      <td>0.187045</td>\n",
       "    </tr>\n",
       "    <tr>\n",
       "      <th>50</th>\n",
       "      <td>0.5</td>\n",
       "      <td>289</td>\n",
       "      <td>172</td>\n",
       "      <td>197</td>\n",
       "      <td>1202</td>\n",
       "      <td>0.594650</td>\n",
       "      <td>0.125182</td>\n",
       "    </tr>\n",
       "    <tr>\n",
       "      <th>60</th>\n",
       "      <td>0.6</td>\n",
       "      <td>200</td>\n",
       "      <td>105</td>\n",
       "      <td>286</td>\n",
       "      <td>1269</td>\n",
       "      <td>0.411523</td>\n",
       "      <td>0.076419</td>\n",
       "    </tr>\n",
       "    <tr>\n",
       "      <th>70</th>\n",
       "      <td>0.7</td>\n",
       "      <td>99</td>\n",
       "      <td>34</td>\n",
       "      <td>387</td>\n",
       "      <td>1340</td>\n",
       "      <td>0.203704</td>\n",
       "      <td>0.024745</td>\n",
       "    </tr>\n",
       "    <tr>\n",
       "      <th>80</th>\n",
       "      <td>0.8</td>\n",
       "      <td>7</td>\n",
       "      <td>1</td>\n",
       "      <td>479</td>\n",
       "      <td>1373</td>\n",
       "      <td>0.014403</td>\n",
       "      <td>0.000728</td>\n",
       "    </tr>\n",
       "    <tr>\n",
       "      <th>90</th>\n",
       "      <td>0.9</td>\n",
       "      <td>0</td>\n",
       "      <td>0</td>\n",
       "      <td>486</td>\n",
       "      <td>1374</td>\n",
       "      <td>0.000000</td>\n",
       "      <td>0.000000</td>\n",
       "    </tr>\n",
       "    <tr>\n",
       "      <th>100</th>\n",
       "      <td>1.0</td>\n",
       "      <td>0</td>\n",
       "      <td>0</td>\n",
       "      <td>486</td>\n",
       "      <td>1374</td>\n",
       "      <td>0.000000</td>\n",
       "      <td>0.000000</td>\n",
       "    </tr>\n",
       "  </tbody>\n",
       "</table>\n",
       "</div>"
      ],
      "text/plain": [
       "     threshold  true_positive  false_positive  false_negative  true_negative  \\\n",
       "0          0.0            486            1374               0              0   \n",
       "10         0.1            458             726              28            648   \n",
       "20         0.2            421             512              65            862   \n",
       "30         0.3            380             350             106           1024   \n",
       "40         0.4            337             257             149           1117   \n",
       "50         0.5            289             172             197           1202   \n",
       "60         0.6            200             105             286           1269   \n",
       "70         0.7             99              34             387           1340   \n",
       "80         0.8              7               1             479           1373   \n",
       "90         0.9              0               0             486           1374   \n",
       "100        1.0              0               0             486           1374   \n",
       "\n",
       "     true_positive_rate  false_positive_rate  \n",
       "0              1.000000             1.000000  \n",
       "10             0.942387             0.528384  \n",
       "20             0.866255             0.372635  \n",
       "30             0.781893             0.254731  \n",
       "40             0.693416             0.187045  \n",
       "50             0.594650             0.125182  \n",
       "60             0.411523             0.076419  \n",
       "70             0.203704             0.024745  \n",
       "80             0.014403             0.000728  \n",
       "90             0.000000             0.000000  \n",
       "100            0.000000             0.000000  "
      ]
     },
     "execution_count": 229,
     "metadata": {},
     "output_type": "execute_result"
    }
   ],
   "source": [
    "df_scores[::10]"
   ]
  },
  {
   "cell_type": "markdown",
   "id": "85e4c7de-0e93-4696-94b1-634ffa26a058",
   "metadata": {},
   "source": [
    "Let’s plot them:"
   ]
  },
  {
   "cell_type": "code",
   "execution_count": 230,
   "id": "e72c75ec-ef97-44e2-8f27-381a49d3d8ee",
   "metadata": {},
   "outputs": [
    {
     "data": {
      "image/png": "[encoded data removed]",
      "text/plain": [
       "<Figure size 640x480 with 1 Axes>"
      ]
     },
     "metadata": {},
     "output_type": "display_data"
    }
   ],
   "source": [
    "plt.plot(df_scores.threshold, df_scores[\"true_positive_rate\"], label=\"True Positive Rate\")\n",
    "plt.plot(df_scores.threshold, df_scores[\"false_positive_rate\"], label=\"False Positive Rate\")\n",
    "plt.legend()\n",
    "\n",
    "plt.xticks(np.linspace(0, 1, 11))\n",
    "plt.yticks(np.linspace(0, 1, 11))\n",
    "\n",
    "plt.xlabel(\"Thresholds\")\n",
    "plt.title(\"True Positive Rate and False Positive Rate\")\n",
    "\n",
    "plt.show()"
   ]
  },
  {
   "cell_type": "markdown",
   "id": "7a635f38-243a-4579-9d5f-c42c357cd1a8",
   "metadata": {},
   "source": [
    "Both TPR and FPR start at 100%—at the threshold of 0.0, we predict “churn” for everyone:\n",
    "\n",
    "- FPR is 100% because we have only false positives in the prediction. There are no true negatives: nobody is predicted as non-churning.\n",
    "- TPR is 100% because we have only true positives and no false negatives.\n",
    "\n",
    "As the threshold grows, both metrics decline but at different rates."
   ]
  },
  {
   "cell_type": "markdown",
   "id": "c24401de-d6a1-4159-9d40-885bf5f18043",
   "metadata": {},
   "source": [
    "Ideally, FPR should go down very quickly. A small FPR indicates that the model makes very few mistakes predicting negative examples (false positives)."
   ]
  },
  {
   "cell_type": "markdown",
   "id": "242d5c52-035e-4409-b19b-e72ea87bcdf7",
   "metadata": {},
   "source": [
    "On the other hand, TPR should go down slowly, ideally staying near 100% all the time: that will mean that the model predicts true positives well."
   ]
  },
  {
   "cell_type": "markdown",
   "id": "8f20457f-419d-4d2b-a1fb-b1d0c280f299",
   "metadata": {},
   "source": [
    "To better understand what these TPR and FPR mean, let's compare it with two baseline models: a random model and the ideal model. We will start with a random model."
   ]
  },
  {
   "cell_type": "markdown",
   "id": "1cb3d0ad-0972-47f2-abe9-a77910e57e30",
   "metadata": {},
   "source": [
    "### 4.3.3. Random baseline model"
   ]
  },
  {
   "cell_type": "markdown",
   "id": "f1750e97-b34b-4a9f-8423-65ee4741aa38",
   "metadata": {},
   "source": [
    "A random model outputs a random score between 0 and 1, regardless of the input. It’s easy to implement—we simply generate an array with uniform random numbers:"
   ]
  },
  {
   "cell_type": "code",
   "execution_count": 231,
   "id": "e23a3990-bd38-4c8e-b393-e01e97e6ff84",
   "metadata": {},
   "outputs": [],
   "source": [
    "np.random.seed(1)\n",
    "y_rand = np.random.uniform(0, 1, size=len(y_val))"
   ]
  },
  {
   "cell_type": "markdown",
   "id": "a02684f4-acda-42d6-b3e3-4ff4cc74a2b9",
   "metadata": {},
   "source": [
    "Now we can pretend that y_rand contains the predictions of our \"model\"."
   ]
  },
  {
   "cell_type": "markdown",
   "id": "7e446c7f-6c68-4c78-88f2-77533eccc4ac",
   "metadata": {},
   "source": [
    "Let's calculate FPR and TPR for our random model. To make it simpler, we'll reuse the code we wrote previously and put it into a function."
   ]
  },
  {
   "cell_type": "code",
   "execution_count": 232,
   "id": "87e7b7b1-e606-4428-bd3a-e7373f5dc62e",
   "metadata": {},
   "outputs": [],
   "source": [
    "def tpr_fpr_dataframe(y_val, y_pred):\n",
    "    scores = []\n",
    "\n",
    "    thresholds = np.linspace(0, 1, 101)\n",
    "\n",
    "    for threshold in thresholds:\n",
    "        true_positive = ((y_pred >= threshold) & (y_val == 1)).sum()\n",
    "        false_positive = ((y_pred >= threshold) & (y_val == 0)).sum()\n",
    "        false_negative = ((y_pred < threshold) & (y_val == 1)).sum()\n",
    "        true_negative = ((y_pred < threshold) & (y_val == 0)).sum()\n",
    "        scores.append((threshold, true_positive, false_positive, false_negative, true_negative))\n",
    "\n",
    "    df_scores = pd.DataFrame(scores)\n",
    "    df_scores.columns = [\"threshold\", \"true_positive\", \"false_positive\", \"false_negative\", \"true_negative\"]\n",
    "\n",
    "    df_scores[\"true_positive_rate\"] = df_scores[\"true_positive\"] / (df_scores[\"true_positive\"] + df_scores[\"false_negative\"])\n",
    "    df_scores['false_positive_rate'] = df_scores[\"false_positive\"] / (df_scores[\"false_positive\"] + df_scores[\"true_negative\"])\n",
    "\n",
    "    return df_scores"
   ]
  },
  {
   "cell_type": "markdown",
   "id": "9f156a1c-6010-4c2d-be4a-2eede4c1c0c7",
   "metadata": {},
   "source": [
    "Now let’s use this function to calculate the TPR and FPR for the random model:"
   ]
  },
  {
   "cell_type": "code",
   "execution_count": 233,
   "id": "1d5619b2-77a3-4dd1-bd6a-73a3b566b0ac",
   "metadata": {},
   "outputs": [
    {
     "data": {
      "text/html": [
       "<div>\n",
       "<style scoped>\n",
       "    .dataframe tbody tr th:only-of-type {\n",
       "        vertical-align: middle;\n",
       "    }\n",
       "\n",
       "    .dataframe tbody tr th {\n",
       "        vertical-align: top;\n",
       "    }\n",
       "\n",
       "    .dataframe thead th {\n",
       "        text-align: right;\n",
       "    }\n",
       "</style>\n",
       "<table border=\"1\" class=\"dataframe\">\n",
       "  <thead>\n",
       "    <tr style=\"text-align: right;\">\n",
       "      <th></th>\n",
       "      <th>threshold</th>\n",
       "      <th>true_positive</th>\n",
       "      <th>false_positive</th>\n",
       "      <th>false_negative</th>\n",
       "      <th>true_negative</th>\n",
       "      <th>true_positive_rate</th>\n",
       "      <th>false_positive_rate</th>\n",
       "    </tr>\n",
       "  </thead>\n",
       "  <tbody>\n",
       "    <tr>\n",
       "      <th>0</th>\n",
       "      <td>0.0</td>\n",
       "      <td>486</td>\n",
       "      <td>1374</td>\n",
       "      <td>0</td>\n",
       "      <td>0</td>\n",
       "      <td>1.000000</td>\n",
       "      <td>1.000000</td>\n",
       "    </tr>\n",
       "    <tr>\n",
       "      <th>10</th>\n",
       "      <td>0.1</td>\n",
       "      <td>440</td>\n",
       "      <td>1236</td>\n",
       "      <td>46</td>\n",
       "      <td>138</td>\n",
       "      <td>0.905350</td>\n",
       "      <td>0.899563</td>\n",
       "    </tr>\n",
       "    <tr>\n",
       "      <th>20</th>\n",
       "      <td>0.2</td>\n",
       "      <td>392</td>\n",
       "      <td>1101</td>\n",
       "      <td>94</td>\n",
       "      <td>273</td>\n",
       "      <td>0.806584</td>\n",
       "      <td>0.801310</td>\n",
       "    </tr>\n",
       "    <tr>\n",
       "      <th>30</th>\n",
       "      <td>0.3</td>\n",
       "      <td>339</td>\n",
       "      <td>972</td>\n",
       "      <td>147</td>\n",
       "      <td>402</td>\n",
       "      <td>0.697531</td>\n",
       "      <td>0.707424</td>\n",
       "    </tr>\n",
       "    <tr>\n",
       "      <th>40</th>\n",
       "      <td>0.4</td>\n",
       "      <td>288</td>\n",
       "      <td>849</td>\n",
       "      <td>198</td>\n",
       "      <td>525</td>\n",
       "      <td>0.592593</td>\n",
       "      <td>0.617904</td>\n",
       "    </tr>\n",
       "    <tr>\n",
       "      <th>50</th>\n",
       "      <td>0.5</td>\n",
       "      <td>239</td>\n",
       "      <td>723</td>\n",
       "      <td>247</td>\n",
       "      <td>651</td>\n",
       "      <td>0.491770</td>\n",
       "      <td>0.526201</td>\n",
       "    </tr>\n",
       "    <tr>\n",
       "      <th>60</th>\n",
       "      <td>0.6</td>\n",
       "      <td>193</td>\n",
       "      <td>579</td>\n",
       "      <td>293</td>\n",
       "      <td>795</td>\n",
       "      <td>0.397119</td>\n",
       "      <td>0.421397</td>\n",
       "    </tr>\n",
       "    <tr>\n",
       "      <th>70</th>\n",
       "      <td>0.7</td>\n",
       "      <td>152</td>\n",
       "      <td>422</td>\n",
       "      <td>334</td>\n",
       "      <td>952</td>\n",
       "      <td>0.312757</td>\n",
       "      <td>0.307132</td>\n",
       "    </tr>\n",
       "    <tr>\n",
       "      <th>80</th>\n",
       "      <td>0.8</td>\n",
       "      <td>98</td>\n",
       "      <td>302</td>\n",
       "      <td>388</td>\n",
       "      <td>1072</td>\n",
       "      <td>0.201646</td>\n",
       "      <td>0.219796</td>\n",
       "    </tr>\n",
       "    <tr>\n",
       "      <th>90</th>\n",
       "      <td>0.9</td>\n",
       "      <td>57</td>\n",
       "      <td>147</td>\n",
       "      <td>429</td>\n",
       "      <td>1227</td>\n",
       "      <td>0.117284</td>\n",
       "      <td>0.106987</td>\n",
       "    </tr>\n",
       "    <tr>\n",
       "      <th>100</th>\n",
       "      <td>1.0</td>\n",
       "      <td>0</td>\n",
       "      <td>0</td>\n",
       "      <td>486</td>\n",
       "      <td>1374</td>\n",
       "      <td>0.000000</td>\n",
       "      <td>0.000000</td>\n",
       "    </tr>\n",
       "  </tbody>\n",
       "</table>\n",
       "</div>"
      ],
      "text/plain": [
       "     threshold  true_positive  false_positive  false_negative  true_negative  \\\n",
       "0          0.0            486            1374               0              0   \n",
       "10         0.1            440            1236              46            138   \n",
       "20         0.2            392            1101              94            273   \n",
       "30         0.3            339             972             147            402   \n",
       "40         0.4            288             849             198            525   \n",
       "50         0.5            239             723             247            651   \n",
       "60         0.6            193             579             293            795   \n",
       "70         0.7            152             422             334            952   \n",
       "80         0.8             98             302             388           1072   \n",
       "90         0.9             57             147             429           1227   \n",
       "100        1.0              0               0             486           1374   \n",
       "\n",
       "     true_positive_rate  false_positive_rate  \n",
       "0              1.000000             1.000000  \n",
       "10             0.905350             0.899563  \n",
       "20             0.806584             0.801310  \n",
       "30             0.697531             0.707424  \n",
       "40             0.592593             0.617904  \n",
       "50             0.491770             0.526201  \n",
       "60             0.397119             0.421397  \n",
       "70             0.312757             0.307132  \n",
       "80             0.201646             0.219796  \n",
       "90             0.117284             0.106987  \n",
       "100            0.000000             0.000000  "
      ]
     },
     "execution_count": 233,
     "metadata": {},
     "output_type": "execute_result"
    }
   ],
   "source": [
    "df_rand = tpr_fpr_dataframe(y_val, y_rand)\n",
    "df_rand[::10]"
   ]
  },
  {
   "cell_type": "markdown",
   "id": "3cfb8357-5fb4-4c9f-a079-9ceb75c1752b",
   "metadata": {},
   "source": [
    "Let's plot them:"
   ]
  },
  {
   "cell_type": "code",
   "execution_count": 234,
   "id": "0307f731-ac91-4ebb-bc91-f9b823812c69",
   "metadata": {},
   "outputs": [
    {
     "data": {
      "image/png": "[encoded data removed]",
      "text/plain": [
       "<Figure size 640x480 with 1 Axes>"
      ]
     },
     "metadata": {},
     "output_type": "display_data"
    }
   ],
   "source": [
    "plt.plot(df_rand[\"threshold\"], df_rand[\"true_positive_rate\"], label=\"True Positive Rate\")\n",
    "plt.plot(df_rand[\"threshold\"], df_rand[\"false_positive_rate\"], label=\"False Positive Rate\")\n",
    "plt.legend()\n",
    "\n",
    "plt.xticks(np.linspace(0, 1, 11))\n",
    "plt.yticks(np.linspace(0, 1, 11))\n",
    "\n",
    "plt.xlabel(\"Thresholds\")\n",
    "plt.title(\"TPR and FPR for the random model\")\n",
    "\n",
    "plt.show()"
   ]
  },
  {
   "cell_type": "markdown",
   "id": "2188424c-eff9-4c0f-89fc-6130b04503ab",
   "metadata": {},
   "source": [
    "We see that both TPR and FPR curves go from 100% to 0%, almost following the straight line."
   ]
  },
  {
   "cell_type": "markdown",
   "id": "446dae03-88f5-4c04-86fd-a72e9cf440ed",
   "metadata": {},
   "source": [
    "At the threshold of 0.0, we treat everybody as churning. Both TPR and FPR are 100%:\n",
    "\n",
    "- FPR is 100% because we have only false positives: all non-churning customers are identified as churning.\n",
    "- TPR is 100% because we have only true positives: we can correctly classify all churning customers as churning."
   ]
  },
  {
   "cell_type": "markdown",
   "id": "341746bc-7ae0-4223-be51-b268752cc055",
   "metadata": {},
   "source": [
    "As we increase the threshold, both TPR and FPR decrease."
   ]
  },
  {
   "cell_type": "markdown",
   "id": "4d867f17-8b04-4de3-9d2e-f3a4577dab01",
   "metadata": {},
   "source": [
    "At the threshold of 0.4, the model with a probability of 40% predicts “non-churn,” and with a probability of 60% predicts “churn.” Both TPR and FPR are 60%:\n",
    "\n",
    "- FPR is 60% because we incorrectly classify 60% of non-churning customers as churning.\n",
    "- TPR is 60% because we correctly classify 60% of churning customers as churning."
   ]
  },
  {
   "cell_type": "markdown",
   "id": "9e0b19e1-d157-4d9c-a828-dd89450d6344",
   "metadata": {},
   "source": [
    "Finally, at 1.0, both TPR and FPR are 0%. At this threshold, we predict everybody as non-churning:\n",
    "\n",
    "- FPR is 0% because we have no false positives: we can correctly classify all non-churning customers as non-churning.\n",
    "- TPR is 0% because we have no true positives: all churning customers are identified as non-churning."
   ]
  },
  {
   "cell_type": "markdown",
   "id": "b49e9679-17f6-4d72-85c9-7d6186b963a5",
   "metadata": {},
   "source": [
    "Let’s now move on to the next baseline and see how TPR and FPR look for the ideal model."
   ]
  },
  {
   "cell_type": "markdown",
   "id": "c6faf8d1-12eb-4c01-8722-64c2afe8ebd4",
   "metadata": {},
   "source": [
    "### 4.3.4. The ideal model"
   ]
  },
  {
   "cell_type": "markdown",
   "id": "c2a91235-0ab6-4463-88e5-6f3af69e5225",
   "metadata": {},
   "source": [
    "The ideal model always makes correct decisions. We’ll take it a step further and consider the ideal ranking model. This model outputs scores in such a way that churning customers always have higher scores than non-churning ones. In other words, the predicted probability for all churned ones should be higher than the predicted probability for non-churned ones."
   ]
  },
  {
   "cell_type": "markdown",
   "id": "05b045a0-2627-4634-827b-a2693e506be0",
   "metadata": {},
   "source": [
    "So, if we apply the model to all the customers in our validation set and then sort them by the predicted probability, we first will have all the non-churning customers, followed by the churning ones."
   ]
  },
  {
   "cell_type": "markdown",
   "id": "75f3f9ee-1d80-4910-9302-19880aa87018",
   "metadata": {},
   "source": [
    "Of course, we cannot have such a model in real life. It’s still useful, however: we can use it for comparing our TPR and FPR to the TPR and FPR of the ideal model."
   ]
  },
  {
   "cell_type": "markdown",
   "id": "6f32773c-d32a-4532-8d3b-61f793d6148b",
   "metadata": {},
   "source": [
    "Let's generate the ideal predictions. To make it easier, we generate an array with fake target variables that are already ordered: first it contains only 0s and then only 1s. As for \"predictions,\" we simply can create an array with numbers that grow from 0 in the first cell to 1 in the alst cell using the np.linspace function."
   ]
  },
  {
   "cell_type": "markdown",
   "id": "f751265a-7f26-4600-a79c-042bc49f0828",
   "metadata": {},
   "source": [
    "num_neg + num_pos = 1860, so y_pred_ideal is an array from 0 in the first cell to 1 in the last cell, and each cell has a value that is (1 / 1859) greater than the cell before it."
   ]
  },
  {
   "cell_type": "code",
   "execution_count": 235,
   "id": "b37f57bb-e355-4587-bb06-692a76776a66",
   "metadata": {},
   "outputs": [
    {
     "data": {
      "text/html": [
       "<div>\n",
       "<style scoped>\n",
       "    .dataframe tbody tr th:only-of-type {\n",
       "        vertical-align: middle;\n",
       "    }\n",
       "\n",
       "    .dataframe tbody tr th {\n",
       "        vertical-align: top;\n",
       "    }\n",
       "\n",
       "    .dataframe thead th {\n",
       "        text-align: right;\n",
       "    }\n",
       "</style>\n",
       "<table border=\"1\" class=\"dataframe\">\n",
       "  <thead>\n",
       "    <tr style=\"text-align: right;\">\n",
       "      <th></th>\n",
       "      <th>threshold</th>\n",
       "      <th>true_positive</th>\n",
       "      <th>false_positive</th>\n",
       "      <th>false_negative</th>\n",
       "      <th>true_negative</th>\n",
       "      <th>true_positive_rate</th>\n",
       "      <th>false_positive_rate</th>\n",
       "    </tr>\n",
       "  </thead>\n",
       "  <tbody>\n",
       "    <tr>\n",
       "      <th>0</th>\n",
       "      <td>0.0</td>\n",
       "      <td>486</td>\n",
       "      <td>1374</td>\n",
       "      <td>0</td>\n",
       "      <td>0</td>\n",
       "      <td>1.000000</td>\n",
       "      <td>1.000000</td>\n",
       "    </tr>\n",
       "    <tr>\n",
       "      <th>10</th>\n",
       "      <td>0.1</td>\n",
       "      <td>486</td>\n",
       "      <td>1188</td>\n",
       "      <td>0</td>\n",
       "      <td>186</td>\n",
       "      <td>1.000000</td>\n",
       "      <td>0.864629</td>\n",
       "    </tr>\n",
       "    <tr>\n",
       "      <th>20</th>\n",
       "      <td>0.2</td>\n",
       "      <td>486</td>\n",
       "      <td>1002</td>\n",
       "      <td>0</td>\n",
       "      <td>372</td>\n",
       "      <td>1.000000</td>\n",
       "      <td>0.729258</td>\n",
       "    </tr>\n",
       "    <tr>\n",
       "      <th>30</th>\n",
       "      <td>0.3</td>\n",
       "      <td>486</td>\n",
       "      <td>816</td>\n",
       "      <td>0</td>\n",
       "      <td>558</td>\n",
       "      <td>1.000000</td>\n",
       "      <td>0.593886</td>\n",
       "    </tr>\n",
       "    <tr>\n",
       "      <th>40</th>\n",
       "      <td>0.4</td>\n",
       "      <td>486</td>\n",
       "      <td>630</td>\n",
       "      <td>0</td>\n",
       "      <td>744</td>\n",
       "      <td>1.000000</td>\n",
       "      <td>0.458515</td>\n",
       "    </tr>\n",
       "    <tr>\n",
       "      <th>50</th>\n",
       "      <td>0.5</td>\n",
       "      <td>486</td>\n",
       "      <td>444</td>\n",
       "      <td>0</td>\n",
       "      <td>930</td>\n",
       "      <td>1.000000</td>\n",
       "      <td>0.323144</td>\n",
       "    </tr>\n",
       "    <tr>\n",
       "      <th>60</th>\n",
       "      <td>0.6</td>\n",
       "      <td>486</td>\n",
       "      <td>258</td>\n",
       "      <td>0</td>\n",
       "      <td>1116</td>\n",
       "      <td>1.000000</td>\n",
       "      <td>0.187773</td>\n",
       "    </tr>\n",
       "    <tr>\n",
       "      <th>70</th>\n",
       "      <td>0.7</td>\n",
       "      <td>486</td>\n",
       "      <td>72</td>\n",
       "      <td>0</td>\n",
       "      <td>1302</td>\n",
       "      <td>1.000000</td>\n",
       "      <td>0.052402</td>\n",
       "    </tr>\n",
       "    <tr>\n",
       "      <th>80</th>\n",
       "      <td>0.8</td>\n",
       "      <td>372</td>\n",
       "      <td>0</td>\n",
       "      <td>114</td>\n",
       "      <td>1374</td>\n",
       "      <td>0.765432</td>\n",
       "      <td>0.000000</td>\n",
       "    </tr>\n",
       "    <tr>\n",
       "      <th>90</th>\n",
       "      <td>0.9</td>\n",
       "      <td>186</td>\n",
       "      <td>0</td>\n",
       "      <td>300</td>\n",
       "      <td>1374</td>\n",
       "      <td>0.382716</td>\n",
       "      <td>0.000000</td>\n",
       "    </tr>\n",
       "    <tr>\n",
       "      <th>100</th>\n",
       "      <td>1.0</td>\n",
       "      <td>1</td>\n",
       "      <td>0</td>\n",
       "      <td>485</td>\n",
       "      <td>1374</td>\n",
       "      <td>0.002058</td>\n",
       "      <td>0.000000</td>\n",
       "    </tr>\n",
       "  </tbody>\n",
       "</table>\n",
       "</div>"
      ],
      "text/plain": [
       "     threshold  true_positive  false_positive  false_negative  true_negative  \\\n",
       "0          0.0            486            1374               0              0   \n",
       "10         0.1            486            1188               0            186   \n",
       "20         0.2            486            1002               0            372   \n",
       "30         0.3            486             816               0            558   \n",
       "40         0.4            486             630               0            744   \n",
       "50         0.5            486             444               0            930   \n",
       "60         0.6            486             258               0           1116   \n",
       "70         0.7            486              72               0           1302   \n",
       "80         0.8            372               0             114           1374   \n",
       "90         0.9            186               0             300           1374   \n",
       "100        1.0              1               0             485           1374   \n",
       "\n",
       "     true_positive_rate  false_positive_rate  \n",
       "0              1.000000             1.000000  \n",
       "10             1.000000             0.864629  \n",
       "20             1.000000             0.729258  \n",
       "30             1.000000             0.593886  \n",
       "40             1.000000             0.458515  \n",
       "50             1.000000             0.323144  \n",
       "60             1.000000             0.187773  \n",
       "70             1.000000             0.052402  \n",
       "80             0.765432             0.000000  \n",
       "90             0.382716             0.000000  \n",
       "100            0.002058             0.000000  "
      ]
     },
     "execution_count": 235,
     "metadata": {},
     "output_type": "execute_result"
    }
   ],
   "source": [
    "num_neg = (y_val == 0).sum()\n",
    "num_pos = (y_val == 1).sum()\n",
    "\n",
    "# Generates an array that first repeats 0s num_neg number of times, followed by 1s repeated num_pos number of times\n",
    "y_ideal = np.repeat([0, 1], [num_neg, num_pos])\n",
    "# Generates the predictions of the \"model\": numbers that grow from 0 in the first cell to 1 in the last\n",
    "y_pred_ideal = np.linspace(0, 1, num_neg + num_pos)\n",
    "\n",
    "df_ideal = tpr_fpr_dataframe(y_ideal, y_pred_ideal)\n",
    "df_ideal[::10]"
   ]
  },
  {
   "cell_type": "markdown",
   "id": "544112d4-43db-42e8-bede-a8eb12394157",
   "metadata": {},
   "source": [
    "As a result, we get a dataframe with the TPR and FPR values of the ideal model."
   ]
  },
  {
   "cell_type": "markdown",
   "id": "dbf07067-70ab-4dd5-8598-5c11a6eba218",
   "metadata": {},
   "source": [
    "Now we can plot it:"
   ]
  },
  {
   "cell_type": "code",
   "execution_count": 236,
   "id": "224f113d-b7ad-488c-aebf-b14ecc0c547d",
   "metadata": {},
   "outputs": [
    {
     "data": {
      "image/png": "[encoded data removed]",
      "text/plain": [
       "<Figure size 640x480 with 1 Axes>"
      ]
     },
     "metadata": {},
     "output_type": "display_data"
    }
   ],
   "source": [
    "plt.plot(df_ideal[\"threshold\"], df_ideal[\"true_positive_rate\"], label=\"True Positive Rate\")\n",
    "plt.plot(df_ideal[\"threshold\"], df_ideal[\"false_positive_rate\"], label=\"False Positive Rate\")\n",
    "plt.legend()\n",
    "\n",
    "plt.xticks(np.linspace(0, 1, 11))\n",
    "plt.yticks(np.linspace(0, 1, 11))\n",
    "\n",
    "plt.vlines(1 - y_val.mean(), -1, 2, linewidth=0.5, linestyle=\"dashed\", color=\"grey\")\n",
    "plt.ylim(-0.03, 1.03)\n",
    "\n",
    "plt.xlabel(\"Thresholds\")\n",
    "plt.title(\"TPR and FPR for the random model\")\n",
    "\n",
    "plt.show()"
   ]
  },
  {
   "cell_type": "markdown",
   "id": "bd7e33d1-9ee0-4dd4-936f-8e5321738069",
   "metadata": {},
   "source": [
    "From the plot, we can see that\n",
    "\n",
    "- Both TPR and FPR start at 100% and end at 0%.\n",
    "- For thresholds lower than 0.74, we always correctly classify all churning customers as churning; that’s why TRP stays at 100%. On the other hand, we incorrectly classify some non-churning ones as churning—those are our false positives. As we increase the threshold, fewer and fewer non-churning customers are classified as churning, so FPR goes down. At 0.6, we misclassify 258 non-churning customers as churning.\n",
    "- The threshold of 0.74 is the ideal situation: all churning customers are classified as churning, and all non-churning are classified as non-churning; that’s why TPR is 100% and FPR is 0%.\n",
    "- Between 0.74 and 1.0, we always correctly classify all non-churning customers, so FPR stays at 0%. However, as we increase the threshold, we start incorrectly classifying more and more churning customers as non-churning, so TPR goes down. At 0.8, 114 out of 446 churning customers are incorrectly classified as non-churning. Only 372 predictictions are correct, so TPR is 76%."
   ]
  },
  {
   "cell_type": "markdown",
   "id": "dccb3515-b449-4388-a336-1b832a024415",
   "metadata": {},
   "source": [
    "### 4.3.5. ROC Curve"
   ]
  },
  {
   "cell_type": "markdown",
   "id": "63cc8f60-6fd6-4e74-9e14-acf1c96c6427",
   "metadata": {},
   "source": [
    "To create an ROC curve, instead of plotting FPR and TPR against differernt threshold values, we plot them against each other. For comparison, we also add the ideal and random models to the plot:"
   ]
  },
  {
   "cell_type": "code",
   "execution_count": 237,
   "id": "0dc9f4a7-6bb0-40d2-a1e6-ee2e26b78411",
   "metadata": {},
   "outputs": [
    {
     "data": {
      "image/png": "[encoded data removed]",
      "text/plain": [
       "<Figure size 640x480 with 1 Axes>"
      ]
     },
     "metadata": {},
     "output_type": "display_data"
    }
   ],
   "source": [
    "plt.plot(df_scores[\"false_positive_rate\"], df_scores[\"true_positive_rate\"], label=\"Model\")\n",
    "plt.plot(df_rand[\"false_positive_rate\"], df_rand[\"true_positive_rate\"], label=\"Random\")\n",
    "plt.plot(df_ideal[\"false_positive_rate\"], df_ideal[\"true_positive_rate\"], label=\"Ideal\")\n",
    "\n",
    "plt.legend()\n",
    "\n",
    "plt.xlabel(\"False Positive Rate\")\n",
    "plt.ylabel(\"True Positive Rate\")\n",
    "\n",
    "plt.title(\"ROC Curve\")\n",
    "\n",
    "plt.show()"
   ]
  },
  {
   "cell_type": "markdown",
   "id": "220af793-3545-47f0-95b6-52fb27c16d64",
   "metadata": {},
   "source": [
    "When we plot the ROC curve, we can see that the ROC curve of the random classifier is an approximately straight line from bottom left to top right. For the ideal model, however, the curve first goes up until it reaches 100% TPR, and from there it goes right until it reaches 100% FPR."
   ]
  },
  {
   "cell_type": "markdown",
   "id": "e2787444-2ee8-411e-9ba1-426691aba3c8",
   "metadata": {},
   "source": [
    "Our models should always be somewhere between these two curves. We want our model to be as close to the ideal curve as possible and as far as possible from the random curve."
   ]
  },
  {
   "cell_type": "markdown",
   "id": "1401f6d4-d96a-4db6-b081-1c74dbbd8428",
   "metadata": {},
   "source": [
    "The ROC curve of a random model serves as a good visual baseline-when we add it to the plot, it helps us to judge how far our model is from this baseline-so it's a good idea to always include this line in the plot."
   ]
  },
  {
   "cell_type": "markdown",
   "id": "6dd68997-a7b3-4b0b-9c68-a47edae93f91",
   "metadata": {},
   "source": [
    "However, we don’t really need to generate a random model each time we want to have an ROC curve: we know what it looks like, so we can simply include a straight line from (0, 0) to (1, 1) in the plot."
   ]
  },
  {
   "cell_type": "markdown",
   "id": "4bbcb2ae-8d6b-4497-9ece-1ce5a984a798",
   "metadata": {},
   "source": [
    "As for the ideal model, we know that it always goes up to (0, 1) and then goes right to (1, 1). The top-left corner is called the “ideal spot”: it’s the point when the ideal model gets 100% TPR and 0% FPR. We want our models to get as close to the ideal spot as possible."
   ]
  },
  {
   "cell_type": "markdown",
   "id": "a7c69b2b-ca47-4c28-96b4-d63765cf7fd4",
   "metadata": {},
   "source": [
    "With this information, we can reduce the code for plotting the curve to the following:"
   ]
  },
  {
   "cell_type": "code",
   "execution_count": 238,
   "id": "a1530f81-ee93-4c05-a673-2ddc82a7d64a",
   "metadata": {},
   "outputs": [
    {
     "data": {
      "image/png": "[encoded data removed]",
      "text/plain": [
       "<Figure size 640x480 with 1 Axes>"
      ]
     },
     "metadata": {},
     "output_type": "display_data"
    }
   ],
   "source": [
    "plt.plot(df_scores[\"false_positive_rate\"], df_scores[\"true_positive_rate\"])\n",
    "plt.plot([0, 1], [0, 1])\n",
    "\n",
    "plt.xlabel(\"False Positive Rate\")\n",
    "plt.ylabel(\"True Positive Rate\")\n",
    "\n",
    "plt.title(\"ROC Curve\")\n",
    "\n",
    "plt.show()"
   ]
  },
  {
   "cell_type": "markdown",
   "id": "5cb40ac2-c75a-4432-82bb-c7a220392cd0",
   "metadata": {},
   "source": [
    "Although computing all the FPR and TPR values across many thresholds is a good exercise, we don’t need to do it ourselves every time we want to plot an ROC curve. We simply can use the roc_curve function from the metrics package of Scikit-learn:"
   ]
  },
  {
   "cell_type": "code",
   "execution_count": 239,
   "id": "23deff84-b360-4c85-a6d3-9a1bf11c6410",
   "metadata": {},
   "outputs": [],
   "source": [
    "from sklearn.metrics import roc_curve"
   ]
  },
  {
   "cell_type": "code",
   "execution_count": 240,
   "id": "bffbe92b-82c9-494b-8183-e85e2cffb967",
   "metadata": {},
   "outputs": [],
   "source": [
    "false_positive_rate, true_positive_rate, thresholds = roc_curve(y_val, y_pred)"
   ]
  },
  {
   "cell_type": "code",
   "execution_count": 241,
   "id": "e623a466-5598-4ce4-804c-30a5920f1d9e",
   "metadata": {},
   "outputs": [
    {
     "data": {
      "image/png": "[encoded data removed]",
      "text/plain": [
       "<Figure size 640x480 with 1 Axes>"
      ]
     },
     "metadata": {},
     "output_type": "display_data"
    }
   ],
   "source": [
    "plt.plot(false_positive_rate, true_positive_rate)\n",
    "plt.plot([0, 1], [0, 1], lw=0.7, alpha=0.5)\n",
    "\n",
    "plt.xlabel(\"False Positive Rate\")\n",
    "plt.ylabel(\"True Positive Rate\")\n",
    "\n",
    "plt.title(\"ROC Curve\")\n",
    "\n",
    "plt.show()"
   ]
  },
  {
   "cell_type": "markdown",
   "id": "939edb2c-be91-4e27-b23a-a30f178d6c4f",
   "metadata": {},
   "source": [
    "Let's try to make more sense of the curve and understand what it can actually tell us. To do this, we visually map the TPR and FPR values to their thresholds on the ROC curve."
   ]
  },
  {
   "cell_type": "markdown",
   "id": "76031a03-8bdf-40b6-b6d8-39cf8f0b4b46",
   "metadata": {},
   "source": [
    "In the ROC plot, we start from the (0, 0) point—this is the point at the bottom left. It corresponds to 0% FPR and 0% TPR, which happens at high thresholds like 1.0, when no customers are above that score. For these cases we simply end up predicting “no churn” for everyone. That’s why our TPR is 0%: we are never correctly predicting churned customers. FPR, on the other hand, is 0% because this dummy model can correctly predict all non-churning customers as non-churning, so there are no false positives."
   ]
  },
  {
   "cell_type": "markdown",
   "id": "e9858852-256b-4f7c-a038-f611acda98b8",
   "metadata": {},
   "source": [
    "The ROC curve of a good model first goes up as high as it can and only then starts turning right. Poor models, on the other hand, from the start have higher FPRs and lower TPRs, so their curves tend to go to the right earlier."
   ]
  },
  {
   "cell_type": "markdown",
   "id": "eaa7dd42-bffb-444b-b330-1faeeb2bd00b",
   "metadata": {},
   "source": [
    "We can use this for comparing multiple models: we can simply plot them on the same graph and see which of them is closer to the ideal point of (0, 1)."
   ]
  },
  {
   "cell_type": "markdown",
   "id": "d3a7ca99-a188-4461-adf8-7b8a04f1e77b",
   "metadata": {},
   "source": [
    "ROC curves are quite useful on their own, but we also have another metric that's based on it: AUC, or the area under the ROC curve."
   ]
  },
  {
   "cell_type": "markdown",
   "id": "7aaf282f-e071-45a3-b7f5-2fc130d7db90",
   "metadata": {},
   "source": [
    "### 4.3.6. Area under the ROC curve (AUC)"
   ]
  },
  {
   "cell_type": "markdown",
   "id": "a531e32f-5076-428c-bf58-70c74e592750",
   "metadata": {},
   "source": [
    "When evaluating our models using the ROC curve, we want them to be as close to the ideal spot and as far from the random baseline as possible."
   ]
  },
  {
   "cell_type": "markdown",
   "id": "4ba9f9b3-b60c-4446-9495-d2a52dac2694",
   "metadata": {},
   "source": [
    "We can quantify this \"closeness\" by measuring the area under the ROC curve. We can use this metric-abbreviated as AU ROC, or often simply AUC-as a metric for evaluating the performance of a binary classification model."
   ]
  },
  {
   "cell_type": "markdown",
   "id": "425d4ff7-1896-477c-a307-a25206136d58",
   "metadata": {},
   "source": [
    "Our models will have an AUC between 50% (random baseline) and 100% (ideal curve)."
   ]
  },
  {
   "cell_type": "markdown",
   "id": "53d869fd-3e36-4f71-a38b-3313f873a274",
   "metadata": {},
   "source": [
    "An AUC of 0.9 is indicative of a reasonably good model; 0.8 is okay, 0.7 is not very good, and 0.6 is a poor performer."
   ]
  },
  {
   "cell_type": "markdown",
   "id": "25086412-ed4f-4908-9b09-ba4e8b1a2326",
   "metadata": {},
   "source": [
    "To calculate the AUC for our models we can use auc, a function from the metrics package of Scikit-learn:"
   ]
  },
  {
   "cell_type": "code",
   "execution_count": 242,
   "id": "7bb871c7-5ed1-48d2-a234-5260e11d7ea9",
   "metadata": {},
   "outputs": [],
   "source": [
    "from sklearn.metrics import auc"
   ]
  },
  {
   "cell_type": "code",
   "execution_count": 243,
   "id": "9ff84413-72c2-4d30-986b-38694ce2a675",
   "metadata": {},
   "outputs": [
    {
     "data": {
      "text/plain": [
       "np.float64(0.8359001084215382)"
      ]
     },
     "execution_count": 243,
     "metadata": {},
     "output_type": "execute_result"
    }
   ],
   "source": [
    "auc(df_scores[\"false_positive_rate\"], df_scores[\"true_positive_rate\"])"
   ]
  },
  {
   "cell_type": "markdown",
   "id": "6d3cf602-f2d8-4dff-bdce-8dbd5fa69567",
   "metadata": {},
   "source": [
    "For the large model, the result is 0.84. Churn prediction is a complex problem, so an AUC of 84% is quite good."
   ]
  },
  {
   "cell_type": "markdown",
   "id": "f5a556ad-154b-46db-adfe-975b728a63be",
   "metadata": {},
   "source": [
    "If all we need is the AUC, we don’t need to compute the ROC curve first. We can take a shortcut and use the roc_auc_score function from Scikit-learn, which takes care of everything and simply returns the AUC of our model:"
   ]
  },
  {
   "cell_type": "code",
   "execution_count": 244,
   "id": "41a3dd72-caee-4f84-a413-cc57ad6e723f",
   "metadata": {},
   "outputs": [
    {
     "data": {
      "text/plain": [
       "np.float64(0.8363366398907399)"
      ]
     },
     "execution_count": 244,
     "metadata": {},
     "output_type": "execute_result"
    }
   ],
   "source": [
    "from sklearn.metrics import roc_auc_score\n",
    "roc_auc_score(y_val, y_pred)"
   ]
  },
  {
   "cell_type": "markdown",
   "id": "6b4698b8-8eb1-41ee-8bbb-66aff9c6dd6a",
   "metadata": {},
   "source": [
    "We get approximately the same results as previously."
   ]
  },
  {
   "cell_type": "markdown",
   "id": "4bf24ffb-cfa7-4b44-a2fb-df3a202f7ca1",
   "metadata": {},
   "source": [
    "The values from roc_auc_score may be slightly different from AUC computed from the dataframes where we calculated TPR and FPR ourselves: Scikit-learn internally uses a more precise method for creating ROC curves."
   ]
  },
  {
   "cell_type": "markdown",
   "id": "6f4496f5-e7ef-4222-915a-df0a2e33e331",
   "metadata": {},
   "source": [
    "ROC curves and AUC scores tell us how well the model separates positive and negative examples. What is more, AUC has a nice probabilistic interpretation: it tells us what the probability is that a randomly selected positive example will have a score higher than a randomly selected negative example."
   ]
  },
  {
   "cell_type": "markdown",
   "id": "b6ad920d-85ca-4dca-bcd5-5e1a8cb66777",
   "metadata": {},
   "source": [
    "Suppose we randomly pick a customer that we know churned and a customer who didn't and then apply the model to these customers and see what the score is for each. We want the model to score the churning customer higher than the non-churning one. AUC tells us the probability of that happening: it's the probability that the score of a randomly selected churning customer is higher than the score of a randomly selected non-churning one."
   ]
  },
  {
   "cell_type": "markdown",
   "id": "4b9ad52e-d406-4223-a986-604768b22d92",
   "metadata": {},
   "source": [
    "AUC not only gives us a way of evaluating the models at all possible thresholds but also describes how well the model separates two classes: in our case, churning and non-churning. If the separation is good, then we can order the customers such that most of the churning users come first. Such a model will have a good AUC score."
   ]
  },
  {
   "cell_type": "markdown",
   "id": "1407759d-d1db-4668-8f03-02b088e74a0c",
   "metadata": {},
   "source": [
    "You should keep this interpretation in mind: it provides an easy way to explain the meaning behind AUC to people without a machine learning background, such as managers and other decision makers."
   ]
  },
  {
   "cell_type": "markdown",
   "id": "59b9cb05-e4dc-416a-ac50-71786c95ffd9",
   "metadata": {},
   "source": [
    "This makes AUC the default classification metric in most situations, and it's often the metric we use when finding the best parameter set for our models."
   ]
  },
  {
   "cell_type": "markdown",
   "id": "b9adb9ca-1fa7-4995-8732-e8175dfcd7de",
   "metadata": {},
   "source": [
    "The process of finding the best parameters is called \"parameter tuning\"."
   ]
  },
  {
   "cell_type": "markdown",
   "id": "f71c2782-9e61-4348-a623-6b95c8d68d7c",
   "metadata": {},
   "source": [
    "## 4.4. Parameter tuning"
   ]
  },
  {
   "cell_type": "markdown",
   "id": "7c6c46e1-eb97-4ccb-bff6-0fbc20a6ff8d",
   "metadata": {},
   "source": [
    "How do we check if the model indeed works well in a consistent and predictable manner?"
   ]
  },
  {
   "cell_type": "markdown",
   "id": "ba0a1c20-04f6-43ca-9736-07c6b7dc6847",
   "metadata": {},
   "source": [
    "### 4.4.1. K-fold cross-validation"
   ]
  },
  {
   "cell_type": "markdown",
   "id": "5f702c78-36bc-48be-b4fb-624dab034cce",
   "metadata": {},
   "source": [
    "It's possible to use all the available data to assess the quality of models and get more reliable validation results. We can simply perform validation multiple times."
   ]
  },
  {
   "cell_type": "markdown",
   "id": "59b71deb-23da-466e-8691-1a12f7b4a866",
   "metadata": {},
   "source": [
    "First, we split the entire dataset into a certain number of parts (say, three). Then we train a model on two parts and validate on the remaining one. We repeat this process three times and at the end get three different scores. This is exactly the idea behind K-fold cross-validation."
   ]
  },
  {
   "cell_type": "markdown",
   "id": "e2180345-10ab-4e50-aa4f-9cf0c2c4ef7f",
   "metadata": {},
   "source": [
    "Before we implement it, we need to make the training process simpler, so it's easy to run this process multiple times. For that, we'll put all the code for training into a train function, which first converts the data into a one-hot encoding representation and then trains the model."
   ]
  },
  {
   "cell_type": "code",
   "execution_count": 245,
   "id": "42eac852-b481-4cd2-af00-c4d29b4da2c9",
   "metadata": {},
   "outputs": [],
   "source": [
    "def train(df, y):\n",
    "    # the 4 lines below applies one-hot encoding\n",
    "    cat = df[categorical + numerical].to_dict(orient=\"records\")\n",
    "    \n",
    "    dv = DictVectorizer(sparse=False)\n",
    "    dv.fit(cat)\n",
    "\n",
    "    X = dv.transform(cat)\n",
    "\n",
    "    # the 2 lines below train the model\n",
    "    model = LogisticRegression(solver=\"liblinear\")\n",
    "    model.fit(X, y)\n",
    "\n",
    "    return dv, model"
   ]
  },
  {
   "cell_type": "markdown",
   "id": "6304e01b-2cac-4172-acc7-417dac80e483",
   "metadata": {},
   "source": [
    "Likewise, we also put the prediction logic into a predict funtion. This function takes in a dataframe with customers, the vectorizer we \"trained\" previously-for doing one-hot encoding-and the model. Then we apply the vectorizer to the dataframe, get a matrix, and finally apply the model to the matrix to get predictions."
   ]
  },
  {
   "cell_type": "code",
   "execution_count": 246,
   "id": "48921052-61e4-468a-a0ac-1a5fad6c7b7f",
   "metadata": {},
   "outputs": [],
   "source": [
    "def predict(df, dv, model):\n",
    "    # applies the same one-hot encoding scheme as in the train function\n",
    "    cat = df[categorical + numerical].to_dict(orient=\"records\")\n",
    "    \n",
    "    X = dv.transform(cat)\n",
    "\n",
    "    # uses the model to make predictions\n",
    "    y_pred = model.predict_proba(X)[:, 1]\n",
    "\n",
    "    return y_pred"
   ]
  },
  {
   "cell_type": "markdown",
   "id": "fc56850e-bc91-41e7-bce6-ab1a0bde6145",
   "metadata": {},
   "source": [
    "Now wew can use these functions for implementing K-fold cross-validation. "
   ]
  },
  {
   "cell_type": "markdown",
   "id": "668a7351-d916-4654-8e4a-7aa541b0454a",
   "metadata": {},
   "source": [
    "We don't need to implement cross-validation ourselves: in Scikit-learn there's a class for doing that. It's called KFold, and it lives in the model_selection package."
   ]
  },
  {
   "cell_type": "code",
   "execution_count": 247,
   "id": "efe4986a-f9e6-4316-89c6-8dd94d3e48b1",
   "metadata": {},
   "outputs": [],
   "source": [
    "from sklearn.model_selection import KFold"
   ]
  },
  {
   "cell_type": "code",
   "execution_count": 248,
   "id": "4bf038ed-8c21-432b-8252-691d2b6d9cca",
   "metadata": {
    "editable": true,
    "slideshow": {
     "slide_type": ""
    },
    "tags": []
   },
   "outputs": [],
   "source": [
    "# this splits the data into 10 parts\n",
    "kfold = KFold(n_splits=10, shuffle=True, random_state=1)\n",
    "\n",
    "# n_splits is essentially k, which specifies the number of splits\n",
    "\n",
    "# this creates a list for storing the reuslts\n",
    "aucs = []\n",
    "\n",
    "# iterates over the 10 different splits of the data\n",
    "for train_idx, val_idx in kfold.split(df_train_full):\n",
    "    # splits the data into train and validation sets\n",
    "    df_train = df_train_full.iloc[train_idx]\n",
    "    df_val = df_train_full.iloc[val_idx]\n",
    "\n",
    "    y_train = df_train[\"churn\"].values\n",
    "    y_val = df_val[\"churn\"].values\n",
    "    # trains the model and makes predictions\n",
    "    dv, model = train(df_train, y_train)\n",
    "    y_pred = predict(df_val, dv, model)\n",
    "\n",
    "    # evaluates the quality of the train model on the validation data using AUC\n",
    "    auc = roc_auc_score(y_val, y_pred)\n",
    "    # saves the AUC to the list with the results\n",
    "    aucs.append(auc)"
   ]
  },
  {
   "cell_type": "markdown",
   "id": "1a6d421a-cd59-4862-958e-48cc66590457",
   "metadata": {},
   "source": [
    "Here we used K-fold cross-validation with K=10. Thus, when re run it, at the end we get 10 different numbers-10 AUC scores evaluated on 10 different validation folds:"
   ]
  },
  {
   "cell_type": "code",
   "execution_count": 249,
   "id": "34f50e17-3b6a-444e-bcd8-bf221dc795d2",
   "metadata": {},
   "outputs": [
    {
     "data": {
      "text/plain": [
       "array([0.849, 0.841, 0.859, 0.833, 0.824, 0.841, 0.844, 0.822, 0.845,\n",
       "       0.861])"
      ]
     },
     "execution_count": 249,
     "metadata": {},
     "output_type": "execute_result"
    }
   ],
   "source": [
    "np.array(aucs).round(3)"
   ]
  },
  {
   "cell_type": "markdown",
   "id": "a8e1082b-451c-43ff-b423-54bccaf78f51",
   "metadata": {},
   "source": [
    "It’s not a single number anymore, and we can think of it as a distribution of AUC scores for our model. We can get some statistics from this distribution, such as the mean and standard deviation:"
   ]
  },
  {
   "cell_type": "code",
   "execution_count": 250,
   "id": "310a544f-173f-48a9-950d-8fc574baa907",
   "metadata": {},
   "outputs": [
    {
     "name": "stdout",
     "output_type": "stream",
     "text": [
      "auc = 0.842 ± 0.012\n"
     ]
    }
   ],
   "source": [
    "print(\"auc = %0.3f ± %0.3f\" % (np.mean(aucs), np.std(aucs)))"
   ]
  },
  {
   "cell_type": "markdown",
   "id": "7238944a-e55f-45f7-8011-9b24d207cca3",
   "metadata": {},
   "source": [
    "Now, not only do we know the average performance, but we also have an idea of how volatile that performance is, or how far it may deviate from the average."
   ]
  },
  {
   "cell_type": "markdown",
   "id": "9ac3e0f4-4579-4b11-9763-3dc217f4ad55",
   "metadata": {},
   "source": [
    "A good model should be quite stable across different folds: this way, we make sure we don’t get a lot of surprises when the model goes live. The standard deviation tells us about that: the smaller it is, the more stable the model is."
   ]
  },
  {
   "cell_type": "markdown",
   "id": "9b1e4714-8d36-454b-b69e-c58c1eb23cfa",
   "metadata": {},
   "source": [
    "Now, we can use K-fold cross-validation for parameter tuning: selecting the best parameter"
   ]
  },
  {
   "cell_type": "markdown",
   "id": "34466cb7-b8b0-4162-b8ae-96dd87494029",
   "metadata": {},
   "source": [
    "### 4.4.2. Finding best parameters"
   ]
  },
  {
   "cell_type": "markdown",
   "id": "aa84cadc-9fc0-48ae-832c-f28de5c2ffa9",
   "metadata": {},
   "source": [
    "We learned how we can use K-fold cross-validation for evaluating the performance of our model. The model we trained previously was using the default value for the parameter c, which controls the amount of regularization."
   ]
  },
  {
   "cell_type": "markdown",
   "id": "bae68575-e9f9-4fa8-8bfe-cca7a735605c",
   "metadata": {},
   "source": [
    "Let's select our cross-validation procedure for selecting the best parameter c. For that, we first adjust the train function to take in an additional parameter."
   ]
  },
  {
   "cell_type": "code",
   "execution_count": 251,
   "id": "28b80acf-335d-4b80-9909-f437f1c0cb83",
   "metadata": {},
   "outputs": [],
   "source": [
    "def train(df, y, C=1.0):\n",
    "    cat = df[categorical + numerical].to_dict(orient=\"records\")\n",
    "    \n",
    "    dv = DictVectorizer(sparse=False)\n",
    "    dv.fit(cat)\n",
    "\n",
    "    X = dv.transform(cat)\n",
    "\n",
    "    model = LogisticRegression(solver=\"liblinear\", C=C)\n",
    "    model.fit(X, y)\n",
    "\n",
    "    return dv, model"
   ]
  },
  {
   "cell_type": "markdown",
   "id": "3dd1d6b5-4573-478f-83a3-4bc3b3312a7e",
   "metadata": {},
   "source": [
    "Now let's find the best parameter c. The idea is simple:\n",
    "\n",
    "- Loop over different values of c.\n",
    "- For each c, run cross-validation and record the mean AUC across all folds as well as the standard deviation."
   ]
  },
  {
   "cell_type": "code",
   "execution_count": 252,
   "id": "9fe4923b-8ce5-4dc9-a57b-bbe06de5e491",
   "metadata": {},
   "outputs": [
    {
     "name": "stdout",
     "output_type": "stream",
     "text": [
      "C=0.001, auc = 0.825 ± 0.013\n",
      "C=0.01, auc = 0.839 ± 0.009\n",
      "C=0.1, auc = 0.841 ± 0.008\n",
      "C=0.5, auc = 0.841 ± 0.007\n",
      "C=1, auc = 0.841 ± 0.007\n",
      "C=10, auc = 0.841 ± 0.007\n"
     ]
    }
   ],
   "source": [
    "nfolds = 5\n",
    "\n",
    "kfold = KFold(n_splits=nfolds, shuffle=True, random_state=1)\n",
    "\n",
    "for C in [0.001, 0.01, 0.1, 0.5, 1, 10]:\n",
    "    aucs = []\n",
    "\n",
    "    for train_idx, val_idx in kfold.split(df_train_full):\n",
    "        df_train = df_train_full.iloc[train_idx]\n",
    "        df_val = df_train_full.iloc[val_idx]\n",
    "    \n",
    "        y_train = df_train[\"churn\"].values\n",
    "        y_val = df_val[\"churn\"].values\n",
    "        \n",
    "        dv, model = train(df_train, y_train, C=C)\n",
    "        y_pred = predict(df_val, dv, model)\n",
    "    \n",
    "        auc = roc_auc_score(y_val, y_pred)\n",
    "        aucs.append(auc)\n",
    "\n",
    "    print(\"C=%s, auc = %0.3f ± %0.3f\" % (C, np.mean(aucs), np.std(aucs)))"
   ]
  },
  {
   "cell_type": "markdown",
   "id": "3ff761a4-2042-4de9-872c-264e49d9aac5",
   "metadata": {},
   "source": [
    "What we see is that after C = 0.1, the average AUC is the same and doesn’t grow anymore."
   ]
  },
  {
   "cell_type": "markdown",
   "id": "d048fb36-0f43-48d6-863c-b1dd384bbf90",
   "metadata": {},
   "source": [
    "However, the standard deviation is smaller for C = 0.5 than for C = 0.1, so we should use that. The reason we prefer C = 0.5 to C = 1 and C = 10 is simple: when the C parameter is small, the model is more regularized. The weights of this model are more restricted, so in general, they are smaller. Small weights in the model give us additional assurance that the model will behave well when we use it on real data. So we select C = 0.5."
   ]
  },
  {
   "cell_type": "markdown",
   "id": "fba6a161-0ca9-480f-81cf-442e5bf0e663",
   "metadata": {},
   "source": [
    "Now we need to do the last step: train the model on the entire train and validation datasets and apply it to the test dataset to verify it indeed works well."
   ]
  },
  {
   "cell_type": "markdown",
   "id": "892ed7ac-32dc-4842-987a-8471daba6e8f",
   "metadata": {},
   "source": [
    "Let's use our train and predict functions for that:"
   ]
  },
  {
   "cell_type": "code",
   "execution_count": 253,
   "id": "55d7e653-cbec-46a3-9040-167d63ce5c52",
   "metadata": {},
   "outputs": [
    {
     "name": "stdout",
     "output_type": "stream",
     "text": [
      "auc = 0.858\n"
     ]
    }
   ],
   "source": [
    "y_train = df_train_full[\"churn\"].values\n",
    "y_test = df_test[\"churn\"].values\n",
    "\n",
    "dv, model = train(df_train_full, y_train, C=0.5)\n",
    "y_pred = predict(df_test, dv, model)\n",
    "\n",
    "auc = roc_auc_score(y_test, y_pred)\n",
    "print(\"auc = %.3f\" % auc)"
   ]
  },
  {
   "cell_type": "markdown",
   "id": "3190da50-1d64-4021-9934-b37966345779",
   "metadata": {},
   "source": [
    "When we execute the code, we see that the performance of the model (AUC) on the held-out test set is 0.858."
   ]
  },
  {
   "cell_type": "markdown",
   "id": "dad04700-3431-472e-8c26-ce5dcb9fec88",
   "metadata": {},
   "source": [
    "That's a little higher than what we had on the validation set, but that's not an issue: it could happen just by chance. What's important is that the score is not significantly different from the validation score."
   ]
  },
  {
   "cell_type": "markdown",
   "id": "cf793b58-942a-4052-8c73-224eee37da9c",
   "metadata": {},
   "source": [
    "Now we can use this model for scoring real customers and think about our marketing campaign for preventing churn."
   ]
  },
  {
   "cell_type": "markdown",
   "id": "776d462c-77bd-424c-858d-87ea066b3f54",
   "metadata": {},
   "source": [
    "Answers:\n",
    "- Exercise 4.1 = b\n",
    "- Exerciss 4.2 = b\n",
    "- Exercise 4.3 = a\n",
    "- Exercise 4.4 = a"
   ]
  }
 ],
 "metadata": {
  "kernelspec": {
   "display_name": "Python 3 (ipykernel)",
   "language": "python",
   "name": "python3"
  },
  "language_info": {
   "codemirror_mode": {
    "name": "ipython",
    "version": 3
   },
   "file_extension": ".py",
   "mimetype": "text/x-python",
   "name": "python",
   "nbconvert_exporter": "python",
   "pygments_lexer": "ipython3",
   "version": "3.10.15"
  }
 },
 "nbformat": 4,
 "nbformat_minor": 5
}
