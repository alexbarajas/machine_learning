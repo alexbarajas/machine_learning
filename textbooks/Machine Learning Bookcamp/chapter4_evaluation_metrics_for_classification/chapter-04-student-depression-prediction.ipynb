{
 "cells": [
  {
   "cell_type": "markdown",
   "id": "12f225d5-1b9b-41ce-ae1a-bea040e971e7",
   "metadata": {},
   "source": [
    "# Student Depression Prediction"
   ]
  },
  {
   "cell_type": "markdown",
   "id": "b0c0e801-f330-4a2e-82db-52ce94ab96de",
   "metadata": {},
   "source": [
    "For this project I will use the steps in CRISP-DM, or Cross-Industry Standard Process for Data Mining. It is a widely-used framework for guiding data mining projects from start to finish."
   ]
  },
  {
   "cell_type": "markdown",
   "id": "04eb182e-fb7e-46aa-a083-26f06adb7aae",
   "metadata": {},
   "source": [
    "## Step 1: Business Understanding"
   ]
  },
  {
   "cell_type": "markdown",
   "id": "23ff5f9f-2bd0-4d4a-833b-7b20056bff86",
   "metadata": {},
   "source": [
    "We are given a dataset of students and a bunch of their data, such as their age, gender, sleep duration, etc. Our goal is to identify factors contributing to student depression, to possibly give depressed students help early in their depression, and to design early intervention strategies."
   ]
  },
  {
   "cell_type": "markdown",
   "id": "fc475e18-b002-40cb-a608-1114e9b9c90d",
   "metadata": {},
   "source": [
    "We want to check if a new student is expected to be depressed (target == 1) based on their attributes, or if they are not expected to be depressed (target == 0)."
   ]
  },
  {
   "cell_type": "markdown",
   "id": "711283d8-7ee6-4079-a11e-4274d3bce725",
   "metadata": {},
   "source": [
    "## Step 2: Data Understanding"
   ]
  },
  {
   "cell_type": "code",
   "execution_count": 1080,
   "id": "31183ff3-6656-4c50-925d-9a34902b9e55",
   "metadata": {},
   "outputs": [],
   "source": [
    "import pandas as pd\n",
    "import numpy as np\n",
    "\n",
    "import seaborn as sns\n",
    "from matplotlib import pyplot as plt\n",
    "%matplotlib inline\n",
    "\n",
    "from sklearn.model_selection import train_test_split\n",
    "from sklearn.feature_extraction import DictVectorizer\n",
    "from sklearn.linear_model import LogisticRegression"
   ]
  },
  {
   "cell_type": "code",
   "execution_count": 1081,
   "id": "22631d65-c945-4f39-ada0-5b5cc7e74e2b",
   "metadata": {},
   "outputs": [],
   "source": [
    "df = pd.read_csv(\"Student Depression Dataset.csv\")"
   ]
  },
  {
   "cell_type": "code",
   "execution_count": 1082,
   "id": "f7cb5ca4-17c7-4bce-b775-73ae6431ad8e",
   "metadata": {},
   "outputs": [
    {
     "data": {
      "text/plain": [
       "(27901, 18)"
      ]
     },
     "execution_count": 1082,
     "metadata": {},
     "output_type": "execute_result"
    }
   ],
   "source": [
    "df.shape"
   ]
  },
  {
   "cell_type": "markdown",
   "id": "aec80fb2-3314-4574-af4f-e0d9fac2f566",
   "metadata": {},
   "source": [
    "The dataset has about 28k students, that should be enough to make a good model."
   ]
  },
  {
   "cell_type": "code",
   "execution_count": 1083,
   "id": "c68d7e77-613b-4dc9-afbd-73db942a0c8d",
   "metadata": {},
   "outputs": [
    {
     "data": {
      "text/html": [
       "<div>\n",
       "<style scoped>\n",
       "    .dataframe tbody tr th:only-of-type {\n",
       "        vertical-align: middle;\n",
       "    }\n",
       "\n",
       "    .dataframe tbody tr th {\n",
       "        vertical-align: top;\n",
       "    }\n",
       "\n",
       "    .dataframe thead th {\n",
       "        text-align: right;\n",
       "    }\n",
       "</style>\n",
       "<table border=\"1\" class=\"dataframe\">\n",
       "  <thead>\n",
       "    <tr style=\"text-align: right;\">\n",
       "      <th></th>\n",
       "      <th>0</th>\n",
       "      <th>1</th>\n",
       "      <th>2</th>\n",
       "      <th>3</th>\n",
       "      <th>4</th>\n",
       "    </tr>\n",
       "  </thead>\n",
       "  <tbody>\n",
       "    <tr>\n",
       "      <th>id</th>\n",
       "      <td>2</td>\n",
       "      <td>8</td>\n",
       "      <td>26</td>\n",
       "      <td>30</td>\n",
       "      <td>32</td>\n",
       "    </tr>\n",
       "    <tr>\n",
       "      <th>Gender</th>\n",
       "      <td>Male</td>\n",
       "      <td>Female</td>\n",
       "      <td>Male</td>\n",
       "      <td>Female</td>\n",
       "      <td>Female</td>\n",
       "    </tr>\n",
       "    <tr>\n",
       "      <th>Age</th>\n",
       "      <td>33.0</td>\n",
       "      <td>24.0</td>\n",
       "      <td>31.0</td>\n",
       "      <td>28.0</td>\n",
       "      <td>25.0</td>\n",
       "    </tr>\n",
       "    <tr>\n",
       "      <th>City</th>\n",
       "      <td>Visakhapatnam</td>\n",
       "      <td>Bangalore</td>\n",
       "      <td>Srinagar</td>\n",
       "      <td>Varanasi</td>\n",
       "      <td>Jaipur</td>\n",
       "    </tr>\n",
       "    <tr>\n",
       "      <th>Profession</th>\n",
       "      <td>Student</td>\n",
       "      <td>Student</td>\n",
       "      <td>Student</td>\n",
       "      <td>Student</td>\n",
       "      <td>Student</td>\n",
       "    </tr>\n",
       "    <tr>\n",
       "      <th>Academic Pressure</th>\n",
       "      <td>5.0</td>\n",
       "      <td>2.0</td>\n",
       "      <td>3.0</td>\n",
       "      <td>3.0</td>\n",
       "      <td>4.0</td>\n",
       "    </tr>\n",
       "    <tr>\n",
       "      <th>Work Pressure</th>\n",
       "      <td>0.0</td>\n",
       "      <td>0.0</td>\n",
       "      <td>0.0</td>\n",
       "      <td>0.0</td>\n",
       "      <td>0.0</td>\n",
       "    </tr>\n",
       "    <tr>\n",
       "      <th>CGPA</th>\n",
       "      <td>8.97</td>\n",
       "      <td>5.9</td>\n",
       "      <td>7.03</td>\n",
       "      <td>5.59</td>\n",
       "      <td>8.13</td>\n",
       "    </tr>\n",
       "    <tr>\n",
       "      <th>Study Satisfaction</th>\n",
       "      <td>2.0</td>\n",
       "      <td>5.0</td>\n",
       "      <td>5.0</td>\n",
       "      <td>2.0</td>\n",
       "      <td>3.0</td>\n",
       "    </tr>\n",
       "    <tr>\n",
       "      <th>Job Satisfaction</th>\n",
       "      <td>0.0</td>\n",
       "      <td>0.0</td>\n",
       "      <td>0.0</td>\n",
       "      <td>0.0</td>\n",
       "      <td>0.0</td>\n",
       "    </tr>\n",
       "    <tr>\n",
       "      <th>Sleep Duration</th>\n",
       "      <td>5-6 hours</td>\n",
       "      <td>5-6 hours</td>\n",
       "      <td>Less than 5 hours</td>\n",
       "      <td>7-8 hours</td>\n",
       "      <td>5-6 hours</td>\n",
       "    </tr>\n",
       "    <tr>\n",
       "      <th>Dietary Habits</th>\n",
       "      <td>Healthy</td>\n",
       "      <td>Moderate</td>\n",
       "      <td>Healthy</td>\n",
       "      <td>Moderate</td>\n",
       "      <td>Moderate</td>\n",
       "    </tr>\n",
       "    <tr>\n",
       "      <th>Degree</th>\n",
       "      <td>B.Pharm</td>\n",
       "      <td>BSc</td>\n",
       "      <td>BA</td>\n",
       "      <td>BCA</td>\n",
       "      <td>M.Tech</td>\n",
       "    </tr>\n",
       "    <tr>\n",
       "      <th>Have you ever had suicidal thoughts ?</th>\n",
       "      <td>Yes</td>\n",
       "      <td>No</td>\n",
       "      <td>No</td>\n",
       "      <td>Yes</td>\n",
       "      <td>Yes</td>\n",
       "    </tr>\n",
       "    <tr>\n",
       "      <th>Work/Study Hours</th>\n",
       "      <td>3.0</td>\n",
       "      <td>3.0</td>\n",
       "      <td>9.0</td>\n",
       "      <td>4.0</td>\n",
       "      <td>1.0</td>\n",
       "    </tr>\n",
       "    <tr>\n",
       "      <th>Financial Stress</th>\n",
       "      <td>1.0</td>\n",
       "      <td>2.0</td>\n",
       "      <td>1.0</td>\n",
       "      <td>5.0</td>\n",
       "      <td>1.0</td>\n",
       "    </tr>\n",
       "    <tr>\n",
       "      <th>Family History of Mental Illness</th>\n",
       "      <td>No</td>\n",
       "      <td>Yes</td>\n",
       "      <td>Yes</td>\n",
       "      <td>Yes</td>\n",
       "      <td>No</td>\n",
       "    </tr>\n",
       "    <tr>\n",
       "      <th>Depression</th>\n",
       "      <td>1</td>\n",
       "      <td>0</td>\n",
       "      <td>0</td>\n",
       "      <td>1</td>\n",
       "      <td>0</td>\n",
       "    </tr>\n",
       "  </tbody>\n",
       "</table>\n",
       "</div>"
      ],
      "text/plain": [
       "                                                   0          1  \\\n",
       "id                                                 2          8   \n",
       "Gender                                          Male     Female   \n",
       "Age                                             33.0       24.0   \n",
       "City                                   Visakhapatnam  Bangalore   \n",
       "Profession                                   Student    Student   \n",
       "Academic Pressure                                5.0        2.0   \n",
       "Work Pressure                                    0.0        0.0   \n",
       "CGPA                                            8.97        5.9   \n",
       "Study Satisfaction                               2.0        5.0   \n",
       "Job Satisfaction                                 0.0        0.0   \n",
       "Sleep Duration                             5-6 hours  5-6 hours   \n",
       "Dietary Habits                               Healthy   Moderate   \n",
       "Degree                                       B.Pharm        BSc   \n",
       "Have you ever had suicidal thoughts ?            Yes         No   \n",
       "Work/Study Hours                                 3.0        3.0   \n",
       "Financial Stress                                 1.0        2.0   \n",
       "Family History of Mental Illness                  No        Yes   \n",
       "Depression                                         1          0   \n",
       "\n",
       "                                                       2          3          4  \n",
       "id                                                    26         30         32  \n",
       "Gender                                              Male     Female     Female  \n",
       "Age                                                 31.0       28.0       25.0  \n",
       "City                                            Srinagar   Varanasi     Jaipur  \n",
       "Profession                                       Student    Student    Student  \n",
       "Academic Pressure                                    3.0        3.0        4.0  \n",
       "Work Pressure                                        0.0        0.0        0.0  \n",
       "CGPA                                                7.03       5.59       8.13  \n",
       "Study Satisfaction                                   5.0        2.0        3.0  \n",
       "Job Satisfaction                                     0.0        0.0        0.0  \n",
       "Sleep Duration                         Less than 5 hours  7-8 hours  5-6 hours  \n",
       "Dietary Habits                                   Healthy   Moderate   Moderate  \n",
       "Degree                                                BA        BCA     M.Tech  \n",
       "Have you ever had suicidal thoughts ?                 No        Yes        Yes  \n",
       "Work/Study Hours                                     9.0        4.0        1.0  \n",
       "Financial Stress                                     1.0        5.0        1.0  \n",
       "Family History of Mental Illness                     Yes        Yes         No  \n",
       "Depression                                             0          1          0  "
      ]
     },
     "execution_count": 1083,
     "metadata": {},
     "output_type": "execute_result"
    }
   ],
   "source": [
    "df.head().T"
   ]
  },
  {
   "cell_type": "markdown",
   "id": "5381a0b6-fbf0-48c7-92cb-f8db636a4cb1",
   "metadata": {},
   "source": [
    "The small smaple we got from looking at the head of the dataset looks good and there aren't any empty values, but we should still clean up the column and value names so they are easier to work with during our analysis. Our target is Depression (we will change this column name later)."
   ]
  },
  {
   "cell_type": "code",
   "execution_count": 1084,
   "id": "a46cac54-aa1d-4a0a-8347-1ca026ebec6c",
   "metadata": {},
   "outputs": [
    {
     "data": {
      "text/plain": [
       "Depression\n",
       "1    16336\n",
       "0    11565\n",
       "Name: count, dtype: int64"
      ]
     },
     "execution_count": 1084,
     "metadata": {},
     "output_type": "execute_result"
    }
   ],
   "source": [
    "df.Depression.value_counts()"
   ]
  },
  {
   "cell_type": "code",
   "execution_count": 1085,
   "id": "e597729f-edeb-4b0e-ac28-58b5b20b4ac1",
   "metadata": {},
   "outputs": [
    {
     "data": {
      "text/plain": [
       "0.5854987276441704"
      ]
     },
     "execution_count": 1085,
     "metadata": {},
     "output_type": "execute_result"
    }
   ],
   "source": [
    "sum(df[\"Depression\"]) / len(df)"
   ]
  },
  {
   "cell_type": "markdown",
   "id": "000478e4-14da-4812-9153-e1aafa7f16b7",
   "metadata": {},
   "source": [
    "About 59% of the students in the dataset are depressed, slightly imbalanced but nothing that will make it difficult for us to make a good model."
   ]
  },
  {
   "cell_type": "code",
   "execution_count": 1086,
   "id": "72e3a0ee-b30f-4404-a665-63bec6ebb539",
   "metadata": {},
   "outputs": [
    {
     "data": {
      "text/plain": [
       "id                                       0\n",
       "Gender                                   0\n",
       "Age                                      0\n",
       "City                                     0\n",
       "Profession                               0\n",
       "Academic Pressure                        0\n",
       "Work Pressure                            0\n",
       "CGPA                                     0\n",
       "Study Satisfaction                       0\n",
       "Job Satisfaction                         0\n",
       "Sleep Duration                           0\n",
       "Dietary Habits                           0\n",
       "Degree                                   0\n",
       "Have you ever had suicidal thoughts ?    0\n",
       "Work/Study Hours                         0\n",
       "Financial Stress                         3\n",
       "Family History of Mental Illness         0\n",
       "Depression                               0\n",
       "dtype: int64"
      ]
     },
     "execution_count": 1086,
     "metadata": {},
     "output_type": "execute_result"
    }
   ],
   "source": [
    "df.isnull().sum()"
   ]
  },
  {
   "cell_type": "markdown",
   "id": "a0a32027-6f8b-4999-812d-3822becbe72a",
   "metadata": {},
   "source": [
    "There is very little missing data, this is great since every student has plenty of data."
   ]
  },
  {
   "cell_type": "markdown",
   "id": "e93f7ce9-cefc-4b2e-84f0-89c731efba40",
   "metadata": {},
   "source": [
    "## Step 3: Data Preparation"
   ]
  },
  {
   "cell_type": "markdown",
   "id": "46d8c5be-d96b-49ee-a902-0240771ecd76",
   "metadata": {},
   "source": [
    "Now we can start cleaning up the dataframe so it's easier to work with, and give us more accurate results."
   ]
  },
  {
   "cell_type": "markdown",
   "id": "3e53290c-c225-4a1d-98f1-20b617e91fbd",
   "metadata": {},
   "source": [
    "First, let's clean up the column names and values so that they're easier to read."
   ]
  },
  {
   "cell_type": "code",
   "execution_count": 1087,
   "id": "2b2bd64d-a44f-48d0-930e-8d2adeccf925",
   "metadata": {},
   "outputs": [],
   "source": [
    "df.columns = df.columns.str.lower().str.replace(\" \", \"_\")\n",
    "string_columns = list(df.dtypes[df.dtypes == \"object\"].index)\n",
    "for column in string_columns:\n",
    "    df[column] = df[column].str.lower().str.replace(\" \", \"_\")"
   ]
  },
  {
   "cell_type": "markdown",
   "id": "79c4723a-7dbf-4fd4-8d16-bb0614f42a90",
   "metadata": {},
   "source": [
    "Let's look at the dataframe now."
   ]
  },
  {
   "cell_type": "code",
   "execution_count": 1088,
   "id": "60f0c537-b77a-43ee-94cb-b24019986c8c",
   "metadata": {},
   "outputs": [
    {
     "data": {
      "text/html": [
       "<div>\n",
       "<style scoped>\n",
       "    .dataframe tbody tr th:only-of-type {\n",
       "        vertical-align: middle;\n",
       "    }\n",
       "\n",
       "    .dataframe tbody tr th {\n",
       "        vertical-align: top;\n",
       "    }\n",
       "\n",
       "    .dataframe thead th {\n",
       "        text-align: right;\n",
       "    }\n",
       "</style>\n",
       "<table border=\"1\" class=\"dataframe\">\n",
       "  <thead>\n",
       "    <tr style=\"text-align: right;\">\n",
       "      <th></th>\n",
       "      <th>0</th>\n",
       "      <th>1</th>\n",
       "      <th>2</th>\n",
       "      <th>3</th>\n",
       "      <th>4</th>\n",
       "    </tr>\n",
       "  </thead>\n",
       "  <tbody>\n",
       "    <tr>\n",
       "      <th>id</th>\n",
       "      <td>2</td>\n",
       "      <td>8</td>\n",
       "      <td>26</td>\n",
       "      <td>30</td>\n",
       "      <td>32</td>\n",
       "    </tr>\n",
       "    <tr>\n",
       "      <th>gender</th>\n",
       "      <td>male</td>\n",
       "      <td>female</td>\n",
       "      <td>male</td>\n",
       "      <td>female</td>\n",
       "      <td>female</td>\n",
       "    </tr>\n",
       "    <tr>\n",
       "      <th>age</th>\n",
       "      <td>33.0</td>\n",
       "      <td>24.0</td>\n",
       "      <td>31.0</td>\n",
       "      <td>28.0</td>\n",
       "      <td>25.0</td>\n",
       "    </tr>\n",
       "    <tr>\n",
       "      <th>city</th>\n",
       "      <td>visakhapatnam</td>\n",
       "      <td>bangalore</td>\n",
       "      <td>srinagar</td>\n",
       "      <td>varanasi</td>\n",
       "      <td>jaipur</td>\n",
       "    </tr>\n",
       "    <tr>\n",
       "      <th>profession</th>\n",
       "      <td>student</td>\n",
       "      <td>student</td>\n",
       "      <td>student</td>\n",
       "      <td>student</td>\n",
       "      <td>student</td>\n",
       "    </tr>\n",
       "    <tr>\n",
       "      <th>academic_pressure</th>\n",
       "      <td>5.0</td>\n",
       "      <td>2.0</td>\n",
       "      <td>3.0</td>\n",
       "      <td>3.0</td>\n",
       "      <td>4.0</td>\n",
       "    </tr>\n",
       "    <tr>\n",
       "      <th>work_pressure</th>\n",
       "      <td>0.0</td>\n",
       "      <td>0.0</td>\n",
       "      <td>0.0</td>\n",
       "      <td>0.0</td>\n",
       "      <td>0.0</td>\n",
       "    </tr>\n",
       "    <tr>\n",
       "      <th>cgpa</th>\n",
       "      <td>8.97</td>\n",
       "      <td>5.9</td>\n",
       "      <td>7.03</td>\n",
       "      <td>5.59</td>\n",
       "      <td>8.13</td>\n",
       "    </tr>\n",
       "    <tr>\n",
       "      <th>study_satisfaction</th>\n",
       "      <td>2.0</td>\n",
       "      <td>5.0</td>\n",
       "      <td>5.0</td>\n",
       "      <td>2.0</td>\n",
       "      <td>3.0</td>\n",
       "    </tr>\n",
       "    <tr>\n",
       "      <th>job_satisfaction</th>\n",
       "      <td>0.0</td>\n",
       "      <td>0.0</td>\n",
       "      <td>0.0</td>\n",
       "      <td>0.0</td>\n",
       "      <td>0.0</td>\n",
       "    </tr>\n",
       "    <tr>\n",
       "      <th>sleep_duration</th>\n",
       "      <td>5-6_hours</td>\n",
       "      <td>5-6_hours</td>\n",
       "      <td>less_than_5_hours</td>\n",
       "      <td>7-8_hours</td>\n",
       "      <td>5-6_hours</td>\n",
       "    </tr>\n",
       "    <tr>\n",
       "      <th>dietary_habits</th>\n",
       "      <td>healthy</td>\n",
       "      <td>moderate</td>\n",
       "      <td>healthy</td>\n",
       "      <td>moderate</td>\n",
       "      <td>moderate</td>\n",
       "    </tr>\n",
       "    <tr>\n",
       "      <th>degree</th>\n",
       "      <td>b.pharm</td>\n",
       "      <td>bsc</td>\n",
       "      <td>ba</td>\n",
       "      <td>bca</td>\n",
       "      <td>m.tech</td>\n",
       "    </tr>\n",
       "    <tr>\n",
       "      <th>have_you_ever_had_suicidal_thoughts_?</th>\n",
       "      <td>yes</td>\n",
       "      <td>no</td>\n",
       "      <td>no</td>\n",
       "      <td>yes</td>\n",
       "      <td>yes</td>\n",
       "    </tr>\n",
       "    <tr>\n",
       "      <th>work/study_hours</th>\n",
       "      <td>3.0</td>\n",
       "      <td>3.0</td>\n",
       "      <td>9.0</td>\n",
       "      <td>4.0</td>\n",
       "      <td>1.0</td>\n",
       "    </tr>\n",
       "    <tr>\n",
       "      <th>financial_stress</th>\n",
       "      <td>1.0</td>\n",
       "      <td>2.0</td>\n",
       "      <td>1.0</td>\n",
       "      <td>5.0</td>\n",
       "      <td>1.0</td>\n",
       "    </tr>\n",
       "    <tr>\n",
       "      <th>family_history_of_mental_illness</th>\n",
       "      <td>no</td>\n",
       "      <td>yes</td>\n",
       "      <td>yes</td>\n",
       "      <td>yes</td>\n",
       "      <td>no</td>\n",
       "    </tr>\n",
       "    <tr>\n",
       "      <th>depression</th>\n",
       "      <td>1</td>\n",
       "      <td>0</td>\n",
       "      <td>0</td>\n",
       "      <td>1</td>\n",
       "      <td>0</td>\n",
       "    </tr>\n",
       "  </tbody>\n",
       "</table>\n",
       "</div>"
      ],
      "text/plain": [
       "                                                   0          1  \\\n",
       "id                                                 2          8   \n",
       "gender                                          male     female   \n",
       "age                                             33.0       24.0   \n",
       "city                                   visakhapatnam  bangalore   \n",
       "profession                                   student    student   \n",
       "academic_pressure                                5.0        2.0   \n",
       "work_pressure                                    0.0        0.0   \n",
       "cgpa                                            8.97        5.9   \n",
       "study_satisfaction                               2.0        5.0   \n",
       "job_satisfaction                                 0.0        0.0   \n",
       "sleep_duration                             5-6_hours  5-6_hours   \n",
       "dietary_habits                               healthy   moderate   \n",
       "degree                                       b.pharm        bsc   \n",
       "have_you_ever_had_suicidal_thoughts_?            yes         no   \n",
       "work/study_hours                                 3.0        3.0   \n",
       "financial_stress                                 1.0        2.0   \n",
       "family_history_of_mental_illness                  no        yes   \n",
       "depression                                         1          0   \n",
       "\n",
       "                                                       2          3          4  \n",
       "id                                                    26         30         32  \n",
       "gender                                              male     female     female  \n",
       "age                                                 31.0       28.0       25.0  \n",
       "city                                            srinagar   varanasi     jaipur  \n",
       "profession                                       student    student    student  \n",
       "academic_pressure                                    3.0        3.0        4.0  \n",
       "work_pressure                                        0.0        0.0        0.0  \n",
       "cgpa                                                7.03       5.59       8.13  \n",
       "study_satisfaction                                   5.0        2.0        3.0  \n",
       "job_satisfaction                                     0.0        0.0        0.0  \n",
       "sleep_duration                         less_than_5_hours  7-8_hours  5-6_hours  \n",
       "dietary_habits                                   healthy   moderate   moderate  \n",
       "degree                                                ba        bca     m.tech  \n",
       "have_you_ever_had_suicidal_thoughts_?                 no        yes        yes  \n",
       "work/study_hours                                     9.0        4.0        1.0  \n",
       "financial_stress                                     1.0        5.0        1.0  \n",
       "family_history_of_mental_illness                     yes        yes         no  \n",
       "depression                                             0          1          0  "
      ]
     },
     "execution_count": 1088,
     "metadata": {},
     "output_type": "execute_result"
    }
   ],
   "source": [
    "df.head().T"
   ]
  },
  {
   "cell_type": "markdown",
   "id": "6e776f27-7829-4d45-8cd6-a123f8cca406",
   "metadata": {},
   "source": [
    "The column names and values are a lot easier to work with now."
   ]
  },
  {
   "cell_type": "code",
   "execution_count": 1089,
   "id": "c7e4c0d2-1695-4b2f-9cc5-70bd707eb83f",
   "metadata": {},
   "outputs": [],
   "source": [
    "from IPython.display import display\n",
    "\n",
    "def display_column_value_counts(df):\n",
    "    for column in df.columns:\n",
    "        display(df[column].value_counts().sort_index())\n",
    "        print(\"\\n\")"
   ]
  },
  {
   "cell_type": "code",
   "execution_count": 1090,
   "id": "6040084b-73a8-4d15-a987-67202ab5e9fa",
   "metadata": {},
   "outputs": [
    {
     "data": {
      "text/plain": [
       "id\n",
       "2         1\n",
       "8         1\n",
       "26        1\n",
       "30        1\n",
       "32        1\n",
       "         ..\n",
       "140685    1\n",
       "140686    1\n",
       "140689    1\n",
       "140690    1\n",
       "140699    1\n",
       "Name: count, Length: 27901, dtype: int64"
      ]
     },
     "metadata": {},
     "output_type": "display_data"
    },
    {
     "name": "stdout",
     "output_type": "stream",
     "text": [
      "\n",
      "\n"
     ]
    },
    {
     "data": {
      "text/plain": [
       "gender\n",
       "female    12354\n",
       "male      15547\n",
       "Name: count, dtype: int64"
      ]
     },
     "metadata": {},
     "output_type": "display_data"
    },
    {
     "name": "stdout",
     "output_type": "stream",
     "text": [
      "\n",
      "\n"
     ]
    },
    {
     "data": {
      "text/plain": [
       "age\n",
       "18.0    1587\n",
       "19.0    1560\n",
       "20.0    2237\n",
       "21.0    1726\n",
       "22.0    1160\n",
       "23.0    1645\n",
       "24.0    2258\n",
       "25.0    1784\n",
       "26.0    1155\n",
       "27.0    1462\n",
       "28.0    2133\n",
       "29.0    1950\n",
       "30.0    1145\n",
       "31.0    1427\n",
       "32.0    1262\n",
       "33.0    1893\n",
       "34.0    1468\n",
       "35.0      10\n",
       "36.0       7\n",
       "37.0       2\n",
       "38.0       8\n",
       "39.0       3\n",
       "41.0       1\n",
       "42.0       4\n",
       "43.0       2\n",
       "44.0       1\n",
       "46.0       2\n",
       "48.0       3\n",
       "49.0       1\n",
       "51.0       1\n",
       "54.0       1\n",
       "56.0       1\n",
       "58.0       1\n",
       "59.0       1\n",
       "Name: count, dtype: int64"
      ]
     },
     "metadata": {},
     "output_type": "display_data"
    },
    {
     "name": "stdout",
     "output_type": "stream",
     "text": [
      "\n",
      "\n"
     ]
    },
    {
     "data": {
      "text/plain": [
       "city\n",
       "3.0                      1\n",
       "agra                  1094\n",
       "ahmedabad              951\n",
       "bangalore              767\n",
       "bhavna                   2\n",
       "bhopal                 934\n",
       "chennai                885\n",
       "city                     2\n",
       "delhi                  768\n",
       "faridabad              461\n",
       "gaurav                   1\n",
       "ghaziabad              745\n",
       "harsh                    1\n",
       "harsha                   2\n",
       "hyderabad             1340\n",
       "indore                 643\n",
       "jaipur                1036\n",
       "kalyan                1570\n",
       "kanpur                 609\n",
       "khaziabad                1\n",
       "kibara                   1\n",
       "kolkata               1066\n",
       "less_delhi               1\n",
       "less_than_5_kalyan       1\n",
       "lucknow               1155\n",
       "ludhiana              1111\n",
       "m.com                    1\n",
       "m.tech                   1\n",
       "me                       1\n",
       "meerut                 825\n",
       "mihir                    1\n",
       "mira                     1\n",
       "mumbai                 699\n",
       "nagpur                 651\n",
       "nalini                   1\n",
       "nalyan                   1\n",
       "nandini                  1\n",
       "nashik                 547\n",
       "patna                 1007\n",
       "pune                   968\n",
       "rajkot                 816\n",
       "rashi                    1\n",
       "reyansh                  1\n",
       "saanvi                   2\n",
       "srinagar              1372\n",
       "surat                 1078\n",
       "thane                 1139\n",
       "vaanya                   1\n",
       "vadodara               694\n",
       "varanasi               685\n",
       "vasai-virar           1290\n",
       "visakhapatnam          969\n",
       "Name: count, dtype: int64"
      ]
     },
     "metadata": {},
     "output_type": "display_data"
    },
    {
     "name": "stdout",
     "output_type": "stream",
     "text": [
      "\n",
      "\n"
     ]
    },
    {
     "data": {
      "text/plain": [
       "profession\n",
       "architect                     8\n",
       "chef                          2\n",
       "civil_engineer                1\n",
       "content_writer                2\n",
       "digital_marketer              3\n",
       "doctor                        2\n",
       "educational_consultant        1\n",
       "entrepreneur                  1\n",
       "lawyer                        1\n",
       "manager                       1\n",
       "pharmacist                    2\n",
       "student                   27870\n",
       "teacher                       6\n",
       "ux/ui_designer                1\n",
       "Name: count, dtype: int64"
      ]
     },
     "metadata": {},
     "output_type": "display_data"
    },
    {
     "name": "stdout",
     "output_type": "stream",
     "text": [
      "\n",
      "\n"
     ]
    },
    {
     "data": {
      "text/plain": [
       "academic_pressure\n",
       "0.0       9\n",
       "1.0    4801\n",
       "2.0    4178\n",
       "3.0    7462\n",
       "4.0    5155\n",
       "5.0    6296\n",
       "Name: count, dtype: int64"
      ]
     },
     "metadata": {},
     "output_type": "display_data"
    },
    {
     "name": "stdout",
     "output_type": "stream",
     "text": [
      "\n",
      "\n"
     ]
    },
    {
     "data": {
      "text/plain": [
       "work_pressure\n",
       "0.0    27898\n",
       "2.0        1\n",
       "5.0        2\n",
       "Name: count, dtype: int64"
      ]
     },
     "metadata": {},
     "output_type": "display_data"
    },
    {
     "name": "stdout",
     "output_type": "stream",
     "text": [
      "\n",
      "\n"
     ]
    },
    {
     "data": {
      "text/plain": [
       "cgpa\n",
       "0.00       9\n",
       "5.03      17\n",
       "5.06      15\n",
       "5.08      95\n",
       "5.09      20\n",
       "        ... \n",
       "9.95     133\n",
       "9.96     425\n",
       "9.97     139\n",
       "9.98      59\n",
       "10.00     58\n",
       "Name: count, Length: 332, dtype: int64"
      ]
     },
     "metadata": {},
     "output_type": "display_data"
    },
    {
     "name": "stdout",
     "output_type": "stream",
     "text": [
      "\n",
      "\n"
     ]
    },
    {
     "data": {
      "text/plain": [
       "study_satisfaction\n",
       "0.0      10\n",
       "1.0    5451\n",
       "2.0    5838\n",
       "3.0    5821\n",
       "4.0    6359\n",
       "5.0    4422\n",
       "Name: count, dtype: int64"
      ]
     },
     "metadata": {},
     "output_type": "display_data"
    },
    {
     "name": "stdout",
     "output_type": "stream",
     "text": [
      "\n",
      "\n"
     ]
    },
    {
     "data": {
      "text/plain": [
       "job_satisfaction\n",
       "0.0    27893\n",
       "1.0        2\n",
       "2.0        3\n",
       "3.0        1\n",
       "4.0        2\n",
       "Name: count, dtype: int64"
      ]
     },
     "metadata": {},
     "output_type": "display_data"
    },
    {
     "name": "stdout",
     "output_type": "stream",
     "text": [
      "\n",
      "\n"
     ]
    },
    {
     "data": {
      "text/plain": [
       "sleep_duration\n",
       "5-6_hours            6183\n",
       "7-8_hours            7346\n",
       "less_than_5_hours    8310\n",
       "more_than_8_hours    6044\n",
       "others                 18\n",
       "Name: count, dtype: int64"
      ]
     },
     "metadata": {},
     "output_type": "display_data"
    },
    {
     "name": "stdout",
     "output_type": "stream",
     "text": [
      "\n",
      "\n"
     ]
    },
    {
     "data": {
      "text/plain": [
       "dietary_habits\n",
       "healthy       7651\n",
       "moderate      9921\n",
       "others          12\n",
       "unhealthy    10317\n",
       "Name: count, dtype: int64"
      ]
     },
     "metadata": {},
     "output_type": "display_data"
    },
    {
     "name": "stdout",
     "output_type": "stream",
     "text": [
      "\n",
      "\n"
     ]
    },
    {
     "data": {
      "text/plain": [
       "degree\n",
       "b.arch      1478\n",
       "b.com       1506\n",
       "b.ed        1867\n",
       "b.pharm      810\n",
       "b.tech      1152\n",
       "ba           600\n",
       "bba          696\n",
       "bca         1433\n",
       "be           613\n",
       "bhm          925\n",
       "bsc          888\n",
       "class_12    6080\n",
       "llb          671\n",
       "llm          482\n",
       "m.com        734\n",
       "m.ed         821\n",
       "m.pharm      582\n",
       "m.tech      1022\n",
       "ma           544\n",
       "mba          562\n",
       "mbbs         696\n",
       "mca         1044\n",
       "md           572\n",
       "me           185\n",
       "mhm          191\n",
       "msc         1190\n",
       "others        35\n",
       "phd          522\n",
       "Name: count, dtype: int64"
      ]
     },
     "metadata": {},
     "output_type": "display_data"
    },
    {
     "name": "stdout",
     "output_type": "stream",
     "text": [
      "\n",
      "\n"
     ]
    },
    {
     "data": {
      "text/plain": [
       "have_you_ever_had_suicidal_thoughts_?\n",
       "no     10245\n",
       "yes    17656\n",
       "Name: count, dtype: int64"
      ]
     },
     "metadata": {},
     "output_type": "display_data"
    },
    {
     "name": "stdout",
     "output_type": "stream",
     "text": [
      "\n",
      "\n"
     ]
    },
    {
     "data": {
      "text/plain": [
       "work/study_hours\n",
       "0.0     1700\n",
       "1.0     1150\n",
       "2.0     1590\n",
       "3.0     1470\n",
       "4.0     1614\n",
       "5.0     1296\n",
       "6.0     2247\n",
       "7.0     2001\n",
       "8.0     2509\n",
       "9.0     2026\n",
       "10.0    4234\n",
       "11.0    2892\n",
       "12.0    3172\n",
       "Name: count, dtype: int64"
      ]
     },
     "metadata": {},
     "output_type": "display_data"
    },
    {
     "name": "stdout",
     "output_type": "stream",
     "text": [
      "\n",
      "\n"
     ]
    },
    {
     "data": {
      "text/plain": [
       "financial_stress\n",
       "1.0    5121\n",
       "2.0    5061\n",
       "3.0    5226\n",
       "4.0    5775\n",
       "5.0    6715\n",
       "Name: count, dtype: int64"
      ]
     },
     "metadata": {},
     "output_type": "display_data"
    },
    {
     "name": "stdout",
     "output_type": "stream",
     "text": [
      "\n",
      "\n"
     ]
    },
    {
     "data": {
      "text/plain": [
       "family_history_of_mental_illness\n",
       "no     14398\n",
       "yes    13503\n",
       "Name: count, dtype: int64"
      ]
     },
     "metadata": {},
     "output_type": "display_data"
    },
    {
     "name": "stdout",
     "output_type": "stream",
     "text": [
      "\n",
      "\n"
     ]
    },
    {
     "data": {
      "text/plain": [
       "depression\n",
       "0    11565\n",
       "1    16336\n",
       "Name: count, dtype: int64"
      ]
     },
     "metadata": {},
     "output_type": "display_data"
    },
    {
     "name": "stdout",
     "output_type": "stream",
     "text": [
      "\n",
      "\n"
     ]
    }
   ],
   "source": [
    "display_column_value_counts(df)"
   ]
  },
  {
   "cell_type": "markdown",
   "id": "b62db2f3-abdb-4afb-8315-1635c9f01612",
   "metadata": {},
   "source": [
    "Looking at the value counts for the values of each column we can make some assumptions:\n",
    "\n",
    "- the id column does nothing, so we can remove it\n",
    "- people with ages over 34 can be removed from the dataset due to low counts\n",
    "- people with a city that has a count under 400 can be removed due to low counts\n",
    "- people with a profession that isn't student can be removed since this analysis is on students and the other professions have low counts\n",
    "- drop the profession column once it only has students\n",
    "- people with an academic_pressure that's 0 can be removed due to low counts\n",
    "- people with a work_pressure aside from 0 can be removed due to low counts\n",
    "- drop the work_pressure column since it only has values of 0\n",
    "- people with a study_satisfaction that's 0 can be removed due to low counts\n",
    "- people with a job_satisfaction aside from 0 can be removed due to low counts\n",
    "- drop the job_satisfaction column since it only has values of 0\n",
    "- people with a sleep_duration of \"others\" can be removed due to low counts, and the other options taking care of every possible option of sleep_duration\n",
    "- people with a dietary_habits of \"others\" can be removed due to low counts, and the other options taking care of every possible option of dietary_habits\n",
    "- people with a degree of \"others\" can be removed since it can be any degree and has low counts"
   ]
  },
  {
   "cell_type": "code",
   "execution_count": 1091,
   "id": "67b8527c-5e0c-4f46-84e3-e5038f7d70a1",
   "metadata": {},
   "outputs": [],
   "source": [
    "df = df.drop(\"id\", axis=1)\n",
    "df = df[df[\"age\"] <= 34]\n",
    "df = df[df[\"city\"].map(df[\"city\"].value_counts() >= 400)]\n",
    "df = df[df[\"profession\"] == \"student\"]\n",
    "df = df.drop(\"profession\", axis=1)\n",
    "df = df[df[\"academic_pressure\"] >= 1]\n",
    "df = df[df[\"work_pressure\"] == 0]\n",
    "df = df.drop(\"work_pressure\", axis=1)\n",
    "df = df[df[\"study_satisfaction\"] >= 1]\n",
    "df = df[df[\"job_satisfaction\"] == 0]\n",
    "df = df.drop(\"job_satisfaction\", axis=1)\n",
    "df = df[df[\"sleep_duration\"] != \"others\"]\n",
    "df = df[df[\"dietary_habits\"] != \"others\"]\n",
    "df = df[df[\"degree\"] != \"others\"]"
   ]
  },
  {
   "cell_type": "code",
   "execution_count": 1092,
   "id": "555e51e4-bf6b-4def-942d-2c32d1390796",
   "metadata": {},
   "outputs": [
    {
     "data": {
      "text/plain": [
       "(27718, 14)"
      ]
     },
     "execution_count": 1092,
     "metadata": {},
     "output_type": "execute_result"
    }
   ],
   "source": [
    "df.shape"
   ]
  },
  {
   "cell_type": "markdown",
   "id": "1c287629-a14f-4004-8872-d39e7a5861fa",
   "metadata": {},
   "source": [
    "We ended up getting rid of about 200 people that were not going to positively contribute to the dataset, let's look at the counts of the values in each column to see if we forgot anything."
   ]
  },
  {
   "cell_type": "code",
   "execution_count": 1093,
   "id": "94df8f7b-093d-4ae4-89e9-288519933c51",
   "metadata": {},
   "outputs": [
    {
     "data": {
      "text/plain": [
       "gender\n",
       "female    12265\n",
       "male      15453\n",
       "Name: count, dtype: int64"
      ]
     },
     "metadata": {},
     "output_type": "display_data"
    },
    {
     "name": "stdout",
     "output_type": "stream",
     "text": [
      "\n",
      "\n"
     ]
    },
    {
     "data": {
      "text/plain": [
       "age\n",
       "18.0    1580\n",
       "19.0    1559\n",
       "20.0    2229\n",
       "21.0    1716\n",
       "22.0    1156\n",
       "23.0    1633\n",
       "24.0    2251\n",
       "25.0    1776\n",
       "26.0    1150\n",
       "27.0    1454\n",
       "28.0    2121\n",
       "29.0    1936\n",
       "30.0    1136\n",
       "31.0    1418\n",
       "32.0    1252\n",
       "33.0    1889\n",
       "34.0    1462\n",
       "Name: count, dtype: int64"
      ]
     },
     "metadata": {},
     "output_type": "display_data"
    },
    {
     "name": "stdout",
     "output_type": "stream",
     "text": [
      "\n",
      "\n"
     ]
    },
    {
     "data": {
      "text/plain": [
       "city\n",
       "agra             1087\n",
       "ahmedabad         942\n",
       "bangalore         763\n",
       "bhopal            928\n",
       "chennai           882\n",
       "delhi             764\n",
       "faridabad         458\n",
       "ghaziabad         739\n",
       "hyderabad        1335\n",
       "indore            642\n",
       "jaipur           1033\n",
       "kalyan           1559\n",
       "kanpur            605\n",
       "kolkata          1056\n",
       "lucknow          1150\n",
       "ludhiana         1104\n",
       "meerut            817\n",
       "mumbai            693\n",
       "nagpur            646\n",
       "nashik            544\n",
       "patna             998\n",
       "pune              966\n",
       "rajkot            809\n",
       "srinagar         1364\n",
       "surat            1076\n",
       "thane            1138\n",
       "vadodara          689\n",
       "varanasi          683\n",
       "vasai-virar      1285\n",
       "visakhapatnam     963\n",
       "Name: count, dtype: int64"
      ]
     },
     "metadata": {},
     "output_type": "display_data"
    },
    {
     "name": "stdout",
     "output_type": "stream",
     "text": [
      "\n",
      "\n"
     ]
    },
    {
     "data": {
      "text/plain": [
       "academic_pressure\n",
       "1.0    4774\n",
       "2.0    4152\n",
       "3.0    7408\n",
       "4.0    5129\n",
       "5.0    6255\n",
       "Name: count, dtype: int64"
      ]
     },
     "metadata": {},
     "output_type": "display_data"
    },
    {
     "name": "stdout",
     "output_type": "stream",
     "text": [
      "\n",
      "\n"
     ]
    },
    {
     "data": {
      "text/plain": [
       "cgpa\n",
       "0.00       2\n",
       "5.03      17\n",
       "5.06      15\n",
       "5.08      94\n",
       "5.09      20\n",
       "        ... \n",
       "9.95     132\n",
       "9.96     422\n",
       "9.97     139\n",
       "9.98      58\n",
       "10.00     58\n",
       "Name: count, Length: 331, dtype: int64"
      ]
     },
     "metadata": {},
     "output_type": "display_data"
    },
    {
     "name": "stdout",
     "output_type": "stream",
     "text": [
      "\n",
      "\n"
     ]
    },
    {
     "data": {
      "text/plain": [
       "study_satisfaction\n",
       "1.0    5414\n",
       "2.0    5809\n",
       "3.0    5782\n",
       "4.0    6322\n",
       "5.0    4391\n",
       "Name: count, dtype: int64"
      ]
     },
     "metadata": {},
     "output_type": "display_data"
    },
    {
     "name": "stdout",
     "output_type": "stream",
     "text": [
      "\n",
      "\n"
     ]
    },
    {
     "data": {
      "text/plain": [
       "sleep_duration\n",
       "5-6_hours            6144\n",
       "7-8_hours            7299\n",
       "less_than_5_hours    8263\n",
       "more_than_8_hours    6012\n",
       "Name: count, dtype: int64"
      ]
     },
     "metadata": {},
     "output_type": "display_data"
    },
    {
     "name": "stdout",
     "output_type": "stream",
     "text": [
      "\n",
      "\n"
     ]
    },
    {
     "data": {
      "text/plain": [
       "dietary_habits\n",
       "healthy       7606\n",
       "moderate      9858\n",
       "unhealthy    10254\n",
       "Name: count, dtype: int64"
      ]
     },
     "metadata": {},
     "output_type": "display_data"
    },
    {
     "name": "stdout",
     "output_type": "stream",
     "text": [
      "\n",
      "\n"
     ]
    },
    {
     "data": {
      "text/plain": [
       "degree\n",
       "b.arch      1473\n",
       "b.com       1500\n",
       "b.ed        1857\n",
       "b.pharm      808\n",
       "b.tech      1151\n",
       "ba           594\n",
       "bba          695\n",
       "bca         1429\n",
       "be           608\n",
       "bhm          920\n",
       "bsc          879\n",
       "class_12    6054\n",
       "llb          668\n",
       "llm          480\n",
       "m.com        730\n",
       "m.ed         815\n",
       "m.pharm      578\n",
       "m.tech      1018\n",
       "ma           542\n",
       "mba          560\n",
       "mbbs         689\n",
       "mca         1035\n",
       "md           566\n",
       "me           184\n",
       "mhm          191\n",
       "msc         1181\n",
       "phd          513\n",
       "Name: count, dtype: int64"
      ]
     },
     "metadata": {},
     "output_type": "display_data"
    },
    {
     "name": "stdout",
     "output_type": "stream",
     "text": [
      "\n",
      "\n"
     ]
    },
    {
     "data": {
      "text/plain": [
       "have_you_ever_had_suicidal_thoughts_?\n",
       "no     10171\n",
       "yes    17547\n",
       "Name: count, dtype: int64"
      ]
     },
     "metadata": {},
     "output_type": "display_data"
    },
    {
     "name": "stdout",
     "output_type": "stream",
     "text": [
      "\n",
      "\n"
     ]
    },
    {
     "data": {
      "text/plain": [
       "work/study_hours\n",
       "0.0     1686\n",
       "1.0     1140\n",
       "2.0     1568\n",
       "3.0     1456\n",
       "4.0     1599\n",
       "5.0     1283\n",
       "6.0     2238\n",
       "7.0     1989\n",
       "8.0     2498\n",
       "9.0     2015\n",
       "10.0    4214\n",
       "11.0    2879\n",
       "12.0    3153\n",
       "Name: count, dtype: int64"
      ]
     },
     "metadata": {},
     "output_type": "display_data"
    },
    {
     "name": "stdout",
     "output_type": "stream",
     "text": [
      "\n",
      "\n"
     ]
    },
    {
     "data": {
      "text/plain": [
       "financial_stress\n",
       "1.0    5085\n",
       "2.0    5036\n",
       "3.0    5194\n",
       "4.0    5737\n",
       "5.0    6663\n",
       "Name: count, dtype: int64"
      ]
     },
     "metadata": {},
     "output_type": "display_data"
    },
    {
     "name": "stdout",
     "output_type": "stream",
     "text": [
      "\n",
      "\n"
     ]
    },
    {
     "data": {
      "text/plain": [
       "family_history_of_mental_illness\n",
       "no     14304\n",
       "yes    13414\n",
       "Name: count, dtype: int64"
      ]
     },
     "metadata": {},
     "output_type": "display_data"
    },
    {
     "name": "stdout",
     "output_type": "stream",
     "text": [
      "\n",
      "\n"
     ]
    },
    {
     "data": {
      "text/plain": [
       "depression\n",
       "0    11483\n",
       "1    16235\n",
       "Name: count, dtype: int64"
      ]
     },
     "metadata": {},
     "output_type": "display_data"
    },
    {
     "name": "stdout",
     "output_type": "stream",
     "text": [
      "\n",
      "\n"
     ]
    }
   ],
   "source": [
    "display_column_value_counts(df)"
   ]
  },
  {
   "cell_type": "markdown",
   "id": "d84abfb5-1fd3-457c-8408-808e9c1ba55e",
   "metadata": {},
   "source": [
    "It looks good for the most part but the cgpa column might have some outliers, let's look at it with a histogram."
   ]
  },
  {
   "cell_type": "code",
   "execution_count": 1094,
   "id": "969b5f47-dd34-4932-89fa-338537a31f1d",
   "metadata": {},
   "outputs": [
    {
     "data": {
      "text/plain": [
       "<Axes: xlabel='cgpa', ylabel='Count'>"
      ]
     },
     "execution_count": 1094,
     "metadata": {},
     "output_type": "execute_result"
    },
    {
     "data": {
      "image/png": "[encoded data removed]",
      "text/plain": [
       "<Figure size 640x480 with 1 Axes>"
      ]
     },
     "metadata": {},
     "output_type": "display_data"
    }
   ],
   "source": [
    "sns.histplot(df[\"cgpa\"])"
   ]
  },
  {
   "cell_type": "markdown",
   "id": "653af1dd-f74f-4e2f-854e-d5892e234020",
   "metadata": {},
   "source": [
    "We can see that below a cgpa of 5, there is a little bump at cgpa == 0 where the 2 outliers are, let's remove them from the table."
   ]
  },
  {
   "cell_type": "code",
   "execution_count": 1095,
   "id": "4cd37eeb-0aab-445f-bca8-22bacd3fbf4f",
   "metadata": {},
   "outputs": [],
   "source": [
    "df = df[df[\"cgpa\"] >= 5]"
   ]
  },
  {
   "cell_type": "markdown",
   "id": "e826b3e7-dbc6-4336-8595-61a780b84501",
   "metadata": {},
   "source": [
    "Next let's see if there are any empty values in the dataframe."
   ]
  },
  {
   "cell_type": "code",
   "execution_count": 1096,
   "id": "5fcda2f1-1971-4f64-a198-a8da952597c1",
   "metadata": {},
   "outputs": [
    {
     "data": {
      "text/plain": [
       "gender                                   0\n",
       "age                                      0\n",
       "city                                     0\n",
       "academic_pressure                        0\n",
       "cgpa                                     0\n",
       "study_satisfaction                       0\n",
       "sleep_duration                           0\n",
       "dietary_habits                           0\n",
       "degree                                   0\n",
       "have_you_ever_had_suicidal_thoughts_?    0\n",
       "work/study_hours                         0\n",
       "financial_stress                         3\n",
       "family_history_of_mental_illness         0\n",
       "depression                               0\n",
       "dtype: int64"
      ]
     },
     "execution_count": 1096,
     "metadata": {},
     "output_type": "execute_result"
    }
   ],
   "source": [
    "df.isnull().sum()"
   ]
  },
  {
   "cell_type": "markdown",
   "id": "8e8844f1-f859-4a38-aacb-190ff4c35778",
   "metadata": {},
   "source": [
    "The financial_stress column has 3 rows without values, so let's get rid of the, since it's such a small number."
   ]
  },
  {
   "cell_type": "code",
   "execution_count": 1097,
   "id": "a18e4e14-7d1d-4c98-a09a-b3b68ee53978",
   "metadata": {},
   "outputs": [],
   "source": [
    "df = df.dropna(subset=[\"financial_stress\"])"
   ]
  },
  {
   "cell_type": "markdown",
   "id": "d893b83f-277f-407c-9bb9-66b0af371b88",
   "metadata": {},
   "source": [
    "Now that the data is cleaned up, we can clean up the actual values in the columns. This part is not necessary since we are just making some float values into integer values, but it's nice to not have any unnecessary data."
   ]
  },
  {
   "cell_type": "code",
   "execution_count": 1098,
   "id": "fcb63997-c80d-4525-9bf4-6cd38079e2b5",
   "metadata": {},
   "outputs": [
    {
     "data": {
      "text/plain": [
       "gender                                    object\n",
       "age                                      float64\n",
       "city                                      object\n",
       "academic_pressure                        float64\n",
       "cgpa                                     float64\n",
       "study_satisfaction                       float64\n",
       "sleep_duration                            object\n",
       "dietary_habits                            object\n",
       "degree                                    object\n",
       "have_you_ever_had_suicidal_thoughts_?     object\n",
       "work/study_hours                         float64\n",
       "financial_stress                         float64\n",
       "family_history_of_mental_illness          object\n",
       "depression                                 int64\n",
       "dtype: object"
      ]
     },
     "execution_count": 1098,
     "metadata": {},
     "output_type": "execute_result"
    }
   ],
   "source": [
    "df.dtypes"
   ]
  },
  {
   "cell_type": "markdown",
   "id": "4d1c200e-463e-4bf3-a1d1-35bb5d90b469",
   "metadata": {},
   "source": [
    "The cgpa column is the only float column that uses actual floats, the rest use integers, let's change the column data types to integers."
   ]
  },
  {
   "cell_type": "code",
   "execution_count": 1099,
   "id": "189e36d8-e99c-4963-bb19-ee837e0c95dc",
   "metadata": {},
   "outputs": [],
   "source": [
    "float_columns = list(df.dtypes[df.dtypes == \"float\"].index)\n",
    "float_columns.remove(\"cgpa\")"
   ]
  },
  {
   "cell_type": "code",
   "execution_count": 1100,
   "id": "34d94f0e-5e44-491d-b5e5-b04a5421f182",
   "metadata": {},
   "outputs": [],
   "source": [
    "for column in float_columns:\n",
    "    df[column] = df[column].astype(int)"
   ]
  },
  {
   "cell_type": "markdown",
   "id": "bebfac6a-f74f-421f-a0c7-e3cbb4101872",
   "metadata": {},
   "source": [
    "The have_you_ever_had_suicidal_thoughts_? and family_history_of_mental_illness columns are objects, but they are easier to work with as integers. Let's change each \"no\" to a 0, and each \"yes\" to a 1."
   ]
  },
  {
   "cell_type": "code",
   "execution_count": 1101,
   "id": "f8dd8e2c-5e8f-4a72-bb00-0948e8203e69",
   "metadata": {},
   "outputs": [],
   "source": [
    "df[[\"have_you_ever_had_suicidal_thoughts_?\", \"family_history_of_mental_illness\"]] = (df[[\"have_you_ever_had_suicidal_thoughts_?\", \"family_history_of_mental_illness\"]] == \"yes\").astype(int)"
   ]
  },
  {
   "cell_type": "markdown",
   "id": "32386df3-979d-49bc-a6ce-d8f9033c30fb",
   "metadata": {},
   "source": [
    "Now the dataframe is cleaned up and ready for us to start our modeling."
   ]
  },
  {
   "cell_type": "markdown",
   "id": "2c826554-f831-4aed-abb3-b1db94915e88",
   "metadata": {},
   "source": [
    "## Step 4: Modeling"
   ]
  },
  {
   "cell_type": "markdown",
   "id": "787d5b51-4857-463d-96a2-67a28c1de76a",
   "metadata": {},
   "source": [
    "Let's break up the dataframe into train, test, and validation."
   ]
  },
  {
   "cell_type": "markdown",
   "id": "87743c2e-ba7c-435c-994a-2c2de1f1945b",
   "metadata": {},
   "source": [
    "To avoid accidentally using the target variable later, let's remove it from the dataframes:"
   ]
  },
  {
   "cell_type": "code",
   "execution_count": 1102,
   "id": "9737df2a-1fa8-4874-9bff-b346fb72e3a8",
   "metadata": {},
   "outputs": [],
   "source": [
    "df_train_full, df_test = train_test_split(df, test_size=0.2, random_state=1)\n",
    "df_train, df_val = train_test_split(df_train_full, test_size=0.25, random_state=1)\n",
    "\n",
    "y_train = df_train[\"depression\"].values\n",
    "y_val = df_val[\"depression\"].values\n",
    "\n",
    "del df_train[\"depression\"]\n",
    "del df_val[\"depression\"]"
   ]
  },
  {
   "cell_type": "markdown",
   "id": "646eed9a-06ff-4985-bbbf-2dc15f2f56be",
   "metadata": {},
   "source": [
    "Removing the target variable is an optional step, but it's helpful to make sure that we don't use it when training a model. If that happens, we'd use depression for predicting the depression, and our model would have perfect accuracy."
   ]
  },
  {
   "cell_type": "code",
   "execution_count": 1103,
   "id": "36ef8b08-2d7e-4b81-9588-99caeba36ec5",
   "metadata": {},
   "outputs": [
    {
     "data": {
      "text/plain": [
       "(27713, 0.6, 0.2, 0.2)"
      ]
     },
     "execution_count": 1103,
     "metadata": {},
     "output_type": "execute_result"
    }
   ],
   "source": [
    "len(df), round(len(df_train) / len(df), 3), round(len(df_test) / len(df), 3), round(len(df_val) / len(df), 3)"
   ]
  },
  {
   "cell_type": "markdown",
   "id": "3722e315-1235-419d-b683-b83cbeea60e8",
   "metadata": {},
   "source": [
    "The dataframe got split into train (60%), test (20%), and validation (20%)."
   ]
  },
  {
   "cell_type": "markdown",
   "id": "aa229983-6471-492e-bc1b-b048636ef2e9",
   "metadata": {},
   "source": [
    "Now, we can use encoding methods to see which features may be important for our model."
   ]
  },
  {
   "cell_type": "markdown",
   "id": "94d7cc81-fc6c-4f17-b16b-f4968825e609",
   "metadata": {},
   "source": [
    "We can't just take a categorical variable and put it into a machine learning model, since models can only work with numbers in matrices. Let's convert the categorical values into a matrix form by encoding them."
   ]
  },
  {
   "cell_type": "code",
   "execution_count": 1104,
   "id": "6c35c997-2d66-4ae8-b449-0899a67a82aa",
   "metadata": {},
   "outputs": [],
   "source": [
    "categorical = [\"gender\", \"city\", \"sleep_duration\", \"dietary_habits\", \"degree\"]\n",
    "numerical = [\"age\", \"academic_pressure\", \"cgpa\", \"study_satisfaction\",\n",
    "             \"have_you_ever_had_suicidal_thoughts_?\", \"work/study_hours\",\n",
    "             \"financial_stress\", \"family_history_of_mental_illness\"]"
   ]
  },
  {
   "cell_type": "markdown",
   "id": "4c32dc0e-bcf5-47e6-8a10-9188cf24fd3b",
   "metadata": {},
   "source": [
    "Let's calculate the depression rate for the categorical variables."
   ]
  },
  {
   "cell_type": "code",
   "execution_count": 1105,
   "id": "6526941e-9933-4091-ae8e-0328e07f429d",
   "metadata": {},
   "outputs": [
    {
     "data": {
      "text/html": [
       "<div>\n",
       "<style scoped>\n",
       "    .dataframe tbody tr th:only-of-type {\n",
       "        vertical-align: middle;\n",
       "    }\n",
       "\n",
       "    .dataframe tbody tr th {\n",
       "        vertical-align: top;\n",
       "    }\n",
       "\n",
       "    .dataframe thead th {\n",
       "        text-align: right;\n",
       "    }\n",
       "</style>\n",
       "<table border=\"1\" class=\"dataframe\">\n",
       "  <thead>\n",
       "    <tr style=\"text-align: right;\">\n",
       "      <th></th>\n",
       "      <th>mean</th>\n",
       "      <th>diff</th>\n",
       "      <th>risk</th>\n",
       "    </tr>\n",
       "    <tr>\n",
       "      <th>gender</th>\n",
       "      <th></th>\n",
       "      <th></th>\n",
       "      <th></th>\n",
       "    </tr>\n",
       "  </thead>\n",
       "  <tbody>\n",
       "    <tr>\n",
       "      <th>female</th>\n",
       "      <td>0.584821</td>\n",
       "      <td>-0.002549</td>\n",
       "      <td>0.99566</td>\n",
       "    </tr>\n",
       "    <tr>\n",
       "      <th>male</th>\n",
       "      <td>0.589391</td>\n",
       "      <td>0.002021</td>\n",
       "      <td>1.00344</td>\n",
       "    </tr>\n",
       "  </tbody>\n",
       "</table>\n",
       "</div>"
      ],
      "text/plain": [
       "            mean      diff     risk\n",
       "gender                             \n",
       "female  0.584821 -0.002549  0.99566\n",
       "male    0.589391  0.002021  1.00344"
      ]
     },
     "metadata": {},
     "output_type": "display_data"
    },
    {
     "data": {
      "text/html": [
       "<div>\n",
       "<style scoped>\n",
       "    .dataframe tbody tr th:only-of-type {\n",
       "        vertical-align: middle;\n",
       "    }\n",
       "\n",
       "    .dataframe tbody tr th {\n",
       "        vertical-align: top;\n",
       "    }\n",
       "\n",
       "    .dataframe thead th {\n",
       "        text-align: right;\n",
       "    }\n",
       "</style>\n",
       "<table border=\"1\" class=\"dataframe\">\n",
       "  <thead>\n",
       "    <tr style=\"text-align: right;\">\n",
       "      <th></th>\n",
       "      <th>mean</th>\n",
       "      <th>diff</th>\n",
       "      <th>risk</th>\n",
       "    </tr>\n",
       "    <tr>\n",
       "      <th>city</th>\n",
       "      <th></th>\n",
       "      <th></th>\n",
       "      <th></th>\n",
       "    </tr>\n",
       "  </thead>\n",
       "  <tbody>\n",
       "    <tr>\n",
       "      <th>agra</th>\n",
       "      <td>0.536928</td>\n",
       "      <td>-0.050442</td>\n",
       "      <td>0.914123</td>\n",
       "    </tr>\n",
       "    <tr>\n",
       "      <th>ahmedabad</th>\n",
       "      <td>0.679637</td>\n",
       "      <td>0.092267</td>\n",
       "      <td>1.157084</td>\n",
       "    </tr>\n",
       "    <tr>\n",
       "      <th>bangalore</th>\n",
       "      <td>0.599018</td>\n",
       "      <td>0.011648</td>\n",
       "      <td>1.019830</td>\n",
       "    </tr>\n",
       "    <tr>\n",
       "      <th>bhopal</th>\n",
       "      <td>0.626667</td>\n",
       "      <td>0.039296</td>\n",
       "      <td>1.066902</td>\n",
       "    </tr>\n",
       "    <tr>\n",
       "      <th>chennai</th>\n",
       "      <td>0.586987</td>\n",
       "      <td>-0.000383</td>\n",
       "      <td>0.999348</td>\n",
       "    </tr>\n",
       "    <tr>\n",
       "      <th>delhi</th>\n",
       "      <td>0.603839</td>\n",
       "      <td>0.016469</td>\n",
       "      <td>1.028039</td>\n",
       "    </tr>\n",
       "    <tr>\n",
       "      <th>faridabad</th>\n",
       "      <td>0.576087</td>\n",
       "      <td>-0.011283</td>\n",
       "      <td>0.980790</td>\n",
       "    </tr>\n",
       "    <tr>\n",
       "      <th>ghaziabad</th>\n",
       "      <td>0.570690</td>\n",
       "      <td>-0.016681</td>\n",
       "      <td>0.971601</td>\n",
       "    </tr>\n",
       "    <tr>\n",
       "      <th>hyderabad</th>\n",
       "      <td>0.675849</td>\n",
       "      <td>0.088479</td>\n",
       "      <td>1.150636</td>\n",
       "    </tr>\n",
       "    <tr>\n",
       "      <th>indore</th>\n",
       "      <td>0.644531</td>\n",
       "      <td>0.057161</td>\n",
       "      <td>1.097317</td>\n",
       "    </tr>\n",
       "    <tr>\n",
       "      <th>jaipur</th>\n",
       "      <td>0.523810</td>\n",
       "      <td>-0.063561</td>\n",
       "      <td>0.891788</td>\n",
       "    </tr>\n",
       "    <tr>\n",
       "      <th>kalyan</th>\n",
       "      <td>0.596138</td>\n",
       "      <td>0.008768</td>\n",
       "      <td>1.014928</td>\n",
       "    </tr>\n",
       "    <tr>\n",
       "      <th>kanpur</th>\n",
       "      <td>0.564155</td>\n",
       "      <td>-0.023216</td>\n",
       "      <td>0.960475</td>\n",
       "    </tr>\n",
       "    <tr>\n",
       "      <th>kolkata</th>\n",
       "      <td>0.604291</td>\n",
       "      <td>0.016921</td>\n",
       "      <td>1.028807</td>\n",
       "    </tr>\n",
       "    <tr>\n",
       "      <th>lucknow</th>\n",
       "      <td>0.567686</td>\n",
       "      <td>-0.019685</td>\n",
       "      <td>0.966487</td>\n",
       "    </tr>\n",
       "    <tr>\n",
       "      <th>ludhiana</th>\n",
       "      <td>0.578709</td>\n",
       "      <td>-0.008661</td>\n",
       "      <td>0.985254</td>\n",
       "    </tr>\n",
       "    <tr>\n",
       "      <th>meerut</th>\n",
       "      <td>0.590769</td>\n",
       "      <td>0.003399</td>\n",
       "      <td>1.005787</td>\n",
       "    </tr>\n",
       "    <tr>\n",
       "      <th>mumbai</th>\n",
       "      <td>0.563380</td>\n",
       "      <td>-0.023990</td>\n",
       "      <td>0.959157</td>\n",
       "    </tr>\n",
       "    <tr>\n",
       "      <th>nagpur</th>\n",
       "      <td>0.551527</td>\n",
       "      <td>-0.035844</td>\n",
       "      <td>0.938976</td>\n",
       "    </tr>\n",
       "    <tr>\n",
       "      <th>nashik</th>\n",
       "      <td>0.531818</td>\n",
       "      <td>-0.055552</td>\n",
       "      <td>0.905422</td>\n",
       "    </tr>\n",
       "    <tr>\n",
       "      <th>patna</th>\n",
       "      <td>0.638166</td>\n",
       "      <td>0.050796</td>\n",
       "      <td>1.086480</td>\n",
       "    </tr>\n",
       "    <tr>\n",
       "      <th>pune</th>\n",
       "      <td>0.544386</td>\n",
       "      <td>-0.042984</td>\n",
       "      <td>0.926820</td>\n",
       "    </tr>\n",
       "    <tr>\n",
       "      <th>rajkot</th>\n",
       "      <td>0.629057</td>\n",
       "      <td>0.041687</td>\n",
       "      <td>1.070972</td>\n",
       "    </tr>\n",
       "    <tr>\n",
       "      <th>srinagar</th>\n",
       "      <td>0.560369</td>\n",
       "      <td>-0.027002</td>\n",
       "      <td>0.954030</td>\n",
       "    </tr>\n",
       "    <tr>\n",
       "      <th>surat</th>\n",
       "      <td>0.583431</td>\n",
       "      <td>-0.003940</td>\n",
       "      <td>0.993293</td>\n",
       "    </tr>\n",
       "    <tr>\n",
       "      <th>thane</th>\n",
       "      <td>0.594298</td>\n",
       "      <td>0.006928</td>\n",
       "      <td>1.011795</td>\n",
       "    </tr>\n",
       "    <tr>\n",
       "      <th>vadodara</th>\n",
       "      <td>0.566607</td>\n",
       "      <td>-0.020763</td>\n",
       "      <td>0.964651</td>\n",
       "    </tr>\n",
       "    <tr>\n",
       "      <th>varanasi</th>\n",
       "      <td>0.520221</td>\n",
       "      <td>-0.067150</td>\n",
       "      <td>0.885677</td>\n",
       "    </tr>\n",
       "    <tr>\n",
       "      <th>vasai-virar</th>\n",
       "      <td>0.574856</td>\n",
       "      <td>-0.012514</td>\n",
       "      <td>0.978694</td>\n",
       "    </tr>\n",
       "    <tr>\n",
       "      <th>visakhapatnam</th>\n",
       "      <td>0.568421</td>\n",
       "      <td>-0.018949</td>\n",
       "      <td>0.967739</td>\n",
       "    </tr>\n",
       "  </tbody>\n",
       "</table>\n",
       "</div>"
      ],
      "text/plain": [
       "                   mean      diff      risk\n",
       "city                                       \n",
       "agra           0.536928 -0.050442  0.914123\n",
       "ahmedabad      0.679637  0.092267  1.157084\n",
       "bangalore      0.599018  0.011648  1.019830\n",
       "bhopal         0.626667  0.039296  1.066902\n",
       "chennai        0.586987 -0.000383  0.999348\n",
       "delhi          0.603839  0.016469  1.028039\n",
       "faridabad      0.576087 -0.011283  0.980790\n",
       "ghaziabad      0.570690 -0.016681  0.971601\n",
       "hyderabad      0.675849  0.088479  1.150636\n",
       "indore         0.644531  0.057161  1.097317\n",
       "jaipur         0.523810 -0.063561  0.891788\n",
       "kalyan         0.596138  0.008768  1.014928\n",
       "kanpur         0.564155 -0.023216  0.960475\n",
       "kolkata        0.604291  0.016921  1.028807\n",
       "lucknow        0.567686 -0.019685  0.966487\n",
       "ludhiana       0.578709 -0.008661  0.985254\n",
       "meerut         0.590769  0.003399  1.005787\n",
       "mumbai         0.563380 -0.023990  0.959157\n",
       "nagpur         0.551527 -0.035844  0.938976\n",
       "nashik         0.531818 -0.055552  0.905422\n",
       "patna          0.638166  0.050796  1.086480\n",
       "pune           0.544386 -0.042984  0.926820\n",
       "rajkot         0.629057  0.041687  1.070972\n",
       "srinagar       0.560369 -0.027002  0.954030\n",
       "surat          0.583431 -0.003940  0.993293\n",
       "thane          0.594298  0.006928  1.011795\n",
       "vadodara       0.566607 -0.020763  0.964651\n",
       "varanasi       0.520221 -0.067150  0.885677\n",
       "vasai-virar    0.574856 -0.012514  0.978694\n",
       "visakhapatnam  0.568421 -0.018949  0.967739"
      ]
     },
     "metadata": {},
     "output_type": "display_data"
    },
    {
     "data": {
      "text/html": [
       "<div>\n",
       "<style scoped>\n",
       "    .dataframe tbody tr th:only-of-type {\n",
       "        vertical-align: middle;\n",
       "    }\n",
       "\n",
       "    .dataframe tbody tr th {\n",
       "        vertical-align: top;\n",
       "    }\n",
       "\n",
       "    .dataframe thead th {\n",
       "        text-align: right;\n",
       "    }\n",
       "</style>\n",
       "<table border=\"1\" class=\"dataframe\">\n",
       "  <thead>\n",
       "    <tr style=\"text-align: right;\">\n",
       "      <th></th>\n",
       "      <th>mean</th>\n",
       "      <th>diff</th>\n",
       "      <th>risk</th>\n",
       "    </tr>\n",
       "    <tr>\n",
       "      <th>sleep_duration</th>\n",
       "      <th></th>\n",
       "      <th></th>\n",
       "      <th></th>\n",
       "    </tr>\n",
       "  </thead>\n",
       "  <tbody>\n",
       "    <tr>\n",
       "      <th>5-6_hours</th>\n",
       "      <td>0.570236</td>\n",
       "      <td>-0.017134</td>\n",
       "      <td>0.970829</td>\n",
       "    </tr>\n",
       "    <tr>\n",
       "      <th>7-8_hours</th>\n",
       "      <td>0.598210</td>\n",
       "      <td>0.010839</td>\n",
       "      <td>1.018454</td>\n",
       "    </tr>\n",
       "    <tr>\n",
       "      <th>less_than_5_hours</th>\n",
       "      <td>0.644441</td>\n",
       "      <td>0.057071</td>\n",
       "      <td>1.097163</td>\n",
       "    </tr>\n",
       "    <tr>\n",
       "      <th>more_than_8_hours</th>\n",
       "      <td>0.513278</td>\n",
       "      <td>-0.074092</td>\n",
       "      <td>0.873858</td>\n",
       "    </tr>\n",
       "  </tbody>\n",
       "</table>\n",
       "</div>"
      ],
      "text/plain": [
       "                       mean      diff      risk\n",
       "sleep_duration                                 \n",
       "5-6_hours          0.570236 -0.017134  0.970829\n",
       "7-8_hours          0.598210  0.010839  1.018454\n",
       "less_than_5_hours  0.644441  0.057071  1.097163\n",
       "more_than_8_hours  0.513278 -0.074092  0.873858"
      ]
     },
     "metadata": {},
     "output_type": "display_data"
    },
    {
     "data": {
      "text/html": [
       "<div>\n",
       "<style scoped>\n",
       "    .dataframe tbody tr th:only-of-type {\n",
       "        vertical-align: middle;\n",
       "    }\n",
       "\n",
       "    .dataframe tbody tr th {\n",
       "        vertical-align: top;\n",
       "    }\n",
       "\n",
       "    .dataframe thead th {\n",
       "        text-align: right;\n",
       "    }\n",
       "</style>\n",
       "<table border=\"1\" class=\"dataframe\">\n",
       "  <thead>\n",
       "    <tr style=\"text-align: right;\">\n",
       "      <th></th>\n",
       "      <th>mean</th>\n",
       "      <th>diff</th>\n",
       "      <th>risk</th>\n",
       "    </tr>\n",
       "    <tr>\n",
       "      <th>dietary_habits</th>\n",
       "      <th></th>\n",
       "      <th></th>\n",
       "      <th></th>\n",
       "    </tr>\n",
       "  </thead>\n",
       "  <tbody>\n",
       "    <tr>\n",
       "      <th>healthy</th>\n",
       "      <td>0.451485</td>\n",
       "      <td>-0.135885</td>\n",
       "      <td>0.768655</td>\n",
       "    </tr>\n",
       "    <tr>\n",
       "      <th>moderate</th>\n",
       "      <td>0.563885</td>\n",
       "      <td>-0.023485</td>\n",
       "      <td>0.960016</td>\n",
       "    </tr>\n",
       "    <tr>\n",
       "      <th>unhealthy</th>\n",
       "      <td>0.710216</td>\n",
       "      <td>0.122845</td>\n",
       "      <td>1.209144</td>\n",
       "    </tr>\n",
       "  </tbody>\n",
       "</table>\n",
       "</div>"
      ],
      "text/plain": [
       "                    mean      diff      risk\n",
       "dietary_habits                              \n",
       "healthy         0.451485 -0.135885  0.768655\n",
       "moderate        0.563885 -0.023485  0.960016\n",
       "unhealthy       0.710216  0.122845  1.209144"
      ]
     },
     "metadata": {},
     "output_type": "display_data"
    },
    {
     "data": {
      "text/html": [
       "<div>\n",
       "<style scoped>\n",
       "    .dataframe tbody tr th:only-of-type {\n",
       "        vertical-align: middle;\n",
       "    }\n",
       "\n",
       "    .dataframe tbody tr th {\n",
       "        vertical-align: top;\n",
       "    }\n",
       "\n",
       "    .dataframe thead th {\n",
       "        text-align: right;\n",
       "    }\n",
       "</style>\n",
       "<table border=\"1\" class=\"dataframe\">\n",
       "  <thead>\n",
       "    <tr style=\"text-align: right;\">\n",
       "      <th></th>\n",
       "      <th>mean</th>\n",
       "      <th>diff</th>\n",
       "      <th>risk</th>\n",
       "    </tr>\n",
       "    <tr>\n",
       "      <th>degree</th>\n",
       "      <th></th>\n",
       "      <th></th>\n",
       "      <th></th>\n",
       "    </tr>\n",
       "  </thead>\n",
       "  <tbody>\n",
       "    <tr>\n",
       "      <th>b.arch</th>\n",
       "      <td>0.593828</td>\n",
       "      <td>0.006458</td>\n",
       "      <td>1.010995</td>\n",
       "    </tr>\n",
       "    <tr>\n",
       "      <th>b.com</th>\n",
       "      <td>0.578151</td>\n",
       "      <td>-0.009219</td>\n",
       "      <td>0.984305</td>\n",
       "    </tr>\n",
       "    <tr>\n",
       "      <th>b.ed</th>\n",
       "      <td>0.539447</td>\n",
       "      <td>-0.047923</td>\n",
       "      <td>0.918410</td>\n",
       "    </tr>\n",
       "    <tr>\n",
       "      <th>b.pharm</th>\n",
       "      <td>0.539658</td>\n",
       "      <td>-0.047712</td>\n",
       "      <td>0.918769</td>\n",
       "    </tr>\n",
       "    <tr>\n",
       "      <th>b.tech</th>\n",
       "      <td>0.562848</td>\n",
       "      <td>-0.024523</td>\n",
       "      <td>0.958250</td>\n",
       "    </tr>\n",
       "    <tr>\n",
       "      <th>ba</th>\n",
       "      <td>0.551724</td>\n",
       "      <td>-0.035646</td>\n",
       "      <td>0.939312</td>\n",
       "    </tr>\n",
       "    <tr>\n",
       "      <th>bba</th>\n",
       "      <td>0.590909</td>\n",
       "      <td>0.003539</td>\n",
       "      <td>1.006025</td>\n",
       "    </tr>\n",
       "    <tr>\n",
       "      <th>bca</th>\n",
       "      <td>0.558849</td>\n",
       "      <td>-0.028521</td>\n",
       "      <td>0.951443</td>\n",
       "    </tr>\n",
       "    <tr>\n",
       "      <th>be</th>\n",
       "      <td>0.542373</td>\n",
       "      <td>-0.044997</td>\n",
       "      <td>0.923392</td>\n",
       "    </tr>\n",
       "    <tr>\n",
       "      <th>bhm</th>\n",
       "      <td>0.559682</td>\n",
       "      <td>-0.027689</td>\n",
       "      <td>0.952860</td>\n",
       "    </tr>\n",
       "    <tr>\n",
       "      <th>bsc</th>\n",
       "      <td>0.593931</td>\n",
       "      <td>0.006560</td>\n",
       "      <td>1.011169</td>\n",
       "    </tr>\n",
       "    <tr>\n",
       "      <th>class_12</th>\n",
       "      <td>0.711712</td>\n",
       "      <td>0.124341</td>\n",
       "      <td>1.211692</td>\n",
       "    </tr>\n",
       "    <tr>\n",
       "      <th>llb</th>\n",
       "      <td>0.538462</td>\n",
       "      <td>-0.048909</td>\n",
       "      <td>0.916733</td>\n",
       "    </tr>\n",
       "    <tr>\n",
       "      <th>llm</th>\n",
       "      <td>0.533854</td>\n",
       "      <td>-0.053516</td>\n",
       "      <td>0.908889</td>\n",
       "    </tr>\n",
       "    <tr>\n",
       "      <th>m.com</th>\n",
       "      <td>0.542088</td>\n",
       "      <td>-0.045283</td>\n",
       "      <td>0.922906</td>\n",
       "    </tr>\n",
       "    <tr>\n",
       "      <th>m.ed</th>\n",
       "      <td>0.501543</td>\n",
       "      <td>-0.085827</td>\n",
       "      <td>0.853879</td>\n",
       "    </tr>\n",
       "    <tr>\n",
       "      <th>m.pharm</th>\n",
       "      <td>0.531729</td>\n",
       "      <td>-0.055642</td>\n",
       "      <td>0.905270</td>\n",
       "    </tr>\n",
       "    <tr>\n",
       "      <th>m.tech</th>\n",
       "      <td>0.504831</td>\n",
       "      <td>-0.082539</td>\n",
       "      <td>0.859476</td>\n",
       "    </tr>\n",
       "    <tr>\n",
       "      <th>ma</th>\n",
       "      <td>0.537415</td>\n",
       "      <td>-0.049955</td>\n",
       "      <td>0.914951</td>\n",
       "    </tr>\n",
       "    <tr>\n",
       "      <th>mba</th>\n",
       "      <td>0.530568</td>\n",
       "      <td>-0.056803</td>\n",
       "      <td>0.903293</td>\n",
       "    </tr>\n",
       "    <tr>\n",
       "      <th>mbbs</th>\n",
       "      <td>0.583942</td>\n",
       "      <td>-0.003429</td>\n",
       "      <td>0.994163</td>\n",
       "    </tr>\n",
       "    <tr>\n",
       "      <th>mca</th>\n",
       "      <td>0.535673</td>\n",
       "      <td>-0.051698</td>\n",
       "      <td>0.911984</td>\n",
       "    </tr>\n",
       "    <tr>\n",
       "      <th>md</th>\n",
       "      <td>0.539474</td>\n",
       "      <td>-0.047897</td>\n",
       "      <td>0.918456</td>\n",
       "    </tr>\n",
       "    <tr>\n",
       "      <th>me</th>\n",
       "      <td>0.540000</td>\n",
       "      <td>-0.047370</td>\n",
       "      <td>0.919352</td>\n",
       "    </tr>\n",
       "    <tr>\n",
       "      <th>mhm</th>\n",
       "      <td>0.509934</td>\n",
       "      <td>-0.077437</td>\n",
       "      <td>0.868164</td>\n",
       "    </tr>\n",
       "    <tr>\n",
       "      <th>msc</th>\n",
       "      <td>0.573620</td>\n",
       "      <td>-0.013751</td>\n",
       "      <td>0.976589</td>\n",
       "    </tr>\n",
       "    <tr>\n",
       "      <th>phd</th>\n",
       "      <td>0.561097</td>\n",
       "      <td>-0.026273</td>\n",
       "      <td>0.955270</td>\n",
       "    </tr>\n",
       "  </tbody>\n",
       "</table>\n",
       "</div>"
      ],
      "text/plain": [
       "              mean      diff      risk\n",
       "degree                                \n",
       "b.arch    0.593828  0.006458  1.010995\n",
       "b.com     0.578151 -0.009219  0.984305\n",
       "b.ed      0.539447 -0.047923  0.918410\n",
       "b.pharm   0.539658 -0.047712  0.918769\n",
       "b.tech    0.562848 -0.024523  0.958250\n",
       "ba        0.551724 -0.035646  0.939312\n",
       "bba       0.590909  0.003539  1.006025\n",
       "bca       0.558849 -0.028521  0.951443\n",
       "be        0.542373 -0.044997  0.923392\n",
       "bhm       0.559682 -0.027689  0.952860\n",
       "bsc       0.593931  0.006560  1.011169\n",
       "class_12  0.711712  0.124341  1.211692\n",
       "llb       0.538462 -0.048909  0.916733\n",
       "llm       0.533854 -0.053516  0.908889\n",
       "m.com     0.542088 -0.045283  0.922906\n",
       "m.ed      0.501543 -0.085827  0.853879\n",
       "m.pharm   0.531729 -0.055642  0.905270\n",
       "m.tech    0.504831 -0.082539  0.859476\n",
       "ma        0.537415 -0.049955  0.914951\n",
       "mba       0.530568 -0.056803  0.903293\n",
       "mbbs      0.583942 -0.003429  0.994163\n",
       "mca       0.535673 -0.051698  0.911984\n",
       "md        0.539474 -0.047897  0.918456\n",
       "me        0.540000 -0.047370  0.919352\n",
       "mhm       0.509934 -0.077437  0.868164\n",
       "msc       0.573620 -0.013751  0.976589\n",
       "phd       0.561097 -0.026273  0.955270"
      ]
     },
     "metadata": {},
     "output_type": "display_data"
    }
   ],
   "source": [
    "global_mean = df_train_full[\"depression\"].mean()\n",
    "\n",
    "for col in categorical:\n",
    "    df_group = df_train_full.groupby(by=col)[\"depression\"].agg([\"mean\"])\n",
    "    df_group[\"diff\"] = df_group[\"mean\"] - global_mean\n",
    "    df_group[\"risk\"] = df_group[\"mean\"] / global_mean\n",
    "    display(df_group)"
   ]
  },
  {
   "cell_type": "markdown",
   "id": "2b6b6475-72a1-49a0-aad8-b045fb4e7193",
   "metadata": {},
   "source": [
    "The categorical variables seem to be fair most of the time, but dietary_habits has some interesting data. The more unhealthy someone's diet is, the more likely they are to be depressed. This column will prove to be very helpful for the analysis."
   ]
  },
  {
   "cell_type": "code",
   "execution_count": 1106,
   "id": "49518064-5191-4cfc-a49b-607932e67187",
   "metadata": {},
   "outputs": [
    {
     "data": {
      "text/html": [
       "<div>\n",
       "<style scoped>\n",
       "    .dataframe tbody tr th:only-of-type {\n",
       "        vertical-align: middle;\n",
       "    }\n",
       "\n",
       "    .dataframe tbody tr th {\n",
       "        vertical-align: top;\n",
       "    }\n",
       "\n",
       "    .dataframe thead th {\n",
       "        text-align: right;\n",
       "    }\n",
       "</style>\n",
       "<table border=\"1\" class=\"dataframe\">\n",
       "  <thead>\n",
       "    <tr style=\"text-align: right;\">\n",
       "      <th></th>\n",
       "      <th>MI</th>\n",
       "    </tr>\n",
       "  </thead>\n",
       "  <tbody>\n",
       "    <tr>\n",
       "      <th>dietary_habits</th>\n",
       "      <td>0.022640</td>\n",
       "    </tr>\n",
       "    <tr>\n",
       "      <th>degree</th>\n",
       "      <td>0.010082</td>\n",
       "    </tr>\n",
       "    <tr>\n",
       "      <th>sleep_duration</th>\n",
       "      <td>0.004668</td>\n",
       "    </tr>\n",
       "    <tr>\n",
       "      <th>city</th>\n",
       "      <td>0.003369</td>\n",
       "    </tr>\n",
       "    <tr>\n",
       "      <th>gender</th>\n",
       "      <td>0.000011</td>\n",
       "    </tr>\n",
       "  </tbody>\n",
       "</table>\n",
       "</div>"
      ],
      "text/plain": [
       "                      MI\n",
       "dietary_habits  0.022640\n",
       "degree          0.010082\n",
       "sleep_duration  0.004668\n",
       "city            0.003369\n",
       "gender          0.000011"
      ]
     },
     "execution_count": 1106,
     "metadata": {},
     "output_type": "execute_result"
    }
   ],
   "source": [
    "from sklearn.metrics import mutual_info_score\n",
    "\n",
    "def calculate_mi(series):\n",
    "    return mutual_info_score(series, df_train_full[\"depression\"])\n",
    "\n",
    "df_mi = df_train_full[categorical].apply(calculate_mi)\n",
    "df_mi = df_mi.sort_values(ascending=False).to_frame(name=\"MI\")\n",
    "df_mi"
   ]
  },
  {
   "cell_type": "markdown",
   "id": "ab7cd05a-786f-4f4b-babe-389d1419e82f",
   "metadata": {},
   "source": [
    "Higher values of mutual information mean a higher degree of dependence for the target. The table above shows that dietary_habits will be the most important categorical column for this analysis."
   ]
  },
  {
   "cell_type": "code",
   "execution_count": 1107,
   "id": "37c76441-41ec-4bad-a141-4bb4e1034516",
   "metadata": {},
   "outputs": [
    {
     "data": {
      "text/plain": [
       "gender             2\n",
       "city              30\n",
       "sleep_duration     4\n",
       "dietary_habits     3\n",
       "degree            27\n",
       "dtype: int64"
      ]
     },
     "execution_count": 1107,
     "metadata": {},
     "output_type": "execute_result"
    }
   ],
   "source": [
    "df_train_full[categorical].nunique()"
   ]
  },
  {
   "cell_type": "markdown",
   "id": "9896ed84-bf65-4bf3-8127-fc0b67b84fdb",
   "metadata": {},
   "source": [
    "The gender, sleep_duration, and dietary_habits columns have few unique values, so let's use one-hot encoding. It's generally recommended to use one-hot encoding for categorical variables with fewer than 10-15 unique values. For the city and degree columns, we will do target encoding."
   ]
  },
  {
   "cell_type": "markdown",
   "id": "4a96fdb8-e9dd-45ef-9ab5-06248b3e1ed3",
   "metadata": {},
   "source": [
    "Let's split up the categorical array into 2 arrays, one with the columns that'll be used for one-hot encoding, and another for the columns that'll be used for target encoding."
   ]
  },
  {
   "cell_type": "markdown",
   "id": "22c49819-d774-4ee4-955f-8bb2369550ac",
   "metadata": {},
   "source": [
    "We can create a function to help us encode dataframes. We can use the mean values from df_train_full[\"depression\"] to do the target encoding for \"city\" and \"degree\" in the specified df. It's common to do this when you don't have the target variable in your training data, but you do have it in a larger dataset."
   ]
  },
  {
   "cell_type": "code",
   "execution_count": 1108,
   "id": "2a40a7f7-4bfa-44cf-95a6-862e4bfd15c5",
   "metadata": {},
   "outputs": [],
   "source": [
    "categorical_one_hot_encoding = [\"gender\", \"sleep_duration\", \"dietary_habits\"]\n",
    "categorical_target_encoding = [\"city\", \"degree\"]\n",
    "\n",
    "def encode_dataframe(df, target_variable):\n",
    "    df_encoded = pd.get_dummies(df, columns=categorical_one_hot_encoding)\n",
    "\n",
    "    for category in categorical_target_encoding:\n",
    "        category_means = df_train_full.groupby(category)[target_variable].mean()\n",
    "        df_encoded[category] = df[category].map(category_means)\n",
    "    \n",
    "    return df_encoded"
   ]
  },
  {
   "cell_type": "markdown",
   "id": "c4369bcd-c936-4a92-a808-74fa93f0ffa8",
   "metadata": {},
   "source": [
    "Now, we can start using logistic regression, and get the training and validation datasets and compare them."
   ]
  },
  {
   "cell_type": "code",
   "execution_count": 1109,
   "id": "635f0605-ab01-44d7-8d93-4fab8903991b",
   "metadata": {},
   "outputs": [],
   "source": [
    "X_train = encode_dataframe(df_train, \"depression\")"
   ]
  },
  {
   "cell_type": "code",
   "execution_count": 1110,
   "id": "e5428131-60d0-4499-b7a5-42bdaf092c5d",
   "metadata": {},
   "outputs": [
    {
     "data": {
      "text/html": [
       "<div>\n",
       "<style scoped>\n",
       "    .dataframe tbody tr th:only-of-type {\n",
       "        vertical-align: middle;\n",
       "    }\n",
       "\n",
       "    .dataframe tbody tr th {\n",
       "        vertical-align: top;\n",
       "    }\n",
       "\n",
       "    .dataframe thead th {\n",
       "        text-align: right;\n",
       "    }\n",
       "</style>\n",
       "<table border=\"1\" class=\"dataframe\">\n",
       "  <thead>\n",
       "    <tr style=\"text-align: right;\">\n",
       "      <th></th>\n",
       "      <th>age</th>\n",
       "      <th>city</th>\n",
       "      <th>academic_pressure</th>\n",
       "      <th>cgpa</th>\n",
       "      <th>study_satisfaction</th>\n",
       "      <th>degree</th>\n",
       "      <th>have_you_ever_had_suicidal_thoughts_?</th>\n",
       "      <th>work/study_hours</th>\n",
       "      <th>financial_stress</th>\n",
       "      <th>family_history_of_mental_illness</th>\n",
       "      <th>gender_female</th>\n",
       "      <th>gender_male</th>\n",
       "      <th>sleep_duration_5-6_hours</th>\n",
       "      <th>sleep_duration_7-8_hours</th>\n",
       "      <th>sleep_duration_less_than_5_hours</th>\n",
       "      <th>sleep_duration_more_than_8_hours</th>\n",
       "      <th>dietary_habits_healthy</th>\n",
       "      <th>dietary_habits_moderate</th>\n",
       "      <th>dietary_habits_unhealthy</th>\n",
       "    </tr>\n",
       "  </thead>\n",
       "  <tbody>\n",
       "    <tr>\n",
       "      <th>21954</th>\n",
       "      <td>23</td>\n",
       "      <td>0.626667</td>\n",
       "      <td>1</td>\n",
       "      <td>8.79</td>\n",
       "      <td>1</td>\n",
       "      <td>0.535673</td>\n",
       "      <td>1</td>\n",
       "      <td>4</td>\n",
       "      <td>1</td>\n",
       "      <td>0</td>\n",
       "      <td>True</td>\n",
       "      <td>False</td>\n",
       "      <td>False</td>\n",
       "      <td>False</td>\n",
       "      <td>True</td>\n",
       "      <td>False</td>\n",
       "      <td>False</td>\n",
       "      <td>True</td>\n",
       "      <td>False</td>\n",
       "    </tr>\n",
       "    <tr>\n",
       "      <th>23177</th>\n",
       "      <td>19</td>\n",
       "      <td>0.551527</td>\n",
       "      <td>3</td>\n",
       "      <td>6.63</td>\n",
       "      <td>5</td>\n",
       "      <td>0.711712</td>\n",
       "      <td>1</td>\n",
       "      <td>10</td>\n",
       "      <td>5</td>\n",
       "      <td>1</td>\n",
       "      <td>False</td>\n",
       "      <td>True</td>\n",
       "      <td>False</td>\n",
       "      <td>False</td>\n",
       "      <td>True</td>\n",
       "      <td>False</td>\n",
       "      <td>False</td>\n",
       "      <td>False</td>\n",
       "      <td>True</td>\n",
       "    </tr>\n",
       "    <tr>\n",
       "      <th>25373</th>\n",
       "      <td>34</td>\n",
       "      <td>0.599018</td>\n",
       "      <td>3</td>\n",
       "      <td>6.26</td>\n",
       "      <td>2</td>\n",
       "      <td>0.539474</td>\n",
       "      <td>1</td>\n",
       "      <td>9</td>\n",
       "      <td>2</td>\n",
       "      <td>0</td>\n",
       "      <td>True</td>\n",
       "      <td>False</td>\n",
       "      <td>False</td>\n",
       "      <td>True</td>\n",
       "      <td>False</td>\n",
       "      <td>False</td>\n",
       "      <td>False</td>\n",
       "      <td>False</td>\n",
       "      <td>True</td>\n",
       "    </tr>\n",
       "    <tr>\n",
       "      <th>5850</th>\n",
       "      <td>24</td>\n",
       "      <td>0.563380</td>\n",
       "      <td>1</td>\n",
       "      <td>9.79</td>\n",
       "      <td>2</td>\n",
       "      <td>0.539447</td>\n",
       "      <td>0</td>\n",
       "      <td>11</td>\n",
       "      <td>4</td>\n",
       "      <td>0</td>\n",
       "      <td>False</td>\n",
       "      <td>True</td>\n",
       "      <td>False</td>\n",
       "      <td>False</td>\n",
       "      <td>True</td>\n",
       "      <td>False</td>\n",
       "      <td>True</td>\n",
       "      <td>False</td>\n",
       "      <td>False</td>\n",
       "    </tr>\n",
       "    <tr>\n",
       "      <th>2323</th>\n",
       "      <td>23</td>\n",
       "      <td>0.576087</td>\n",
       "      <td>3</td>\n",
       "      <td>9.96</td>\n",
       "      <td>3</td>\n",
       "      <td>0.578151</td>\n",
       "      <td>1</td>\n",
       "      <td>4</td>\n",
       "      <td>4</td>\n",
       "      <td>0</td>\n",
       "      <td>True</td>\n",
       "      <td>False</td>\n",
       "      <td>False</td>\n",
       "      <td>True</td>\n",
       "      <td>False</td>\n",
       "      <td>False</td>\n",
       "      <td>False</td>\n",
       "      <td>False</td>\n",
       "      <td>True</td>\n",
       "    </tr>\n",
       "    <tr>\n",
       "      <th>...</th>\n",
       "      <td>...</td>\n",
       "      <td>...</td>\n",
       "      <td>...</td>\n",
       "      <td>...</td>\n",
       "      <td>...</td>\n",
       "      <td>...</td>\n",
       "      <td>...</td>\n",
       "      <td>...</td>\n",
       "      <td>...</td>\n",
       "      <td>...</td>\n",
       "      <td>...</td>\n",
       "      <td>...</td>\n",
       "      <td>...</td>\n",
       "      <td>...</td>\n",
       "      <td>...</td>\n",
       "      <td>...</td>\n",
       "      <td>...</td>\n",
       "      <td>...</td>\n",
       "      <td>...</td>\n",
       "    </tr>\n",
       "    <tr>\n",
       "      <th>17351</th>\n",
       "      <td>24</td>\n",
       "      <td>0.531818</td>\n",
       "      <td>3</td>\n",
       "      <td>6.08</td>\n",
       "      <td>5</td>\n",
       "      <td>0.542373</td>\n",
       "      <td>0</td>\n",
       "      <td>11</td>\n",
       "      <td>2</td>\n",
       "      <td>0</td>\n",
       "      <td>False</td>\n",
       "      <td>True</td>\n",
       "      <td>True</td>\n",
       "      <td>False</td>\n",
       "      <td>False</td>\n",
       "      <td>False</td>\n",
       "      <td>False</td>\n",
       "      <td>True</td>\n",
       "      <td>False</td>\n",
       "    </tr>\n",
       "    <tr>\n",
       "      <th>25779</th>\n",
       "      <td>34</td>\n",
       "      <td>0.560369</td>\n",
       "      <td>4</td>\n",
       "      <td>6.37</td>\n",
       "      <td>2</td>\n",
       "      <td>0.593828</td>\n",
       "      <td>0</td>\n",
       "      <td>2</td>\n",
       "      <td>5</td>\n",
       "      <td>0</td>\n",
       "      <td>False</td>\n",
       "      <td>True</td>\n",
       "      <td>False</td>\n",
       "      <td>True</td>\n",
       "      <td>False</td>\n",
       "      <td>False</td>\n",
       "      <td>False</td>\n",
       "      <td>True</td>\n",
       "      <td>False</td>\n",
       "    </tr>\n",
       "    <tr>\n",
       "      <th>4147</th>\n",
       "      <td>21</td>\n",
       "      <td>0.523810</td>\n",
       "      <td>1</td>\n",
       "      <td>9.96</td>\n",
       "      <td>1</td>\n",
       "      <td>0.561097</td>\n",
       "      <td>0</td>\n",
       "      <td>4</td>\n",
       "      <td>4</td>\n",
       "      <td>1</td>\n",
       "      <td>True</td>\n",
       "      <td>False</td>\n",
       "      <td>True</td>\n",
       "      <td>False</td>\n",
       "      <td>False</td>\n",
       "      <td>False</td>\n",
       "      <td>False</td>\n",
       "      <td>False</td>\n",
       "      <td>True</td>\n",
       "    </tr>\n",
       "    <tr>\n",
       "      <th>12066</th>\n",
       "      <td>18</td>\n",
       "      <td>0.675849</td>\n",
       "      <td>4</td>\n",
       "      <td>6.59</td>\n",
       "      <td>3</td>\n",
       "      <td>0.711712</td>\n",
       "      <td>1</td>\n",
       "      <td>7</td>\n",
       "      <td>1</td>\n",
       "      <td>0</td>\n",
       "      <td>True</td>\n",
       "      <td>False</td>\n",
       "      <td>True</td>\n",
       "      <td>False</td>\n",
       "      <td>False</td>\n",
       "      <td>False</td>\n",
       "      <td>False</td>\n",
       "      <td>True</td>\n",
       "      <td>False</td>\n",
       "    </tr>\n",
       "    <tr>\n",
       "      <th>27106</th>\n",
       "      <td>26</td>\n",
       "      <td>0.604291</td>\n",
       "      <td>4</td>\n",
       "      <td>5.39</td>\n",
       "      <td>4</td>\n",
       "      <td>0.590909</td>\n",
       "      <td>0</td>\n",
       "      <td>8</td>\n",
       "      <td>4</td>\n",
       "      <td>0</td>\n",
       "      <td>True</td>\n",
       "      <td>False</td>\n",
       "      <td>True</td>\n",
       "      <td>False</td>\n",
       "      <td>False</td>\n",
       "      <td>False</td>\n",
       "      <td>False</td>\n",
       "      <td>False</td>\n",
       "      <td>True</td>\n",
       "    </tr>\n",
       "  </tbody>\n",
       "</table>\n",
       "<p>16627 rows × 19 columns</p>\n",
       "</div>"
      ],
      "text/plain": [
       "       age      city  academic_pressure  cgpa  study_satisfaction    degree  \\\n",
       "21954   23  0.626667                  1  8.79                   1  0.535673   \n",
       "23177   19  0.551527                  3  6.63                   5  0.711712   \n",
       "25373   34  0.599018                  3  6.26                   2  0.539474   \n",
       "5850    24  0.563380                  1  9.79                   2  0.539447   \n",
       "2323    23  0.576087                  3  9.96                   3  0.578151   \n",
       "...    ...       ...                ...   ...                 ...       ...   \n",
       "17351   24  0.531818                  3  6.08                   5  0.542373   \n",
       "25779   34  0.560369                  4  6.37                   2  0.593828   \n",
       "4147    21  0.523810                  1  9.96                   1  0.561097   \n",
       "12066   18  0.675849                  4  6.59                   3  0.711712   \n",
       "27106   26  0.604291                  4  5.39                   4  0.590909   \n",
       "\n",
       "       have_you_ever_had_suicidal_thoughts_?  work/study_hours  \\\n",
       "21954                                      1                 4   \n",
       "23177                                      1                10   \n",
       "25373                                      1                 9   \n",
       "5850                                       0                11   \n",
       "2323                                       1                 4   \n",
       "...                                      ...               ...   \n",
       "17351                                      0                11   \n",
       "25779                                      0                 2   \n",
       "4147                                       0                 4   \n",
       "12066                                      1                 7   \n",
       "27106                                      0                 8   \n",
       "\n",
       "       financial_stress  family_history_of_mental_illness  gender_female  \\\n",
       "21954                 1                                 0           True   \n",
       "23177                 5                                 1          False   \n",
       "25373                 2                                 0           True   \n",
       "5850                  4                                 0          False   \n",
       "2323                  4                                 0           True   \n",
       "...                 ...                               ...            ...   \n",
       "17351                 2                                 0          False   \n",
       "25779                 5                                 0          False   \n",
       "4147                  4                                 1           True   \n",
       "12066                 1                                 0           True   \n",
       "27106                 4                                 0           True   \n",
       "\n",
       "       gender_male  sleep_duration_5-6_hours  sleep_duration_7-8_hours  \\\n",
       "21954        False                     False                     False   \n",
       "23177         True                     False                     False   \n",
       "25373        False                     False                      True   \n",
       "5850          True                     False                     False   \n",
       "2323         False                     False                      True   \n",
       "...            ...                       ...                       ...   \n",
       "17351         True                      True                     False   \n",
       "25779         True                     False                      True   \n",
       "4147         False                      True                     False   \n",
       "12066        False                      True                     False   \n",
       "27106        False                      True                     False   \n",
       "\n",
       "       sleep_duration_less_than_5_hours  sleep_duration_more_than_8_hours  \\\n",
       "21954                              True                             False   \n",
       "23177                              True                             False   \n",
       "25373                             False                             False   \n",
       "5850                               True                             False   \n",
       "2323                              False                             False   \n",
       "...                                 ...                               ...   \n",
       "17351                             False                             False   \n",
       "25779                             False                             False   \n",
       "4147                              False                             False   \n",
       "12066                             False                             False   \n",
       "27106                             False                             False   \n",
       "\n",
       "       dietary_habits_healthy  dietary_habits_moderate  \\\n",
       "21954                   False                     True   \n",
       "23177                   False                    False   \n",
       "25373                   False                    False   \n",
       "5850                     True                    False   \n",
       "2323                    False                    False   \n",
       "...                       ...                      ...   \n",
       "17351                   False                     True   \n",
       "25779                   False                     True   \n",
       "4147                    False                    False   \n",
       "12066                   False                     True   \n",
       "27106                   False                    False   \n",
       "\n",
       "       dietary_habits_unhealthy  \n",
       "21954                     False  \n",
       "23177                      True  \n",
       "25373                      True  \n",
       "5850                      False  \n",
       "2323                       True  \n",
       "...                         ...  \n",
       "17351                     False  \n",
       "25779                     False  \n",
       "4147                       True  \n",
       "12066                     False  \n",
       "27106                      True  \n",
       "\n",
       "[16627 rows x 19 columns]"
      ]
     },
     "execution_count": 1110,
     "metadata": {},
     "output_type": "execute_result"
    }
   ],
   "source": [
    "X_train"
   ]
  },
  {
   "cell_type": "markdown",
   "id": "fc9d9412-1379-4ad8-9355-fc16b86d9e29",
   "metadata": {},
   "source": [
    "The encoded table looks good, you can change the bool values in the one-hot encoded columns to integers, but it's not necessary so we don't do it here."
   ]
  },
  {
   "cell_type": "code",
   "execution_count": 1111,
   "id": "037593af-cf40-4ab5-9aa0-d0ef23e664c9",
   "metadata": {},
   "outputs": [],
   "source": [
    "model = LogisticRegression(solver=\"liblinear\", random_state=1)\n",
    "model.fit(X_train, y_train)\n",
    "\n",
    "X_val = encode_dataframe(df_val, \"depression\")\n",
    "y_pred = model.predict_proba(X_val)[:, 1]"
   ]
  },
  {
   "cell_type": "markdown",
   "id": "7cf9a2ee-e463-4226-9d39-0710c3aefa06",
   "metadata": {},
   "source": [
    "## Step 5: Evaluation"
   ]
  },
  {
   "cell_type": "markdown",
   "id": "4514ead9-60db-48bf-8281-967b39c9cd22",
   "metadata": {},
   "source": [
    "Let's start getting some metrics to see how good this model is."
   ]
  },
  {
   "cell_type": "markdown",
   "id": "d15b660b-1ef0-455a-8ef7-35881fc94af5",
   "metadata": {},
   "source": [
    "Getting the accuracy on the validation dataset is easy, we just get the fraction of correct predictions."
   ]
  },
  {
   "cell_type": "code",
   "execution_count": 1112,
   "id": "39619954-6573-4d98-9318-a331d46a70ce",
   "metadata": {},
   "outputs": [
    {
     "data": {
      "text/plain": [
       "0.8499007757532022"
      ]
     },
     "execution_count": 1112,
     "metadata": {},
     "output_type": "execute_result"
    }
   ],
   "source": [
    "from sklearn.metrics import accuracy_score\n",
    "\n",
    "accuracy_score(y_val, y_pred >= 0.5)"
   ]
  },
  {
   "cell_type": "markdown",
   "id": "30a797e0-27c6-4968-a0b9-e1514123385f",
   "metadata": {},
   "source": [
    "This model is 85% accurate, not a bad result."
   ]
  },
  {
   "cell_type": "markdown",
   "id": "9895c1fe-b36f-4fa6-8e10-63b0286572ba",
   "metadata": {},
   "source": [
    "Now we can loop over different thresholds and check which one gives the best accuracy:"
   ]
  },
  {
   "cell_type": "code",
   "execution_count": 1113,
   "id": "364da30b-984e-4016-99a9-88e30bc0eb3f",
   "metadata": {},
   "outputs": [
    {
     "name": "stdout",
     "output_type": "stream",
     "text": [
      "0.00 0.582\n",
      "0.05 0.692\n",
      "0.10 0.750\n",
      "0.15 0.782\n",
      "0.20 0.803\n",
      "0.25 0.822\n",
      "0.30 0.831\n",
      "0.35 0.839\n",
      "0.40 0.844\n",
      "0.45 0.847\n",
      "0.50 0.850\n",
      "0.55 0.850\n",
      "0.60 0.847\n",
      "0.65 0.839\n",
      "0.70 0.830\n",
      "0.75 0.818\n",
      "0.80 0.799\n",
      "0.85 0.767\n",
      "0.90 0.718\n",
      "0.95 0.623\n",
      "1.00 0.418\n"
     ]
    }
   ],
   "source": [
    "thresholds = np.linspace(0, 1, 21)\n",
    "\n",
    "accuracies = []\n",
    "\n",
    "for threshold in thresholds:\n",
    "    accuracy = accuracy_score(y_val, y_pred >= threshold)\n",
    "    accuracies.append(accuracy)\n",
    "    print(\"%0.2f %0.3f\" % (threshold, accuracy))"
   ]
  },
  {
   "cell_type": "markdown",
   "id": "8a49ae54-f64e-442b-9508-d2957bcf85fe",
   "metadata": {},
   "source": [
    "Using the threshold of 0.5 gives us the best accuracy score. Typically, 0.5 is a good threshold value to start off with, but always check other threshold values to make sure 0.5 is the best choice. We can use Matplotlib to create a plot that shows how accuracy changes depending on the threshold."
   ]
  },
  {
   "cell_type": "code",
   "execution_count": 1114,
   "id": "0e1f278f-7f1c-4d1e-b135-17d72f4cdeb5",
   "metadata": {},
   "outputs": [
    {
     "data": {
      "image/png": "[encoded data removed]",
      "text/plain": [
       "<Figure size 600x400 with 1 Axes>"
      ]
     },
     "metadata": {},
     "output_type": "display_data"
    }
   ],
   "source": [
    "plt.figure(figsize=(6, 4))\n",
    "\n",
    "plt.plot(thresholds, accuracies, color=\"black\")\n",
    "\n",
    "plt.title(\"Threshold vs Accuracy\")\n",
    "plt.xlabel(\"Threshold\")\n",
    "plt.ylabel(\"Accuracy\")\n",
    "\n",
    "plt.xticks(np.linspace(0, 1, 11))\n",
    "\n",
    "plt.show()"
   ]
  },
  {
   "cell_type": "code",
   "execution_count": 1115,
   "id": "e63079d3-1ec5-41e1-853f-cb6e483b5fb4",
   "metadata": {},
   "outputs": [
    {
     "data": {
      "text/plain": [
       "0.41782428287930723"
      ]
     },
     "execution_count": 1115,
     "metadata": {},
     "output_type": "execute_result"
    }
   ],
   "source": [
    "size_val = len(y_val)\n",
    "baseline = np.repeat(False, size_val)\n",
    "accuracy_score(baseline, y_val)"
   ]
  },
  {
   "cell_type": "markdown",
   "id": "f9d608c0-9139-432b-b746-6ae46a75b35b",
   "metadata": {},
   "source": [
    "The baseline accuracy is 42%, so the model we built is much better. Metrics that we can use to measure the quallity of a model are based on the confusion table."
   ]
  },
  {
   "cell_type": "markdown",
   "id": "b8cdc48b-b140-423e-bbbd-05d5c98aff65",
   "metadata": {},
   "source": [
    "We got the accuracy for our model, now let's get the confusion matrix."
   ]
  },
  {
   "cell_type": "code",
   "execution_count": 1116,
   "id": "e849fe22-4b88-457b-b343-35a87e63b377",
   "metadata": {},
   "outputs": [],
   "source": [
    "threshold = 0.5\n",
    "predict_depression = (y_pred >= threshold)\n",
    "predict_no_depression = (y_pred < threshold)\n",
    " \n",
    "actual_depression = (y_val == 1)\n",
    "actual_no_depression = (y_val == 0)\n",
    " \n",
    "true_positive = (predict_depression & actual_depression).sum()\n",
    "false_positive = (predict_depression & actual_no_depression).sum()\n",
    " \n",
    "false_negative = (predict_no_depression & actual_depression).sum()\n",
    "true_negative = (predict_no_depression & actual_no_depression).sum()\n",
    "\n",
    "confusion_table = np.array(\n",
    " [[true_negative, false_positive],\n",
    " [false_negative, true_positive]]\n",
    ")"
   ]
  },
  {
   "cell_type": "code",
   "execution_count": 1117,
   "id": "adc6a191-40df-4d49-b6e4-e3613b0849e6",
   "metadata": {},
   "outputs": [
    {
     "data": {
      "text/plain": [
       "array([[1832,  484],\n",
       "       [ 348, 2879]])"
      ]
     },
     "execution_count": 1117,
     "metadata": {},
     "output_type": "execute_result"
    }
   ],
   "source": [
    "confusion_table"
   ]
  },
  {
   "cell_type": "code",
   "execution_count": 1118,
   "id": "109003ca-a0ff-4357-8694-1b32b0357543",
   "metadata": {},
   "outputs": [
    {
     "data": {
      "text/plain": [
       "array([[0.33050695, 0.08731734],\n",
       "       [0.06278189, 0.51939383]])"
      ]
     },
     "execution_count": 1118,
     "metadata": {},
     "output_type": "execute_result"
    }
   ],
   "source": [
    "confusion_table / confusion_table.sum()"
   ]
  },
  {
   "cell_type": "markdown",
   "id": "2b40e73b-cb4d-4247-8ac0-7b6a997ff1ac",
   "metadata": {},
   "source": [
    "The number of false positives (upper right) and false negatives (lower left) are low, so the model doesn't make many mistakes."
   ]
  },
  {
   "cell_type": "markdown",
   "id": "44fcbe59-aae0-4ea7-a813-b04945b1b715",
   "metadata": {},
   "source": [
    "Let's get precision and recall from the values of the confusion table to help us understand the quality of the model in cases of class imbalance."
   ]
  },
  {
   "cell_type": "code",
   "execution_count": 1119,
   "id": "44d7d60c-3897-496d-a9dc-6bb56264d3a3",
   "metadata": {},
   "outputs": [
    {
     "data": {
      "text/plain": [
       "(np.float64(0.856080880166518), np.float64(0.8921599008366904))"
      ]
     },
     "execution_count": 1119,
     "metadata": {},
     "output_type": "execute_result"
    }
   ],
   "source": [
    "precision = true_positive / (true_positive + false_positive)\n",
    "recall = true_positive / (true_positive + false_negative)\n",
    "precision, recall"
   ]
  },
  {
   "cell_type": "markdown",
   "id": "d0668649-f703-4bf2-9b96-5ea9453f3887",
   "metadata": {},
   "source": [
    "The precision of a model tells us how many of the positive predictions turned out to be correct. 86% is good."
   ]
  },
  {
   "cell_type": "markdown",
   "id": "057ea864-2fc2-4c8d-ad48-9ce2c03d22e3",
   "metadata": {},
   "source": [
    "Recall is the fraction of correctly classified positive examples among all positive examples. 89% is good."
   ]
  },
  {
   "cell_type": "markdown",
   "id": "c763ea4d-3e1e-44f6-8c6b-0920685ec99f",
   "metadata": {},
   "source": [
    "Precision and recall only work with binary predictions, let's use ROC AUC to evaluate the performance of our model since it can be used for other scenarios."
   ]
  },
  {
   "cell_type": "code",
   "execution_count": 1120,
   "id": "5e60edd4-d002-4cdd-9a38-5cb5ab03e482",
   "metadata": {},
   "outputs": [],
   "source": [
    "from sklearn.metrics import roc_curve\n",
    "\n",
    "false_positive_rate, true_positive_rate, thresholds = roc_curve(y_val, y_pred)"
   ]
  },
  {
   "cell_type": "code",
   "execution_count": 1121,
   "id": "03c30c3d-8fb4-46fd-90c8-5793f52dcdb2",
   "metadata": {},
   "outputs": [
    {
     "data": {
      "image/png": "[encoded data removed]",
      "text/plain": [
       "<Figure size 600x400 with 1 Axes>"
      ]
     },
     "metadata": {},
     "output_type": "display_data"
    }
   ],
   "source": [
    "plt.figure(figsize=(6, 4))\n",
    "\n",
    "plt.plot(false_positive_rate, true_positive_rate)\n",
    "plt.plot([0, 1], [0, 1], lw=0.7, alpha=0.5)\n",
    "\n",
    "plt.xlabel(\"False Positive Rate\")\n",
    "plt.ylabel(\"True Positive Rate\")\n",
    "\n",
    "plt.title(\"ROC Curve\")\n",
    "\n",
    "plt.show()"
   ]
  },
  {
   "cell_type": "code",
   "execution_count": 1122,
   "id": "8956ee03-f219-4f7b-b610-23fb833abbf6",
   "metadata": {},
   "outputs": [
    {
     "data": {
      "text/plain": [
       "np.float64(0.9236856499537313)"
      ]
     },
     "execution_count": 1122,
     "metadata": {},
     "output_type": "execute_result"
    }
   ],
   "source": [
    "from sklearn.metrics import roc_auc_score\n",
    "roc_auc_score(y_val, y_pred)"
   ]
  },
  {
   "cell_type": "markdown",
   "id": "9cddb5b1-ea81-4e2b-a1d3-51dbd85ba774",
   "metadata": {},
   "source": [
    "The ROC Curve plot and the ROC AUC score both look good, so all of the metrics we used look good. Now we can test the model using new students."
   ]
  },
  {
   "cell_type": "markdown",
   "id": "df99d79e-b228-4cd6-904b-1989a45d9fdf",
   "metadata": {},
   "source": [
    "## Step 6: Deployment"
   ]
  },
  {
   "cell_type": "markdown",
   "id": "86cb483b-f0b9-4f91-bbb8-13efe645d714",
   "metadata": {},
   "source": [
    "Let's make a function to encode each student that we want to test the model with."
   ]
  },
  {
   "cell_type": "code",
   "execution_count": 1123,
   "id": "f8d2a509-e4db-4aca-8248-1291d12ab33a",
   "metadata": {},
   "outputs": [],
   "source": [
    "def encode_dataframe_student(df_student, target_variable):\n",
    "    df_encoded = pd.get_dummies(df_student, columns=categorical_one_hot_encoding)\n",
    "\n",
    "    for category in categorical_target_encoding:\n",
    "        category_means = df_train_full.groupby(category)[target_variable].mean()\n",
    "        df_encoded[category] = df[category].map(category_means)\n",
    "\n",
    "    for column in pd.get_dummies(df_train, columns=categorical_one_hot_encoding).columns:\n",
    "        if column not in df_encoded:\n",
    "            df_encoded[column] = False\n",
    "\n",
    "    # so that the columns are in order\n",
    "    df_encoded = df_encoded[X_train.columns]\n",
    "    \n",
    "    return df_encoded"
   ]
  },
  {
   "cell_type": "code",
   "execution_count": 1124,
   "id": "504705a4-5f9c-4b8f-99e5-0c3caeb612aa",
   "metadata": {},
   "outputs": [
    {
     "data": {
      "text/plain": [
       "np.float64(0.06150976209738967)"
      ]
     },
     "execution_count": 1124,
     "metadata": {},
     "output_type": "execute_result"
    }
   ],
   "source": [
    "student = {\n",
    "    \"gender\": \"male\",\n",
    "    \"age\": 25,\n",
    "    \"city\": \"jaipur\",\n",
    "    \"academic_pressure\": 3,\n",
    "    \"cgpa\": 8.65,\n",
    "    \"study_satisfaction\": \"4\",\n",
    "    \"sleep_duration\": \"5-6_hours\",\n",
    "    \"dietary_habits\": \"healthy\",\n",
    "    \"degree\": \"m.tech\",\n",
    "    \"have_you_ever_had_suicidal_thoughts_?\": 0,\n",
    "    \"work/study_hours\": 6,\n",
    "    \"financial_stress\": 2,\n",
    "    \"family_history_of_mental_illness\": 0,\n",
    "    \"depression\": 0\n",
    "}\n",
    "\n",
    "df_student = pd.DataFrame([student])\n",
    "X_student = encode_dataframe_student(df_student, \"depression\")\n",
    "model.predict_proba(X_student)[0, 1]"
   ]
  },
  {
   "cell_type": "markdown",
   "id": "e91f6df2-e89a-4484-be7f-95f2361d8d60",
   "metadata": {},
   "source": [
    "The first student is a regular student, with a low chance of depression (6%)."
   ]
  },
  {
   "cell_type": "code",
   "execution_count": 1125,
   "id": "d0f101de-4e19-4b85-b9c9-c18a858f4652",
   "metadata": {},
   "outputs": [
    {
     "data": {
      "text/plain": [
       "np.float64(0.4395826642181764)"
      ]
     },
     "execution_count": 1125,
     "metadata": {},
     "output_type": "execute_result"
    }
   ],
   "source": [
    "student = {\n",
    "    \"gender\": \"male\",\n",
    "    \"age\": 25,\n",
    "    \"city\": \"jaipur\",\n",
    "    \"academic_pressure\": 3,\n",
    "    \"cgpa\": 8.65,\n",
    "    \"study_satisfaction\": \"4\",\n",
    "    \"sleep_duration\": \"5-6_hours\",\n",
    "    \"dietary_habits\": \"healthy\",\n",
    "    \"degree\": \"m.tech\",\n",
    "    \"have_you_ever_had_suicidal_thoughts_?\": 1,\n",
    "    \"work/study_hours\": 6,\n",
    "    \"financial_stress\": 2,\n",
    "    \"family_history_of_mental_illness\": 0,\n",
    "    \"depression\": 1\n",
    "}\n",
    "\n",
    "df_student = pd.DataFrame([student])\n",
    "X_student = encode_dataframe_student(df_student, \"depression\")\n",
    "model.predict_proba(X_student)[0, 1]"
   ]
  },
  {
   "cell_type": "markdown",
   "id": "d0d83c9e-b3df-4cd9-ade7-0b9773a04aab",
   "metadata": {},
   "source": [
    "The next student is identical to the first student, but has had suicidal thoughts before so his chance of depression is much higher (44%)."
   ]
  },
  {
   "cell_type": "code",
   "execution_count": 1126,
   "id": "be4a4644-b5f9-45ac-b6a4-a1f96f4a5d67",
   "metadata": {},
   "outputs": [
    {
     "data": {
      "text/plain": [
       "np.float64(0.3806201334510278)"
      ]
     },
     "execution_count": 1126,
     "metadata": {},
     "output_type": "execute_result"
    }
   ],
   "source": [
    "student = {\n",
    "    \"gender\": \"male\",\n",
    "    \"age\": 25,\n",
    "    \"city\": \"jaipur\",\n",
    "    \"academic_pressure\": 3,\n",
    "    \"cgpa\": 8.65,\n",
    "    \"study_satisfaction\": \"4\",\n",
    "    \"sleep_duration\": \"more_than_8_hours\",\n",
    "    \"dietary_habits\": \"healthy\",\n",
    "    \"degree\": \"m.tech\",\n",
    "    \"have_you_ever_had_suicidal_thoughts_?\": 1,\n",
    "    \"work/study_hours\": 6,\n",
    "    \"financial_stress\": 2,\n",
    "    \"family_history_of_mental_illness\": 0,\n",
    "    \"depression\": 0\n",
    "}\n",
    "\n",
    "df_student = pd.DataFrame([student])\n",
    "X_student = encode_dataframe_student(df_student, \"depression\")\n",
    "model.predict_proba(X_student)[0, 1]"
   ]
  },
  {
   "cell_type": "markdown",
   "id": "6f532cc6-f4d5-420a-b990-377e512af30f",
   "metadata": {},
   "source": [
    "This student is identical to the second student, but sleeps more so his chance of depression is lower (38%)."
   ]
  },
  {
   "cell_type": "code",
   "execution_count": 1127,
   "id": "c21b2388-06d9-448e-ba7e-609d255362c3",
   "metadata": {},
   "outputs": [
    {
     "data": {
      "text/plain": [
       "np.float64(0.9620215056995823)"
      ]
     },
     "execution_count": 1127,
     "metadata": {},
     "output_type": "execute_result"
    }
   ],
   "source": [
    "student = {\n",
    "    \"gender\": \"female\",\n",
    "    \"age\": 22,\n",
    "    \"city\": \"jaipur\",\n",
    "    \"academic_pressure\": 4,\n",
    "    \"cgpa\": 8.65,\n",
    "    \"study_satisfaction\": 2,\n",
    "    \"sleep_duration\": \"5-6_hours\",\n",
    "    \"dietary_habits\": \"unhealthy\",\n",
    "    \"degree\": \"m.tech\",\n",
    "    \"have_you_ever_had_suicidal_thoughts_?\": 1,\n",
    "    \"work/study_hours\": 2,\n",
    "    \"financial_stress\": 4,\n",
    "    \"family_history_of_mental_illness\": 0,\n",
    "    \"depression\": 1\n",
    "}\n",
    "\n",
    "df_student = pd.DataFrame([student])\n",
    "X_student = encode_dataframe_student(df_student, \"depression\")\n",
    "model.predict_proba(X_student)[0, 1]"
   ]
  },
  {
   "cell_type": "markdown",
   "id": "6e3919e1-5adb-454c-96ef-047fdd9ab875",
   "metadata": {},
   "source": [
    "This student has high academic_pressure, low study_satisfaction, sleeps few hours, eats unhealthy food, has had suicidal thoughts, and has high financial stress, so it makes sense that their chance of depression is very high (96%)."
   ]
  },
  {
   "cell_type": "markdown",
   "id": "dcfb6660-4f15-4cba-8354-c325bedca162",
   "metadata": {},
   "source": [
    "With the students that we tested the model with, it seems like we have a nice model."
   ]
  }
 ],
 "metadata": {
  "kernelspec": {
   "display_name": "Python 3 (ipykernel)",
   "language": "python",
   "name": "python3"
  },
  "language_info": {
   "codemirror_mode": {
    "name": "ipython",
    "version": 3
   },
   "file_extension": ".py",
   "mimetype": "text/x-python",
   "name": "python",
   "nbconvert_exporter": "python",
   "pygments_lexer": "ipython3",
   "version": "3.10.15"
  }
 },
 "nbformat": 4,
 "nbformat_minor": 5
}
