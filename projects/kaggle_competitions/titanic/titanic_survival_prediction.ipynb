{
 "cells": [
  {
   "cell_type": "markdown",
   "id": "d59ca056-ded5-4979-9581-9a2e92bb0d79",
   "metadata": {},
   "source": [
    "# Titanic Survival Prediction"
   ]
  },
  {
   "cell_type": "markdown",
   "id": "68b0b2ef-3210-4e41-9c7a-268afc39ed19",
   "metadata": {},
   "source": [
    "## Dataset: https://www.kaggle.com/c/titanic/overview"
   ]
  },
  {
   "cell_type": "markdown",
   "id": "63f2f054-94be-4258-a4d6-23a3ed4cbcef",
   "metadata": {},
   "source": [
    "For this project I will use the steps in CRISP-DM, or Cross-Industry Standard Process for Data Mining. It is a widely-used framework for guiding data mining projects from start to finish."
   ]
  },
  {
   "cell_type": "markdown",
   "id": "7f440b31-fcb1-4cec-ab92-caa56f745b1d",
   "metadata": {},
   "source": [
    "## Step 1: Business Understanding"
   ]
  },
  {
   "cell_type": "markdown",
   "id": "0a377ae3-b61c-4603-9638-b9b02f86a876",
   "metadata": {},
   "source": [
    "Let's predict what sorts of people on the Titanic were more likely to survive."
   ]
  },
  {
   "cell_type": "markdown",
   "id": "5a9d7eb4-1b19-4067-9804-267399f538e0",
   "metadata": {},
   "source": [
    "## Step 2: Data Understanding"
   ]
  },
  {
   "cell_type": "markdown",
   "id": "8e3c1f13-9b05-47f1-8e44-39c8fa282514",
   "metadata": {},
   "source": [
    "### Import the packages you need"
   ]
  },
  {
   "cell_type": "code",
   "execution_count": 223,
   "id": "5fcd4c33-c827-46fe-b33a-12952c654bfc",
   "metadata": {},
   "outputs": [],
   "source": [
    "import pandas as pd\n",
    "import numpy as np\n",
    "\n",
    "import seaborn as sns\n",
    "from matplotlib import pyplot as plt\n",
    "%matplotlib inline\n",
    "\n",
    "from IPython.display import display\n",
    "\n",
    "from sklearn.model_selection import train_test_split\n",
    "from sklearn.linear_model import LogisticRegression\n",
    "\n",
    "from sklearn.metrics import accuracy_score\n",
    "from sklearn.metrics import roc_curve\n",
    "from sklearn.metrics import roc_auc_score"
   ]
  },
  {
   "cell_type": "markdown",
   "id": "5a5e472d-6315-4cea-b51f-535646975d75",
   "metadata": {},
   "source": [
    "### Load the data"
   ]
  },
  {
   "cell_type": "code",
   "execution_count": 224,
   "id": "f0b7b74e-5fcb-4d1c-96f3-16b2d618a1f4",
   "metadata": {},
   "outputs": [],
   "source": [
    "train_data_df = pd.read_csv(\"titanic_datasets/train.csv\")\n",
    "test_data_df = pd.read_csv(\"titanic_datasets/test.csv\")"
   ]
  },
  {
   "cell_type": "markdown",
   "id": "52fcf8d7-b396-4734-a221-50d61be1db16",
   "metadata": {},
   "source": [
    "### View the data"
   ]
  },
  {
   "cell_type": "code",
   "execution_count": 225,
   "id": "80103bea-54e3-4f03-88f9-e09d8bc89958",
   "metadata": {},
   "outputs": [
    {
     "data": {
      "text/plain": [
       "(891, 12)"
      ]
     },
     "execution_count": 225,
     "metadata": {},
     "output_type": "execute_result"
    }
   ],
   "source": [
    "train_data_df.shape"
   ]
  },
  {
   "cell_type": "code",
   "execution_count": 226,
   "id": "c99b2a4c-1cd7-45c7-b712-c64bfcf771f3",
   "metadata": {},
   "outputs": [
    {
     "data": {
      "text/html": [
       "<div>\n",
       "<style scoped>\n",
       "    .dataframe tbody tr th:only-of-type {\n",
       "        vertical-align: middle;\n",
       "    }\n",
       "\n",
       "    .dataframe tbody tr th {\n",
       "        vertical-align: top;\n",
       "    }\n",
       "\n",
       "    .dataframe thead th {\n",
       "        text-align: right;\n",
       "    }\n",
       "</style>\n",
       "<table border=\"1\" class=\"dataframe\">\n",
       "  <thead>\n",
       "    <tr style=\"text-align: right;\">\n",
       "      <th></th>\n",
       "      <th>PassengerId</th>\n",
       "      <th>Survived</th>\n",
       "      <th>Pclass</th>\n",
       "      <th>Name</th>\n",
       "      <th>Sex</th>\n",
       "      <th>Age</th>\n",
       "      <th>SibSp</th>\n",
       "      <th>Parch</th>\n",
       "      <th>Ticket</th>\n",
       "      <th>Fare</th>\n",
       "      <th>Cabin</th>\n",
       "      <th>Embarked</th>\n",
       "    </tr>\n",
       "  </thead>\n",
       "  <tbody>\n",
       "    <tr>\n",
       "      <th>0</th>\n",
       "      <td>1</td>\n",
       "      <td>0</td>\n",
       "      <td>3</td>\n",
       "      <td>Braund, Mr. Owen Harris</td>\n",
       "      <td>male</td>\n",
       "      <td>22.0</td>\n",
       "      <td>1</td>\n",
       "      <td>0</td>\n",
       "      <td>A/5 21171</td>\n",
       "      <td>7.2500</td>\n",
       "      <td>NaN</td>\n",
       "      <td>S</td>\n",
       "    </tr>\n",
       "    <tr>\n",
       "      <th>1</th>\n",
       "      <td>2</td>\n",
       "      <td>1</td>\n",
       "      <td>1</td>\n",
       "      <td>Cumings, Mrs. John Bradley (Florence Briggs Th...</td>\n",
       "      <td>female</td>\n",
       "      <td>38.0</td>\n",
       "      <td>1</td>\n",
       "      <td>0</td>\n",
       "      <td>PC 17599</td>\n",
       "      <td>71.2833</td>\n",
       "      <td>C85</td>\n",
       "      <td>C</td>\n",
       "    </tr>\n",
       "    <tr>\n",
       "      <th>2</th>\n",
       "      <td>3</td>\n",
       "      <td>1</td>\n",
       "      <td>3</td>\n",
       "      <td>Heikkinen, Miss. Laina</td>\n",
       "      <td>female</td>\n",
       "      <td>26.0</td>\n",
       "      <td>0</td>\n",
       "      <td>0</td>\n",
       "      <td>STON/O2. 3101282</td>\n",
       "      <td>7.9250</td>\n",
       "      <td>NaN</td>\n",
       "      <td>S</td>\n",
       "    </tr>\n",
       "    <tr>\n",
       "      <th>3</th>\n",
       "      <td>4</td>\n",
       "      <td>1</td>\n",
       "      <td>1</td>\n",
       "      <td>Futrelle, Mrs. Jacques Heath (Lily May Peel)</td>\n",
       "      <td>female</td>\n",
       "      <td>35.0</td>\n",
       "      <td>1</td>\n",
       "      <td>0</td>\n",
       "      <td>113803</td>\n",
       "      <td>53.1000</td>\n",
       "      <td>C123</td>\n",
       "      <td>S</td>\n",
       "    </tr>\n",
       "    <tr>\n",
       "      <th>4</th>\n",
       "      <td>5</td>\n",
       "      <td>0</td>\n",
       "      <td>3</td>\n",
       "      <td>Allen, Mr. William Henry</td>\n",
       "      <td>male</td>\n",
       "      <td>35.0</td>\n",
       "      <td>0</td>\n",
       "      <td>0</td>\n",
       "      <td>373450</td>\n",
       "      <td>8.0500</td>\n",
       "      <td>NaN</td>\n",
       "      <td>S</td>\n",
       "    </tr>\n",
       "  </tbody>\n",
       "</table>\n",
       "</div>"
      ],
      "text/plain": [
       "   PassengerId  Survived  Pclass  \\\n",
       "0            1         0       3   \n",
       "1            2         1       1   \n",
       "2            3         1       3   \n",
       "3            4         1       1   \n",
       "4            5         0       3   \n",
       "\n",
       "                                                Name     Sex   Age  SibSp  \\\n",
       "0                            Braund, Mr. Owen Harris    male  22.0      1   \n",
       "1  Cumings, Mrs. John Bradley (Florence Briggs Th...  female  38.0      1   \n",
       "2                             Heikkinen, Miss. Laina  female  26.0      0   \n",
       "3       Futrelle, Mrs. Jacques Heath (Lily May Peel)  female  35.0      1   \n",
       "4                           Allen, Mr. William Henry    male  35.0      0   \n",
       "\n",
       "   Parch            Ticket     Fare Cabin Embarked  \n",
       "0      0         A/5 21171   7.2500   NaN        S  \n",
       "1      0          PC 17599  71.2833   C85        C  \n",
       "2      0  STON/O2. 3101282   7.9250   NaN        S  \n",
       "3      0            113803  53.1000  C123        S  \n",
       "4      0            373450   8.0500   NaN        S  "
      ]
     },
     "execution_count": 226,
     "metadata": {},
     "output_type": "execute_result"
    }
   ],
   "source": [
    "train_data_df.head()"
   ]
  },
  {
   "cell_type": "code",
   "execution_count": 227,
   "id": "5080bf59-f36c-4c89-b564-e6433b8e54cc",
   "metadata": {},
   "outputs": [
    {
     "data": {
      "text/html": [
       "<div>\n",
       "<style scoped>\n",
       "    .dataframe tbody tr th:only-of-type {\n",
       "        vertical-align: middle;\n",
       "    }\n",
       "\n",
       "    .dataframe tbody tr th {\n",
       "        vertical-align: top;\n",
       "    }\n",
       "\n",
       "    .dataframe thead th {\n",
       "        text-align: right;\n",
       "    }\n",
       "</style>\n",
       "<table border=\"1\" class=\"dataframe\">\n",
       "  <thead>\n",
       "    <tr style=\"text-align: right;\">\n",
       "      <th></th>\n",
       "      <th>PassengerId</th>\n",
       "      <th>Pclass</th>\n",
       "      <th>Name</th>\n",
       "      <th>Sex</th>\n",
       "      <th>Age</th>\n",
       "      <th>SibSp</th>\n",
       "      <th>Parch</th>\n",
       "      <th>Ticket</th>\n",
       "      <th>Fare</th>\n",
       "      <th>Cabin</th>\n",
       "      <th>Embarked</th>\n",
       "    </tr>\n",
       "  </thead>\n",
       "  <tbody>\n",
       "    <tr>\n",
       "      <th>0</th>\n",
       "      <td>892</td>\n",
       "      <td>3</td>\n",
       "      <td>Kelly, Mr. James</td>\n",
       "      <td>male</td>\n",
       "      <td>34.5</td>\n",
       "      <td>0</td>\n",
       "      <td>0</td>\n",
       "      <td>330911</td>\n",
       "      <td>7.8292</td>\n",
       "      <td>NaN</td>\n",
       "      <td>Q</td>\n",
       "    </tr>\n",
       "    <tr>\n",
       "      <th>1</th>\n",
       "      <td>893</td>\n",
       "      <td>3</td>\n",
       "      <td>Wilkes, Mrs. James (Ellen Needs)</td>\n",
       "      <td>female</td>\n",
       "      <td>47.0</td>\n",
       "      <td>1</td>\n",
       "      <td>0</td>\n",
       "      <td>363272</td>\n",
       "      <td>7.0000</td>\n",
       "      <td>NaN</td>\n",
       "      <td>S</td>\n",
       "    </tr>\n",
       "    <tr>\n",
       "      <th>2</th>\n",
       "      <td>894</td>\n",
       "      <td>2</td>\n",
       "      <td>Myles, Mr. Thomas Francis</td>\n",
       "      <td>male</td>\n",
       "      <td>62.0</td>\n",
       "      <td>0</td>\n",
       "      <td>0</td>\n",
       "      <td>240276</td>\n",
       "      <td>9.6875</td>\n",
       "      <td>NaN</td>\n",
       "      <td>Q</td>\n",
       "    </tr>\n",
       "    <tr>\n",
       "      <th>3</th>\n",
       "      <td>895</td>\n",
       "      <td>3</td>\n",
       "      <td>Wirz, Mr. Albert</td>\n",
       "      <td>male</td>\n",
       "      <td>27.0</td>\n",
       "      <td>0</td>\n",
       "      <td>0</td>\n",
       "      <td>315154</td>\n",
       "      <td>8.6625</td>\n",
       "      <td>NaN</td>\n",
       "      <td>S</td>\n",
       "    </tr>\n",
       "    <tr>\n",
       "      <th>4</th>\n",
       "      <td>896</td>\n",
       "      <td>3</td>\n",
       "      <td>Hirvonen, Mrs. Alexander (Helga E Lindqvist)</td>\n",
       "      <td>female</td>\n",
       "      <td>22.0</td>\n",
       "      <td>1</td>\n",
       "      <td>1</td>\n",
       "      <td>3101298</td>\n",
       "      <td>12.2875</td>\n",
       "      <td>NaN</td>\n",
       "      <td>S</td>\n",
       "    </tr>\n",
       "  </tbody>\n",
       "</table>\n",
       "</div>"
      ],
      "text/plain": [
       "   PassengerId  Pclass                                          Name     Sex  \\\n",
       "0          892       3                              Kelly, Mr. James    male   \n",
       "1          893       3              Wilkes, Mrs. James (Ellen Needs)  female   \n",
       "2          894       2                     Myles, Mr. Thomas Francis    male   \n",
       "3          895       3                              Wirz, Mr. Albert    male   \n",
       "4          896       3  Hirvonen, Mrs. Alexander (Helga E Lindqvist)  female   \n",
       "\n",
       "    Age  SibSp  Parch   Ticket     Fare Cabin Embarked  \n",
       "0  34.5      0      0   330911   7.8292   NaN        Q  \n",
       "1  47.0      1      0   363272   7.0000   NaN        S  \n",
       "2  62.0      0      0   240276   9.6875   NaN        Q  \n",
       "3  27.0      0      0   315154   8.6625   NaN        S  \n",
       "4  22.0      1      1  3101298  12.2875   NaN        S  "
      ]
     },
     "execution_count": 227,
     "metadata": {},
     "output_type": "execute_result"
    }
   ],
   "source": [
    "test_data_df.head()"
   ]
  },
  {
   "cell_type": "markdown",
   "id": "0d07a09d-96a3-4433-b755-34408bc37cd8",
   "metadata": {},
   "source": [
    "Our target variable is Survived (we will change this column name later). 1 means they survived, 0 means they did not survive."
   ]
  },
  {
   "cell_type": "code",
   "execution_count": 228,
   "id": "98daa616-6547-4bb1-b873-47281b552896",
   "metadata": {},
   "outputs": [
    {
     "data": {
      "text/plain": [
       "Survived\n",
       "0    549\n",
       "1    342\n",
       "Name: count, dtype: int64"
      ]
     },
     "execution_count": 228,
     "metadata": {},
     "output_type": "execute_result"
    }
   ],
   "source": [
    "train_data_df[\"Survived\"].value_counts()"
   ]
  },
  {
   "cell_type": "code",
   "execution_count": 229,
   "id": "0ad7ffc3-4427-4b39-948e-a751bdbf0153",
   "metadata": {},
   "outputs": [
    {
     "data": {
      "text/plain": [
       "0.3838383838383838"
      ]
     },
     "execution_count": 229,
     "metadata": {},
     "output_type": "execute_result"
    }
   ],
   "source": [
    "sum(train_data_df[\"Survived\"]) / len(train_data_df)"
   ]
  },
  {
   "cell_type": "markdown",
   "id": "a9323b09-60f4-4347-abb6-f901b552838f",
   "metadata": {},
   "source": [
    "About 38% of the people in the dataset survived, slightly imbalanced but nothing that will make it difficult for us to make a good model."
   ]
  },
  {
   "cell_type": "markdown",
   "id": "5a8e54b4-1fef-4861-877c-9fa485e6547a",
   "metadata": {},
   "source": [
    "## Step 3: Data Preparation"
   ]
  },
  {
   "cell_type": "markdown",
   "id": "3e77cc56-6d4b-4c08-ade8-a273186ac619",
   "metadata": {},
   "source": [
    "### Clean up the data"
   ]
  },
  {
   "cell_type": "markdown",
   "id": "d2df10a6-1a64-4304-bcf0-50b109d1598e",
   "metadata": {},
   "source": [
    "Now we can start cleaning up the dataframes so they're easier to work with, and give us more accurate results."
   ]
  },
  {
   "cell_type": "code",
   "execution_count": 230,
   "id": "52801494-ef2f-4047-a30d-2c862e81acb8",
   "metadata": {},
   "outputs": [],
   "source": [
    "for df in [train_data_df, test_data_df]:\n",
    "    df.columns = df.columns.str.lower().str.replace(\" \", \"_\")\n",
    "    string_columns = list(df.dtypes[df.dtypes == \"object\"].index)\n",
    "    for column in string_columns:\n",
    "        df[column] = df[column].str.lower().str.replace(\" \", \"_\")"
   ]
  },
  {
   "cell_type": "code",
   "execution_count": 231,
   "id": "cbf5c7bc-36f0-425a-a166-9153e1e03c1c",
   "metadata": {},
   "outputs": [
    {
     "data": {
      "text/html": [
       "<div>\n",
       "<style scoped>\n",
       "    .dataframe tbody tr th:only-of-type {\n",
       "        vertical-align: middle;\n",
       "    }\n",
       "\n",
       "    .dataframe tbody tr th {\n",
       "        vertical-align: top;\n",
       "    }\n",
       "\n",
       "    .dataframe thead th {\n",
       "        text-align: right;\n",
       "    }\n",
       "</style>\n",
       "<table border=\"1\" class=\"dataframe\">\n",
       "  <thead>\n",
       "    <tr style=\"text-align: right;\">\n",
       "      <th></th>\n",
       "      <th>passengerid</th>\n",
       "      <th>survived</th>\n",
       "      <th>pclass</th>\n",
       "      <th>name</th>\n",
       "      <th>sex</th>\n",
       "      <th>age</th>\n",
       "      <th>sibsp</th>\n",
       "      <th>parch</th>\n",
       "      <th>ticket</th>\n",
       "      <th>fare</th>\n",
       "      <th>cabin</th>\n",
       "      <th>embarked</th>\n",
       "    </tr>\n",
       "  </thead>\n",
       "  <tbody>\n",
       "    <tr>\n",
       "      <th>0</th>\n",
       "      <td>1</td>\n",
       "      <td>0</td>\n",
       "      <td>3</td>\n",
       "      <td>braund,_mr._owen_harris</td>\n",
       "      <td>male</td>\n",
       "      <td>22.0</td>\n",
       "      <td>1</td>\n",
       "      <td>0</td>\n",
       "      <td>a/5_21171</td>\n",
       "      <td>7.2500</td>\n",
       "      <td>NaN</td>\n",
       "      <td>s</td>\n",
       "    </tr>\n",
       "    <tr>\n",
       "      <th>1</th>\n",
       "      <td>2</td>\n",
       "      <td>1</td>\n",
       "      <td>1</td>\n",
       "      <td>cumings,_mrs._john_bradley_(florence_briggs_th...</td>\n",
       "      <td>female</td>\n",
       "      <td>38.0</td>\n",
       "      <td>1</td>\n",
       "      <td>0</td>\n",
       "      <td>pc_17599</td>\n",
       "      <td>71.2833</td>\n",
       "      <td>c85</td>\n",
       "      <td>c</td>\n",
       "    </tr>\n",
       "    <tr>\n",
       "      <th>2</th>\n",
       "      <td>3</td>\n",
       "      <td>1</td>\n",
       "      <td>3</td>\n",
       "      <td>heikkinen,_miss._laina</td>\n",
       "      <td>female</td>\n",
       "      <td>26.0</td>\n",
       "      <td>0</td>\n",
       "      <td>0</td>\n",
       "      <td>ston/o2._3101282</td>\n",
       "      <td>7.9250</td>\n",
       "      <td>NaN</td>\n",
       "      <td>s</td>\n",
       "    </tr>\n",
       "    <tr>\n",
       "      <th>3</th>\n",
       "      <td>4</td>\n",
       "      <td>1</td>\n",
       "      <td>1</td>\n",
       "      <td>futrelle,_mrs._jacques_heath_(lily_may_peel)</td>\n",
       "      <td>female</td>\n",
       "      <td>35.0</td>\n",
       "      <td>1</td>\n",
       "      <td>0</td>\n",
       "      <td>113803</td>\n",
       "      <td>53.1000</td>\n",
       "      <td>c123</td>\n",
       "      <td>s</td>\n",
       "    </tr>\n",
       "    <tr>\n",
       "      <th>4</th>\n",
       "      <td>5</td>\n",
       "      <td>0</td>\n",
       "      <td>3</td>\n",
       "      <td>allen,_mr._william_henry</td>\n",
       "      <td>male</td>\n",
       "      <td>35.0</td>\n",
       "      <td>0</td>\n",
       "      <td>0</td>\n",
       "      <td>373450</td>\n",
       "      <td>8.0500</td>\n",
       "      <td>NaN</td>\n",
       "      <td>s</td>\n",
       "    </tr>\n",
       "  </tbody>\n",
       "</table>\n",
       "</div>"
      ],
      "text/plain": [
       "   passengerid  survived  pclass  \\\n",
       "0            1         0       3   \n",
       "1            2         1       1   \n",
       "2            3         1       3   \n",
       "3            4         1       1   \n",
       "4            5         0       3   \n",
       "\n",
       "                                                name     sex   age  sibsp  \\\n",
       "0                            braund,_mr._owen_harris    male  22.0      1   \n",
       "1  cumings,_mrs._john_bradley_(florence_briggs_th...  female  38.0      1   \n",
       "2                             heikkinen,_miss._laina  female  26.0      0   \n",
       "3       futrelle,_mrs._jacques_heath_(lily_may_peel)  female  35.0      1   \n",
       "4                           allen,_mr._william_henry    male  35.0      0   \n",
       "\n",
       "   parch            ticket     fare cabin embarked  \n",
       "0      0         a/5_21171   7.2500   NaN        s  \n",
       "1      0          pc_17599  71.2833   c85        c  \n",
       "2      0  ston/o2._3101282   7.9250   NaN        s  \n",
       "3      0            113803  53.1000  c123        s  \n",
       "4      0            373450   8.0500   NaN        s  "
      ]
     },
     "execution_count": 231,
     "metadata": {},
     "output_type": "execute_result"
    }
   ],
   "source": [
    "train_data_df.head()"
   ]
  },
  {
   "cell_type": "markdown",
   "id": "b5ba4a96-099c-449d-a393-9b6dc79ee8b5",
   "metadata": {},
   "source": [
    "Let's create a function to view the values in each column."
   ]
  },
  {
   "cell_type": "code",
   "execution_count": 232,
   "id": "970e222b-5972-4d63-a853-044f148f0881",
   "metadata": {},
   "outputs": [],
   "source": [
    "def display_column_value_counts(df):\n",
    "    for column in df.columns:\n",
    "        display(df[column].value_counts().sort_index())\n",
    "        print(\"\\n\")"
   ]
  },
  {
   "cell_type": "code",
   "execution_count": 233,
   "id": "540dacbf-eb4e-4400-8a79-6730002551b1",
   "metadata": {},
   "outputs": [
    {
     "data": {
      "text/plain": [
       "passengerid\n",
       "1      1\n",
       "2      1\n",
       "3      1\n",
       "4      1\n",
       "5      1\n",
       "      ..\n",
       "887    1\n",
       "888    1\n",
       "889    1\n",
       "890    1\n",
       "891    1\n",
       "Name: count, Length: 891, dtype: int64"
      ]
     },
     "metadata": {},
     "output_type": "display_data"
    },
    {
     "name": "stdout",
     "output_type": "stream",
     "text": [
      "\n",
      "\n"
     ]
    },
    {
     "data": {
      "text/plain": [
       "survived\n",
       "0    549\n",
       "1    342\n",
       "Name: count, dtype: int64"
      ]
     },
     "metadata": {},
     "output_type": "display_data"
    },
    {
     "name": "stdout",
     "output_type": "stream",
     "text": [
      "\n",
      "\n"
     ]
    },
    {
     "data": {
      "text/plain": [
       "pclass\n",
       "1    216\n",
       "2    184\n",
       "3    491\n",
       "Name: count, dtype: int64"
      ]
     },
     "metadata": {},
     "output_type": "display_data"
    },
    {
     "name": "stdout",
     "output_type": "stream",
     "text": [
      "\n",
      "\n"
     ]
    },
    {
     "data": {
      "text/plain": [
       "name\n",
       "abbing,_mr._anthony                       1\n",
       "abbott,_mr._rossmore_edward               1\n",
       "abbott,_mrs._stanton_(rosa_hunt)          1\n",
       "abelson,_mr._samuel                       1\n",
       "abelson,_mrs._samuel_(hannah_wizosky)     1\n",
       "                                         ..\n",
       "yousseff,_mr._gerious                     1\n",
       "yrois,_miss._henriette_(\"mrs_harbeck\")    1\n",
       "zabour,_miss._hileni                      1\n",
       "zabour,_miss._thamine                     1\n",
       "zimmerman,_mr._leo                        1\n",
       "Name: count, Length: 891, dtype: int64"
      ]
     },
     "metadata": {},
     "output_type": "display_data"
    },
    {
     "name": "stdout",
     "output_type": "stream",
     "text": [
      "\n",
      "\n"
     ]
    },
    {
     "data": {
      "text/plain": [
       "sex\n",
       "female    314\n",
       "male      577\n",
       "Name: count, dtype: int64"
      ]
     },
     "metadata": {},
     "output_type": "display_data"
    },
    {
     "name": "stdout",
     "output_type": "stream",
     "text": [
      "\n",
      "\n"
     ]
    },
    {
     "data": {
      "text/plain": [
       "age\n",
       "0.42     1\n",
       "0.67     1\n",
       "0.75     2\n",
       "0.83     2\n",
       "0.92     1\n",
       "        ..\n",
       "70.00    2\n",
       "70.50    1\n",
       "71.00    2\n",
       "74.00    1\n",
       "80.00    1\n",
       "Name: count, Length: 88, dtype: int64"
      ]
     },
     "metadata": {},
     "output_type": "display_data"
    },
    {
     "name": "stdout",
     "output_type": "stream",
     "text": [
      "\n",
      "\n"
     ]
    },
    {
     "data": {
      "text/plain": [
       "sibsp\n",
       "0    608\n",
       "1    209\n",
       "2     28\n",
       "3     16\n",
       "4     18\n",
       "5      5\n",
       "8      7\n",
       "Name: count, dtype: int64"
      ]
     },
     "metadata": {},
     "output_type": "display_data"
    },
    {
     "name": "stdout",
     "output_type": "stream",
     "text": [
      "\n",
      "\n"
     ]
    },
    {
     "data": {
      "text/plain": [
       "parch\n",
       "0    678\n",
       "1    118\n",
       "2     80\n",
       "3      5\n",
       "4      4\n",
       "5      5\n",
       "6      1\n",
       "Name: count, dtype: int64"
      ]
     },
     "metadata": {},
     "output_type": "display_data"
    },
    {
     "name": "stdout",
     "output_type": "stream",
     "text": [
      "\n",
      "\n"
     ]
    },
    {
     "data": {
      "text/plain": [
       "ticket\n",
       "110152         3\n",
       "110413         3\n",
       "110465         2\n",
       "110564         1\n",
       "110813         1\n",
       "              ..\n",
       "w./c._6608     4\n",
       "w./c._6609     1\n",
       "w.e.p._5734    1\n",
       "w/c_14208      1\n",
       "we/p_5735      2\n",
       "Name: count, Length: 681, dtype: int64"
      ]
     },
     "metadata": {},
     "output_type": "display_data"
    },
    {
     "name": "stdout",
     "output_type": "stream",
     "text": [
      "\n",
      "\n"
     ]
    },
    {
     "data": {
      "text/plain": [
       "fare\n",
       "0.0000      15\n",
       "4.0125       1\n",
       "5.0000       1\n",
       "6.2375       1\n",
       "6.4375       1\n",
       "            ..\n",
       "227.5250     4\n",
       "247.5208     2\n",
       "262.3750     2\n",
       "263.0000     4\n",
       "512.3292     3\n",
       "Name: count, Length: 248, dtype: int64"
      ]
     },
     "metadata": {},
     "output_type": "display_data"
    },
    {
     "name": "stdout",
     "output_type": "stream",
     "text": [
      "\n",
      "\n"
     ]
    },
    {
     "data": {
      "text/plain": [
       "cabin\n",
       "a10      1\n",
       "a14      1\n",
       "a16      1\n",
       "a19      1\n",
       "a20      1\n",
       "        ..\n",
       "f_e69    1\n",
       "f_g63    1\n",
       "f_g73    2\n",
       "g6       4\n",
       "t        1\n",
       "Name: count, Length: 147, dtype: int64"
      ]
     },
     "metadata": {},
     "output_type": "display_data"
    },
    {
     "name": "stdout",
     "output_type": "stream",
     "text": [
      "\n",
      "\n"
     ]
    },
    {
     "data": {
      "text/plain": [
       "embarked\n",
       "c    168\n",
       "q     77\n",
       "s    644\n",
       "Name: count, dtype: int64"
      ]
     },
     "metadata": {},
     "output_type": "display_data"
    },
    {
     "name": "stdout",
     "output_type": "stream",
     "text": [
      "\n",
      "\n"
     ]
    }
   ],
   "source": [
    "display_column_value_counts(train_data_df)"
   ]
  },
  {
   "cell_type": "markdown",
   "id": "55635e11-ea88-481a-af89-35c73f43589d",
   "metadata": {},
   "source": [
    "Some findings:\n",
    "\n",
    "- passengerid is purely unique values, so we can remove it since we can't group people by a specific passengerid\n",
    "- same with the name column ^\n",
    "- we could break up the age column into groups and then drop the age column, let's view it with a histogram later\n",
    "- sibsp is how many siblings and spouses the person has, parch is how many children and parents the person has, we can group them into a familysize column and remove sibsp and parch\n",
    "- for ticket, we can group them by the first character in each ticket\n",
    "- we can also break up the fare column into groups, let's view it with a histogram later\n",
    "- cabin is mostly empty values, and the values that are there are all unique, so we can remove this column\n",
    "\n",
    "Let's clean up the data now."
   ]
  },
  {
   "cell_type": "markdown",
   "id": "b93597f2-7064-4b2d-9ecf-fe8a6bf6b77e",
   "metadata": {},
   "source": [
    "First, we remove the columns that offer little to our model."
   ]
  },
  {
   "cell_type": "markdown",
   "id": "8783cacd-a3bb-4534-bad7-56edfffb3557",
   "metadata": {},
   "source": [
    "We will need the passengerid column of the test dataframe at the end, so let's save it as a Pandas series."
   ]
  },
  {
   "cell_type": "code",
   "execution_count": 234,
   "id": "da2a84e6-6a80-4e4a-9a0b-59db6eba4f8f",
   "metadata": {},
   "outputs": [],
   "source": [
    "passenger_id = test_data_df[\"passengerid\"]"
   ]
  },
  {
   "cell_type": "code",
   "execution_count": 235,
   "id": "f655cdfa-e54f-4a31-aa8f-f339c99fa075",
   "metadata": {},
   "outputs": [],
   "source": [
    "def drop_columns(df):\n",
    "    df = df.drop(\"passengerid\", axis=1)\n",
    "    df = df.drop(\"name\", axis=1)\n",
    "    df = df.drop(\"cabin\", axis=1)\n",
    "    return df\n",
    "\n",
    "train_data_df, test_data_df = drop_columns(train_data_df), drop_columns(test_data_df)"
   ]
  },
  {
   "cell_type": "markdown",
   "id": "a0c656b6-90aa-4ac6-bb49-93ac119bbcef",
   "metadata": {},
   "source": [
    "Next, let's look at histograms and manage the age and fare columns."
   ]
  },
  {
   "cell_type": "code",
   "execution_count": 236,
   "id": "bac6b84a-e265-4b1b-9dc0-7ff266aa4b10",
   "metadata": {},
   "outputs": [
    {
     "data": {
      "text/plain": [
       "<Axes: xlabel='age', ylabel='Count'>"
      ]
     },
     "execution_count": 236,
     "metadata": {},
     "output_type": "execute_result"
    },
    {
     "data": {
      "image/png": "[encoded data removed]",
      "text/plain": [
       "<Figure size 640x480 with 1 Axes>"
      ]
     },
     "metadata": {},
     "output_type": "display_data"
    }
   ],
   "source": [
    "sns.histplot(train_data_df[\"age\"])"
   ]
  },
  {
   "cell_type": "markdown",
   "id": "7f10617d-7495-4f02-82ca-00ed7229b35b",
   "metadata": {},
   "source": [
    "Age can be split up by 0 to 21, 21 to 50, and 50+. (The life expectancy in 1912 when the Titanic sank was in the mid 50s: https://u.demog.berkeley.edu/~andrew/1918/figure2.html)."
   ]
  },
  {
   "cell_type": "code",
   "execution_count": 237,
   "id": "f1469870-635f-485e-b748-e72f2221be34",
   "metadata": {},
   "outputs": [],
   "source": [
    "def create_agegroup_column(df):\n",
    "    df[\"agegroup\"] = [\"child\" if age <= 21 else \"adult\" if age <= 50 else \"other\" for age in df[\"age\"]]\n",
    "    df = df.drop(\"age\", axis=1)\n",
    "    return df\n",
    "\n",
    "train_data_df, test_data_df = create_agegroup_column(train_data_df), create_agegroup_column(test_data_df)"
   ]
  },
  {
   "cell_type": "code",
   "execution_count": 238,
   "id": "e1d7f0a0-35ca-4b0b-b9b3-0d1fd5014609",
   "metadata": {},
   "outputs": [
    {
     "data": {
      "text/plain": [
       "<Axes: xlabel='fare', ylabel='Count'>"
      ]
     },
     "execution_count": 238,
     "metadata": {},
     "output_type": "execute_result"
    },
    {
     "data": {
      "image/png": "[encoded data removed]",
      "text/plain": [
       "<Figure size 640x480 with 1 Axes>"
      ]
     },
     "metadata": {},
     "output_type": "display_data"
    }
   ],
   "source": [
    "sns.histplot(train_data_df[\"fare\"], bins=20)"
   ]
  },
  {
   "cell_type": "markdown",
   "id": "e520063b-1411-4199-bb63-3d2389a3e3df",
   "metadata": {},
   "source": [
    "Fare can be split up by 0 to 25, 25 to 100, and 100+. (These are just groups I made up)."
   ]
  },
  {
   "cell_type": "code",
   "execution_count": 239,
   "id": "3faeb65e-8b8a-4ad9-8396-8156919f563b",
   "metadata": {},
   "outputs": [],
   "source": [
    "def create_fareclass_column(df):\n",
    "    df[\"fareclass\"] = [\"basic\" if fare <= 25 else \"premium\" if fare <= 100 else \"luxury\" for fare in df[\"fare\"]]\n",
    "    df = df.drop(\"fare\", axis=1)\n",
    "    return df\n",
    "\n",
    "train_data_df, test_data_df = create_fareclass_column(train_data_df), create_fareclass_column(test_data_df)"
   ]
  },
  {
   "cell_type": "markdown",
   "id": "608835b8-ea89-466b-9f21-09c3e71ca30b",
   "metadata": {},
   "source": [
    "Now, we can make the familysize column and remove sibsp and parch."
   ]
  },
  {
   "cell_type": "code",
   "execution_count": 240,
   "id": "8cf464d3-31f8-4e1e-a706-85389c4a2061",
   "metadata": {},
   "outputs": [],
   "source": [
    "def create_familysize_column(df):\n",
    "    df[\"familysize\"] = df[\"sibsp\"] + df[\"parch\"]\n",
    "    df = df.drop(\"sibsp\", axis=1)\n",
    "    df = df.drop(\"parch\", axis=1)\n",
    "    return df\n",
    "\n",
    "train_data_df, test_data_df = create_familysize_column(train_data_df), create_familysize_column(test_data_df)"
   ]
  },
  {
   "cell_type": "markdown",
   "id": "b683e718-c1d2-4d3c-86ec-b1f929bffe52",
   "metadata": {},
   "source": [
    "Finally, let's group the ticket column by the first character in each ticket."
   ]
  },
  {
   "cell_type": "code",
   "execution_count": 241,
   "id": "e82b127f-de19-4965-9b9a-c08ca93437f1",
   "metadata": {},
   "outputs": [],
   "source": [
    "def create_familysize_column(df):\n",
    "    df[\"ticket\"] = df[\"ticket\"].str[0]\n",
    "    return df\n",
    "\n",
    "train_data_df, test_data_df = create_familysize_column(train_data_df), create_familysize_column(test_data_df)"
   ]
  },
  {
   "cell_type": "markdown",
   "id": "390a46a1-a165-4e52-aa9d-03e620216018",
   "metadata": {},
   "source": [
    "Now that the data is cleaned up, let's see if there's any missing rows."
   ]
  },
  {
   "cell_type": "code",
   "execution_count": 242,
   "id": "7b293bbd-df91-4815-b5e4-eb6e1ddffa54",
   "metadata": {},
   "outputs": [
    {
     "data": {
      "text/plain": [
       "survived      0\n",
       "pclass        0\n",
       "sex           0\n",
       "ticket        0\n",
       "embarked      2\n",
       "agegroup      0\n",
       "fareclass     0\n",
       "familysize    0\n",
       "dtype: int64"
      ]
     },
     "execution_count": 242,
     "metadata": {},
     "output_type": "execute_result"
    }
   ],
   "source": [
    "train_data_df.isnull().sum()"
   ]
  },
  {
   "cell_type": "markdown",
   "id": "cb3f0e99-56a3-4b47-abf7-9997859476cb",
   "metadata": {},
   "source": [
    "We can drop the people with no embarked value since it's only two person."
   ]
  },
  {
   "cell_type": "code",
   "execution_count": 243,
   "id": "69fbca00-fc3f-4384-b472-4bc503a2105b",
   "metadata": {},
   "outputs": [],
   "source": [
    "train_data_df = train_data_df.dropna(subset=[\"embarked\"])"
   ]
  },
  {
   "cell_type": "markdown",
   "id": "1e7cddfa-ec86-462e-a976-276646048ec2",
   "metadata": {},
   "source": [
    "Let's look at the data again and see if we forgot anything."
   ]
  },
  {
   "cell_type": "code",
   "execution_count": 244,
   "id": "e930c59e-4c66-40e9-9bb3-132d7507a908",
   "metadata": {},
   "outputs": [
    {
     "data": {
      "text/plain": [
       "survived\n",
       "0    549\n",
       "1    340\n",
       "Name: count, dtype: int64"
      ]
     },
     "metadata": {},
     "output_type": "display_data"
    },
    {
     "name": "stdout",
     "output_type": "stream",
     "text": [
      "\n",
      "\n"
     ]
    },
    {
     "data": {
      "text/plain": [
       "pclass\n",
       "1    214\n",
       "2    184\n",
       "3    491\n",
       "Name: count, dtype: int64"
      ]
     },
     "metadata": {},
     "output_type": "display_data"
    },
    {
     "name": "stdout",
     "output_type": "stream",
     "text": [
      "\n",
      "\n"
     ]
    },
    {
     "data": {
      "text/plain": [
       "sex\n",
       "female    312\n",
       "male      577\n",
       "Name: count, dtype: int64"
      ]
     },
     "metadata": {},
     "output_type": "display_data"
    },
    {
     "name": "stdout",
     "output_type": "stream",
     "text": [
      "\n",
      "\n"
     ]
    },
    {
     "data": {
      "text/plain": [
       "ticket\n",
       "1    144\n",
       "2    183\n",
       "3    301\n",
       "4     10\n",
       "5      3\n",
       "6      6\n",
       "7      9\n",
       "8      2\n",
       "9      1\n",
       "a     29\n",
       "c     47\n",
       "f      7\n",
       "l      4\n",
       "p     65\n",
       "s     65\n",
       "w     13\n",
       "Name: count, dtype: int64"
      ]
     },
     "metadata": {},
     "output_type": "display_data"
    },
    {
     "name": "stdout",
     "output_type": "stream",
     "text": [
      "\n",
      "\n"
     ]
    },
    {
     "data": {
      "text/plain": [
       "embarked\n",
       "c    168\n",
       "q     77\n",
       "s    644\n",
       "Name: count, dtype: int64"
      ]
     },
     "metadata": {},
     "output_type": "display_data"
    },
    {
     "name": "stdout",
     "output_type": "stream",
     "text": [
      "\n",
      "\n"
     ]
    },
    {
     "data": {
      "text/plain": [
       "agegroup\n",
       "adult    445\n",
       "child    204\n",
       "other    240\n",
       "Name: count, dtype: int64"
      ]
     },
     "metadata": {},
     "output_type": "display_data"
    },
    {
     "name": "stdout",
     "output_type": "stream",
     "text": [
      "\n",
      "\n"
     ]
    },
    {
     "data": {
      "text/plain": [
       "fareclass\n",
       "basic      557\n",
       "luxury      53\n",
       "premium    279\n",
       "Name: count, dtype: int64"
      ]
     },
     "metadata": {},
     "output_type": "display_data"
    },
    {
     "name": "stdout",
     "output_type": "stream",
     "text": [
      "\n",
      "\n"
     ]
    },
    {
     "data": {
      "text/plain": [
       "familysize\n",
       "0     535\n",
       "1     161\n",
       "2     102\n",
       "3      29\n",
       "4      15\n",
       "5      22\n",
       "6      12\n",
       "7       6\n",
       "10      7\n",
       "Name: count, dtype: int64"
      ]
     },
     "metadata": {},
     "output_type": "display_data"
    },
    {
     "name": "stdout",
     "output_type": "stream",
     "text": [
      "\n",
      "\n"
     ]
    }
   ],
   "source": [
    "display_column_value_counts(train_data_df)"
   ]
  },
  {
   "cell_type": "code",
   "execution_count": 245,
   "id": "8d29ed71-4cf0-405e-81bc-4f11d18bdde9",
   "metadata": {},
   "outputs": [
    {
     "data": {
      "text/plain": [
       "survived       int64\n",
       "pclass         int64\n",
       "sex           object\n",
       "ticket        object\n",
       "embarked      object\n",
       "agegroup      object\n",
       "fareclass     object\n",
       "familysize     int64\n",
       "dtype: object"
      ]
     },
     "execution_count": 245,
     "metadata": {},
     "output_type": "execute_result"
    }
   ],
   "source": [
    "train_data_df.dtypes"
   ]
  },
  {
   "cell_type": "markdown",
   "id": "bcf5e070-a567-49c8-a42c-5d1d57f06297",
   "metadata": {},
   "source": [
    "It looks good. Now the dataframe is cleaned up and ready for us to start our modeling."
   ]
  },
  {
   "cell_type": "markdown",
   "id": "a3da49c9-65e7-4d1b-aea0-32970d9d2b29",
   "metadata": {},
   "source": [
    "## Step 4: Modeling"
   ]
  },
  {
   "cell_type": "markdown",
   "id": "0bf7606a-d6de-4784-b69f-2c0f2e8aac1e",
   "metadata": {},
   "source": [
    "We already have train and test dataframes, but let's split the train dataframe into train and validation. The validation dataframe will be used to evaluate the model's performance during training and to fine-tune the model."
   ]
  },
  {
   "cell_type": "code",
   "execution_count": 246,
   "id": "21667f2b-e4e4-4366-9ff0-422c491fdf56",
   "metadata": {},
   "outputs": [],
   "source": [
    "train_data_split_df, validation_data_split_df = train_test_split(train_data_df, test_size=0.2, random_state=1)\n",
    "\n",
    "y_train = train_data_split_df[\"survived\"].values\n",
    "y_validation = validation_data_split_df[\"survived\"].values\n",
    "\n",
    "del train_data_split_df[\"survived\"]\n",
    "del validation_data_split_df[\"survived\"]"
   ]
  },
  {
   "cell_type": "markdown",
   "id": "53d687bb-82d9-4d44-ae30-422bfe05b004",
   "metadata": {},
   "source": [
    "Removing the target variable is an optional step, but it's helpful to make sure that we don't use it when training a model."
   ]
  },
  {
   "cell_type": "markdown",
   "id": "7e0003de-824e-4ce8-aba5-a7fd8ec37e56",
   "metadata": {},
   "source": [
    "We can use encoding methods to see which features may be important for our model. We can't just take a categorical variable and put it into a machine learning model, since models can only work with numbers in matrices. Let's convert the categorical values into a matrix form by encoding them."
   ]
  },
  {
   "cell_type": "code",
   "execution_count": 247,
   "id": "3fc94c23-83db-43c0-b872-95f76da24a8d",
   "metadata": {},
   "outputs": [],
   "source": [
    "categorical = [\"sex\", \"ticket\", \"embarked\", \"agegroup\", \"fareclass\"]\n",
    "numerical = [\"pclass\", \"familysize\"]"
   ]
  },
  {
   "cell_type": "markdown",
   "id": "a52362d6-f614-4cac-82ca-b4b9fc4cc584",
   "metadata": {},
   "source": [
    "Let's calculate the survival rate for the categorical variables."
   ]
  },
  {
   "cell_type": "code",
   "execution_count": 248,
   "id": "883ca044-644e-4771-890b-038c1aa58c0b",
   "metadata": {},
   "outputs": [
    {
     "data": {
      "text/html": [
       "<div>\n",
       "<style scoped>\n",
       "    .dataframe tbody tr th:only-of-type {\n",
       "        vertical-align: middle;\n",
       "    }\n",
       "\n",
       "    .dataframe tbody tr th {\n",
       "        vertical-align: top;\n",
       "    }\n",
       "\n",
       "    .dataframe thead th {\n",
       "        text-align: right;\n",
       "    }\n",
       "</style>\n",
       "<table border=\"1\" class=\"dataframe\">\n",
       "  <thead>\n",
       "    <tr style=\"text-align: right;\">\n",
       "      <th></th>\n",
       "      <th>mean</th>\n",
       "      <th>diff</th>\n",
       "      <th>risk</th>\n",
       "    </tr>\n",
       "    <tr>\n",
       "      <th>sex</th>\n",
       "      <th></th>\n",
       "      <th></th>\n",
       "      <th></th>\n",
       "    </tr>\n",
       "  </thead>\n",
       "  <tbody>\n",
       "    <tr>\n",
       "      <th>female</th>\n",
       "      <td>0.740385</td>\n",
       "      <td>0.357932</td>\n",
       "      <td>1.935888</td>\n",
       "    </tr>\n",
       "    <tr>\n",
       "      <th>male</th>\n",
       "      <td>0.188908</td>\n",
       "      <td>-0.193544</td>\n",
       "      <td>0.493939</td>\n",
       "    </tr>\n",
       "  </tbody>\n",
       "</table>\n",
       "</div>"
      ],
      "text/plain": [
       "            mean      diff      risk\n",
       "sex                                 \n",
       "female  0.740385  0.357932  1.935888\n",
       "male    0.188908 -0.193544  0.493939"
      ]
     },
     "metadata": {},
     "output_type": "display_data"
    },
    {
     "data": {
      "text/html": [
       "<div>\n",
       "<style scoped>\n",
       "    .dataframe tbody tr th:only-of-type {\n",
       "        vertical-align: middle;\n",
       "    }\n",
       "\n",
       "    .dataframe tbody tr th {\n",
       "        vertical-align: top;\n",
       "    }\n",
       "\n",
       "    .dataframe thead th {\n",
       "        text-align: right;\n",
       "    }\n",
       "</style>\n",
       "<table border=\"1\" class=\"dataframe\">\n",
       "  <thead>\n",
       "    <tr style=\"text-align: right;\">\n",
       "      <th></th>\n",
       "      <th>mean</th>\n",
       "      <th>diff</th>\n",
       "      <th>risk</th>\n",
       "    </tr>\n",
       "    <tr>\n",
       "      <th>ticket</th>\n",
       "      <th></th>\n",
       "      <th></th>\n",
       "      <th></th>\n",
       "    </tr>\n",
       "  </thead>\n",
       "  <tbody>\n",
       "    <tr>\n",
       "      <th>1</th>\n",
       "      <td>0.625000</td>\n",
       "      <td>0.242548</td>\n",
       "      <td>1.634191</td>\n",
       "    </tr>\n",
       "    <tr>\n",
       "      <th>2</th>\n",
       "      <td>0.464481</td>\n",
       "      <td>0.082029</td>\n",
       "      <td>1.214481</td>\n",
       "    </tr>\n",
       "    <tr>\n",
       "      <th>3</th>\n",
       "      <td>0.239203</td>\n",
       "      <td>-0.143250</td>\n",
       "      <td>0.625445</td>\n",
       "    </tr>\n",
       "    <tr>\n",
       "      <th>4</th>\n",
       "      <td>0.200000</td>\n",
       "      <td>-0.182452</td>\n",
       "      <td>0.522941</td>\n",
       "    </tr>\n",
       "    <tr>\n",
       "      <th>5</th>\n",
       "      <td>0.000000</td>\n",
       "      <td>-0.382452</td>\n",
       "      <td>0.000000</td>\n",
       "    </tr>\n",
       "    <tr>\n",
       "      <th>6</th>\n",
       "      <td>0.166667</td>\n",
       "      <td>-0.215786</td>\n",
       "      <td>0.435784</td>\n",
       "    </tr>\n",
       "    <tr>\n",
       "      <th>7</th>\n",
       "      <td>0.111111</td>\n",
       "      <td>-0.271341</td>\n",
       "      <td>0.290523</td>\n",
       "    </tr>\n",
       "    <tr>\n",
       "      <th>8</th>\n",
       "      <td>0.000000</td>\n",
       "      <td>-0.382452</td>\n",
       "      <td>0.000000</td>\n",
       "    </tr>\n",
       "    <tr>\n",
       "      <th>9</th>\n",
       "      <td>1.000000</td>\n",
       "      <td>0.617548</td>\n",
       "      <td>2.614706</td>\n",
       "    </tr>\n",
       "    <tr>\n",
       "      <th>a</th>\n",
       "      <td>0.068966</td>\n",
       "      <td>-0.313487</td>\n",
       "      <td>0.180325</td>\n",
       "    </tr>\n",
       "    <tr>\n",
       "      <th>c</th>\n",
       "      <td>0.340426</td>\n",
       "      <td>-0.042027</td>\n",
       "      <td>0.890113</td>\n",
       "    </tr>\n",
       "    <tr>\n",
       "      <th>f</th>\n",
       "      <td>0.571429</td>\n",
       "      <td>0.188976</td>\n",
       "      <td>1.494118</td>\n",
       "    </tr>\n",
       "    <tr>\n",
       "      <th>l</th>\n",
       "      <td>0.250000</td>\n",
       "      <td>-0.132452</td>\n",
       "      <td>0.653676</td>\n",
       "    </tr>\n",
       "    <tr>\n",
       "      <th>p</th>\n",
       "      <td>0.646154</td>\n",
       "      <td>0.263702</td>\n",
       "      <td>1.689502</td>\n",
       "    </tr>\n",
       "    <tr>\n",
       "      <th>s</th>\n",
       "      <td>0.323077</td>\n",
       "      <td>-0.059375</td>\n",
       "      <td>0.844751</td>\n",
       "    </tr>\n",
       "    <tr>\n",
       "      <th>w</th>\n",
       "      <td>0.153846</td>\n",
       "      <td>-0.228606</td>\n",
       "      <td>0.402262</td>\n",
       "    </tr>\n",
       "  </tbody>\n",
       "</table>\n",
       "</div>"
      ],
      "text/plain": [
       "            mean      diff      risk\n",
       "ticket                              \n",
       "1       0.625000  0.242548  1.634191\n",
       "2       0.464481  0.082029  1.214481\n",
       "3       0.239203 -0.143250  0.625445\n",
       "4       0.200000 -0.182452  0.522941\n",
       "5       0.000000 -0.382452  0.000000\n",
       "6       0.166667 -0.215786  0.435784\n",
       "7       0.111111 -0.271341  0.290523\n",
       "8       0.000000 -0.382452  0.000000\n",
       "9       1.000000  0.617548  2.614706\n",
       "a       0.068966 -0.313487  0.180325\n",
       "c       0.340426 -0.042027  0.890113\n",
       "f       0.571429  0.188976  1.494118\n",
       "l       0.250000 -0.132452  0.653676\n",
       "p       0.646154  0.263702  1.689502\n",
       "s       0.323077 -0.059375  0.844751\n",
       "w       0.153846 -0.228606  0.402262"
      ]
     },
     "metadata": {},
     "output_type": "display_data"
    },
    {
     "data": {
      "text/html": [
       "<div>\n",
       "<style scoped>\n",
       "    .dataframe tbody tr th:only-of-type {\n",
       "        vertical-align: middle;\n",
       "    }\n",
       "\n",
       "    .dataframe tbody tr th {\n",
       "        vertical-align: top;\n",
       "    }\n",
       "\n",
       "    .dataframe thead th {\n",
       "        text-align: right;\n",
       "    }\n",
       "</style>\n",
       "<table border=\"1\" class=\"dataframe\">\n",
       "  <thead>\n",
       "    <tr style=\"text-align: right;\">\n",
       "      <th></th>\n",
       "      <th>mean</th>\n",
       "      <th>diff</th>\n",
       "      <th>risk</th>\n",
       "    </tr>\n",
       "    <tr>\n",
       "      <th>embarked</th>\n",
       "      <th></th>\n",
       "      <th></th>\n",
       "      <th></th>\n",
       "    </tr>\n",
       "  </thead>\n",
       "  <tbody>\n",
       "    <tr>\n",
       "      <th>c</th>\n",
       "      <td>0.553571</td>\n",
       "      <td>0.171119</td>\n",
       "      <td>1.447426</td>\n",
       "    </tr>\n",
       "    <tr>\n",
       "      <th>q</th>\n",
       "      <td>0.389610</td>\n",
       "      <td>0.007158</td>\n",
       "      <td>1.018717</td>\n",
       "    </tr>\n",
       "    <tr>\n",
       "      <th>s</th>\n",
       "      <td>0.336957</td>\n",
       "      <td>-0.045496</td>\n",
       "      <td>0.881042</td>\n",
       "    </tr>\n",
       "  </tbody>\n",
       "</table>\n",
       "</div>"
      ],
      "text/plain": [
       "              mean      diff      risk\n",
       "embarked                              \n",
       "c         0.553571  0.171119  1.447426\n",
       "q         0.389610  0.007158  1.018717\n",
       "s         0.336957 -0.045496  0.881042"
      ]
     },
     "metadata": {},
     "output_type": "display_data"
    },
    {
     "data": {
      "text/html": [
       "<div>\n",
       "<style scoped>\n",
       "    .dataframe tbody tr th:only-of-type {\n",
       "        vertical-align: middle;\n",
       "    }\n",
       "\n",
       "    .dataframe tbody tr th {\n",
       "        vertical-align: top;\n",
       "    }\n",
       "\n",
       "    .dataframe thead th {\n",
       "        text-align: right;\n",
       "    }\n",
       "</style>\n",
       "<table border=\"1\" class=\"dataframe\">\n",
       "  <thead>\n",
       "    <tr style=\"text-align: right;\">\n",
       "      <th></th>\n",
       "      <th>mean</th>\n",
       "      <th>diff</th>\n",
       "      <th>risk</th>\n",
       "    </tr>\n",
       "    <tr>\n",
       "      <th>agegroup</th>\n",
       "      <th></th>\n",
       "      <th></th>\n",
       "      <th></th>\n",
       "    </tr>\n",
       "  </thead>\n",
       "  <tbody>\n",
       "    <tr>\n",
       "      <th>adult</th>\n",
       "      <td>0.404494</td>\n",
       "      <td>0.022042</td>\n",
       "      <td>1.057634</td>\n",
       "    </tr>\n",
       "    <tr>\n",
       "      <th>child</th>\n",
       "      <td>0.426471</td>\n",
       "      <td>0.044018</td>\n",
       "      <td>1.115095</td>\n",
       "    </tr>\n",
       "    <tr>\n",
       "      <th>other</th>\n",
       "      <td>0.304167</td>\n",
       "      <td>-0.078286</td>\n",
       "      <td>0.795306</td>\n",
       "    </tr>\n",
       "  </tbody>\n",
       "</table>\n",
       "</div>"
      ],
      "text/plain": [
       "              mean      diff      risk\n",
       "agegroup                              \n",
       "adult     0.404494  0.022042  1.057634\n",
       "child     0.426471  0.044018  1.115095\n",
       "other     0.304167 -0.078286  0.795306"
      ]
     },
     "metadata": {},
     "output_type": "display_data"
    },
    {
     "data": {
      "text/html": [
       "<div>\n",
       "<style scoped>\n",
       "    .dataframe tbody tr th:only-of-type {\n",
       "        vertical-align: middle;\n",
       "    }\n",
       "\n",
       "    .dataframe tbody tr th {\n",
       "        vertical-align: top;\n",
       "    }\n",
       "\n",
       "    .dataframe thead th {\n",
       "        text-align: right;\n",
       "    }\n",
       "</style>\n",
       "<table border=\"1\" class=\"dataframe\">\n",
       "  <thead>\n",
       "    <tr style=\"text-align: right;\">\n",
       "      <th></th>\n",
       "      <th>mean</th>\n",
       "      <th>diff</th>\n",
       "      <th>risk</th>\n",
       "    </tr>\n",
       "    <tr>\n",
       "      <th>fareclass</th>\n",
       "      <th></th>\n",
       "      <th></th>\n",
       "      <th></th>\n",
       "    </tr>\n",
       "  </thead>\n",
       "  <tbody>\n",
       "    <tr>\n",
       "      <th>basic</th>\n",
       "      <td>0.287253</td>\n",
       "      <td>-0.095199</td>\n",
       "      <td>0.751082</td>\n",
       "    </tr>\n",
       "    <tr>\n",
       "      <th>luxury</th>\n",
       "      <td>0.735849</td>\n",
       "      <td>0.353397</td>\n",
       "      <td>1.924029</td>\n",
       "    </tr>\n",
       "    <tr>\n",
       "      <th>premium</th>\n",
       "      <td>0.505376</td>\n",
       "      <td>0.122924</td>\n",
       "      <td>1.321410</td>\n",
       "    </tr>\n",
       "  </tbody>\n",
       "</table>\n",
       "</div>"
      ],
      "text/plain": [
       "               mean      diff      risk\n",
       "fareclass                              \n",
       "basic      0.287253 -0.095199  0.751082\n",
       "luxury     0.735849  0.353397  1.924029\n",
       "premium    0.505376  0.122924  1.321410"
      ]
     },
     "metadata": {},
     "output_type": "display_data"
    }
   ],
   "source": [
    "global_mean = train_data_df[\"survived\"].mean()\n",
    "\n",
    "for column in categorical:\n",
    "    df_group = train_data_df.groupby(by=column)[\"survived\"].agg([\"mean\"])\n",
    "    df_group[\"diff\"] = df_group[\"mean\"] - global_mean\n",
    "    df_group[\"risk\"] = df_group[\"mean\"] / global_mean\n",
    "    display(df_group)"
   ]
  },
  {
   "cell_type": "markdown",
   "id": "006a56d1-8bbc-416a-9217-c00f14019b78",
   "metadata": {},
   "source": [
    "It seems that sex will be the most important variable for us because females are much more likely to survive than males. ticket, embarked, and fareclass also have some good values that can tell us if someone is likely to have survived. agegroup is a bit helpful, but not like the other variables."
   ]
  },
  {
   "cell_type": "code",
   "execution_count": 249,
   "id": "b3868100-fa70-4327-8422-4357908803fc",
   "metadata": {},
   "outputs": [
    {
     "data": {
      "text/html": [
       "<div>\n",
       "<style scoped>\n",
       "    .dataframe tbody tr th:only-of-type {\n",
       "        vertical-align: middle;\n",
       "    }\n",
       "\n",
       "    .dataframe tbody tr th {\n",
       "        vertical-align: top;\n",
       "    }\n",
       "\n",
       "    .dataframe thead th {\n",
       "        text-align: right;\n",
       "    }\n",
       "</style>\n",
       "<table border=\"1\" class=\"dataframe\">\n",
       "  <thead>\n",
       "    <tr style=\"text-align: right;\">\n",
       "      <th></th>\n",
       "      <th>MI</th>\n",
       "    </tr>\n",
       "  </thead>\n",
       "  <tbody>\n",
       "    <tr>\n",
       "      <th>sex</th>\n",
       "      <td>0.149725</td>\n",
       "    </tr>\n",
       "    <tr>\n",
       "      <th>ticket</th>\n",
       "      <td>0.067663</td>\n",
       "    </tr>\n",
       "    <tr>\n",
       "      <th>fareclass</th>\n",
       "      <td>0.037592</td>\n",
       "    </tr>\n",
       "    <tr>\n",
       "      <th>embarked</th>\n",
       "      <td>0.014547</td>\n",
       "    </tr>\n",
       "    <tr>\n",
       "      <th>agegroup</th>\n",
       "      <td>0.005055</td>\n",
       "    </tr>\n",
       "  </tbody>\n",
       "</table>\n",
       "</div>"
      ],
      "text/plain": [
       "                 MI\n",
       "sex        0.149725\n",
       "ticket     0.067663\n",
       "fareclass  0.037592\n",
       "embarked   0.014547\n",
       "agegroup   0.005055"
      ]
     },
     "execution_count": 249,
     "metadata": {},
     "output_type": "execute_result"
    }
   ],
   "source": [
    "from sklearn.metrics import mutual_info_score\n",
    "\n",
    "def calculate_mi(series):\n",
    "    return mutual_info_score(series, train_data_df[\"survived\"])\n",
    "\n",
    "df_mi = train_data_df[categorical].apply(calculate_mi)\n",
    "df_mi = df_mi.sort_values(ascending=False).to_frame(name=\"MI\")\n",
    "df_mi"
   ]
  },
  {
   "cell_type": "markdown",
   "id": "36bf4339-5955-45c1-8432-f3af4cfdec24",
   "metadata": {},
   "source": [
    "Higher values of mutual information mean a higher degree of dependence for the target. The table above shows that our assumptions for this analysis were correct."
   ]
  },
  {
   "cell_type": "code",
   "execution_count": 250,
   "id": "46b639a2-f1b1-4288-bad4-4cfa4b99dd27",
   "metadata": {},
   "outputs": [
    {
     "data": {
      "text/plain": [
       "sex           2\n",
       "ticket       16\n",
       "embarked      3\n",
       "agegroup      3\n",
       "fareclass     3\n",
       "dtype: int64"
      ]
     },
     "execution_count": 250,
     "metadata": {},
     "output_type": "execute_result"
    }
   ],
   "source": [
    "train_data_df[categorical].nunique()"
   ]
  },
  {
   "cell_type": "markdown",
   "id": "804cbbf7-274e-459a-9590-732e23f94099",
   "metadata": {},
   "source": [
    "The sex, embarked, agegroup, and fareclass columns have few unique values, so let's use one-hot encoding for them. It's generally recommended to use one-hot encoding for categorical variables with fewer than 10-15 unique values. For the ticket variable, we will do target encoding."
   ]
  },
  {
   "cell_type": "markdown",
   "id": "ed5a0004-0946-420f-a03f-51fb15709669",
   "metadata": {},
   "source": [
    "Let's split up the categorical array into 2 arrays, one with the columns that'll be used for one-hot encoding, and another for the columns that'll be used for target encoding. We can create a function to help us encode dataframes. We can use the mean values from df_train_full[\"depression\"] to do the target encoding for \"city\" and \"degree\" in the specified df. It's common to do this when you don't have the target variable in your training data, but you do have it in a larger dataset."
   ]
  },
  {
   "cell_type": "code",
   "execution_count": 251,
   "id": "af039d01-2ece-4033-98b2-5985ef4e2988",
   "metadata": {},
   "outputs": [],
   "source": [
    "categorical_one_hot_encoding = [\"sex\", \"embarked\", \"agegroup\", \"fareclass\"]\n",
    "categorical_target_encoding = [\"ticket\"]\n",
    "\n",
    "def encode_dataframe(df, target_variable):\n",
    "    df_encoded = pd.get_dummies(df, columns=categorical_one_hot_encoding)\n",
    "\n",
    "    for category in categorical_target_encoding:\n",
    "        category_means = train_data_df.groupby(category)[target_variable].mean()\n",
    "        df_encoded[category] = df[category].map(category_means)\n",
    "    \n",
    "    return df_encoded"
   ]
  },
  {
   "cell_type": "markdown",
   "id": "ac7a1941-704e-408a-8871-c086d82156b1",
   "metadata": {},
   "source": [
    "Now, we can start using logistic regression, and get the training and validation datasets and compare them."
   ]
  },
  {
   "cell_type": "code",
   "execution_count": 252,
   "id": "c1caf88b-e048-4abf-92e2-05f8fb252c42",
   "metadata": {},
   "outputs": [
    {
     "data": {
      "text/html": [
       "<div>\n",
       "<style scoped>\n",
       "    .dataframe tbody tr th:only-of-type {\n",
       "        vertical-align: middle;\n",
       "    }\n",
       "\n",
       "    .dataframe tbody tr th {\n",
       "        vertical-align: top;\n",
       "    }\n",
       "\n",
       "    .dataframe thead th {\n",
       "        text-align: right;\n",
       "    }\n",
       "</style>\n",
       "<table border=\"1\" class=\"dataframe\">\n",
       "  <thead>\n",
       "    <tr style=\"text-align: right;\">\n",
       "      <th></th>\n",
       "      <th>pclass</th>\n",
       "      <th>ticket</th>\n",
       "      <th>familysize</th>\n",
       "      <th>sex_female</th>\n",
       "      <th>sex_male</th>\n",
       "      <th>embarked_c</th>\n",
       "      <th>embarked_q</th>\n",
       "      <th>embarked_s</th>\n",
       "      <th>agegroup_adult</th>\n",
       "      <th>agegroup_child</th>\n",
       "      <th>agegroup_other</th>\n",
       "      <th>fareclass_basic</th>\n",
       "      <th>fareclass_luxury</th>\n",
       "      <th>fareclass_premium</th>\n",
       "    </tr>\n",
       "  </thead>\n",
       "  <tbody>\n",
       "    <tr>\n",
       "      <th>121</th>\n",
       "      <td>3</td>\n",
       "      <td>0.068966</td>\n",
       "      <td>0</td>\n",
       "      <td>False</td>\n",
       "      <td>True</td>\n",
       "      <td>False</td>\n",
       "      <td>False</td>\n",
       "      <td>True</td>\n",
       "      <td>False</td>\n",
       "      <td>False</td>\n",
       "      <td>True</td>\n",
       "      <td>True</td>\n",
       "      <td>False</td>\n",
       "      <td>False</td>\n",
       "    </tr>\n",
       "    <tr>\n",
       "      <th>687</th>\n",
       "      <td>3</td>\n",
       "      <td>0.239203</td>\n",
       "      <td>0</td>\n",
       "      <td>False</td>\n",
       "      <td>True</td>\n",
       "      <td>False</td>\n",
       "      <td>False</td>\n",
       "      <td>True</td>\n",
       "      <td>False</td>\n",
       "      <td>True</td>\n",
       "      <td>False</td>\n",
       "      <td>True</td>\n",
       "      <td>False</td>\n",
       "      <td>False</td>\n",
       "    </tr>\n",
       "    <tr>\n",
       "      <th>790</th>\n",
       "      <td>3</td>\n",
       "      <td>0.625000</td>\n",
       "      <td>0</td>\n",
       "      <td>False</td>\n",
       "      <td>True</td>\n",
       "      <td>False</td>\n",
       "      <td>True</td>\n",
       "      <td>False</td>\n",
       "      <td>False</td>\n",
       "      <td>False</td>\n",
       "      <td>True</td>\n",
       "      <td>True</td>\n",
       "      <td>False</td>\n",
       "      <td>False</td>\n",
       "    </tr>\n",
       "    <tr>\n",
       "      <th>837</th>\n",
       "      <td>3</td>\n",
       "      <td>0.239203</td>\n",
       "      <td>0</td>\n",
       "      <td>False</td>\n",
       "      <td>True</td>\n",
       "      <td>False</td>\n",
       "      <td>False</td>\n",
       "      <td>True</td>\n",
       "      <td>False</td>\n",
       "      <td>False</td>\n",
       "      <td>True</td>\n",
       "      <td>True</td>\n",
       "      <td>False</td>\n",
       "      <td>False</td>\n",
       "    </tr>\n",
       "    <tr>\n",
       "      <th>659</th>\n",
       "      <td>1</td>\n",
       "      <td>0.239203</td>\n",
       "      <td>2</td>\n",
       "      <td>False</td>\n",
       "      <td>True</td>\n",
       "      <td>True</td>\n",
       "      <td>False</td>\n",
       "      <td>False</td>\n",
       "      <td>False</td>\n",
       "      <td>False</td>\n",
       "      <td>True</td>\n",
       "      <td>False</td>\n",
       "      <td>True</td>\n",
       "      <td>False</td>\n",
       "    </tr>\n",
       "    <tr>\n",
       "      <th>...</th>\n",
       "      <td>...</td>\n",
       "      <td>...</td>\n",
       "      <td>...</td>\n",
       "      <td>...</td>\n",
       "      <td>...</td>\n",
       "      <td>...</td>\n",
       "      <td>...</td>\n",
       "      <td>...</td>\n",
       "      <td>...</td>\n",
       "      <td>...</td>\n",
       "      <td>...</td>\n",
       "      <td>...</td>\n",
       "      <td>...</td>\n",
       "      <td>...</td>\n",
       "    </tr>\n",
       "    <tr>\n",
       "      <th>716</th>\n",
       "      <td>1</td>\n",
       "      <td>0.646154</td>\n",
       "      <td>0</td>\n",
       "      <td>True</td>\n",
       "      <td>False</td>\n",
       "      <td>True</td>\n",
       "      <td>False</td>\n",
       "      <td>False</td>\n",
       "      <td>True</td>\n",
       "      <td>False</td>\n",
       "      <td>False</td>\n",
       "      <td>False</td>\n",
       "      <td>True</td>\n",
       "      <td>False</td>\n",
       "    </tr>\n",
       "    <tr>\n",
       "      <th>768</th>\n",
       "      <td>3</td>\n",
       "      <td>0.239203</td>\n",
       "      <td>1</td>\n",
       "      <td>False</td>\n",
       "      <td>True</td>\n",
       "      <td>False</td>\n",
       "      <td>True</td>\n",
       "      <td>False</td>\n",
       "      <td>False</td>\n",
       "      <td>False</td>\n",
       "      <td>True</td>\n",
       "      <td>True</td>\n",
       "      <td>False</td>\n",
       "      <td>False</td>\n",
       "    </tr>\n",
       "    <tr>\n",
       "      <th>73</th>\n",
       "      <td>3</td>\n",
       "      <td>0.464481</td>\n",
       "      <td>1</td>\n",
       "      <td>False</td>\n",
       "      <td>True</td>\n",
       "      <td>True</td>\n",
       "      <td>False</td>\n",
       "      <td>False</td>\n",
       "      <td>True</td>\n",
       "      <td>False</td>\n",
       "      <td>False</td>\n",
       "      <td>True</td>\n",
       "      <td>False</td>\n",
       "      <td>False</td>\n",
       "    </tr>\n",
       "    <tr>\n",
       "      <th>236</th>\n",
       "      <td>2</td>\n",
       "      <td>0.464481</td>\n",
       "      <td>1</td>\n",
       "      <td>False</td>\n",
       "      <td>True</td>\n",
       "      <td>False</td>\n",
       "      <td>False</td>\n",
       "      <td>True</td>\n",
       "      <td>True</td>\n",
       "      <td>False</td>\n",
       "      <td>False</td>\n",
       "      <td>False</td>\n",
       "      <td>False</td>\n",
       "      <td>True</td>\n",
       "    </tr>\n",
       "    <tr>\n",
       "      <th>37</th>\n",
       "      <td>3</td>\n",
       "      <td>0.068966</td>\n",
       "      <td>0</td>\n",
       "      <td>False</td>\n",
       "      <td>True</td>\n",
       "      <td>False</td>\n",
       "      <td>False</td>\n",
       "      <td>True</td>\n",
       "      <td>False</td>\n",
       "      <td>True</td>\n",
       "      <td>False</td>\n",
       "      <td>True</td>\n",
       "      <td>False</td>\n",
       "      <td>False</td>\n",
       "    </tr>\n",
       "  </tbody>\n",
       "</table>\n",
       "<p>711 rows × 14 columns</p>\n",
       "</div>"
      ],
      "text/plain": [
       "     pclass    ticket  familysize  sex_female  sex_male  embarked_c  \\\n",
       "121       3  0.068966           0       False      True       False   \n",
       "687       3  0.239203           0       False      True       False   \n",
       "790       3  0.625000           0       False      True       False   \n",
       "837       3  0.239203           0       False      True       False   \n",
       "659       1  0.239203           2       False      True        True   \n",
       "..      ...       ...         ...         ...       ...         ...   \n",
       "716       1  0.646154           0        True     False        True   \n",
       "768       3  0.239203           1       False      True       False   \n",
       "73        3  0.464481           1       False      True        True   \n",
       "236       2  0.464481           1       False      True       False   \n",
       "37        3  0.068966           0       False      True       False   \n",
       "\n",
       "     embarked_q  embarked_s  agegroup_adult  agegroup_child  agegroup_other  \\\n",
       "121       False        True           False           False            True   \n",
       "687       False        True           False            True           False   \n",
       "790        True       False           False           False            True   \n",
       "837       False        True           False           False            True   \n",
       "659       False       False           False           False            True   \n",
       "..          ...         ...             ...             ...             ...   \n",
       "716       False       False            True           False           False   \n",
       "768        True       False           False           False            True   \n",
       "73        False       False            True           False           False   \n",
       "236       False        True            True           False           False   \n",
       "37        False        True           False            True           False   \n",
       "\n",
       "     fareclass_basic  fareclass_luxury  fareclass_premium  \n",
       "121             True             False              False  \n",
       "687             True             False              False  \n",
       "790             True             False              False  \n",
       "837             True             False              False  \n",
       "659            False              True              False  \n",
       "..               ...               ...                ...  \n",
       "716            False              True              False  \n",
       "768             True             False              False  \n",
       "73              True             False              False  \n",
       "236            False             False               True  \n",
       "37              True             False              False  \n",
       "\n",
       "[711 rows x 14 columns]"
      ]
     },
     "execution_count": 252,
     "metadata": {},
     "output_type": "execute_result"
    }
   ],
   "source": [
    "X_train = encode_dataframe(train_data_split_df, \"survived\")\n",
    "X_train"
   ]
  },
  {
   "cell_type": "code",
   "execution_count": 253,
   "id": "da304058-f67a-4e97-b9e3-a841ea59931f",
   "metadata": {},
   "outputs": [],
   "source": [
    "model = LogisticRegression(solver=\"liblinear\", random_state=1)\n",
    "model.fit(X_train, y_train)\n",
    "\n",
    "X_validation = encode_dataframe(validation_data_split_df, \"survived\")\n",
    "y_prediction = model.predict_proba(X_validation)[:, 1]"
   ]
  },
  {
   "cell_type": "markdown",
   "id": "e006e784-4b15-421d-86ce-f740d579af2a",
   "metadata": {},
   "source": [
    "## Step 5: Evaluation"
   ]
  },
  {
   "cell_type": "markdown",
   "id": "c60bf53d-7968-4853-8b72-4933e6fabe8d",
   "metadata": {},
   "source": [
    "Let's start getting some metrics to see how good this model is."
   ]
  },
  {
   "cell_type": "markdown",
   "id": "027911a9-78de-4538-93fc-15e5567f4094",
   "metadata": {},
   "source": [
    "Getting the accuracy on the validation dataset is easy, we just get the fraction of correct predictions."
   ]
  },
  {
   "cell_type": "code",
   "execution_count": 254,
   "id": "e381663c-e265-4e30-a979-e655bcda58a2",
   "metadata": {},
   "outputs": [
    {
     "data": {
      "text/plain": [
       "0.8314606741573034"
      ]
     },
     "execution_count": 254,
     "metadata": {},
     "output_type": "execute_result"
    }
   ],
   "source": [
    "accuracy_score(y_validation, y_prediction >= 0.5)"
   ]
  },
  {
   "cell_type": "markdown",
   "id": "3e9586a1-2acf-4164-8711-84b1988c93ab",
   "metadata": {},
   "source": [
    "The model is 83.1% accurate, we're doing well."
   ]
  },
  {
   "cell_type": "markdown",
   "id": "5836f2d5-a07d-4274-a8ce-45ddaf8e2669",
   "metadata": {},
   "source": [
    "Now we can loop over different thresholds and check which one gives the best accuracy."
   ]
  },
  {
   "cell_type": "code",
   "execution_count": 255,
   "id": "1816fd0c-d3b4-4647-abb7-7c725ddef3a7",
   "metadata": {},
   "outputs": [
    {
     "name": "stdout",
     "output_type": "stream",
     "text": [
      "0.00 0.410\n",
      "0.05 0.427\n",
      "0.10 0.567\n",
      "0.15 0.635\n",
      "0.20 0.736\n",
      "0.25 0.781\n",
      "0.30 0.798\n",
      "0.35 0.831\n",
      "0.40 0.826\n",
      "0.45 0.837\n",
      "0.50 0.831\n",
      "0.55 0.843\n",
      "0.60 0.837\n",
      "0.65 0.820\n",
      "0.70 0.803\n",
      "0.75 0.781\n",
      "0.80 0.725\n",
      "0.85 0.708\n",
      "0.90 0.691\n",
      "0.95 0.596\n",
      "1.00 0.590\n"
     ]
    }
   ],
   "source": [
    "thresholds = np.linspace(0, 1, 21)\n",
    "\n",
    "accuracies = []\n",
    "\n",
    "for threshold in thresholds:\n",
    "    accuracy = accuracy_score(y_validation, y_prediction >= threshold)\n",
    "    accuracies.append(accuracy)\n",
    "    print(\"%0.2f %0.3f\" % (threshold, accuracy))"
   ]
  },
  {
   "cell_type": "markdown",
   "id": "c97a6a05-e619-4269-b5b8-9cd98258ef0c",
   "metadata": {},
   "source": [
    "Using the threshold of 0.55 gives us the best accuracy score. Typically, 0.5 is a good threshold value to start off with, but always check other threshold values. We can use Matplotlib to create a plot that shows how accuracy changes depending on the threshold."
   ]
  },
  {
   "cell_type": "code",
   "execution_count": 256,
   "id": "3b3364a2-532c-48a2-ab60-24909cd2c653",
   "metadata": {},
   "outputs": [
    {
     "data": {
      "image/png": "[encoded data removed]",
      "text/plain": [
       "<Figure size 600x400 with 1 Axes>"
      ]
     },
     "metadata": {},
     "output_type": "display_data"
    }
   ],
   "source": [
    "plt.figure(figsize=(6, 4))\n",
    "\n",
    "plt.plot(thresholds, accuracies, color=\"black\")\n",
    "\n",
    "plt.title(\"Threshold vs Accuracy\")\n",
    "plt.xlabel(\"Threshold\")\n",
    "plt.ylabel(\"Accuracy\")\n",
    "\n",
    "plt.xticks(np.linspace(0, 1, 11))\n",
    "\n",
    "plt.show()"
   ]
  },
  {
   "cell_type": "markdown",
   "id": "58d288f9-48c8-4eb5-9d5c-b907ea114583",
   "metadata": {},
   "source": [
    "Let's use ROC AUC to evaluate the performance of our model."
   ]
  },
  {
   "cell_type": "code",
   "execution_count": 257,
   "id": "dc4f963a-1778-4f7a-8d54-ed6cf7eeb5ed",
   "metadata": {},
   "outputs": [],
   "source": [
    "false_positive_rate, true_positive_rate, thresholds = roc_curve(y_validation, y_prediction)"
   ]
  },
  {
   "cell_type": "code",
   "execution_count": 258,
   "id": "c48f7b1d-d556-4fc8-9a55-1ede4b9cdccf",
   "metadata": {},
   "outputs": [
    {
     "data": {
      "image/png": "[encoded data removed]",
      "text/plain": [
       "<Figure size 600x400 with 1 Axes>"
      ]
     },
     "metadata": {},
     "output_type": "display_data"
    }
   ],
   "source": [
    "plt.figure(figsize=(6, 4))\n",
    "\n",
    "plt.plot(false_positive_rate, true_positive_rate)\n",
    "plt.plot([0, 1], [0, 1], lw=0.7, alpha=0.5)\n",
    "\n",
    "plt.xlabel(\"False Positive Rate\")\n",
    "plt.ylabel(\"True Positive Rate\")\n",
    "\n",
    "plt.title(\"ROC Curve\")\n",
    "\n",
    "plt.show()"
   ]
  },
  {
   "cell_type": "code",
   "execution_count": 259,
   "id": "8ced3962-8c5c-44c2-bce7-13d8f6ed038a",
   "metadata": {},
   "outputs": [
    {
     "data": {
      "text/plain": [
       "np.float64(0.8947162426614481)"
      ]
     },
     "execution_count": 259,
     "metadata": {},
     "output_type": "execute_result"
    }
   ],
   "source": [
    "roc_auc_score(y_validation, y_prediction)"
   ]
  },
  {
   "cell_type": "markdown",
   "id": "87e29957-ba63-451d-a32f-ef633ebadfcd",
   "metadata": {},
   "source": [
    "The ROC Curve plot and the ROC AUC score both look good. Now we can test the model using a new dataframe."
   ]
  },
  {
   "cell_type": "markdown",
   "id": "2483fb9f-b788-4636-850b-d57fd5ca5b9f",
   "metadata": {},
   "source": [
    "## Step 6: Deployment"
   ]
  },
  {
   "cell_type": "markdown",
   "id": "9ad06a87-ccf8-4d25-b8bb-76c7f483dbc0",
   "metadata": {},
   "source": [
    "Using 0.55 as our threshold, let's get the probability of surviving of each person in the test dataframe."
   ]
  },
  {
   "cell_type": "code",
   "execution_count": 260,
   "id": "4e943b03-d874-46d4-ad04-aa47c2f34127",
   "metadata": {},
   "outputs": [
    {
     "data": {
      "text/plain": [
       "np.float64(0.3349282296650718)"
      ]
     },
     "execution_count": 260,
     "metadata": {},
     "output_type": "execute_result"
    }
   ],
   "source": [
    "threshold = 0.55\n",
    "X_test_validation = encode_dataframe(test_data_df, \"survived\")\n",
    "y_test_prediction = model.predict_proba(X_test_validation)[:, 1]\n",
    "(y_test_prediction >= threshold).mean()"
   ]
  },
  {
   "cell_type": "markdown",
   "id": "76f7f2c3-62b7-4f09-ae29-387b1d1f2015",
   "metadata": {},
   "source": [
    "33.5% of the people in the test dataset are expected to survive, this is not far off from the training dataset."
   ]
  },
  {
   "cell_type": "code",
   "execution_count": 261,
   "id": "08dbe3c4-0d63-40fc-8f91-de8b97e9b2e5",
   "metadata": {},
   "outputs": [
    {
     "data": {
      "text/plain": [
       "array([0.1551119 , 0.50890004, 0.22507651, 0.09400401, 0.46599468,\n",
       "       0.130082  , 0.68526606, 0.21552097, 0.84737779, 0.08875924])"
      ]
     },
     "execution_count": 261,
     "metadata": {},
     "output_type": "execute_result"
    }
   ],
   "source": [
    "y_test_prediction[:10]"
   ]
  },
  {
   "cell_type": "markdown",
   "id": "75c251e3-4578-471a-b88a-f69feb4f2846",
   "metadata": {},
   "source": [
    "The prediction array contains floats when it should only contain binary values, let's update the array."
   ]
  },
  {
   "cell_type": "code",
   "execution_count": 262,
   "id": "0a7f5b03-e854-4f4b-aac8-55fbe26c09b3",
   "metadata": {},
   "outputs": [],
   "source": [
    "y_test_prediction = (y_test_prediction >= threshold).astype(int)"
   ]
  },
  {
   "cell_type": "code",
   "execution_count": 263,
   "id": "99f63743-2655-455f-b978-72e05890dd51",
   "metadata": {},
   "outputs": [
    {
     "data": {
      "text/plain": [
       "array([0, 0, 0, 0, 0, 0, 1, 0, 1, 0])"
      ]
     },
     "execution_count": 263,
     "metadata": {},
     "output_type": "execute_result"
    }
   ],
   "source": [
    "y_test_prediction[:10]"
   ]
  },
  {
   "cell_type": "markdown",
   "id": "0c2b7067-05a7-4cc9-bccc-d39e06cc3760",
   "metadata": {},
   "source": [
    "Now let's create the submission csv file so we can finish this model and prediction."
   ]
  },
  {
   "cell_type": "markdown",
   "id": "89e59c87-d3fc-493f-913e-5c0898785bd3",
   "metadata": {},
   "source": [
    "We will need to create a csv file with 2 columns, PassengerId and Survived."
   ]
  },
  {
   "cell_type": "markdown",
   "id": "a7c74d9b-684b-4ba9-b9ae-3de73c88390a",
   "metadata": {},
   "source": [
    "Let's create a dataframe with the 2 columns."
   ]
  },
  {
   "cell_type": "code",
   "execution_count": 264,
   "id": "49592324-7820-4746-b9ec-906694b544c4",
   "metadata": {},
   "outputs": [
    {
     "data": {
      "text/html": [
       "<div>\n",
       "<style scoped>\n",
       "    .dataframe tbody tr th:only-of-type {\n",
       "        vertical-align: middle;\n",
       "    }\n",
       "\n",
       "    .dataframe tbody tr th {\n",
       "        vertical-align: top;\n",
       "    }\n",
       "\n",
       "    .dataframe thead th {\n",
       "        text-align: right;\n",
       "    }\n",
       "</style>\n",
       "<table border=\"1\" class=\"dataframe\">\n",
       "  <thead>\n",
       "    <tr style=\"text-align: right;\">\n",
       "      <th></th>\n",
       "      <th>PassengerId</th>\n",
       "      <th>Survived</th>\n",
       "    </tr>\n",
       "  </thead>\n",
       "  <tbody>\n",
       "    <tr>\n",
       "      <th>0</th>\n",
       "      <td>892</td>\n",
       "      <td>0</td>\n",
       "    </tr>\n",
       "    <tr>\n",
       "      <th>1</th>\n",
       "      <td>893</td>\n",
       "      <td>0</td>\n",
       "    </tr>\n",
       "    <tr>\n",
       "      <th>2</th>\n",
       "      <td>894</td>\n",
       "      <td>0</td>\n",
       "    </tr>\n",
       "    <tr>\n",
       "      <th>3</th>\n",
       "      <td>895</td>\n",
       "      <td>0</td>\n",
       "    </tr>\n",
       "    <tr>\n",
       "      <th>4</th>\n",
       "      <td>896</td>\n",
       "      <td>0</td>\n",
       "    </tr>\n",
       "    <tr>\n",
       "      <th>5</th>\n",
       "      <td>897</td>\n",
       "      <td>0</td>\n",
       "    </tr>\n",
       "    <tr>\n",
       "      <th>6</th>\n",
       "      <td>898</td>\n",
       "      <td>1</td>\n",
       "    </tr>\n",
       "    <tr>\n",
       "      <th>7</th>\n",
       "      <td>899</td>\n",
       "      <td>0</td>\n",
       "    </tr>\n",
       "    <tr>\n",
       "      <th>8</th>\n",
       "      <td>900</td>\n",
       "      <td>1</td>\n",
       "    </tr>\n",
       "    <tr>\n",
       "      <th>9</th>\n",
       "      <td>901</td>\n",
       "      <td>0</td>\n",
       "    </tr>\n",
       "  </tbody>\n",
       "</table>\n",
       "</div>"
      ],
      "text/plain": [
       "   PassengerId  Survived\n",
       "0          892         0\n",
       "1          893         0\n",
       "2          894         0\n",
       "3          895         0\n",
       "4          896         0\n",
       "5          897         0\n",
       "6          898         1\n",
       "7          899         0\n",
       "8          900         1\n",
       "9          901         0"
      ]
     },
     "execution_count": 264,
     "metadata": {},
     "output_type": "execute_result"
    }
   ],
   "source": [
    "output_df = pd.DataFrame({\n",
    "    \"PassengerId\": passenger_id,\n",
    "    \"Survived\": y_test_prediction\n",
    "})\n",
    "output_df.head(10)"
   ]
  },
  {
   "cell_type": "markdown",
   "id": "f5c06ed2-1a84-46c1-b434-a0fc3a48f2fc",
   "metadata": {},
   "source": [
    "Now that we have our output dataframe, let's save it as a file."
   ]
  },
  {
   "cell_type": "code",
   "execution_count": 265,
   "id": "4631fd81-dfea-4afc-92a8-00961b487215",
   "metadata": {},
   "outputs": [],
   "source": [
    "output_df.to_csv(\"submission.csv\", index=False)"
   ]
  },
  {
   "cell_type": "markdown",
   "id": "a01a684f-7c2b-4d79-95bc-8f2603625a41",
   "metadata": {},
   "source": [
    "We have our submission csv file, and now we are done."
   ]
  },
  {
   "cell_type": "markdown",
   "id": "4b732c87-6c4f-4d59-954e-9d34b0b5f32d",
   "metadata": {},
   "source": [
    "Let's get the submission files for various thresholds."
   ]
  },
  {
   "cell_type": "code",
   "execution_count": 297,
   "id": "bd8418d7-8001-4c79-9b1c-90e150f53fb5",
   "metadata": {},
   "outputs": [],
   "source": [
    "for _ in np.linspace(0.35, 0.90, num=12):\n",
    "    pd.DataFrame({\n",
    "        \"PassengerId\": passenger_id,\n",
    "        \"Survived\": (model.predict_proba(X_test_validation)[:, 1] >= _).astype(int)\n",
    "    }).to_csv(f\"submission_{round(_, 2)}.csv\", index=False)"
   ]
  }
 ],
 "metadata": {
  "kernelspec": {
   "display_name": "Python 3 (ipykernel)",
   "language": "python",
   "name": "python3"
  },
  "language_info": {
   "codemirror_mode": {
    "name": "ipython",
    "version": 3
   },
   "file_extension": ".py",
   "mimetype": "text/x-python",
   "name": "python",
   "nbconvert_exporter": "python",
   "pygments_lexer": "ipython3",
   "version": "3.10.15"
  }
 },
 "nbformat": 4,
 "nbformat_minor": 5
}
