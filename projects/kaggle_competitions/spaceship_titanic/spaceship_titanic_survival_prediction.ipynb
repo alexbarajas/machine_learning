{
 "cells": [
  {
   "cell_type": "markdown",
   "id": "214cb2a0-fbd4-4383-b78c-fae5932c85c9",
   "metadata": {},
   "source": [
    "# Spaceship Titanic Survival Prediction"
   ]
  },
  {
   "cell_type": "markdown",
   "id": "afe93e85-b43d-42e7-bec9-e882378f980e",
   "metadata": {},
   "source": [
    "Dataset: https://www.kaggle.com/competitions/spaceship-titanic/overview"
   ]
  },
  {
   "cell_type": "markdown",
   "id": "248e062a-95c4-4804-8669-1015f82cbb75",
   "metadata": {},
   "source": [
    "For this project I will use the steps in CRISP-DM, or Cross-Industry Standard Process for Data Mining. It is a widely-used framework for guiding data mining projects from start to finish."
   ]
  },
  {
   "cell_type": "markdown",
   "id": "84fda673-db5f-4bd6-b6b2-963efbe8092d",
   "metadata": {},
   "source": [
    "## Step 1: Business Understanding"
   ]
  },
  {
   "cell_type": "markdown",
   "id": "1f79c671-bb15-4916-bb60-4c84ed5df1e7",
   "metadata": {},
   "source": [
    "Let\"s predict what sorts of people on the Spaceship Titanic were more likely to survive."
   ]
  },
  {
   "cell_type": "markdown",
   "id": "60ee4100-e38b-4101-a784-2ffd990f2f63",
   "metadata": {},
   "source": [
    "## Step 2: Data Understanding"
   ]
  },
  {
   "cell_type": "markdown",
   "id": "fe1fee97-3434-4301-a9fa-1286072ba173",
   "metadata": {},
   "source": [
    "### Import Packages"
   ]
  },
  {
   "cell_type": "code",
   "execution_count": 528,
   "id": "73267754-fc08-474e-9cc4-a67701c4012c",
   "metadata": {},
   "outputs": [],
   "source": [
    "import pandas as pd\n",
    "import numpy as np\n",
    "import seaborn as sns\n",
    "\n",
    "from matplotlib import pyplot as plt\n",
    "\n",
    "from itertools import cycle\n",
    "\n",
    "from sklearn.preprocessing import OneHotEncoder\n",
    "\n",
    "from sklearn.model_selection import train_test_split\n",
    "\n",
    "from sklearn.linear_model import LogisticRegression, RidgeClassifier\n",
    "from sklearn.ensemble import RandomForestClassifier\n",
    "from sklearn.svm import SVC\n",
    "\n",
    "from xgboost import XGBClassifier\n",
    "\n",
    "from sklearn.metrics import mean_squared_error, mean_absolute_error, r2_score, accuracy_score, roc_auc_score, roc_curve"
   ]
  },
  {
   "cell_type": "markdown",
   "id": "f53d6833-f024-47c6-8c6e-ffa817516459",
   "metadata": {},
   "source": [
    "### Load the data"
   ]
  },
  {
   "cell_type": "code",
   "execution_count": 529,
   "id": "1a96e25e-61ee-4f5c-a28a-d95b65a173ec",
   "metadata": {},
   "outputs": [],
   "source": [
    "train_df = pd.read_csv(\"spaceship-titanic/train.csv\")\n",
    "test_df = pd.read_csv(\"spaceship-titanic/test.csv\")"
   ]
  },
  {
   "cell_type": "markdown",
   "id": "77ab7a5a-f9e8-4fb5-b347-8cdbd1179044",
   "metadata": {},
   "source": [
    "### View the data"
   ]
  },
  {
   "cell_type": "code",
   "execution_count": 530,
   "id": "3fa4e9e3-a6d4-4242-bf6d-be5c7c9f56c4",
   "metadata": {},
   "outputs": [
    {
     "data": {
      "text/html": [
       "<div>\n",
       "<style scoped>\n",
       "    .dataframe tbody tr th:only-of-type {\n",
       "        vertical-align: middle;\n",
       "    }\n",
       "\n",
       "    .dataframe tbody tr th {\n",
       "        vertical-align: top;\n",
       "    }\n",
       "\n",
       "    .dataframe thead th {\n",
       "        text-align: right;\n",
       "    }\n",
       "</style>\n",
       "<table border=\"1\" class=\"dataframe\">\n",
       "  <thead>\n",
       "    <tr style=\"text-align: right;\">\n",
       "      <th></th>\n",
       "      <th>PassengerId</th>\n",
       "      <th>HomePlanet</th>\n",
       "      <th>CryoSleep</th>\n",
       "      <th>Cabin</th>\n",
       "      <th>Destination</th>\n",
       "      <th>Age</th>\n",
       "      <th>VIP</th>\n",
       "      <th>RoomService</th>\n",
       "      <th>FoodCourt</th>\n",
       "      <th>ShoppingMall</th>\n",
       "      <th>Spa</th>\n",
       "      <th>VRDeck</th>\n",
       "      <th>Name</th>\n",
       "      <th>Transported</th>\n",
       "    </tr>\n",
       "  </thead>\n",
       "  <tbody>\n",
       "    <tr>\n",
       "      <th>0</th>\n",
       "      <td>0001_01</td>\n",
       "      <td>Europa</td>\n",
       "      <td>False</td>\n",
       "      <td>B/0/P</td>\n",
       "      <td>TRAPPIST-1e</td>\n",
       "      <td>39.0</td>\n",
       "      <td>False</td>\n",
       "      <td>0.0</td>\n",
       "      <td>0.0</td>\n",
       "      <td>0.0</td>\n",
       "      <td>0.0</td>\n",
       "      <td>0.0</td>\n",
       "      <td>Maham Ofracculy</td>\n",
       "      <td>False</td>\n",
       "    </tr>\n",
       "    <tr>\n",
       "      <th>1</th>\n",
       "      <td>0002_01</td>\n",
       "      <td>Earth</td>\n",
       "      <td>False</td>\n",
       "      <td>F/0/S</td>\n",
       "      <td>TRAPPIST-1e</td>\n",
       "      <td>24.0</td>\n",
       "      <td>False</td>\n",
       "      <td>109.0</td>\n",
       "      <td>9.0</td>\n",
       "      <td>25.0</td>\n",
       "      <td>549.0</td>\n",
       "      <td>44.0</td>\n",
       "      <td>Juanna Vines</td>\n",
       "      <td>True</td>\n",
       "    </tr>\n",
       "    <tr>\n",
       "      <th>2</th>\n",
       "      <td>0003_01</td>\n",
       "      <td>Europa</td>\n",
       "      <td>False</td>\n",
       "      <td>A/0/S</td>\n",
       "      <td>TRAPPIST-1e</td>\n",
       "      <td>58.0</td>\n",
       "      <td>True</td>\n",
       "      <td>43.0</td>\n",
       "      <td>3576.0</td>\n",
       "      <td>0.0</td>\n",
       "      <td>6715.0</td>\n",
       "      <td>49.0</td>\n",
       "      <td>Altark Susent</td>\n",
       "      <td>False</td>\n",
       "    </tr>\n",
       "    <tr>\n",
       "      <th>3</th>\n",
       "      <td>0003_02</td>\n",
       "      <td>Europa</td>\n",
       "      <td>False</td>\n",
       "      <td>A/0/S</td>\n",
       "      <td>TRAPPIST-1e</td>\n",
       "      <td>33.0</td>\n",
       "      <td>False</td>\n",
       "      <td>0.0</td>\n",
       "      <td>1283.0</td>\n",
       "      <td>371.0</td>\n",
       "      <td>3329.0</td>\n",
       "      <td>193.0</td>\n",
       "      <td>Solam Susent</td>\n",
       "      <td>False</td>\n",
       "    </tr>\n",
       "    <tr>\n",
       "      <th>4</th>\n",
       "      <td>0004_01</td>\n",
       "      <td>Earth</td>\n",
       "      <td>False</td>\n",
       "      <td>F/1/S</td>\n",
       "      <td>TRAPPIST-1e</td>\n",
       "      <td>16.0</td>\n",
       "      <td>False</td>\n",
       "      <td>303.0</td>\n",
       "      <td>70.0</td>\n",
       "      <td>151.0</td>\n",
       "      <td>565.0</td>\n",
       "      <td>2.0</td>\n",
       "      <td>Willy Santantines</td>\n",
       "      <td>True</td>\n",
       "    </tr>\n",
       "  </tbody>\n",
       "</table>\n",
       "</div>"
      ],
      "text/plain": [
       "  PassengerId HomePlanet CryoSleep  Cabin  Destination   Age    VIP  \\\n",
       "0     0001_01     Europa     False  B/0/P  TRAPPIST-1e  39.0  False   \n",
       "1     0002_01      Earth     False  F/0/S  TRAPPIST-1e  24.0  False   \n",
       "2     0003_01     Europa     False  A/0/S  TRAPPIST-1e  58.0   True   \n",
       "3     0003_02     Europa     False  A/0/S  TRAPPIST-1e  33.0  False   \n",
       "4     0004_01      Earth     False  F/1/S  TRAPPIST-1e  16.0  False   \n",
       "\n",
       "   RoomService  FoodCourt  ShoppingMall     Spa  VRDeck               Name  \\\n",
       "0          0.0        0.0           0.0     0.0     0.0    Maham Ofracculy   \n",
       "1        109.0        9.0          25.0   549.0    44.0       Juanna Vines   \n",
       "2         43.0     3576.0           0.0  6715.0    49.0      Altark Susent   \n",
       "3          0.0     1283.0         371.0  3329.0   193.0       Solam Susent   \n",
       "4        303.0       70.0         151.0   565.0     2.0  Willy Santantines   \n",
       "\n",
       "   Transported  \n",
       "0        False  \n",
       "1         True  \n",
       "2        False  \n",
       "3        False  \n",
       "4         True  "
      ]
     },
     "execution_count": 530,
     "metadata": {},
     "output_type": "execute_result"
    }
   ],
   "source": [
    "train_df.head()"
   ]
  },
  {
   "cell_type": "code",
   "execution_count": 531,
   "id": "fb65d08d-e121-42ee-be7e-97fe12addaae",
   "metadata": {},
   "outputs": [
    {
     "data": {
      "text/plain": [
       "(8693, 14)"
      ]
     },
     "execution_count": 531,
     "metadata": {},
     "output_type": "execute_result"
    }
   ],
   "source": [
    "train_df.shape"
   ]
  },
  {
   "cell_type": "code",
   "execution_count": 532,
   "id": "d91cbb21-f29e-42ff-83a6-7691b5536df7",
   "metadata": {
    "scrolled": true
   },
   "outputs": [
    {
     "data": {
      "text/html": [
       "<div>\n",
       "<style scoped>\n",
       "    .dataframe tbody tr th:only-of-type {\n",
       "        vertical-align: middle;\n",
       "    }\n",
       "\n",
       "    .dataframe tbody tr th {\n",
       "        vertical-align: top;\n",
       "    }\n",
       "\n",
       "    .dataframe thead th {\n",
       "        text-align: right;\n",
       "    }\n",
       "</style>\n",
       "<table border=\"1\" class=\"dataframe\">\n",
       "  <thead>\n",
       "    <tr style=\"text-align: right;\">\n",
       "      <th></th>\n",
       "      <th>PassengerId</th>\n",
       "      <th>HomePlanet</th>\n",
       "      <th>CryoSleep</th>\n",
       "      <th>Cabin</th>\n",
       "      <th>Destination</th>\n",
       "      <th>Age</th>\n",
       "      <th>VIP</th>\n",
       "      <th>RoomService</th>\n",
       "      <th>FoodCourt</th>\n",
       "      <th>ShoppingMall</th>\n",
       "      <th>Spa</th>\n",
       "      <th>VRDeck</th>\n",
       "      <th>Name</th>\n",
       "    </tr>\n",
       "  </thead>\n",
       "  <tbody>\n",
       "    <tr>\n",
       "      <th>0</th>\n",
       "      <td>0013_01</td>\n",
       "      <td>Earth</td>\n",
       "      <td>True</td>\n",
       "      <td>G/3/S</td>\n",
       "      <td>TRAPPIST-1e</td>\n",
       "      <td>27.0</td>\n",
       "      <td>False</td>\n",
       "      <td>0.0</td>\n",
       "      <td>0.0</td>\n",
       "      <td>0.0</td>\n",
       "      <td>0.0</td>\n",
       "      <td>0.0</td>\n",
       "      <td>Nelly Carsoning</td>\n",
       "    </tr>\n",
       "    <tr>\n",
       "      <th>1</th>\n",
       "      <td>0018_01</td>\n",
       "      <td>Earth</td>\n",
       "      <td>False</td>\n",
       "      <td>F/4/S</td>\n",
       "      <td>TRAPPIST-1e</td>\n",
       "      <td>19.0</td>\n",
       "      <td>False</td>\n",
       "      <td>0.0</td>\n",
       "      <td>9.0</td>\n",
       "      <td>0.0</td>\n",
       "      <td>2823.0</td>\n",
       "      <td>0.0</td>\n",
       "      <td>Lerome Peckers</td>\n",
       "    </tr>\n",
       "    <tr>\n",
       "      <th>2</th>\n",
       "      <td>0019_01</td>\n",
       "      <td>Europa</td>\n",
       "      <td>True</td>\n",
       "      <td>C/0/S</td>\n",
       "      <td>55 Cancri e</td>\n",
       "      <td>31.0</td>\n",
       "      <td>False</td>\n",
       "      <td>0.0</td>\n",
       "      <td>0.0</td>\n",
       "      <td>0.0</td>\n",
       "      <td>0.0</td>\n",
       "      <td>0.0</td>\n",
       "      <td>Sabih Unhearfus</td>\n",
       "    </tr>\n",
       "    <tr>\n",
       "      <th>3</th>\n",
       "      <td>0021_01</td>\n",
       "      <td>Europa</td>\n",
       "      <td>False</td>\n",
       "      <td>C/1/S</td>\n",
       "      <td>TRAPPIST-1e</td>\n",
       "      <td>38.0</td>\n",
       "      <td>False</td>\n",
       "      <td>0.0</td>\n",
       "      <td>6652.0</td>\n",
       "      <td>0.0</td>\n",
       "      <td>181.0</td>\n",
       "      <td>585.0</td>\n",
       "      <td>Meratz Caltilter</td>\n",
       "    </tr>\n",
       "    <tr>\n",
       "      <th>4</th>\n",
       "      <td>0023_01</td>\n",
       "      <td>Earth</td>\n",
       "      <td>False</td>\n",
       "      <td>F/5/S</td>\n",
       "      <td>TRAPPIST-1e</td>\n",
       "      <td>20.0</td>\n",
       "      <td>False</td>\n",
       "      <td>10.0</td>\n",
       "      <td>0.0</td>\n",
       "      <td>635.0</td>\n",
       "      <td>0.0</td>\n",
       "      <td>0.0</td>\n",
       "      <td>Brence Harperez</td>\n",
       "    </tr>\n",
       "  </tbody>\n",
       "</table>\n",
       "</div>"
      ],
      "text/plain": [
       "  PassengerId HomePlanet CryoSleep  Cabin  Destination   Age    VIP  \\\n",
       "0     0013_01      Earth      True  G/3/S  TRAPPIST-1e  27.0  False   \n",
       "1     0018_01      Earth     False  F/4/S  TRAPPIST-1e  19.0  False   \n",
       "2     0019_01     Europa      True  C/0/S  55 Cancri e  31.0  False   \n",
       "3     0021_01     Europa     False  C/1/S  TRAPPIST-1e  38.0  False   \n",
       "4     0023_01      Earth     False  F/5/S  TRAPPIST-1e  20.0  False   \n",
       "\n",
       "   RoomService  FoodCourt  ShoppingMall     Spa  VRDeck              Name  \n",
       "0          0.0        0.0           0.0     0.0     0.0   Nelly Carsoning  \n",
       "1          0.0        9.0           0.0  2823.0     0.0    Lerome Peckers  \n",
       "2          0.0        0.0           0.0     0.0     0.0   Sabih Unhearfus  \n",
       "3          0.0     6652.0           0.0   181.0   585.0  Meratz Caltilter  \n",
       "4         10.0        0.0         635.0     0.0     0.0   Brence Harperez  "
      ]
     },
     "execution_count": 532,
     "metadata": {},
     "output_type": "execute_result"
    }
   ],
   "source": [
    "test_df.head()"
   ]
  },
  {
   "cell_type": "markdown",
   "id": "1c029125-ec39-4670-bc25-22c368b0cf79",
   "metadata": {},
   "source": [
    "These are what the columns mean according to the dataset page:\n",
    "\n",
    "- PassengerId - A unique Id for each passenger. Each Id takes the form gggg_pp where gggg indicates a group the passenger is travelling with and pp is their number within the group. People in a group are often family members, but not always.\n",
    "- HomePlanet - The planet the passenger departed from, typically their planet of permanent residence.\n",
    "- CryoSleep - Indicates whether the passenger elected to be put into suspended animation for the duration of the voyage. Passengers in cryosleep are confined to their cabins.\n",
    "- Cabin - The cabin number where the passenger is staying. Takes the form deck/num/side, where side can be either P for Port or S for Starboard.\n",
    "- Destination - The planet the passenger will be debarking to.\n",
    "- Age - The age of the passenger.\n",
    "- VIP - Whether the passenger has paid for special VIP service during the voyage.\n",
    "- RoomService, FoodCourt, ShoppingMall, Spa, VRDeck - Amount the passenger has billed at each of the Spaceship Titanic's many luxury amenities.\n",
    "- Name - The first and last names of the passenger.\n",
    "- Transported - Whether the passenger was transported to another dimension. This is the target, the column you are trying to predict."
   ]
  },
  {
   "cell_type": "markdown",
   "id": "74a080af-922b-43ee-a995-fa2b0be98fa1",
   "metadata": {},
   "source": [
    "We will need the PassengerId column from test_df when we make our submission, so let's save them."
   ]
  },
  {
   "cell_type": "code",
   "execution_count": 533,
   "id": "2958e9d5-0847-4bc9-9cd4-a877e874132b",
   "metadata": {},
   "outputs": [],
   "source": [
    "ids = test_df[\"PassengerId\"]"
   ]
  },
  {
   "cell_type": "markdown",
   "id": "4d2ce839-8121-4e25-9afd-700d988dcf16",
   "metadata": {},
   "source": [
    "### View Distributions"
   ]
  },
  {
   "cell_type": "markdown",
   "id": "e51d04fb-8c6a-4b4f-af18-046713b6846b",
   "metadata": {},
   "source": [
    "Let's view some of the columns for the train dataset using histograms. We won't be viewing PassengerId or Name since those are unique."
   ]
  },
  {
   "cell_type": "code",
   "execution_count": 534,
   "id": "12c4b359-b05d-4f1f-83ac-44f591c79750",
   "metadata": {},
   "outputs": [
    {
     "data": {
      "image/png": "[encoded data removed]",
      "text/plain": [
       "<Figure size 2000x2000 with 12 Axes>"
      ]
     },
     "metadata": {},
     "output_type": "display_data"
    }
   ],
   "source": [
    "colors = cycle(plt.rcParams[\"axes.prop_cycle\"].by_key()[\"color\"])\n",
    "\n",
    "subplot_column_names = train_df.columns.drop([\"PassengerId\", \"Name\"])\n",
    "\n",
    "columns_n = len(subplot_column_names)\n",
    "subplot_rows = 4\n",
    "subplot_columns = columns_n // subplot_rows\n",
    "\n",
    "fig, axs = plt.subplots(subplot_rows, subplot_columns, figsize=(20, 20), sharex=False, sharey=False)\n",
    "axs = axs.flatten()\n",
    "\n",
    "for i, column in enumerate(subplot_column_names):\n",
    "    sns.histplot(train_df[column], ax=axs[i], color=next(colors))  # use the next color in the cycle\n",
    "    axs[i].set_title(column)\n",
    "\n",
    "# this is so we can hide the unused histograms, there are 0 in this case, but keep for other models\n",
    "for j in range(i + 1, len(axs)):\n",
    "    axs[j].set_visible(False)\n",
    "\n",
    "plt.tight_layout()\n",
    "plt.show()"
   ]
  },
  {
   "cell_type": "markdown",
   "id": "06a3c8d3-ebf0-43e5-bcf5-e289df8fd7fd",
   "metadata": {},
   "source": [
    "A few of the histograms appear to be blank, but they're just mainly unique values or values with low counts."
   ]
  },
  {
   "cell_type": "markdown",
   "id": "8ce118d1-eab1-4945-852d-3a3af593c49b",
   "metadata": {},
   "source": [
    "### Identify Patterns"
   ]
  },
  {
   "cell_type": "markdown",
   "id": "1a17799d-afbf-490d-9eb8-d8c369b4a5df",
   "metadata": {},
   "source": [
    "Some initial assumptions:\n",
    "\n",
    "- Cabin seems almost unique for all the passengers, but we can break this column into CabinDeck, CabinNum, and CabinSide.\n",
    "- Age seems to be in groups based on the histogram, let's use another histogram later to verify.\n",
    "- VIP is heavily skewed towards people that didn't get VIP services.\n",
    "- RoomService, FoodCourt, ShoppingMall, Spa, VRDeck are primarily 0, but have some large values that could help our model.\n",
    "- Transported seems faily balanced, this is very helpful because it ensures that the model is not biased towards a particular outcome."
   ]
  },
  {
   "cell_type": "markdown",
   "id": "7c1947c3-d026-43da-ae41-6be091ba245e",
   "metadata": {},
   "source": [
    "For the Age histogram, we will make the number of bins the range of the value counts to check if the column is actually in groups."
   ]
  },
  {
   "cell_type": "code",
   "execution_count": 535,
   "id": "68c4e45a-0a30-45f7-aeb4-3a65a4f66aa3",
   "metadata": {},
   "outputs": [
    {
     "data": {
      "text/plain": [
       "<Axes: xlabel='Age', ylabel='Count'>"
      ]
     },
     "execution_count": 535,
     "metadata": {},
     "output_type": "execute_result"
    },
    {
     "data": {
      "image/png": "[encoded data removed]",
      "text/plain": [
       "<Figure size 640x480 with 1 Axes>"
      ]
     },
     "metadata": {},
     "output_type": "display_data"
    }
   ],
   "source": [
    "sns.histplot(train_df[\"Age\"], bins=int(max(train_df[\"Age\"]) - min(train_df[\"Age\"])), color=next(colors))"
   ]
  },
  {
   "cell_type": "markdown",
   "id": "9d6eece0-d100-4fc5-b858-0e756cc587a1",
   "metadata": {},
   "source": [
    "The data here looks normal, so we don't have to do anything."
   ]
  },
  {
   "cell_type": "markdown",
   "id": "13fe2044-7463-4c77-a6d6-a19a02a70ff2",
   "metadata": {},
   "source": [
    "### Check for Missing Values and Outliers"
   ]
  },
  {
   "cell_type": "markdown",
   "id": "0f74a682-1fac-4dee-a8cb-8f6793bd7f9a",
   "metadata": {},
   "source": [
    "Now, let's check for missing values or outliers in the data."
   ]
  },
  {
   "cell_type": "code",
   "execution_count": 536,
   "id": "69c99b82-14f3-4266-8765-fc7fec76b456",
   "metadata": {},
   "outputs": [
    {
     "data": {
      "text/plain": [
       "(PassengerId       0\n",
       " HomePlanet      201\n",
       " CryoSleep       217\n",
       " Cabin           199\n",
       " Destination     182\n",
       " Age             179\n",
       " VIP             203\n",
       " RoomService     181\n",
       " FoodCourt       183\n",
       " ShoppingMall    208\n",
       " Spa             183\n",
       " VRDeck          188\n",
       " Name            200\n",
       " Transported       0\n",
       " dtype: int64,\n",
       " PassengerId       0\n",
       " HomePlanet       87\n",
       " CryoSleep        93\n",
       " Cabin           100\n",
       " Destination      92\n",
       " Age              91\n",
       " VIP              93\n",
       " RoomService      82\n",
       " FoodCourt       106\n",
       " ShoppingMall     98\n",
       " Spa             101\n",
       " VRDeck           80\n",
       " Name             94\n",
       " dtype: int64)"
      ]
     },
     "execution_count": 536,
     "metadata": {},
     "output_type": "execute_result"
    }
   ],
   "source": [
    "train_df.isnull().sum(), test_df.isnull().sum()"
   ]
  },
  {
   "cell_type": "markdown",
   "id": "322d240a-aa32-4985-b646-f335733052c4",
   "metadata": {},
   "source": [
    "What to do for missing values:\n",
    "\n",
    "- HomePlanet = make null values Other.\n",
    "- CryoSleep = make null values True if the passenger has not spent money on amenities, otherwise False.\n",
    "    - I use this reasoning because if a passenger was in CryoSleep, it means that they were confined to their cabins the entire trip.\n",
    "- Cabin = this will be broken up into 3 different columns.\n",
    "    - CabinDeck = set null values to Other.\n",
    "    - CabinNum = set null values to the median num.\n",
    "    - CabinSide = set null values to the mode side.\n",
    "- Destination = make null values Other.\n",
    "- Age = make null values as the median age since the age histogram is skewed.\n",
    "- VIP = make null values True if they spent above average on amenities, False otherwise.\n",
    "- RoomService = make null values 0.\n",
    "- FoodCourt = make null values 0.\n",
    "- ShoppingMall = make null values 0.\n",
    "- Spa = make null values 0.\n",
    "- VRDeck = make null values 0.\n",
    "- Name = break up name into first and last names and make null into Other."
   ]
  },
  {
   "cell_type": "markdown",
   "id": "a96275d2-ef0e-4d75-a06b-48adccce95ea",
   "metadata": {},
   "source": [
    "There doesn't seem to be any outliers based on the histograms, so we can move on."
   ]
  },
  {
   "cell_type": "markdown",
   "id": "b4489739-d47c-4ce7-82b1-7c0e4bc47ad0",
   "metadata": {},
   "source": [
    "## Step 3: Data Preparation"
   ]
  },
  {
   "cell_type": "markdown",
   "id": "c8699b75-a084-4761-aaf1-3429e7f94d0f",
   "metadata": {},
   "source": [
    "Now we can start cleaning up and preparing the dataframes so they're easier to work with, and give us more accurate results."
   ]
  },
  {
   "cell_type": "code",
   "execution_count": 537,
   "id": "09382bd0-1c33-438a-958e-1c2f2db4367a",
   "metadata": {},
   "outputs": [
    {
     "data": {
      "text/html": [
       "<div>\n",
       "<style scoped>\n",
       "    .dataframe tbody tr th:only-of-type {\n",
       "        vertical-align: middle;\n",
       "    }\n",
       "\n",
       "    .dataframe tbody tr th {\n",
       "        vertical-align: top;\n",
       "    }\n",
       "\n",
       "    .dataframe thead th {\n",
       "        text-align: right;\n",
       "    }\n",
       "</style>\n",
       "<table border=\"1\" class=\"dataframe\">\n",
       "  <thead>\n",
       "    <tr style=\"text-align: right;\">\n",
       "      <th></th>\n",
       "      <th>PassengerId</th>\n",
       "      <th>HomePlanet</th>\n",
       "      <th>CryoSleep</th>\n",
       "      <th>Cabin</th>\n",
       "      <th>Destination</th>\n",
       "      <th>Age</th>\n",
       "      <th>VIP</th>\n",
       "      <th>RoomService</th>\n",
       "      <th>FoodCourt</th>\n",
       "      <th>ShoppingMall</th>\n",
       "      <th>Spa</th>\n",
       "      <th>VRDeck</th>\n",
       "      <th>Name</th>\n",
       "      <th>Transported</th>\n",
       "    </tr>\n",
       "  </thead>\n",
       "  <tbody>\n",
       "    <tr>\n",
       "      <th>0</th>\n",
       "      <td>0001_01</td>\n",
       "      <td>Europa</td>\n",
       "      <td>False</td>\n",
       "      <td>B/0/P</td>\n",
       "      <td>TRAPPIST-1e</td>\n",
       "      <td>39.0</td>\n",
       "      <td>False</td>\n",
       "      <td>0.0</td>\n",
       "      <td>0.0</td>\n",
       "      <td>0.0</td>\n",
       "      <td>0.0</td>\n",
       "      <td>0.0</td>\n",
       "      <td>Maham Ofracculy</td>\n",
       "      <td>False</td>\n",
       "    </tr>\n",
       "    <tr>\n",
       "      <th>1</th>\n",
       "      <td>0002_01</td>\n",
       "      <td>Earth</td>\n",
       "      <td>False</td>\n",
       "      <td>F/0/S</td>\n",
       "      <td>TRAPPIST-1e</td>\n",
       "      <td>24.0</td>\n",
       "      <td>False</td>\n",
       "      <td>109.0</td>\n",
       "      <td>9.0</td>\n",
       "      <td>25.0</td>\n",
       "      <td>549.0</td>\n",
       "      <td>44.0</td>\n",
       "      <td>Juanna Vines</td>\n",
       "      <td>True</td>\n",
       "    </tr>\n",
       "    <tr>\n",
       "      <th>2</th>\n",
       "      <td>0003_01</td>\n",
       "      <td>Europa</td>\n",
       "      <td>False</td>\n",
       "      <td>A/0/S</td>\n",
       "      <td>TRAPPIST-1e</td>\n",
       "      <td>58.0</td>\n",
       "      <td>True</td>\n",
       "      <td>43.0</td>\n",
       "      <td>3576.0</td>\n",
       "      <td>0.0</td>\n",
       "      <td>6715.0</td>\n",
       "      <td>49.0</td>\n",
       "      <td>Altark Susent</td>\n",
       "      <td>False</td>\n",
       "    </tr>\n",
       "    <tr>\n",
       "      <th>3</th>\n",
       "      <td>0003_02</td>\n",
       "      <td>Europa</td>\n",
       "      <td>False</td>\n",
       "      <td>A/0/S</td>\n",
       "      <td>TRAPPIST-1e</td>\n",
       "      <td>33.0</td>\n",
       "      <td>False</td>\n",
       "      <td>0.0</td>\n",
       "      <td>1283.0</td>\n",
       "      <td>371.0</td>\n",
       "      <td>3329.0</td>\n",
       "      <td>193.0</td>\n",
       "      <td>Solam Susent</td>\n",
       "      <td>False</td>\n",
       "    </tr>\n",
       "    <tr>\n",
       "      <th>4</th>\n",
       "      <td>0004_01</td>\n",
       "      <td>Earth</td>\n",
       "      <td>False</td>\n",
       "      <td>F/1/S</td>\n",
       "      <td>TRAPPIST-1e</td>\n",
       "      <td>16.0</td>\n",
       "      <td>False</td>\n",
       "      <td>303.0</td>\n",
       "      <td>70.0</td>\n",
       "      <td>151.0</td>\n",
       "      <td>565.0</td>\n",
       "      <td>2.0</td>\n",
       "      <td>Willy Santantines</td>\n",
       "      <td>True</td>\n",
       "    </tr>\n",
       "  </tbody>\n",
       "</table>\n",
       "</div>"
      ],
      "text/plain": [
       "  PassengerId HomePlanet CryoSleep  Cabin  Destination   Age    VIP  \\\n",
       "0     0001_01     Europa     False  B/0/P  TRAPPIST-1e  39.0  False   \n",
       "1     0002_01      Earth     False  F/0/S  TRAPPIST-1e  24.0  False   \n",
       "2     0003_01     Europa     False  A/0/S  TRAPPIST-1e  58.0   True   \n",
       "3     0003_02     Europa     False  A/0/S  TRAPPIST-1e  33.0  False   \n",
       "4     0004_01      Earth     False  F/1/S  TRAPPIST-1e  16.0  False   \n",
       "\n",
       "   RoomService  FoodCourt  ShoppingMall     Spa  VRDeck               Name  \\\n",
       "0          0.0        0.0           0.0     0.0     0.0    Maham Ofracculy   \n",
       "1        109.0        9.0          25.0   549.0    44.0       Juanna Vines   \n",
       "2         43.0     3576.0           0.0  6715.0    49.0      Altark Susent   \n",
       "3          0.0     1283.0         371.0  3329.0   193.0       Solam Susent   \n",
       "4        303.0       70.0         151.0   565.0     2.0  Willy Santantines   \n",
       "\n",
       "   Transported  \n",
       "0        False  \n",
       "1         True  \n",
       "2        False  \n",
       "3        False  \n",
       "4         True  "
      ]
     },
     "execution_count": 537,
     "metadata": {},
     "output_type": "execute_result"
    }
   ],
   "source": [
    "train_df.head()"
   ]
  },
  {
   "cell_type": "markdown",
   "id": "a16b5e51-6d25-422f-a40d-cb3c5acde4e6",
   "metadata": {},
   "source": [
    "### Clean Up the Feature and Value Names"
   ]
  },
  {
   "cell_type": "markdown",
   "id": "5acb67b1-458f-4b0d-afa2-ab61fbb91aa1",
   "metadata": {},
   "source": [
    "From an initial look at the dataframe, the feature (column) names are already without spaces and look good in PascalCase so we can keep them as is. The values also look good and don't have any weird strings."
   ]
  },
  {
   "cell_type": "markdown",
   "id": "f6b963b0-05d2-4f7c-ae29-1de38b641acc",
   "metadata": {},
   "source": [
    "### Feature Engineering"
   ]
  },
  {
   "cell_type": "markdown",
   "id": "a1a756ca-ebe2-4a13-bfaa-e167f36ed661",
   "metadata": {},
   "source": [
    "Let's create some new features that'll make filling in the null values easier for us."
   ]
  },
  {
   "cell_type": "markdown",
   "id": "c1e473e5-3ff6-45c1-a818-f0c86f8ac54b",
   "metadata": {},
   "source": [
    "Some things we can do to the data:\n",
    "\n",
    "- PassengerId can be used to make a PassengerGroup feature using the first 4 digits, and a PassengerNum using the last 2 digits.\n",
    "- Break up Cabin into 3 different columns.\n",
    "- Name can be broken up into FirstName and LastName.\n",
    "- RoomService, FoodCourt, ShoppingMall, Spa, VRDeck can have their values summed up into a Amenities columns."
   ]
  },
  {
   "cell_type": "code",
   "execution_count": 538,
   "id": "12787061-dd41-49cb-b781-ae58b2ccf670",
   "metadata": {
    "editable": true,
    "slideshow": {
     "slide_type": ""
    },
    "tags": []
   },
   "outputs": [],
   "source": [
    "def data_preparation_0(df):\n",
    "    df[[\"PassengerGroup\", \"PassengerNum\"]] = df[\"PassengerId\"].str.split(\"_\", expand=True)\n",
    "\n",
    "    df[[\"CabinDeck\", \"CabinNum\", \"CabinSide\"]] = df[\"Cabin\"].str.split(\"/\", expand=True)\n",
    "    df[\"CabinDeck\"] = df[\"CabinDeck\"].fillna(\"Other\")\n",
    "    df[\"CabinNum\"] = df[\"CabinNum\"].astype(float)\n",
    "    df[\"CabinNum\"] = df[\"CabinNum\"].fillna(df[\"CabinNum\"].median())\n",
    "    df[\"CabinSide\"] = df[\"CabinSide\"].fillna(df[\"CabinSide\"].mode()[0])\n",
    "    df.drop(columns=[\"Cabin\"], inplace=True)\n",
    "\n",
    "    df[[\"FirstName\", \"LastName\"]] = df[\"Name\"].str.split(\" \", expand=True)\n",
    "    df[\"FirstName\"] = df[\"FirstName\"].fillna(\"Other\")\n",
    "    df[\"LastName\"] = df[\"LastName\"].fillna(\"Other\")\n",
    "    df.drop(columns=[\"Name\"], inplace=True)\n",
    "\n",
    "    amenities_columns = [\"RoomService\", \"FoodCourt\", \"ShoppingMall\", \"Spa\", \"VRDeck\"]\n",
    "    df[amenities_columns] = df[amenities_columns].fillna(0)\n",
    "    df[\"Amenities\"] = df[amenities_columns].sum(axis=1)\n",
    "    \n",
    "data_preparation_0(train_df)\n",
    "data_preparation_0(test_df)"
   ]
  },
  {
   "cell_type": "markdown",
   "id": "538e09dc-0c57-47ea-b8d4-d0bde9b8ffae",
   "metadata": {},
   "source": [
    "### Handle Missing Values"
   ]
  },
  {
   "cell_type": "markdown",
   "id": "74f097e8-139d-4a3f-9067-5f0bced714e1",
   "metadata": {},
   "source": [
    "We have some more columns, so let's handle the rest of the missing values."
   ]
  },
  {
   "cell_type": "code",
   "execution_count": 539,
   "id": "b99586f2-195f-417c-b624-efe04885fb20",
   "metadata": {
    "editable": true,
    "slideshow": {
     "slide_type": ""
    },
    "tags": []
   },
   "outputs": [],
   "source": [
    "def data_preparation_1(df):\n",
    "    df[\"HomePlanet\"] = df[\"HomePlanet\"].fillna(\"Other\")\n",
    "    df[\"CryoSleep\"] = df[\"CryoSleep\"].astype(\"boolean\")\n",
    "    df[\"CryoSleep\"] = df[\"CryoSleep\"].fillna(df[\"Amenities\"] == 0).astype(int)\n",
    "    df[\"Destination\"] = df[\"Destination\"].fillna(\"Other\")\n",
    "    df[\"Age\"] = df[\"Age\"].fillna(df[\"Age\"].median())\n",
    "    df[\"VIP\"] = df[\"VIP\"].astype(\"boolean\")\n",
    "    df[\"VIP\"] = df[\"VIP\"].fillna(df[\"Amenities\"] >= df[\"Amenities\"].median()).astype(int)\n",
    "\n",
    "data_preparation_1(train_df)\n",
    "data_preparation_1(test_df)"
   ]
  },
  {
   "cell_type": "code",
   "execution_count": 540,
   "id": "2e7e39fe-ab65-4c92-b86a-85268e28b678",
   "metadata": {},
   "outputs": [
    {
     "data": {
      "text/plain": [
       "(PassengerId       0\n",
       " HomePlanet        0\n",
       " CryoSleep         0\n",
       " Destination       0\n",
       " Age               0\n",
       " VIP               0\n",
       " RoomService       0\n",
       " FoodCourt         0\n",
       " ShoppingMall      0\n",
       " Spa               0\n",
       " VRDeck            0\n",
       " Transported       0\n",
       " PassengerGroup    0\n",
       " PassengerNum      0\n",
       " CabinDeck         0\n",
       " CabinNum          0\n",
       " CabinSide         0\n",
       " FirstName         0\n",
       " LastName          0\n",
       " Amenities         0\n",
       " dtype: int64,\n",
       " PassengerId       0\n",
       " HomePlanet        0\n",
       " CryoSleep         0\n",
       " Destination       0\n",
       " Age               0\n",
       " VIP               0\n",
       " RoomService       0\n",
       " FoodCourt         0\n",
       " ShoppingMall      0\n",
       " Spa               0\n",
       " VRDeck            0\n",
       " PassengerGroup    0\n",
       " PassengerNum      0\n",
       " CabinDeck         0\n",
       " CabinNum          0\n",
       " CabinSide         0\n",
       " FirstName         0\n",
       " LastName          0\n",
       " Amenities         0\n",
       " dtype: int64)"
      ]
     },
     "execution_count": 540,
     "metadata": {},
     "output_type": "execute_result"
    }
   ],
   "source": [
    "train_df.isnull().sum(), test_df.isnull().sum()"
   ]
  },
  {
   "cell_type": "markdown",
   "id": "be6508a6-f500-4225-aa62-fce243fddd9e",
   "metadata": {},
   "source": [
    "Now that we have no null values, we can do some more feature engineering."
   ]
  },
  {
   "cell_type": "markdown",
   "id": "f84ffa90-b081-419d-90df-66c3a17ade38",
   "metadata": {},
   "source": [
    "Let's look at the value counts of each of the features and see if we can come with any more relationships."
   ]
  },
  {
   "cell_type": "code",
   "execution_count": 541,
   "id": "a14f2cce-06bd-4299-9f61-e8a0f1d38288",
   "metadata": {},
   "outputs": [],
   "source": [
    "def display_column_value_counts(df):\n",
    "    for column in df.columns:\n",
    "        display(df[column].value_counts().sort_index())\n",
    "        print(\"\\n\")"
   ]
  },
  {
   "cell_type": "code",
   "execution_count": 542,
   "id": "8ff78ba6-45ee-4f44-983d-34538143c34f",
   "metadata": {},
   "outputs": [
    {
     "data": {
      "text/plain": [
       "PassengerId\n",
       "0001_01    1\n",
       "0002_01    1\n",
       "0003_01    1\n",
       "0003_02    1\n",
       "0004_01    1\n",
       "          ..\n",
       "9276_01    1\n",
       "9278_01    1\n",
       "9279_01    1\n",
       "9280_01    1\n",
       "9280_02    1\n",
       "Name: count, Length: 8693, dtype: int64"
      ]
     },
     "metadata": {},
     "output_type": "display_data"
    },
    {
     "name": "stdout",
     "output_type": "stream",
     "text": [
      "\n",
      "\n"
     ]
    },
    {
     "data": {
      "text/plain": [
       "HomePlanet\n",
       "Earth     4602\n",
       "Europa    2131\n",
       "Mars      1759\n",
       "Other      201\n",
       "Name: count, dtype: int64"
      ]
     },
     "metadata": {},
     "output_type": "display_data"
    },
    {
     "name": "stdout",
     "output_type": "stream",
     "text": [
      "\n",
      "\n"
     ]
    },
    {
     "data": {
      "text/plain": [
       "CryoSleep\n",
       "0    5558\n",
       "1    3135\n",
       "Name: count, dtype: int64"
      ]
     },
     "metadata": {},
     "output_type": "display_data"
    },
    {
     "name": "stdout",
     "output_type": "stream",
     "text": [
      "\n",
      "\n"
     ]
    },
    {
     "data": {
      "text/plain": [
       "Destination\n",
       "55 Cancri e      1800\n",
       "Other             182\n",
       "PSO J318.5-22     796\n",
       "TRAPPIST-1e      5915\n",
       "Name: count, dtype: int64"
      ]
     },
     "metadata": {},
     "output_type": "display_data"
    },
    {
     "name": "stdout",
     "output_type": "stream",
     "text": [
      "\n",
      "\n"
     ]
    },
    {
     "data": {
      "text/plain": [
       "Age\n",
       "0.0     178\n",
       "1.0      67\n",
       "2.0      75\n",
       "3.0      75\n",
       "4.0      71\n",
       "       ... \n",
       "75.0      4\n",
       "76.0      2\n",
       "77.0      2\n",
       "78.0      3\n",
       "79.0      3\n",
       "Name: count, Length: 80, dtype: int64"
      ]
     },
     "metadata": {},
     "output_type": "display_data"
    },
    {
     "name": "stdout",
     "output_type": "stream",
     "text": [
      "\n",
      "\n"
     ]
    },
    {
     "data": {
      "text/plain": [
       "VIP\n",
       "0    8395\n",
       "1     298\n",
       "Name: count, dtype: int64"
      ]
     },
     "metadata": {},
     "output_type": "display_data"
    },
    {
     "name": "stdout",
     "output_type": "stream",
     "text": [
      "\n",
      "\n"
     ]
    },
    {
     "data": {
      "text/plain": [
       "RoomService\n",
       "0.0        5758\n",
       "1.0         117\n",
       "2.0          79\n",
       "3.0          61\n",
       "4.0          47\n",
       "           ... \n",
       "8209.0        1\n",
       "8243.0        1\n",
       "8586.0        1\n",
       "9920.0        1\n",
       "14327.0       1\n",
       "Name: count, Length: 1273, dtype: int64"
      ]
     },
     "metadata": {},
     "output_type": "display_data"
    },
    {
     "name": "stdout",
     "output_type": "stream",
     "text": [
      "\n",
      "\n"
     ]
    },
    {
     "data": {
      "text/plain": [
       "FoodCourt\n",
       "0.0        5639\n",
       "1.0         116\n",
       "2.0          75\n",
       "3.0          53\n",
       "4.0          53\n",
       "           ... \n",
       "21066.0       1\n",
       "26830.0       1\n",
       "27071.0       1\n",
       "27723.0       1\n",
       "29813.0       1\n",
       "Name: count, Length: 1507, dtype: int64"
      ]
     },
     "metadata": {},
     "output_type": "display_data"
    },
    {
     "name": "stdout",
     "output_type": "stream",
     "text": [
      "\n",
      "\n"
     ]
    },
    {
     "data": {
      "text/plain": [
       "ShoppingMall\n",
       "0.0        5795\n",
       "1.0         153\n",
       "2.0          80\n",
       "3.0          59\n",
       "4.0          45\n",
       "           ... \n",
       "9058.0        1\n",
       "10424.0       1\n",
       "10705.0       1\n",
       "12253.0       1\n",
       "23492.0       1\n",
       "Name: count, Length: 1115, dtype: int64"
      ]
     },
     "metadata": {},
     "output_type": "display_data"
    },
    {
     "name": "stdout",
     "output_type": "stream",
     "text": [
      "\n",
      "\n"
     ]
    },
    {
     "data": {
      "text/plain": [
       "Spa\n",
       "0.0        5507\n",
       "1.0         146\n",
       "2.0         105\n",
       "3.0          53\n",
       "4.0          46\n",
       "           ... \n",
       "15586.0       1\n",
       "16139.0       1\n",
       "16594.0       1\n",
       "18572.0       1\n",
       "22408.0       1\n",
       "Name: count, Length: 1327, dtype: int64"
      ]
     },
     "metadata": {},
     "output_type": "display_data"
    },
    {
     "name": "stdout",
     "output_type": "stream",
     "text": [
      "\n",
      "\n"
     ]
    },
    {
     "data": {
      "text/plain": [
       "VRDeck\n",
       "0.0        5683\n",
       "1.0         139\n",
       "2.0          70\n",
       "3.0          56\n",
       "4.0          47\n",
       "           ... \n",
       "16337.0       1\n",
       "17074.0       1\n",
       "17306.0       1\n",
       "20336.0       1\n",
       "24133.0       1\n",
       "Name: count, Length: 1306, dtype: int64"
      ]
     },
     "metadata": {},
     "output_type": "display_data"
    },
    {
     "name": "stdout",
     "output_type": "stream",
     "text": [
      "\n",
      "\n"
     ]
    },
    {
     "data": {
      "text/plain": [
       "Transported\n",
       "False    4315\n",
       "True     4378\n",
       "Name: count, dtype: int64"
      ]
     },
     "metadata": {},
     "output_type": "display_data"
    },
    {
     "name": "stdout",
     "output_type": "stream",
     "text": [
      "\n",
      "\n"
     ]
    },
    {
     "data": {
      "text/plain": [
       "PassengerGroup\n",
       "0001    1\n",
       "0002    1\n",
       "0003    2\n",
       "0004    1\n",
       "0005    1\n",
       "       ..\n",
       "9275    3\n",
       "9276    1\n",
       "9278    1\n",
       "9279    1\n",
       "9280    2\n",
       "Name: count, Length: 6217, dtype: int64"
      ]
     },
     "metadata": {},
     "output_type": "display_data"
    },
    {
     "name": "stdout",
     "output_type": "stream",
     "text": [
      "\n",
      "\n"
     ]
    },
    {
     "data": {
      "text/plain": [
       "PassengerNum\n",
       "01    6217\n",
       "02    1412\n",
       "03     571\n",
       "04     231\n",
       "05     128\n",
       "06      75\n",
       "07      46\n",
       "08      13\n",
       "Name: count, dtype: int64"
      ]
     },
     "metadata": {},
     "output_type": "display_data"
    },
    {
     "name": "stdout",
     "output_type": "stream",
     "text": [
      "\n",
      "\n"
     ]
    },
    {
     "data": {
      "text/plain": [
       "CabinDeck\n",
       "A         256\n",
       "B         779\n",
       "C         747\n",
       "D         478\n",
       "E         876\n",
       "F        2794\n",
       "G        2559\n",
       "Other     199\n",
       "T           5\n",
       "Name: count, dtype: int64"
      ]
     },
     "metadata": {},
     "output_type": "display_data"
    },
    {
     "name": "stdout",
     "output_type": "stream",
     "text": [
      "\n",
      "\n"
     ]
    },
    {
     "data": {
      "text/plain": [
       "CabinNum\n",
       "0.0       18\n",
       "1.0       15\n",
       "2.0       11\n",
       "3.0       16\n",
       "4.0        7\n",
       "          ..\n",
       "1888.0     2\n",
       "1891.0     1\n",
       "1892.0     1\n",
       "1893.0     1\n",
       "1894.0     1\n",
       "Name: count, Length: 1817, dtype: int64"
      ]
     },
     "metadata": {},
     "output_type": "display_data"
    },
    {
     "name": "stdout",
     "output_type": "stream",
     "text": [
      "\n",
      "\n"
     ]
    },
    {
     "data": {
      "text/plain": [
       "CabinSide\n",
       "P    4206\n",
       "S    4487\n",
       "Name: count, dtype: int64"
      ]
     },
     "metadata": {},
     "output_type": "display_data"
    },
    {
     "name": "stdout",
     "output_type": "stream",
     "text": [
      "\n",
      "\n"
     ]
    },
    {
     "data": {
      "text/plain": [
       "FirstName\n",
       "Aard       1\n",
       "Aarjel     2\n",
       "Aark       2\n",
       "Aarone     8\n",
       "Aars       1\n",
       "          ..\n",
       "Zinor      2\n",
       "Zinoth     1\n",
       "Zosmark    2\n",
       "Zosmas     2\n",
       "Zubeneb    2\n",
       "Name: count, Length: 2707, dtype: int64"
      ]
     },
     "metadata": {},
     "output_type": "display_data"
    },
    {
     "name": "stdout",
     "output_type": "stream",
     "text": [
      "\n",
      "\n"
     ]
    },
    {
     "data": {
      "text/plain": [
       "LastName\n",
       "Acobson         4\n",
       "Acobsond        3\n",
       "Adavisons       9\n",
       "Adkinson        3\n",
       "Admingried      4\n",
       "               ..\n",
       "Wynneyerson     2\n",
       "Yanton          7\n",
       "Yatters         4\n",
       "Yorkland       11\n",
       "Youngrayes      3\n",
       "Name: count, Length: 2218, dtype: int64"
      ]
     },
     "metadata": {},
     "output_type": "display_data"
    },
    {
     "name": "stdout",
     "output_type": "stream",
     "text": [
      "\n",
      "\n"
     ]
    },
    {
     "data": {
      "text/plain": [
       "Amenities\n",
       "0.0        3653\n",
       "1.0           2\n",
       "2.0           1\n",
       "4.0           1\n",
       "8.0           1\n",
       "           ... \n",
       "29608.0       1\n",
       "30478.0       1\n",
       "31074.0       1\n",
       "31076.0       1\n",
       "35987.0       1\n",
       "Name: count, Length: 2336, dtype: int64"
      ]
     },
     "metadata": {},
     "output_type": "display_data"
    },
    {
     "name": "stdout",
     "output_type": "stream",
     "text": [
      "\n",
      "\n"
     ]
    }
   ],
   "source": [
    "display_column_value_counts(train_df)"
   ]
  },
  {
   "cell_type": "markdown",
   "id": "cae724f9-d73f-4480-824a-cb324ff06509",
   "metadata": {},
   "source": [
    "Some findings:\n",
    "\n",
    "- The Age histogram shows a big change from 18 to 19, it can be used to make a new Adult feature, it would be True where age >= 18, and False where age < 18.\n",
    "- Amenities can be used to make a ReceivedAmenities feature where it's a boolean value describing if the passenger paid for services.\n",
    "\n",
    "Time to do those changes."
   ]
  },
  {
   "cell_type": "markdown",
   "id": "943e2d08-e47d-4eb4-b341-4e14fd622880",
   "metadata": {},
   "source": [
    "### Binary Encoding"
   ]
  },
  {
   "cell_type": "code",
   "execution_count": 543,
   "id": "62c02c52-6206-43b8-9968-0f01849b18f9",
   "metadata": {},
   "outputs": [],
   "source": [
    "def data_preparation_2(df):\n",
    "    df[\"Adult\"] = df[\"Age\"] >= 18\n",
    "    df[\"ReceivedAmenities\"] = df[\"Amenities\"] != 0\n",
    "\n",
    "data_preparation_2(train_df)\n",
    "data_preparation_2(test_df)"
   ]
  },
  {
   "cell_type": "code",
   "execution_count": 544,
   "id": "d058efc8-1a70-4b0a-be3b-2117ac5ef48b",
   "metadata": {},
   "outputs": [
    {
     "data": {
      "text/plain": [
       "PassengerId\n",
       "0001_01    1\n",
       "0002_01    1\n",
       "0003_01    1\n",
       "0003_02    1\n",
       "0004_01    1\n",
       "          ..\n",
       "9276_01    1\n",
       "9278_01    1\n",
       "9279_01    1\n",
       "9280_01    1\n",
       "9280_02    1\n",
       "Name: count, Length: 8693, dtype: int64"
      ]
     },
     "metadata": {},
     "output_type": "display_data"
    },
    {
     "name": "stdout",
     "output_type": "stream",
     "text": [
      "\n",
      "\n"
     ]
    },
    {
     "data": {
      "text/plain": [
       "HomePlanet\n",
       "Earth     4602\n",
       "Europa    2131\n",
       "Mars      1759\n",
       "Other      201\n",
       "Name: count, dtype: int64"
      ]
     },
     "metadata": {},
     "output_type": "display_data"
    },
    {
     "name": "stdout",
     "output_type": "stream",
     "text": [
      "\n",
      "\n"
     ]
    },
    {
     "data": {
      "text/plain": [
       "CryoSleep\n",
       "0    5558\n",
       "1    3135\n",
       "Name: count, dtype: int64"
      ]
     },
     "metadata": {},
     "output_type": "display_data"
    },
    {
     "name": "stdout",
     "output_type": "stream",
     "text": [
      "\n",
      "\n"
     ]
    },
    {
     "data": {
      "text/plain": [
       "Destination\n",
       "55 Cancri e      1800\n",
       "Other             182\n",
       "PSO J318.5-22     796\n",
       "TRAPPIST-1e      5915\n",
       "Name: count, dtype: int64"
      ]
     },
     "metadata": {},
     "output_type": "display_data"
    },
    {
     "name": "stdout",
     "output_type": "stream",
     "text": [
      "\n",
      "\n"
     ]
    },
    {
     "data": {
      "text/plain": [
       "Age\n",
       "0.0     178\n",
       "1.0      67\n",
       "2.0      75\n",
       "3.0      75\n",
       "4.0      71\n",
       "       ... \n",
       "75.0      4\n",
       "76.0      2\n",
       "77.0      2\n",
       "78.0      3\n",
       "79.0      3\n",
       "Name: count, Length: 80, dtype: int64"
      ]
     },
     "metadata": {},
     "output_type": "display_data"
    },
    {
     "name": "stdout",
     "output_type": "stream",
     "text": [
      "\n",
      "\n"
     ]
    },
    {
     "data": {
      "text/plain": [
       "VIP\n",
       "0    8395\n",
       "1     298\n",
       "Name: count, dtype: int64"
      ]
     },
     "metadata": {},
     "output_type": "display_data"
    },
    {
     "name": "stdout",
     "output_type": "stream",
     "text": [
      "\n",
      "\n"
     ]
    },
    {
     "data": {
      "text/plain": [
       "RoomService\n",
       "0.0        5758\n",
       "1.0         117\n",
       "2.0          79\n",
       "3.0          61\n",
       "4.0          47\n",
       "           ... \n",
       "8209.0        1\n",
       "8243.0        1\n",
       "8586.0        1\n",
       "9920.0        1\n",
       "14327.0       1\n",
       "Name: count, Length: 1273, dtype: int64"
      ]
     },
     "metadata": {},
     "output_type": "display_data"
    },
    {
     "name": "stdout",
     "output_type": "stream",
     "text": [
      "\n",
      "\n"
     ]
    },
    {
     "data": {
      "text/plain": [
       "FoodCourt\n",
       "0.0        5639\n",
       "1.0         116\n",
       "2.0          75\n",
       "3.0          53\n",
       "4.0          53\n",
       "           ... \n",
       "21066.0       1\n",
       "26830.0       1\n",
       "27071.0       1\n",
       "27723.0       1\n",
       "29813.0       1\n",
       "Name: count, Length: 1507, dtype: int64"
      ]
     },
     "metadata": {},
     "output_type": "display_data"
    },
    {
     "name": "stdout",
     "output_type": "stream",
     "text": [
      "\n",
      "\n"
     ]
    },
    {
     "data": {
      "text/plain": [
       "ShoppingMall\n",
       "0.0        5795\n",
       "1.0         153\n",
       "2.0          80\n",
       "3.0          59\n",
       "4.0          45\n",
       "           ... \n",
       "9058.0        1\n",
       "10424.0       1\n",
       "10705.0       1\n",
       "12253.0       1\n",
       "23492.0       1\n",
       "Name: count, Length: 1115, dtype: int64"
      ]
     },
     "metadata": {},
     "output_type": "display_data"
    },
    {
     "name": "stdout",
     "output_type": "stream",
     "text": [
      "\n",
      "\n"
     ]
    },
    {
     "data": {
      "text/plain": [
       "Spa\n",
       "0.0        5507\n",
       "1.0         146\n",
       "2.0         105\n",
       "3.0          53\n",
       "4.0          46\n",
       "           ... \n",
       "15586.0       1\n",
       "16139.0       1\n",
       "16594.0       1\n",
       "18572.0       1\n",
       "22408.0       1\n",
       "Name: count, Length: 1327, dtype: int64"
      ]
     },
     "metadata": {},
     "output_type": "display_data"
    },
    {
     "name": "stdout",
     "output_type": "stream",
     "text": [
      "\n",
      "\n"
     ]
    },
    {
     "data": {
      "text/plain": [
       "VRDeck\n",
       "0.0        5683\n",
       "1.0         139\n",
       "2.0          70\n",
       "3.0          56\n",
       "4.0          47\n",
       "           ... \n",
       "16337.0       1\n",
       "17074.0       1\n",
       "17306.0       1\n",
       "20336.0       1\n",
       "24133.0       1\n",
       "Name: count, Length: 1306, dtype: int64"
      ]
     },
     "metadata": {},
     "output_type": "display_data"
    },
    {
     "name": "stdout",
     "output_type": "stream",
     "text": [
      "\n",
      "\n"
     ]
    },
    {
     "data": {
      "text/plain": [
       "Transported\n",
       "False    4315\n",
       "True     4378\n",
       "Name: count, dtype: int64"
      ]
     },
     "metadata": {},
     "output_type": "display_data"
    },
    {
     "name": "stdout",
     "output_type": "stream",
     "text": [
      "\n",
      "\n"
     ]
    },
    {
     "data": {
      "text/plain": [
       "PassengerGroup\n",
       "0001    1\n",
       "0002    1\n",
       "0003    2\n",
       "0004    1\n",
       "0005    1\n",
       "       ..\n",
       "9275    3\n",
       "9276    1\n",
       "9278    1\n",
       "9279    1\n",
       "9280    2\n",
       "Name: count, Length: 6217, dtype: int64"
      ]
     },
     "metadata": {},
     "output_type": "display_data"
    },
    {
     "name": "stdout",
     "output_type": "stream",
     "text": [
      "\n",
      "\n"
     ]
    },
    {
     "data": {
      "text/plain": [
       "PassengerNum\n",
       "01    6217\n",
       "02    1412\n",
       "03     571\n",
       "04     231\n",
       "05     128\n",
       "06      75\n",
       "07      46\n",
       "08      13\n",
       "Name: count, dtype: int64"
      ]
     },
     "metadata": {},
     "output_type": "display_data"
    },
    {
     "name": "stdout",
     "output_type": "stream",
     "text": [
      "\n",
      "\n"
     ]
    },
    {
     "data": {
      "text/plain": [
       "CabinDeck\n",
       "A         256\n",
       "B         779\n",
       "C         747\n",
       "D         478\n",
       "E         876\n",
       "F        2794\n",
       "G        2559\n",
       "Other     199\n",
       "T           5\n",
       "Name: count, dtype: int64"
      ]
     },
     "metadata": {},
     "output_type": "display_data"
    },
    {
     "name": "stdout",
     "output_type": "stream",
     "text": [
      "\n",
      "\n"
     ]
    },
    {
     "data": {
      "text/plain": [
       "CabinNum\n",
       "0.0       18\n",
       "1.0       15\n",
       "2.0       11\n",
       "3.0       16\n",
       "4.0        7\n",
       "          ..\n",
       "1888.0     2\n",
       "1891.0     1\n",
       "1892.0     1\n",
       "1893.0     1\n",
       "1894.0     1\n",
       "Name: count, Length: 1817, dtype: int64"
      ]
     },
     "metadata": {},
     "output_type": "display_data"
    },
    {
     "name": "stdout",
     "output_type": "stream",
     "text": [
      "\n",
      "\n"
     ]
    },
    {
     "data": {
      "text/plain": [
       "CabinSide\n",
       "P    4206\n",
       "S    4487\n",
       "Name: count, dtype: int64"
      ]
     },
     "metadata": {},
     "output_type": "display_data"
    },
    {
     "name": "stdout",
     "output_type": "stream",
     "text": [
      "\n",
      "\n"
     ]
    },
    {
     "data": {
      "text/plain": [
       "FirstName\n",
       "Aard       1\n",
       "Aarjel     2\n",
       "Aark       2\n",
       "Aarone     8\n",
       "Aars       1\n",
       "          ..\n",
       "Zinor      2\n",
       "Zinoth     1\n",
       "Zosmark    2\n",
       "Zosmas     2\n",
       "Zubeneb    2\n",
       "Name: count, Length: 2707, dtype: int64"
      ]
     },
     "metadata": {},
     "output_type": "display_data"
    },
    {
     "name": "stdout",
     "output_type": "stream",
     "text": [
      "\n",
      "\n"
     ]
    },
    {
     "data": {
      "text/plain": [
       "LastName\n",
       "Acobson         4\n",
       "Acobsond        3\n",
       "Adavisons       9\n",
       "Adkinson        3\n",
       "Admingried      4\n",
       "               ..\n",
       "Wynneyerson     2\n",
       "Yanton          7\n",
       "Yatters         4\n",
       "Yorkland       11\n",
       "Youngrayes      3\n",
       "Name: count, Length: 2218, dtype: int64"
      ]
     },
     "metadata": {},
     "output_type": "display_data"
    },
    {
     "name": "stdout",
     "output_type": "stream",
     "text": [
      "\n",
      "\n"
     ]
    },
    {
     "data": {
      "text/plain": [
       "Amenities\n",
       "0.0        3653\n",
       "1.0           2\n",
       "2.0           1\n",
       "4.0           1\n",
       "8.0           1\n",
       "           ... \n",
       "29608.0       1\n",
       "30478.0       1\n",
       "31074.0       1\n",
       "31076.0       1\n",
       "35987.0       1\n",
       "Name: count, Length: 2336, dtype: int64"
      ]
     },
     "metadata": {},
     "output_type": "display_data"
    },
    {
     "name": "stdout",
     "output_type": "stream",
     "text": [
      "\n",
      "\n"
     ]
    },
    {
     "data": {
      "text/plain": [
       "Adult\n",
       "False    1545\n",
       "True     7148\n",
       "Name: count, dtype: int64"
      ]
     },
     "metadata": {},
     "output_type": "display_data"
    },
    {
     "name": "stdout",
     "output_type": "stream",
     "text": [
      "\n",
      "\n"
     ]
    },
    {
     "data": {
      "text/plain": [
       "ReceivedAmenities\n",
       "False    3653\n",
       "True     5040\n",
       "Name: count, dtype: int64"
      ]
     },
     "metadata": {},
     "output_type": "display_data"
    },
    {
     "name": "stdout",
     "output_type": "stream",
     "text": [
      "\n",
      "\n"
     ]
    }
   ],
   "source": [
    "display_column_value_counts(train_df)"
   ]
  },
  {
   "cell_type": "markdown",
   "id": "4498cd63-605e-47eb-8377-240c81e07f32",
   "metadata": {
    "editable": true,
    "slideshow": {
     "slide_type": ""
    },
    "tags": []
   },
   "source": [
    "### Encoding Preparation"
   ]
  },
  {
   "cell_type": "markdown",
   "id": "57cfa563-95d8-4a80-8ffb-48d822f5ae8a",
   "metadata": {},
   "source": [
    "We can't just take a categorical variable and put it into a machine learning model, since models can only work with numbers in matrices. Let's convert the categorical values into a matrix form by encoding them."
   ]
  },
  {
   "cell_type": "markdown",
   "id": "f0712c81-4ad1-4ce1-8e27-8cd8ccc99c62",
   "metadata": {
    "editable": true,
    "slideshow": {
     "slide_type": ""
    },
    "tags": []
   },
   "source": [
    "One-hot encoding will work for some categorical columns, the columns with few values and many rows for each of those values are. We will use target encoding for the other categorical columns"
   ]
  },
  {
   "cell_type": "markdown",
   "id": "30355dff-6fdf-479b-9827-b8b5e2918886",
   "metadata": {},
   "source": [
    "Let's split up the categorical columns into 2 arrays, one with the columns that'll be used for one-hot encoding, and another for the columns that'll be used for target encoding. The columns with 5 or less unique values will be used for one-hot encoding. We'll skip over the PassengerId values because they're all unique."
   ]
  },
  {
   "cell_type": "code",
   "execution_count": 545,
   "id": "6a99b6d8-965b-45cf-83d1-9f1bba8ff0fe",
   "metadata": {
    "editable": true,
    "slideshow": {
     "slide_type": ""
    },
    "tags": []
   },
   "outputs": [],
   "source": [
    "one_hot_encoding_columns = []\n",
    "target_encoding_columns = []\n",
    "\n",
    "for column in train_df.dtypes[train_df.dtypes == \"object\"].drop(\"PassengerId\").index:\n",
    "    if len(train_df[column].value_counts()) <= 5:\n",
    "        one_hot_encoding_columns.append(column)\n",
    "    else:\n",
    "        target_encoding_columns.append(column)"
   ]
  },
  {
   "cell_type": "markdown",
   "id": "bd229a67-a57b-4eb9-beb5-4239d1205c67",
   "metadata": {
    "editable": true,
    "slideshow": {
     "slide_type": ""
    },
    "tags": []
   },
   "source": [
    "Before we modify the dataframes, let's calculate the mutual info scores for the categorical variables."
   ]
  },
  {
   "cell_type": "markdown",
   "id": "dea11fc5-2a0e-4c98-81a0-c80ddba31c97",
   "metadata": {},
   "source": [
    "### Mutual Info Analysis"
   ]
  },
  {
   "cell_type": "code",
   "execution_count": 546,
   "id": "08bd27b3-7aae-4873-9ccb-54af1a2d53fd",
   "metadata": {
    "editable": true,
    "slideshow": {
     "slide_type": ""
    },
    "tags": []
   },
   "outputs": [
    {
     "data": {
      "text/html": [
       "<div>\n",
       "<style scoped>\n",
       "    .dataframe tbody tr th:only-of-type {\n",
       "        vertical-align: middle;\n",
       "    }\n",
       "\n",
       "    .dataframe tbody tr th {\n",
       "        vertical-align: top;\n",
       "    }\n",
       "\n",
       "    .dataframe thead th {\n",
       "        text-align: right;\n",
       "    }\n",
       "</style>\n",
       "<table border=\"1\" class=\"dataframe\">\n",
       "  <thead>\n",
       "    <tr style=\"text-align: right;\">\n",
       "      <th></th>\n",
       "      <th>mean</th>\n",
       "      <th>diff</th>\n",
       "      <th>risk</th>\n",
       "    </tr>\n",
       "    <tr>\n",
       "      <th>HomePlanet</th>\n",
       "      <th></th>\n",
       "      <th></th>\n",
       "      <th></th>\n",
       "    </tr>\n",
       "  </thead>\n",
       "  <tbody>\n",
       "    <tr>\n",
       "      <th>Earth</th>\n",
       "      <td>0.423946</td>\n",
       "      <td>-0.079677</td>\n",
       "      <td>0.841792</td>\n",
       "    </tr>\n",
       "    <tr>\n",
       "      <th>Europa</th>\n",
       "      <td>0.658846</td>\n",
       "      <td>0.155222</td>\n",
       "      <td>1.308210</td>\n",
       "    </tr>\n",
       "    <tr>\n",
       "      <th>Mars</th>\n",
       "      <td>0.523024</td>\n",
       "      <td>0.019401</td>\n",
       "      <td>1.038523</td>\n",
       "    </tr>\n",
       "    <tr>\n",
       "      <th>Other</th>\n",
       "      <td>0.512438</td>\n",
       "      <td>0.008814</td>\n",
       "      <td>1.017502</td>\n",
       "    </tr>\n",
       "  </tbody>\n",
       "</table>\n",
       "</div>"
      ],
      "text/plain": [
       "                mean      diff      risk\n",
       "HomePlanet                              \n",
       "Earth       0.423946 -0.079677  0.841792\n",
       "Europa      0.658846  0.155222  1.308210\n",
       "Mars        0.523024  0.019401  1.038523\n",
       "Other       0.512438  0.008814  1.017502"
      ]
     },
     "metadata": {},
     "output_type": "display_data"
    },
    {
     "data": {
      "text/html": [
       "<div>\n",
       "<style scoped>\n",
       "    .dataframe tbody tr th:only-of-type {\n",
       "        vertical-align: middle;\n",
       "    }\n",
       "\n",
       "    .dataframe tbody tr th {\n",
       "        vertical-align: top;\n",
       "    }\n",
       "\n",
       "    .dataframe thead th {\n",
       "        text-align: right;\n",
       "    }\n",
       "</style>\n",
       "<table border=\"1\" class=\"dataframe\">\n",
       "  <thead>\n",
       "    <tr style=\"text-align: right;\">\n",
       "      <th></th>\n",
       "      <th>mean</th>\n",
       "      <th>diff</th>\n",
       "      <th>risk</th>\n",
       "    </tr>\n",
       "    <tr>\n",
       "      <th>Destination</th>\n",
       "      <th></th>\n",
       "      <th></th>\n",
       "      <th></th>\n",
       "    </tr>\n",
       "  </thead>\n",
       "  <tbody>\n",
       "    <tr>\n",
       "      <th>55 Cancri e</th>\n",
       "      <td>0.610000</td>\n",
       "      <td>0.106376</td>\n",
       "      <td>1.211222</td>\n",
       "    </tr>\n",
       "    <tr>\n",
       "      <th>Other</th>\n",
       "      <td>0.505495</td>\n",
       "      <td>0.001871</td>\n",
       "      <td>1.003715</td>\n",
       "    </tr>\n",
       "    <tr>\n",
       "      <th>PSO J318.5-22</th>\n",
       "      <td>0.503769</td>\n",
       "      <td>0.000145</td>\n",
       "      <td>1.000288</td>\n",
       "    </tr>\n",
       "    <tr>\n",
       "      <th>TRAPPIST-1e</th>\n",
       "      <td>0.471175</td>\n",
       "      <td>-0.032449</td>\n",
       "      <td>0.935570</td>\n",
       "    </tr>\n",
       "  </tbody>\n",
       "</table>\n",
       "</div>"
      ],
      "text/plain": [
       "                   mean      diff      risk\n",
       "Destination                                \n",
       "55 Cancri e    0.610000  0.106376  1.211222\n",
       "Other          0.505495  0.001871  1.003715\n",
       "PSO J318.5-22  0.503769  0.000145  1.000288\n",
       "TRAPPIST-1e    0.471175 -0.032449  0.935570"
      ]
     },
     "metadata": {},
     "output_type": "display_data"
    },
    {
     "data": {
      "text/html": [
       "<div>\n",
       "<style scoped>\n",
       "    .dataframe tbody tr th:only-of-type {\n",
       "        vertical-align: middle;\n",
       "    }\n",
       "\n",
       "    .dataframe tbody tr th {\n",
       "        vertical-align: top;\n",
       "    }\n",
       "\n",
       "    .dataframe thead th {\n",
       "        text-align: right;\n",
       "    }\n",
       "</style>\n",
       "<table border=\"1\" class=\"dataframe\">\n",
       "  <thead>\n",
       "    <tr style=\"text-align: right;\">\n",
       "      <th></th>\n",
       "      <th>mean</th>\n",
       "      <th>diff</th>\n",
       "      <th>risk</th>\n",
       "    </tr>\n",
       "    <tr>\n",
       "      <th>CabinSide</th>\n",
       "      <th></th>\n",
       "      <th></th>\n",
       "      <th></th>\n",
       "    </tr>\n",
       "  </thead>\n",
       "  <tbody>\n",
       "    <tr>\n",
       "      <th>P</th>\n",
       "      <td>0.451260</td>\n",
       "      <td>-0.052364</td>\n",
       "      <td>0.896027</td>\n",
       "    </tr>\n",
       "    <tr>\n",
       "      <th>S</th>\n",
       "      <td>0.552708</td>\n",
       "      <td>0.049084</td>\n",
       "      <td>1.097462</td>\n",
       "    </tr>\n",
       "  </tbody>\n",
       "</table>\n",
       "</div>"
      ],
      "text/plain": [
       "               mean      diff      risk\n",
       "CabinSide                              \n",
       "P          0.451260 -0.052364  0.896027\n",
       "S          0.552708  0.049084  1.097462"
      ]
     },
     "metadata": {},
     "output_type": "display_data"
    },
    {
     "data": {
      "text/html": [
       "<div>\n",
       "<style scoped>\n",
       "    .dataframe tbody tr th:only-of-type {\n",
       "        vertical-align: middle;\n",
       "    }\n",
       "\n",
       "    .dataframe tbody tr th {\n",
       "        vertical-align: top;\n",
       "    }\n",
       "\n",
       "    .dataframe thead th {\n",
       "        text-align: right;\n",
       "    }\n",
       "</style>\n",
       "<table border=\"1\" class=\"dataframe\">\n",
       "  <thead>\n",
       "    <tr style=\"text-align: right;\">\n",
       "      <th></th>\n",
       "      <th>mean</th>\n",
       "      <th>diff</th>\n",
       "      <th>risk</th>\n",
       "    </tr>\n",
       "    <tr>\n",
       "      <th>PassengerGroup</th>\n",
       "      <th></th>\n",
       "      <th></th>\n",
       "      <th></th>\n",
       "    </tr>\n",
       "  </thead>\n",
       "  <tbody>\n",
       "    <tr>\n",
       "      <th>0001</th>\n",
       "      <td>0.000000</td>\n",
       "      <td>-0.503624</td>\n",
       "      <td>0.000000</td>\n",
       "    </tr>\n",
       "    <tr>\n",
       "      <th>0002</th>\n",
       "      <td>1.000000</td>\n",
       "      <td>0.496376</td>\n",
       "      <td>1.985610</td>\n",
       "    </tr>\n",
       "    <tr>\n",
       "      <th>0003</th>\n",
       "      <td>0.000000</td>\n",
       "      <td>-0.503624</td>\n",
       "      <td>0.000000</td>\n",
       "    </tr>\n",
       "    <tr>\n",
       "      <th>0004</th>\n",
       "      <td>1.000000</td>\n",
       "      <td>0.496376</td>\n",
       "      <td>1.985610</td>\n",
       "    </tr>\n",
       "    <tr>\n",
       "      <th>0005</th>\n",
       "      <td>1.000000</td>\n",
       "      <td>0.496376</td>\n",
       "      <td>1.985610</td>\n",
       "    </tr>\n",
       "    <tr>\n",
       "      <th>...</th>\n",
       "      <td>...</td>\n",
       "      <td>...</td>\n",
       "      <td>...</td>\n",
       "    </tr>\n",
       "    <tr>\n",
       "      <th>9275</th>\n",
       "      <td>0.666667</td>\n",
       "      <td>0.163043</td>\n",
       "      <td>1.323740</td>\n",
       "    </tr>\n",
       "    <tr>\n",
       "      <th>9276</th>\n",
       "      <td>0.000000</td>\n",
       "      <td>-0.503624</td>\n",
       "      <td>0.000000</td>\n",
       "    </tr>\n",
       "    <tr>\n",
       "      <th>9278</th>\n",
       "      <td>0.000000</td>\n",
       "      <td>-0.503624</td>\n",
       "      <td>0.000000</td>\n",
       "    </tr>\n",
       "    <tr>\n",
       "      <th>9279</th>\n",
       "      <td>1.000000</td>\n",
       "      <td>0.496376</td>\n",
       "      <td>1.985610</td>\n",
       "    </tr>\n",
       "    <tr>\n",
       "      <th>9280</th>\n",
       "      <td>0.500000</td>\n",
       "      <td>-0.003624</td>\n",
       "      <td>0.992805</td>\n",
       "    </tr>\n",
       "  </tbody>\n",
       "</table>\n",
       "<p>6217 rows × 3 columns</p>\n",
       "</div>"
      ],
      "text/plain": [
       "                    mean      diff      risk\n",
       "PassengerGroup                              \n",
       "0001            0.000000 -0.503624  0.000000\n",
       "0002            1.000000  0.496376  1.985610\n",
       "0003            0.000000 -0.503624  0.000000\n",
       "0004            1.000000  0.496376  1.985610\n",
       "0005            1.000000  0.496376  1.985610\n",
       "...                  ...       ...       ...\n",
       "9275            0.666667  0.163043  1.323740\n",
       "9276            0.000000 -0.503624  0.000000\n",
       "9278            0.000000 -0.503624  0.000000\n",
       "9279            1.000000  0.496376  1.985610\n",
       "9280            0.500000 -0.003624  0.992805\n",
       "\n",
       "[6217 rows x 3 columns]"
      ]
     },
     "metadata": {},
     "output_type": "display_data"
    },
    {
     "data": {
      "text/html": [
       "<div>\n",
       "<style scoped>\n",
       "    .dataframe tbody tr th:only-of-type {\n",
       "        vertical-align: middle;\n",
       "    }\n",
       "\n",
       "    .dataframe tbody tr th {\n",
       "        vertical-align: top;\n",
       "    }\n",
       "\n",
       "    .dataframe thead th {\n",
       "        text-align: right;\n",
       "    }\n",
       "</style>\n",
       "<table border=\"1\" class=\"dataframe\">\n",
       "  <thead>\n",
       "    <tr style=\"text-align: right;\">\n",
       "      <th></th>\n",
       "      <th>mean</th>\n",
       "      <th>diff</th>\n",
       "      <th>risk</th>\n",
       "    </tr>\n",
       "    <tr>\n",
       "      <th>PassengerNum</th>\n",
       "      <th></th>\n",
       "      <th></th>\n",
       "      <th></th>\n",
       "    </tr>\n",
       "  </thead>\n",
       "  <tbody>\n",
       "    <tr>\n",
       "      <th>01</th>\n",
       "      <td>0.475953</td>\n",
       "      <td>-0.027671</td>\n",
       "      <td>0.945057</td>\n",
       "    </tr>\n",
       "    <tr>\n",
       "      <th>02</th>\n",
       "      <td>0.558782</td>\n",
       "      <td>0.055158</td>\n",
       "      <td>1.109523</td>\n",
       "    </tr>\n",
       "    <tr>\n",
       "      <th>03</th>\n",
       "      <td>0.618214</td>\n",
       "      <td>0.114590</td>\n",
       "      <td>1.227531</td>\n",
       "    </tr>\n",
       "    <tr>\n",
       "      <th>04</th>\n",
       "      <td>0.593074</td>\n",
       "      <td>0.089450</td>\n",
       "      <td>1.177613</td>\n",
       "    </tr>\n",
       "    <tr>\n",
       "      <th>05</th>\n",
       "      <td>0.546875</td>\n",
       "      <td>0.043251</td>\n",
       "      <td>1.085880</td>\n",
       "    </tr>\n",
       "    <tr>\n",
       "      <th>06</th>\n",
       "      <td>0.546667</td>\n",
       "      <td>0.043043</td>\n",
       "      <td>1.085467</td>\n",
       "    </tr>\n",
       "    <tr>\n",
       "      <th>07</th>\n",
       "      <td>0.500000</td>\n",
       "      <td>-0.003624</td>\n",
       "      <td>0.992805</td>\n",
       "    </tr>\n",
       "    <tr>\n",
       "      <th>08</th>\n",
       "      <td>0.461538</td>\n",
       "      <td>-0.042085</td>\n",
       "      <td>0.916435</td>\n",
       "    </tr>\n",
       "  </tbody>\n",
       "</table>\n",
       "</div>"
      ],
      "text/plain": [
       "                  mean      diff      risk\n",
       "PassengerNum                              \n",
       "01            0.475953 -0.027671  0.945057\n",
       "02            0.558782  0.055158  1.109523\n",
       "03            0.618214  0.114590  1.227531\n",
       "04            0.593074  0.089450  1.177613\n",
       "05            0.546875  0.043251  1.085880\n",
       "06            0.546667  0.043043  1.085467\n",
       "07            0.500000 -0.003624  0.992805\n",
       "08            0.461538 -0.042085  0.916435"
      ]
     },
     "metadata": {},
     "output_type": "display_data"
    },
    {
     "data": {
      "text/html": [
       "<div>\n",
       "<style scoped>\n",
       "    .dataframe tbody tr th:only-of-type {\n",
       "        vertical-align: middle;\n",
       "    }\n",
       "\n",
       "    .dataframe tbody tr th {\n",
       "        vertical-align: top;\n",
       "    }\n",
       "\n",
       "    .dataframe thead th {\n",
       "        text-align: right;\n",
       "    }\n",
       "</style>\n",
       "<table border=\"1\" class=\"dataframe\">\n",
       "  <thead>\n",
       "    <tr style=\"text-align: right;\">\n",
       "      <th></th>\n",
       "      <th>mean</th>\n",
       "      <th>diff</th>\n",
       "      <th>risk</th>\n",
       "    </tr>\n",
       "    <tr>\n",
       "      <th>CabinDeck</th>\n",
       "      <th></th>\n",
       "      <th></th>\n",
       "      <th></th>\n",
       "    </tr>\n",
       "  </thead>\n",
       "  <tbody>\n",
       "    <tr>\n",
       "      <th>A</th>\n",
       "      <td>0.496094</td>\n",
       "      <td>-0.007530</td>\n",
       "      <td>0.985049</td>\n",
       "    </tr>\n",
       "    <tr>\n",
       "      <th>B</th>\n",
       "      <td>0.734275</td>\n",
       "      <td>0.230651</td>\n",
       "      <td>1.457983</td>\n",
       "    </tr>\n",
       "    <tr>\n",
       "      <th>C</th>\n",
       "      <td>0.680054</td>\n",
       "      <td>0.176430</td>\n",
       "      <td>1.350321</td>\n",
       "    </tr>\n",
       "    <tr>\n",
       "      <th>D</th>\n",
       "      <td>0.433054</td>\n",
       "      <td>-0.070569</td>\n",
       "      <td>0.859877</td>\n",
       "    </tr>\n",
       "    <tr>\n",
       "      <th>E</th>\n",
       "      <td>0.357306</td>\n",
       "      <td>-0.146318</td>\n",
       "      <td>0.709470</td>\n",
       "    </tr>\n",
       "    <tr>\n",
       "      <th>F</th>\n",
       "      <td>0.439871</td>\n",
       "      <td>-0.063752</td>\n",
       "      <td>0.873413</td>\n",
       "    </tr>\n",
       "    <tr>\n",
       "      <th>G</th>\n",
       "      <td>0.516217</td>\n",
       "      <td>0.012594</td>\n",
       "      <td>1.025006</td>\n",
       "    </tr>\n",
       "    <tr>\n",
       "      <th>Other</th>\n",
       "      <td>0.502513</td>\n",
       "      <td>-0.001111</td>\n",
       "      <td>0.997794</td>\n",
       "    </tr>\n",
       "    <tr>\n",
       "      <th>T</th>\n",
       "      <td>0.200000</td>\n",
       "      <td>-0.303624</td>\n",
       "      <td>0.397122</td>\n",
       "    </tr>\n",
       "  </tbody>\n",
       "</table>\n",
       "</div>"
      ],
      "text/plain": [
       "               mean      diff      risk\n",
       "CabinDeck                              \n",
       "A          0.496094 -0.007530  0.985049\n",
       "B          0.734275  0.230651  1.457983\n",
       "C          0.680054  0.176430  1.350321\n",
       "D          0.433054 -0.070569  0.859877\n",
       "E          0.357306 -0.146318  0.709470\n",
       "F          0.439871 -0.063752  0.873413\n",
       "G          0.516217  0.012594  1.025006\n",
       "Other      0.502513 -0.001111  0.997794\n",
       "T          0.200000 -0.303624  0.397122"
      ]
     },
     "metadata": {},
     "output_type": "display_data"
    },
    {
     "data": {
      "text/html": [
       "<div>\n",
       "<style scoped>\n",
       "    .dataframe tbody tr th:only-of-type {\n",
       "        vertical-align: middle;\n",
       "    }\n",
       "\n",
       "    .dataframe tbody tr th {\n",
       "        vertical-align: top;\n",
       "    }\n",
       "\n",
       "    .dataframe thead th {\n",
       "        text-align: right;\n",
       "    }\n",
       "</style>\n",
       "<table border=\"1\" class=\"dataframe\">\n",
       "  <thead>\n",
       "    <tr style=\"text-align: right;\">\n",
       "      <th></th>\n",
       "      <th>mean</th>\n",
       "      <th>diff</th>\n",
       "      <th>risk</th>\n",
       "    </tr>\n",
       "    <tr>\n",
       "      <th>FirstName</th>\n",
       "      <th></th>\n",
       "      <th></th>\n",
       "      <th></th>\n",
       "    </tr>\n",
       "  </thead>\n",
       "  <tbody>\n",
       "    <tr>\n",
       "      <th>Aard</th>\n",
       "      <td>0.0</td>\n",
       "      <td>-0.503624</td>\n",
       "      <td>0.000000</td>\n",
       "    </tr>\n",
       "    <tr>\n",
       "      <th>Aarjel</th>\n",
       "      <td>0.0</td>\n",
       "      <td>-0.503624</td>\n",
       "      <td>0.000000</td>\n",
       "    </tr>\n",
       "    <tr>\n",
       "      <th>Aark</th>\n",
       "      <td>0.5</td>\n",
       "      <td>-0.003624</td>\n",
       "      <td>0.992805</td>\n",
       "    </tr>\n",
       "    <tr>\n",
       "      <th>Aarone</th>\n",
       "      <td>0.5</td>\n",
       "      <td>-0.003624</td>\n",
       "      <td>0.992805</td>\n",
       "    </tr>\n",
       "    <tr>\n",
       "      <th>Aars</th>\n",
       "      <td>1.0</td>\n",
       "      <td>0.496376</td>\n",
       "      <td>1.985610</td>\n",
       "    </tr>\n",
       "    <tr>\n",
       "      <th>...</th>\n",
       "      <td>...</td>\n",
       "      <td>...</td>\n",
       "      <td>...</td>\n",
       "    </tr>\n",
       "    <tr>\n",
       "      <th>Zinor</th>\n",
       "      <td>0.0</td>\n",
       "      <td>-0.503624</td>\n",
       "      <td>0.000000</td>\n",
       "    </tr>\n",
       "    <tr>\n",
       "      <th>Zinoth</th>\n",
       "      <td>0.0</td>\n",
       "      <td>-0.503624</td>\n",
       "      <td>0.000000</td>\n",
       "    </tr>\n",
       "    <tr>\n",
       "      <th>Zosmark</th>\n",
       "      <td>1.0</td>\n",
       "      <td>0.496376</td>\n",
       "      <td>1.985610</td>\n",
       "    </tr>\n",
       "    <tr>\n",
       "      <th>Zosmas</th>\n",
       "      <td>1.0</td>\n",
       "      <td>0.496376</td>\n",
       "      <td>1.985610</td>\n",
       "    </tr>\n",
       "    <tr>\n",
       "      <th>Zubeneb</th>\n",
       "      <td>0.5</td>\n",
       "      <td>-0.003624</td>\n",
       "      <td>0.992805</td>\n",
       "    </tr>\n",
       "  </tbody>\n",
       "</table>\n",
       "<p>2707 rows × 3 columns</p>\n",
       "</div>"
      ],
      "text/plain": [
       "           mean      diff      risk\n",
       "FirstName                          \n",
       "Aard        0.0 -0.503624  0.000000\n",
       "Aarjel      0.0 -0.503624  0.000000\n",
       "Aark        0.5 -0.003624  0.992805\n",
       "Aarone      0.5 -0.003624  0.992805\n",
       "Aars        1.0  0.496376  1.985610\n",
       "...         ...       ...       ...\n",
       "Zinor       0.0 -0.503624  0.000000\n",
       "Zinoth      0.0 -0.503624  0.000000\n",
       "Zosmark     1.0  0.496376  1.985610\n",
       "Zosmas      1.0  0.496376  1.985610\n",
       "Zubeneb     0.5 -0.003624  0.992805\n",
       "\n",
       "[2707 rows x 3 columns]"
      ]
     },
     "metadata": {},
     "output_type": "display_data"
    },
    {
     "data": {
      "text/html": [
       "<div>\n",
       "<style scoped>\n",
       "    .dataframe tbody tr th:only-of-type {\n",
       "        vertical-align: middle;\n",
       "    }\n",
       "\n",
       "    .dataframe tbody tr th {\n",
       "        vertical-align: top;\n",
       "    }\n",
       "\n",
       "    .dataframe thead th {\n",
       "        text-align: right;\n",
       "    }\n",
       "</style>\n",
       "<table border=\"1\" class=\"dataframe\">\n",
       "  <thead>\n",
       "    <tr style=\"text-align: right;\">\n",
       "      <th></th>\n",
       "      <th>mean</th>\n",
       "      <th>diff</th>\n",
       "      <th>risk</th>\n",
       "    </tr>\n",
       "    <tr>\n",
       "      <th>LastName</th>\n",
       "      <th></th>\n",
       "      <th></th>\n",
       "      <th></th>\n",
       "    </tr>\n",
       "  </thead>\n",
       "  <tbody>\n",
       "    <tr>\n",
       "      <th>Acobson</th>\n",
       "      <td>0.250000</td>\n",
       "      <td>-0.253624</td>\n",
       "      <td>0.496402</td>\n",
       "    </tr>\n",
       "    <tr>\n",
       "      <th>Acobsond</th>\n",
       "      <td>0.333333</td>\n",
       "      <td>-0.170290</td>\n",
       "      <td>0.661870</td>\n",
       "    </tr>\n",
       "    <tr>\n",
       "      <th>Adavisons</th>\n",
       "      <td>0.444444</td>\n",
       "      <td>-0.059179</td>\n",
       "      <td>0.882493</td>\n",
       "    </tr>\n",
       "    <tr>\n",
       "      <th>Adkinson</th>\n",
       "      <td>0.000000</td>\n",
       "      <td>-0.503624</td>\n",
       "      <td>0.000000</td>\n",
       "    </tr>\n",
       "    <tr>\n",
       "      <th>Admingried</th>\n",
       "      <td>0.750000</td>\n",
       "      <td>0.246376</td>\n",
       "      <td>1.489207</td>\n",
       "    </tr>\n",
       "    <tr>\n",
       "      <th>...</th>\n",
       "      <td>...</td>\n",
       "      <td>...</td>\n",
       "      <td>...</td>\n",
       "    </tr>\n",
       "    <tr>\n",
       "      <th>Wynneyerson</th>\n",
       "      <td>0.500000</td>\n",
       "      <td>-0.003624</td>\n",
       "      <td>0.992805</td>\n",
       "    </tr>\n",
       "    <tr>\n",
       "      <th>Yanton</th>\n",
       "      <td>0.285714</td>\n",
       "      <td>-0.217909</td>\n",
       "      <td>0.567317</td>\n",
       "    </tr>\n",
       "    <tr>\n",
       "      <th>Yatters</th>\n",
       "      <td>0.500000</td>\n",
       "      <td>-0.003624</td>\n",
       "      <td>0.992805</td>\n",
       "    </tr>\n",
       "    <tr>\n",
       "      <th>Yorkland</th>\n",
       "      <td>0.636364</td>\n",
       "      <td>0.132740</td>\n",
       "      <td>1.263570</td>\n",
       "    </tr>\n",
       "    <tr>\n",
       "      <th>Youngrayes</th>\n",
       "      <td>0.333333</td>\n",
       "      <td>-0.170290</td>\n",
       "      <td>0.661870</td>\n",
       "    </tr>\n",
       "  </tbody>\n",
       "</table>\n",
       "<p>2218 rows × 3 columns</p>\n",
       "</div>"
      ],
      "text/plain": [
       "                 mean      diff      risk\n",
       "LastName                                 \n",
       "Acobson      0.250000 -0.253624  0.496402\n",
       "Acobsond     0.333333 -0.170290  0.661870\n",
       "Adavisons    0.444444 -0.059179  0.882493\n",
       "Adkinson     0.000000 -0.503624  0.000000\n",
       "Admingried   0.750000  0.246376  1.489207\n",
       "...               ...       ...       ...\n",
       "Wynneyerson  0.500000 -0.003624  0.992805\n",
       "Yanton       0.285714 -0.217909  0.567317\n",
       "Yatters      0.500000 -0.003624  0.992805\n",
       "Yorkland     0.636364  0.132740  1.263570\n",
       "Youngrayes   0.333333 -0.170290  0.661870\n",
       "\n",
       "[2218 rows x 3 columns]"
      ]
     },
     "metadata": {},
     "output_type": "display_data"
    }
   ],
   "source": [
    "global_mean = train_df[\"Transported\"].mean()\n",
    "\n",
    "for col in one_hot_encoding_columns + target_encoding_columns:\n",
    "    df_group = train_df.groupby(by=col)[\"Transported\"].agg([\"mean\"])\n",
    "    df_group[\"diff\"] = df_group[\"mean\"] - global_mean\n",
    "    df_group[\"risk\"] = df_group[\"mean\"] / global_mean\n",
    "    display(df_group)"
   ]
  },
  {
   "cell_type": "markdown",
   "id": "178f2e9d-d986-4b28-b53a-75fdecd50ac2",
   "metadata": {},
   "source": [
    "It seems like the CabinDeck feature will be the most important feature for us out of the features with few values, let's verify it."
   ]
  },
  {
   "cell_type": "code",
   "execution_count": 547,
   "id": "acab0b31-a517-4ef9-a2e7-c2d029cf7a17",
   "metadata": {
    "editable": true,
    "slideshow": {
     "slide_type": ""
    },
    "tags": []
   },
   "outputs": [
    {
     "data": {
      "text/html": [
       "<div>\n",
       "<style scoped>\n",
       "    .dataframe tbody tr th:only-of-type {\n",
       "        vertical-align: middle;\n",
       "    }\n",
       "\n",
       "    .dataframe tbody tr th {\n",
       "        vertical-align: top;\n",
       "    }\n",
       "\n",
       "    .dataframe thead th {\n",
       "        text-align: right;\n",
       "    }\n",
       "</style>\n",
       "<table border=\"1\" class=\"dataframe\">\n",
       "  <thead>\n",
       "    <tr style=\"text-align: right;\">\n",
       "      <th></th>\n",
       "      <th>MI</th>\n",
       "    </tr>\n",
       "  </thead>\n",
       "  <tbody>\n",
       "    <tr>\n",
       "      <th>PassengerGroup</th>\n",
       "      <td>0.512914</td>\n",
       "    </tr>\n",
       "    <tr>\n",
       "      <th>FirstName</th>\n",
       "      <td>0.223909</td>\n",
       "    </tr>\n",
       "    <tr>\n",
       "      <th>LastName</th>\n",
       "      <td>0.185493</td>\n",
       "    </tr>\n",
       "    <tr>\n",
       "      <th>CabinDeck</th>\n",
       "      <td>0.023157</td>\n",
       "    </tr>\n",
       "    <tr>\n",
       "      <th>HomePlanet</th>\n",
       "      <td>0.018931</td>\n",
       "    </tr>\n",
       "    <tr>\n",
       "      <th>Destination</th>\n",
       "      <td>0.006161</td>\n",
       "    </tr>\n",
       "    <tr>\n",
       "      <th>CabinSide</th>\n",
       "      <td>0.005149</td>\n",
       "    </tr>\n",
       "    <tr>\n",
       "      <th>PassengerNum</th>\n",
       "      <td>0.004350</td>\n",
       "    </tr>\n",
       "  </tbody>\n",
       "</table>\n",
       "</div>"
      ],
      "text/plain": [
       "                      MI\n",
       "PassengerGroup  0.512914\n",
       "FirstName       0.223909\n",
       "LastName        0.185493\n",
       "CabinDeck       0.023157\n",
       "HomePlanet      0.018931\n",
       "Destination     0.006161\n",
       "CabinSide       0.005149\n",
       "PassengerNum    0.004350"
      ]
     },
     "execution_count": 547,
     "metadata": {},
     "output_type": "execute_result"
    }
   ],
   "source": [
    "from sklearn.metrics import mutual_info_score\n",
    "\n",
    "def calculate_mi(series):\n",
    "    return mutual_info_score(series, train_df[\"Transported\"])\n",
    "\n",
    "df_mi = train_df[one_hot_encoding_columns + target_encoding_columns].apply(calculate_mi)\n",
    "df_mi = df_mi.sort_values(ascending=False).to_frame(name=\"MI\")\n",
    "df_mi"
   ]
  },
  {
   "cell_type": "markdown",
   "id": "d5de608e-fbd6-4fba-9404-0eb3a1a562b0",
   "metadata": {},
   "source": [
    "Features with almost all unique values (PassengerId for example) often appear to have high mutual info scores. A reason for this is because it's overfitting to noise. What this means is that if a feature has a unique value for almost every sample, it can artificially appear to have a strong relationship with the target variable. This is because the model can \"memorize\" the target value for each uniqeu feature value, leading to a high mutual info score."
   ]
  },
  {
   "cell_type": "markdown",
   "id": "86828f83-5da1-44d3-973f-1c2538bb2cbd",
   "metadata": {},
   "source": [
    "The high mutual info scores for features with unique values are likely false positives. These features are not truly informative for predicting the target variable in a meaningful way. Let's remove the PassengerGroup feature, and replace it with GroupSize, since that'll have only 8 unique values. We can remove the PassengerGroup and PassengerId features as well, since the GroupSize feature will be a lot more helpful for our models due to less overfitting."
   ]
  },
  {
   "cell_type": "code",
   "execution_count": 548,
   "id": "28a9bdbc-f9be-4066-857c-8901f28a542a",
   "metadata": {},
   "outputs": [],
   "source": [
    "def data_preparation_3(df):\n",
    "    df[\"GroupSize\"] = df.groupby(\"PassengerGroup\")[\"PassengerGroup\"].transform(\"count\")\n",
    "    df.drop(columns=[\"PassengerGroup\"], inplace=True)\n",
    "    df.drop(columns=[\"PassengerId\"], inplace=True)\n",
    "\n",
    "data_preparation_3(train_df)\n",
    "data_preparation_3(test_df)\n",
    "\n",
    "target_encoding_columns.remove(\"PassengerGroup\")"
   ]
  },
  {
   "cell_type": "markdown",
   "id": "93d7d841-2138-4900-a77a-8627c4dbb67e",
   "metadata": {},
   "source": [
    "Now we can start encoding, let's do one-hot encoding first."
   ]
  },
  {
   "cell_type": "markdown",
   "id": "1ed85a42-90b7-40f8-b04b-76689503eca0",
   "metadata": {
    "editable": true,
    "slideshow": {
     "slide_type": ""
    },
    "tags": []
   },
   "source": [
    "### One-Hot Encoding"
   ]
  },
  {
   "cell_type": "code",
   "execution_count": 549,
   "id": "3eb07f7f-37c7-4bc1-b41b-bbf9ed9040eb",
   "metadata": {
    "editable": true,
    "slideshow": {
     "slide_type": ""
    },
    "tags": []
   },
   "outputs": [],
   "source": [
    "encoder = OneHotEncoder(sparse_output=False, handle_unknown=\"ignore\")  # Use `sparse_output=False` for dense arrays\n",
    "encoder.fit(train_df[one_hot_encoding_columns])\n",
    "\n",
    "train_encoded = encoder.transform(train_df[one_hot_encoding_columns])\n",
    "test_encoded = encoder.transform(test_df[one_hot_encoding_columns])\n",
    "\n",
    "encoded_feature_names = encoder.get_feature_names_out(one_hot_encoding_columns)\n",
    "\n",
    "train_encoded_df = pd.DataFrame(train_encoded, columns=encoded_feature_names, index=train_df.index)\n",
    "test_encoded_df = pd.DataFrame(test_encoded, columns=encoded_feature_names, index=test_df.index)\n",
    "\n",
    "train_df = train_df.drop(columns=one_hot_encoding_columns).join(train_encoded_df)\n",
    "test_df = test_df.drop(columns=one_hot_encoding_columns).join(test_encoded_df)"
   ]
  },
  {
   "cell_type": "markdown",
   "id": "9bf7ca57-6274-4f7f-97e1-e355827df550",
   "metadata": {
    "editable": true,
    "slideshow": {
     "slide_type": ""
    },
    "tags": []
   },
   "source": [
    "Target encoding will be used for the categorical columns that we haven't encoded yet."
   ]
  },
  {
   "cell_type": "markdown",
   "id": "bb67e842-3864-44b6-92c0-11f45126762e",
   "metadata": {},
   "source": [
    "### Target Encoding"
   ]
  },
  {
   "cell_type": "code",
   "execution_count": 550,
   "id": "0a533b8f-0d4c-4460-946a-ffe8363c1727",
   "metadata": {
    "editable": true,
    "slideshow": {
     "slide_type": ""
    },
    "tags": []
   },
   "outputs": [],
   "source": [
    "def data_preparation_4(df):\n",
    "    for category in target_encoding_columns:\n",
    "        category_means = train_df.groupby(category)[\"Transported\"].mean()\n",
    "        df[category] = df[category].map(category_means)\n",
    "        df[category] = df[category].fillna(global_mean)  # we'll use this in case test_df has some values that don't appear in train_df, such as names that don't appear\n",
    "\n",
    "# we modify test_df first because the category_means values will change once we modify train_df\n",
    "data_preparation_4(test_df)\n",
    "data_preparation_4(train_df)"
   ]
  },
  {
   "cell_type": "code",
   "execution_count": 551,
   "id": "ffa386a8-bf7b-4c81-9aa5-a71c67df5163",
   "metadata": {
    "editable": true,
    "slideshow": {
     "slide_type": ""
    },
    "tags": []
   },
   "outputs": [
    {
     "data": {
      "text/plain": [
       "array([ True,  True,  True,  True,  True,  True,  True,  True,  True,\n",
       "        True,  True,  True,  True,  True,  True,  True,  True,  True,\n",
       "        True,  True,  True,  True,  True,  True,  True,  True,  True])"
      ]
     },
     "execution_count": 551,
     "metadata": {},
     "output_type": "execute_result"
    }
   ],
   "source": [
    "train_df.columns.drop(\"Transported\") == test_df.columns"
   ]
  },
  {
   "cell_type": "markdown",
   "id": "d33358e6-a434-4329-bde2-735f9a581b12",
   "metadata": {
    "editable": true,
    "slideshow": {
     "slide_type": ""
    },
    "tags": []
   },
   "source": [
    "The columns match up for both dataframes, and our data seems to be looking good now, let's start some modeling."
   ]
  },
  {
   "cell_type": "markdown",
   "id": "c8a58745-9734-4217-8aac-03c8c9cf3a44",
   "metadata": {},
   "source": [
    "## Step 4: Modeling"
   ]
  },
  {
   "cell_type": "markdown",
   "id": "81e8b3b9-9b80-4a56-b20c-e5306bbdef53",
   "metadata": {},
   "source": [
    "This is where we build various models and evaluate them. Before testing any models, we can split train_df into train_split_df and val_split_df dataframes. This is helpful because we can evaluate all models on the same validation set, and we can avoid data leakage by keeping the test_df completely untouched until the final evaluation."
   ]
  },
  {
   "cell_type": "code",
   "execution_count": 552,
   "id": "cc8d4d1d-e6c1-41f3-a2fa-73d367eb08a8",
   "metadata": {
    "editable": true,
    "slideshow": {
     "slide_type": ""
    },
    "tags": []
   },
   "outputs": [],
   "source": [
    "X_train, X_val, y_train, y_val = train_test_split(\n",
    "    train_df.drop(columns=[\"Transported\"]),\n",
    "    train_df[\"Transported\"],\n",
    "    test_size=0.2,\n",
    "    random_state=1\n",
    ")"
   ]
  },
  {
   "cell_type": "markdown",
   "id": "8be15cdc-c4c4-47e5-84ca-aa79309e3200",
   "metadata": {},
   "source": [
    "We will test a few models, starting with simpler models and gradually moving to more complex ones. This helps us establish a baseline and understand whether the added complexity of advanced models is justified."
   ]
  },
  {
   "cell_type": "code",
   "execution_count": 553,
   "id": "fcc9773f-c5e0-4901-9341-b5f09b20a98b",
   "metadata": {
    "editable": true,
    "slideshow": {
     "slide_type": ""
    },
    "tags": []
   },
   "outputs": [],
   "source": [
    "X_train = train_df.drop(columns=[\"Transported\"])\n",
    "y_train = train_df[\"Transported\"]"
   ]
  },
  {
   "cell_type": "markdown",
   "id": "89741974-9a60-4c94-9a9d-5945385b32a6",
   "metadata": {
    "editable": true,
    "slideshow": {
     "slide_type": ""
    },
    "tags": []
   },
   "source": [
    "### Logistic Regression"
   ]
  },
  {
   "cell_type": "markdown",
   "id": "21fa13e5-c6a2-4f2e-8a6a-c2f489c1beda",
   "metadata": {
    "editable": true,
    "slideshow": {
     "slide_type": ""
    },
    "tags": []
   },
   "source": [
    "Logistic Regression is a linear model for binary classification that predicts probabilities using a logistic function, ideal for straightforward relationships between features and outcomes."
   ]
  },
  {
   "cell_type": "code",
   "execution_count": 554,
   "id": "e5f409e8-afd1-4a9d-928f-ce1ff2613ff7",
   "metadata": {
    "editable": true,
    "slideshow": {
     "slide_type": ""
    },
    "tags": []
   },
   "outputs": [],
   "source": [
    "logistic_regression = LogisticRegression(solver=\"liblinear\", random_state=1)\n",
    "logistic_regression.fit(X_train, y_train)\n",
    "y_pred_logistic_regression = logistic_regression.predict(X_val)  # binary predictions (0 or 1)\n",
    "\"\"\"\n",
    "The predict_proba function in scikit-learn returns two columns because it provides the probability of each sample belonging\n",
    "to each class in a binary classification problem. The first column represents the probability that a sample belongs to\n",
    "class 0 (not Transported), and the second column represents the probability that a sample belongs to class 1 (Transported).\n",
    "\"\"\"\n",
    "y_pred_logistic_regression_proba = logistic_regression.predict_proba(X_val)[:, 1]  # probabilities for ROC-AUC"
   ]
  },
  {
   "cell_type": "markdown",
   "id": "e0b1fcd9-7831-4033-991e-a82c9aa9ac41",
   "metadata": {},
   "source": [
    "### Ridge Classifier"
   ]
  },
  {
   "cell_type": "markdown",
   "id": "14887223-7ab3-4593-9076-cb2c3996ade0",
   "metadata": {},
   "source": [
    "Ridge Classifier is a regularized version of logistic regression that adds an L2 penalty to prevent overfitting, useful for handling correlated features."
   ]
  },
  {
   "cell_type": "markdown",
   "id": "f2769d8a-689b-4baf-ac44-9190d359cf98",
   "metadata": {
    "editable": true,
    "slideshow": {
     "slide_type": ""
    },
    "tags": []
   },
   "source": [
    "The L2 penalty is a regularization term added to the loss function that penalizes large coefficients, encouraging smaller and more balanced weights to prevent overfitting. It helps improve model generalization by reducing the impact of less important features."
   ]
  },
  {
   "cell_type": "markdown",
   "id": "e9ad0d7b-d304-4130-9207-0eedc121abed",
   "metadata": {},
   "source": [
    "The Ridge Classifier is essentially a Ridge Regression model applied to classification problems. It treats the classification task as a regression problem by encoding the target labels as numerical values (e.g., -1 and 1 for binary classification). This is why we don't get probabilities with RidgeClassifier."
   ]
  },
  {
   "cell_type": "code",
   "execution_count": 555,
   "id": "ea8a9bd7-d109-44c7-a06d-91f00a283025",
   "metadata": {},
   "outputs": [],
   "source": [
    "ridge_classifier = RidgeClassifier(random_state=1)\n",
    "ridge_classifier.fit(X_train, y_train)\n",
    "y_pred_ridge_classifier = ridge_classifier.predict(X_val)"
   ]
  },
  {
   "cell_type": "markdown",
   "id": "672649a5-2acd-4f6e-9e33-deb94e41dcad",
   "metadata": {},
   "source": [
    "### Support Vector Machines"
   ]
  },
  {
   "cell_type": "markdown",
   "id": "402d7b2e-fa99-49e8-93ba-46f6a3a31d7b",
   "metadata": {},
   "source": [
    "Support Vector Machines (SVM) are supervised learning models that find the optimal hyperplane to separate data points into different classes by maximizing the margin between the closest points of each class."
   ]
  },
  {
   "cell_type": "code",
   "execution_count": 556,
   "id": "9db7804a-3790-4113-bdb7-24ab27aa9f5a",
   "metadata": {},
   "outputs": [],
   "source": [
    "support_vector_machines = SVC(probability=True, random_state=1)\n",
    "support_vector_machines.fit(X_train, y_train)\n",
    "y_pred_support_vector_machines = support_vector_machines.predict(X_val)\n",
    "y_pred_support_vector_machines_proba = support_vector_machines.predict_proba(X_val)[:, 1]  # the SVC class in scikit-learn does not provide probability estimates by default. You need to explicitly enable probability estimation by setting probability=True when initializing the model."
   ]
  },
  {
   "cell_type": "markdown",
   "id": "76547da8-d482-46fe-a1ba-2a1dbd13a90f",
   "metadata": {},
   "source": [
    "### Random Forest"
   ]
  },
  {
   "cell_type": "markdown",
   "id": "9c1db030-c970-40c0-bce5-bbe38b083dfd",
   "metadata": {},
   "source": [
    "Random forest is an ensemble learning method that builds multiple decision trees during training and combines their predictions. Ensemble learning is a machine learning technique that improves the performance of predictive models by combining the predictions from multiple models."
   ]
  },
  {
   "cell_type": "code",
   "execution_count": 557,
   "id": "eb175016-c0ca-4fa8-9904-fd1aaf8c25f1",
   "metadata": {},
   "outputs": [],
   "source": [
    "random_forest_classifier = RandomForestClassifier(n_estimators=10, random_state=1)\n",
    "random_forest_classifier.fit(X_train, y_train)\n",
    "y_pred_random_forest_classifier = random_forest_classifier.predict(X_val)\n",
    "y_pred_random_forest_classifier_proba = random_forest_classifier.predict_proba(X_val)[:, 1]"
   ]
  },
  {
   "cell_type": "markdown",
   "id": "6e1f285f-c4ae-46a9-8345-8dca1886ae8c",
   "metadata": {},
   "source": [
    "### XGBoost"
   ]
  },
  {
   "cell_type": "markdown",
   "id": "b73af2e7-2ea9-40db-a392-164c243bf9e0",
   "metadata": {},
   "source": [
    "XGBoost is another ensemble learning method, and it is a scalable and efficient implementation of gradient boosting, which builds trees sequentially, with each tree correcting the errors of the previous one."
   ]
  },
  {
   "cell_type": "code",
   "execution_count": 558,
   "id": "b1dc49f5-48a1-4982-8755-cc665e89ce36",
   "metadata": {},
   "outputs": [],
   "source": [
    "xgboost = XGBClassifier(random_state=1)\n",
    "xgboost.fit(X_train, y_train)\n",
    "y_pred_xgboost = xgboost.predict(X_val)\n",
    "y_pred_xgboost_proba = xgboost.predict_proba(X_val)[:, 1]"
   ]
  },
  {
   "cell_type": "markdown",
   "id": "5b6d03ce-d7ae-490f-b18c-105f6156ec24",
   "metadata": {},
   "source": [
    "## Step 5: Evaluation"
   ]
  },
  {
   "cell_type": "markdown",
   "id": "7d7227b3-e537-47e0-ae9e-f7aa68fd01a5",
   "metadata": {},
   "source": [
    "We'll use several metrics to help us evaluate the models we made:\n",
    "\n",
    "- Root-Mean-Squared-Error (RMSE): Measures the average magnitude of prediction errors, giving more weight to larger errors.\n",
    "- Mean-Absolute-Error (MAE): Measures the average absolute differences between predicted and actual values.\n",
    "- R²: Represents the proportion of variance in the target variable explained by the model.\n",
    "- Accuracy Score: Measures the proportion of correctly classified instances out of the total instances.\n",
    "- ROC-AUC Score: Represents the model's ability to distinguish between classes, with 1 indicating perfect classification.\n",
    "- ROC Curve: A graphical plot showing the trade-off between True Positive Rate (TPR) and False Positive Rate (FPR) at various thresholds."
   ]
  },
  {
   "cell_type": "markdown",
   "id": "38485e34-03a9-431d-a8ca-2766570f5ba4",
   "metadata": {},
   "source": [
    "We can create some functions that help us evaluate the models we made."
   ]
  },
  {
   "cell_type": "code",
   "execution_count": 559,
   "id": "6e97c18a-1c0d-4b31-9be8-be502225cf55",
   "metadata": {},
   "outputs": [],
   "source": [
    "thresholds = np.linspace(0, 1, 21)\n",
    "\n",
    "def evaluate_model(y_val, y_val_pred, y_val_proba=None):\n",
    "    metrics = {\n",
    "        \"RMSE\": np.sqrt(mean_squared_error(y_val, y_val_pred)),\n",
    "        \"MAE\": mean_absolute_error(y_val, y_val_pred),\n",
    "        \"R²\": r2_score(y_val, y_val_pred),\n",
    "        \"Accuracy\": accuracy_score(y_val, y_val_pred)\n",
    "    }\n",
    "\n",
    "    if y_val_proba is not None:\n",
    "        metrics[\"ROC-AUC\"] = roc_auc_score(y_val, y_val_proba)\n",
    "        fpr, tpr, _ = roc_curve(y_val, y_val_proba)\n",
    "        metrics[\"ROC Curve\"] = (fpr, tpr)  # store FPR and TPR for plotting\n",
    "        metrics[\"Accuracies\"] = [(threshold, accuracy_score(y_val, y_val_proba >= threshold)) for threshold in thresholds]\n",
    "        \n",
    "    return metrics"
   ]
  },
  {
   "cell_type": "code",
   "execution_count": 560,
   "id": "52160278-6746-4e78-9287-d2675ba13377",
   "metadata": {},
   "outputs": [],
   "source": [
    "def plot_curve(x, y, xlabel, ylabel, title, label, grid=False, xticks=[], roc_curve=False):\n",
    "    plt.plot(x, y, label=label)\n",
    "    plt.xlabel(xlabel)\n",
    "    plt.ylabel(ylabel)\n",
    "    plt.title(title)\n",
    "    plt.grid(grid)\n",
    "    if len(xticks) > 0:\n",
    "        plt.xticks(xticks)\n",
    "    if roc_curve:\n",
    "        plt.plot([0, 1], [0, 1], linestyle=\"--\", label=\"Random Model\")\n",
    "    plt.legend()\n",
    "    plt.show()"
   ]
  },
  {
   "cell_type": "markdown",
   "id": "4c39bf8c-6176-4912-affb-052b615c83a1",
   "metadata": {},
   "source": [
    "Now let's see how the models stack up."
   ]
  },
  {
   "cell_type": "markdown",
   "id": "a8bd424d-f1e1-4b5f-8e7a-da2aeb22fbba",
   "metadata": {},
   "source": [
    "### Evaluating the Models"
   ]
  },
  {
   "cell_type": "code",
   "execution_count": 561,
   "id": "5bd85993-a8d3-41a1-bf77-a7314014dbf8",
   "metadata": {},
   "outputs": [],
   "source": [
    "def get_model_metrics(specific_model=None):\n",
    "    if specific_model is None:\n",
    "        metrics_dictionary = {\n",
    "            \"Logistic Regression\": evaluate_model(y_val, y_pred_logistic_regression, y_pred_logistic_regression_proba),\n",
    "            \"Ridge Classifier\": evaluate_model(y_val, y_pred_ridge_classifier),\n",
    "            \"Random Forest Classifier\": evaluate_model(y_val, y_pred_random_forest_classifier, y_pred_random_forest_classifier_proba),\n",
    "            \"Support Vector Machines\": evaluate_model(y_val, y_pred_support_vector_machines, y_pred_support_vector_machines_proba),\n",
    "            \"XGBoost\": evaluate_model(y_val, y_pred_xgboost, y_pred_xgboost_proba)\n",
    "        }\n",
    "    else:\n",
    "        metrics_dictionary = specific_model\n",
    "    \n",
    "    for model_string, evaluated_model in metrics_dictionary.items():\n",
    "        print(\"\")\n",
    "        print(f\"{model_string}:\\n\")\n",
    "        for metric, value in evaluated_model.items():\n",
    "            if metric == \"Accuracies\":\n",
    "                x, y = zip(*value)  # this is basically x = [value[i][0] for i in range(len(value))], y = [value[i][1] for i in range(len(value))]\n",
    "                plot_curve(\n",
    "                    x,\n",
    "                    y,\n",
    "                    xlabel=\"Threshold\",\n",
    "                    ylabel=\"Accuracy\",\n",
    "                    title=f\"{model_string} Accuracy Curve\",\n",
    "                    label=f\"Accuracy (Accuracy Score = {evaluated_model.get('Accuracy', 'N/A'):.4f}\",\n",
    "                    grid=True,\n",
    "                    xticks=np.arange(0, 1.1, 0.1)\n",
    "                )\n",
    "            elif metric == \"ROC Curve\":\n",
    "                print(\"\")\n",
    "                fpr, tpr = metrics_dictionary[model_string][\"ROC Curve\"]\n",
    "                plot_curve(\n",
    "                    fpr,\n",
    "                    tpr,\n",
    "                    xlabel=\"False Positive Rate (FPR)\",\n",
    "                    ylabel=\"True Positive Rate (TPR)\",\n",
    "                    title=f\"{model_string} ROC Curve\",\n",
    "                    label=f\"ROC Curve (AUC = {evaluated_model.get('ROC-AUC', 'N/A'):.4f}\",\n",
    "                    grid=True,\n",
    "                    roc_curve=True\n",
    "                )\n",
    "                print(\"\")\n",
    "            else:\n",
    "                print(f\"{metric}: {value:.4f}\")"
   ]
  },
  {
   "cell_type": "code",
   "execution_count": 562,
   "id": "91922391-2395-4c13-a81a-9553453ef846",
   "metadata": {},
   "outputs": [
    {
     "name": "stdout",
     "output_type": "stream",
     "text": [
      "\n",
      "Logistic Regression:\n",
      "\n",
      "RMSE: 0.3458\n",
      "MAE: 0.1196\n",
      "R²: 0.5211\n",
      "Accuracy: 0.8804\n",
      "ROC-AUC: 0.9565\n",
      "\n"
     ]
    },
    {
     "data": {
      "image/png": "[encoded data removed]",
      "text/plain": [
       "<Figure size 640x480 with 1 Axes>"
      ]
     },
     "metadata": {},
     "output_type": "display_data"
    },
    {
     "name": "stdout",
     "output_type": "stream",
     "text": [
      "\n"
     ]
    },
    {
     "data": {
      "image/png": "[encoded data removed]",
      "text/plain": [
       "<Figure size 640x480 with 1 Axes>"
      ]
     },
     "metadata": {},
     "output_type": "display_data"
    },
    {
     "name": "stdout",
     "output_type": "stream",
     "text": [
      "\n",
      "Ridge Classifier:\n",
      "\n",
      "RMSE: 0.3597\n",
      "MAE: 0.1294\n",
      "R²: 0.4820\n",
      "Accuracy: 0.8706\n",
      "\n",
      "Random Forest Classifier:\n",
      "\n",
      "RMSE: 0.0865\n",
      "MAE: 0.0075\n",
      "R²: 0.9701\n",
      "Accuracy: 0.9925\n",
      "ROC-AUC: 0.9999\n",
      "\n"
     ]
    },
    {
     "data": {
      "image/png": "[encoded data removed]",
      "text/plain": [
       "<Figure size 640x480 with 1 Axes>"
      ]
     },
     "metadata": {},
     "output_type": "display_data"
    },
    {
     "name": "stdout",
     "output_type": "stream",
     "text": [
      "\n"
     ]
    },
    {
     "data": {
      "image/png": "[encoded data removed]",
      "text/plain": [
       "<Figure size 640x480 with 1 Axes>"
      ]
     },
     "metadata": {},
     "output_type": "display_data"
    },
    {
     "name": "stdout",
     "output_type": "stream",
     "text": [
      "\n",
      "Support Vector Machines:\n",
      "\n",
      "RMSE: 0.4461\n",
      "MAE: 0.1990\n",
      "R²: 0.2034\n",
      "Accuracy: 0.8010\n",
      "ROC-AUC: 0.8429\n",
      "\n"
     ]
    },
    {
     "data": {
      "image/png": "[encoded data removed]",
      "text/plain": [
       "<Figure size 640x480 with 1 Axes>"
      ]
     },
     "metadata": {},
     "output_type": "display_data"
    },
    {
     "name": "stdout",
     "output_type": "stream",
     "text": [
      "\n"
     ]
    },
    {
     "data": {
      "image/png": "[encoded data removed]",
      "text/plain": [
       "<Figure size 640x480 with 1 Axes>"
      ]
     },
     "metadata": {},
     "output_type": "display_data"
    },
    {
     "name": "stdout",
     "output_type": "stream",
     "text": [
      "\n",
      "XGBoost:\n",
      "\n",
      "RMSE: 0.1535\n",
      "MAE: 0.0236\n",
      "R²: 0.9056\n",
      "Accuracy: 0.9764\n",
      "ROC-AUC: 0.9972\n",
      "\n"
     ]
    },
    {
     "data": {
      "image/png": "[encoded data removed]",
      "text/plain": [
       "<Figure size 640x480 with 1 Axes>"
      ]
     },
     "metadata": {},
     "output_type": "display_data"
    },
    {
     "name": "stdout",
     "output_type": "stream",
     "text": [
      "\n"
     ]
    },
    {
     "data": {
      "image/png": "[encoded data removed]",
      "text/plain": [
       "<Figure size 640x480 with 1 Axes>"
      ]
     },
     "metadata": {},
     "output_type": "display_data"
    }
   ],
   "source": [
    "get_model_metrics()"
   ]
  },
  {
   "cell_type": "markdown",
   "id": "999093f1-e220-4f3c-8802-4cf350530103",
   "metadata": {
    "editable": true,
    "slideshow": {
     "slide_type": ""
    },
    "tags": []
   },
   "source": [
    "### Thoughts on the Models"
   ]
  },
  {
   "cell_type": "markdown",
   "id": "1c9b7d81-8ea0-4f4c-a255-df2841c2893c",
   "metadata": {},
   "source": [
    "Logistic Regression:\n",
    "\n",
    "RMSE: 0.3458\\\n",
    "MAE: 0.1196\\\n",
    "R²: 0.5211\\\n",
    "Accuracy: 0.8804\\\n",
    "ROC-AUC: 0.9565\n",
    "\n",
    "- These metrics are reasonable for a well-performing Logistic Regression model.\n",
    "- The ROC-AUC (0.9565) is pretty high, this shows excellent class separation.\n",
    "- The R² (0.5211) suggests that the model explains about 52% of the variance in the target variable, which is moderate but acceptable for a binary classification problem."
   ]
  },
  {
   "cell_type": "markdown",
   "id": "6115efea-c451-426c-bc93-1b325e8fa124",
   "metadata": {},
   "source": [
    "Ridge Classifier:\n",
    "\n",
    "RMSE: 0.3597\\\n",
    "MAE: 0.1294\\\n",
    "R²: 0.4820\\\n",
    "Accuracy: 0.8706\n",
    "\n",
    "- These metrics are slightly worse than Logistic Regression, which is expected since Ridge Classifier is a simpler linear model.\n",
    "- The Accuracy (0.8706) and R² (0.4820) are reasonable for a linear model.\n",
    "- Ridge Classifier does not naturally produce probabilities, which limits its interpretability compared to Logistic Regression."
   ]
  },
  {
   "cell_type": "markdown",
   "id": "088b47b1-8219-447b-822c-1d6d4a272b60",
   "metadata": {},
   "source": [
    "Random Forest:\n",
    "\n",
    "RMSE: 0.0865\\\n",
    "MAE: 0.0075\\\n",
    "R²: 0.9701\\\n",
    "Accuracy: 0.9925\\\n",
    "ROC-AUC: 0.9999\n",
    "\n",
    "- These metrics are extremely high and this usually means one of the following issues:\n",
    "    - Overfitting: The model may have memorized the training data and is performing extremely well on the validation set by chance.\n",
    "    - Data Leakage: Ensure that the validation set is completely separate from the training set and that no information from the validation set was used during training.\n",
    "    - Incorrect Evaluation: Double-check that the predictions (y_pred_random_forest) and probabilities (y_pred_random_forest_proba) are being calculated correctly.\n",
    "    - Class Imbalance: If the dataset is highly imbalanced (e.g., 99% of samples belong to one class), the model might achieve high accuracy by simply predicting the majority class. Check the class distribution:"
   ]
  },
  {
   "cell_type": "markdown",
   "id": "135ca1a5-7b3e-453c-9568-73a42e626eed",
   "metadata": {},
   "source": [
    "Support Vector Machines:\n",
    "\n",
    "RMSE: 0.4461\\\n",
    "MAE: 0.1990\\\n",
    "R²: 0.2034\\\n",
    "Accuracy: 0.8010\\\n",
    "ROC-AUC: 0.8429\n",
    "\n",
    "- The SVM model performs worse compared to the other models, with lower accuracy (0.8010) and R² (0.2034). This is not uncommon for SVMs, especially if the data is not linearly separable or if the kernel and hyperparameters are not optimized.\n",
    "- The ROC-AUC (0.8429) is moderate, indicating that the model has some ability to distinguish between classes but is not as strong as other models.\n",
    "- SVMs can struggle with large datasets or datasets with overlapping classes, so this performance might be expected."
   ]
  },
  {
   "cell_type": "markdown",
   "id": "2b4677aa-71e5-4397-b22f-b62b2b2a269f",
   "metadata": {},
   "source": [
    "XGBoost:\n",
    "\n",
    "RMSE: 0.1535\\\n",
    "MAE: 0.0236\\\n",
    "R²: 0.9056\\\n",
    "Accuracy: 0.9764\\\n",
    "ROC-AUC: 0.9972\n",
    "\n",
    "- XGBoost is a model that usually performs rather high, with high accuracy (0.9764) and an outstanding ROC-AUC (0.9972). This suggests that the model is highly effective at distinguishing between classes.\n",
    "- The R² (0.9056) indicates that the model explains a large proportion of the variance in the target variable, which is excellent for a classification task.\n",
    "- However, the extremely high performance (especially ROC-AUC) should be carefully validated to rule out overfitting or data leakage. If the results hold, XGBoost is likely the best-performing model for this task."
   ]
  },
  {
   "cell_type": "markdown",
   "id": "0d640186-9e8f-416b-8002-d961a541e688",
   "metadata": {},
   "source": [
    "### Addressing Model Evaluations"
   ]
  },
  {
   "cell_type": "markdown",
   "id": "7359bf4e-010a-4da5-9eef-6f161af2fcad",
   "metadata": {},
   "source": [
    "For the Random Forest model, the validation set is separate from the training set, the evaluations are being done correctly, and the Transported class is not imbalanced. The issue that makes the most sense is overfitting, let's fix it."
   ]
  },
  {
   "cell_type": "code",
   "execution_count": 563,
   "id": "5e37a153-9ba2-45b3-b996-49485acdedd9",
   "metadata": {},
   "outputs": [],
   "source": [
    "random_forest_classifier = RandomForestClassifier(n_estimators=10, max_depth=5, random_state=1)\n",
    "random_forest_classifier.fit(X_train, y_train)\n",
    "y_pred_random_forest_classifier = random_forest_classifier.predict(X_val)\n",
    "y_pred_random_forest_classifier_proba = random_forest_classifier.predict_proba(X_val)[:, 1]"
   ]
  },
  {
   "cell_type": "code",
   "execution_count": 564,
   "id": "684b0647-a942-492e-9a2f-136d5fb01583",
   "metadata": {},
   "outputs": [
    {
     "name": "stdout",
     "output_type": "stream",
     "text": [
      "\n",
      "Random Forest Classifier:\n",
      "\n",
      "RMSE: 0.3859\n",
      "MAE: 0.1489\n",
      "R²: 0.4037\n",
      "Accuracy: 0.8511\n",
      "ROC-AUC: 0.9354\n",
      "\n"
     ]
    },
    {
     "data": {
      "image/png": "[encoded data removed]",
      "text/plain": [
       "<Figure size 640x480 with 1 Axes>"
      ]
     },
     "metadata": {},
     "output_type": "display_data"
    },
    {
     "name": "stdout",
     "output_type": "stream",
     "text": [
      "\n"
     ]
    },
    {
     "data": {
      "image/png": "[encoded data removed]",
      "text/plain": [
       "<Figure size 640x480 with 1 Axes>"
      ]
     },
     "metadata": {},
     "output_type": "display_data"
    }
   ],
   "source": [
    "get_model_metrics(specific_model={\"Random Forest Classifier\": evaluate_model(y_val, y_pred_random_forest_classifier, y_pred_random_forest_classifier_proba)})"
   ]
  },
  {
   "cell_type": "markdown",
   "id": "83582bf2-bbff-4d21-962a-d12f818c032a",
   "metadata": {},
   "source": [
    "These graphs look a lot more likely. What we changed was set max_depth to 5 because if the trees are too deep, they can memorize the training data. The updated metrics suggest that the model is still performing well and is less likely to be overfitting the training data."
   ]
  },
  {
   "cell_type": "markdown",
   "id": "be6846db-a1de-425d-b557-d8c800104f07",
   "metadata": {},
   "source": [
    "The best performing models from the 5 we evaluated seem to be Logistic Regression, Random Forest, and XGBoost. Let's use the test data with those models and then select the overall best performing model."
   ]
  },
  {
   "cell_type": "markdown",
   "id": "2194a428-ee8a-481a-a742-49d9adbd43a9",
   "metadata": {},
   "source": [
    "## Step 6: Deployment"
   ]
  },
  {
   "cell_type": "markdown",
   "id": "f9b7bd20-c14e-4ed9-9316-5bb5f190f82e",
   "metadata": {},
   "source": [
    "The 3 models that we will be deploying will be Logistic Regression, Random Forest, and XGBoost. These models all have probabilities, so let's use them to get the optimal threshold for them."
   ]
  },
  {
   "cell_type": "code",
   "execution_count": 565,
   "id": "7a8dd7cf-b82e-4825-86a6-8408e6b53523",
   "metadata": {},
   "outputs": [],
   "source": [
    "def find_optimal_threshold(y_val, y_val_proba):\n",
    "    thresholds = np.linspace(0, 1, 21)\n",
    "    accuracies = [accuracy_score(y_val, y_val_proba >= threshold) for threshold in thresholds]\n",
    "    optimal_threshold = thresholds[np.argmax(accuracies)]\n",
    "    return optimal_threshold"
   ]
  },
  {
   "cell_type": "code",
   "execution_count": 566,
   "id": "31728b9b-868a-45e8-8649-177badaae554",
   "metadata": {},
   "outputs": [
    {
     "data": {
      "text/plain": [
       "np.float64(0.55)"
      ]
     },
     "execution_count": 566,
     "metadata": {},
     "output_type": "execute_result"
    }
   ],
   "source": [
    "find_optimal_threshold(y_val, y_pred_logistic_regression_proba)"
   ]
  },
  {
   "cell_type": "code",
   "execution_count": 567,
   "id": "9a17d057-101d-43d5-ac3a-9175459dd273",
   "metadata": {},
   "outputs": [
    {
     "data": {
      "text/plain": [
       "np.float64(0.45)"
      ]
     },
     "execution_count": 567,
     "metadata": {},
     "output_type": "execute_result"
    }
   ],
   "source": [
    "find_optimal_threshold(y_val, y_pred_random_forest_classifier_proba)"
   ]
  },
  {
   "cell_type": "code",
   "execution_count": 568,
   "id": "ec453b37-346c-47b5-8b76-50932198a01a",
   "metadata": {},
   "outputs": [
    {
     "data": {
      "text/plain": [
       "np.float64(0.55)"
      ]
     },
     "execution_count": 568,
     "metadata": {},
     "output_type": "execute_result"
    }
   ],
   "source": [
    "find_optimal_threshold(y_val, y_pred_xgboost_proba)"
   ]
  },
  {
   "cell_type": "code",
   "execution_count": null,
   "id": "7a615154-980f-4214-873b-b15f107b570b",
   "metadata": {},
   "outputs": [],
   "source": []
  },
  {
   "cell_type": "code",
   "execution_count": null,
   "id": "59fe1987-f86b-4667-8e64-f7e510e2aa4a",
   "metadata": {},
   "outputs": [],
   "source": []
  },
  {
   "cell_type": "code",
   "execution_count": null,
   "id": "791b0e2d-f7b0-49b2-a7fe-c1245c03c8b4",
   "metadata": {},
   "outputs": [],
   "source": []
  },
  {
   "cell_type": "markdown",
   "id": "8915c469-45d5-4ce7-9df3-041715405f7c",
   "metadata": {},
   "source": [
    "### Selecting the Best Model"
   ]
  },
  {
   "cell_type": "code",
   "execution_count": 569,
   "id": "f86c2862-bc15-48e7-b1e5-4d67e99ed1c2",
   "metadata": {},
   "outputs": [],
   "source": [
    "X_test = test_df"
   ]
  },
  {
   "cell_type": "code",
   "execution_count": 570,
   "id": "f0c45395-a94c-4970-90ca-facbc3f3455f",
   "metadata": {},
   "outputs": [
    {
     "data": {
      "text/plain": [
       "np.float64(0.4592003740939911)"
      ]
     },
     "execution_count": 570,
     "metadata": {},
     "output_type": "execute_result"
    }
   ],
   "source": [
    "y_test_logistic_regression = (logistic_regression.predict_proba(X_test)[:, 1] >= find_optimal_threshold(y_val, y_pred_logistic_regression_proba))\n",
    "y_test_logistic_regression.mean()"
   ]
  },
  {
   "cell_type": "code",
   "execution_count": 571,
   "id": "f6e0b7de-191c-4457-b45c-1574f7c19e3d",
   "metadata": {},
   "outputs": [
    {
     "data": {
      "text/plain": [
       "np.float64(0.5426700958615852)"
      ]
     },
     "execution_count": 571,
     "metadata": {},
     "output_type": "execute_result"
    }
   ],
   "source": [
    "y_test_random_forest_classifier = (random_forest_classifier.predict_proba(X_test)[:, 1] >= find_optimal_threshold(y_val, y_pred_random_forest_classifier_proba))\n",
    "y_test_random_forest_classifier.mean()"
   ]
  },
  {
   "cell_type": "code",
   "execution_count": 572,
   "id": "59ec6d78-43d4-4e67-ac80-867c031e3b4c",
   "metadata": {},
   "outputs": [
    {
     "data": {
      "text/plain": [
       "np.float64(0.48258124853869533)"
      ]
     },
     "execution_count": 572,
     "metadata": {},
     "output_type": "execute_result"
    }
   ],
   "source": [
    "y_test_xgboost = (xgboost.predict_proba(X_test)[:, 1] >= find_optimal_threshold(y_val, y_pred_xgboost_proba))\n",
    "y_test_xgboost.mean()"
   ]
  },
  {
   "cell_type": "code",
   "execution_count": 573,
   "id": "ec83903f-a30d-4931-851d-60ba7305dcc4",
   "metadata": {},
   "outputs": [
    {
     "data": {
      "text/plain": [
       "np.float64(0.5036236051995858)"
      ]
     },
     "execution_count": 573,
     "metadata": {},
     "output_type": "execute_result"
    }
   ],
   "source": [
    "global_mean"
   ]
  },
  {
   "cell_type": "markdown",
   "id": "2eaeebaa-bf0b-421a-ad0f-29850565e0d0",
   "metadata": {},
   "source": [
    "The value for y_test_xgboost seems a lot more in line with the global_mean value from the train dataset, let's go with it and save it to a csv."
   ]
  },
  {
   "cell_type": "code",
   "execution_count": 574,
   "id": "ceacac87-0dc0-45dc-bc12-993db4d4a956",
   "metadata": {},
   "outputs": [],
   "source": [
    "def create_csv(model, y_test, threshold):\n",
    "    pd.DataFrame({\n",
    "        \"PassengerId\": ids,\n",
    "        \"Transported\": y_test\n",
    "    }).to_csv(f\"submission_{model}_{threshold}.csv\", index=False)"
   ]
  },
  {
   "cell_type": "code",
   "execution_count": 580,
   "id": "900d6be6-1dff-4209-9c84-f3da4b590565",
   "metadata": {},
   "outputs": [],
   "source": [
    "create_csv(\"xgboost\", (xgboost.predict_proba(X_test)[:, 1] >= find_optimal_threshold(y_val, y_pred_xgboost_proba)), find_optimal_threshold(y_val, y_pred_xgboost_proba))"
   ]
  },
  {
   "cell_type": "markdown",
   "id": "c35c297e-6a47-4153-a975-1fd5bde3bd1d",
   "metadata": {},
   "source": [
    "Now we are done and can take a break."
   ]
  },
  {
   "cell_type": "markdown",
   "id": "fc4feac5-d870-4fc9-9ff4-edcf2192d97a",
   "metadata": {},
   "source": [
    "Here are some more csv's tho."
   ]
  },
  {
   "cell_type": "code",
   "execution_count": 588,
   "id": "a681bae4-8134-456f-9af5-8b93ba11cd4e",
   "metadata": {},
   "outputs": [],
   "source": [
    "create_csv(\"logistic_regression\", (logistic_regression.predict_proba(X_test)[:, 1] >= .45), .45)"
   ]
  },
  {
   "cell_type": "code",
   "execution_count": 589,
   "id": "a9456a4e-4f3f-487b-a550-215faa7f220f",
   "metadata": {},
   "outputs": [],
   "source": [
    "create_csv(\"logistic_regression\", (logistic_regression.predict_proba(X_test)[:, 1] >= .5), .5)"
   ]
  },
  {
   "cell_type": "code",
   "execution_count": 590,
   "id": "2b8f5e0d-756e-406b-912a-e4e37d1d160a",
   "metadata": {},
   "outputs": [],
   "source": [
    "create_csv(\"logistic_regression\", (logistic_regression.predict_proba(X_test)[:, 1] >= .55), .55)"
   ]
  },
  {
   "cell_type": "code",
   "execution_count": 583,
   "id": "325eff2c-cd97-4024-97f3-49e1f4a465d0",
   "metadata": {},
   "outputs": [],
   "source": [
    "create_csv(\"random_forest\", (random_forest_classifier.predict_proba(X_test)[:, 1] >= .45), .45)"
   ]
  },
  {
   "cell_type": "code",
   "execution_count": 584,
   "id": "e1bf8741-6f02-43f9-ad12-093c1f4f2182",
   "metadata": {},
   "outputs": [],
   "source": [
    "create_csv(\"random_forest\", (random_forest_classifier.predict_proba(X_test)[:, 1] >= .5), .5)"
   ]
  },
  {
   "cell_type": "code",
   "execution_count": 586,
   "id": "8e32bb28-fa5e-4f4b-9fd7-d75a86854ed9",
   "metadata": {},
   "outputs": [],
   "source": [
    "create_csv(\"random_forest\", (random_forest_classifier.predict_proba(X_test)[:, 1] >= .55), .55)"
   ]
  },
  {
   "cell_type": "code",
   "execution_count": 582,
   "id": "382ae419-913f-4092-8069-72a2437e0422",
   "metadata": {},
   "outputs": [],
   "source": [
    "create_csv(\"xgboost\", (xgboost.predict_proba(X_test)[:, 1] >= .45), .45)"
   ]
  },
  {
   "cell_type": "code",
   "execution_count": 581,
   "id": "e767950d-b6db-4d3b-ba83-9731c9546947",
   "metadata": {},
   "outputs": [],
   "source": [
    "create_csv(\"xgboost\", (xgboost.predict_proba(X_test)[:, 1] >= .5), .5)"
   ]
  },
  {
   "cell_type": "code",
   "execution_count": 587,
   "id": "fd7eda6a-b29e-46e0-afdb-018c5356a265",
   "metadata": {},
   "outputs": [],
   "source": [
    "create_csv(\"xgboost\", (xgboost.predict_proba(X_test)[:, 1] >= .55), .55)"
   ]
  },
  {
   "cell_type": "markdown",
   "id": "db9ce2dc-b3eb-4f61-9b50-e3e472b2b751",
   "metadata": {},
   "source": [
    "### What I Learned:\n",
    "\n",
    "- What SVM is and how to implement it.\n",
    "- df.dtypes[df.dtypes == \"object\"].drop(column).index is a good way to get the columns for one-hot and target encoding while excluding a/some column(s).\n",
    "- How to fix overfitting in Random Forest Models.\n",
    "- How to use XGBClassifier."
   ]
  },
  {
   "cell_type": "markdown",
   "id": "ed46f2e7-368e-4e26-9bf0-51c5c75a8bf8",
   "metadata": {},
   "source": [
    "### What to Do Next Time:\n",
    "\n",
    "- Have a plot that plots the ROC Curves and Accuracy Curves for all of the models on one plot. This way you can more closely see which models have the best ROC Curve and Accuracy Curve.\n",
    "- Add a confusion matrix. A confusion matrix could provide more insight into the model’s performance, especially for imbalanced datasets."
   ]
  }
 ],
 "metadata": {
  "kernelspec": {
   "display_name": "Python 3 (ipykernel)",
   "language": "python",
   "name": "python3"
  },
  "language_info": {
   "codemirror_mode": {
    "name": "ipython",
    "version": 3
   },
   "file_extension": ".py",
   "mimetype": "text/x-python",
   "name": "python",
   "nbconvert_exporter": "python",
   "pygments_lexer": "ipython3",
   "version": "3.10.15"
  }
 },
 "nbformat": 4,
 "nbformat_minor": 5
}
