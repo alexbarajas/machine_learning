{
 "cells": [
  {
   "cell_type": "markdown",
   "id": "da2c0939-18d5-4efc-8bdf-4368061a5a7c",
   "metadata": {},
   "source": [
    "# House Prices - Advanced Regression Techniques"
   ]
  },
  {
   "cell_type": "markdown",
   "id": "fc04fa46-b576-415f-89a3-66d0b7f0b07e",
   "metadata": {},
   "source": [
    "Dataset: https://www.kaggle.com/c/house-prices-advanced-regression-techniques/overview"
   ]
  },
  {
   "cell_type": "markdown",
   "id": "3e3a6681-de37-4b38-8ae0-21716c057df6",
   "metadata": {},
   "source": [
    "For this project I will use the steps in CRISP-DM, or Cross-Industry Standard Process for Data Mining. It is a widely-used framework for guiding data mining projects from start to finish."
   ]
  },
  {
   "cell_type": "markdown",
   "id": "0e8da9a6-4f57-437f-880b-b290aa4fbb3f",
   "metadata": {},
   "source": [
    "## Step 1: Business Understanding"
   ]
  },
  {
   "cell_type": "markdown",
   "id": "7385f5e2-2234-4e3f-a160-b8fbcf8e0302",
   "metadata": {},
   "source": [
    "Use features not typically used in searching for a home to predict the price of some homes."
   ]
  },
  {
   "cell_type": "markdown",
   "id": "ae0883cb-aa9d-40bd-8bb1-a67d9d414b99",
   "metadata": {},
   "source": [
    "## Step 2: Data Understanding"
   ]
  },
  {
   "cell_type": "markdown",
   "id": "2a5b9c04-680c-4dea-8608-14ca636b0800",
   "metadata": {},
   "source": [
    "### Import Packages"
   ]
  },
  {
   "cell_type": "code",
   "execution_count": 53,
   "id": "24320df4-16fa-4efd-9a39-f8ec8b805f72",
   "metadata": {},
   "outputs": [],
   "source": [
    "import pandas as pd\n",
    "import numpy as np\n",
    "\n",
    "import seaborn as sns\n",
    "\n",
    "from matplotlib import pyplot as plt\n",
    "%matplotlib inline\n",
    "\n",
    "from IPython.display import display\n",
    "\n",
    "from itertools import cycle\n",
    "\n",
    "import datetime as dt\n",
    "\n",
    "from sklearn.model_selection import train_test_split\n",
    "\n",
    "from sklearn.linear_model import LinearRegression\n",
    "from sklearn.linear_model import Ridge\n",
    "from sklearn.preprocessing import PolynomialFeatures\n",
    "from sklearn.ensemble import RandomForestRegressor\n",
    "from xgboost import XGBRegressor\n",
    "\n",
    "from sklearn.metrics import mean_squared_error, mean_absolute_error, r2_score"
   ]
  },
  {
   "cell_type": "markdown",
   "id": "7db6f009-776c-4c76-970b-9d898def59d5",
   "metadata": {},
   "source": [
    "### Load the data"
   ]
  },
  {
   "cell_type": "code",
   "execution_count": 54,
   "id": "b58d2353-f98f-4d9f-99ce-0d0c71910027",
   "metadata": {},
   "outputs": [],
   "source": [
    "train_df = pd.read_csv(\"house-prices-advanced-regression-techniques/train.csv\")\n",
    "test_df = pd.read_csv(\"house-prices-advanced-regression-techniques/test.csv\")"
   ]
  },
  {
   "cell_type": "markdown",
   "id": "9eeb093e-6b84-4cbb-aa3b-2cc07a17bcf9",
   "metadata": {},
   "source": [
    "### View the data"
   ]
  },
  {
   "cell_type": "code",
   "execution_count": 55,
   "id": "851b007b-99b3-4a64-86fc-8c52b4b120b7",
   "metadata": {},
   "outputs": [
    {
     "data": {
      "text/plain": [
       "((1460, 81), (1459, 80))"
      ]
     },
     "execution_count": 55,
     "metadata": {},
     "output_type": "execute_result"
    }
   ],
   "source": [
    "train_df.shape, test_df.shape"
   ]
  },
  {
   "cell_type": "markdown",
   "id": "43b739f7-714f-4f3e-82ce-e1bf9d44dad2",
   "metadata": {},
   "source": [
    "train_df has one more column than test_df, let's see what that column is:"
   ]
  },
  {
   "cell_type": "code",
   "execution_count": 56,
   "id": "6ddf31fd-d1cf-42a4-8414-d5607b35f18a",
   "metadata": {},
   "outputs": [
    {
     "data": {
      "text/plain": [
       "Index(['SalePrice'], dtype='object')"
      ]
     },
     "execution_count": 56,
     "metadata": {},
     "output_type": "execute_result"
    }
   ],
   "source": [
    "train_df[[column for column in train_df.columns if column not in test_df.columns]].columns"
   ]
  },
  {
   "cell_type": "markdown",
   "id": "a88140c4-5fdc-4bcf-956e-9293f80ddf1e",
   "metadata": {},
   "source": [
    "This makes sense because SalePrice is our target variable, since we want to predict the sales price for each house in test_df using the data from train_df."
   ]
  },
  {
   "cell_type": "code",
   "execution_count": 57,
   "id": "4225ebe6-9041-4c7f-b3bd-63d0cc4ef2e2",
   "metadata": {},
   "outputs": [
    {
     "data": {
      "text/plain": [
       "np.int64(0)"
      ]
     },
     "execution_count": 57,
     "metadata": {},
     "output_type": "execute_result"
    }
   ],
   "source": [
    "train_df[\"SalePrice\"].isnull().sum()"
   ]
  },
  {
   "cell_type": "markdown",
   "id": "0228839d-eaec-4b62-a642-405756947593",
   "metadata": {},
   "source": [
    "No house in train_df is missing a SalePrice, so let's move on to preparing the data."
   ]
  },
  {
   "cell_type": "markdown",
   "id": "df37ad1a-7765-45a3-a790-18c2edd193ea",
   "metadata": {},
   "source": [
    "## Step 3: Data Preparation"
   ]
  },
  {
   "cell_type": "markdown",
   "id": "714e0eb1-50a8-48fe-88fc-3d369326a4bb",
   "metadata": {},
   "source": [
    "Now we can start cleaning up the dataframes so they're easier to work with, and give us more accurate results."
   ]
  },
  {
   "cell_type": "markdown",
   "id": "d506995a-ed94-4d82-8087-886ef91d39dd",
   "metadata": {},
   "source": [
    "### Clean up the column names"
   ]
  },
  {
   "cell_type": "code",
   "execution_count": 58,
   "id": "a38df781-3594-4c60-828d-167f4369c1b0",
   "metadata": {},
   "outputs": [
    {
     "data": {
      "text/html": [
       "<div>\n",
       "<style scoped>\n",
       "    .dataframe tbody tr th:only-of-type {\n",
       "        vertical-align: middle;\n",
       "    }\n",
       "\n",
       "    .dataframe tbody tr th {\n",
       "        vertical-align: top;\n",
       "    }\n",
       "\n",
       "    .dataframe thead th {\n",
       "        text-align: right;\n",
       "    }\n",
       "</style>\n",
       "<table border=\"1\" class=\"dataframe\">\n",
       "  <thead>\n",
       "    <tr style=\"text-align: right;\">\n",
       "      <th></th>\n",
       "      <th>Id</th>\n",
       "      <th>MSSubClass</th>\n",
       "      <th>MSZoning</th>\n",
       "      <th>LotFrontage</th>\n",
       "      <th>LotArea</th>\n",
       "      <th>Street</th>\n",
       "      <th>Alley</th>\n",
       "      <th>LotShape</th>\n",
       "      <th>LandContour</th>\n",
       "      <th>Utilities</th>\n",
       "      <th>...</th>\n",
       "      <th>PoolArea</th>\n",
       "      <th>PoolQC</th>\n",
       "      <th>Fence</th>\n",
       "      <th>MiscFeature</th>\n",
       "      <th>MiscVal</th>\n",
       "      <th>MoSold</th>\n",
       "      <th>YrSold</th>\n",
       "      <th>SaleType</th>\n",
       "      <th>SaleCondition</th>\n",
       "      <th>SalePrice</th>\n",
       "    </tr>\n",
       "  </thead>\n",
       "  <tbody>\n",
       "    <tr>\n",
       "      <th>0</th>\n",
       "      <td>1</td>\n",
       "      <td>60</td>\n",
       "      <td>RL</td>\n",
       "      <td>65.0</td>\n",
       "      <td>8450</td>\n",
       "      <td>Pave</td>\n",
       "      <td>NaN</td>\n",
       "      <td>Reg</td>\n",
       "      <td>Lvl</td>\n",
       "      <td>AllPub</td>\n",
       "      <td>...</td>\n",
       "      <td>0</td>\n",
       "      <td>NaN</td>\n",
       "      <td>NaN</td>\n",
       "      <td>NaN</td>\n",
       "      <td>0</td>\n",
       "      <td>2</td>\n",
       "      <td>2008</td>\n",
       "      <td>WD</td>\n",
       "      <td>Normal</td>\n",
       "      <td>208500</td>\n",
       "    </tr>\n",
       "    <tr>\n",
       "      <th>1</th>\n",
       "      <td>2</td>\n",
       "      <td>20</td>\n",
       "      <td>RL</td>\n",
       "      <td>80.0</td>\n",
       "      <td>9600</td>\n",
       "      <td>Pave</td>\n",
       "      <td>NaN</td>\n",
       "      <td>Reg</td>\n",
       "      <td>Lvl</td>\n",
       "      <td>AllPub</td>\n",
       "      <td>...</td>\n",
       "      <td>0</td>\n",
       "      <td>NaN</td>\n",
       "      <td>NaN</td>\n",
       "      <td>NaN</td>\n",
       "      <td>0</td>\n",
       "      <td>5</td>\n",
       "      <td>2007</td>\n",
       "      <td>WD</td>\n",
       "      <td>Normal</td>\n",
       "      <td>181500</td>\n",
       "    </tr>\n",
       "    <tr>\n",
       "      <th>2</th>\n",
       "      <td>3</td>\n",
       "      <td>60</td>\n",
       "      <td>RL</td>\n",
       "      <td>68.0</td>\n",
       "      <td>11250</td>\n",
       "      <td>Pave</td>\n",
       "      <td>NaN</td>\n",
       "      <td>IR1</td>\n",
       "      <td>Lvl</td>\n",
       "      <td>AllPub</td>\n",
       "      <td>...</td>\n",
       "      <td>0</td>\n",
       "      <td>NaN</td>\n",
       "      <td>NaN</td>\n",
       "      <td>NaN</td>\n",
       "      <td>0</td>\n",
       "      <td>9</td>\n",
       "      <td>2008</td>\n",
       "      <td>WD</td>\n",
       "      <td>Normal</td>\n",
       "      <td>223500</td>\n",
       "    </tr>\n",
       "    <tr>\n",
       "      <th>3</th>\n",
       "      <td>4</td>\n",
       "      <td>70</td>\n",
       "      <td>RL</td>\n",
       "      <td>60.0</td>\n",
       "      <td>9550</td>\n",
       "      <td>Pave</td>\n",
       "      <td>NaN</td>\n",
       "      <td>IR1</td>\n",
       "      <td>Lvl</td>\n",
       "      <td>AllPub</td>\n",
       "      <td>...</td>\n",
       "      <td>0</td>\n",
       "      <td>NaN</td>\n",
       "      <td>NaN</td>\n",
       "      <td>NaN</td>\n",
       "      <td>0</td>\n",
       "      <td>2</td>\n",
       "      <td>2006</td>\n",
       "      <td>WD</td>\n",
       "      <td>Abnorml</td>\n",
       "      <td>140000</td>\n",
       "    </tr>\n",
       "    <tr>\n",
       "      <th>4</th>\n",
       "      <td>5</td>\n",
       "      <td>60</td>\n",
       "      <td>RL</td>\n",
       "      <td>84.0</td>\n",
       "      <td>14260</td>\n",
       "      <td>Pave</td>\n",
       "      <td>NaN</td>\n",
       "      <td>IR1</td>\n",
       "      <td>Lvl</td>\n",
       "      <td>AllPub</td>\n",
       "      <td>...</td>\n",
       "      <td>0</td>\n",
       "      <td>NaN</td>\n",
       "      <td>NaN</td>\n",
       "      <td>NaN</td>\n",
       "      <td>0</td>\n",
       "      <td>12</td>\n",
       "      <td>2008</td>\n",
       "      <td>WD</td>\n",
       "      <td>Normal</td>\n",
       "      <td>250000</td>\n",
       "    </tr>\n",
       "  </tbody>\n",
       "</table>\n",
       "<p>5 rows × 81 columns</p>\n",
       "</div>"
      ],
      "text/plain": [
       "   Id  MSSubClass MSZoning  LotFrontage  LotArea Street Alley LotShape  \\\n",
       "0   1          60       RL         65.0     8450   Pave   NaN      Reg   \n",
       "1   2          20       RL         80.0     9600   Pave   NaN      Reg   \n",
       "2   3          60       RL         68.0    11250   Pave   NaN      IR1   \n",
       "3   4          70       RL         60.0     9550   Pave   NaN      IR1   \n",
       "4   5          60       RL         84.0    14260   Pave   NaN      IR1   \n",
       "\n",
       "  LandContour Utilities  ... PoolArea PoolQC Fence MiscFeature MiscVal MoSold  \\\n",
       "0         Lvl    AllPub  ...        0    NaN   NaN         NaN       0      2   \n",
       "1         Lvl    AllPub  ...        0    NaN   NaN         NaN       0      5   \n",
       "2         Lvl    AllPub  ...        0    NaN   NaN         NaN       0      9   \n",
       "3         Lvl    AllPub  ...        0    NaN   NaN         NaN       0      2   \n",
       "4         Lvl    AllPub  ...        0    NaN   NaN         NaN       0     12   \n",
       "\n",
       "  YrSold  SaleType  SaleCondition  SalePrice  \n",
       "0   2008        WD         Normal     208500  \n",
       "1   2007        WD         Normal     181500  \n",
       "2   2008        WD         Normal     223500  \n",
       "3   2006        WD        Abnorml     140000  \n",
       "4   2008        WD         Normal     250000  \n",
       "\n",
       "[5 rows x 81 columns]"
      ]
     },
     "execution_count": 58,
     "metadata": {},
     "output_type": "execute_result"
    }
   ],
   "source": [
    "train_df.head()"
   ]
  },
  {
   "cell_type": "markdown",
   "id": "2ceb1985-eb8f-4c96-820c-d2da14f287b8",
   "metadata": {},
   "source": [
    "From an initial look at the dataframe, the column names are already without spaces and look good in PascalCase so we can keep them as is."
   ]
  },
  {
   "cell_type": "markdown",
   "id": "0cbfba90-4eac-4af8-a76b-97289971b911",
   "metadata": {},
   "source": [
    "### Clean up the values"
   ]
  },
  {
   "cell_type": "code",
   "execution_count": 59,
   "id": "00fd72a0-b12e-440d-9d0f-4d32adbe3f9e",
   "metadata": {},
   "outputs": [],
   "source": [
    "def display_column_value_counts(df):\n",
    "    for column in df.columns:\n",
    "        display(df[column].value_counts().sort_index())\n",
    "        print(\"\\n\")"
   ]
  },
  {
   "cell_type": "code",
   "execution_count": 60,
   "id": "f59668bc-8dbb-40af-aba0-dcaa7f5af146",
   "metadata": {},
   "outputs": [
    {
     "data": {
      "text/plain": [
       "Id\n",
       "1       1\n",
       "2       1\n",
       "3       1\n",
       "4       1\n",
       "5       1\n",
       "       ..\n",
       "1456    1\n",
       "1457    1\n",
       "1458    1\n",
       "1459    1\n",
       "1460    1\n",
       "Name: count, Length: 1460, dtype: int64"
      ]
     },
     "metadata": {},
     "output_type": "display_data"
    },
    {
     "name": "stdout",
     "output_type": "stream",
     "text": [
      "\n",
      "\n"
     ]
    },
    {
     "data": {
      "text/plain": [
       "MSSubClass\n",
       "20     536\n",
       "30      69\n",
       "40       4\n",
       "45      12\n",
       "50     144\n",
       "60     299\n",
       "70      60\n",
       "75      16\n",
       "80      58\n",
       "85      20\n",
       "90      52\n",
       "120     87\n",
       "160     63\n",
       "180     10\n",
       "190     30\n",
       "Name: count, dtype: int64"
      ]
     },
     "metadata": {},
     "output_type": "display_data"
    },
    {
     "name": "stdout",
     "output_type": "stream",
     "text": [
      "\n",
      "\n"
     ]
    },
    {
     "data": {
      "text/plain": [
       "MSZoning\n",
       "C (all)      10\n",
       "FV           65\n",
       "RH           16\n",
       "RL         1151\n",
       "RM          218\n",
       "Name: count, dtype: int64"
      ]
     },
     "metadata": {},
     "output_type": "display_data"
    },
    {
     "name": "stdout",
     "output_type": "stream",
     "text": [
      "\n",
      "\n"
     ]
    },
    {
     "data": {
      "text/plain": [
       "LotFrontage\n",
       "21.0     23\n",
       "24.0     19\n",
       "30.0      6\n",
       "32.0      5\n",
       "33.0      1\n",
       "         ..\n",
       "160.0     1\n",
       "168.0     1\n",
       "174.0     2\n",
       "182.0     1\n",
       "313.0     2\n",
       "Name: count, Length: 110, dtype: int64"
      ]
     },
     "metadata": {},
     "output_type": "display_data"
    },
    {
     "name": "stdout",
     "output_type": "stream",
     "text": [
      "\n",
      "\n"
     ]
    },
    {
     "data": {
      "text/plain": [
       "LotArea\n",
       "1300      1\n",
       "1477      1\n",
       "1491      1\n",
       "1526      1\n",
       "1533      2\n",
       "         ..\n",
       "70761     1\n",
       "115149    1\n",
       "159000    1\n",
       "164660    1\n",
       "215245    1\n",
       "Name: count, Length: 1073, dtype: int64"
      ]
     },
     "metadata": {},
     "output_type": "display_data"
    },
    {
     "name": "stdout",
     "output_type": "stream",
     "text": [
      "\n",
      "\n"
     ]
    },
    {
     "data": {
      "text/plain": [
       "Street\n",
       "Grvl       6\n",
       "Pave    1454\n",
       "Name: count, dtype: int64"
      ]
     },
     "metadata": {},
     "output_type": "display_data"
    },
    {
     "name": "stdout",
     "output_type": "stream",
     "text": [
      "\n",
      "\n"
     ]
    },
    {
     "data": {
      "text/plain": [
       "Alley\n",
       "Grvl    50\n",
       "Pave    41\n",
       "Name: count, dtype: int64"
      ]
     },
     "metadata": {},
     "output_type": "display_data"
    },
    {
     "name": "stdout",
     "output_type": "stream",
     "text": [
      "\n",
      "\n"
     ]
    },
    {
     "data": {
      "text/plain": [
       "LotShape\n",
       "IR1    484\n",
       "IR2     41\n",
       "IR3     10\n",
       "Reg    925\n",
       "Name: count, dtype: int64"
      ]
     },
     "metadata": {},
     "output_type": "display_data"
    },
    {
     "name": "stdout",
     "output_type": "stream",
     "text": [
      "\n",
      "\n"
     ]
    },
    {
     "data": {
      "text/plain": [
       "LandContour\n",
       "Bnk      63\n",
       "HLS      50\n",
       "Low      36\n",
       "Lvl    1311\n",
       "Name: count, dtype: int64"
      ]
     },
     "metadata": {},
     "output_type": "display_data"
    },
    {
     "name": "stdout",
     "output_type": "stream",
     "text": [
      "\n",
      "\n"
     ]
    },
    {
     "data": {
      "text/plain": [
       "Utilities\n",
       "AllPub    1459\n",
       "NoSeWa       1\n",
       "Name: count, dtype: int64"
      ]
     },
     "metadata": {},
     "output_type": "display_data"
    },
    {
     "name": "stdout",
     "output_type": "stream",
     "text": [
      "\n",
      "\n"
     ]
    },
    {
     "data": {
      "text/plain": [
       "LotConfig\n",
       "Corner      263\n",
       "CulDSac      94\n",
       "FR2          47\n",
       "FR3           4\n",
       "Inside     1052\n",
       "Name: count, dtype: int64"
      ]
     },
     "metadata": {},
     "output_type": "display_data"
    },
    {
     "name": "stdout",
     "output_type": "stream",
     "text": [
      "\n",
      "\n"
     ]
    },
    {
     "data": {
      "text/plain": [
       "LandSlope\n",
       "Gtl    1382\n",
       "Mod      65\n",
       "Sev      13\n",
       "Name: count, dtype: int64"
      ]
     },
     "metadata": {},
     "output_type": "display_data"
    },
    {
     "name": "stdout",
     "output_type": "stream",
     "text": [
      "\n",
      "\n"
     ]
    },
    {
     "data": {
      "text/plain": [
       "Neighborhood\n",
       "Blmngtn     17\n",
       "Blueste      2\n",
       "BrDale      16\n",
       "BrkSide     58\n",
       "ClearCr     28\n",
       "CollgCr    150\n",
       "Crawfor     51\n",
       "Edwards    100\n",
       "Gilbert     79\n",
       "IDOTRR      37\n",
       "MeadowV     17\n",
       "Mitchel     49\n",
       "NAmes      225\n",
       "NPkVill      9\n",
       "NWAmes      73\n",
       "NoRidge     41\n",
       "NridgHt     77\n",
       "OldTown    113\n",
       "SWISU       25\n",
       "Sawyer      74\n",
       "SawyerW     59\n",
       "Somerst     86\n",
       "StoneBr     25\n",
       "Timber      38\n",
       "Veenker     11\n",
       "Name: count, dtype: int64"
      ]
     },
     "metadata": {},
     "output_type": "display_data"
    },
    {
     "name": "stdout",
     "output_type": "stream",
     "text": [
      "\n",
      "\n"
     ]
    },
    {
     "data": {
      "text/plain": [
       "Condition1\n",
       "Artery      48\n",
       "Feedr       81\n",
       "Norm      1260\n",
       "PosA         8\n",
       "PosN        19\n",
       "RRAe        11\n",
       "RRAn        26\n",
       "RRNe         2\n",
       "RRNn         5\n",
       "Name: count, dtype: int64"
      ]
     },
     "metadata": {},
     "output_type": "display_data"
    },
    {
     "name": "stdout",
     "output_type": "stream",
     "text": [
      "\n",
      "\n"
     ]
    },
    {
     "data": {
      "text/plain": [
       "Condition2\n",
       "Artery       2\n",
       "Feedr        6\n",
       "Norm      1445\n",
       "PosA         1\n",
       "PosN         2\n",
       "RRAe         1\n",
       "RRAn         1\n",
       "RRNn         2\n",
       "Name: count, dtype: int64"
      ]
     },
     "metadata": {},
     "output_type": "display_data"
    },
    {
     "name": "stdout",
     "output_type": "stream",
     "text": [
      "\n",
      "\n"
     ]
    },
    {
     "data": {
      "text/plain": [
       "BldgType\n",
       "1Fam      1220\n",
       "2fmCon      31\n",
       "Duplex      52\n",
       "Twnhs       43\n",
       "TwnhsE     114\n",
       "Name: count, dtype: int64"
      ]
     },
     "metadata": {},
     "output_type": "display_data"
    },
    {
     "name": "stdout",
     "output_type": "stream",
     "text": [
      "\n",
      "\n"
     ]
    },
    {
     "data": {
      "text/plain": [
       "HouseStyle\n",
       "1.5Fin    154\n",
       "1.5Unf     14\n",
       "1Story    726\n",
       "2.5Fin      8\n",
       "2.5Unf     11\n",
       "2Story    445\n",
       "SFoyer     37\n",
       "SLvl       65\n",
       "Name: count, dtype: int64"
      ]
     },
     "metadata": {},
     "output_type": "display_data"
    },
    {
     "name": "stdout",
     "output_type": "stream",
     "text": [
      "\n",
      "\n"
     ]
    },
    {
     "data": {
      "text/plain": [
       "OverallQual\n",
       "1       2\n",
       "2       3\n",
       "3      20\n",
       "4     116\n",
       "5     397\n",
       "6     374\n",
       "7     319\n",
       "8     168\n",
       "9      43\n",
       "10     18\n",
       "Name: count, dtype: int64"
      ]
     },
     "metadata": {},
     "output_type": "display_data"
    },
    {
     "name": "stdout",
     "output_type": "stream",
     "text": [
      "\n",
      "\n"
     ]
    },
    {
     "data": {
      "text/plain": [
       "OverallCond\n",
       "1      1\n",
       "2      5\n",
       "3     25\n",
       "4     57\n",
       "5    821\n",
       "6    252\n",
       "7    205\n",
       "8     72\n",
       "9     22\n",
       "Name: count, dtype: int64"
      ]
     },
     "metadata": {},
     "output_type": "display_data"
    },
    {
     "name": "stdout",
     "output_type": "stream",
     "text": [
      "\n",
      "\n"
     ]
    },
    {
     "data": {
      "text/plain": [
       "YearBuilt\n",
       "1872     1\n",
       "1875     1\n",
       "1880     4\n",
       "1882     1\n",
       "1885     2\n",
       "        ..\n",
       "2006    67\n",
       "2007    49\n",
       "2008    23\n",
       "2009    18\n",
       "2010     1\n",
       "Name: count, Length: 112, dtype: int64"
      ]
     },
     "metadata": {},
     "output_type": "display_data"
    },
    {
     "name": "stdout",
     "output_type": "stream",
     "text": [
      "\n",
      "\n"
     ]
    },
    {
     "data": {
      "text/plain": [
       "YearRemodAdd\n",
       "1950    178\n",
       "1951      4\n",
       "1952      5\n",
       "1953     10\n",
       "1954     14\n",
       "       ... \n",
       "2006     97\n",
       "2007     76\n",
       "2008     40\n",
       "2009     23\n",
       "2010      6\n",
       "Name: count, Length: 61, dtype: int64"
      ]
     },
     "metadata": {},
     "output_type": "display_data"
    },
    {
     "name": "stdout",
     "output_type": "stream",
     "text": [
      "\n",
      "\n"
     ]
    },
    {
     "data": {
      "text/plain": [
       "RoofStyle\n",
       "Flat         13\n",
       "Gable      1141\n",
       "Gambrel      11\n",
       "Hip         286\n",
       "Mansard       7\n",
       "Shed          2\n",
       "Name: count, dtype: int64"
      ]
     },
     "metadata": {},
     "output_type": "display_data"
    },
    {
     "name": "stdout",
     "output_type": "stream",
     "text": [
      "\n",
      "\n"
     ]
    },
    {
     "data": {
      "text/plain": [
       "RoofMatl\n",
       "ClyTile       1\n",
       "CompShg    1434\n",
       "Membran       1\n",
       "Metal         1\n",
       "Roll          1\n",
       "Tar&Grv      11\n",
       "WdShake       5\n",
       "WdShngl       6\n",
       "Name: count, dtype: int64"
      ]
     },
     "metadata": {},
     "output_type": "display_data"
    },
    {
     "name": "stdout",
     "output_type": "stream",
     "text": [
      "\n",
      "\n"
     ]
    },
    {
     "data": {
      "text/plain": [
       "Exterior1st\n",
       "AsbShng     20\n",
       "AsphShn      1\n",
       "BrkComm      2\n",
       "BrkFace     50\n",
       "CBlock       1\n",
       "CemntBd     61\n",
       "HdBoard    222\n",
       "ImStucc      1\n",
       "MetalSd    220\n",
       "Plywood    108\n",
       "Stone        2\n",
       "Stucco      25\n",
       "VinylSd    515\n",
       "Wd Sdng    206\n",
       "WdShing     26\n",
       "Name: count, dtype: int64"
      ]
     },
     "metadata": {},
     "output_type": "display_data"
    },
    {
     "name": "stdout",
     "output_type": "stream",
     "text": [
      "\n",
      "\n"
     ]
    },
    {
     "data": {
      "text/plain": [
       "Exterior2nd\n",
       "AsbShng     20\n",
       "AsphShn      3\n",
       "Brk Cmn      7\n",
       "BrkFace     25\n",
       "CBlock       1\n",
       "CmentBd     60\n",
       "HdBoard    207\n",
       "ImStucc     10\n",
       "MetalSd    214\n",
       "Other        1\n",
       "Plywood    142\n",
       "Stone        5\n",
       "Stucco      26\n",
       "VinylSd    504\n",
       "Wd Sdng    197\n",
       "Wd Shng     38\n",
       "Name: count, dtype: int64"
      ]
     },
     "metadata": {},
     "output_type": "display_data"
    },
    {
     "name": "stdout",
     "output_type": "stream",
     "text": [
      "\n",
      "\n"
     ]
    },
    {
     "data": {
      "text/plain": [
       "MasVnrType\n",
       "BrkCmn      15\n",
       "BrkFace    445\n",
       "Stone      128\n",
       "Name: count, dtype: int64"
      ]
     },
     "metadata": {},
     "output_type": "display_data"
    },
    {
     "name": "stdout",
     "output_type": "stream",
     "text": [
      "\n",
      "\n"
     ]
    },
    {
     "data": {
      "text/plain": [
       "MasVnrArea\n",
       "0.0       861\n",
       "1.0         2\n",
       "11.0        1\n",
       "14.0        1\n",
       "16.0        7\n",
       "         ... \n",
       "1115.0      1\n",
       "1129.0      1\n",
       "1170.0      1\n",
       "1378.0      1\n",
       "1600.0      1\n",
       "Name: count, Length: 327, dtype: int64"
      ]
     },
     "metadata": {},
     "output_type": "display_data"
    },
    {
     "name": "stdout",
     "output_type": "stream",
     "text": [
      "\n",
      "\n"
     ]
    },
    {
     "data": {
      "text/plain": [
       "ExterQual\n",
       "Ex     52\n",
       "Fa     14\n",
       "Gd    488\n",
       "TA    906\n",
       "Name: count, dtype: int64"
      ]
     },
     "metadata": {},
     "output_type": "display_data"
    },
    {
     "name": "stdout",
     "output_type": "stream",
     "text": [
      "\n",
      "\n"
     ]
    },
    {
     "data": {
      "text/plain": [
       "ExterCond\n",
       "Ex       3\n",
       "Fa      28\n",
       "Gd     146\n",
       "Po       1\n",
       "TA    1282\n",
       "Name: count, dtype: int64"
      ]
     },
     "metadata": {},
     "output_type": "display_data"
    },
    {
     "name": "stdout",
     "output_type": "stream",
     "text": [
      "\n",
      "\n"
     ]
    },
    {
     "data": {
      "text/plain": [
       "Foundation\n",
       "BrkTil    146\n",
       "CBlock    634\n",
       "PConc     647\n",
       "Slab       24\n",
       "Stone       6\n",
       "Wood        3\n",
       "Name: count, dtype: int64"
      ]
     },
     "metadata": {},
     "output_type": "display_data"
    },
    {
     "name": "stdout",
     "output_type": "stream",
     "text": [
      "\n",
      "\n"
     ]
    },
    {
     "data": {
      "text/plain": [
       "BsmtQual\n",
       "Ex    121\n",
       "Fa     35\n",
       "Gd    618\n",
       "TA    649\n",
       "Name: count, dtype: int64"
      ]
     },
     "metadata": {},
     "output_type": "display_data"
    },
    {
     "name": "stdout",
     "output_type": "stream",
     "text": [
      "\n",
      "\n"
     ]
    },
    {
     "data": {
      "text/plain": [
       "BsmtCond\n",
       "Fa      45\n",
       "Gd      65\n",
       "Po       2\n",
       "TA    1311\n",
       "Name: count, dtype: int64"
      ]
     },
     "metadata": {},
     "output_type": "display_data"
    },
    {
     "name": "stdout",
     "output_type": "stream",
     "text": [
      "\n",
      "\n"
     ]
    },
    {
     "data": {
      "text/plain": [
       "BsmtExposure\n",
       "Av    221\n",
       "Gd    134\n",
       "Mn    114\n",
       "No    953\n",
       "Name: count, dtype: int64"
      ]
     },
     "metadata": {},
     "output_type": "display_data"
    },
    {
     "name": "stdout",
     "output_type": "stream",
     "text": [
      "\n",
      "\n"
     ]
    },
    {
     "data": {
      "text/plain": [
       "BsmtFinType1\n",
       "ALQ    220\n",
       "BLQ    148\n",
       "GLQ    418\n",
       "LwQ     74\n",
       "Rec    133\n",
       "Unf    430\n",
       "Name: count, dtype: int64"
      ]
     },
     "metadata": {},
     "output_type": "display_data"
    },
    {
     "name": "stdout",
     "output_type": "stream",
     "text": [
      "\n",
      "\n"
     ]
    },
    {
     "data": {
      "text/plain": [
       "BsmtFinSF1\n",
       "0       467\n",
       "2         1\n",
       "16        9\n",
       "20        5\n",
       "24       12\n",
       "       ... \n",
       "1904      1\n",
       "2096      1\n",
       "2188      1\n",
       "2260      1\n",
       "5644      1\n",
       "Name: count, Length: 637, dtype: int64"
      ]
     },
     "metadata": {},
     "output_type": "display_data"
    },
    {
     "name": "stdout",
     "output_type": "stream",
     "text": [
      "\n",
      "\n"
     ]
    },
    {
     "data": {
      "text/plain": [
       "BsmtFinType2\n",
       "ALQ      19\n",
       "BLQ      33\n",
       "GLQ      14\n",
       "LwQ      46\n",
       "Rec      54\n",
       "Unf    1256\n",
       "Name: count, dtype: int64"
      ]
     },
     "metadata": {},
     "output_type": "display_data"
    },
    {
     "name": "stdout",
     "output_type": "stream",
     "text": [
      "\n",
      "\n"
     ]
    },
    {
     "data": {
      "text/plain": [
       "BsmtFinSF2\n",
       "0       1293\n",
       "28         1\n",
       "32         1\n",
       "35         1\n",
       "40         1\n",
       "        ... \n",
       "1080       1\n",
       "1085       1\n",
       "1120       1\n",
       "1127       1\n",
       "1474       1\n",
       "Name: count, Length: 144, dtype: int64"
      ]
     },
     "metadata": {},
     "output_type": "display_data"
    },
    {
     "name": "stdout",
     "output_type": "stream",
     "text": [
      "\n",
      "\n"
     ]
    },
    {
     "data": {
      "text/plain": [
       "BsmtUnfSF\n",
       "0       118\n",
       "14        1\n",
       "15        1\n",
       "23        2\n",
       "26        1\n",
       "       ... \n",
       "2042      1\n",
       "2046      1\n",
       "2121      1\n",
       "2153      1\n",
       "2336      1\n",
       "Name: count, Length: 780, dtype: int64"
      ]
     },
     "metadata": {},
     "output_type": "display_data"
    },
    {
     "name": "stdout",
     "output_type": "stream",
     "text": [
      "\n",
      "\n"
     ]
    },
    {
     "data": {
      "text/plain": [
       "TotalBsmtSF\n",
       "0       37\n",
       "105      1\n",
       "190      1\n",
       "264      3\n",
       "270      1\n",
       "        ..\n",
       "3094     1\n",
       "3138     1\n",
       "3200     1\n",
       "3206     1\n",
       "6110     1\n",
       "Name: count, Length: 721, dtype: int64"
      ]
     },
     "metadata": {},
     "output_type": "display_data"
    },
    {
     "name": "stdout",
     "output_type": "stream",
     "text": [
      "\n",
      "\n"
     ]
    },
    {
     "data": {
      "text/plain": [
       "Heating\n",
       "Floor       1\n",
       "GasA     1428\n",
       "GasW       18\n",
       "Grav        7\n",
       "OthW        2\n",
       "Wall        4\n",
       "Name: count, dtype: int64"
      ]
     },
     "metadata": {},
     "output_type": "display_data"
    },
    {
     "name": "stdout",
     "output_type": "stream",
     "text": [
      "\n",
      "\n"
     ]
    },
    {
     "data": {
      "text/plain": [
       "HeatingQC\n",
       "Ex    741\n",
       "Fa     49\n",
       "Gd    241\n",
       "Po      1\n",
       "TA    428\n",
       "Name: count, dtype: int64"
      ]
     },
     "metadata": {},
     "output_type": "display_data"
    },
    {
     "name": "stdout",
     "output_type": "stream",
     "text": [
      "\n",
      "\n"
     ]
    },
    {
     "data": {
      "text/plain": [
       "CentralAir\n",
       "N      95\n",
       "Y    1365\n",
       "Name: count, dtype: int64"
      ]
     },
     "metadata": {},
     "output_type": "display_data"
    },
    {
     "name": "stdout",
     "output_type": "stream",
     "text": [
      "\n",
      "\n"
     ]
    },
    {
     "data": {
      "text/plain": [
       "Electrical\n",
       "FuseA      94\n",
       "FuseF      27\n",
       "FuseP       3\n",
       "Mix         1\n",
       "SBrkr    1334\n",
       "Name: count, dtype: int64"
      ]
     },
     "metadata": {},
     "output_type": "display_data"
    },
    {
     "name": "stdout",
     "output_type": "stream",
     "text": [
      "\n",
      "\n"
     ]
    },
    {
     "data": {
      "text/plain": [
       "1stFlrSF\n",
       "334     1\n",
       "372     1\n",
       "438     1\n",
       "480     1\n",
       "483     7\n",
       "       ..\n",
       "2633    1\n",
       "2898    1\n",
       "3138    1\n",
       "3228    1\n",
       "4692    1\n",
       "Name: count, Length: 753, dtype: int64"
      ]
     },
     "metadata": {},
     "output_type": "display_data"
    },
    {
     "name": "stdout",
     "output_type": "stream",
     "text": [
      "\n",
      "\n"
     ]
    },
    {
     "data": {
      "text/plain": [
       "2ndFlrSF\n",
       "0       829\n",
       "110       1\n",
       "167       1\n",
       "192       1\n",
       "208       1\n",
       "       ... \n",
       "1611      1\n",
       "1796      1\n",
       "1818      1\n",
       "1872      1\n",
       "2065      1\n",
       "Name: count, Length: 417, dtype: int64"
      ]
     },
     "metadata": {},
     "output_type": "display_data"
    },
    {
     "name": "stdout",
     "output_type": "stream",
     "text": [
      "\n",
      "\n"
     ]
    },
    {
     "data": {
      "text/plain": [
       "LowQualFinSF\n",
       "0      1434\n",
       "53        1\n",
       "80        3\n",
       "120       1\n",
       "144       1\n",
       "156       1\n",
       "205       1\n",
       "232       1\n",
       "234       1\n",
       "360       2\n",
       "371       1\n",
       "384       1\n",
       "390       1\n",
       "392       1\n",
       "397       1\n",
       "420       1\n",
       "473       1\n",
       "479       1\n",
       "481       1\n",
       "513       1\n",
       "514       1\n",
       "515       1\n",
       "528       1\n",
       "572       1\n",
       "Name: count, dtype: int64"
      ]
     },
     "metadata": {},
     "output_type": "display_data"
    },
    {
     "name": "stdout",
     "output_type": "stream",
     "text": [
      "\n",
      "\n"
     ]
    },
    {
     "data": {
      "text/plain": [
       "GrLivArea\n",
       "334     1\n",
       "438     1\n",
       "480     1\n",
       "520     1\n",
       "605     1\n",
       "       ..\n",
       "3627    1\n",
       "4316    1\n",
       "4476    1\n",
       "4676    1\n",
       "5642    1\n",
       "Name: count, Length: 861, dtype: int64"
      ]
     },
     "metadata": {},
     "output_type": "display_data"
    },
    {
     "name": "stdout",
     "output_type": "stream",
     "text": [
      "\n",
      "\n"
     ]
    },
    {
     "data": {
      "text/plain": [
       "BsmtFullBath\n",
       "0    856\n",
       "1    588\n",
       "2     15\n",
       "3      1\n",
       "Name: count, dtype: int64"
      ]
     },
     "metadata": {},
     "output_type": "display_data"
    },
    {
     "name": "stdout",
     "output_type": "stream",
     "text": [
      "\n",
      "\n"
     ]
    },
    {
     "data": {
      "text/plain": [
       "BsmtHalfBath\n",
       "0    1378\n",
       "1      80\n",
       "2       2\n",
       "Name: count, dtype: int64"
      ]
     },
     "metadata": {},
     "output_type": "display_data"
    },
    {
     "name": "stdout",
     "output_type": "stream",
     "text": [
      "\n",
      "\n"
     ]
    },
    {
     "data": {
      "text/plain": [
       "FullBath\n",
       "0      9\n",
       "1    650\n",
       "2    768\n",
       "3     33\n",
       "Name: count, dtype: int64"
      ]
     },
     "metadata": {},
     "output_type": "display_data"
    },
    {
     "name": "stdout",
     "output_type": "stream",
     "text": [
      "\n",
      "\n"
     ]
    },
    {
     "data": {
      "text/plain": [
       "HalfBath\n",
       "0    913\n",
       "1    535\n",
       "2     12\n",
       "Name: count, dtype: int64"
      ]
     },
     "metadata": {},
     "output_type": "display_data"
    },
    {
     "name": "stdout",
     "output_type": "stream",
     "text": [
      "\n",
      "\n"
     ]
    },
    {
     "data": {
      "text/plain": [
       "BedroomAbvGr\n",
       "0      6\n",
       "1     50\n",
       "2    358\n",
       "3    804\n",
       "4    213\n",
       "5     21\n",
       "6      7\n",
       "8      1\n",
       "Name: count, dtype: int64"
      ]
     },
     "metadata": {},
     "output_type": "display_data"
    },
    {
     "name": "stdout",
     "output_type": "stream",
     "text": [
      "\n",
      "\n"
     ]
    },
    {
     "data": {
      "text/plain": [
       "KitchenAbvGr\n",
       "0       1\n",
       "1    1392\n",
       "2      65\n",
       "3       2\n",
       "Name: count, dtype: int64"
      ]
     },
     "metadata": {},
     "output_type": "display_data"
    },
    {
     "name": "stdout",
     "output_type": "stream",
     "text": [
      "\n",
      "\n"
     ]
    },
    {
     "data": {
      "text/plain": [
       "KitchenQual\n",
       "Ex    100\n",
       "Fa     39\n",
       "Gd    586\n",
       "TA    735\n",
       "Name: count, dtype: int64"
      ]
     },
     "metadata": {},
     "output_type": "display_data"
    },
    {
     "name": "stdout",
     "output_type": "stream",
     "text": [
      "\n",
      "\n"
     ]
    },
    {
     "data": {
      "text/plain": [
       "TotRmsAbvGrd\n",
       "2       1\n",
       "3      17\n",
       "4      97\n",
       "5     275\n",
       "6     402\n",
       "7     329\n",
       "8     187\n",
       "9      75\n",
       "10     47\n",
       "11     18\n",
       "12     11\n",
       "14      1\n",
       "Name: count, dtype: int64"
      ]
     },
     "metadata": {},
     "output_type": "display_data"
    },
    {
     "name": "stdout",
     "output_type": "stream",
     "text": [
      "\n",
      "\n"
     ]
    },
    {
     "data": {
      "text/plain": [
       "Functional\n",
       "Maj1      14\n",
       "Maj2       5\n",
       "Min1      31\n",
       "Min2      34\n",
       "Mod       15\n",
       "Sev        1\n",
       "Typ     1360\n",
       "Name: count, dtype: int64"
      ]
     },
     "metadata": {},
     "output_type": "display_data"
    },
    {
     "name": "stdout",
     "output_type": "stream",
     "text": [
      "\n",
      "\n"
     ]
    },
    {
     "data": {
      "text/plain": [
       "Fireplaces\n",
       "0    690\n",
       "1    650\n",
       "2    115\n",
       "3      5\n",
       "Name: count, dtype: int64"
      ]
     },
     "metadata": {},
     "output_type": "display_data"
    },
    {
     "name": "stdout",
     "output_type": "stream",
     "text": [
      "\n",
      "\n"
     ]
    },
    {
     "data": {
      "text/plain": [
       "FireplaceQu\n",
       "Ex     24\n",
       "Fa     33\n",
       "Gd    380\n",
       "Po     20\n",
       "TA    313\n",
       "Name: count, dtype: int64"
      ]
     },
     "metadata": {},
     "output_type": "display_data"
    },
    {
     "name": "stdout",
     "output_type": "stream",
     "text": [
      "\n",
      "\n"
     ]
    },
    {
     "data": {
      "text/plain": [
       "GarageType\n",
       "2Types       6\n",
       "Attchd     870\n",
       "Basment     19\n",
       "BuiltIn     88\n",
       "CarPort      9\n",
       "Detchd     387\n",
       "Name: count, dtype: int64"
      ]
     },
     "metadata": {},
     "output_type": "display_data"
    },
    {
     "name": "stdout",
     "output_type": "stream",
     "text": [
      "\n",
      "\n"
     ]
    },
    {
     "data": {
      "text/plain": [
       "GarageYrBlt\n",
       "1900.0     1\n",
       "1906.0     1\n",
       "1908.0     1\n",
       "1910.0     3\n",
       "1914.0     2\n",
       "          ..\n",
       "2006.0    59\n",
       "2007.0    49\n",
       "2008.0    29\n",
       "2009.0    21\n",
       "2010.0     3\n",
       "Name: count, Length: 97, dtype: int64"
      ]
     },
     "metadata": {},
     "output_type": "display_data"
    },
    {
     "name": "stdout",
     "output_type": "stream",
     "text": [
      "\n",
      "\n"
     ]
    },
    {
     "data": {
      "text/plain": [
       "GarageFinish\n",
       "Fin    352\n",
       "RFn    422\n",
       "Unf    605\n",
       "Name: count, dtype: int64"
      ]
     },
     "metadata": {},
     "output_type": "display_data"
    },
    {
     "name": "stdout",
     "output_type": "stream",
     "text": [
      "\n",
      "\n"
     ]
    },
    {
     "data": {
      "text/plain": [
       "GarageCars\n",
       "0     81\n",
       "1    369\n",
       "2    824\n",
       "3    181\n",
       "4      5\n",
       "Name: count, dtype: int64"
      ]
     },
     "metadata": {},
     "output_type": "display_data"
    },
    {
     "name": "stdout",
     "output_type": "stream",
     "text": [
      "\n",
      "\n"
     ]
    },
    {
     "data": {
      "text/plain": [
       "GarageArea\n",
       "0       81\n",
       "160      2\n",
       "164      1\n",
       "180      9\n",
       "186      1\n",
       "        ..\n",
       "1220     1\n",
       "1248     1\n",
       "1356     1\n",
       "1390     1\n",
       "1418     1\n",
       "Name: count, Length: 441, dtype: int64"
      ]
     },
     "metadata": {},
     "output_type": "display_data"
    },
    {
     "name": "stdout",
     "output_type": "stream",
     "text": [
      "\n",
      "\n"
     ]
    },
    {
     "data": {
      "text/plain": [
       "GarageQual\n",
       "Ex       3\n",
       "Fa      48\n",
       "Gd      14\n",
       "Po       3\n",
       "TA    1311\n",
       "Name: count, dtype: int64"
      ]
     },
     "metadata": {},
     "output_type": "display_data"
    },
    {
     "name": "stdout",
     "output_type": "stream",
     "text": [
      "\n",
      "\n"
     ]
    },
    {
     "data": {
      "text/plain": [
       "GarageCond\n",
       "Ex       2\n",
       "Fa      35\n",
       "Gd       9\n",
       "Po       7\n",
       "TA    1326\n",
       "Name: count, dtype: int64"
      ]
     },
     "metadata": {},
     "output_type": "display_data"
    },
    {
     "name": "stdout",
     "output_type": "stream",
     "text": [
      "\n",
      "\n"
     ]
    },
    {
     "data": {
      "text/plain": [
       "PavedDrive\n",
       "N      90\n",
       "P      30\n",
       "Y    1340\n",
       "Name: count, dtype: int64"
      ]
     },
     "metadata": {},
     "output_type": "display_data"
    },
    {
     "name": "stdout",
     "output_type": "stream",
     "text": [
      "\n",
      "\n"
     ]
    },
    {
     "data": {
      "text/plain": [
       "WoodDeckSF\n",
       "0      761\n",
       "12       2\n",
       "24       2\n",
       "26       2\n",
       "28       2\n",
       "      ... \n",
       "668      1\n",
       "670      1\n",
       "728      1\n",
       "736      1\n",
       "857      1\n",
       "Name: count, Length: 274, dtype: int64"
      ]
     },
     "metadata": {},
     "output_type": "display_data"
    },
    {
     "name": "stdout",
     "output_type": "stream",
     "text": [
      "\n",
      "\n"
     ]
    },
    {
     "data": {
      "text/plain": [
       "OpenPorchSF\n",
       "0      656\n",
       "4        1\n",
       "8        1\n",
       "10       1\n",
       "11       1\n",
       "      ... \n",
       "406      1\n",
       "418      1\n",
       "502      1\n",
       "523      1\n",
       "547      1\n",
       "Name: count, Length: 202, dtype: int64"
      ]
     },
     "metadata": {},
     "output_type": "display_data"
    },
    {
     "name": "stdout",
     "output_type": "stream",
     "text": [
      "\n",
      "\n"
     ]
    },
    {
     "data": {
      "text/plain": [
       "EnclosedPorch\n",
       "0      1252\n",
       "19        1\n",
       "20        1\n",
       "24        1\n",
       "30        1\n",
       "       ... \n",
       "301       1\n",
       "318       1\n",
       "330       1\n",
       "386       1\n",
       "552       1\n",
       "Name: count, Length: 120, dtype: int64"
      ]
     },
     "metadata": {},
     "output_type": "display_data"
    },
    {
     "name": "stdout",
     "output_type": "stream",
     "text": [
      "\n",
      "\n"
     ]
    },
    {
     "data": {
      "text/plain": [
       "3SsnPorch\n",
       "0      1436\n",
       "23        1\n",
       "96        1\n",
       "130       1\n",
       "140       1\n",
       "144       2\n",
       "153       1\n",
       "162       1\n",
       "168       3\n",
       "180       2\n",
       "182       1\n",
       "196       1\n",
       "216       2\n",
       "238       1\n",
       "245       1\n",
       "290       1\n",
       "304       1\n",
       "320       1\n",
       "407       1\n",
       "508       1\n",
       "Name: count, dtype: int64"
      ]
     },
     "metadata": {},
     "output_type": "display_data"
    },
    {
     "name": "stdout",
     "output_type": "stream",
     "text": [
      "\n",
      "\n"
     ]
    },
    {
     "data": {
      "text/plain": [
       "ScreenPorch\n",
       "0      1344\n",
       "40        1\n",
       "53        1\n",
       "60        1\n",
       "63        1\n",
       "       ... \n",
       "385       1\n",
       "396       1\n",
       "410       1\n",
       "440       1\n",
       "480       1\n",
       "Name: count, Length: 76, dtype: int64"
      ]
     },
     "metadata": {},
     "output_type": "display_data"
    },
    {
     "name": "stdout",
     "output_type": "stream",
     "text": [
      "\n",
      "\n"
     ]
    },
    {
     "data": {
      "text/plain": [
       "PoolArea\n",
       "0      1453\n",
       "480       1\n",
       "512       1\n",
       "519       1\n",
       "555       1\n",
       "576       1\n",
       "648       1\n",
       "738       1\n",
       "Name: count, dtype: int64"
      ]
     },
     "metadata": {},
     "output_type": "display_data"
    },
    {
     "name": "stdout",
     "output_type": "stream",
     "text": [
      "\n",
      "\n"
     ]
    },
    {
     "data": {
      "text/plain": [
       "PoolQC\n",
       "Ex    2\n",
       "Fa    2\n",
       "Gd    3\n",
       "Name: count, dtype: int64"
      ]
     },
     "metadata": {},
     "output_type": "display_data"
    },
    {
     "name": "stdout",
     "output_type": "stream",
     "text": [
      "\n",
      "\n"
     ]
    },
    {
     "data": {
      "text/plain": [
       "Fence\n",
       "GdPrv     59\n",
       "GdWo      54\n",
       "MnPrv    157\n",
       "MnWw      11\n",
       "Name: count, dtype: int64"
      ]
     },
     "metadata": {},
     "output_type": "display_data"
    },
    {
     "name": "stdout",
     "output_type": "stream",
     "text": [
      "\n",
      "\n"
     ]
    },
    {
     "data": {
      "text/plain": [
       "MiscFeature\n",
       "Gar2     2\n",
       "Othr     2\n",
       "Shed    49\n",
       "TenC     1\n",
       "Name: count, dtype: int64"
      ]
     },
     "metadata": {},
     "output_type": "display_data"
    },
    {
     "name": "stdout",
     "output_type": "stream",
     "text": [
      "\n",
      "\n"
     ]
    },
    {
     "data": {
      "text/plain": [
       "MiscVal\n",
       "0        1408\n",
       "54          1\n",
       "350         1\n",
       "400        11\n",
       "450         4\n",
       "480         2\n",
       "500         8\n",
       "560         1\n",
       "600         4\n",
       "620         1\n",
       "700         5\n",
       "800         1\n",
       "1150        1\n",
       "1200        2\n",
       "1300        1\n",
       "1400        1\n",
       "2000        4\n",
       "2500        1\n",
       "3500        1\n",
       "8300        1\n",
       "15500       1\n",
       "Name: count, dtype: int64"
      ]
     },
     "metadata": {},
     "output_type": "display_data"
    },
    {
     "name": "stdout",
     "output_type": "stream",
     "text": [
      "\n",
      "\n"
     ]
    },
    {
     "data": {
      "text/plain": [
       "MoSold\n",
       "1      58\n",
       "2      52\n",
       "3     106\n",
       "4     141\n",
       "5     204\n",
       "6     253\n",
       "7     234\n",
       "8     122\n",
       "9      63\n",
       "10     89\n",
       "11     79\n",
       "12     59\n",
       "Name: count, dtype: int64"
      ]
     },
     "metadata": {},
     "output_type": "display_data"
    },
    {
     "name": "stdout",
     "output_type": "stream",
     "text": [
      "\n",
      "\n"
     ]
    },
    {
     "data": {
      "text/plain": [
       "YrSold\n",
       "2006    314\n",
       "2007    329\n",
       "2008    304\n",
       "2009    338\n",
       "2010    175\n",
       "Name: count, dtype: int64"
      ]
     },
     "metadata": {},
     "output_type": "display_data"
    },
    {
     "name": "stdout",
     "output_type": "stream",
     "text": [
      "\n",
      "\n"
     ]
    },
    {
     "data": {
      "text/plain": [
       "SaleType\n",
       "COD        43\n",
       "CWD         4\n",
       "Con         2\n",
       "ConLD       9\n",
       "ConLI       5\n",
       "ConLw       5\n",
       "New       122\n",
       "Oth         3\n",
       "WD       1267\n",
       "Name: count, dtype: int64"
      ]
     },
     "metadata": {},
     "output_type": "display_data"
    },
    {
     "name": "stdout",
     "output_type": "stream",
     "text": [
      "\n",
      "\n"
     ]
    },
    {
     "data": {
      "text/plain": [
       "SaleCondition\n",
       "Abnorml     101\n",
       "AdjLand       4\n",
       "Alloca       12\n",
       "Family       20\n",
       "Normal     1198\n",
       "Partial     125\n",
       "Name: count, dtype: int64"
      ]
     },
     "metadata": {},
     "output_type": "display_data"
    },
    {
     "name": "stdout",
     "output_type": "stream",
     "text": [
      "\n",
      "\n"
     ]
    },
    {
     "data": {
      "text/plain": [
       "SalePrice\n",
       "34900     1\n",
       "35311     1\n",
       "37900     1\n",
       "39300     1\n",
       "40000     1\n",
       "         ..\n",
       "582933    1\n",
       "611657    1\n",
       "625000    1\n",
       "745000    1\n",
       "755000    1\n",
       "Name: count, Length: 663, dtype: int64"
      ]
     },
     "metadata": {},
     "output_type": "display_data"
    },
    {
     "name": "stdout",
     "output_type": "stream",
     "text": [
      "\n",
      "\n"
     ]
    }
   ],
   "source": [
    "display_column_value_counts(train_df)"
   ]
  },
  {
   "cell_type": "markdown",
   "id": "43266adc-cc33-49c7-9169-03399df2b983",
   "metadata": {},
   "source": [
    "Some Findings:\n",
    "\n",
    "- The Id column does not contribute to the predictive power of the model and can potentially cause issues with performnace and accuracy, so remove it.\n",
    "- Every value in the LotFrontage column is an int, so let's change the type of this column from float to int for memory efficiency.\n",
    "- Utilites only has 1 value for NoSeWa, so get rid of this column since it's highly imbalanced and won't help the model much.\n",
    "- The values in MasVnrArea can also be changed to integers."
   ]
  },
  {
   "cell_type": "markdown",
   "id": "c68afd10-3a8d-47b7-9fa5-27947faedfe8",
   "metadata": {},
   "source": [
    "The Id column from test_df will be important for us when we make the csv file for our findings so let's keep them in a separate variable."
   ]
  },
  {
   "cell_type": "code",
   "execution_count": 61,
   "id": "da52ec89-11ce-4d9d-9844-83655ef21162",
   "metadata": {},
   "outputs": [],
   "source": [
    "ids = test_df[\"Id\"]"
   ]
  },
  {
   "cell_type": "markdown",
   "id": "637f0613-4163-442c-9a37-5987cc1d8831",
   "metadata": {},
   "source": [
    "First, we remove the columns that offer little to our model."
   ]
  },
  {
   "cell_type": "code",
   "execution_count": 62,
   "id": "cb95b4f7-4dd3-4f39-aef4-323312d44279",
   "metadata": {},
   "outputs": [],
   "source": [
    "for df in [train_df, test_df]:\n",
    "    df.drop(columns=[\"Id\", \"Utilities\"], inplace=True)"
   ]
  },
  {
   "cell_type": "markdown",
   "id": "738c8218-5dd2-4ac1-8abd-419aa1da2d5c",
   "metadata": {},
   "source": [
    "Next, we can make the LotFrontage and MasVnrArea columns have integer values, but before that, let's view the value counts of the columns to see if we need to fill in any empty values in some of the columns with 0 or another value."
   ]
  },
  {
   "cell_type": "markdown",
   "id": "f03ef9b3-d6c0-4cb2-a272-bf6b8ec80a2d",
   "metadata": {},
   "source": [
    "### Fill in missing values"
   ]
  },
  {
   "cell_type": "code",
   "execution_count": 63,
   "id": "07ad6eef-92b7-4e01-9a2e-2e6f17edbe5e",
   "metadata": {},
   "outputs": [
    {
     "name": "stdout",
     "output_type": "stream",
     "text": [
      "LotFrontage 259 float64\n",
      "Alley 1369 object\n",
      "MasVnrType 872 object\n",
      "MasVnrArea 8 float64\n",
      "BsmtQual 37 object\n",
      "BsmtCond 37 object\n",
      "BsmtExposure 38 object\n",
      "BsmtFinType1 37 object\n",
      "BsmtFinType2 38 object\n",
      "Electrical 1 object\n",
      "FireplaceQu 690 object\n",
      "GarageType 81 object\n",
      "GarageYrBlt 81 float64\n",
      "GarageFinish 81 object\n",
      "GarageQual 81 object\n",
      "GarageCond 81 object\n",
      "PoolQC 1453 object\n",
      "Fence 1179 object\n",
      "MiscFeature 1406 object\n"
     ]
    }
   ],
   "source": [
    "for column in train_df.columns:\n",
    "    values = train_df[column].isnull().sum()\n",
    "    if values:\n",
    "        print(column, values, train_df[column].dtype)"
   ]
  },
  {
   "cell_type": "markdown",
   "id": "bb44d0c7-2aa9-43b1-aa48-de0d88d71cd3",
   "metadata": {},
   "source": [
    "The only columns with null values that have a data type of float are LotFrontage, MasVnrArea, and GarageYrBlt. LotFrontage and MasVnrArea can have their null values set to 0, but for GarageYrBlt, we can fill in the null values with the value of the average for that column, and change the data type for the column from float to int."
   ]
  },
  {
   "cell_type": "code",
   "execution_count": 64,
   "id": "a54ae0f1-c915-49f3-919d-dc1a971158b1",
   "metadata": {},
   "outputs": [
    {
     "data": {
      "text/plain": [
       "(None, None)"
      ]
     },
     "execution_count": 64,
     "metadata": {},
     "output_type": "execute_result"
    }
   ],
   "source": [
    "def fill_in_null_values(df):\n",
    "    for column in [\"LotFrontage\", \"MasVnrArea\"]:\n",
    "        # when you use inplace=True, the method modifies the DataFrame in place and returns None.\n",
    "        # this means you cannot chain it with other operations or assign it back to a column.\n",
    "        df[column] = df[column].fillna(0).astype(int)\n",
    "\n",
    "fill_in_null_values(train_df), fill_in_null_values(test_df)"
   ]
  },
  {
   "cell_type": "code",
   "execution_count": 65,
   "id": "e9efbdf4-4cec-4157-a8f6-abe9700c2fff",
   "metadata": {},
   "outputs": [],
   "source": [
    "train_df[\"GarageYrBlt\"] = train_df[\"GarageYrBlt\"].fillna(round(train_df[\"GarageYrBlt\"].mean())).astype(int)\n",
    "test_df[\"GarageYrBlt\"] = test_df[\"GarageYrBlt\"].fillna(round(test_df[\"GarageYrBlt\"].mean())).astype(int)"
   ]
  },
  {
   "cell_type": "markdown",
   "id": "b515be59-6ae1-4ba7-834e-052dbed90fdf",
   "metadata": {},
   "source": [
    "Now we have 0 for a few columns, and a better GarageYrBlt column, let's take a look at some histograms to see if we can remove any more data in our dataframes."
   ]
  },
  {
   "cell_type": "markdown",
   "id": "49451775-034f-456c-adf6-e2cf243d6283",
   "metadata": {},
   "source": [
    "### View the histograms"
   ]
  },
  {
   "cell_type": "code",
   "execution_count": 66,
   "id": "ed91490c-04ce-4894-b1b3-a2fdf41ddbe8",
   "metadata": {},
   "outputs": [
    {
     "data": {
      "image/png": "[encoded data removed]",
      "text/plain": [
       "<Figure size 2000x10000 with 80 Axes>"
      ]
     },
     "metadata": {},
     "output_type": "display_data"
    }
   ],
   "source": [
    "colors = cycle(plt.rcParams[\"axes.prop_cycle\"].by_key()[\"color\"])\n",
    "\n",
    "# create subplots\n",
    "num_columns = len(train_df.columns)\n",
    "plot_columns = 4\n",
    "num_rows = (num_columns + 3) // plot_columns  # floor divide by 4 because you want 4 columns \n",
    "fig, axs = plt.subplots(num_rows, plot_columns, figsize=(20, 5 * num_rows), sharex=False, sharey=True)\n",
    "axs = axs.flatten()  # flatten the 2D array of axes for easy iteration\n",
    "\n",
    "# plot histograms\n",
    "for i, column in enumerate(train_df.columns):\n",
    "    sns.histplot(train_df[column], ax=axs[i], color=next(colors))  # use the next color in the cycle\n",
    "    axs[i].set_title(column)\n",
    "\n",
    "# this is so we can hide the unused histograms\n",
    "for j in range(i + 1, len(axs)):\n",
    "    axs[j].set_visible(False)\n",
    "\n",
    "plt.tight_layout()\n",
    "plt.show()"
   ]
  },
  {
   "cell_type": "markdown",
   "id": "95694940-5d51-4b7b-a021-f5a2616278df",
   "metadata": {},
   "source": [
    "The columns with a highly skewed distribution are: Condition2, RoofMatl, LowQualFinSF, 3SsnPorch, PoolArea, MiscVal. The ones that make sense to modify are Condition2, and RoofMatl because the data type for the values in those columns is object, and columns that have values that show up once in a dataframe of this size won't help our model much. One thing we can do is use binary encoding and replace each of those columns with a column that says if it's the most popular value for that column or not."
   ]
  },
  {
   "cell_type": "markdown",
   "id": "4b8c6ec3-be26-4de0-b93e-6443fa69521f",
   "metadata": {},
   "source": [
    "### Binary encoding"
   ]
  },
  {
   "cell_type": "code",
   "execution_count": 67,
   "id": "532f4925-96d0-47a7-8049-a22af144d10a",
   "metadata": {},
   "outputs": [
    {
     "data": {
      "text/plain": [
       "Condition2\n",
       "Norm      1445\n",
       "Feedr        6\n",
       "Artery       2\n",
       "RRNn         2\n",
       "PosN         2\n",
       "PosA         1\n",
       "RRAn         1\n",
       "RRAe         1\n",
       "Name: count, dtype: int64"
      ]
     },
     "execution_count": 67,
     "metadata": {},
     "output_type": "execute_result"
    }
   ],
   "source": [
    "train_df[\"Condition2\"].value_counts()"
   ]
  },
  {
   "cell_type": "markdown",
   "id": "f4576dda-1de8-46eb-a390-d54d732d74f7",
   "metadata": {},
   "source": [
    "We can replace the Condition2 column with IsCondition2Norm."
   ]
  },
  {
   "cell_type": "code",
   "execution_count": 68,
   "id": "fa744d80-6780-4fed-92ae-0b99f27479d9",
   "metadata": {},
   "outputs": [
    {
     "data": {
      "text/plain": [
       "RoofMatl\n",
       "CompShg    1434\n",
       "Tar&Grv      11\n",
       "WdShngl       6\n",
       "WdShake       5\n",
       "Metal         1\n",
       "Membran       1\n",
       "Roll          1\n",
       "ClyTile       1\n",
       "Name: count, dtype: int64"
      ]
     },
     "execution_count": 68,
     "metadata": {},
     "output_type": "execute_result"
    }
   ],
   "source": [
    "train_df[\"RoofMatl\"].value_counts()"
   ]
  },
  {
   "cell_type": "markdown",
   "id": "95562055-b4e1-42ca-9f51-529ce5863d2d",
   "metadata": {},
   "source": [
    "We can replace the RoofMatl column with IsRoofMatlCompShg."
   ]
  },
  {
   "cell_type": "code",
   "execution_count": 69,
   "id": "0ac280f8-6e9e-41ab-b855-7996a50007f5",
   "metadata": {},
   "outputs": [],
   "source": [
    "for df in [train_df, test_df]:\n",
    "    df[\"IsCondition2Norm\"] = (df[\"Condition2\"] == \"Norm\").astype(int)\n",
    "    df[\"IsRoofMatlCompShg\"] = (df[\"RoofMatl\"] == \"CompShg\").astype(int)\n",
    "    df.drop(columns=[\"Condition2\", \"RoofMatl\"], inplace=True)"
   ]
  },
  {
   "cell_type": "markdown",
   "id": "4263a48f-e965-4eeb-ae82-bdc508f86d2d",
   "metadata": {},
   "source": [
    "Another thing from the histogram we can view, is that CentralAir only has two values, so let's make this column a bunch of 1s and 0s."
   ]
  },
  {
   "cell_type": "code",
   "execution_count": 70,
   "id": "ac024a52-4be7-4c16-8706-3232472869b0",
   "metadata": {},
   "outputs": [],
   "source": [
    "train_df[\"CentralAir\"] = (train_df[\"CentralAir\"] == \"Y\").astype(int)\n",
    "test_df[\"CentralAir\"] = (test_df[\"CentralAir\"] == \"Y\").astype(int)"
   ]
  },
  {
   "cell_type": "markdown",
   "id": "baea065e-8623-40b3-9a9d-1838f2703f3e",
   "metadata": {},
   "source": [
    "Let's look at the value counts again and see if we can do more feature engineering."
   ]
  },
  {
   "cell_type": "code",
   "execution_count": 71,
   "id": "0697a517-754b-4698-91fb-e6d97df1dd15",
   "metadata": {},
   "outputs": [
    {
     "data": {
      "text/plain": [
       "MSSubClass\n",
       "20     536\n",
       "30      69\n",
       "40       4\n",
       "45      12\n",
       "50     144\n",
       "60     299\n",
       "70      60\n",
       "75      16\n",
       "80      58\n",
       "85      20\n",
       "90      52\n",
       "120     87\n",
       "160     63\n",
       "180     10\n",
       "190     30\n",
       "Name: count, dtype: int64"
      ]
     },
     "metadata": {},
     "output_type": "display_data"
    },
    {
     "name": "stdout",
     "output_type": "stream",
     "text": [
      "\n",
      "\n"
     ]
    },
    {
     "data": {
      "text/plain": [
       "MSZoning\n",
       "C (all)      10\n",
       "FV           65\n",
       "RH           16\n",
       "RL         1151\n",
       "RM          218\n",
       "Name: count, dtype: int64"
      ]
     },
     "metadata": {},
     "output_type": "display_data"
    },
    {
     "name": "stdout",
     "output_type": "stream",
     "text": [
      "\n",
      "\n"
     ]
    },
    {
     "data": {
      "text/plain": [
       "LotFrontage\n",
       "0      259\n",
       "21      23\n",
       "24      19\n",
       "30       6\n",
       "32       5\n",
       "      ... \n",
       "160      1\n",
       "168      1\n",
       "174      2\n",
       "182      1\n",
       "313      2\n",
       "Name: count, Length: 111, dtype: int64"
      ]
     },
     "metadata": {},
     "output_type": "display_data"
    },
    {
     "name": "stdout",
     "output_type": "stream",
     "text": [
      "\n",
      "\n"
     ]
    },
    {
     "data": {
      "text/plain": [
       "LotArea\n",
       "1300      1\n",
       "1477      1\n",
       "1491      1\n",
       "1526      1\n",
       "1533      2\n",
       "         ..\n",
       "70761     1\n",
       "115149    1\n",
       "159000    1\n",
       "164660    1\n",
       "215245    1\n",
       "Name: count, Length: 1073, dtype: int64"
      ]
     },
     "metadata": {},
     "output_type": "display_data"
    },
    {
     "name": "stdout",
     "output_type": "stream",
     "text": [
      "\n",
      "\n"
     ]
    },
    {
     "data": {
      "text/plain": [
       "Street\n",
       "Grvl       6\n",
       "Pave    1454\n",
       "Name: count, dtype: int64"
      ]
     },
     "metadata": {},
     "output_type": "display_data"
    },
    {
     "name": "stdout",
     "output_type": "stream",
     "text": [
      "\n",
      "\n"
     ]
    },
    {
     "data": {
      "text/plain": [
       "Alley\n",
       "Grvl    50\n",
       "Pave    41\n",
       "Name: count, dtype: int64"
      ]
     },
     "metadata": {},
     "output_type": "display_data"
    },
    {
     "name": "stdout",
     "output_type": "stream",
     "text": [
      "\n",
      "\n"
     ]
    },
    {
     "data": {
      "text/plain": [
       "LotShape\n",
       "IR1    484\n",
       "IR2     41\n",
       "IR3     10\n",
       "Reg    925\n",
       "Name: count, dtype: int64"
      ]
     },
     "metadata": {},
     "output_type": "display_data"
    },
    {
     "name": "stdout",
     "output_type": "stream",
     "text": [
      "\n",
      "\n"
     ]
    },
    {
     "data": {
      "text/plain": [
       "LandContour\n",
       "Bnk      63\n",
       "HLS      50\n",
       "Low      36\n",
       "Lvl    1311\n",
       "Name: count, dtype: int64"
      ]
     },
     "metadata": {},
     "output_type": "display_data"
    },
    {
     "name": "stdout",
     "output_type": "stream",
     "text": [
      "\n",
      "\n"
     ]
    },
    {
     "data": {
      "text/plain": [
       "LotConfig\n",
       "Corner      263\n",
       "CulDSac      94\n",
       "FR2          47\n",
       "FR3           4\n",
       "Inside     1052\n",
       "Name: count, dtype: int64"
      ]
     },
     "metadata": {},
     "output_type": "display_data"
    },
    {
     "name": "stdout",
     "output_type": "stream",
     "text": [
      "\n",
      "\n"
     ]
    },
    {
     "data": {
      "text/plain": [
       "LandSlope\n",
       "Gtl    1382\n",
       "Mod      65\n",
       "Sev      13\n",
       "Name: count, dtype: int64"
      ]
     },
     "metadata": {},
     "output_type": "display_data"
    },
    {
     "name": "stdout",
     "output_type": "stream",
     "text": [
      "\n",
      "\n"
     ]
    },
    {
     "data": {
      "text/plain": [
       "Neighborhood\n",
       "Blmngtn     17\n",
       "Blueste      2\n",
       "BrDale      16\n",
       "BrkSide     58\n",
       "ClearCr     28\n",
       "CollgCr    150\n",
       "Crawfor     51\n",
       "Edwards    100\n",
       "Gilbert     79\n",
       "IDOTRR      37\n",
       "MeadowV     17\n",
       "Mitchel     49\n",
       "NAmes      225\n",
       "NPkVill      9\n",
       "NWAmes      73\n",
       "NoRidge     41\n",
       "NridgHt     77\n",
       "OldTown    113\n",
       "SWISU       25\n",
       "Sawyer      74\n",
       "SawyerW     59\n",
       "Somerst     86\n",
       "StoneBr     25\n",
       "Timber      38\n",
       "Veenker     11\n",
       "Name: count, dtype: int64"
      ]
     },
     "metadata": {},
     "output_type": "display_data"
    },
    {
     "name": "stdout",
     "output_type": "stream",
     "text": [
      "\n",
      "\n"
     ]
    },
    {
     "data": {
      "text/plain": [
       "Condition1\n",
       "Artery      48\n",
       "Feedr       81\n",
       "Norm      1260\n",
       "PosA         8\n",
       "PosN        19\n",
       "RRAe        11\n",
       "RRAn        26\n",
       "RRNe         2\n",
       "RRNn         5\n",
       "Name: count, dtype: int64"
      ]
     },
     "metadata": {},
     "output_type": "display_data"
    },
    {
     "name": "stdout",
     "output_type": "stream",
     "text": [
      "\n",
      "\n"
     ]
    },
    {
     "data": {
      "text/plain": [
       "BldgType\n",
       "1Fam      1220\n",
       "2fmCon      31\n",
       "Duplex      52\n",
       "Twnhs       43\n",
       "TwnhsE     114\n",
       "Name: count, dtype: int64"
      ]
     },
     "metadata": {},
     "output_type": "display_data"
    },
    {
     "name": "stdout",
     "output_type": "stream",
     "text": [
      "\n",
      "\n"
     ]
    },
    {
     "data": {
      "text/plain": [
       "HouseStyle\n",
       "1.5Fin    154\n",
       "1.5Unf     14\n",
       "1Story    726\n",
       "2.5Fin      8\n",
       "2.5Unf     11\n",
       "2Story    445\n",
       "SFoyer     37\n",
       "SLvl       65\n",
       "Name: count, dtype: int64"
      ]
     },
     "metadata": {},
     "output_type": "display_data"
    },
    {
     "name": "stdout",
     "output_type": "stream",
     "text": [
      "\n",
      "\n"
     ]
    },
    {
     "data": {
      "text/plain": [
       "OverallQual\n",
       "1       2\n",
       "2       3\n",
       "3      20\n",
       "4     116\n",
       "5     397\n",
       "6     374\n",
       "7     319\n",
       "8     168\n",
       "9      43\n",
       "10     18\n",
       "Name: count, dtype: int64"
      ]
     },
     "metadata": {},
     "output_type": "display_data"
    },
    {
     "name": "stdout",
     "output_type": "stream",
     "text": [
      "\n",
      "\n"
     ]
    },
    {
     "data": {
      "text/plain": [
       "OverallCond\n",
       "1      1\n",
       "2      5\n",
       "3     25\n",
       "4     57\n",
       "5    821\n",
       "6    252\n",
       "7    205\n",
       "8     72\n",
       "9     22\n",
       "Name: count, dtype: int64"
      ]
     },
     "metadata": {},
     "output_type": "display_data"
    },
    {
     "name": "stdout",
     "output_type": "stream",
     "text": [
      "\n",
      "\n"
     ]
    },
    {
     "data": {
      "text/plain": [
       "YearBuilt\n",
       "1872     1\n",
       "1875     1\n",
       "1880     4\n",
       "1882     1\n",
       "1885     2\n",
       "        ..\n",
       "2006    67\n",
       "2007    49\n",
       "2008    23\n",
       "2009    18\n",
       "2010     1\n",
       "Name: count, Length: 112, dtype: int64"
      ]
     },
     "metadata": {},
     "output_type": "display_data"
    },
    {
     "name": "stdout",
     "output_type": "stream",
     "text": [
      "\n",
      "\n"
     ]
    },
    {
     "data": {
      "text/plain": [
       "YearRemodAdd\n",
       "1950    178\n",
       "1951      4\n",
       "1952      5\n",
       "1953     10\n",
       "1954     14\n",
       "       ... \n",
       "2006     97\n",
       "2007     76\n",
       "2008     40\n",
       "2009     23\n",
       "2010      6\n",
       "Name: count, Length: 61, dtype: int64"
      ]
     },
     "metadata": {},
     "output_type": "display_data"
    },
    {
     "name": "stdout",
     "output_type": "stream",
     "text": [
      "\n",
      "\n"
     ]
    },
    {
     "data": {
      "text/plain": [
       "RoofStyle\n",
       "Flat         13\n",
       "Gable      1141\n",
       "Gambrel      11\n",
       "Hip         286\n",
       "Mansard       7\n",
       "Shed          2\n",
       "Name: count, dtype: int64"
      ]
     },
     "metadata": {},
     "output_type": "display_data"
    },
    {
     "name": "stdout",
     "output_type": "stream",
     "text": [
      "\n",
      "\n"
     ]
    },
    {
     "data": {
      "text/plain": [
       "Exterior1st\n",
       "AsbShng     20\n",
       "AsphShn      1\n",
       "BrkComm      2\n",
       "BrkFace     50\n",
       "CBlock       1\n",
       "CemntBd     61\n",
       "HdBoard    222\n",
       "ImStucc      1\n",
       "MetalSd    220\n",
       "Plywood    108\n",
       "Stone        2\n",
       "Stucco      25\n",
       "VinylSd    515\n",
       "Wd Sdng    206\n",
       "WdShing     26\n",
       "Name: count, dtype: int64"
      ]
     },
     "metadata": {},
     "output_type": "display_data"
    },
    {
     "name": "stdout",
     "output_type": "stream",
     "text": [
      "\n",
      "\n"
     ]
    },
    {
     "data": {
      "text/plain": [
       "Exterior2nd\n",
       "AsbShng     20\n",
       "AsphShn      3\n",
       "Brk Cmn      7\n",
       "BrkFace     25\n",
       "CBlock       1\n",
       "CmentBd     60\n",
       "HdBoard    207\n",
       "ImStucc     10\n",
       "MetalSd    214\n",
       "Other        1\n",
       "Plywood    142\n",
       "Stone        5\n",
       "Stucco      26\n",
       "VinylSd    504\n",
       "Wd Sdng    197\n",
       "Wd Shng     38\n",
       "Name: count, dtype: int64"
      ]
     },
     "metadata": {},
     "output_type": "display_data"
    },
    {
     "name": "stdout",
     "output_type": "stream",
     "text": [
      "\n",
      "\n"
     ]
    },
    {
     "data": {
      "text/plain": [
       "MasVnrType\n",
       "BrkCmn      15\n",
       "BrkFace    445\n",
       "Stone      128\n",
       "Name: count, dtype: int64"
      ]
     },
     "metadata": {},
     "output_type": "display_data"
    },
    {
     "name": "stdout",
     "output_type": "stream",
     "text": [
      "\n",
      "\n"
     ]
    },
    {
     "data": {
      "text/plain": [
       "MasVnrArea\n",
       "0       869\n",
       "1         2\n",
       "11        1\n",
       "14        1\n",
       "16        7\n",
       "       ... \n",
       "1115      1\n",
       "1129      1\n",
       "1170      1\n",
       "1378      1\n",
       "1600      1\n",
       "Name: count, Length: 327, dtype: int64"
      ]
     },
     "metadata": {},
     "output_type": "display_data"
    },
    {
     "name": "stdout",
     "output_type": "stream",
     "text": [
      "\n",
      "\n"
     ]
    },
    {
     "data": {
      "text/plain": [
       "ExterQual\n",
       "Ex     52\n",
       "Fa     14\n",
       "Gd    488\n",
       "TA    906\n",
       "Name: count, dtype: int64"
      ]
     },
     "metadata": {},
     "output_type": "display_data"
    },
    {
     "name": "stdout",
     "output_type": "stream",
     "text": [
      "\n",
      "\n"
     ]
    },
    {
     "data": {
      "text/plain": [
       "ExterCond\n",
       "Ex       3\n",
       "Fa      28\n",
       "Gd     146\n",
       "Po       1\n",
       "TA    1282\n",
       "Name: count, dtype: int64"
      ]
     },
     "metadata": {},
     "output_type": "display_data"
    },
    {
     "name": "stdout",
     "output_type": "stream",
     "text": [
      "\n",
      "\n"
     ]
    },
    {
     "data": {
      "text/plain": [
       "Foundation\n",
       "BrkTil    146\n",
       "CBlock    634\n",
       "PConc     647\n",
       "Slab       24\n",
       "Stone       6\n",
       "Wood        3\n",
       "Name: count, dtype: int64"
      ]
     },
     "metadata": {},
     "output_type": "display_data"
    },
    {
     "name": "stdout",
     "output_type": "stream",
     "text": [
      "\n",
      "\n"
     ]
    },
    {
     "data": {
      "text/plain": [
       "BsmtQual\n",
       "Ex    121\n",
       "Fa     35\n",
       "Gd    618\n",
       "TA    649\n",
       "Name: count, dtype: int64"
      ]
     },
     "metadata": {},
     "output_type": "display_data"
    },
    {
     "name": "stdout",
     "output_type": "stream",
     "text": [
      "\n",
      "\n"
     ]
    },
    {
     "data": {
      "text/plain": [
       "BsmtCond\n",
       "Fa      45\n",
       "Gd      65\n",
       "Po       2\n",
       "TA    1311\n",
       "Name: count, dtype: int64"
      ]
     },
     "metadata": {},
     "output_type": "display_data"
    },
    {
     "name": "stdout",
     "output_type": "stream",
     "text": [
      "\n",
      "\n"
     ]
    },
    {
     "data": {
      "text/plain": [
       "BsmtExposure\n",
       "Av    221\n",
       "Gd    134\n",
       "Mn    114\n",
       "No    953\n",
       "Name: count, dtype: int64"
      ]
     },
     "metadata": {},
     "output_type": "display_data"
    },
    {
     "name": "stdout",
     "output_type": "stream",
     "text": [
      "\n",
      "\n"
     ]
    },
    {
     "data": {
      "text/plain": [
       "BsmtFinType1\n",
       "ALQ    220\n",
       "BLQ    148\n",
       "GLQ    418\n",
       "LwQ     74\n",
       "Rec    133\n",
       "Unf    430\n",
       "Name: count, dtype: int64"
      ]
     },
     "metadata": {},
     "output_type": "display_data"
    },
    {
     "name": "stdout",
     "output_type": "stream",
     "text": [
      "\n",
      "\n"
     ]
    },
    {
     "data": {
      "text/plain": [
       "BsmtFinSF1\n",
       "0       467\n",
       "2         1\n",
       "16        9\n",
       "20        5\n",
       "24       12\n",
       "       ... \n",
       "1904      1\n",
       "2096      1\n",
       "2188      1\n",
       "2260      1\n",
       "5644      1\n",
       "Name: count, Length: 637, dtype: int64"
      ]
     },
     "metadata": {},
     "output_type": "display_data"
    },
    {
     "name": "stdout",
     "output_type": "stream",
     "text": [
      "\n",
      "\n"
     ]
    },
    {
     "data": {
      "text/plain": [
       "BsmtFinType2\n",
       "ALQ      19\n",
       "BLQ      33\n",
       "GLQ      14\n",
       "LwQ      46\n",
       "Rec      54\n",
       "Unf    1256\n",
       "Name: count, dtype: int64"
      ]
     },
     "metadata": {},
     "output_type": "display_data"
    },
    {
     "name": "stdout",
     "output_type": "stream",
     "text": [
      "\n",
      "\n"
     ]
    },
    {
     "data": {
      "text/plain": [
       "BsmtFinSF2\n",
       "0       1293\n",
       "28         1\n",
       "32         1\n",
       "35         1\n",
       "40         1\n",
       "        ... \n",
       "1080       1\n",
       "1085       1\n",
       "1120       1\n",
       "1127       1\n",
       "1474       1\n",
       "Name: count, Length: 144, dtype: int64"
      ]
     },
     "metadata": {},
     "output_type": "display_data"
    },
    {
     "name": "stdout",
     "output_type": "stream",
     "text": [
      "\n",
      "\n"
     ]
    },
    {
     "data": {
      "text/plain": [
       "BsmtUnfSF\n",
       "0       118\n",
       "14        1\n",
       "15        1\n",
       "23        2\n",
       "26        1\n",
       "       ... \n",
       "2042      1\n",
       "2046      1\n",
       "2121      1\n",
       "2153      1\n",
       "2336      1\n",
       "Name: count, Length: 780, dtype: int64"
      ]
     },
     "metadata": {},
     "output_type": "display_data"
    },
    {
     "name": "stdout",
     "output_type": "stream",
     "text": [
      "\n",
      "\n"
     ]
    },
    {
     "data": {
      "text/plain": [
       "TotalBsmtSF\n",
       "0       37\n",
       "105      1\n",
       "190      1\n",
       "264      3\n",
       "270      1\n",
       "        ..\n",
       "3094     1\n",
       "3138     1\n",
       "3200     1\n",
       "3206     1\n",
       "6110     1\n",
       "Name: count, Length: 721, dtype: int64"
      ]
     },
     "metadata": {},
     "output_type": "display_data"
    },
    {
     "name": "stdout",
     "output_type": "stream",
     "text": [
      "\n",
      "\n"
     ]
    },
    {
     "data": {
      "text/plain": [
       "Heating\n",
       "Floor       1\n",
       "GasA     1428\n",
       "GasW       18\n",
       "Grav        7\n",
       "OthW        2\n",
       "Wall        4\n",
       "Name: count, dtype: int64"
      ]
     },
     "metadata": {},
     "output_type": "display_data"
    },
    {
     "name": "stdout",
     "output_type": "stream",
     "text": [
      "\n",
      "\n"
     ]
    },
    {
     "data": {
      "text/plain": [
       "HeatingQC\n",
       "Ex    741\n",
       "Fa     49\n",
       "Gd    241\n",
       "Po      1\n",
       "TA    428\n",
       "Name: count, dtype: int64"
      ]
     },
     "metadata": {},
     "output_type": "display_data"
    },
    {
     "name": "stdout",
     "output_type": "stream",
     "text": [
      "\n",
      "\n"
     ]
    },
    {
     "data": {
      "text/plain": [
       "CentralAir\n",
       "0      95\n",
       "1    1365\n",
       "Name: count, dtype: int64"
      ]
     },
     "metadata": {},
     "output_type": "display_data"
    },
    {
     "name": "stdout",
     "output_type": "stream",
     "text": [
      "\n",
      "\n"
     ]
    },
    {
     "data": {
      "text/plain": [
       "Electrical\n",
       "FuseA      94\n",
       "FuseF      27\n",
       "FuseP       3\n",
       "Mix         1\n",
       "SBrkr    1334\n",
       "Name: count, dtype: int64"
      ]
     },
     "metadata": {},
     "output_type": "display_data"
    },
    {
     "name": "stdout",
     "output_type": "stream",
     "text": [
      "\n",
      "\n"
     ]
    },
    {
     "data": {
      "text/plain": [
       "1stFlrSF\n",
       "334     1\n",
       "372     1\n",
       "438     1\n",
       "480     1\n",
       "483     7\n",
       "       ..\n",
       "2633    1\n",
       "2898    1\n",
       "3138    1\n",
       "3228    1\n",
       "4692    1\n",
       "Name: count, Length: 753, dtype: int64"
      ]
     },
     "metadata": {},
     "output_type": "display_data"
    },
    {
     "name": "stdout",
     "output_type": "stream",
     "text": [
      "\n",
      "\n"
     ]
    },
    {
     "data": {
      "text/plain": [
       "2ndFlrSF\n",
       "0       829\n",
       "110       1\n",
       "167       1\n",
       "192       1\n",
       "208       1\n",
       "       ... \n",
       "1611      1\n",
       "1796      1\n",
       "1818      1\n",
       "1872      1\n",
       "2065      1\n",
       "Name: count, Length: 417, dtype: int64"
      ]
     },
     "metadata": {},
     "output_type": "display_data"
    },
    {
     "name": "stdout",
     "output_type": "stream",
     "text": [
      "\n",
      "\n"
     ]
    },
    {
     "data": {
      "text/plain": [
       "LowQualFinSF\n",
       "0      1434\n",
       "53        1\n",
       "80        3\n",
       "120       1\n",
       "144       1\n",
       "156       1\n",
       "205       1\n",
       "232       1\n",
       "234       1\n",
       "360       2\n",
       "371       1\n",
       "384       1\n",
       "390       1\n",
       "392       1\n",
       "397       1\n",
       "420       1\n",
       "473       1\n",
       "479       1\n",
       "481       1\n",
       "513       1\n",
       "514       1\n",
       "515       1\n",
       "528       1\n",
       "572       1\n",
       "Name: count, dtype: int64"
      ]
     },
     "metadata": {},
     "output_type": "display_data"
    },
    {
     "name": "stdout",
     "output_type": "stream",
     "text": [
      "\n",
      "\n"
     ]
    },
    {
     "data": {
      "text/plain": [
       "GrLivArea\n",
       "334     1\n",
       "438     1\n",
       "480     1\n",
       "520     1\n",
       "605     1\n",
       "       ..\n",
       "3627    1\n",
       "4316    1\n",
       "4476    1\n",
       "4676    1\n",
       "5642    1\n",
       "Name: count, Length: 861, dtype: int64"
      ]
     },
     "metadata": {},
     "output_type": "display_data"
    },
    {
     "name": "stdout",
     "output_type": "stream",
     "text": [
      "\n",
      "\n"
     ]
    },
    {
     "data": {
      "text/plain": [
       "BsmtFullBath\n",
       "0    856\n",
       "1    588\n",
       "2     15\n",
       "3      1\n",
       "Name: count, dtype: int64"
      ]
     },
     "metadata": {},
     "output_type": "display_data"
    },
    {
     "name": "stdout",
     "output_type": "stream",
     "text": [
      "\n",
      "\n"
     ]
    },
    {
     "data": {
      "text/plain": [
       "BsmtHalfBath\n",
       "0    1378\n",
       "1      80\n",
       "2       2\n",
       "Name: count, dtype: int64"
      ]
     },
     "metadata": {},
     "output_type": "display_data"
    },
    {
     "name": "stdout",
     "output_type": "stream",
     "text": [
      "\n",
      "\n"
     ]
    },
    {
     "data": {
      "text/plain": [
       "FullBath\n",
       "0      9\n",
       "1    650\n",
       "2    768\n",
       "3     33\n",
       "Name: count, dtype: int64"
      ]
     },
     "metadata": {},
     "output_type": "display_data"
    },
    {
     "name": "stdout",
     "output_type": "stream",
     "text": [
      "\n",
      "\n"
     ]
    },
    {
     "data": {
      "text/plain": [
       "HalfBath\n",
       "0    913\n",
       "1    535\n",
       "2     12\n",
       "Name: count, dtype: int64"
      ]
     },
     "metadata": {},
     "output_type": "display_data"
    },
    {
     "name": "stdout",
     "output_type": "stream",
     "text": [
      "\n",
      "\n"
     ]
    },
    {
     "data": {
      "text/plain": [
       "BedroomAbvGr\n",
       "0      6\n",
       "1     50\n",
       "2    358\n",
       "3    804\n",
       "4    213\n",
       "5     21\n",
       "6      7\n",
       "8      1\n",
       "Name: count, dtype: int64"
      ]
     },
     "metadata": {},
     "output_type": "display_data"
    },
    {
     "name": "stdout",
     "output_type": "stream",
     "text": [
      "\n",
      "\n"
     ]
    },
    {
     "data": {
      "text/plain": [
       "KitchenAbvGr\n",
       "0       1\n",
       "1    1392\n",
       "2      65\n",
       "3       2\n",
       "Name: count, dtype: int64"
      ]
     },
     "metadata": {},
     "output_type": "display_data"
    },
    {
     "name": "stdout",
     "output_type": "stream",
     "text": [
      "\n",
      "\n"
     ]
    },
    {
     "data": {
      "text/plain": [
       "KitchenQual\n",
       "Ex    100\n",
       "Fa     39\n",
       "Gd    586\n",
       "TA    735\n",
       "Name: count, dtype: int64"
      ]
     },
     "metadata": {},
     "output_type": "display_data"
    },
    {
     "name": "stdout",
     "output_type": "stream",
     "text": [
      "\n",
      "\n"
     ]
    },
    {
     "data": {
      "text/plain": [
       "TotRmsAbvGrd\n",
       "2       1\n",
       "3      17\n",
       "4      97\n",
       "5     275\n",
       "6     402\n",
       "7     329\n",
       "8     187\n",
       "9      75\n",
       "10     47\n",
       "11     18\n",
       "12     11\n",
       "14      1\n",
       "Name: count, dtype: int64"
      ]
     },
     "metadata": {},
     "output_type": "display_data"
    },
    {
     "name": "stdout",
     "output_type": "stream",
     "text": [
      "\n",
      "\n"
     ]
    },
    {
     "data": {
      "text/plain": [
       "Functional\n",
       "Maj1      14\n",
       "Maj2       5\n",
       "Min1      31\n",
       "Min2      34\n",
       "Mod       15\n",
       "Sev        1\n",
       "Typ     1360\n",
       "Name: count, dtype: int64"
      ]
     },
     "metadata": {},
     "output_type": "display_data"
    },
    {
     "name": "stdout",
     "output_type": "stream",
     "text": [
      "\n",
      "\n"
     ]
    },
    {
     "data": {
      "text/plain": [
       "Fireplaces\n",
       "0    690\n",
       "1    650\n",
       "2    115\n",
       "3      5\n",
       "Name: count, dtype: int64"
      ]
     },
     "metadata": {},
     "output_type": "display_data"
    },
    {
     "name": "stdout",
     "output_type": "stream",
     "text": [
      "\n",
      "\n"
     ]
    },
    {
     "data": {
      "text/plain": [
       "FireplaceQu\n",
       "Ex     24\n",
       "Fa     33\n",
       "Gd    380\n",
       "Po     20\n",
       "TA    313\n",
       "Name: count, dtype: int64"
      ]
     },
     "metadata": {},
     "output_type": "display_data"
    },
    {
     "name": "stdout",
     "output_type": "stream",
     "text": [
      "\n",
      "\n"
     ]
    },
    {
     "data": {
      "text/plain": [
       "GarageType\n",
       "2Types       6\n",
       "Attchd     870\n",
       "Basment     19\n",
       "BuiltIn     88\n",
       "CarPort      9\n",
       "Detchd     387\n",
       "Name: count, dtype: int64"
      ]
     },
     "metadata": {},
     "output_type": "display_data"
    },
    {
     "name": "stdout",
     "output_type": "stream",
     "text": [
      "\n",
      "\n"
     ]
    },
    {
     "data": {
      "text/plain": [
       "GarageYrBlt\n",
       "1900     1\n",
       "1906     1\n",
       "1908     1\n",
       "1910     3\n",
       "1914     2\n",
       "        ..\n",
       "2006    59\n",
       "2007    49\n",
       "2008    29\n",
       "2009    21\n",
       "2010     3\n",
       "Name: count, Length: 97, dtype: int64"
      ]
     },
     "metadata": {},
     "output_type": "display_data"
    },
    {
     "name": "stdout",
     "output_type": "stream",
     "text": [
      "\n",
      "\n"
     ]
    },
    {
     "data": {
      "text/plain": [
       "GarageFinish\n",
       "Fin    352\n",
       "RFn    422\n",
       "Unf    605\n",
       "Name: count, dtype: int64"
      ]
     },
     "metadata": {},
     "output_type": "display_data"
    },
    {
     "name": "stdout",
     "output_type": "stream",
     "text": [
      "\n",
      "\n"
     ]
    },
    {
     "data": {
      "text/plain": [
       "GarageCars\n",
       "0     81\n",
       "1    369\n",
       "2    824\n",
       "3    181\n",
       "4      5\n",
       "Name: count, dtype: int64"
      ]
     },
     "metadata": {},
     "output_type": "display_data"
    },
    {
     "name": "stdout",
     "output_type": "stream",
     "text": [
      "\n",
      "\n"
     ]
    },
    {
     "data": {
      "text/plain": [
       "GarageArea\n",
       "0       81\n",
       "160      2\n",
       "164      1\n",
       "180      9\n",
       "186      1\n",
       "        ..\n",
       "1220     1\n",
       "1248     1\n",
       "1356     1\n",
       "1390     1\n",
       "1418     1\n",
       "Name: count, Length: 441, dtype: int64"
      ]
     },
     "metadata": {},
     "output_type": "display_data"
    },
    {
     "name": "stdout",
     "output_type": "stream",
     "text": [
      "\n",
      "\n"
     ]
    },
    {
     "data": {
      "text/plain": [
       "GarageQual\n",
       "Ex       3\n",
       "Fa      48\n",
       "Gd      14\n",
       "Po       3\n",
       "TA    1311\n",
       "Name: count, dtype: int64"
      ]
     },
     "metadata": {},
     "output_type": "display_data"
    },
    {
     "name": "stdout",
     "output_type": "stream",
     "text": [
      "\n",
      "\n"
     ]
    },
    {
     "data": {
      "text/plain": [
       "GarageCond\n",
       "Ex       2\n",
       "Fa      35\n",
       "Gd       9\n",
       "Po       7\n",
       "TA    1326\n",
       "Name: count, dtype: int64"
      ]
     },
     "metadata": {},
     "output_type": "display_data"
    },
    {
     "name": "stdout",
     "output_type": "stream",
     "text": [
      "\n",
      "\n"
     ]
    },
    {
     "data": {
      "text/plain": [
       "PavedDrive\n",
       "N      90\n",
       "P      30\n",
       "Y    1340\n",
       "Name: count, dtype: int64"
      ]
     },
     "metadata": {},
     "output_type": "display_data"
    },
    {
     "name": "stdout",
     "output_type": "stream",
     "text": [
      "\n",
      "\n"
     ]
    },
    {
     "data": {
      "text/plain": [
       "WoodDeckSF\n",
       "0      761\n",
       "12       2\n",
       "24       2\n",
       "26       2\n",
       "28       2\n",
       "      ... \n",
       "668      1\n",
       "670      1\n",
       "728      1\n",
       "736      1\n",
       "857      1\n",
       "Name: count, Length: 274, dtype: int64"
      ]
     },
     "metadata": {},
     "output_type": "display_data"
    },
    {
     "name": "stdout",
     "output_type": "stream",
     "text": [
      "\n",
      "\n"
     ]
    },
    {
     "data": {
      "text/plain": [
       "OpenPorchSF\n",
       "0      656\n",
       "4        1\n",
       "8        1\n",
       "10       1\n",
       "11       1\n",
       "      ... \n",
       "406      1\n",
       "418      1\n",
       "502      1\n",
       "523      1\n",
       "547      1\n",
       "Name: count, Length: 202, dtype: int64"
      ]
     },
     "metadata": {},
     "output_type": "display_data"
    },
    {
     "name": "stdout",
     "output_type": "stream",
     "text": [
      "\n",
      "\n"
     ]
    },
    {
     "data": {
      "text/plain": [
       "EnclosedPorch\n",
       "0      1252\n",
       "19        1\n",
       "20        1\n",
       "24        1\n",
       "30        1\n",
       "       ... \n",
       "301       1\n",
       "318       1\n",
       "330       1\n",
       "386       1\n",
       "552       1\n",
       "Name: count, Length: 120, dtype: int64"
      ]
     },
     "metadata": {},
     "output_type": "display_data"
    },
    {
     "name": "stdout",
     "output_type": "stream",
     "text": [
      "\n",
      "\n"
     ]
    },
    {
     "data": {
      "text/plain": [
       "3SsnPorch\n",
       "0      1436\n",
       "23        1\n",
       "96        1\n",
       "130       1\n",
       "140       1\n",
       "144       2\n",
       "153       1\n",
       "162       1\n",
       "168       3\n",
       "180       2\n",
       "182       1\n",
       "196       1\n",
       "216       2\n",
       "238       1\n",
       "245       1\n",
       "290       1\n",
       "304       1\n",
       "320       1\n",
       "407       1\n",
       "508       1\n",
       "Name: count, dtype: int64"
      ]
     },
     "metadata": {},
     "output_type": "display_data"
    },
    {
     "name": "stdout",
     "output_type": "stream",
     "text": [
      "\n",
      "\n"
     ]
    },
    {
     "data": {
      "text/plain": [
       "ScreenPorch\n",
       "0      1344\n",
       "40        1\n",
       "53        1\n",
       "60        1\n",
       "63        1\n",
       "       ... \n",
       "385       1\n",
       "396       1\n",
       "410       1\n",
       "440       1\n",
       "480       1\n",
       "Name: count, Length: 76, dtype: int64"
      ]
     },
     "metadata": {},
     "output_type": "display_data"
    },
    {
     "name": "stdout",
     "output_type": "stream",
     "text": [
      "\n",
      "\n"
     ]
    },
    {
     "data": {
      "text/plain": [
       "PoolArea\n",
       "0      1453\n",
       "480       1\n",
       "512       1\n",
       "519       1\n",
       "555       1\n",
       "576       1\n",
       "648       1\n",
       "738       1\n",
       "Name: count, dtype: int64"
      ]
     },
     "metadata": {},
     "output_type": "display_data"
    },
    {
     "name": "stdout",
     "output_type": "stream",
     "text": [
      "\n",
      "\n"
     ]
    },
    {
     "data": {
      "text/plain": [
       "PoolQC\n",
       "Ex    2\n",
       "Fa    2\n",
       "Gd    3\n",
       "Name: count, dtype: int64"
      ]
     },
     "metadata": {},
     "output_type": "display_data"
    },
    {
     "name": "stdout",
     "output_type": "stream",
     "text": [
      "\n",
      "\n"
     ]
    },
    {
     "data": {
      "text/plain": [
       "Fence\n",
       "GdPrv     59\n",
       "GdWo      54\n",
       "MnPrv    157\n",
       "MnWw      11\n",
       "Name: count, dtype: int64"
      ]
     },
     "metadata": {},
     "output_type": "display_data"
    },
    {
     "name": "stdout",
     "output_type": "stream",
     "text": [
      "\n",
      "\n"
     ]
    },
    {
     "data": {
      "text/plain": [
       "MiscFeature\n",
       "Gar2     2\n",
       "Othr     2\n",
       "Shed    49\n",
       "TenC     1\n",
       "Name: count, dtype: int64"
      ]
     },
     "metadata": {},
     "output_type": "display_data"
    },
    {
     "name": "stdout",
     "output_type": "stream",
     "text": [
      "\n",
      "\n"
     ]
    },
    {
     "data": {
      "text/plain": [
       "MiscVal\n",
       "0        1408\n",
       "54          1\n",
       "350         1\n",
       "400        11\n",
       "450         4\n",
       "480         2\n",
       "500         8\n",
       "560         1\n",
       "600         4\n",
       "620         1\n",
       "700         5\n",
       "800         1\n",
       "1150        1\n",
       "1200        2\n",
       "1300        1\n",
       "1400        1\n",
       "2000        4\n",
       "2500        1\n",
       "3500        1\n",
       "8300        1\n",
       "15500       1\n",
       "Name: count, dtype: int64"
      ]
     },
     "metadata": {},
     "output_type": "display_data"
    },
    {
     "name": "stdout",
     "output_type": "stream",
     "text": [
      "\n",
      "\n"
     ]
    },
    {
     "data": {
      "text/plain": [
       "MoSold\n",
       "1      58\n",
       "2      52\n",
       "3     106\n",
       "4     141\n",
       "5     204\n",
       "6     253\n",
       "7     234\n",
       "8     122\n",
       "9      63\n",
       "10     89\n",
       "11     79\n",
       "12     59\n",
       "Name: count, dtype: int64"
      ]
     },
     "metadata": {},
     "output_type": "display_data"
    },
    {
     "name": "stdout",
     "output_type": "stream",
     "text": [
      "\n",
      "\n"
     ]
    },
    {
     "data": {
      "text/plain": [
       "YrSold\n",
       "2006    314\n",
       "2007    329\n",
       "2008    304\n",
       "2009    338\n",
       "2010    175\n",
       "Name: count, dtype: int64"
      ]
     },
     "metadata": {},
     "output_type": "display_data"
    },
    {
     "name": "stdout",
     "output_type": "stream",
     "text": [
      "\n",
      "\n"
     ]
    },
    {
     "data": {
      "text/plain": [
       "SaleType\n",
       "COD        43\n",
       "CWD         4\n",
       "Con         2\n",
       "ConLD       9\n",
       "ConLI       5\n",
       "ConLw       5\n",
       "New       122\n",
       "Oth         3\n",
       "WD       1267\n",
       "Name: count, dtype: int64"
      ]
     },
     "metadata": {},
     "output_type": "display_data"
    },
    {
     "name": "stdout",
     "output_type": "stream",
     "text": [
      "\n",
      "\n"
     ]
    },
    {
     "data": {
      "text/plain": [
       "SaleCondition\n",
       "Abnorml     101\n",
       "AdjLand       4\n",
       "Alloca       12\n",
       "Family       20\n",
       "Normal     1198\n",
       "Partial     125\n",
       "Name: count, dtype: int64"
      ]
     },
     "metadata": {},
     "output_type": "display_data"
    },
    {
     "name": "stdout",
     "output_type": "stream",
     "text": [
      "\n",
      "\n"
     ]
    },
    {
     "data": {
      "text/plain": [
       "SalePrice\n",
       "34900     1\n",
       "35311     1\n",
       "37900     1\n",
       "39300     1\n",
       "40000     1\n",
       "         ..\n",
       "582933    1\n",
       "611657    1\n",
       "625000    1\n",
       "745000    1\n",
       "755000    1\n",
       "Name: count, Length: 663, dtype: int64"
      ]
     },
     "metadata": {},
     "output_type": "display_data"
    },
    {
     "name": "stdout",
     "output_type": "stream",
     "text": [
      "\n",
      "\n"
     ]
    },
    {
     "data": {
      "text/plain": [
       "IsCondition2Norm\n",
       "0      15\n",
       "1    1445\n",
       "Name: count, dtype: int64"
      ]
     },
     "metadata": {},
     "output_type": "display_data"
    },
    {
     "name": "stdout",
     "output_type": "stream",
     "text": [
      "\n",
      "\n"
     ]
    },
    {
     "data": {
      "text/plain": [
       "IsRoofMatlCompShg\n",
       "0      26\n",
       "1    1434\n",
       "Name: count, dtype: int64"
      ]
     },
     "metadata": {},
     "output_type": "display_data"
    },
    {
     "name": "stdout",
     "output_type": "stream",
     "text": [
      "\n",
      "\n"
     ]
    }
   ],
   "source": [
    "display_column_value_counts(train_df)"
   ]
  },
  {
   "cell_type": "markdown",
   "id": "f5b5551d-ee29-4c77-a1c3-221fa7044dff",
   "metadata": {},
   "source": [
    "After looking at the value counts again, there's a lot of feature engineering we can do."
   ]
  },
  {
   "cell_type": "markdown",
   "id": "51ab63f4-400f-4be7-b477-37c076bcc745",
   "metadata": {},
   "source": [
    "### Combining columns"
   ]
  },
  {
   "cell_type": "markdown",
   "id": "775dc110-6125-470d-b7d5-912fced7faa8",
   "metadata": {},
   "source": [
    "Let's combine some columns. We can do BsmtFullBath and FullBath into FullBath, BsmtHalfBath and HalfBath into HalfBath. We can also combine MoSold and YrSold into a single DateSold column, but since many of the models we'll be doing later require numerical values, we'll leave them be."
   ]
  },
  {
   "cell_type": "code",
   "execution_count": 72,
   "id": "3321e99d-d109-4253-b2f2-07ed997349ac",
   "metadata": {},
   "outputs": [],
   "source": [
    "for df in [train_df, test_df]:\n",
    "    df[\"FullBath\"] += df[\"BsmtFullBath\"]\n",
    "    df[\"HalfBath\"] += df[\"BsmtHalfBath\"]\n",
    "    df.drop(columns=[\"BsmtFullBath\", \"BsmtHalfBath\"], inplace=True)"
   ]
  },
  {
   "cell_type": "markdown",
   "id": "f8295ff5-2112-4955-a559-601fe9d7543f",
   "metadata": {},
   "source": [
    "Now, let's do something for the columns with a few options, but each option has a decent representation in the data."
   ]
  },
  {
   "cell_type": "markdown",
   "id": "f647ea31-8a7f-4723-9956-68f88ff2eaa0",
   "metadata": {},
   "source": [
    "### Categorical encoding"
   ]
  },
  {
   "cell_type": "markdown",
   "id": "069dc146-fa3f-43c0-9370-c7806b801ee7",
   "metadata": {},
   "source": [
    "We can't just take a categorical variable and put it into a machine learning model, since models can only work with numbers in matrices. Let's convert the categorical values into a matrix form by encoding them."
   ]
  },
  {
   "cell_type": "markdown",
   "id": "7bd3be3d-80af-4b88-a64b-238553eda1b4",
   "metadata": {},
   "source": [
    "One-hot encoding will work for some categorical columns, the columns with few values and many rows for each of those values are. We will use target encoding for the other categorical columns"
   ]
  },
  {
   "cell_type": "markdown",
   "id": "b30d5bf6-becb-495b-8baf-eebd13b77f9d",
   "metadata": {},
   "source": [
    "Let's split up the categorical columns into 2 arrays, one with the columns that'll be used for one-hot encoding, and another for the columns that'll be used for target encoding. The columns with 5 or less unique values will be used for one-hot encoding."
   ]
  },
  {
   "cell_type": "code",
   "execution_count": 73,
   "id": "7605cf11-a7c9-4067-9d0d-68a444501614",
   "metadata": {},
   "outputs": [],
   "source": [
    "one_hot_encoding_columns = []\n",
    "target_encoding_columns = []\n",
    "\n",
    "for column in train_df.columns:\n",
    "    if train_df[column].dtype == \"object\":\n",
    "        if len(train_df[column].value_counts()) <= 5:\n",
    "            one_hot_encoding_columns.append(column)\n",
    "        else:\n",
    "            target_encoding_columns.append(column)"
   ]
  },
  {
   "cell_type": "markdown",
   "id": "9f7b5e07-6d4a-455e-a343-26361974ee1c",
   "metadata": {},
   "source": [
    "Before we modify the dataframes, let's calculate the sale price for the categorical variables."
   ]
  },
  {
   "cell_type": "code",
   "execution_count": 74,
   "id": "5a2a0431-ea69-4282-baff-d26309cb8ad3",
   "metadata": {},
   "outputs": [
    {
     "data": {
      "text/html": [
       "<div>\n",
       "<style scoped>\n",
       "    .dataframe tbody tr th:only-of-type {\n",
       "        vertical-align: middle;\n",
       "    }\n",
       "\n",
       "    .dataframe tbody tr th {\n",
       "        vertical-align: top;\n",
       "    }\n",
       "\n",
       "    .dataframe thead th {\n",
       "        text-align: right;\n",
       "    }\n",
       "</style>\n",
       "<table border=\"1\" class=\"dataframe\">\n",
       "  <thead>\n",
       "    <tr style=\"text-align: right;\">\n",
       "      <th></th>\n",
       "      <th>mean</th>\n",
       "      <th>diff</th>\n",
       "      <th>risk</th>\n",
       "    </tr>\n",
       "    <tr>\n",
       "      <th>Neighborhood</th>\n",
       "      <th></th>\n",
       "      <th></th>\n",
       "      <th></th>\n",
       "    </tr>\n",
       "  </thead>\n",
       "  <tbody>\n",
       "    <tr>\n",
       "      <th>Blmngtn</th>\n",
       "      <td>194870.882353</td>\n",
       "      <td>13949.686463</td>\n",
       "      <td>1.077104</td>\n",
       "    </tr>\n",
       "    <tr>\n",
       "      <th>Blueste</th>\n",
       "      <td>137500.000000</td>\n",
       "      <td>-43421.195890</td>\n",
       "      <td>0.759999</td>\n",
       "    </tr>\n",
       "    <tr>\n",
       "      <th>BrDale</th>\n",
       "      <td>104493.750000</td>\n",
       "      <td>-76427.445890</td>\n",
       "      <td>0.577565</td>\n",
       "    </tr>\n",
       "    <tr>\n",
       "      <th>BrkSide</th>\n",
       "      <td>124834.051724</td>\n",
       "      <td>-56087.144166</td>\n",
       "      <td>0.689991</td>\n",
       "    </tr>\n",
       "    <tr>\n",
       "      <th>ClearCr</th>\n",
       "      <td>212565.428571</td>\n",
       "      <td>31644.232681</td>\n",
       "      <td>1.174906</td>\n",
       "    </tr>\n",
       "    <tr>\n",
       "      <th>CollgCr</th>\n",
       "      <td>197965.773333</td>\n",
       "      <td>17044.577443</td>\n",
       "      <td>1.094210</td>\n",
       "    </tr>\n",
       "    <tr>\n",
       "      <th>Crawfor</th>\n",
       "      <td>210624.725490</td>\n",
       "      <td>29703.529600</td>\n",
       "      <td>1.164179</td>\n",
       "    </tr>\n",
       "    <tr>\n",
       "      <th>Edwards</th>\n",
       "      <td>128219.700000</td>\n",
       "      <td>-52701.495890</td>\n",
       "      <td>0.708705</td>\n",
       "    </tr>\n",
       "    <tr>\n",
       "      <th>Gilbert</th>\n",
       "      <td>192854.506329</td>\n",
       "      <td>11933.310439</td>\n",
       "      <td>1.065959</td>\n",
       "    </tr>\n",
       "    <tr>\n",
       "      <th>IDOTRR</th>\n",
       "      <td>100123.783784</td>\n",
       "      <td>-80797.412107</td>\n",
       "      <td>0.553411</td>\n",
       "    </tr>\n",
       "    <tr>\n",
       "      <th>MeadowV</th>\n",
       "      <td>98576.470588</td>\n",
       "      <td>-82344.725302</td>\n",
       "      <td>0.544859</td>\n",
       "    </tr>\n",
       "    <tr>\n",
       "      <th>Mitchel</th>\n",
       "      <td>156270.122449</td>\n",
       "      <td>-24651.073441</td>\n",
       "      <td>0.863747</td>\n",
       "    </tr>\n",
       "    <tr>\n",
       "      <th>NAmes</th>\n",
       "      <td>145847.080000</td>\n",
       "      <td>-35074.115890</td>\n",
       "      <td>0.806136</td>\n",
       "    </tr>\n",
       "    <tr>\n",
       "      <th>NPkVill</th>\n",
       "      <td>142694.444444</td>\n",
       "      <td>-38226.751446</td>\n",
       "      <td>0.788710</td>\n",
       "    </tr>\n",
       "    <tr>\n",
       "      <th>NWAmes</th>\n",
       "      <td>189050.068493</td>\n",
       "      <td>8128.872603</td>\n",
       "      <td>1.044930</td>\n",
       "    </tr>\n",
       "    <tr>\n",
       "      <th>NoRidge</th>\n",
       "      <td>335295.317073</td>\n",
       "      <td>154374.121183</td>\n",
       "      <td>1.853267</td>\n",
       "    </tr>\n",
       "    <tr>\n",
       "      <th>NridgHt</th>\n",
       "      <td>316270.623377</td>\n",
       "      <td>135349.427486</td>\n",
       "      <td>1.748113</td>\n",
       "    </tr>\n",
       "    <tr>\n",
       "      <th>OldTown</th>\n",
       "      <td>128225.300885</td>\n",
       "      <td>-52695.895005</td>\n",
       "      <td>0.708736</td>\n",
       "    </tr>\n",
       "    <tr>\n",
       "      <th>SWISU</th>\n",
       "      <td>142591.360000</td>\n",
       "      <td>-38329.835890</td>\n",
       "      <td>0.788141</td>\n",
       "    </tr>\n",
       "    <tr>\n",
       "      <th>Sawyer</th>\n",
       "      <td>136793.135135</td>\n",
       "      <td>-44128.060755</td>\n",
       "      <td>0.756092</td>\n",
       "    </tr>\n",
       "    <tr>\n",
       "      <th>SawyerW</th>\n",
       "      <td>186555.796610</td>\n",
       "      <td>5634.600720</td>\n",
       "      <td>1.031144</td>\n",
       "    </tr>\n",
       "    <tr>\n",
       "      <th>Somerst</th>\n",
       "      <td>225379.837209</td>\n",
       "      <td>44458.641319</td>\n",
       "      <td>1.245735</td>\n",
       "    </tr>\n",
       "    <tr>\n",
       "      <th>StoneBr</th>\n",
       "      <td>310499.000000</td>\n",
       "      <td>129577.804110</td>\n",
       "      <td>1.716211</td>\n",
       "    </tr>\n",
       "    <tr>\n",
       "      <th>Timber</th>\n",
       "      <td>242247.447368</td>\n",
       "      <td>61326.251478</td>\n",
       "      <td>1.338967</td>\n",
       "    </tr>\n",
       "    <tr>\n",
       "      <th>Veenker</th>\n",
       "      <td>238772.727273</td>\n",
       "      <td>57851.531382</td>\n",
       "      <td>1.319761</td>\n",
       "    </tr>\n",
       "  </tbody>\n",
       "</table>\n",
       "</div>"
      ],
      "text/plain": [
       "                       mean           diff      risk\n",
       "Neighborhood                                        \n",
       "Blmngtn       194870.882353   13949.686463  1.077104\n",
       "Blueste       137500.000000  -43421.195890  0.759999\n",
       "BrDale        104493.750000  -76427.445890  0.577565\n",
       "BrkSide       124834.051724  -56087.144166  0.689991\n",
       "ClearCr       212565.428571   31644.232681  1.174906\n",
       "CollgCr       197965.773333   17044.577443  1.094210\n",
       "Crawfor       210624.725490   29703.529600  1.164179\n",
       "Edwards       128219.700000  -52701.495890  0.708705\n",
       "Gilbert       192854.506329   11933.310439  1.065959\n",
       "IDOTRR        100123.783784  -80797.412107  0.553411\n",
       "MeadowV        98576.470588  -82344.725302  0.544859\n",
       "Mitchel       156270.122449  -24651.073441  0.863747\n",
       "NAmes         145847.080000  -35074.115890  0.806136\n",
       "NPkVill       142694.444444  -38226.751446  0.788710\n",
       "NWAmes        189050.068493    8128.872603  1.044930\n",
       "NoRidge       335295.317073  154374.121183  1.853267\n",
       "NridgHt       316270.623377  135349.427486  1.748113\n",
       "OldTown       128225.300885  -52695.895005  0.708736\n",
       "SWISU         142591.360000  -38329.835890  0.788141\n",
       "Sawyer        136793.135135  -44128.060755  0.756092\n",
       "SawyerW       186555.796610    5634.600720  1.031144\n",
       "Somerst       225379.837209   44458.641319  1.245735\n",
       "StoneBr       310499.000000  129577.804110  1.716211\n",
       "Timber        242247.447368   61326.251478  1.338967\n",
       "Veenker       238772.727273   57851.531382  1.319761"
      ]
     },
     "metadata": {},
     "output_type": "display_data"
    },
    {
     "data": {
      "text/html": [
       "<div>\n",
       "<style scoped>\n",
       "    .dataframe tbody tr th:only-of-type {\n",
       "        vertical-align: middle;\n",
       "    }\n",
       "\n",
       "    .dataframe tbody tr th {\n",
       "        vertical-align: top;\n",
       "    }\n",
       "\n",
       "    .dataframe thead th {\n",
       "        text-align: right;\n",
       "    }\n",
       "</style>\n",
       "<table border=\"1\" class=\"dataframe\">\n",
       "  <thead>\n",
       "    <tr style=\"text-align: right;\">\n",
       "      <th></th>\n",
       "      <th>mean</th>\n",
       "      <th>diff</th>\n",
       "      <th>risk</th>\n",
       "    </tr>\n",
       "    <tr>\n",
       "      <th>Condition1</th>\n",
       "      <th></th>\n",
       "      <th></th>\n",
       "      <th></th>\n",
       "    </tr>\n",
       "  </thead>\n",
       "  <tbody>\n",
       "    <tr>\n",
       "      <th>Artery</th>\n",
       "      <td>135091.666667</td>\n",
       "      <td>-45829.529224</td>\n",
       "      <td>0.746688</td>\n",
       "    </tr>\n",
       "    <tr>\n",
       "      <th>Feedr</th>\n",
       "      <td>142475.481481</td>\n",
       "      <td>-38445.714409</td>\n",
       "      <td>0.787500</td>\n",
       "    </tr>\n",
       "    <tr>\n",
       "      <th>Norm</th>\n",
       "      <td>184495.492063</td>\n",
       "      <td>3574.296173</td>\n",
       "      <td>1.019756</td>\n",
       "    </tr>\n",
       "    <tr>\n",
       "      <th>PosA</th>\n",
       "      <td>225875.000000</td>\n",
       "      <td>44953.804110</td>\n",
       "      <td>1.248472</td>\n",
       "    </tr>\n",
       "    <tr>\n",
       "      <th>PosN</th>\n",
       "      <td>215184.210526</td>\n",
       "      <td>34263.014636</td>\n",
       "      <td>1.189381</td>\n",
       "    </tr>\n",
       "    <tr>\n",
       "      <th>RRAe</th>\n",
       "      <td>138400.000000</td>\n",
       "      <td>-42521.195890</td>\n",
       "      <td>0.764974</td>\n",
       "    </tr>\n",
       "    <tr>\n",
       "      <th>RRAn</th>\n",
       "      <td>184396.615385</td>\n",
       "      <td>3475.419494</td>\n",
       "      <td>1.019210</td>\n",
       "    </tr>\n",
       "    <tr>\n",
       "      <th>RRNe</th>\n",
       "      <td>190750.000000</td>\n",
       "      <td>9828.804110</td>\n",
       "      <td>1.054326</td>\n",
       "    </tr>\n",
       "    <tr>\n",
       "      <th>RRNn</th>\n",
       "      <td>212400.000000</td>\n",
       "      <td>31478.804110</td>\n",
       "      <td>1.173992</td>\n",
       "    </tr>\n",
       "  </tbody>\n",
       "</table>\n",
       "</div>"
      ],
      "text/plain": [
       "                     mean          diff      risk\n",
       "Condition1                                       \n",
       "Artery      135091.666667 -45829.529224  0.746688\n",
       "Feedr       142475.481481 -38445.714409  0.787500\n",
       "Norm        184495.492063   3574.296173  1.019756\n",
       "PosA        225875.000000  44953.804110  1.248472\n",
       "PosN        215184.210526  34263.014636  1.189381\n",
       "RRAe        138400.000000 -42521.195890  0.764974\n",
       "RRAn        184396.615385   3475.419494  1.019210\n",
       "RRNe        190750.000000   9828.804110  1.054326\n",
       "RRNn        212400.000000  31478.804110  1.173992"
      ]
     },
     "metadata": {},
     "output_type": "display_data"
    },
    {
     "data": {
      "text/html": [
       "<div>\n",
       "<style scoped>\n",
       "    .dataframe tbody tr th:only-of-type {\n",
       "        vertical-align: middle;\n",
       "    }\n",
       "\n",
       "    .dataframe tbody tr th {\n",
       "        vertical-align: top;\n",
       "    }\n",
       "\n",
       "    .dataframe thead th {\n",
       "        text-align: right;\n",
       "    }\n",
       "</style>\n",
       "<table border=\"1\" class=\"dataframe\">\n",
       "  <thead>\n",
       "    <tr style=\"text-align: right;\">\n",
       "      <th></th>\n",
       "      <th>mean</th>\n",
       "      <th>diff</th>\n",
       "      <th>risk</th>\n",
       "    </tr>\n",
       "    <tr>\n",
       "      <th>HouseStyle</th>\n",
       "      <th></th>\n",
       "      <th></th>\n",
       "      <th></th>\n",
       "    </tr>\n",
       "  </thead>\n",
       "  <tbody>\n",
       "    <tr>\n",
       "      <th>1.5Fin</th>\n",
       "      <td>143116.740260</td>\n",
       "      <td>-37804.455631</td>\n",
       "      <td>0.791045</td>\n",
       "    </tr>\n",
       "    <tr>\n",
       "      <th>1.5Unf</th>\n",
       "      <td>110150.000000</td>\n",
       "      <td>-70771.195890</td>\n",
       "      <td>0.608829</td>\n",
       "    </tr>\n",
       "    <tr>\n",
       "      <th>1Story</th>\n",
       "      <td>175985.477961</td>\n",
       "      <td>-4935.717929</td>\n",
       "      <td>0.972719</td>\n",
       "    </tr>\n",
       "    <tr>\n",
       "      <th>2.5Fin</th>\n",
       "      <td>220000.000000</td>\n",
       "      <td>39078.804110</td>\n",
       "      <td>1.215999</td>\n",
       "    </tr>\n",
       "    <tr>\n",
       "      <th>2.5Unf</th>\n",
       "      <td>157354.545455</td>\n",
       "      <td>-23566.650436</td>\n",
       "      <td>0.869741</td>\n",
       "    </tr>\n",
       "    <tr>\n",
       "      <th>2Story</th>\n",
       "      <td>210051.764045</td>\n",
       "      <td>29130.568155</td>\n",
       "      <td>1.161012</td>\n",
       "    </tr>\n",
       "    <tr>\n",
       "      <th>SFoyer</th>\n",
       "      <td>135074.486486</td>\n",
       "      <td>-45846.709404</td>\n",
       "      <td>0.746593</td>\n",
       "    </tr>\n",
       "    <tr>\n",
       "      <th>SLvl</th>\n",
       "      <td>166703.384615</td>\n",
       "      <td>-14217.811275</td>\n",
       "      <td>0.921414</td>\n",
       "    </tr>\n",
       "  </tbody>\n",
       "</table>\n",
       "</div>"
      ],
      "text/plain": [
       "                     mean          diff      risk\n",
       "HouseStyle                                       \n",
       "1.5Fin      143116.740260 -37804.455631  0.791045\n",
       "1.5Unf      110150.000000 -70771.195890  0.608829\n",
       "1Story      175985.477961  -4935.717929  0.972719\n",
       "2.5Fin      220000.000000  39078.804110  1.215999\n",
       "2.5Unf      157354.545455 -23566.650436  0.869741\n",
       "2Story      210051.764045  29130.568155  1.161012\n",
       "SFoyer      135074.486486 -45846.709404  0.746593\n",
       "SLvl        166703.384615 -14217.811275  0.921414"
      ]
     },
     "metadata": {},
     "output_type": "display_data"
    },
    {
     "data": {
      "text/html": [
       "<div>\n",
       "<style scoped>\n",
       "    .dataframe tbody tr th:only-of-type {\n",
       "        vertical-align: middle;\n",
       "    }\n",
       "\n",
       "    .dataframe tbody tr th {\n",
       "        vertical-align: top;\n",
       "    }\n",
       "\n",
       "    .dataframe thead th {\n",
       "        text-align: right;\n",
       "    }\n",
       "</style>\n",
       "<table border=\"1\" class=\"dataframe\">\n",
       "  <thead>\n",
       "    <tr style=\"text-align: right;\">\n",
       "      <th></th>\n",
       "      <th>mean</th>\n",
       "      <th>diff</th>\n",
       "      <th>risk</th>\n",
       "    </tr>\n",
       "    <tr>\n",
       "      <th>RoofStyle</th>\n",
       "      <th></th>\n",
       "      <th></th>\n",
       "      <th></th>\n",
       "    </tr>\n",
       "  </thead>\n",
       "  <tbody>\n",
       "    <tr>\n",
       "      <th>Flat</th>\n",
       "      <td>194690.000000</td>\n",
       "      <td>13768.804110</td>\n",
       "      <td>1.076104</td>\n",
       "    </tr>\n",
       "    <tr>\n",
       "      <th>Gable</th>\n",
       "      <td>171483.956179</td>\n",
       "      <td>-9437.239712</td>\n",
       "      <td>0.947838</td>\n",
       "    </tr>\n",
       "    <tr>\n",
       "      <th>Gambrel</th>\n",
       "      <td>148909.090909</td>\n",
       "      <td>-32012.104981</td>\n",
       "      <td>0.823061</td>\n",
       "    </tr>\n",
       "    <tr>\n",
       "      <th>Hip</th>\n",
       "      <td>218876.933566</td>\n",
       "      <td>37955.737676</td>\n",
       "      <td>1.209792</td>\n",
       "    </tr>\n",
       "    <tr>\n",
       "      <th>Mansard</th>\n",
       "      <td>180568.428571</td>\n",
       "      <td>-352.767319</td>\n",
       "      <td>0.998050</td>\n",
       "    </tr>\n",
       "    <tr>\n",
       "      <th>Shed</th>\n",
       "      <td>225000.000000</td>\n",
       "      <td>44078.804110</td>\n",
       "      <td>1.243635</td>\n",
       "    </tr>\n",
       "  </tbody>\n",
       "</table>\n",
       "</div>"
      ],
      "text/plain": [
       "                    mean          diff      risk\n",
       "RoofStyle                                       \n",
       "Flat       194690.000000  13768.804110  1.076104\n",
       "Gable      171483.956179  -9437.239712  0.947838\n",
       "Gambrel    148909.090909 -32012.104981  0.823061\n",
       "Hip        218876.933566  37955.737676  1.209792\n",
       "Mansard    180568.428571   -352.767319  0.998050\n",
       "Shed       225000.000000  44078.804110  1.243635"
      ]
     },
     "metadata": {},
     "output_type": "display_data"
    },
    {
     "data": {
      "text/html": [
       "<div>\n",
       "<style scoped>\n",
       "    .dataframe tbody tr th:only-of-type {\n",
       "        vertical-align: middle;\n",
       "    }\n",
       "\n",
       "    .dataframe tbody tr th {\n",
       "        vertical-align: top;\n",
       "    }\n",
       "\n",
       "    .dataframe thead th {\n",
       "        text-align: right;\n",
       "    }\n",
       "</style>\n",
       "<table border=\"1\" class=\"dataframe\">\n",
       "  <thead>\n",
       "    <tr style=\"text-align: right;\">\n",
       "      <th></th>\n",
       "      <th>mean</th>\n",
       "      <th>diff</th>\n",
       "      <th>risk</th>\n",
       "    </tr>\n",
       "    <tr>\n",
       "      <th>Exterior1st</th>\n",
       "      <th></th>\n",
       "      <th></th>\n",
       "      <th></th>\n",
       "    </tr>\n",
       "  </thead>\n",
       "  <tbody>\n",
       "    <tr>\n",
       "      <th>AsbShng</th>\n",
       "      <td>107385.550000</td>\n",
       "      <td>-73535.645890</td>\n",
       "      <td>0.593549</td>\n",
       "    </tr>\n",
       "    <tr>\n",
       "      <th>AsphShn</th>\n",
       "      <td>100000.000000</td>\n",
       "      <td>-80921.195890</td>\n",
       "      <td>0.552727</td>\n",
       "    </tr>\n",
       "    <tr>\n",
       "      <th>BrkComm</th>\n",
       "      <td>71000.000000</td>\n",
       "      <td>-109921.195890</td>\n",
       "      <td>0.392436</td>\n",
       "    </tr>\n",
       "    <tr>\n",
       "      <th>BrkFace</th>\n",
       "      <td>194573.000000</td>\n",
       "      <td>13651.804110</td>\n",
       "      <td>1.075457</td>\n",
       "    </tr>\n",
       "    <tr>\n",
       "      <th>CBlock</th>\n",
       "      <td>105000.000000</td>\n",
       "      <td>-75921.195890</td>\n",
       "      <td>0.580363</td>\n",
       "    </tr>\n",
       "    <tr>\n",
       "      <th>CemntBd</th>\n",
       "      <td>231690.655738</td>\n",
       "      <td>50769.459847</td>\n",
       "      <td>1.280616</td>\n",
       "    </tr>\n",
       "    <tr>\n",
       "      <th>HdBoard</th>\n",
       "      <td>163077.450450</td>\n",
       "      <td>-17843.745440</td>\n",
       "      <td>0.901373</td>\n",
       "    </tr>\n",
       "    <tr>\n",
       "      <th>ImStucc</th>\n",
       "      <td>262000.000000</td>\n",
       "      <td>81078.804110</td>\n",
       "      <td>1.448144</td>\n",
       "    </tr>\n",
       "    <tr>\n",
       "      <th>MetalSd</th>\n",
       "      <td>149422.177273</td>\n",
       "      <td>-31499.018618</td>\n",
       "      <td>0.825896</td>\n",
       "    </tr>\n",
       "    <tr>\n",
       "      <th>Plywood</th>\n",
       "      <td>175942.379630</td>\n",
       "      <td>-4978.816261</td>\n",
       "      <td>0.972481</td>\n",
       "    </tr>\n",
       "    <tr>\n",
       "      <th>Stone</th>\n",
       "      <td>258500.000000</td>\n",
       "      <td>77578.804110</td>\n",
       "      <td>1.428799</td>\n",
       "    </tr>\n",
       "    <tr>\n",
       "      <th>Stucco</th>\n",
       "      <td>162990.000000</td>\n",
       "      <td>-17931.195890</td>\n",
       "      <td>0.900889</td>\n",
       "    </tr>\n",
       "    <tr>\n",
       "      <th>VinylSd</th>\n",
       "      <td>213732.900971</td>\n",
       "      <td>32811.705080</td>\n",
       "      <td>1.181359</td>\n",
       "    </tr>\n",
       "    <tr>\n",
       "      <th>Wd Sdng</th>\n",
       "      <td>149841.645631</td>\n",
       "      <td>-31079.550259</td>\n",
       "      <td>0.828215</td>\n",
       "    </tr>\n",
       "    <tr>\n",
       "      <th>WdShing</th>\n",
       "      <td>150655.076923</td>\n",
       "      <td>-30266.118967</td>\n",
       "      <td>0.832711</td>\n",
       "    </tr>\n",
       "  </tbody>\n",
       "</table>\n",
       "</div>"
      ],
      "text/plain": [
       "                      mean           diff      risk\n",
       "Exterior1st                                        \n",
       "AsbShng      107385.550000  -73535.645890  0.593549\n",
       "AsphShn      100000.000000  -80921.195890  0.552727\n",
       "BrkComm       71000.000000 -109921.195890  0.392436\n",
       "BrkFace      194573.000000   13651.804110  1.075457\n",
       "CBlock       105000.000000  -75921.195890  0.580363\n",
       "CemntBd      231690.655738   50769.459847  1.280616\n",
       "HdBoard      163077.450450  -17843.745440  0.901373\n",
       "ImStucc      262000.000000   81078.804110  1.448144\n",
       "MetalSd      149422.177273  -31499.018618  0.825896\n",
       "Plywood      175942.379630   -4978.816261  0.972481\n",
       "Stone        258500.000000   77578.804110  1.428799\n",
       "Stucco       162990.000000  -17931.195890  0.900889\n",
       "VinylSd      213732.900971   32811.705080  1.181359\n",
       "Wd Sdng      149841.645631  -31079.550259  0.828215\n",
       "WdShing      150655.076923  -30266.118967  0.832711"
      ]
     },
     "metadata": {},
     "output_type": "display_data"
    },
    {
     "data": {
      "text/html": [
       "<div>\n",
       "<style scoped>\n",
       "    .dataframe tbody tr th:only-of-type {\n",
       "        vertical-align: middle;\n",
       "    }\n",
       "\n",
       "    .dataframe tbody tr th {\n",
       "        vertical-align: top;\n",
       "    }\n",
       "\n",
       "    .dataframe thead th {\n",
       "        text-align: right;\n",
       "    }\n",
       "</style>\n",
       "<table border=\"1\" class=\"dataframe\">\n",
       "  <thead>\n",
       "    <tr style=\"text-align: right;\">\n",
       "      <th></th>\n",
       "      <th>mean</th>\n",
       "      <th>diff</th>\n",
       "      <th>risk</th>\n",
       "    </tr>\n",
       "    <tr>\n",
       "      <th>Exterior2nd</th>\n",
       "      <th></th>\n",
       "      <th></th>\n",
       "      <th></th>\n",
       "    </tr>\n",
       "  </thead>\n",
       "  <tbody>\n",
       "    <tr>\n",
       "      <th>AsbShng</th>\n",
       "      <td>114060.550000</td>\n",
       "      <td>-66860.645890</td>\n",
       "      <td>0.630443</td>\n",
       "    </tr>\n",
       "    <tr>\n",
       "      <th>AsphShn</th>\n",
       "      <td>138000.000000</td>\n",
       "      <td>-42921.195890</td>\n",
       "      <td>0.762763</td>\n",
       "    </tr>\n",
       "    <tr>\n",
       "      <th>Brk Cmn</th>\n",
       "      <td>126714.285714</td>\n",
       "      <td>-54206.910176</td>\n",
       "      <td>0.700384</td>\n",
       "    </tr>\n",
       "    <tr>\n",
       "      <th>BrkFace</th>\n",
       "      <td>195818.000000</td>\n",
       "      <td>14896.804110</td>\n",
       "      <td>1.082339</td>\n",
       "    </tr>\n",
       "    <tr>\n",
       "      <th>CBlock</th>\n",
       "      <td>105000.000000</td>\n",
       "      <td>-75921.195890</td>\n",
       "      <td>0.580363</td>\n",
       "    </tr>\n",
       "    <tr>\n",
       "      <th>CmentBd</th>\n",
       "      <td>230093.833333</td>\n",
       "      <td>49172.637443</td>\n",
       "      <td>1.271790</td>\n",
       "    </tr>\n",
       "    <tr>\n",
       "      <th>HdBoard</th>\n",
       "      <td>167661.565217</td>\n",
       "      <td>-13259.630673</td>\n",
       "      <td>0.926710</td>\n",
       "    </tr>\n",
       "    <tr>\n",
       "      <th>ImStucc</th>\n",
       "      <td>252070.000000</td>\n",
       "      <td>71148.804110</td>\n",
       "      <td>1.393259</td>\n",
       "    </tr>\n",
       "    <tr>\n",
       "      <th>MetalSd</th>\n",
       "      <td>149803.172897</td>\n",
       "      <td>-31118.022993</td>\n",
       "      <td>0.828002</td>\n",
       "    </tr>\n",
       "    <tr>\n",
       "      <th>Other</th>\n",
       "      <td>319000.000000</td>\n",
       "      <td>138078.804110</td>\n",
       "      <td>1.763199</td>\n",
       "    </tr>\n",
       "    <tr>\n",
       "      <th>Plywood</th>\n",
       "      <td>168112.387324</td>\n",
       "      <td>-12808.808566</td>\n",
       "      <td>0.929202</td>\n",
       "    </tr>\n",
       "    <tr>\n",
       "      <th>Stone</th>\n",
       "      <td>158224.800000</td>\n",
       "      <td>-22696.395890</td>\n",
       "      <td>0.874551</td>\n",
       "    </tr>\n",
       "    <tr>\n",
       "      <th>Stucco</th>\n",
       "      <td>155905.153846</td>\n",
       "      <td>-25016.042044</td>\n",
       "      <td>0.861730</td>\n",
       "    </tr>\n",
       "    <tr>\n",
       "      <th>VinylSd</th>\n",
       "      <td>214432.460317</td>\n",
       "      <td>33511.264427</td>\n",
       "      <td>1.185226</td>\n",
       "    </tr>\n",
       "    <tr>\n",
       "      <th>Wd Sdng</th>\n",
       "      <td>148386.065990</td>\n",
       "      <td>-32535.129901</td>\n",
       "      <td>0.820170</td>\n",
       "    </tr>\n",
       "    <tr>\n",
       "      <th>Wd Shng</th>\n",
       "      <td>161328.947368</td>\n",
       "      <td>-19592.248522</td>\n",
       "      <td>0.891708</td>\n",
       "    </tr>\n",
       "  </tbody>\n",
       "</table>\n",
       "</div>"
      ],
      "text/plain": [
       "                      mean           diff      risk\n",
       "Exterior2nd                                        \n",
       "AsbShng      114060.550000  -66860.645890  0.630443\n",
       "AsphShn      138000.000000  -42921.195890  0.762763\n",
       "Brk Cmn      126714.285714  -54206.910176  0.700384\n",
       "BrkFace      195818.000000   14896.804110  1.082339\n",
       "CBlock       105000.000000  -75921.195890  0.580363\n",
       "CmentBd      230093.833333   49172.637443  1.271790\n",
       "HdBoard      167661.565217  -13259.630673  0.926710\n",
       "ImStucc      252070.000000   71148.804110  1.393259\n",
       "MetalSd      149803.172897  -31118.022993  0.828002\n",
       "Other        319000.000000  138078.804110  1.763199\n",
       "Plywood      168112.387324  -12808.808566  0.929202\n",
       "Stone        158224.800000  -22696.395890  0.874551\n",
       "Stucco       155905.153846  -25016.042044  0.861730\n",
       "VinylSd      214432.460317   33511.264427  1.185226\n",
       "Wd Sdng      148386.065990  -32535.129901  0.820170\n",
       "Wd Shng      161328.947368  -19592.248522  0.891708"
      ]
     },
     "metadata": {},
     "output_type": "display_data"
    },
    {
     "data": {
      "text/html": [
       "<div>\n",
       "<style scoped>\n",
       "    .dataframe tbody tr th:only-of-type {\n",
       "        vertical-align: middle;\n",
       "    }\n",
       "\n",
       "    .dataframe tbody tr th {\n",
       "        vertical-align: top;\n",
       "    }\n",
       "\n",
       "    .dataframe thead th {\n",
       "        text-align: right;\n",
       "    }\n",
       "</style>\n",
       "<table border=\"1\" class=\"dataframe\">\n",
       "  <thead>\n",
       "    <tr style=\"text-align: right;\">\n",
       "      <th></th>\n",
       "      <th>mean</th>\n",
       "      <th>diff</th>\n",
       "      <th>risk</th>\n",
       "    </tr>\n",
       "    <tr>\n",
       "      <th>Foundation</th>\n",
       "      <th></th>\n",
       "      <th></th>\n",
       "      <th></th>\n",
       "    </tr>\n",
       "  </thead>\n",
       "  <tbody>\n",
       "    <tr>\n",
       "      <th>BrkTil</th>\n",
       "      <td>132291.075342</td>\n",
       "      <td>-48630.120548</td>\n",
       "      <td>0.731208</td>\n",
       "    </tr>\n",
       "    <tr>\n",
       "      <th>CBlock</th>\n",
       "      <td>149805.714511</td>\n",
       "      <td>-31115.481379</td>\n",
       "      <td>0.828016</td>\n",
       "    </tr>\n",
       "    <tr>\n",
       "      <th>PConc</th>\n",
       "      <td>225230.442040</td>\n",
       "      <td>44309.246150</td>\n",
       "      <td>1.244909</td>\n",
       "    </tr>\n",
       "    <tr>\n",
       "      <th>Slab</th>\n",
       "      <td>107365.625000</td>\n",
       "      <td>-73555.570890</td>\n",
       "      <td>0.593439</td>\n",
       "    </tr>\n",
       "    <tr>\n",
       "      <th>Stone</th>\n",
       "      <td>165959.166667</td>\n",
       "      <td>-14962.029224</td>\n",
       "      <td>0.917301</td>\n",
       "    </tr>\n",
       "    <tr>\n",
       "      <th>Wood</th>\n",
       "      <td>185666.666667</td>\n",
       "      <td>4745.470776</td>\n",
       "      <td>1.026229</td>\n",
       "    </tr>\n",
       "  </tbody>\n",
       "</table>\n",
       "</div>"
      ],
      "text/plain": [
       "                     mean          diff      risk\n",
       "Foundation                                       \n",
       "BrkTil      132291.075342 -48630.120548  0.731208\n",
       "CBlock      149805.714511 -31115.481379  0.828016\n",
       "PConc       225230.442040  44309.246150  1.244909\n",
       "Slab        107365.625000 -73555.570890  0.593439\n",
       "Stone       165959.166667 -14962.029224  0.917301\n",
       "Wood        185666.666667   4745.470776  1.026229"
      ]
     },
     "metadata": {},
     "output_type": "display_data"
    },
    {
     "data": {
      "text/html": [
       "<div>\n",
       "<style scoped>\n",
       "    .dataframe tbody tr th:only-of-type {\n",
       "        vertical-align: middle;\n",
       "    }\n",
       "\n",
       "    .dataframe tbody tr th {\n",
       "        vertical-align: top;\n",
       "    }\n",
       "\n",
       "    .dataframe thead th {\n",
       "        text-align: right;\n",
       "    }\n",
       "</style>\n",
       "<table border=\"1\" class=\"dataframe\">\n",
       "  <thead>\n",
       "    <tr style=\"text-align: right;\">\n",
       "      <th></th>\n",
       "      <th>mean</th>\n",
       "      <th>diff</th>\n",
       "      <th>risk</th>\n",
       "    </tr>\n",
       "    <tr>\n",
       "      <th>BsmtFinType1</th>\n",
       "      <th></th>\n",
       "      <th></th>\n",
       "      <th></th>\n",
       "    </tr>\n",
       "  </thead>\n",
       "  <tbody>\n",
       "    <tr>\n",
       "      <th>ALQ</th>\n",
       "      <td>161573.068182</td>\n",
       "      <td>-19348.127709</td>\n",
       "      <td>0.893058</td>\n",
       "    </tr>\n",
       "    <tr>\n",
       "      <th>BLQ</th>\n",
       "      <td>149493.655405</td>\n",
       "      <td>-31427.540485</td>\n",
       "      <td>0.826292</td>\n",
       "    </tr>\n",
       "    <tr>\n",
       "      <th>GLQ</th>\n",
       "      <td>235413.720096</td>\n",
       "      <td>54492.524205</td>\n",
       "      <td>1.301195</td>\n",
       "    </tr>\n",
       "    <tr>\n",
       "      <th>LwQ</th>\n",
       "      <td>151852.702703</td>\n",
       "      <td>-29068.493188</td>\n",
       "      <td>0.839331</td>\n",
       "    </tr>\n",
       "    <tr>\n",
       "      <th>Rec</th>\n",
       "      <td>146889.248120</td>\n",
       "      <td>-34031.947770</td>\n",
       "      <td>0.811896</td>\n",
       "    </tr>\n",
       "    <tr>\n",
       "      <th>Unf</th>\n",
       "      <td>170670.576744</td>\n",
       "      <td>-10250.619146</td>\n",
       "      <td>0.943342</td>\n",
       "    </tr>\n",
       "  </tbody>\n",
       "</table>\n",
       "</div>"
      ],
      "text/plain": [
       "                       mean          diff      risk\n",
       "BsmtFinType1                                       \n",
       "ALQ           161573.068182 -19348.127709  0.893058\n",
       "BLQ           149493.655405 -31427.540485  0.826292\n",
       "GLQ           235413.720096  54492.524205  1.301195\n",
       "LwQ           151852.702703 -29068.493188  0.839331\n",
       "Rec           146889.248120 -34031.947770  0.811896\n",
       "Unf           170670.576744 -10250.619146  0.943342"
      ]
     },
     "metadata": {},
     "output_type": "display_data"
    },
    {
     "data": {
      "text/html": [
       "<div>\n",
       "<style scoped>\n",
       "    .dataframe tbody tr th:only-of-type {\n",
       "        vertical-align: middle;\n",
       "    }\n",
       "\n",
       "    .dataframe tbody tr th {\n",
       "        vertical-align: top;\n",
       "    }\n",
       "\n",
       "    .dataframe thead th {\n",
       "        text-align: right;\n",
       "    }\n",
       "</style>\n",
       "<table border=\"1\" class=\"dataframe\">\n",
       "  <thead>\n",
       "    <tr style=\"text-align: right;\">\n",
       "      <th></th>\n",
       "      <th>mean</th>\n",
       "      <th>diff</th>\n",
       "      <th>risk</th>\n",
       "    </tr>\n",
       "    <tr>\n",
       "      <th>BsmtFinType2</th>\n",
       "      <th></th>\n",
       "      <th></th>\n",
       "      <th></th>\n",
       "    </tr>\n",
       "  </thead>\n",
       "  <tbody>\n",
       "    <tr>\n",
       "      <th>ALQ</th>\n",
       "      <td>209942.105263</td>\n",
       "      <td>29020.909373</td>\n",
       "      <td>1.160406</td>\n",
       "    </tr>\n",
       "    <tr>\n",
       "      <th>BLQ</th>\n",
       "      <td>151101.000000</td>\n",
       "      <td>-29820.195890</td>\n",
       "      <td>0.835176</td>\n",
       "    </tr>\n",
       "    <tr>\n",
       "      <th>GLQ</th>\n",
       "      <td>180982.142857</td>\n",
       "      <td>60.946967</td>\n",
       "      <td>1.000337</td>\n",
       "    </tr>\n",
       "    <tr>\n",
       "      <th>LwQ</th>\n",
       "      <td>164364.130435</td>\n",
       "      <td>-16557.065456</td>\n",
       "      <td>0.908485</td>\n",
       "    </tr>\n",
       "    <tr>\n",
       "      <th>Rec</th>\n",
       "      <td>164917.129630</td>\n",
       "      <td>-16004.066261</td>\n",
       "      <td>0.911541</td>\n",
       "    </tr>\n",
       "    <tr>\n",
       "      <th>Unf</th>\n",
       "      <td>184694.690287</td>\n",
       "      <td>3773.494396</td>\n",
       "      <td>1.020857</td>\n",
       "    </tr>\n",
       "  </tbody>\n",
       "</table>\n",
       "</div>"
      ],
      "text/plain": [
       "                       mean          diff      risk\n",
       "BsmtFinType2                                       \n",
       "ALQ           209942.105263  29020.909373  1.160406\n",
       "BLQ           151101.000000 -29820.195890  0.835176\n",
       "GLQ           180982.142857     60.946967  1.000337\n",
       "LwQ           164364.130435 -16557.065456  0.908485\n",
       "Rec           164917.129630 -16004.066261  0.911541\n",
       "Unf           184694.690287   3773.494396  1.020857"
      ]
     },
     "metadata": {},
     "output_type": "display_data"
    },
    {
     "data": {
      "text/html": [
       "<div>\n",
       "<style scoped>\n",
       "    .dataframe tbody tr th:only-of-type {\n",
       "        vertical-align: middle;\n",
       "    }\n",
       "\n",
       "    .dataframe tbody tr th {\n",
       "        vertical-align: top;\n",
       "    }\n",
       "\n",
       "    .dataframe thead th {\n",
       "        text-align: right;\n",
       "    }\n",
       "</style>\n",
       "<table border=\"1\" class=\"dataframe\">\n",
       "  <thead>\n",
       "    <tr style=\"text-align: right;\">\n",
       "      <th></th>\n",
       "      <th>mean</th>\n",
       "      <th>diff</th>\n",
       "      <th>risk</th>\n",
       "    </tr>\n",
       "    <tr>\n",
       "      <th>Heating</th>\n",
       "      <th></th>\n",
       "      <th></th>\n",
       "      <th></th>\n",
       "    </tr>\n",
       "  </thead>\n",
       "  <tbody>\n",
       "    <tr>\n",
       "      <th>Floor</th>\n",
       "      <td>72500.000000</td>\n",
       "      <td>-108421.195890</td>\n",
       "      <td>0.400727</td>\n",
       "    </tr>\n",
       "    <tr>\n",
       "      <th>GasA</th>\n",
       "      <td>182021.195378</td>\n",
       "      <td>1099.999488</td>\n",
       "      <td>1.006080</td>\n",
       "    </tr>\n",
       "    <tr>\n",
       "      <th>GasW</th>\n",
       "      <td>166632.166667</td>\n",
       "      <td>-14289.029224</td>\n",
       "      <td>0.921021</td>\n",
       "    </tr>\n",
       "    <tr>\n",
       "      <th>Grav</th>\n",
       "      <td>75271.428571</td>\n",
       "      <td>-105649.767319</td>\n",
       "      <td>0.416045</td>\n",
       "    </tr>\n",
       "    <tr>\n",
       "      <th>OthW</th>\n",
       "      <td>125750.000000</td>\n",
       "      <td>-55171.195890</td>\n",
       "      <td>0.695054</td>\n",
       "    </tr>\n",
       "    <tr>\n",
       "      <th>Wall</th>\n",
       "      <td>92100.000000</td>\n",
       "      <td>-88821.195890</td>\n",
       "      <td>0.509061</td>\n",
       "    </tr>\n",
       "  </tbody>\n",
       "</table>\n",
       "</div>"
      ],
      "text/plain": [
       "                  mean           diff      risk\n",
       "Heating                                        \n",
       "Floor     72500.000000 -108421.195890  0.400727\n",
       "GasA     182021.195378    1099.999488  1.006080\n",
       "GasW     166632.166667  -14289.029224  0.921021\n",
       "Grav      75271.428571 -105649.767319  0.416045\n",
       "OthW     125750.000000  -55171.195890  0.695054\n",
       "Wall      92100.000000  -88821.195890  0.509061"
      ]
     },
     "metadata": {},
     "output_type": "display_data"
    },
    {
     "data": {
      "text/html": [
       "<div>\n",
       "<style scoped>\n",
       "    .dataframe tbody tr th:only-of-type {\n",
       "        vertical-align: middle;\n",
       "    }\n",
       "\n",
       "    .dataframe tbody tr th {\n",
       "        vertical-align: top;\n",
       "    }\n",
       "\n",
       "    .dataframe thead th {\n",
       "        text-align: right;\n",
       "    }\n",
       "</style>\n",
       "<table border=\"1\" class=\"dataframe\">\n",
       "  <thead>\n",
       "    <tr style=\"text-align: right;\">\n",
       "      <th></th>\n",
       "      <th>mean</th>\n",
       "      <th>diff</th>\n",
       "      <th>risk</th>\n",
       "    </tr>\n",
       "    <tr>\n",
       "      <th>Functional</th>\n",
       "      <th></th>\n",
       "      <th></th>\n",
       "      <th></th>\n",
       "    </tr>\n",
       "  </thead>\n",
       "  <tbody>\n",
       "    <tr>\n",
       "      <th>Maj1</th>\n",
       "      <td>153948.142857</td>\n",
       "      <td>-26973.053033</td>\n",
       "      <td>0.850913</td>\n",
       "    </tr>\n",
       "    <tr>\n",
       "      <th>Maj2</th>\n",
       "      <td>85800.000000</td>\n",
       "      <td>-95121.195890</td>\n",
       "      <td>0.474240</td>\n",
       "    </tr>\n",
       "    <tr>\n",
       "      <th>Min1</th>\n",
       "      <td>146385.483871</td>\n",
       "      <td>-34535.712019</td>\n",
       "      <td>0.809112</td>\n",
       "    </tr>\n",
       "    <tr>\n",
       "      <th>Min2</th>\n",
       "      <td>144240.647059</td>\n",
       "      <td>-36680.548832</td>\n",
       "      <td>0.797257</td>\n",
       "    </tr>\n",
       "    <tr>\n",
       "      <th>Mod</th>\n",
       "      <td>168393.333333</td>\n",
       "      <td>-12527.862557</td>\n",
       "      <td>0.930755</td>\n",
       "    </tr>\n",
       "    <tr>\n",
       "      <th>Sev</th>\n",
       "      <td>129000.000000</td>\n",
       "      <td>-51921.195890</td>\n",
       "      <td>0.713018</td>\n",
       "    </tr>\n",
       "    <tr>\n",
       "      <th>Typ</th>\n",
       "      <td>183429.147059</td>\n",
       "      <td>2507.951168</td>\n",
       "      <td>1.013862</td>\n",
       "    </tr>\n",
       "  </tbody>\n",
       "</table>\n",
       "</div>"
      ],
      "text/plain": [
       "                     mean          diff      risk\n",
       "Functional                                       \n",
       "Maj1        153948.142857 -26973.053033  0.850913\n",
       "Maj2         85800.000000 -95121.195890  0.474240\n",
       "Min1        146385.483871 -34535.712019  0.809112\n",
       "Min2        144240.647059 -36680.548832  0.797257\n",
       "Mod         168393.333333 -12527.862557  0.930755\n",
       "Sev         129000.000000 -51921.195890  0.713018\n",
       "Typ         183429.147059   2507.951168  1.013862"
      ]
     },
     "metadata": {},
     "output_type": "display_data"
    },
    {
     "data": {
      "text/html": [
       "<div>\n",
       "<style scoped>\n",
       "    .dataframe tbody tr th:only-of-type {\n",
       "        vertical-align: middle;\n",
       "    }\n",
       "\n",
       "    .dataframe tbody tr th {\n",
       "        vertical-align: top;\n",
       "    }\n",
       "\n",
       "    .dataframe thead th {\n",
       "        text-align: right;\n",
       "    }\n",
       "</style>\n",
       "<table border=\"1\" class=\"dataframe\">\n",
       "  <thead>\n",
       "    <tr style=\"text-align: right;\">\n",
       "      <th></th>\n",
       "      <th>mean</th>\n",
       "      <th>diff</th>\n",
       "      <th>risk</th>\n",
       "    </tr>\n",
       "    <tr>\n",
       "      <th>GarageType</th>\n",
       "      <th></th>\n",
       "      <th></th>\n",
       "      <th></th>\n",
       "    </tr>\n",
       "  </thead>\n",
       "  <tbody>\n",
       "    <tr>\n",
       "      <th>2Types</th>\n",
       "      <td>151283.333333</td>\n",
       "      <td>-29637.862557</td>\n",
       "      <td>0.836184</td>\n",
       "    </tr>\n",
       "    <tr>\n",
       "      <th>Attchd</th>\n",
       "      <td>202892.656322</td>\n",
       "      <td>21971.460431</td>\n",
       "      <td>1.121442</td>\n",
       "    </tr>\n",
       "    <tr>\n",
       "      <th>Basment</th>\n",
       "      <td>160570.684211</td>\n",
       "      <td>-20350.511680</td>\n",
       "      <td>0.887517</td>\n",
       "    </tr>\n",
       "    <tr>\n",
       "      <th>BuiltIn</th>\n",
       "      <td>254751.738636</td>\n",
       "      <td>73830.542746</td>\n",
       "      <td>1.408081</td>\n",
       "    </tr>\n",
       "    <tr>\n",
       "      <th>CarPort</th>\n",
       "      <td>109962.111111</td>\n",
       "      <td>-70959.084779</td>\n",
       "      <td>0.607790</td>\n",
       "    </tr>\n",
       "    <tr>\n",
       "      <th>Detchd</th>\n",
       "      <td>134091.162791</td>\n",
       "      <td>-46830.033100</td>\n",
       "      <td>0.741158</td>\n",
       "    </tr>\n",
       "  </tbody>\n",
       "</table>\n",
       "</div>"
      ],
      "text/plain": [
       "                     mean          diff      risk\n",
       "GarageType                                       \n",
       "2Types      151283.333333 -29637.862557  0.836184\n",
       "Attchd      202892.656322  21971.460431  1.121442\n",
       "Basment     160570.684211 -20350.511680  0.887517\n",
       "BuiltIn     254751.738636  73830.542746  1.408081\n",
       "CarPort     109962.111111 -70959.084779  0.607790\n",
       "Detchd      134091.162791 -46830.033100  0.741158"
      ]
     },
     "metadata": {},
     "output_type": "display_data"
    },
    {
     "data": {
      "text/html": [
       "<div>\n",
       "<style scoped>\n",
       "    .dataframe tbody tr th:only-of-type {\n",
       "        vertical-align: middle;\n",
       "    }\n",
       "\n",
       "    .dataframe tbody tr th {\n",
       "        vertical-align: top;\n",
       "    }\n",
       "\n",
       "    .dataframe thead th {\n",
       "        text-align: right;\n",
       "    }\n",
       "</style>\n",
       "<table border=\"1\" class=\"dataframe\">\n",
       "  <thead>\n",
       "    <tr style=\"text-align: right;\">\n",
       "      <th></th>\n",
       "      <th>mean</th>\n",
       "      <th>diff</th>\n",
       "      <th>risk</th>\n",
       "    </tr>\n",
       "    <tr>\n",
       "      <th>SaleType</th>\n",
       "      <th></th>\n",
       "      <th></th>\n",
       "      <th></th>\n",
       "    </tr>\n",
       "  </thead>\n",
       "  <tbody>\n",
       "    <tr>\n",
       "      <th>COD</th>\n",
       "      <td>143973.255814</td>\n",
       "      <td>-36947.940076</td>\n",
       "      <td>0.795779</td>\n",
       "    </tr>\n",
       "    <tr>\n",
       "      <th>CWD</th>\n",
       "      <td>210600.000000</td>\n",
       "      <td>29678.804110</td>\n",
       "      <td>1.164043</td>\n",
       "    </tr>\n",
       "    <tr>\n",
       "      <th>Con</th>\n",
       "      <td>269600.000000</td>\n",
       "      <td>88678.804110</td>\n",
       "      <td>1.490152</td>\n",
       "    </tr>\n",
       "    <tr>\n",
       "      <th>ConLD</th>\n",
       "      <td>138780.888889</td>\n",
       "      <td>-42140.307002</td>\n",
       "      <td>0.767079</td>\n",
       "    </tr>\n",
       "    <tr>\n",
       "      <th>ConLI</th>\n",
       "      <td>200390.000000</td>\n",
       "      <td>19468.804110</td>\n",
       "      <td>1.107609</td>\n",
       "    </tr>\n",
       "    <tr>\n",
       "      <th>ConLw</th>\n",
       "      <td>143700.000000</td>\n",
       "      <td>-37221.195890</td>\n",
       "      <td>0.794268</td>\n",
       "    </tr>\n",
       "    <tr>\n",
       "      <th>New</th>\n",
       "      <td>274945.418033</td>\n",
       "      <td>94024.222142</td>\n",
       "      <td>1.519697</td>\n",
       "    </tr>\n",
       "    <tr>\n",
       "      <th>Oth</th>\n",
       "      <td>119850.000000</td>\n",
       "      <td>-61071.195890</td>\n",
       "      <td>0.662443</td>\n",
       "    </tr>\n",
       "    <tr>\n",
       "      <th>WD</th>\n",
       "      <td>173401.836622</td>\n",
       "      <td>-7519.359268</td>\n",
       "      <td>0.958438</td>\n",
       "    </tr>\n",
       "  </tbody>\n",
       "</table>\n",
       "</div>"
      ],
      "text/plain": [
       "                   mean          diff      risk\n",
       "SaleType                                       \n",
       "COD       143973.255814 -36947.940076  0.795779\n",
       "CWD       210600.000000  29678.804110  1.164043\n",
       "Con       269600.000000  88678.804110  1.490152\n",
       "ConLD     138780.888889 -42140.307002  0.767079\n",
       "ConLI     200390.000000  19468.804110  1.107609\n",
       "ConLw     143700.000000 -37221.195890  0.794268\n",
       "New       274945.418033  94024.222142  1.519697\n",
       "Oth       119850.000000 -61071.195890  0.662443\n",
       "WD        173401.836622  -7519.359268  0.958438"
      ]
     },
     "metadata": {},
     "output_type": "display_data"
    },
    {
     "data": {
      "text/html": [
       "<div>\n",
       "<style scoped>\n",
       "    .dataframe tbody tr th:only-of-type {\n",
       "        vertical-align: middle;\n",
       "    }\n",
       "\n",
       "    .dataframe tbody tr th {\n",
       "        vertical-align: top;\n",
       "    }\n",
       "\n",
       "    .dataframe thead th {\n",
       "        text-align: right;\n",
       "    }\n",
       "</style>\n",
       "<table border=\"1\" class=\"dataframe\">\n",
       "  <thead>\n",
       "    <tr style=\"text-align: right;\">\n",
       "      <th></th>\n",
       "      <th>mean</th>\n",
       "      <th>diff</th>\n",
       "      <th>risk</th>\n",
       "    </tr>\n",
       "    <tr>\n",
       "      <th>SaleCondition</th>\n",
       "      <th></th>\n",
       "      <th></th>\n",
       "      <th></th>\n",
       "    </tr>\n",
       "  </thead>\n",
       "  <tbody>\n",
       "    <tr>\n",
       "      <th>Abnorml</th>\n",
       "      <td>146526.623762</td>\n",
       "      <td>-34394.572128</td>\n",
       "      <td>0.809892</td>\n",
       "    </tr>\n",
       "    <tr>\n",
       "      <th>AdjLand</th>\n",
       "      <td>104125.000000</td>\n",
       "      <td>-76796.195890</td>\n",
       "      <td>0.575527</td>\n",
       "    </tr>\n",
       "    <tr>\n",
       "      <th>Alloca</th>\n",
       "      <td>167377.416667</td>\n",
       "      <td>-13543.779224</td>\n",
       "      <td>0.925140</td>\n",
       "    </tr>\n",
       "    <tr>\n",
       "      <th>Family</th>\n",
       "      <td>149600.000000</td>\n",
       "      <td>-31321.195890</td>\n",
       "      <td>0.826879</td>\n",
       "    </tr>\n",
       "    <tr>\n",
       "      <th>Normal</th>\n",
       "      <td>175202.219533</td>\n",
       "      <td>-5718.976358</td>\n",
       "      <td>0.968390</td>\n",
       "    </tr>\n",
       "    <tr>\n",
       "      <th>Partial</th>\n",
       "      <td>272291.752000</td>\n",
       "      <td>91370.556110</td>\n",
       "      <td>1.505030</td>\n",
       "    </tr>\n",
       "  </tbody>\n",
       "</table>\n",
       "</div>"
      ],
      "text/plain": [
       "                        mean          diff      risk\n",
       "SaleCondition                                       \n",
       "Abnorml        146526.623762 -34394.572128  0.809892\n",
       "AdjLand        104125.000000 -76796.195890  0.575527\n",
       "Alloca         167377.416667 -13543.779224  0.925140\n",
       "Family         149600.000000 -31321.195890  0.826879\n",
       "Normal         175202.219533  -5718.976358  0.968390\n",
       "Partial        272291.752000  91370.556110  1.505030"
      ]
     },
     "metadata": {},
     "output_type": "display_data"
    }
   ],
   "source": [
    "global_mean = train_df[\"SalePrice\"].mean()\n",
    "\n",
    "for col in target_encoding_columns:\n",
    "    df_group = train_df.groupby(by=col)[\"SalePrice\"].agg([\"mean\"])\n",
    "    df_group[\"diff\"] = df_group[\"mean\"] - global_mean\n",
    "    df_group[\"risk\"] = df_group[\"mean\"] / global_mean\n",
    "    display(df_group)"
   ]
  },
  {
   "cell_type": "markdown",
   "id": "a7b3801f-824b-4976-af16-4ad280217299",
   "metadata": {},
   "source": [
    "It seems that all of the columns are very important to the sale price, there are no columns for us to remove here. Now let's do the encoding."
   ]
  },
  {
   "cell_type": "code",
   "execution_count": 75,
   "id": "4e1f168d-928b-4d68-b021-42a5b872cc77",
   "metadata": {},
   "outputs": [],
   "source": [
    "# one-hot encoding\n",
    "train_df = pd.get_dummies(train_df, columns=one_hot_encoding_columns)  # get_dummies drops the original categorical columns by the encoded columns\n",
    "test_df = pd.get_dummies(test_df, columns=one_hot_encoding_columns)\n",
    "\n",
    "# target encoding\n",
    "for category in target_encoding_columns:\n",
    "    category_means = train_df.groupby(category)[\"SalePrice\"].mean()\n",
    "    train_df[category] = train_df[category].map(category_means)\n",
    "    test_df[category] = test_df[category].map(category_means)\n",
    "    train_df[category] = train_df[category].fillna(global_mean)\n",
    "    test_df[category] = test_df[category].fillna(global_mean)"
   ]
  },
  {
   "cell_type": "markdown",
   "id": "ba03dee2-7079-4c07-a237-f9c4298e8be7",
   "metadata": {},
   "source": [
    "We have to make sure that the 2 dataframes have the same number of columns, and that they are in the same order."
   ]
  },
  {
   "cell_type": "markdown",
   "id": "a8662bf2-70a6-4836-b931-62fea8adbfe9",
   "metadata": {},
   "source": [
    "### One-hot encoding using OneHotEncoder"
   ]
  },
  {
   "cell_type": "markdown",
   "id": "a96bbaa1-4aab-4c20-bfca-cf298d18355b",
   "metadata": {},
   "source": [
    "One-hot encoding can be done using OneHotEncoder. This is often better than doing the one-hot encoding using get_dummies because OneHotEncoder saves the exploded categories into it’s object. If the total number of unique values in a categorical column is not the same for my train set vs test set, get_dummies is going to need more modifying, but OneHotEncoder will handle it with no issue."
   ]
  },
  {
   "cell_type": "markdown",
   "id": "858bfa63-fd24-4ec7-be15-ba2f572e953b",
   "metadata": {},
   "source": [
    "The code below is how you could implement the one-hot encoding."
   ]
  },
  {
   "cell_type": "code",
   "execution_count": 76,
   "id": "9c5c61a6-7096-43f6-b94a-e458b9d12c18",
   "metadata": {},
   "outputs": [
    {
     "data": {
      "text/plain": [
       "'\\nfrom sklearn.preprocessing import OneHotEncoder\\n\\n# Initialize OneHotEncoder\\nencoder = OneHotEncoder(sparse_output=False, handle_unknown=\"ignore\")  # Use `sparse_output=False` for dense arrays\\n\\n# Fit on training data\\nencoder.fit(train_df[one_hot_encoding_columns])\\n\\n# Transform training and test data\\ntrain_encoded = encoder.transform(train_df[one_hot_encoding_columns])\\ntest_encoded = encoder.transform(test_df[one_hot_encoding_columns])\\n\\n# Get feature names for the encoded columns\\nencoded_feature_names = encoder.get_feature_names_out(one_hot_encoding_columns)\\n\\n# Convert encoded arrays to DataFrames\\ntrain_encoded_df = pd.DataFrame(train_encoded, columns=encoded_feature_names, index=train_df.index)\\ntest_encoded_df = pd.DataFrame(test_encoded, columns=encoded_feature_names, index=test_df.index)\\n\\n# Drop original categorical columns and concatenate encoded features\\ntrain_df = train_df.drop(columns=one_hot_encoding_columns).join(train_encoded_df)\\ntest_df = test_df.drop(columns=one_hot_encoding_columns).join(test_encoded_df)\\n'"
      ]
     },
     "execution_count": 76,
     "metadata": {},
     "output_type": "execute_result"
    }
   ],
   "source": [
    "\"\"\"\n",
    "from sklearn.preprocessing import OneHotEncoder\n",
    "\n",
    "# Initialize OneHotEncoder\n",
    "encoder = OneHotEncoder(sparse_output=False, handle_unknown=\"ignore\")  # Use `sparse_output=False` for dense arrays\n",
    "\n",
    "# Fit on training data\n",
    "encoder.fit(train_df[one_hot_encoding_columns])\n",
    "\n",
    "# Transform training and test data\n",
    "train_encoded = encoder.transform(train_df[one_hot_encoding_columns])\n",
    "test_encoded = encoder.transform(test_df[one_hot_encoding_columns])\n",
    "\n",
    "# Get feature names for the encoded columns\n",
    "encoded_feature_names = encoder.get_feature_names_out(one_hot_encoding_columns)\n",
    "\n",
    "# Convert encoded arrays to DataFrames\n",
    "train_encoded_df = pd.DataFrame(train_encoded, columns=encoded_feature_names, index=train_df.index)\n",
    "test_encoded_df = pd.DataFrame(test_encoded, columns=encoded_feature_names, index=test_df.index)\n",
    "\n",
    "# Drop original categorical columns and concatenate encoded features\n",
    "train_df = train_df.drop(columns=one_hot_encoding_columns).join(train_encoded_df)\n",
    "test_df = test_df.drop(columns=one_hot_encoding_columns).join(test_encoded_df)\n",
    "\"\"\""
   ]
  },
  {
   "cell_type": "markdown",
   "id": "e26ff71a-a9da-4e50-8595-94953e33920a",
   "metadata": {},
   "source": [
    "### Finalize cleaning the data"
   ]
  },
  {
   "cell_type": "code",
   "execution_count": 77,
   "id": "559b3b92-7875-4f84-b0a2-0b3af03c456a",
   "metadata": {},
   "outputs": [
    {
     "data": {
      "text/plain": [
       "(Index(['MSSubClass', 'LotFrontage', 'LotArea', 'Neighborhood', 'Condition1',\n",
       "        'HouseStyle', 'OverallQual', 'OverallCond', 'YearBuilt', 'YearRemodAdd',\n",
       "        ...\n",
       "        'PoolQC_Fa', 'PoolQC_Gd', 'Fence_GdPrv', 'Fence_GdWo', 'Fence_MnPrv',\n",
       "        'Fence_MnWw', 'MiscFeature_Gar2', 'MiscFeature_Othr',\n",
       "        'MiscFeature_Shed', 'MiscFeature_TenC'],\n",
       "       dtype='object', length=152),\n",
       " Index(['MSSubClass', 'LotFrontage', 'LotArea', 'Neighborhood', 'Condition1',\n",
       "        'HouseStyle', 'OverallQual', 'OverallCond', 'YearBuilt', 'YearRemodAdd',\n",
       "        ...\n",
       "        'PavedDrive_Y', 'PoolQC_Ex', 'PoolQC_Gd', 'Fence_GdPrv', 'Fence_GdWo',\n",
       "        'Fence_MnPrv', 'Fence_MnWw', 'MiscFeature_Gar2', 'MiscFeature_Othr',\n",
       "        'MiscFeature_Shed'],\n",
       "       dtype='object', length=147))"
      ]
     },
     "execution_count": 77,
     "metadata": {},
     "output_type": "execute_result"
    }
   ],
   "source": [
    "train_df.columns, test_df.columns"
   ]
  },
  {
   "cell_type": "markdown",
   "id": "be5f5ea5-0773-4e2c-a1bc-a841fc5c61d7",
   "metadata": {},
   "source": [
    "Let's add those columns missing from test_df into it, and then sort the columns so that they line up."
   ]
  },
  {
   "cell_type": "code",
   "execution_count": 78,
   "id": "ed8a328d-4d63-40af-ab50-8b78c4420f11",
   "metadata": {},
   "outputs": [],
   "source": [
    "for column in [column for column in train_df.columns if column not in test_df.columns and column != \"SalePrice\"]:\n",
    "    test_df[column] = False\n",
    "\n",
    "test_df = test_df[train_df.columns.drop(\"SalePrice\")]"
   ]
  },
  {
   "cell_type": "markdown",
   "id": "476bc570-ad5f-421b-9fc5-6552b346d40b",
   "metadata": {},
   "source": [
    "Let's change all of the dtypes for the columns that use bool features."
   ]
  },
  {
   "cell_type": "code",
   "execution_count": 79,
   "id": "7c01939e-d4a6-4a13-a359-96df963d70ac",
   "metadata": {},
   "outputs": [],
   "source": [
    "for column in train_df.dtypes[train_df.dtypes == \"bool\"].index:\n",
    "    train_df[column] = train_df[column].astype(int)\n",
    "    test_df[column] = test_df[column].astype(int)"
   ]
  },
  {
   "cell_type": "markdown",
   "id": "e281ea6b-95a1-4fe1-9a68-218a679bb6c0",
   "metadata": {},
   "source": [
    "Let's see if train_df or test_df still have any null values."
   ]
  },
  {
   "cell_type": "code",
   "execution_count": 80,
   "id": "5b240eba-f207-431e-b4a6-9bece7e18e38",
   "metadata": {},
   "outputs": [],
   "source": [
    "for column in train_df.columns:\n",
    "    if train_df[column].isnull().sum():\n",
    "        print(column, train_df[column].isnull().sum(), train_df[column].dtype)"
   ]
  },
  {
   "cell_type": "code",
   "execution_count": 81,
   "id": "a12c7091-7aa7-4108-a9a6-2d30c60b7c56",
   "metadata": {},
   "outputs": [
    {
     "name": "stdout",
     "output_type": "stream",
     "text": [
      "BsmtFinSF1 1 float64\n",
      "BsmtFinSF2 1 float64\n",
      "BsmtUnfSF 1 float64\n",
      "TotalBsmtSF 1 float64\n",
      "FullBath 2 float64\n",
      "HalfBath 2 float64\n",
      "GarageCars 1 float64\n",
      "GarageArea 1 float64\n"
     ]
    }
   ],
   "source": [
    "for column in test_df.columns:\n",
    "    if test_df[column].isnull().sum():\n",
    "        print(column, test_df[column].isnull().sum(), test_df[column].dtype)"
   ]
  },
  {
   "cell_type": "markdown",
   "id": "3e327f2b-1c03-46a6-bc5d-e0be3ee1efc5",
   "metadata": {},
   "source": [
    "test_df still has some null values, but those value names make it seem like we can just make those null values into 0s."
   ]
  },
  {
   "cell_type": "code",
   "execution_count": 82,
   "id": "d7903047-7834-4caf-a80f-cc2afd05b6a3",
   "metadata": {},
   "outputs": [],
   "source": [
    "for column in test_df.columns:\n",
    "    if test_df[column].isnull().sum():\n",
    "        test_df[column] = test_df[column].fillna(0)"
   ]
  },
  {
   "cell_type": "markdown",
   "id": "b23565b8-471d-4d69-a237-7b52305afa1a",
   "metadata": {},
   "source": [
    "Finally, we can start modeling."
   ]
  },
  {
   "cell_type": "markdown",
   "id": "9d77efe9-65e7-428b-9e1b-05f20351dc54",
   "metadata": {},
   "source": [
    "## Step 4: Modeling"
   ]
  },
  {
   "cell_type": "markdown",
   "id": "1ffe9635-9bae-49c3-a765-92700305722e",
   "metadata": {},
   "source": [
    "This is where we build various models and evaluate them. Before testing any models, we can split the train_df into train_split_df and val_split_df dataframes. This is helpful because we can evaluate all models on the same validation set, and we can avoid data leakage by keeping the test_df completely untouched until the final evaluation."
   ]
  },
  {
   "cell_type": "code",
   "execution_count": 83,
   "id": "c8e6ec03-2380-4aaf-a284-39a9aea81896",
   "metadata": {},
   "outputs": [],
   "source": [
    "X_train, X_val, y_train, y_val = train_test_split(\n",
    "    train_df.drop(columns=[\"SalePrice\"]),\n",
    "    train_df[\"SalePrice\"],\n",
    "    test_size=0.2,\n",
    "    random_state=1\n",
    ")"
   ]
  },
  {
   "cell_type": "markdown",
   "id": "7522beb7-4b10-4f0c-851b-fa1ab4fe044e",
   "metadata": {},
   "source": [
    "We will test a few models, starting with simpler models and gradually moving to more complex ones. This helps us establish a baseline and understand whether the added complexity of advanced models is justified."
   ]
  },
  {
   "cell_type": "code",
   "execution_count": 84,
   "id": "1878eedc-4463-4299-8abe-a9600c633242",
   "metadata": {},
   "outputs": [],
   "source": [
    "X_train = train_df.drop(columns=[\"SalePrice\"])\n",
    "y_train = train_df[\"SalePrice\"]"
   ]
  },
  {
   "cell_type": "markdown",
   "id": "f1b0d5e4-8e52-4a89-ab64-5c1f1bfcd16f",
   "metadata": {},
   "source": [
    "### Linear Regression"
   ]
  },
  {
   "cell_type": "markdown",
   "id": "4e1176e2-8b90-4d46-9acd-68e8255c86cf",
   "metadata": {},
   "source": [
    "Linear regression is a simple statistical model that assumes a linear relationship between the input features and the target variable."
   ]
  },
  {
   "cell_type": "code",
   "execution_count": 85,
   "id": "fedff8c7-2d69-49a0-a12d-b9586de95322",
   "metadata": {},
   "outputs": [],
   "source": [
    "linear_regression = LinearRegression()\n",
    "linear_regression.fit(X_train, y_train)\n",
    "y_val_linear_regression = linear_regression.predict(X_val)"
   ]
  },
  {
   "cell_type": "markdown",
   "id": "04287ed9-ea5f-46f5-92fa-bcce226633e2",
   "metadata": {},
   "source": [
    "### Ridge Regression"
   ]
  },
  {
   "cell_type": "markdown",
   "id": "ef26b899-8329-461d-8ad5-969d88293f58",
   "metadata": {},
   "source": [
    "Ridge regression is a regularized version of Linear Regression that adds an L2 penalty (sum of squared coefficients) to the loss function to prevent overfitting."
   ]
  },
  {
   "cell_type": "code",
   "execution_count": 86,
   "id": "03ff2b09-b442-4aea-9ad7-19dbdbc3b7f8",
   "metadata": {},
   "outputs": [],
   "source": [
    "ridge_regression = Ridge()\n",
    "ridge_regression.fit(X_train, y_train)\n",
    "y_val_ridge_regression = ridge_regression.predict(X_val)"
   ]
  },
  {
   "cell_type": "markdown",
   "id": "8a26243a-1b00-4c71-8ef6-2f081f58d34c",
   "metadata": {},
   "source": [
    "### Polynomial Regression"
   ]
  },
  {
   "cell_type": "markdown",
   "id": "874749fc-846d-4be4-98fa-2d72ec05472c",
   "metadata": {},
   "source": [
    "Polynomial regression is an extension of Linear Regression that models non-linear relationships by adding polynomial terms to the features."
   ]
  },
  {
   "cell_type": "code",
   "execution_count": 87,
   "id": "fcd251a4-a3a0-40c2-babd-f71b8794e5ee",
   "metadata": {},
   "outputs": [],
   "source": [
    "degrees = 2  # 1 would just be linear regression, 2 would add quadratic features\n",
    "\n",
    "polynomial_features = PolynomialFeatures(degree=degrees)\n",
    "X_train_polynomial_regression = polynomial_features.fit_transform(X_train)\n",
    "X_val_polynomial_regression = polynomial_features.transform(X_val)\n",
    "\n",
    "polynomial_regression = LinearRegression()\n",
    "polynomial_regression.fit(X_train_polynomial_regression, y_train)\n",
    "y_val_polynomial_regression = polynomial_regression.predict(X_val_polynomial_regression)"
   ]
  },
  {
   "cell_type": "markdown",
   "id": "c6d65729-22a1-4b34-9664-ead6d51e39df",
   "metadata": {},
   "source": [
    "### Random Forest"
   ]
  },
  {
   "cell_type": "markdown",
   "id": "0a1d68b4-943d-44f4-b62c-d5531decb4b7",
   "metadata": {},
   "source": [
    "Random forest is an ensemble learning method that builds multiple decision trees during training and combines their predictions."
   ]
  },
  {
   "cell_type": "code",
   "execution_count": 88,
   "id": "8d20ca06-28e7-4055-91f2-d64cbbced24a",
   "metadata": {},
   "outputs": [],
   "source": [
    "random_forest = RandomForestRegressor(n_estimators=10)\n",
    "random_forest.fit(X_train, y_train)\n",
    "y_val_random_forest = random_forest.predict(X_val)"
   ]
  },
  {
   "cell_type": "markdown",
   "id": "eba15d72-850c-4aba-bed7-f73506e13913",
   "metadata": {},
   "source": [
    "### XGBoost (Gradient Boosting)"
   ]
  },
  {
   "cell_type": "markdown",
   "id": "12ff9d0e-3c9e-4a72-a490-122729f03c81",
   "metadata": {},
   "source": [
    "XGBoost is a scalable and efficient implementation of gradient boosting, which builds trees sequentially, with each tree correcting the errors of the previous one."
   ]
  },
  {
   "cell_type": "code",
   "execution_count": 89,
   "id": "c61baad7-777b-4259-bce0-a12689c9284e",
   "metadata": {},
   "outputs": [],
   "source": [
    "xgboost = XGBRegressor(random_state=1)\n",
    "xgboost.fit(X_train, y_train)\n",
    "y_val_xgboost = xgboost.predict(X_val)"
   ]
  },
  {
   "cell_type": "markdown",
   "id": "9b503ada-bf76-4c99-868a-4f398c2eda67",
   "metadata": {},
   "source": [
    "## Step 5: Evaluation"
   ]
  },
  {
   "cell_type": "markdown",
   "id": "95ca700d-4299-46fa-a6a3-89aba973322d",
   "metadata": {},
   "source": [
    "We can create a function that helps us evaluate the models we made."
   ]
  },
  {
   "cell_type": "code",
   "execution_count": 90,
   "id": "22430542-a814-4528-a5bb-e0135e9b9395",
   "metadata": {},
   "outputs": [],
   "source": [
    "def evaluate_model(y_val, y_val_pred):\n",
    "    rmse = np.sqrt(mean_squared_error(y_val, y_val_pred))\n",
    "    mae = mean_absolute_error(y_val, y_val_pred)\n",
    "    r2 = r2_score(y_val, y_val_pred)\n",
    "    return rmse, mae, r2"
   ]
  },
  {
   "cell_type": "code",
   "execution_count": 91,
   "id": "b0a261c9-d2e7-4f8a-9176-a0841a1796c6",
   "metadata": {},
   "outputs": [
    {
     "name": "stdout",
     "output_type": "stream",
     "text": [
      "Linear Regression - RMSE: 21835.192645106974 MAE: 15223.651071351762 R²: 0.9331492676430576\n"
     ]
    }
   ],
   "source": [
    "linear_regression_rmse, linear_regression_mae, linear_regression_r2 = evaluate_model(y_val, y_val_linear_regression)\n",
    "print(\"Linear Regression - RMSE:\", linear_regression_rmse, \"MAE:\", linear_regression_mae, \"R²:\", linear_regression_r2)"
   ]
  },
  {
   "cell_type": "code",
   "execution_count": 92,
   "id": "f5970809-d815-464c-8296-02e2fba9fa76",
   "metadata": {},
   "outputs": [
    {
     "name": "stdout",
     "output_type": "stream",
     "text": [
      "Ridge Regression - RMSE: 23788.08385455552 MAE: 16190.581705517132 R²: 0.9206565583044363\n"
     ]
    }
   ],
   "source": [
    "ridge_regression_rmse, ridge_regression_mae, ridge_regression_r2 = evaluate_model(y_val, y_val_ridge_regression)\n",
    "print(\"Ridge Regression - RMSE:\", ridge_regression_rmse, \"MAE:\", ridge_regression_mae, \"R²:\", ridge_regression_r2)"
   ]
  },
  {
   "cell_type": "code",
   "execution_count": 93,
   "id": "49c099c0-4831-446a-98e6-b2235cc4c77a",
   "metadata": {},
   "outputs": [
    {
     "name": "stdout",
     "output_type": "stream",
     "text": [
      "Polynomial Regression - RMSE: 5.304715793900622e-05 MAE: 4.17340317205207e-05 R²: 1.0\n"
     ]
    }
   ],
   "source": [
    "polynomial_regression_rmse, polynomial_regression_mae, polynomial_regression_r2 = evaluate_model(y_val, y_val_polynomial_regression)\n",
    "print(\"Polynomial Regression - RMSE:\", polynomial_regression_rmse, \"MAE:\", polynomial_regression_mae, \"R²:\", polynomial_regression_r2)"
   ]
  },
  {
   "cell_type": "code",
   "execution_count": 94,
   "id": "c97d0b7a-b6e6-4d08-9438-db90e3139bea",
   "metadata": {},
   "outputs": [
    {
     "name": "stdout",
     "output_type": "stream",
     "text": [
      "Random Forest - RMSE: 13704.43970156142 MAE: 7258.251027397259 R²: 0.9736661303072143\n"
     ]
    }
   ],
   "source": [
    "random_forest_rmse, random_forest_mae, random_forest_r2 = evaluate_model(y_val, y_val_random_forest)\n",
    "print(\"Random Forest - RMSE:\", random_forest_rmse, \"MAE:\", random_forest_mae, \"R²:\", random_forest_r2)"
   ]
  },
  {
   "cell_type": "code",
   "execution_count": 95,
   "id": "e94e7b70-fe4a-4562-8fce-948f097ff89a",
   "metadata": {},
   "outputs": [
    {
     "name": "stdout",
     "output_type": "stream",
     "text": [
      "XGBoost - RMSE: 1373.4160877170473 MAE: 996.8096923828125 R²: 0.9997355341911316\n"
     ]
    }
   ],
   "source": [
    "xgboost_rmse, xgboost_mae, xgboost_r2 = evaluate_model(y_val, y_val_xgboost)\n",
    "print(\"XGBoost - RMSE:\", xgboost_rmse, \"MAE:\", xgboost_mae, \"R²:\", xgboost_r2)"
   ]
  },
  {
   "cell_type": "markdown",
   "id": "3aafea86-ea86-4c8f-ab90-f948cf33fceb",
   "metadata": {},
   "source": [
    "It seems that the best model we have is polynomial regression, but it might be overfitting, so let's use the test data with it and xgboost."
   ]
  },
  {
   "cell_type": "markdown",
   "id": "61691a2c-10de-42c9-bc64-c07bf7f92a4e",
   "metadata": {},
   "source": [
    "## Step 6: Deployment"
   ]
  },
  {
   "cell_type": "markdown",
   "id": "a92c7389-05a0-44ef-80ab-470f95705ea6",
   "metadata": {},
   "source": [
    "Let's use the test data and see what we predict as the SalePrice column for that dataframe."
   ]
  },
  {
   "cell_type": "markdown",
   "id": "0b88b040-a81d-4dc6-a9a0-dd31fa41979c",
   "metadata": {},
   "source": [
    "### Selecting the best model"
   ]
  },
  {
   "cell_type": "code",
   "execution_count": 96,
   "id": "bfb71c84-96dc-4154-ac4e-345f70df25bf",
   "metadata": {},
   "outputs": [],
   "source": [
    "X_test = test_df"
   ]
  },
  {
   "cell_type": "code",
   "execution_count": 97,
   "id": "80c49e53-dd29-4de8-b75e-6954570d68d2",
   "metadata": {},
   "outputs": [
    {
     "data": {
      "text/plain": [
       "array([  121286.16449624, -5354747.22387691,   221058.37208021, ...,\n",
       "         263171.6865107 ,   960554.79016688,   255493.18830916])"
      ]
     },
     "execution_count": 97,
     "metadata": {},
     "output_type": "execute_result"
    }
   ],
   "source": [
    "X_test_polynomial_regression = polynomial_features.transform(X_test)\n",
    "y_test_polynomial_regression = polynomial_regression.predict(X_test_polynomial_regression)\n",
    "y_test_polynomial_regression"
   ]
  },
  {
   "cell_type": "code",
   "execution_count": 98,
   "id": "c9275c6b-fa0e-4120-b8c2-a1f183fdfcd8",
   "metadata": {},
   "outputs": [
    {
     "data": {
      "text/plain": [
       "np.float64(149868.84056121128)"
      ]
     },
     "execution_count": 98,
     "metadata": {},
     "output_type": "execute_result"
    }
   ],
   "source": [
    "y_test_polynomial_regression.mean()"
   ]
  },
  {
   "cell_type": "code",
   "execution_count": 99,
   "id": "36c72406-3d2b-4483-83a8-f2333f5d11a6",
   "metadata": {},
   "outputs": [
    {
     "data": {
      "text/plain": [
       "array([117718.555, 159350.69 , 189914.05 , ..., 157472.47 , 119193.61 ,\n",
       "       188362.95 ], dtype=float32)"
      ]
     },
     "execution_count": 99,
     "metadata": {},
     "output_type": "execute_result"
    }
   ],
   "source": [
    "y_test_xgboost = xgboost.predict(X_test)\n",
    "y_test_xgboost"
   ]
  },
  {
   "cell_type": "code",
   "execution_count": 100,
   "id": "9a06a126-3664-4efc-953d-7fb424d6c791",
   "metadata": {},
   "outputs": [
    {
     "data": {
      "text/plain": [
       "np.float32(179275.84)"
      ]
     },
     "execution_count": 100,
     "metadata": {},
     "output_type": "execute_result"
    }
   ],
   "source": [
    "y_test_xgboost.mean()"
   ]
  },
  {
   "cell_type": "code",
   "execution_count": 101,
   "id": "ae639fb6-f821-4499-9f1c-85192023ab6f",
   "metadata": {},
   "outputs": [
    {
     "data": {
      "text/plain": [
       "np.float64(180921.19589041095)"
      ]
     },
     "execution_count": 101,
     "metadata": {},
     "output_type": "execute_result"
    }
   ],
   "source": [
    "global_mean"
   ]
  },
  {
   "cell_type": "markdown",
   "id": "92dcdf5a-ce0b-4cf1-8727-e54e7cf1724f",
   "metadata": {},
   "source": [
    "The value for y_test_xgboost seems a lot more in line with the global_mean value from the train dataset, let's go with it and save it to a csv."
   ]
  },
  {
   "cell_type": "code",
   "execution_count": 102,
   "id": "93e4b808-36f4-407f-8b73-3f3532ba97ee",
   "metadata": {},
   "outputs": [],
   "source": [
    "def create_csv(model, y_test):\n",
    "    pd.DataFrame({\n",
    "        \"Id\": ids,\n",
    "        \"SalePrice\": y_test\n",
    "    }).to_csv(f\"submission_{model}.csv\", index=False)"
   ]
  },
  {
   "cell_type": "code",
   "execution_count": 103,
   "id": "dca2265c-07f4-4342-9d3a-c10e062c9b24",
   "metadata": {},
   "outputs": [],
   "source": [
    "create_csv(\"xgboost\", y_test_xgboost)"
   ]
  },
  {
   "cell_type": "markdown",
   "id": "6aed1136-b312-4d05-af4e-6e644e11ef06",
   "metadata": {},
   "source": [
    "Now we are done and can take a break."
   ]
  },
  {
   "cell_type": "markdown",
   "id": "e4c5d675-3a5d-49da-9c17-09a1c476df67",
   "metadata": {},
   "source": [
    "### All models"
   ]
  },
  {
   "cell_type": "markdown",
   "id": "229cc4ff-7932-4718-8877-b330782b532a",
   "metadata": {},
   "source": [
    "In case you wanted to use other models."
   ]
  },
  {
   "cell_type": "code",
   "execution_count": 104,
   "id": "c5f92e0b-7760-4dc5-9f54-4e019513f25b",
   "metadata": {},
   "outputs": [],
   "source": [
    "predictions = {\n",
    "    \"linear_regression\": linear_regression,\n",
    "    \"ridge_regression\": ridge_regression,\n",
    "    \"polynomial_regression\": polynomial_regression,\n",
    "    \"random_forest\": random_forest,\n",
    "    \"xgboost\": xgboost\n",
    "}\n",
    "\n",
    "# before making predictions with polynomial_regression, you need to transform X_test into polynomial features\n",
    "X_test_polynomial_regression = polynomial_features.transform(X_test)\n",
    "\n",
    "polynomial_regression = LinearRegression()\n",
    "polynomial_regression.fit(X_train_polynomial_regression, y_train)\n",
    "\n",
    "for model in [\"linear_regression\", \"ridge_regression\", \"polynomial_regression\", \"random_forest\", \"xgboost\"]:\n",
    "    create_csv(model, predictions[model].predict(X_test_polynomial_regression if model == \"polynomial_regression\" else X_test))"
   ]
  }
 ],
 "metadata": {
  "kernelspec": {
   "display_name": "Python 3",
   "language": "python",
   "name": "python3"
  },
  "language_info": {
   "codemirror_mode": {
    "name": "ipython",
    "version": 3
   },
   "file_extension": ".py",
   "mimetype": "text/x-python",
   "name": "python",
   "nbconvert_exporter": "python",
   "pygments_lexer": "ipython3",
   "version": "3.10.15"
  }
 },
 "nbformat": 4,
 "nbformat_minor": 5
}
